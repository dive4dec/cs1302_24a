{
 "cells": [
  {
   "cell_type": "markdown",
   "id": "a48e3e70",
   "metadata": {
    "slideshow": {
     "slide_type": "slide"
    }
   },
   "source": [
    "---\n",
    "title: Associative Containers\n",
    "abstract: |\n",
    "    Associative containers allow programmers to store and retrieve values using keys that are not restricted to consecutive integers starting from 0. Python’s dictionary and set will be introduced as examples of associative containers. Similar to sequence types, readers will learn how to construct these containers using enclosure and comprehension, access their keys and values, and utilize various methods to operate on them. To explain the near constant-time lookups, the idea of hashing will be introduced, along with the issues of hash collisions, the basic conflict resolution strategy, and the intricate relationship between hashability and immutability.\n",
    "---"
   ]
  },
  {
   "cell_type": "code",
   "execution_count": null,
   "id": "a4173d3f",
   "metadata": {},
   "outputs": [],
   "source": [
    "from __init__ import install_dependencies\n",
    "\n",
    "await install_dependencies()"
   ]
  },
  {
   "cell_type": "code",
   "execution_count": null,
   "id": "52c5f308",
   "metadata": {
    "slideshow": {
     "slide_type": "fragment"
    },
    "tags": [
     "remove-cell"
    ]
   },
   "outputs": [],
   "source": [
    "import random\n",
    "\n",
    "import matplotlib.pyplot as plt\n",
    "\n",
    "%matplotlib widget\n",
    "%reload_ext divewidgets\n",
    "%load_ext jupyter_ai\n",
    "%ai update chatgpt dive:chat"
   ]
  },
  {
   "cell_type": "markdown",
   "id": "f360648d",
   "metadata": {
    "slideshow": {
     "slide_type": "slide"
    }
   },
   "source": [
    "## Motivation"
   ]
  },
  {
   "cell_type": "markdown",
   "id": "edb0c5be",
   "metadata": {
    "slideshow": {
     "slide_type": "fragment"
    }
   },
   "source": [
    "The following code simulates the outcomes of rolling a die multiple times."
   ]
  },
  {
   "cell_type": "code",
   "execution_count": null,
   "id": "134b4ec9",
   "metadata": {
    "slideshow": {
     "slide_type": "-"
    }
   },
   "outputs": [],
   "source": [
    "dice_rolls = [random.randint(1, 6) for i in range(10)]\n",
    "print(*dice_rolls)"
   ]
  },
  {
   "cell_type": "markdown",
   "id": "86c26c35",
   "metadata": {
    "slideshow": {
     "slide_type": "fragment"
    }
   },
   "source": [
    "**What is the distribution?**"
   ]
  },
  {
   "cell_type": "code",
   "execution_count": null,
   "id": "45ea8691",
   "metadata": {
    "slideshow": {
     "slide_type": "-"
    }
   },
   "outputs": [],
   "source": [
    "plt.figure(1, clear=True)\n",
    "distribution = [dice_rolls.count(i) / len(dice_rolls) for i in range(7)]\n",
    "plt.stem(range(7), distribution)\n",
    "plt.xlabel(\"Outcomes\")\n",
    "plt.title(\"Distribution\")\n",
    "plt.ylim(0, 1)\n",
    "plt.show()"
   ]
  },
  {
   "cell_type": "markdown",
   "id": "efaca166",
   "metadata": {
    "slideshow": {
     "slide_type": "fragment"
    }
   },
   "source": [
    "In the above code, `distribution[i]` stores the fractional count of outcome `i`."
   ]
  },
  {
   "cell_type": "markdown",
   "id": "441abf86",
   "metadata": {
    "slideshow": {
     "slide_type": "fragment"
    }
   },
   "source": [
    "However, `distribution[0]` is `0` because a dice does not have outcome `0`. Can we avoid such redundancy?"
   ]
  },
  {
   "cell_type": "code",
   "execution_count": null,
   "id": "f42e060f",
   "metadata": {
    "slideshow": {
     "slide_type": "-"
    }
   },
   "outputs": [],
   "source": [
    "distinct_outcomes = [\n",
    "    outcome for outcome in range(1, 7) if dice_rolls.count(outcome) > 0\n",
    "]\n",
    "distribution = [\n",
    "    dice_rolls.count(distinct_outcomes[i]) / len(dice_rolls)\n",
    "    for i in range(len(distinct_outcomes))\n",
    "]\n",
    "\n",
    "plt.figure(1, clear=True)\n",
    "plt.stem(distinct_outcomes, distribution)\n",
    "plt.xlabel(\"Outcomes\")\n",
    "plt.title(\"Distribution\")\n",
    "plt.ylim(0, 1)\n",
    "plt.show()"
   ]
  },
  {
   "cell_type": "markdown",
   "id": "a783701d",
   "metadata": {
    "slideshow": {
     "slide_type": "fragment"
    }
   },
   "source": [
    "In the above code, \n",
    "- `distinct_outcomes` stores the list of distinct outcomes, and\n",
    "- `distribution[distinct_outcomes[i]]` stores the fractional count of the `i`-th distinct outcome."
   ]
  },
  {
   "cell_type": "markdown",
   "id": "d0342522",
   "metadata": {
    "slideshow": {
     "slide_type": "subslide"
    }
   },
   "source": [
    "**What about finding the distribution of characters in an article?**\n",
    "\n",
    "There are over 1 million unicode characters. Can we:\n",
    "\n",
    "- Obtain the distribution efficiently without creating an entry for each unicode character?\n",
    "- Compute the set of distinct characters efficiently without iterating over the set of all unicode characters?\n",
    "- Access the fractional count of a particular character efficiently without searching through the list of distinct outcomes?\n",
    "- Index `distribution` directly by the distinct characters in the article?"
   ]
  },
  {
   "cell_type": "markdown",
   "id": "b8d5cea4",
   "metadata": {
    "slideshow": {
     "slide_type": "fragment"
    }
   },
   "source": [
    "It is desirable to have a composite data type that\n",
    "- can keep a set of *unique keys of different types* (such as the characters in our example), and\n",
    "- associate to different keys possibly different *values of any types* (such as the fractional counts of the characters).\n",
    "\n",
    "Such a data structure is called an [associative container](https://en.wikipedia.org/wiki/Associative_containers)."
   ]
  },
  {
   "cell_type": "markdown",
   "id": "d78f091a",
   "metadata": {
    "slideshow": {
     "slide_type": "slide"
    }
   },
   "source": [
    "## Construction"
   ]
  },
  {
   "cell_type": "markdown",
   "id": "710b235c",
   "metadata": {
    "slideshow": {
     "slide_type": "fragment"
    }
   },
   "source": [
    "In Python, there are two built-in classes for associative containers:\n",
    "- `set` can store unique keys of possibly different types.\n",
    "- `dict`ionary can store a set of key-value pairs."
   ]
  },
  {
   "cell_type": "markdown",
   "id": "99953174",
   "metadata": {
    "slideshow": {
     "slide_type": "fragment"
    }
   },
   "source": [
    "We have already used sets and dictionaries before."
   ]
  },
  {
   "cell_type": "code",
   "execution_count": null,
   "id": "e0b72c4b",
   "metadata": {
    "slideshow": {
     "slide_type": "-"
    }
   },
   "outputs": [],
   "source": [
    "%%optlite -h 400\n",
    "a = (lambda **kwargs: kwargs)(start=0, stop=5, step=1)\n",
    "b = set([1, 1, 2, 3, 3, 3])\n",
    "assert len(a) == len(b)"
   ]
  },
  {
   "cell_type": "markdown",
   "id": "934651d3",
   "metadata": {
    "slideshow": {
     "slide_type": "fragment"
    }
   },
   "source": [
    "Both `set` and `dict` implement the `len` method that returns the number of keys. They are mutable, so we can add/remove keys and values and modify their object references."
   ]
  },
  {
   "cell_type": "markdown",
   "id": "b01d825e",
   "metadata": {
    "slideshow": {
     "slide_type": "fragment"
    }
   },
   "source": [
    "Similar to tuple/list, we can create a set/dictionary using enclosure and comprehension."
   ]
  },
  {
   "cell_type": "markdown",
   "id": "29f754ab",
   "metadata": {},
   "source": [
    "### Enclosure"
   ]
  },
  {
   "cell_type": "markdown",
   "id": "1da1f82a",
   "metadata": {},
   "source": [
    "For `dict`, enclose a comma-separated sequence of `key : value` pairs by braces `{` and `}`."
   ]
  },
  {
   "cell_type": "code",
   "execution_count": null,
   "id": "90d6763e",
   "metadata": {
    "slideshow": {
     "slide_type": "-"
    }
   },
   "outputs": [],
   "source": [
    "%%optlite -h 400\n",
    "empty_dictionary = {}\n",
    "a = {\"a\": 0, \"b\": 1}\n",
    "b = {**a, \"c\": 0, \"d\": 1}"
   ]
  },
  {
   "cell_type": "markdown",
   "id": "601d9959",
   "metadata": {
    "slideshow": {
     "slide_type": "fragment"
    }
   },
   "source": [
    "For `set`, omit `: value`."
   ]
  },
  {
   "cell_type": "code",
   "execution_count": null,
   "id": "2704cb50",
   "metadata": {
    "slideshow": {
     "slide_type": "-"
    }
   },
   "outputs": [],
   "source": [
    "%%optlite -h 300\n",
    "a = {(1, 2.0), print, *range(2), *\"23\"}\n",
    "empty_set = {*()}  # Why not use {}?"
   ]
  },
  {
   "cell_type": "markdown",
   "id": "48ccb286",
   "metadata": {
    "slideshow": {
     "slide_type": "subslide"
    }
   },
   "source": [
    "We can also create a set/dictionary from other objects using their constructors `set`/`dict`."
   ]
  },
  {
   "cell_type": "code",
   "execution_count": null,
   "id": "9b6d8813",
   "metadata": {
    "slideshow": {
     "slide_type": "-"
    }
   },
   "outputs": [],
   "source": [
    "%%optlite -l -h 550\n",
    "empty_set = set()\n",
    "string2set = set(\"abc\")\n",
    "range2set = set(range(2))\n",
    "list2set = set([\"abc\", range(2)])\n",
    "set2set = set(list2set)"
   ]
  },
  {
   "cell_type": "code",
   "execution_count": null,
   "id": "2f9356db",
   "metadata": {
    "slideshow": {
     "slide_type": "fragment"
    }
   },
   "outputs": [],
   "source": [
    "%%optlite -l -h 650\n",
    "empty_dict = dict()\n",
    "enumerate2dict = dict(enumerate(\"abc\"))\n",
    "zip2dict = dict(zip(\"abc\", \"123\"))\n",
    "kwargs2dict = dict(one=1, two=2)\n",
    "dict2dict = dict(kwargs2dict)"
   ]
  },
  {
   "cell_type": "markdown",
   "id": "54477f5e",
   "metadata": {
    "slideshow": {
     "slide_type": "subslide"
    }
   },
   "source": [
    "::::{exercise}\n",
    ":label: ex:ds1\n",
    "\n",
    "`dict` also has a [*class method* `fromkeys`](https://docs.python.org/3/library/stdtypes.html#dict.fromkeys) to construct a dictionary with keys from iterable pointing to a default value. Create a dictionary using `fromkeys` with keys being the non-negative integers smaller than `100` and values being `0`. \n",
    "\n",
    ":::{hint}\n",
    ":class: dropdown\n",
    "\n",
    "Use `dict.fromkeys` since a class method is bound to the class rather than an object of the class.\n",
    ":::\n",
    "\n",
    "::::"
   ]
  },
  {
   "cell_type": "code",
   "execution_count": null,
   "id": "0969f650",
   "metadata": {
    "deletable": false,
    "nbgrader": {
     "cell_type": "code",
     "checksum": "3d9dd062166d4ca7f62cb12585123dca",
     "grade": false,
     "grade_id": "fromkeys",
     "locked": false,
     "schema_version": 3,
     "solution": true,
     "task": false
    }
   },
   "outputs": [],
   "source": [
    "dict.fromkeys?\n",
    "# YOUR CODE HERE\n",
    "raise NotImplementedError\n",
    "\n",
    "# test\n",
    "assert all(fromkeys_dict[k] == 0 for k in fromkeys_dict)"
   ]
  },
  {
   "cell_type": "markdown",
   "id": "a5a22e1f",
   "metadata": {
    "slideshow": {
     "slide_type": "subslide"
    }
   },
   "source": [
    "### Comprehension"
   ]
  },
  {
   "cell_type": "markdown",
   "id": "d0e79948",
   "metadata": {
    "slideshow": {
     "slide_type": "fragment"
    }
   },
   "source": [
    "The following function uses a one-line dictionary comprehension to return the distribution of items in a sequence:"
   ]
  },
  {
   "cell_type": "code",
   "execution_count": null,
   "id": "8b9ff477",
   "metadata": {},
   "outputs": [],
   "source": [
    "def distribute(seq):\n",
    "    return {k: seq.count(k) / len(seq) for k in set(seq)}"
   ]
  },
  {
   "cell_type": "code",
   "execution_count": null,
   "id": "99612c54",
   "metadata": {},
   "outputs": [],
   "source": [
    "def plot_distribution(seq, fig_num=None):\n",
    "    dist = distribute(seq)\n",
    "    plt.figure(fig_num, clear=True)\n",
    "    plt.stem(\n",
    "        dist.keys(),  # set-like view of the keys\n",
    "        dist.values(),  # view of the values\n",
    "    )\n",
    "    plt.xlabel(\"Items\")\n",
    "    plt.title(\"Distribution\")\n",
    "    plt.ylim(0, 1)\n",
    "    plt.show()\n",
    "\n",
    "\n",
    "plot_distribution(\"What is the distribution of different characters?\", 2)"
   ]
  },
  {
   "cell_type": "markdown",
   "id": "05862c05",
   "metadata": {
    "slideshow": {
     "slide_type": "subslide"
    }
   },
   "source": [
    "- The object methods `keys` and `values` provide a dynamic [view](https://docs.python.org/3/glossary.html#term-dictionary-view) of the keys.  \n",
    "- Unlike a copy, subsequent changes to the dictionary are also reflected in a previously returned view.\n",
    "- `items` provides a set-like view of the key-value pairs."
   ]
  },
  {
   "cell_type": "code",
   "execution_count": null,
   "id": "b58de70f",
   "metadata": {
    "slideshow": {
     "slide_type": "-"
    }
   },
   "outputs": [],
   "source": [
    "%%optlite -h 500\n",
    "a = dict(enumerate(\"abc\"))\n",
    "views = a.keys(), a.values(), a.items()\n",
    "print(a.pop(1))  # remove the key 1 and its associated value\n",
    "print(a.popitem())  # remove and return one key-value pair\n",
    "a.clear()  # clear the dictionary"
   ]
  },
  {
   "cell_type": "markdown",
   "id": "12a73471",
   "metadata": {
    "slideshow": {
     "slide_type": "subslide"
    }
   },
   "source": [
    "`set` has `pop` and `clear` but not `popitem`. However, `set.pop` behaves like `dict.popitem` instead of `dict.pop`."
   ]
  },
  {
   "cell_type": "code",
   "execution_count": null,
   "id": "36a03485",
   "metadata": {
    "slideshow": {
     "slide_type": "-"
    }
   },
   "outputs": [],
   "source": [
    "%%optlite -h 250\n",
    "a = set(\"abc\")\n",
    "print(a.pop())  # remove and return an element\n",
    "a.clear()  # clear the set"
   ]
  },
  {
   "cell_type": "markdown",
   "id": "a7adb556",
   "metadata": {
    "slideshow": {
     "slide_type": "fragment"
    }
   },
   "source": [
    "::::{exercise}\n",
    ":label: ex:ds2\n",
    "\n",
    "Use at most one comprehension in one line to return a set of composite numbers smaller than `stop`.  \n",
    "\n",
    ":::{hint}\n",
    ":class: dropdown\n",
    "\n",
    "You do not need to worry about duplicate elements for `set`.\n",
    ":::\n",
    "\n",
    "::::"
   ]
  },
  {
   "cell_type": "code",
   "execution_count": null,
   "id": "fb6e927b",
   "metadata": {
    "deletable": false,
    "nbgrader": {
     "cell_type": "code",
     "checksum": "91ee703f85dbd991d8895f8f8d6be7fb",
     "grade": false,
     "grade_id": "set-comprehension",
     "locked": false,
     "schema_version": 3,
     "solution": true,
     "task": false
    },
    "slideshow": {
     "slide_type": "-"
    }
   },
   "outputs": [],
   "source": [
    "def composite_set(stop):\n",
    "    # YOUR CODE HERE\n",
    "    raise NotImplementedError\n",
    "\n",
    "\n",
    "print(*sorted(composite_set(100)))"
   ]
  },
  {
   "cell_type": "markdown",
   "id": "62acf935",
   "metadata": {
    "slideshow": {
     "slide_type": "slide"
    }
   },
   "source": [
    "## Fast access to items"
   ]
  },
  {
   "cell_type": "markdown",
   "id": "063519fc",
   "metadata": {
    "slideshow": {
     "slide_type": "slide"
    }
   },
   "source": [
    "### Hashing"
   ]
  },
  {
   "cell_type": "markdown",
   "id": "1c55f8db",
   "metadata": {},
   "source": [
    "Why are some keys missing in the following dictionary/set?"
   ]
  },
  {
   "cell_type": "code",
   "execution_count": null,
   "id": "4b04c8c7",
   "metadata": {
    "slideshow": {
     "slide_type": "fragment"
    }
   },
   "outputs": [],
   "source": [
    "%%optlite -h 350\n",
    "a = {0: \"a\", 0.0: \"b\", 2: \"b\"}\n",
    "b = {0j, 0, 0.0, \"\", False}\n",
    "assert 0 == 0.0 == 0j == False != \"\""
   ]
  },
  {
   "cell_type": "markdown",
   "id": "cede6a83",
   "metadata": {
    "slideshow": {
     "slide_type": "fragment"
    }
   },
   "source": [
    "```{caution}\n",
    "\n",
    "For `set` and `dict`, identical keys are merged to the same entry even though values associated with different keys in `dict` can be the same.\n",
    "```"
   ]
  },
  {
   "cell_type": "markdown",
   "id": "6b4e0e17",
   "metadata": {
    "slideshow": {
     "slide_type": "fragment"
    }
   },
   "source": [
    "Associative containers are implemented as *hash tables* for efficient lookup of keys."
   ]
  },
  {
   "cell_type": "markdown",
   "id": "f374b42d",
   "metadata": {
    "slideshow": {
     "slide_type": "-"
    }
   },
   "source": [
    "::::{card}\n",
    ":header: Hash Tables\n",
    ":footer: [(open in new tab)](https://www.youtube.com/embed/LPzN8jgbnvA)\n",
    "\n",
    ":::{iframe} https://www.youtube.com/embed/LPzN8jgbnvA\n",
    ":align: center\n",
    ":width: 100%\n",
    "\n",
    ":::\n",
    "\n",
    "::::"
   ]
  },
  {
   "cell_type": "markdown",
   "id": "ce4132d5",
   "metadata": {
    "slideshow": {
     "slide_type": "subslide"
    }
   },
   "source": [
    "::::{important} A key for `dict` or `set` must be [hashable](https://docs.python.org/3/glossary.html#term-hashable):\n",
    "\n",
    "- It has a hash value (returned by `__hash__` method) that never changes during its lifetime, and\n",
    "- can be compared (using `__eq__` method) to other objects. *Hashable objects which are equal must have the same hash value.*\n",
    "::::"
   ]
  },
  {
   "cell_type": "markdown",
   "id": "643c2b9e",
   "metadata": {
    "slideshow": {
     "slide_type": "fragment"
    }
   },
   "source": [
    "Python also uses dictionaries to implement global/local frames, and [hash collisions can slow down the lookup process](https://stackoverflow.com/questions/8271139/why-is-early-return-slower-than-else)."
   ]
  },
  {
   "cell_type": "markdown",
   "id": "de003785",
   "metadata": {},
   "source": [
    "**What are hashable?**"
   ]
  },
  {
   "cell_type": "code",
   "execution_count": null,
   "id": "dd743698",
   "metadata": {
    "slideshow": {
     "slide_type": "-"
    }
   },
   "outputs": [],
   "source": [
    "def hashable(obj):\n",
    "    try:\n",
    "        hash(obj)\n",
    "    except Exception:\n",
    "        return False\n",
    "    return True\n",
    "\n",
    "\n",
    "for i in 0, 0.0, 0j, \"\", False, (), [], {}, set(), frozenset(), ([],):\n",
    "    if hashable(i):\n",
    "        print(\"{} may be hashable. E.g., hash({!r}) == {}\".format(type(i), i, hash(i)))\n",
    "    else:\n",
    "        print(\"{} may not be hashable.\".format(type(i)))"
   ]
  },
  {
   "cell_type": "markdown",
   "id": "5ca37143",
   "metadata": {},
   "source": [
    "`set` has an immutable counterpart called `frozenset`, which is hashable."
   ]
  },
  {
   "cell_type": "code",
   "execution_count": null,
   "id": "7734caf7",
   "metadata": {},
   "outputs": [],
   "source": [
    "hashable(frozenset())"
   ]
  },
  {
   "cell_type": "markdown",
   "id": "b4050ee9",
   "metadata": {
    "slideshow": {
     "slide_type": "subslide"
    }
   },
   "source": [
    "::::{exercise}\n",
    ":label: ex:ds3\n",
    "\n",
    "Why is it necessary for equal objects to have the same hash? Why is it possible for different objects to have the same hash?\n",
    "\n",
    "::::"
   ]
  },
  {
   "cell_type": "code",
   "execution_count": null,
   "id": "630f0c0f",
   "metadata": {
    "slideshow": {
     "slide_type": "-"
    }
   },
   "outputs": [],
   "source": [
    "assert 0 == 0.0 == 0j == False != \"\"\n",
    "assert hash(0) == hash(0.0) == hash(0j) == hash(False) == hash(\"\")"
   ]
  },
  {
   "cell_type": "markdown",
   "id": "f5049b28",
   "metadata": {
    "deletable": false,
    "nbgrader": {
     "cell_type": "markdown",
     "checksum": "adf072b79eaf2435c5d737941c8d2820",
     "grade": true,
     "grade_id": "hash-collision",
     "locked": false,
     "points": 0,
     "schema_version": 3,
     "solution": true,
     "task": false
    },
    "slideshow": {
     "slide_type": "-"
    }
   },
   "source": [
    "YOUR ANSWER HERE"
   ]
  },
  {
   "cell_type": "markdown",
   "id": "aaf1ca6f",
   "metadata": {},
   "source": [
    "::::{exercise}\n",
    ":label: ex:ds4\n",
    "\n",
    "Should an immutable object always be hashable?\n",
    "\n",
    "::::"
   ]
  },
  {
   "cell_type": "markdown",
   "id": "21168f5d",
   "metadata": {
    "deletable": false,
    "nbgrader": {
     "cell_type": "markdown",
     "checksum": "f89abcb07d247740b1738c198917c5f3",
     "grade": true,
     "grade_id": "immutable_vs_hashable",
     "locked": false,
     "points": 0,
     "schema_version": 3,
     "solution": true,
     "task": false
    }
   },
   "source": [
    "YOUR ANSWER HERE"
   ]
  },
  {
   "cell_type": "markdown",
   "id": "86c9538c",
   "metadata": {},
   "source": [
    "::::{exercise}\n",
    ":label: ex:ds5\n",
    "\n",
    "Should we use the `id` of an object as its hash value?\n",
    "\n",
    "::::"
   ]
  },
  {
   "cell_type": "markdown",
   "id": "49bb4873",
   "metadata": {
    "deletable": false,
    "nbgrader": {
     "cell_type": "markdown",
     "checksum": "9b9d49c6f8e142727bd52ccd8fd93e2f",
     "grade": true,
     "grade_id": "id_vs_hash",
     "locked": false,
     "points": 0,
     "schema_version": 3,
     "solution": true,
     "task": false
    }
   },
   "source": [
    "YOUR ANSWER HERE"
   ]
  },
  {
   "cell_type": "code",
   "execution_count": null,
   "id": "74ba0a44",
   "metadata": {},
   "outputs": [],
   "source": [
    "%%ai chatgpt -f text\n",
    "Why most mutable objects are not hashable?"
   ]
  },
  {
   "cell_type": "code",
   "execution_count": null,
   "id": "4ee348b0",
   "metadata": {},
   "outputs": [],
   "source": [
    "%%ai chatgpt -f text\n",
    "Why `dict` does not have any immutable counterpart but `set` has an immutable\n",
    "counterpart called `frozenset`?"
   ]
  },
  {
   "cell_type": "markdown",
   "id": "b67c4a2d",
   "metadata": {},
   "source": [
    "### Selection"
   ]
  },
  {
   "cell_type": "markdown",
   "id": "f059e01f",
   "metadata": {
    "slideshow": {
     "slide_type": "subslide"
    }
   },
   "source": [
    "**How to traverse a set/dictionary?**"
   ]
  },
  {
   "cell_type": "markdown",
   "id": "61383120",
   "metadata": {
    "slideshow": {
     "slide_type": "fragment"
    }
   },
   "source": [
    "Set and dictionaries are iterable:"
   ]
  },
  {
   "cell_type": "code",
   "execution_count": null,
   "id": "44e245f5",
   "metadata": {
    "slideshow": {
     "slide_type": "-"
    }
   },
   "outputs": [],
   "source": [
    "%%optlite -h 500\n",
    "s = set(\"abcde\")\n",
    "d = dict(enumerate(\"abcde\"))\n",
    "print(*(element for element in s))\n",
    "print(*((k, d[k]) for k in d))\n",
    "s[0]  # TypeError"
   ]
  },
  {
   "cell_type": "markdown",
   "id": "e6357797",
   "metadata": {
    "slideshow": {
     "slide_type": "fragment"
    }
   },
   "source": [
    "::::{note}\n",
    "\n",
    "- `set` is not ordered.\n",
    "- `dict` is [insertion-ordered since python 3.7](https://mail.python.org/pipermail/python-dev/2017-December/151283.html).\n",
    "- `dict` is subscriptable. E.g., `d[k]` gives the value in dictionary `d` associated with key `k`.\n",
    "- `set` does not implement [`__getitem__`](https://docs.python.org/3/reference/datamodel.html#object.__getitem__) and is therefore not subscriptable.\n",
    "::::"
   ]
  },
  {
   "cell_type": "markdown",
   "id": "0d18a840",
   "metadata": {
    "slideshow": {
     "slide_type": "fragment"
    }
   },
   "source": [
    "The above raises `KeyError` because `-1` is not a key in the dictionary `b`."
   ]
  },
  {
   "cell_type": "markdown",
   "id": "0f60b7ed",
   "metadata": {
    "slideshow": {
     "slide_type": "fragment"
    }
   },
   "source": [
    "Dictionary implements the [`__setitem__`](https://docs.python.org/3/reference/simple_stmts.html#assignment-statements) method so we can enter a key-value pair to a dictionary using the assignment operator."
   ]
  },
  {
   "cell_type": "code",
   "execution_count": null,
   "id": "b84d80b4",
   "metadata": {
    "slideshow": {
     "slide_type": "-"
    }
   },
   "outputs": [],
   "source": [
    "%%optlite -h 400\n",
    "d = {}\n",
    "d[-1] = d\n",
    "del d[-1]\n",
    "d[-1]"
   ]
  },
  {
   "cell_type": "markdown",
   "id": "9c57e7f2",
   "metadata": {},
   "source": [
    "::::{caution}\n",
    "\n",
    "`del d[k]` deletes the object reference at `d[k]`, not the object referenced by `d[k]`. \n",
    "::::"
   ]
  },
  {
   "cell_type": "markdown",
   "id": "6064bfa2",
   "metadata": {
    "slideshow": {
     "slide_type": "subslide"
    }
   },
   "source": [
    "To avoid `KeyError`, we can check if a key is in a dictionary efficiently (due to hashing) using the `in` operator.  \n",
    "The following is a different implementation of `distribute`."
   ]
  },
  {
   "cell_type": "code",
   "execution_count": null,
   "id": "14a41164",
   "metadata": {
    "slideshow": {
     "slide_type": "-"
    }
   },
   "outputs": [],
   "source": [
    "def distribute(seq):\n",
    "    dist = {}\n",
    "    for i in seq:\n",
    "        dist[i] = (dist[i] if i in dist else 0) + 1 / len(seq)\n",
    "    return dist\n",
    "\n",
    "\n",
    "plot_distribution(\"What is the distribution of different characters?\", 3)"
   ]
  },
  {
   "cell_type": "markdown",
   "id": "c3ed6f65",
   "metadata": {
    "slideshow": {
     "slide_type": "subslide"
    }
   },
   "source": [
    "::::{exercise}\n",
    ":label: ex:ds6\n",
    "\n",
    " Unlike the previous implementation using one-line dictionary comprehension, the above alternative implementation uses multiple lines of code to build the dictionary incrementally, starting from an empty dictionary.\n",
    "```python\n",
    "def distribute(seq):\n",
    "    return {k : seq.count(k)/len(seq) for k in set(seq)}\n",
    "```\n",
    "Explain whether the alternative implementation is more efficient.\n",
    "\n",
    "::::"
   ]
  },
  {
   "cell_type": "markdown",
   "id": "61bafd39",
   "metadata": {
    "deletable": false,
    "nbgrader": {
     "cell_type": "markdown",
     "checksum": "09bc91c5072c1d5d05c816039ba7a04a",
     "grade": true,
     "grade_id": "efficient-distribution",
     "locked": false,
     "points": 0,
     "schema_version": 3,
     "solution": true,
     "task": false
    },
    "slideshow": {
     "slide_type": "-"
    }
   },
   "source": [
    "YOUR ANSWER HERE"
   ]
  },
  {
   "cell_type": "markdown",
   "id": "f6cdaf8c",
   "metadata": {
    "slideshow": {
     "slide_type": "subslide"
    }
   },
   "source": [
    "::::{exercise}\n",
    ":label: ex:ds7\n",
    "\n",
    " `dict` also has a getter method `get` that conveniently returns a default value if the key does not exist. Rewrite the alternative implementation of `distribute` to use `get` instead of `in`.\n",
    "\n",
    "::::"
   ]
  },
  {
   "cell_type": "code",
   "execution_count": null,
   "id": "9bc970a8",
   "metadata": {
    "deletable": false,
    "nbgrader": {
     "cell_type": "code",
     "checksum": "7442c8ec5c00af4c674bf4107571efa4",
     "grade": false,
     "grade_id": "get",
     "locked": false,
     "schema_version": 3,
     "solution": true,
     "task": false
    },
    "slideshow": {
     "slide_type": "-"
    }
   },
   "outputs": [],
   "source": [
    "dict.get?\n",
    "def distribute(seq):\n",
    "    dist = {}\n",
    "    for i in seq:\n",
    "        # YOUR CODE HERE\n",
    "        raise NotImplementedError\n",
    "    return dist\n",
    "\n",
    "\n",
    "plot_distribution(\"What is the distribution of different characters?\", 4)"
   ]
  },
  {
   "cell_type": "markdown",
   "id": "e33aca8b",
   "metadata": {
    "slideshow": {
     "slide_type": "fragment"
    }
   },
   "source": [
    "We can apply the function `sorted` to a set/dictionary to return a sorted list of the keys."
   ]
  },
  {
   "cell_type": "code",
   "execution_count": null,
   "id": "a81bb233",
   "metadata": {
    "slideshow": {
     "slide_type": "-"
    }
   },
   "outputs": [],
   "source": [
    "%%optlite -h 600\n",
    "a = set(reversed(\"abcde\"))\n",
    "b = dict(reversed([*enumerate(\"abcde\")]))\n",
    "sorted_elements = sorted(a)\n",
    "sorted_keys = sorted(b)"
   ]
  },
  {
   "cell_type": "markdown",
   "id": "bb7f463e",
   "metadata": {
    "slideshow": {
     "slide_type": "subslide"
    }
   },
   "source": [
    "::::{exercise}\n",
    ":label: ex:ds8\n",
    "\n",
    " Re-implement `plot_distribution` to plot the distribution in ascending order of the keys.\n",
    "\n",
    ":::{hint}\n",
    ":class: dropdown\n",
    "\n",
    "Use the optional argument `key` of the function `sorted`.\n",
    ":::\n",
    "\n",
    "::::"
   ]
  },
  {
   "cell_type": "code",
   "execution_count": null,
   "id": "ee650c7e",
   "metadata": {
    "deletable": false,
    "nbgrader": {
     "cell_type": "code",
     "checksum": "a8990b30ea54cfa3a5575b576342a98a",
     "grade": false,
     "grade_id": "sorted-keys",
     "locked": false,
     "schema_version": 3,
     "solution": true,
     "task": false
    },
    "slideshow": {
     "slide_type": "-"
    }
   },
   "outputs": [],
   "source": [
    "def plot_distribution(seq, fig_num=None):\n",
    "    dist = distribute(seq)\n",
    "    plt.figure(fig_num, clear=True)\n",
    "    # plt.stem(dist.keys(), dist.values())\n",
    "    # YOUR CODE HERE\n",
    "    raise NotImplementedError\n",
    "    plt.xlabel(\"Items\")\n",
    "    plt.title(\"Distribution\")\n",
    "    plt.ylim(0, 1)\n",
    "    plt.show()\n",
    "\n",
    "\n",
    "plot_distribution(\"What is the distribution of different characters?\", 5)"
   ]
  },
  {
   "cell_type": "markdown",
   "id": "6989dc1f",
   "metadata": {
    "slideshow": {
     "slide_type": "fragment"
    }
   },
   "source": [
    "Instead of subscription, `set` has the `add`/`discard`/`remove` methods for adding/removing elements."
   ]
  },
  {
   "cell_type": "code",
   "execution_count": null,
   "id": "83a524fc",
   "metadata": {
    "slideshow": {
     "slide_type": "-"
    }
   },
   "outputs": [],
   "source": [
    "%%optlite -h 400\n",
    "a = set(\"abc\")\n",
    "a.add(\"d\")\n",
    "a.discard(\"a\")\n",
    "a.remove(\"b\")\n",
    "a.clear()\n",
    "a.discard(\"a\")  # no error\n",
    "a.remove(\"b\")  # KeyError"
   ]
  },
  {
   "cell_type": "code",
   "execution_count": null,
   "id": "45ac5c6e",
   "metadata": {},
   "outputs": [],
   "source": [
    "%%ai chatgpt -f text\n",
    "Identify and explain any errors below:\n",
    "--\n",
    "a = set(\"abc\")\n",
    "a.add(\"d\")\n",
    "a.discard(\"a\")\n",
    "a.remove(\"b\")\n",
    "a.clear()\n",
    "a.discard(\"a\")\n",
    "a.remove(\"b\")"
   ]
  },
  {
   "cell_type": "code",
   "execution_count": null,
   "id": "1bf93bb4",
   "metadata": {},
   "outputs": [],
   "source": [
    "%%ai chatgpt -f text\n",
    "Explain the differences between discard, remove, and del."
   ]
  },
  {
   "cell_type": "markdown",
   "id": "70385894",
   "metadata": {
    "slideshow": {
     "slide_type": "slide"
    }
   },
   "source": [
    "## Methods"
   ]
  },
  {
   "cell_type": "markdown",
   "id": "f4e4b7a9",
   "metadata": {
    "slideshow": {
     "slide_type": "subslide"
    }
   },
   "source": [
    "Unlike `str`/`tuple`/`list`, `set` and `dict` do not implement addition `+` and multiplication `*`:"
   ]
  },
  {
   "cell_type": "code",
   "execution_count": null,
   "id": "74127b07",
   "metadata": {
    "slideshow": {
     "slide_type": "-"
    }
   },
   "outputs": [],
   "source": [
    "any(\n",
    "    hasattr(container, attr)\n",
    "    for attr in (\"__add__\", \"__mult__\")\n",
    "    for container in (dict, set, frozenset)\n",
    ")"
   ]
  },
  {
   "cell_type": "markdown",
   "id": "9730b342",
   "metadata": {
    "slideshow": {
     "slide_type": "subslide"
    }
   },
   "source": [
    "::::{exercise}\n",
    ":label: ex:ds9\n",
    "\n",
    " Use the unpacking operators `*` and `**` to concatenate two sets/dictionaries below into a new set/dictionary.\n",
    "\n",
    "::::"
   ]
  },
  {
   "cell_type": "code",
   "execution_count": null,
   "id": "76998909",
   "metadata": {
    "deletable": false,
    "nbgrader": {
     "cell_type": "code",
     "checksum": "d16f53184bcac5c8a64d26e2344969e5",
     "grade": false,
     "grade_id": "concatenate-sets",
     "locked": false,
     "schema_version": 3,
     "solution": true,
     "task": false
    },
    "slideshow": {
     "slide_type": "-"
    }
   },
   "outputs": [],
   "source": [
    "set1 = set(\"abc\")\n",
    "set2 = set(\"cde\")\n",
    "# YOUR CODE HERE\n",
    "raise NotImplementedError\n",
    "concatenated_set"
   ]
  },
  {
   "cell_type": "code",
   "execution_count": null,
   "id": "5140a9d7",
   "metadata": {
    "deletable": false,
    "nbgrader": {
     "cell_type": "code",
     "checksum": "d712ffcda1afb9aeee0fade638d7f0db",
     "grade": false,
     "grade_id": "concatenate-dictionaries",
     "locked": false,
     "schema_version": 3,
     "solution": true,
     "task": false
    },
    "slideshow": {
     "slide_type": "-"
    }
   },
   "outputs": [],
   "source": [
    "dict1 = dict(enumerate(\"abc\"))\n",
    "dict2 = dict(enumerate(\"def\", start=2))\n",
    "# YOUR CODE HERE\n",
    "raise NotImplementedError\n",
    "concatenated_dict"
   ]
  },
  {
   "cell_type": "markdown",
   "id": "554121b6",
   "metadata": {
    "slideshow": {
     "slide_type": "subslide"
    }
   },
   "source": [
    "`set` overloads many other operators:"
   ]
  },
  {
   "cell_type": "code",
   "execution_count": null,
   "id": "41da294d",
   "metadata": {
    "slideshow": {
     "slide_type": "-"
    }
   },
   "outputs": [],
   "source": [
    "%%optlite -h 550\n",
    "a, b = {1, 2}, {2, 3}\n",
    "\n",
    "union = a | b\n",
    "assert all(i in union for i in a) and all(i in union for i in b)\n",
    "\n",
    "intersection = a & b\n",
    "assert all(i in a and i in b for i in intersection)\n",
    "\n",
    "assert intersection <= a <= union  # subset\n",
    "assert union > b > intersection  # proper superset\n",
    "assert len(a) + len(b) == len(intersection) + len(union)\n",
    "\n",
    "symmetric_difference = a ^ b\n",
    "assert all((i in a or i in b) and not (i in a and i in b) for i in symmetric_difference)\n",
    "assert symmetric_difference == union - intersection\n",
    "assert set.isdisjoint(intersection, symmetric_difference)\n",
    "assert len(union) == len(intersection) + len(symmetric_difference)"
   ]
  },
  {
   "cell_type": "markdown",
   "id": "e64bd463",
   "metadata": {
    "slideshow": {
     "slide_type": "subslide"
    }
   },
   "source": [
    "The following uses `&` and `-` to compare the sets of public attributes for `set` and `dict`:"
   ]
  },
  {
   "cell_type": "code",
   "execution_count": null,
   "id": "1e6ae129",
   "metadata": {
    "slideshow": {
     "slide_type": "-"
    }
   },
   "outputs": [],
   "source": [
    "set_attributes = {attr for attr in dir(set) if attr[0] != \"_\"}\n",
    "dict_attributes = {attr for attr in dir(dict) if attr[0] != \"_\"}\n",
    "print(\"Common attributes:\", \", \".join(set_attributes & dict_attributes))\n",
    "print(\"dict-specific attributes:\", \", \".join(dict_attributes - set_attributes))\n",
    "print(\"set-specific attributes:\", \", \".join(set_attributes - dict_attributes))"
   ]
  },
  {
   "cell_type": "markdown",
   "id": "0e47a0c2",
   "metadata": {
    "slideshow": {
     "slide_type": "subslide"
    }
   },
   "source": [
    "For `set`, the intersection operation `&` can also be performed by\n",
    "- the class method `intersection`, which returns the intersection of its arguments, and\n",
    "- the object method `intersection_update`, which mutates a set object by intersecting the set with the arguments."
   ]
  },
  {
   "cell_type": "code",
   "execution_count": null,
   "id": "74b373e7",
   "metadata": {
    "slideshow": {
     "slide_type": "-"
    }
   },
   "outputs": [],
   "source": [
    "%%optlite -h 300\n",
    "a = {0, 1, 2}\n",
    "b = {1, 2, 3}\n",
    "c = set.intersection(a, b, {2, 3, 4})\n",
    "a.intersection_update(b, c)"
   ]
  },
  {
   "cell_type": "markdown",
   "id": "f7917d58",
   "metadata": {
    "slideshow": {
     "slide_type": "subslide"
    }
   },
   "source": [
    "- All other set-specific methods have an associated operator except `isdisjoint` as shown below.\n",
    "- The object method for `union` is `update` not `union_update`."
   ]
  },
  {
   "cell_type": "markdown",
   "id": "29f4d15c",
   "metadata": {
    "slideshow": {
     "slide_type": "-"
    }
   },
   "source": [
    "|     class method       |          object method        | operator     |\n",
    "| ---------------------- | ----------------------------- | ------------ |\n",
    "| `union`                | `update`                      | `\\| `        |\n",
    "| `intersection`         | `intersection_update`         | `&`          |\n",
    "| `symmetric_difference` | `symmetric_difference_update` | `^`          |\n",
    "| `issubset`             |                               | `<=`         |\n",
    "| `issuperset`           |                               | `>=`         |\n",
    "| `isdisjoint`           |                               |              |"
   ]
  },
  {
   "cell_type": "markdown",
   "id": "85854895",
   "metadata": {
    "slideshow": {
     "slide_type": "fragment"
    }
   },
   "source": [
    "`dict` also has an `update` method that can update a dictionary using dictionary, iterables, and keyword arguments:"
   ]
  },
  {
   "cell_type": "code",
   "execution_count": null,
   "id": "39c19260",
   "metadata": {
    "slideshow": {
     "slide_type": "-"
    }
   },
   "outputs": [],
   "source": [
    "%%optlite -h 300\n",
    "a = {}\n",
    "a.update(enumerate(\"a\"), b=2)\n",
    "b = a.copy()\n",
    "a.update(b, c=3)"
   ]
  },
  {
   "cell_type": "markdown",
   "id": "7ffe2665",
   "metadata": {
    "slideshow": {
     "slide_type": "subslide"
    }
   },
   "source": [
    "::::{exercise}\n",
    ":label: ex:ds10\n",
    "\n",
    " For `dict`, there is also a method called [`setdefault`](https://stackoverflow.com/questions/3483520/use-cases-for-the-setdefault-dict-method). Use it to define a function `group_by_type` that \n",
    "- takes a sequence `seq` of objects and \n",
    "- returns a dictionary `d` such that `d[repr(t)]` returns the list of objects in `seq` of type `t`\n",
    "\n",
    "If there is no objects of type `t`, raise a `KeyError`.\n",
    "\n",
    "::::"
   ]
  },
  {
   "cell_type": "code",
   "execution_count": null,
   "id": "8391e39e",
   "metadata": {
    "deletable": false,
    "nbgrader": {
     "cell_type": "code",
     "checksum": "82e3e5fd142ea07589c5b3eb0528c020",
     "grade": false,
     "grade_id": "setdefault",
     "locked": false,
     "schema_version": 3,
     "solution": true,
     "task": false
    },
    "slideshow": {
     "slide_type": "-"
    }
   },
   "outputs": [],
   "source": [
    "def group_by_type(seq):\n",
    "    group = {}\n",
    "    for i in seq:\n",
    "        # YOUR CODE HERE\n",
    "        raise NotImplementedError\n",
    "    return group\n",
    "\n",
    "\n",
    "group_by_type(\n",
    "    [\n",
    "        *range(3),\n",
    "        *\"abc\",\n",
    "        *[i / 2 for i in range(3)],\n",
    "        *[(i,) for i in range(3)],\n",
    "        *[[i] for i in range(3)],\n",
    "        *[{i} for i in range(3)],\n",
    "        *[{i: i} for i in range(3)],\n",
    "        print,\n",
    "        hash,\n",
    "        int,\n",
    "        str,\n",
    "        float,\n",
    "        set,\n",
    "        dict,\n",
    "        (i for i in range(10)),\n",
    "        enumerate(\"abc\"),\n",
    "        range(3),\n",
    "        zip(),\n",
    "        set.add,\n",
    "        dict.copy,\n",
    "    ]\n",
    ")"
   ]
  },
  {
   "cell_type": "code",
   "execution_count": null,
   "id": "e92cbe42",
   "metadata": {},
   "outputs": [],
   "source": [
    "%%ai chatgpt -f text\n",
    "Explain when we should use each of the methods or functions on Python `dict`:\n",
    "del, discard, remove, pop, popitem"
   ]
  }
 ],
 "metadata": {
  "kernelspec": {
   "display_name": "Python 3 (ipykernel)",
   "language": "python",
   "name": "python3"
  }
 },
 "nbformat": 4,
 "nbformat_minor": 5
}
