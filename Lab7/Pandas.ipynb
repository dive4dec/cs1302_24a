{
 "cells": [
  {
   "cell_type": "markdown",
   "id": "95bd1827",
   "metadata": {
    "slideshow": {
     "slide_type": "slide"
    }
   },
   "source": [
    "---\n",
    "title: Pandas\n",
    "---"
   ]
  },
  {
   "cell_type": "code",
   "execution_count": null,
   "id": "ac77e06b",
   "metadata": {},
   "outputs": [],
   "source": [
    "from __init__ import install_dependencies\n",
    "\n",
    "await install_dependencies()"
   ]
  },
  {
   "cell_type": "code",
   "execution_count": null,
   "id": "efd71b29",
   "metadata": {},
   "outputs": [],
   "source": [
    "%reload_ext divewidgets"
   ]
  },
  {
   "cell_type": "markdown",
   "id": "7a95e80e",
   "metadata": {
    "slideshow": {
     "slide_type": "subslide"
    }
   },
   "source": [
    "In this lab, we will analyze COVID19 data using a powerful package called [`pandas`](https://pandas.pydata.org/docs/user_guide/index.html).  \n",
    "The package name comes from *panel data* and *Python for data analysis*."
   ]
  },
  {
   "cell_type": "markdown",
   "id": "f4886a1d",
   "metadata": {
    "slideshow": {
     "slide_type": "slide"
    }
   },
   "source": [
    "## Loading CSV Files with Pandas"
   ]
  },
  {
   "cell_type": "markdown",
   "id": "aed4f20e",
   "metadata": {
    "slideshow": {
     "slide_type": "fragment"
    }
   },
   "source": [
    "[DATA.GOV.HK](https://data.gov.hk/en-data/dataset/hk-dh-chpsebcddr-novel-infectious-agent) provides an [API](https://data.gov.hk/en/help/api-spec#historicalAPI) to retrieve historical data on COVID-19 cases in Hong Kong."
   ]
  },
  {
   "cell_type": "markdown",
   "id": "d42a9950",
   "metadata": {
    "slideshow": {
     "slide_type": "fragment"
    }
   },
   "source": [
    "The following uses the `urlencode` function to create the url that links to a csv file containing probable and confirmed cases of COVID-19 by Aug 1st, 2020."
   ]
  },
  {
   "cell_type": "code",
   "execution_count": null,
   "id": "b9f812f6",
   "metadata": {
    "slideshow": {
     "slide_type": "-"
    }
   },
   "outputs": [],
   "source": [
    "from urllib.parse import urlencode\n",
    "\n",
    "url_data_gov_hk_get = \"https://api.data.gov.hk/v1/historical-archive/get-file\"\n",
    "url_covid_csv = \"http://www.chp.gov.hk/files/misc/enhanced_sur_covid_19_eng.csv\"\n",
    "time = \"20200801-1204\"\n",
    "url_covid = url_data_gov_hk_get + \"?\" + urlencode({\"url\": url_covid_csv, \"time\": time})\n",
    "\n",
    "print(url_covid)"
   ]
  },
  {
   "cell_type": "markdown",
   "id": "fd155b38",
   "metadata": {
    "slideshow": {
     "slide_type": "fragment"
    }
   },
   "source": [
    "::::{note}\n",
    "\n",
    "`urlencode` creates a string `'url=<...>&time=<...>'` with some [special symbols encoded](https://www.w3schools.com/tags/ref_urlencode.ASP), e.g.:\n",
    "- `:` is replaced by `%3A`, and\n",
    "- `/` is replaced by `%2F`.\n",
    "\n",
    "::::"
   ]
  },
  {
   "cell_type": "markdown",
   "id": "953bb748",
   "metadata": {
    "slideshow": {
     "slide_type": "subslide"
    }
   },
   "source": [
    "::::{exercise}\n",
    ":label: ex:simple-encode\n",
    "\n",
    "Write a function `simple_encode` that takes in a string and return a string with `:` and `/` encoded as described above.\n",
    "\n",
    ":::{hint}\n",
    ":class: dropdown\n",
    "\n",
    "Use the `replace` method of `str`.\n",
    "\n",
    ":::\n",
    "\n",
    "::::"
   ]
  },
  {
   "cell_type": "code",
   "execution_count": null,
   "id": "41bf76c4",
   "metadata": {
    "deletable": false,
    "nbgrader": {
     "cell_type": "code",
     "checksum": "4115c95638e1f62f9b7bbd458d82a4ee",
     "grade": false,
     "grade_id": "simple_encode",
     "locked": false,
     "schema_version": 3,
     "solution": true,
     "task": false
    },
    "slideshow": {
     "slide_type": "-"
    },
    "tags": [
     "remove-output"
    ]
   },
   "outputs": [],
   "source": [
    "def simple_encode(string):\n",
    "    \"\"\"Returns the string with : and / encoded to %3A and %2F respectively.\"\"\"\n",
    "    # YOUR CODE HERE\n",
    "    raise NotImplementedError"
   ]
  },
  {
   "cell_type": "code",
   "execution_count": null,
   "id": "ae10b835",
   "metadata": {
    "code_folding": [
     0
    ],
    "deletable": false,
    "editable": false,
    "nbgrader": {
     "cell_type": "code",
     "checksum": "6ed0e15859c175e6c193a3c263b9ec44",
     "grade": true,
     "grade_id": "test-simple_encode",
     "locked": true,
     "points": 1,
     "schema_version": 3,
     "solution": false,
     "task": false
    },
    "slideshow": {
     "slide_type": "-"
    },
    "tags": [
     "hide-input",
     "remove-output"
    ]
   },
   "outputs": [],
   "source": [
    "# tests\n",
    "assert simple_encode(\"http://www.chp.gov.hk/files/misc/enhanced_sur_covid_19_eng.csv\") == \"http%3A%2F%2Fwww.chp.gov.hk%2Ffiles%2Fmisc%2Fenhanced_sur_covid_19_eng.csv\""
   ]
  },
  {
   "cell_type": "code",
   "execution_count": null,
   "id": "2621a61e",
   "metadata": {
    "code_folding": [
     0
    ],
    "deletable": false,
    "editable": false,
    "nbgrader": {
     "cell_type": "code",
     "checksum": "6124b23664b468217fd6581b3148d572",
     "grade": true,
     "grade_id": "htest-simple_encode",
     "locked": true,
     "points": 1,
     "schema_version": 3,
     "solution": false,
     "task": false
    },
    "tags": [
     "remove-cell"
    ]
   },
   "outputs": [],
   "source": [
    "# HIDDEN"
   ]
  },
  {
   "cell_type": "markdown",
   "id": "49149841",
   "metadata": {
    "slideshow": {
     "slide_type": "subslide"
    }
   },
   "source": [
    "Like the function `open` that loads a file into memory, `pandas` has a function `read_csv` that loads a csv file. The csv file can even reside on the web:"
   ]
  },
  {
   "cell_type": "code",
   "execution_count": null,
   "id": "8b72b252",
   "metadata": {
    "slideshow": {
     "slide_type": "fragment"
    }
   },
   "outputs": [],
   "source": [
    "import pandas as pd\n",
    "\n",
    "df_covid = pd.read_csv(url_covid)\n",
    "\n",
    "print(type(df_covid))\n",
    "df_covid"
   ]
  },
  {
   "cell_type": "markdown",
   "id": "48d7656a",
   "metadata": {
    "slideshow": {
     "slide_type": "fragment"
    }
   },
   "source": [
    "::::{note}\n",
    "\n",
    "The above creates a [`DataFrame` object](https://pandas.pydata.org/docs/reference/api/pandas.DataFrame.html?highlight=dataframe#pandas.DataFrame):  \n",
    "- The content of the csv file is displayed as an HTML table conveniently.   \n",
    "- We can control how much information to show by setting the [display options](https://pandas.pydata.org/pandas-docs/stable/user_guide/options.html).)\n",
    "\n",
    "::::"
   ]
  },
  {
   "cell_type": "markdown",
   "id": "3a1007d7",
   "metadata": {
    "slideshow": {
     "slide_type": "subslide"
    }
   },
   "source": [
    "::::{exercise}\n",
    ":label: ex:building\n",
    "\n",
    "Using the function `pd.read_csv`, load `building_list_eng.csv` as `df_building` from the url `url_building`.\n",
    "\n",
    "::::"
   ]
  },
  {
   "cell_type": "code",
   "execution_count": null,
   "id": "8bee77c7",
   "metadata": {
    "deletable": false,
    "nbgrader": {
     "cell_type": "code",
     "checksum": "9318e9c4d31ae255b73ec9813e57bbb2",
     "grade": false,
     "grade_id": "df_building",
     "locked": false,
     "schema_version": 3,
     "solution": true,
     "task": false
    },
    "slideshow": {
     "slide_type": "-"
    },
    "tags": [
     "remove-output"
    ]
   },
   "outputs": [],
   "source": [
    "url_building_csv = \"http://www.chp.gov.hk/files/misc/building_list_eng.csv\"\n",
    "time = \"20200801-1203\"\n",
    "url_building = (\n",
    "    url_data_gov_hk_get + \"?\" + urlencode({\"url\": url_building_csv, \"time\": time})\n",
    ")\n",
    "# YOUR CODE HERE\n",
    "raise NotImplementedError\n",
    "df_building"
   ]
  },
  {
   "cell_type": "code",
   "execution_count": null,
   "id": "0851b64c",
   "metadata": {
    "code_folding": [
     0
    ],
    "deletable": false,
    "editable": false,
    "nbgrader": {
     "cell_type": "code",
     "checksum": "0ba81f5bfe2a6f31061c69798d3beba5",
     "grade": true,
     "grade_id": "test-df_building",
     "locked": true,
     "points": 1,
     "schema_version": 3,
     "solution": false,
     "task": false
    },
    "slideshow": {
     "slide_type": "-"
    },
    "tags": [
     "remove-output",
     "hide-input"
    ]
   },
   "outputs": [],
   "source": [
    "# tests\n",
    "assert all(df_building.columns == [\n",
    "    \"District\",\n",
    "    \"Building name\",\n",
    "    \"Last date of residence of the case(s)\",\n",
    "    \"Related probable/confirmed cases\"])  # check column names"
   ]
  },
  {
   "cell_type": "code",
   "execution_count": null,
   "id": "fdc54526",
   "metadata": {
    "code_folding": [
     0
    ],
    "deletable": false,
    "editable": false,
    "nbgrader": {
     "cell_type": "code",
     "checksum": "416f9881d9d0e4cbad818efa035db9e4",
     "grade": true,
     "grade_id": "htest-df_building",
     "locked": true,
     "points": 1,
     "schema_version": 3,
     "solution": false,
     "task": false
    },
    "tags": [
     "remove-cell"
    ]
   },
   "outputs": [],
   "source": [
    "# HIDDEN"
   ]
  },
  {
   "cell_type": "markdown",
   "id": "04099d7c",
   "metadata": {
    "slideshow": {
     "slide_type": "subslide"
    }
   },
   "source": [
    "## Selecting and Removing columns"
   ]
  },
  {
   "cell_type": "markdown",
   "id": "1a3dcc42",
   "metadata": {
    "slideshow": {
     "slide_type": "fragment"
    }
   },
   "source": [
    "We can obtain the column labels of a `Dataframe` using its `columns` attribute."
   ]
  },
  {
   "cell_type": "code",
   "execution_count": null,
   "id": "39da920a",
   "metadata": {
    "slideshow": {
     "slide_type": "-"
    }
   },
   "outputs": [],
   "source": [
    "df_covid.columns"
   ]
  },
  {
   "cell_type": "markdown",
   "id": "21e6b793",
   "metadata": {
    "slideshow": {
     "slide_type": "fragment"
    }
   },
   "source": [
    "Using the indexing operator `[]`, a column of a `DataFrame` can be returned as a [`Series` object](https://pandas.pydata.org/pandas-docs/stable/reference/api/pandas.Series.html), which is essentially a named array.   \n",
    "We can further use the method `value_counts` to return the counts of different values in another `Series` object."
   ]
  },
  {
   "cell_type": "code",
   "execution_count": null,
   "id": "8cc22e43",
   "metadata": {
    "slideshow": {
     "slide_type": "-"
    }
   },
   "outputs": [],
   "source": [
    "series_gender_counts = df_covid[\n",
    "    \"Gender\"\n",
    "].value_counts()  # return the number of male and female cases\n",
    "\n",
    "print(type(series_gender_counts))\n",
    "series_gender_counts"
   ]
  },
  {
   "cell_type": "markdown",
   "id": "80a997ab",
   "metadata": {
    "slideshow": {
     "slide_type": "subslide"
    }
   },
   "source": [
    "::::{exercise}\n",
    ":label: ex:district\n",
    "\n",
    "For `df_building`, use the operator `[]` and method `value_counts` to assign `series_district_counts` to a `Series` object that stores the counts of buildings in different district.\n",
    "\n",
    "::::"
   ]
  },
  {
   "cell_type": "code",
   "execution_count": null,
   "id": "9abd9b53",
   "metadata": {
    "code_folding": [],
    "deletable": false,
    "nbgrader": {
     "cell_type": "code",
     "checksum": "f68978d6f0d21c78a2022e3b32212f25",
     "grade": false,
     "grade_id": "series_district_counts",
     "locked": false,
     "schema_version": 3,
     "solution": true,
     "task": false
    },
    "slideshow": {
     "slide_type": "-"
    },
    "tags": [
     "remove-output"
    ]
   },
   "outputs": [],
   "source": [
    "# YOUR CODE HERE\n",
    "raise NotImplementedError\n",
    "series_district_counts"
   ]
  },
  {
   "cell_type": "code",
   "execution_count": null,
   "id": "c39969c7",
   "metadata": {
    "code_folding": [
     0
    ],
    "deletable": false,
    "editable": false,
    "nbgrader": {
     "cell_type": "code",
     "checksum": "4fe69462a446c737e8604c053360475a",
     "grade": true,
     "grade_id": "test-series_district_counts",
     "locked": true,
     "points": 1,
     "schema_version": 3,
     "solution": false,
     "task": false
    },
    "slideshow": {
     "slide_type": "-"
    },
    "tags": [
     "remove-output",
     "hide-input"
    ]
   },
   "outputs": [],
   "source": [
    "# tests\n",
    "assert all(series_district_counts[[\"Wong Tai Sin\", \"Kwun Tong\"]] == [313, 212])"
   ]
  },
  {
   "cell_type": "code",
   "execution_count": null,
   "id": "8426d6ff",
   "metadata": {
    "code_folding": [
     0
    ],
    "deletable": false,
    "editable": false,
    "nbgrader": {
     "cell_type": "code",
     "checksum": "9a02a7b5254d04bd264d79af054b83c5",
     "grade": true,
     "grade_id": "htest-series_district_counts",
     "locked": true,
     "points": 1,
     "schema_version": 3,
     "solution": false,
     "task": false
    },
    "tags": [
     "remove-cell"
    ]
   },
   "outputs": [],
   "source": [
    "# HIDDEN"
   ]
  },
  {
   "cell_type": "markdown",
   "id": "f32e9d0d",
   "metadata": {
    "slideshow": {
     "slide_type": "subslide"
    }
   },
   "source": [
    "In `df_covid`, it appears that the column `Name of hospital admitted` contains no information. We can confirm this by\n",
    "1. returning the column as a `Series` with `df_covid_cases['Name of hospital admitted']`, and\n",
    "1. printing an array of unique column values using the method `unique`."
   ]
  },
  {
   "cell_type": "code",
   "execution_count": null,
   "id": "24de7b8d",
   "metadata": {
    "slideshow": {
     "slide_type": "-"
    }
   },
   "outputs": [],
   "source": [
    "df_covid[\"Name of hospital admitted\"].unique()"
   ]
  },
  {
   "cell_type": "markdown",
   "id": "ef72240d",
   "metadata": {
    "slideshow": {
     "slide_type": "subslide"
    }
   },
   "source": [
    "::::{exercise}\n",
    ":label: ex:drop\n",
    "\n",
    "Drop the column `Name of hospital admitted` from `df_covid` using the `drop` method of the DataFrame. \n",
    "\n",
    ":::{hint}\n",
    "\n",
    "Consider reading the documentation of the `drop` method for  \n",
    "- mutating `df_covid` in place instead of creating a copy of the DataFrame with the column dropped, but\n",
    "- suppressing error when dropping a column that does not exist or has already been dropped.\n",
    "\n",
    ":::\n",
    "\n",
    "::::"
   ]
  },
  {
   "cell_type": "code",
   "execution_count": null,
   "id": "d9cda0fe",
   "metadata": {
    "deletable": false,
    "nbgrader": {
     "cell_type": "code",
     "checksum": "4c68a49bb4a0b75a7d05edd6f536f697",
     "grade": false,
     "grade_id": "drop",
     "locked": false,
     "schema_version": 3,
     "solution": true,
     "task": false
    },
    "slideshow": {
     "slide_type": "-"
    },
    "tags": [
     "remove-output"
    ]
   },
   "outputs": [],
   "source": [
    "# YOUR CODE HERE\n",
    "raise NotImplementedError\n",
    "df_covid"
   ]
  },
  {
   "cell_type": "code",
   "execution_count": null,
   "id": "63b25d51",
   "metadata": {
    "code_folding": [
     0
    ],
    "deletable": false,
    "editable": false,
    "nbgrader": {
     "cell_type": "code",
     "checksum": "abe61580e2cd516738a70b154c4f1c34",
     "grade": true,
     "grade_id": "test-drop",
     "locked": true,
     "points": 1,
     "schema_version": 3,
     "solution": false,
     "task": false
    },
    "tags": [
     "hide-input",
     "remove-output"
    ]
   },
   "outputs": [],
   "source": [
    "# tests\n",
    "assert all(df_covid.columns == [\n",
    "        \"Case no.\",\n",
    "        \"Report date\",\n",
    "        \"Date of onset\",\n",
    "        \"Gender\",\n",
    "        \"Age\",\n",
    "        \"Hospitalised/Discharged/Deceased\",\n",
    "        \"HK/Non-HK resident\",\n",
    "        \"Case classification*\",\n",
    "        \"Confirmed/probable\"])"
   ]
  },
  {
   "cell_type": "markdown",
   "id": "5f0bf1a8",
   "metadata": {
    "slideshow": {
     "slide_type": "slide"
    }
   },
   "source": [
    "## Selecting Rows of DataFrame"
   ]
  },
  {
   "cell_type": "markdown",
   "id": "fea1fd03",
   "metadata": {
    "slideshow": {
     "slide_type": "fragment"
    }
   },
   "source": [
    "We can select the confirmed male cases using the attribute [`loc`](https://pandas.pydata.org/pandas-docs/stable/reference/api/pandas.DataFrame.loc.html) and the indexing operator `[]`."
   ]
  },
  {
   "cell_type": "code",
   "execution_count": null,
   "id": "5e133b80",
   "metadata": {
    "slideshow": {
     "slide_type": "-"
    }
   },
   "outputs": [],
   "source": [
    "df_confirmed_male = df_covid.loc[\n",
    "    (df_covid[\"Confirmed/probable\"] == \"Confirmed\") & (df_covid[\"Gender\"] == \"M\")\n",
    "]\n",
    "print(type(df_covid.loc))\n",
    "df_confirmed_male"
   ]
  },
  {
   "cell_type": "markdown",
   "id": "2f3658fa",
   "metadata": {},
   "source": [
    "::::{note}\n",
    "\n",
    "`loc` essentially returns an object that implements the [advanced indexing method](https://numpy.org/doc/stable/user/basics.indexing.html#advanced-indexing) for `__getitem__`. In particular, the above uses [boolean indexing](https://numpy.org/doc/stable/user/basics.indexing.html#boolean-array-indexing).\n",
    "::::"
   ]
  },
  {
   "cell_type": "markdown",
   "id": "42dfff92",
   "metadata": {
    "slideshow": {
     "slide_type": "subslide"
    }
   },
   "source": [
    "::::{exercise}\n",
    ":label: ex:local\n",
    "\n",
    "Assign `df_confirmed_local` to a `DataFrame` of confirmed cases that are local or epidemiologically linked with a local case.\n",
    "\n",
    "::::"
   ]
  },
  {
   "cell_type": "code",
   "execution_count": null,
   "id": "82369197",
   "metadata": {
    "deletable": false,
    "nbgrader": {
     "cell_type": "code",
     "checksum": "3ff23d2ad3e029bcd2b41945fe085c54",
     "grade": false,
     "grade_id": "df_confirmed_local",
     "locked": false,
     "schema_version": 3,
     "solution": true,
     "task": false
    },
    "slideshow": {
     "slide_type": "-"
    },
    "tags": [
     "remove-output"
    ]
   },
   "outputs": [],
   "source": [
    "# YOUR CODE HERE\n",
    "raise NotImplementedError\n",
    "df_confirmed_local"
   ]
  },
  {
   "cell_type": "code",
   "execution_count": null,
   "id": "09539b23",
   "metadata": {
    "code_folding": [
     0
    ],
    "deletable": false,
    "editable": false,
    "nbgrader": {
     "cell_type": "code",
     "checksum": "1f86cead604f5165ab6e629d9f3541be",
     "grade": true,
     "grade_id": "test-df_confirmed_local",
     "locked": true,
     "points": 1,
     "schema_version": 3,
     "solution": false,
     "task": false
    },
    "slideshow": {
     "slide_type": "fragment"
    },
    "tags": [
     "remove-output",
     "hide-input"
    ]
   },
   "outputs": [],
   "source": [
    "# tests\n",
    "assert set(df_confirmed_local[\"Case classification*\"].unique()) == {\n",
    "    \"Epidemiologically linked with local case\",\n",
    "    \"Local case\"}"
   ]
  },
  {
   "cell_type": "code",
   "execution_count": null,
   "id": "77d8da98",
   "metadata": {
    "code_folding": [
     0
    ],
    "deletable": false,
    "editable": false,
    "nbgrader": {
     "cell_type": "code",
     "checksum": "edad2ed10742a5ce4347753c0bf4be14",
     "grade": true,
     "grade_id": "htest-df_confirmed_local",
     "locked": true,
     "points": 1,
     "schema_version": 3,
     "solution": false,
     "task": false
    },
    "tags": [
     "remove-cell"
    ]
   },
   "outputs": [],
   "source": [
    "# HIDDEN"
   ]
  },
  {
   "cell_type": "markdown",
   "id": "26f49db4",
   "metadata": {
    "slideshow": {
     "slide_type": "fragment"
    }
   },
   "source": [
    "::::{exercise}\n",
    ":label: ex:case-counts\n",
    "\n",
    "Write a function `case_counts` that \n",
    "- takes an argument `district`, and\n",
    "- returns the number of cases in `district`. \n",
    "\n",
    ":::{hint}\n",
    "\n",
    "Be careful that there can be more than one case for each building and there may be multiple buildings associated with one case. You may want to use the `split` and `strip` methods of `str` to obtain a list of cases from the `Dataframe`.\n",
    "\n",
    ":::\n",
    "\n",
    "::::"
   ]
  },
  {
   "cell_type": "code",
   "execution_count": null,
   "id": "c4160be1",
   "metadata": {
    "deletable": false,
    "nbgrader": {
     "cell_type": "code",
     "checksum": "45c9dce1280fc457a4c8f2d4b3b8e69b",
     "grade": false,
     "grade_id": "case_counts",
     "locked": false,
     "schema_version": 3,
     "solution": true,
     "task": false
    },
    "slideshow": {
     "slide_type": "-"
    },
    "tags": [
     "remove-output"
    ]
   },
   "outputs": [],
   "source": [
    "def case_counts(district):\n",
    "    # YOUR CODE HERE\n",
    "    raise NotImplementedError"
   ]
  },
  {
   "cell_type": "code",
   "execution_count": null,
   "id": "c4abb7ab",
   "metadata": {
    "code_folding": [
     0
    ],
    "deletable": false,
    "editable": false,
    "nbgrader": {
     "cell_type": "code",
     "checksum": "721a790b1a8a2344baaa39eab502b96a",
     "grade": true,
     "grade_id": "test-case_counts",
     "locked": true,
     "points": 1,
     "schema_version": 3,
     "solution": false,
     "task": false
    },
    "slideshow": {
     "slide_type": "-"
    },
    "tags": [
     "remove-output",
     "hide-input"
    ]
   },
   "outputs": [],
   "source": [
    "# tests\n",
    "assert case_counts(\"Kwai Tsing\") == 109"
   ]
  },
  {
   "cell_type": "code",
   "execution_count": null,
   "id": "d38ac330",
   "metadata": {
    "code_folding": [
     0
    ],
    "deletable": false,
    "editable": false,
    "nbgrader": {
     "cell_type": "code",
     "checksum": "0e41c7bbd2c62987043489628692d6db",
     "grade": true,
     "grade_id": "htest-case_counts",
     "locked": true,
     "points": 1,
     "schema_version": 3,
     "solution": false,
     "task": false
    },
    "tags": [
     "remove-cell"
    ]
   },
   "outputs": [],
   "source": [
    "# HIDDEN"
   ]
  }
 ],
 "metadata": {
  "kernelspec": {
   "display_name": "Python 3 (ipykernel)",
   "language": "python",
   "name": "python3"
  }
 },
 "nbformat": 4,
 "nbformat_minor": 5
}
