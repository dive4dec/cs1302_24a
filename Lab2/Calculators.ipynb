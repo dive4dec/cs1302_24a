{
 "cells": [
  {
   "cell_type": "markdown",
   "id": "98826215",
   "metadata": {
    "slideshow": {
     "slide_type": "slide"
    }
   },
   "source": [
    "---\n",
    "title: Calculators\n",
    "---"
   ]
  },
  {
   "cell_type": "markdown",
   "id": "83a6f6ed",
   "metadata": {
    "slideshow": {
     "slide_type": "subslide"
    }
   },
   "source": [
    "Run the following to load additional tools required for this lab.  \n",
    "In particular, the `math` library provides many useful mathematical functions and constants."
   ]
  },
  {
   "cell_type": "code",
   "execution_count": null,
   "id": "3b515e11",
   "metadata": {
    "hide_input": false,
    "init_cell": true,
    "slideshow": {
     "slide_type": "-"
    }
   },
   "outputs": [],
   "source": [
    "import math\n",
    "from math import *\n",
    "\n",
    "import jsxgraphs\n",
    "import matplotlib.pyplot as plt\n",
    "import numpy as np\n",
    "from ipywidgets import interact\n",
    "\n",
    "%matplotlib widget"
   ]
  },
  {
   "cell_type": "markdown",
   "id": "b84189e2",
   "metadata": {
    "slideshow": {
     "slide_type": "subslide"
    }
   },
   "source": [
    "The following code is a Python one-liner that creates a calculator."
   ]
  },
  {
   "cell_type": "code",
   "execution_count": null,
   "id": "8a5f3d06",
   "metadata": {
    "slideshow": {
     "slide_type": "-"
    }
   },
   "outputs": [],
   "source": [
    "eval(input())"
   ]
  },
  {
   "cell_type": "markdown",
   "id": "91752d47",
   "metadata": {
    "slideshow": {
     "slide_type": "fragment"
    }
   },
   "source": [
    "Evaluate the cell repeatedly with `Ctrl+Enter` to try some calculations below using this calculator:\n",
    "\n",
    "1. $2^3$ by entering `2**3`;\n",
    "1. $\\frac23$ by entering `2/3`;\n",
    "1. $\\left\\lceil\\frac32\\right\\rceil$ by entering `3//2`;\n",
    "1. $3\\mod 2$ by entering `3%2`;\n",
    "1. $\\sqrt{2}$ by entering `2**(1/2)`; and\n",
    "1. $\\sin(\\pi/6)$ by entering `sin(pi/6)`;"
   ]
  },
  {
   "cell_type": "markdown",
   "id": "7298e214",
   "metadata": {
    "slideshow": {
     "slide_type": "fragment"
    }
   },
   "source": [
    "For this lab, you will create different calculators. We will first show you a demo. Then, it will be your turn to create the calculators."
   ]
  },
  {
   "cell_type": "markdown",
   "id": "182617a3",
   "metadata": {
    "slideshow": {
     "slide_type": "slide"
    }
   },
   "source": [
    "## Hypotenuse Calculator"
   ]
  },
  {
   "cell_type": "markdown",
   "id": "f628455f",
   "metadata": {
    "slideshow": {
     "slide_type": "fragment"
    }
   },
   "source": [
    "::::{prf:proposition} Pythagoras Theorem\n",
    ":label: pro:pythagorus\n",
    "\n",
    "By the Pythagoras theorem, given a right-angled triangle,\n",
    "\n",
    "![Right-angled triangle](images/pythagoras.dio.svg)\n",
    "\n",
    "the length of the hypotenuse is\n",
    "\n",
    "$$\n",
    "c = \\sqrt{a^2 + b^2}\n",
    "$$ (eq:hypotenuse)\n",
    "\n",
    "where $a$ and $b$ are the lengths of the other sides of the triangle.\n",
    "\n",
    "::::"
   ]
  },
  {
   "cell_type": "markdown",
   "id": "bc6886a3",
   "metadata": {},
   "source": [
    "You can verify the theorem using the JSXGraph app below:"
   ]
  },
  {
   "cell_type": "code",
   "execution_count": null,
   "id": "9fcd4114",
   "metadata": {},
   "outputs": [],
   "source": [
    "jsxgraphs.pythagorean1"
   ]
  },
  {
   "cell_type": "markdown",
   "id": "8976b97e",
   "metadata": {},
   "source": [
    "::::{seealso} JSXGraph\n",
    ":class: dropdown\n",
    "\n",
    "Click the button `scratch` to show and edit the Javascript code. Other mathematical illustrations created using `divewidgets` can be found [here](https://dive4dec.github.io/lab/?path=divemath%2Fdivemath.ipynb) and was presented in [JSXGraph conference](https://jsxgraph.uni-bayreuth.de/conf2022/program/).\n",
    "\n",
    "::::"
   ]
  },
  {
   "cell_type": "markdown",
   "id": "2e2ca200",
   "metadata": {},
   "source": [
    "The following is an interactive graphical proof:"
   ]
  },
  {
   "cell_type": "code",
   "execution_count": null,
   "id": "10d8652a",
   "metadata": {},
   "outputs": [],
   "source": [
    "jsxgraphs.pythagorean2"
   ]
  },
  {
   "cell_type": "markdown",
   "id": "7c743502",
   "metadata": {},
   "source": [
    "Another interactive proof is as follows:"
   ]
  },
  {
   "cell_type": "code",
   "execution_count": null,
   "id": "dffa274b",
   "metadata": {},
   "outputs": [],
   "source": [
    "jsxgraphs.pythagorean3"
   ]
  },
  {
   "cell_type": "markdown",
   "id": "c0b770d5",
   "metadata": {},
   "source": [
    "We can define the following function to calculate the length `c` of the hypotenuse when given the lengths `a` and `b` of the other sides: \n",
    "\n",
    ":::{code-block} python\n",
    ":name: code:length_of_hypotenuse\n",
    ":caption: A function that computes the length of hypotenuse\n",
    "\n",
    "def length_of_hypotenuse(a, b):\n",
    "    c = (a**2 + b**2) ** (0.5)  # Pythagoras\n",
    "    return c\n",
    ":::"
   ]
  },
  {
   "cell_type": "markdown",
   "id": "bced64df",
   "metadata": {
    "slideshow": {
     "slide_type": "fragment"
    }
   },
   "source": [
    "- Equation [](#eq:hypotenuse) in [](#pro:pythagorus) is written as a python expression in [](#code:length_of_hypotenuse) using the exponentiation operator `**`.\n",
    "- The variable `c` is assigned to the value of the expression using the assignment operator `=`."
   ]
  },
  {
   "cell_type": "markdown",
   "id": "6e32d44c",
   "metadata": {
    "slideshow": {
     "slide_type": "fragment"
    }
   },
   "source": [
    "::::{exercise} length of hypotenuse\n",
    "\n",
    "Complete the function below to return the length `c` of the hypotenuse given the lengths `a` and `b`.\n",
    "\n",
    ":::{hint}\n",
    ":class: dropdown\n",
    "\n",
    "- You should still complete this exercise to get the credit even though the answer is obvious from [](#code:length_of_hypotenuse). Instead of copy-and-paste the answer, type it yourself.\n",
    "- Indentation affects the execution of python code. In particular, the assignment statement must be indented to indicate that it is part of the *body* of the function.\n",
    "\n",
    ":::\n",
    "\n",
    "::::"
   ]
  },
  {
   "cell_type": "code",
   "execution_count": null,
   "id": "57f19d7b",
   "metadata": {
    "deletable": false,
    "nbgrader": {
     "cell_type": "code",
     "checksum": "46b2d094096bd923396368c8041a614b",
     "grade": false,
     "grade_id": "length_of_hypotenus",
     "locked": false,
     "schema_version": 3,
     "solution": true,
     "task": false
    },
    "slideshow": {
     "slide_type": "-"
    }
   },
   "outputs": [],
   "source": [
    "def length_of_hypotenuse(a, b):\n",
    "    # YOUR CODE HERE\n",
    "    raise NotImplementedError\n",
    "    return c"
   ]
  },
  {
   "cell_type": "markdown",
   "id": "a9a0a4ee",
   "metadata": {
    "slideshow": {
     "slide_type": "subslide"
    }
   },
   "source": [
    "You can check your code against a few cases listed in the test cell below."
   ]
  },
  {
   "cell_type": "code",
   "execution_count": null,
   "id": "0450090b",
   "metadata": {
    "code_folding": [],
    "deletable": false,
    "editable": false,
    "nbgrader": {
     "cell_type": "code",
     "checksum": "79ca6bb23595e22e0ff7b8adaba7ea57",
     "grade": true,
     "grade_id": "test-length_of_hypotenus",
     "locked": true,
     "points": 1,
     "schema_version": 3,
     "solution": false,
     "task": false
    },
    "slideshow": {
     "slide_type": "-"
    }
   },
   "outputs": [],
   "source": [
    "# tests\n",
    "assert np.isclose(length_of_hypotenuse(0, 0), 0)\n",
    "assert np.isclose(length_of_hypotenuse(3, 4), 5)\n",
    "assert np.isclose(length_of_hypotenuse(4, 7), 8.06225774829855)"
   ]
  },
  {
   "cell_type": "code",
   "execution_count": null,
   "id": "df1ae32b",
   "metadata": {
    "deletable": false,
    "editable": false,
    "nbgrader": {
     "cell_type": "code",
     "checksum": "291ad430a53d236e2c00e62a50467c4d",
     "grade": true,
     "grade_id": "htest-length_of_hypotenus",
     "locked": true,
     "points": 1,
     "schema_version": 3,
     "solution": false,
     "task": false
    }
   },
   "outputs": [],
   "source": [
    "# hidden tests"
   ]
  },
  {
   "cell_type": "markdown",
   "id": "e60f3bfe",
   "metadata": {},
   "source": [
    "::::{tip} If you are curious about the hidden test...\n",
    ":class: dropdown\n",
    "\n",
    "The hidden test will look like the following but with a \"truely\" random random `_seed_`:\n",
    "\n",
    "```python\n",
    "rng = np.random.default_rng(_seed_)\n",
    "a, b = rng.random(2)\n",
    "assert np.isclose(length_of_hypotenuse(a, b), (a**2 + b**2) ** (0.5))\n",
    "```\n",
    "::::"
   ]
  },
  {
   "cell_type": "markdown",
   "id": "becc8f08",
   "metadata": {
    "slideshow": {
     "slide_type": "subslide"
    }
   },
   "source": [
    "We will use `ipywidgets` to let user interact with the calculator more easily as illustrated in [](#fig:hypotenuse-calculator):\n",
    "\n",
    "- After running the cell, move the sliders to change the values of `a` and `b`. \n",
    "- Observer that the value of `c` is updated immediately.\n",
    "\n",
    "The hypotenuse is printed up to 2 decimal places using the format specification `{:.2f}`."
   ]
  },
  {
   "cell_type": "markdown",
   "id": "0ab76c50",
   "metadata": {
    "slideshow": {
     "slide_type": "-"
    }
   },
   "source": [
    "::::{figure} images/hypotenuse-calculator.gif\n",
    ":name: fig:hypotenuse-calculator\n",
    ":alt: The hypotenuse calculator\n",
    ":align: center\n",
    "\n",
    "Illustration of the hypotenuse calculator\n",
    "\n",
    "::::"
   ]
  },
  {
   "cell_type": "code",
   "execution_count": null,
   "id": "39b2fc1d",
   "metadata": {
    "code_folding": [],
    "slideshow": {
     "slide_type": "-"
    }
   },
   "outputs": [],
   "source": [
    "# hypotenuse calculator\n",
    "@interact(a=(0, 10, 1), b=(0, 10, 1))\n",
    "def calculate_hypotenuse(a=3, b=4):\n",
    "    print('c: {:.2f}'.format(length_of_hypotenuse(a, b)))"
   ]
  },
  {
   "cell_type": "markdown",
   "id": "ff5ab986",
   "metadata": {
    "slideshow": {
     "slide_type": "slide"
    }
   },
   "source": [
    "## Quadratic Equation"
   ]
  },
  {
   "cell_type": "markdown",
   "id": "362c7c17",
   "metadata": {
    "slideshow": {
     "slide_type": "subslide"
    }
   },
   "source": [
    "### Graphical Calculator for Parabola"
   ]
  },
  {
   "cell_type": "markdown",
   "id": "f3abd7c0",
   "metadata": {
    "slideshow": {
     "slide_type": "-"
    }
   },
   "source": [
    "::::{figure} images/plot_parabola.gif\n",
    ":name: fig:parabola\n",
    ":alt: The parabola calculator\n",
    ":align: center\n",
    "\n",
    "Illustration of the parabola calculator\n",
    "\n",
    "::::"
   ]
  },
  {
   "cell_type": "markdown",
   "id": "780f4000",
   "metadata": {
    "slideshow": {
     "slide_type": "subslide"
    }
   },
   "source": [
    "::::{prf:definition} Parabola\n",
    ":label: def:parabola\n",
    "\n",
    "The collection of points $(x,y)$ satisfying the following equation forms a *parabola*:\n",
    "\n",
    "$$\n",
    "y=ax^2+bx+c\n",
    "$$ (eq:parabola)\n",
    "\n",
    "where $a$, $b$, and $c$ are real numbers called the *coefficients*.\n",
    "\n",
    "::::"
   ]
  },
  {
   "cell_type": "markdown",
   "id": "a400ae4e",
   "metadata": {},
   "source": [
    "The following plots the parabola with difference choices of coefficients."
   ]
  },
  {
   "cell_type": "code",
   "execution_count": null,
   "id": "669042fa",
   "metadata": {},
   "outputs": [],
   "source": [
    "jsxgraphs.parabola"
   ]
  },
  {
   "cell_type": "markdown",
   "id": "a74b1e84",
   "metadata": {
    "slideshow": {
     "slide_type": "fragment"
    }
   },
   "source": [
    "::::{exercise}\n",
    ":label: ex:parabola\n",
    "\n",
    "Given the variables `x`, `a`, `b`, and `c` store the $x$-coordinate and the coefficients $a$, $b$, and $c$ respectively, assign `y` the corresponding $y$-coordinate of the parabola [](#eq:parabola).\n",
    "\n",
    "::::"
   ]
  },
  {
   "cell_type": "code",
   "execution_count": null,
   "id": "8b956779",
   "metadata": {
    "deletable": false,
    "nbgrader": {
     "cell_type": "code",
     "checksum": "0c4ec83c059ff5e7eb8cce679873d361",
     "grade": false,
     "grade_id": "get_y",
     "locked": false,
     "schema_version": 3,
     "solution": true,
     "task": false
    },
    "slideshow": {
     "slide_type": "-"
    }
   },
   "outputs": [],
   "source": [
    "def get_y(x, a, b, c):\n",
    "    # YOUR CODE HERE\n",
    "    raise NotImplementedError\n",
    "    return y"
   ]
  },
  {
   "cell_type": "markdown",
   "id": "da1e9488",
   "metadata": {},
   "source": [
    "To test your code:"
   ]
  },
  {
   "cell_type": "code",
   "execution_count": null,
   "id": "91ae9111",
   "metadata": {
    "code_folding": [],
    "deletable": false,
    "editable": false,
    "nbgrader": {
     "cell_type": "code",
     "checksum": "baf7164d7d7a36ebda475ef4f4bb89b7",
     "grade": true,
     "grade_id": "test-get_y",
     "locked": true,
     "points": 1,
     "schema_version": 3,
     "solution": false,
     "task": false
    },
    "slideshow": {
     "slide_type": "fragment"
    }
   },
   "outputs": [],
   "source": [
    "# tests\n",
    "assert np.isclose(get_y(0, 0, 0, 0), 0)\n",
    "assert np.isclose(get_y(0, 1, 2, 1), 1)\n",
    "assert np.isclose(get_y(0, 2, 1, 2), 2)\n",
    "assert np.isclose(get_y(1.2, 2, 3, 4), 10.48)\n",
    "assert np.isclose(get_y(2, 3.3, 4, 5), 26.2)\n",
    "assert np.isclose(get_y(3, 4.4, 5, 6), 60.6)"
   ]
  },
  {
   "cell_type": "code",
   "execution_count": null,
   "id": "fa808862",
   "metadata": {
    "deletable": false,
    "editable": false,
    "nbgrader": {
     "cell_type": "code",
     "checksum": "0adfafae7b0307eb4e3a7be0bd936147",
     "grade": true,
     "grade_id": "htest-get_y",
     "locked": true,
     "points": 1,
     "schema_version": 3,
     "solution": false,
     "task": false
    }
   },
   "outputs": [],
   "source": [
    "# hidden tests"
   ]
  },
  {
   "cell_type": "markdown",
   "id": "63088170",
   "metadata": {},
   "source": [
    "To run the graphical calculator illustrate in [](#fig:parabola):"
   ]
  },
  {
   "cell_type": "code",
   "execution_count": null,
   "id": "9a2bc2be",
   "metadata": {
    "code_folding": [],
    "slideshow": {
     "slide_type": "subslide"
    }
   },
   "outputs": [],
   "source": [
    "# graphical calculator for parabola\n",
    "fig, ax = plt.subplots()\n",
    "xmin, xmax, ymin, ymax, resolution = -10, 10, -10, 10, 50\n",
    "x = np.linspace(xmin, xmax, resolution)\n",
    "ax.set_title(r\"$y=ax^2+bx+c$\")\n",
    "ax.set_xlabel(r\"$x$\")\n",
    "ax.set_ylabel(r\"$y$\")\n",
    "ax.set_xlim([xmin, xmax])\n",
    "ax.set_ylim([ymin, ymax])\n",
    "ax.grid()\n",
    "(p,) = ax.plot(x, get_y(x, 0, 0, 0))\n",
    "\n",
    "\n",
    "@interact(a=(-10, 10, 1), b=(-10, 10, 1), c=(-10, 10, 1))\n",
    "def plot_parabola(a, b, c):\n",
    "    p.set_ydata(get_y(x, a, b, c))"
   ]
  },
  {
   "cell_type": "markdown",
   "id": "1e194154",
   "metadata": {
    "slideshow": {
     "slide_type": "slide"
    }
   },
   "source": [
    "### Quadratic Equation Solver"
   ]
  },
  {
   "cell_type": "markdown",
   "id": "9113dff2",
   "metadata": {
    "slideshow": {
     "slide_type": "-"
    }
   },
   "source": [
    "::::{figure} images/quadratic-equation-solver.gif\n",
    ":name: fig:quadratic\n",
    ":alt: The quadratic equation solver\n",
    ":align: center\n",
    "\n",
    "Illustration of the quadratic equation solver\n",
    "\n",
    "::::"
   ]
  },
  {
   "cell_type": "markdown",
   "id": "56edf960",
   "metadata": {
    "slideshow": {
     "slide_type": "subslide"
    }
   },
   "source": [
    "::::{prf:proposition} quadratic equation\n",
    ":label: quadratic\n",
    "\n",
    "For the quadratic equation\n",
    "\n",
    "$$\n",
    "ax^2+bx+c=0,\n",
    "$$ (eq:quadratic)\n",
    "the *roots* (solutions for $x$) are give by\n",
    "\n",
    "$$\n",
    "\\frac{-b-\\sqrt{b^2-4ac}}{2a},\\frac{-b+\\sqrt{b^2-4ac}}{2a}.\n",
    "$$ (eq:quadratic_roots)\n",
    "\n",
    "::::"
   ]
  },
  {
   "cell_type": "markdown",
   "id": "fff7d46c",
   "metadata": {
    "slideshow": {
     "slide_type": "fragment"
    }
   },
   "source": [
    "::::{exercise} roots\n",
    ":label: ex:roots\n",
    "\n",
    "Assign to `root1` and `root2` the values of the first and second roots in [](#eq:quadratic_roots) above respectively.\n",
    "\n",
    ":::{caution}\n",
    "\n",
    "Return the roots in the correct order and pay attention to the associativity of the arithmetic operators.\n",
    "\n",
    ":::\n",
    "\n",
    "::::"
   ]
  },
  {
   "cell_type": "code",
   "execution_count": null,
   "id": "16d16e64",
   "metadata": {
    "deletable": false,
    "nbgrader": {
     "cell_type": "code",
     "checksum": "1db489f1469d915b70a815912ce37c13",
     "grade": false,
     "grade_id": "get_roots",
     "locked": false,
     "schema_version": 3,
     "solution": true,
     "task": false
    },
    "slideshow": {
     "slide_type": "fragment"
    }
   },
   "outputs": [],
   "source": [
    "def get_roots(a, b, c):\n",
    "    # YOUR CODE HERE\n",
    "    raise NotImplementedError\n",
    "    return root1, root2"
   ]
  },
  {
   "cell_type": "markdown",
   "id": "6edf5aae",
   "metadata": {},
   "source": [
    "To test your code:"
   ]
  },
  {
   "cell_type": "code",
   "execution_count": null,
   "id": "90f7c5d2",
   "metadata": {
    "code_folding": [],
    "deletable": false,
    "editable": false,
    "nbgrader": {
     "cell_type": "code",
     "checksum": "1d32bad676d5099e00b47a6f7b479c7b",
     "grade": true,
     "grade_id": "test-get_roots",
     "locked": true,
     "points": 1,
     "schema_version": 3,
     "solution": false,
     "task": false
    },
    "slideshow": {
     "slide_type": "fragment"
    }
   },
   "outputs": [],
   "source": [
    "# tests\n",
    "assert np.isclose(get_roots(1, 1, 0), (-1.0, 0.0)).all()\n",
    "assert np.isclose(get_roots(1, 2, 1), (-1.0, -1.0)).all()\n",
    "assert np.isclose(get_roots(2, 2, 1), (-0.5 - 0.5j, -0.5 + 0.5j)).all()"
   ]
  },
  {
   "cell_type": "code",
   "execution_count": null,
   "id": "84ec3bfc",
   "metadata": {
    "deletable": false,
    "editable": false,
    "nbgrader": {
     "cell_type": "code",
     "checksum": "79a531007ec3cae77b0a47be0ba9710c",
     "grade": true,
     "grade_id": "htest-get_roots",
     "locked": true,
     "points": 1,
     "schema_version": 3,
     "solution": false,
     "task": false
    }
   },
   "outputs": [],
   "source": [
    "# hidden tests"
   ]
  },
  {
   "cell_type": "markdown",
   "id": "625de578",
   "metadata": {},
   "source": [
    "To run the calculator illustrated in [](#fig:quadratic):"
   ]
  },
  {
   "cell_type": "code",
   "execution_count": null,
   "id": "4fcd577f",
   "metadata": {
    "code_folding": [
     0
    ],
    "slideshow": {
     "slide_type": "fragment"
    }
   },
   "outputs": [],
   "source": [
    "# quadratic equations solver\n",
    "@interact(a=(-10,10,1),b=(-10,10,1),c=(-10,10,1))\n",
    "def quadratic_equation_solver(a=1,b=2,c=1):\n",
    "    print('Roots: {}, {}'.format(*get_roots(a,b,c)))"
   ]
  },
  {
   "cell_type": "markdown",
   "id": "560b45da",
   "metadata": {
    "slideshow": {
     "slide_type": "slide"
    }
   },
   "source": [
    "## Number Conversion"
   ]
  },
  {
   "cell_type": "markdown",
   "id": "ef618618",
   "metadata": {
    "slideshow": {
     "slide_type": "subslide"
    }
   },
   "source": [
    "### Byte-to-Decimal Calculator"
   ]
  },
  {
   "cell_type": "markdown",
   "id": "619484e7",
   "metadata": {
    "slideshow": {
     "slide_type": "-"
    }
   },
   "source": [
    "::::{figure} images/byte-to-decimal.gif\n",
    ":name: fig:byte-to-decimal\n",
    ":alt: The byte-to-decimal calculator\n",
    ":align: center\n",
    "\n",
    "Illustration of the byte-to-decimal calculator\n",
    "\n",
    "::::"
   ]
  },
  {
   "cell_type": "markdown",
   "id": "d87c811d",
   "metadata": {
    "slideshow": {
     "slide_type": "subslide"
    }
   },
   "source": [
    "Denote a binary number stored as a byte ($8$-bit) as\n",
    "\n",
    "$$ \n",
    "b_7\\circ b_6\\circ b_5\\circ b_4\\circ b_3\\circ b_2\\circ b_1\\circ b_0, \n",
    "$$\n",
    "where $\\circ$ concatenates $b_i$'s together into a binary string."
   ]
  },
  {
   "cell_type": "markdown",
   "id": "21d70cd3",
   "metadata": {
    "slideshow": {
     "slide_type": "fragment"
    }
   },
   "source": [
    "The binary string can be converted to a decimal number by the formula\n",
    "\n",
    "$$ \n",
    "b_7\\cdot 2^7 + b_6\\cdot 2^6 + b_5\\cdot 2^5 + b_4\\cdot 2^4 + b_3\\cdot 2^3 + b_2\\cdot 2^2 + b_1\\cdot 2^1 + b_0\\cdot 2^0. \n",
    "$$"
   ]
  },
  {
   "cell_type": "markdown",
   "id": "018e2d86",
   "metadata": {
    "slideshow": {
     "slide_type": "fragment"
    }
   },
   "source": [
    "E.g., the binary string `'11111111'` is the largest integer represented by a byte:\n",
    "\n",
    "$$\n",
    "2^7+2^6+2^5+2^4+2^3+2^2+2^1+2^0=255=2^8-1.\n",
    "$$"
   ]
  },
  {
   "cell_type": "markdown",
   "id": "fdd88058",
   "metadata": {
    "slideshow": {
     "slide_type": "fragment"
    }
   },
   "source": [
    "::::{exercise}\n",
    "\n",
    "Assign to `decimal` the *integer* value represented by the binary sequence `b7,b6,b5,b4,b3,b2,b1,b0` of *characters* `'0'` or `'1'`.\n",
    "\n",
    "::::"
   ]
  },
  {
   "cell_type": "code",
   "execution_count": null,
   "id": "415506d9",
   "metadata": {
    "deletable": false,
    "nbgrader": {
     "cell_type": "code",
     "checksum": "633bf6ad7d72799a2088df62acc03ff2",
     "grade": false,
     "grade_id": "byte_to_decimal",
     "locked": false,
     "schema_version": 3,
     "solution": true,
     "task": false
    },
    "slideshow": {
     "slide_type": "fragment"
    }
   },
   "outputs": [],
   "source": [
    "def byte_to_decimal(b7, b6, b5, b4, b3, b2, b1, b0):\n",
    "    \"\"\"\n",
    "    Parameters\n",
    "    ----------\n",
    "    b7, ..., b0: single characters either '0' or '1'.\n",
    "    \"\"\"\n",
    "    # YOUR CODE HERE\n",
    "    raise NotImplementedError\n",
    "    return decimal"
   ]
  },
  {
   "cell_type": "markdown",
   "id": "57efdef8",
   "metadata": {},
   "source": [
    "To test your code:"
   ]
  },
  {
   "cell_type": "code",
   "execution_count": null,
   "id": "4bb4e8d5",
   "metadata": {
    "code_folding": [
     0
    ],
    "deletable": false,
    "editable": false,
    "nbgrader": {
     "cell_type": "code",
     "checksum": "22ecacb91d8ae70a0541dca75c3737a9",
     "grade": true,
     "grade_id": "test-byte_to_decimal",
     "locked": true,
     "points": 1,
     "schema_version": 3,
     "solution": false,
     "task": false
    },
    "slideshow": {
     "slide_type": "fragment"
    }
   },
   "outputs": [],
   "source": [
    "# tests\n",
    "def test_byte_to_decimal(decimal, b7, b6, b5, b4, b3, b2, b1, b0):\n",
    "    decimal_ = byte_to_decimal(b7, b6, b5, b4, b3, b2, b1, b0)\n",
    "    assert decimal == decimal_ and isinstance(decimal_, int)\n",
    "\n",
    "\n",
    "test_byte_to_decimal(38, \"0\", \"0\", \"1\", \"0\", \"0\", \"1\", \"1\", \"0\")\n",
    "test_byte_to_decimal(20, \"0\", \"0\", \"0\", \"1\", \"0\", \"1\", \"0\", \"0\")\n",
    "test_byte_to_decimal(22, \"0\", \"0\", \"0\", \"1\", \"0\", \"1\", \"1\", \"0\")\n",
    "test_byte_to_decimal(146, '1', '0', '0', '1', '0', '0', '1', '0')\n",
    "test_byte_to_decimal(128, '1', '0', '0', '0', '0', '0', '0', '0')\n",
    "test_byte_to_decimal(71, '0', '1', '0', '0', '0', '1', '1', '1')"
   ]
  },
  {
   "cell_type": "code",
   "execution_count": null,
   "id": "eaf52c8f",
   "metadata": {
    "deletable": false,
    "editable": false,
    "nbgrader": {
     "cell_type": "code",
     "checksum": "368a00935ff0f11755434b00e27eeaff",
     "grade": true,
     "grade_id": "htest-byte_to_decimal",
     "locked": true,
     "points": 1,
     "schema_version": 3,
     "solution": false,
     "task": false
    }
   },
   "outputs": [],
   "source": [
    "# hidden tests"
   ]
  },
  {
   "cell_type": "markdown",
   "id": "26b43dda",
   "metadata": {},
   "source": [
    "To run the calculator illustrate in [](#fig:byte-to-decimal):"
   ]
  },
  {
   "cell_type": "code",
   "execution_count": null,
   "id": "b0ca6811",
   "metadata": {
    "code_folding": [
     0
    ]
   },
   "outputs": [],
   "source": [
    "# byte-to-decimal calculator\n",
    "bit = ['0', '1']\n",
    "\n",
    "\n",
    "@interact(b7=bit, b6=bit, b5=bit, b4=bit, b3=bit, b2=bit, b1=bit, b0=bit)\n",
    "def convert_byte_to_decimal(b7, b6, b5, b4, b3, b2, b1, b0):\n",
    "    print('decimal:', byte_to_decimal(b7, b6, b5, b4, b3, b2, b1, b0))"
   ]
  },
  {
   "cell_type": "markdown",
   "id": "0c288ff4",
   "metadata": {
    "slideshow": {
     "slide_type": "subslide"
    }
   },
   "source": [
    "### Decimal-to-Byte Calculator"
   ]
  },
  {
   "cell_type": "markdown",
   "id": "917b5baf",
   "metadata": {
    "slideshow": {
     "slide_type": "-"
    }
   },
   "source": [
    "::::{figure} images/decimal-to-byte.gif\n",
    ":name: fig:decimal-to-byte\n",
    ":alt: The decimal-to-byte calculator\n",
    ":align: center\n",
    "\n",
    "Illustration of the decimal-to-byte calculator\n",
    "\n",
    "::::"
   ]
  },
  {
   "cell_type": "markdown",
   "id": "83dbfe4c",
   "metadata": {
    "slideshow": {
     "slide_type": "subslide"
    }
   },
   "source": [
    "::::{exercise}\n",
    ":label: ex:decimal-to-byte\n",
    "\n",
    "Assign to `byte` a *string of 8 bits* that represents the value of `decimal`, a non-negative decimal integer from $0$ to $2^8-1=255$.  \n",
    "\n",
    ":::{important}\n",
    "\n",
    "Use the operators `//` and `%`, but not the function `int`.\n",
    ":::\n",
    "\n",
    "::::"
   ]
  },
  {
   "cell_type": "code",
   "execution_count": null,
   "id": "f33b967e",
   "metadata": {
    "deletable": false,
    "nbgrader": {
     "cell_type": "code",
     "checksum": "9b3e6e3653b1d63abe3861a80376b740",
     "grade": false,
     "grade_id": "decimal_to_byte",
     "locked": false,
     "schema_version": 3,
     "solution": true,
     "task": false
    },
    "slideshow": {
     "slide_type": "-"
    }
   },
   "outputs": [],
   "source": [
    "def decimal_to_byte(decimal):\n",
    "    # YOUR CODE HERE\n",
    "    raise NotImplementedError\n",
    "    return byte"
   ]
  },
  {
   "cell_type": "markdown",
   "id": "35c55a1d",
   "metadata": {},
   "source": [
    "To test your code:"
   ]
  },
  {
   "cell_type": "code",
   "execution_count": null,
   "id": "53554717",
   "metadata": {
    "code_folding": [
     0
    ],
    "deletable": false,
    "editable": false,
    "nbgrader": {
     "cell_type": "code",
     "checksum": "9c9637c807d290cf78e639b74c45f3fe",
     "grade": true,
     "grade_id": "test-decimal_to_byte",
     "locked": true,
     "points": 1,
     "schema_version": 3,
     "solution": false,
     "task": false
    },
    "slideshow": {
     "slide_type": "fragment"
    }
   },
   "outputs": [],
   "source": [
    "# tests\n",
    "def test_decimal_to_byte(byte, decimal):\n",
    "    byte_ = decimal_to_byte(decimal)\n",
    "    assert byte == byte_ and isinstance(byte, str) and len(byte) == 8\n",
    "\n",
    "\n",
    "test_decimal_to_byte(\"01100111\", 103)\n",
    "test_decimal_to_byte(\"00000011\", 3)\n",
    "test_decimal_to_byte(\"00011100\", 28)\n",
    "test_decimal_to_byte('11011111', 223)\n",
    "test_decimal_to_byte('00000100', 4)\n",
    "test_decimal_to_byte('10011001', 153)\n",
    "\n",
    "\n",
    "def test_decimal_to_byte(byte,decimal):\n",
    "    byte_ = decimal_to_byte(decimal)\n",
    "    correct = byte == byte_ and isinstance(byte, str) and len(byte) == 8\n",
    "    if not correct:\n",
    "        print(\n",
    "            f'{decimal} should be represented as the byte {byte}, not {byte_}.'\n",
    "        )\n",
    "    assert correct\n",
    "\n",
    "\n",
    "test_decimal_to_byte('01100111', 103)\n",
    "test_decimal_to_byte('00000011', 3)\n",
    "test_decimal_to_byte('00011100', 28)"
   ]
  },
  {
   "cell_type": "code",
   "execution_count": null,
   "id": "c8f6cb43",
   "metadata": {
    "deletable": false,
    "editable": false,
    "nbgrader": {
     "cell_type": "code",
     "checksum": "7f8a949776449868af9155c44585aa19",
     "grade": true,
     "grade_id": "htest-decimal_to_byte",
     "locked": true,
     "points": 1,
     "schema_version": 3,
     "solution": false,
     "task": false
    }
   },
   "outputs": [],
   "source": [
    "# hidden tests"
   ]
  },
  {
   "cell_type": "markdown",
   "id": "fe059fa6",
   "metadata": {},
   "source": [
    "To run the calculator illustrated in [](#fig:decimal-to-byte):"
   ]
  },
  {
   "cell_type": "code",
   "execution_count": null,
   "id": "654e0ebe",
   "metadata": {
    "code_folding": [
     0
    ],
    "slideshow": {
     "slide_type": "fragment"
    }
   },
   "outputs": [],
   "source": [
    "# decimal-to-byte calculator\n",
    "@interact(decimal=(0, 255, 1))\n",
    "def convert_decimal_to_byte(decimal=0):\n",
    "    print(\"byte:\", decimal_to_byte(decimal))"
   ]
  }
 ],
 "metadata": {
  "kernelspec": {
   "display_name": "Python 3 (ipykernel)",
   "language": "python",
   "name": "python3"
  }
 },
 "nbformat": 4,
 "nbformat_minor": 5
}
