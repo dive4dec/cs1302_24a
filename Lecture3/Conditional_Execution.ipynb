{
 "cells": [
  {
   "cell_type": "markdown",
   "id": "e2fe5374",
   "metadata": {
    "editable": true,
    "slideshow": {
     "slide_type": "slide"
    }
   },
   "source": [
    "---\n",
    "title: Conditional Execution\n",
    "abstract: |\n",
    "  Conditional execution allows a program to selectively execute different parts of the code based on specific conditions. This capability enables the program to adapt and respond appropriately to various situations it encounters, making it more flexible and functional. By using boolean expressions and conditional statements, students will learn to direct the flow of execution to handle a wide range of inputs and scenarios effectively.\n",
    "---"
   ]
  },
  {
   "cell_type": "code",
   "execution_count": null,
   "id": "bb18dce5",
   "metadata": {},
   "outputs": [],
   "source": [
    "from __init__ import install_dependencies\n",
    "\n",
    "await install_dependencies()"
   ]
  },
  {
   "cell_type": "code",
   "execution_count": null,
   "id": "7472577b",
   "metadata": {
    "editable": true,
    "slideshow": {
     "slide_type": "slide"
    }
   },
   "outputs": [],
   "source": [
    "import math\n",
    "\n",
    "from flowcharts import *\n",
    "from ipywidgets import interact\n",
    "from dis import dis\n",
    "\n",
    "%load_ext divewidgets\n",
    "%load_ext jupyter_ai\n",
    "%ai update chatgpt dive:chat"
   ]
  },
  {
   "cell_type": "markdown",
   "id": "6e3d157b",
   "metadata": {
    "editable": true,
    "slideshow": {
     "slide_type": "slide"
    }
   },
   "source": [
    "## Motivation"
   ]
  },
  {
   "cell_type": "markdown",
   "id": "0a521935",
   "metadata": {
    "slideshow": {
     "slide_type": "fragment"
    }
   },
   "source": [
    "Conditional execution means running different pieces of code based on different conditions. Why do programmers need conditional executation?"
   ]
  },
  {
   "cell_type": "markdown",
   "id": "d9f5cbc1",
   "metadata": {
    "slideshow": {
     "slide_type": "fragment"
    }
   },
   "source": [
    "For instance, when trying to compute `a/b`, `b` may be `0` and division by `0` is invalid."
   ]
  },
  {
   "cell_type": "code",
   "execution_count": null,
   "id": "268141de",
   "metadata": {
    "slideshow": {
     "slide_type": "-"
    }
   },
   "outputs": [],
   "source": [
    "%%optlite -h 450\n",
    "def multiply_or_divide(a, b):\n",
    "    print(\"a:{}, b:{}, a*b:{}, a/b:{}\".format(a, b, a * b, a / b))\n",
    "\n",
    "\n",
    "multiply_or_divide(1, 2)\n",
    "multiply_or_divide(1, 0)"
   ]
  },
  {
   "cell_type": "markdown",
   "id": "97c12ad2",
   "metadata": {},
   "source": [
    "Although division by 0 is invalid, multiplication remains valid but it is not printed due to the division error."
   ]
  },
  {
   "cell_type": "markdown",
   "id": "d2693479",
   "metadata": {
    "slideshow": {
     "slide_type": "subslide"
    }
   },
   "source": [
    "Can we skip only the division but not the multiplication when `b` is equal to `0`?"
   ]
  },
  {
   "cell_type": "markdown",
   "id": "8795afe7",
   "metadata": {
    "slideshow": {
     "slide_type": "fragment"
    }
   },
   "source": [
    "One solution is to use a *conditional expression* \n",
    "\n",
    "```python\n",
    "... if ... else ...\n",
    "```\n",
    "\n",
    "that specifies which code block should be executed under what condition."
   ]
  },
  {
   "cell_type": "code",
   "execution_count": null,
   "id": "ee85ab1c",
   "metadata": {
    "slideshow": {
     "slide_type": "fragment"
    }
   },
   "outputs": [],
   "source": [
    "def multiply_or_divide(a, b):\n",
    "    q = a / b if b else \"undefined\"\n",
    "    print(\"a:{}, b:{}, a*b:{}, a/b:{}\".format(a, b, a * b, q))\n",
    "\n",
    "\n",
    "multiply_or_divide(1, 2)\n",
    "multiply_or_divide(1, 0)  # multiplication is valid but not shown"
   ]
  },
  {
   "cell_type": "markdown",
   "id": "992fd924",
   "metadata": {},
   "source": [
    "Another solution is to use a *boolean expression*\n",
    "\n",
    "```python\n",
    "... and ... or ...\n",
    "```"
   ]
  },
  {
   "cell_type": "code",
   "execution_count": null,
   "id": "7a67fc36",
   "metadata": {},
   "outputs": [],
   "source": [
    "def multiply_or_divide(a, b):\n",
    "    q = b and a / b or \"undefined\"\n",
    "    print(\"a:{}, b:{}, a*b:{}, a/b:{}\".format(a, b, a * b, q))\n",
    "\n",
    "\n",
    "multiply_or_divide(1, 2)\n",
    "multiply_or_divide(1, 0)  # multiplication is valid but not shown"
   ]
  },
  {
   "cell_type": "markdown",
   "id": "dde5524d",
   "metadata": {},
   "source": [
    "Yet another solution is to monitor and catch the error using a *try statement*:"
   ]
  },
  {
   "cell_type": "code",
   "execution_count": null,
   "id": "d9227d65",
   "metadata": {},
   "outputs": [],
   "source": [
    "def multiply_or_divide(a, b):\n",
    "    try:\n",
    "        q = a / b\n",
    "    except ZeroDivisionError:\n",
    "        q = \"undefined\"\n",
    "    print(\"a:{}, b:{}, a*b:{}, a/b:{}\".format(a, b, a * b, q))\n",
    "\n",
    "\n",
    "multiply_or_divide(1, 2)\n",
    "multiply_or_divide(1, 0)  # multiplication is valid but not shown"
   ]
  },
  {
   "cell_type": "markdown",
   "id": "1ebc308d",
   "metadata": {},
   "source": [
    "In this notebook, we will introduce the first two solutions but not the last one, even though the last one is a better way to handle exceptions when the operations get complicated."
   ]
  },
  {
   "cell_type": "code",
   "execution_count": null,
   "id": "6360c910",
   "metadata": {},
   "outputs": [],
   "source": [
    "%%ai chatgpt -f text\n",
    "Explain in one paragraph, using a simple example, the benefits of using a try statement over conditional checks for handling exceptions and errors."
   ]
  },
  {
   "cell_type": "markdown",
   "id": "2f17e2ae",
   "metadata": {
    "slideshow": {
     "slide_type": "subslide"
    }
   },
   "source": [
    "## Comparison Operators"
   ]
  },
  {
   "cell_type": "markdown",
   "id": "5a10d592",
   "metadata": {},
   "source": [
    "A [*comparison/relational operators*](https://docs.python.org/3/reference/expressions.html#comparisons) along with its operands form an expression, which evaluates to a [boolean value](https://en.wikipedia.org/wiki/Boolean_data_type):"
   ]
  },
  {
   "cell_type": "code",
   "execution_count": null,
   "id": "abbf7ce7",
   "metadata": {},
   "outputs": [],
   "source": [
    "True  # if the operands satisfy certain conditions, and"
   ]
  },
  {
   "cell_type": "code",
   "execution_count": null,
   "id": "96028f67",
   "metadata": {},
   "outputs": [],
   "source": [
    "False  # otherwise."
   ]
  },
  {
   "cell_type": "markdown",
   "id": "803ceb37",
   "metadata": {},
   "source": [
    "Unlike many other languages, Python capitalized the keywords for the boolean values to signify that they are constant, just like the keyword `None`. Hence,\n",
    "\n",
    "```python\n",
    "true = False  # is invalid in many languages but not Python\n",
    "False = true  # is valid in many languages but not Python\n",
    "```"
   ]
  },
  {
   "cell_type": "markdown",
   "id": "cf6aabaf",
   "metadata": {},
   "source": [
    "::::{seealso} What are boolean values \"boolean\"?\n",
    ":class: dropdown\n",
    "\n",
    "Boolean expressions are named after [George Boole](https://en.wikipedia.org/wiki/George_Boole), whose work laid the foundation of digital circuitry. Below are the links to the ebooks, thanks to [Project Gutenberg](https://www.gutenberg.org/about/):\n",
    "\n",
    "- [Boole, George. The mathematical analysis of logic. CreateSpace Independent Publishing Platform, 1847.](https://www.gutenberg.org/ebooks/36884)\n",
    "- [Boole, George. An investigation of the laws of thought: on which are founded the mathematical theories of logic and probabilities. Vol. 2. Walton and Maberly, 1854.](https://www.gutenberg.org/ebooks/15114)\n",
    "\n",
    "\n",
    "::::"
   ]
  },
  {
   "cell_type": "markdown",
   "id": "7ce624a4",
   "metadata": {},
   "source": [
    "::::{caution}\n",
    ":class: dropdown\n",
    "\n",
    "Later in the course, you'll learn that operators can be customized to return boolean or non-boolean values. For example, `==` can be redefined to perform addition, and `+` can be redefined to check equality.\n",
    "\n",
    "::::"
   ]
  },
  {
   "cell_type": "markdown",
   "id": "921663f5",
   "metadata": {},
   "source": [
    "### Equality and Inequalties"
   ]
  },
  {
   "cell_type": "markdown",
   "id": "c85d8555",
   "metadata": {
    "slideshow": {
     "slide_type": "fragment"
    }
   },
   "source": [
    "The equality and inequality relationships in mathematics are implemented using the following comparison operators:"
   ]
  },
  {
   "cell_type": "markdown",
   "id": "e100e373",
   "metadata": {
    "slideshow": {
     "slide_type": "-"
    }
   },
   "source": [
    "::::{table} Comparison operators for equality and inequalities\n",
    ":label: tbl:math-comparison\n",
    "\n",
    "| Expression |  True iff  |\n",
    "| :--------- | :--------- |\n",
    "|   `x == y`[^eq] | $x=y$.     |\n",
    "|    `x < y`[^neq] | $x<y$.     |\n",
    "|   `x <= y` | $x\\leq y$. |\n",
    "|    `x > y` | $x>y$.     |\n",
    "|   `x >= y` | $x\\geq y$. |\n",
    "|   `x != y` | $x\\neq y$. |\n",
    "\n",
    "::::\n",
    "\n",
    "[^eq]: The equality operator `==` consists of *two equal signs*, different from the assignment operator `=`.\n",
    "[^neq]: Different from C or javascript:  \n",
    "    - We can write `1 != 2` as `not 1 == 2` but not `!(1 == 2)` because\n",
    "    - `!` is not a logical operator. It is used to call a [system shell command](https://ipython.readthedocs.io/en/stable/interactive/tutorial.html?highlight=system%20call#system-shell-commands) in IPython."
   ]
  },
  {
   "cell_type": "markdown",
   "id": "9edb6af3",
   "metadata": {
    "slideshow": {
     "slide_type": "fragment"
    }
   },
   "source": [
    "You can explore these operators using the widgets below:"
   ]
  },
  {
   "cell_type": "code",
   "execution_count": null,
   "id": "3874a4e4",
   "metadata": {
    "code_folding": [
     0
    ],
    "slideshow": {
     "slide_type": "-"
    }
   },
   "outputs": [],
   "source": [
    "comparison_operators = [\"==\", \"<\", \"<=\", \">\", \">=\", \"!=\"]\n",
    "\n",
    "\n",
    "@interact(operand1=\"10\", operator=comparison_operators, operand2=\"3\")\n",
    "def comparison(operand1, operator, operand2):\n",
    "    expression = f\"{operand1} {operator} {operand2}\"\n",
    "    value = eval(expression)\n",
    "    print(\n",
    "        f\"\"\"{'Expression:':>11} {expression}\\n{'Value:':>11} {value}\\n{'Type:':>11} {type(value)}\"\"\"\n",
    "    )"
   ]
  },
  {
   "cell_type": "code",
   "execution_count": null,
   "id": "8a374b7f",
   "metadata": {},
   "outputs": [],
   "source": [
    "%%ai chatgpt -f text\n",
    "Explain in a paragraph how the comparison operators == may be represented differently in other programming languages such as maxima, scheme, and bash."
   ]
  },
  {
   "cell_type": "markdown",
   "id": "f4ea76cb",
   "metadata": {
    "slideshow": {
     "slide_type": "fragment"
    }
   },
   "source": [
    "**What is the precedence of comparison operators?**"
   ]
  },
  {
   "cell_type": "markdown",
   "id": "5d13ec10",
   "metadata": {},
   "source": [
    "All the comparison operators have the [same precedence](https://docs.python.org/3/reference/expressions.html?highlight=precedence#operator-precedence) lower than that of `+` and `-`."
   ]
  },
  {
   "cell_type": "code",
   "execution_count": null,
   "id": "6d53149e",
   "metadata": {
    "slideshow": {
     "slide_type": "fragment"
    }
   },
   "outputs": [],
   "source": [
    "1 + 2 >= 3  # (1 + 2) >= 3"
   ]
  },
  {
   "cell_type": "markdown",
   "id": "e71a9b4f",
   "metadata": {
    "slideshow": {
     "slide_type": "fragment"
    }
   },
   "source": [
    "Similar to the assignment operations, comparison operators can be chained together but they are [*non-associative*](https://en.wikipedia.org/wiki/Operator_associativity#Non-associative_operators)."
   ]
  },
  {
   "cell_type": "code",
   "execution_count": null,
   "id": "410fa6a4",
   "metadata": {
    "slideshow": {
     "slide_type": "-"
    }
   },
   "outputs": [],
   "source": [
    "2.0 == 2 > 1, (2.0 == 2) > 1, 2.0 == (2 > 1)"
   ]
  },
  {
   "cell_type": "markdown",
   "id": "13687f5e",
   "metadata": {
    "slideshow": {
     "slide_type": "subslide"
    }
   },
   "source": [
    "::::{exercise} associativity\n",
    ":label: ex:associativity\n",
    "\n",
    "Explain why the following boolean expressions have different values.\n",
    "\n",
    "::::"
   ]
  },
  {
   "cell_type": "code",
   "execution_count": null,
   "id": "7633e116",
   "metadata": {
    "slideshow": {
     "slide_type": "-"
    }
   },
   "outputs": [],
   "source": [
    "1 <= 2 < 3 != 4, (1 <= 2) < (3 != 4)"
   ]
  },
  {
   "cell_type": "markdown",
   "id": "3fbd481e",
   "metadata": {
    "deletable": false,
    "nbgrader": {
     "cell_type": "markdown",
     "checksum": "4a4992e3ff7d2b69137b4244b922db4a",
     "grade": true,
     "grade_id": "chained_relational_operator",
     "locked": false,
     "points": 0,
     "schema_version": 3,
     "solution": true,
     "task": false
    },
    "slideshow": {
     "slide_type": "-"
    }
   },
   "source": [
    "YOUR ANSWER HERE"
   ]
  },
  {
   "cell_type": "markdown",
   "id": "6957328c",
   "metadata": {
    "slideshow": {
     "slide_type": "subslide"
    }
   },
   "source": [
    "::::{exercise} comparison operators\n",
    ":label: ex:comparison\n",
    "\n",
    "The comparison operators can be applied to different data types, as illustrated below.  \n",
    "Explain the meaning of the operators in each of the following expressions.\n",
    "\n",
    "::::"
   ]
  },
  {
   "cell_type": "code",
   "execution_count": null,
   "id": "f9e1ddc3",
   "metadata": {
    "code_folding": [
     0
    ],
    "slideshow": {
     "slide_type": "-"
    }
   },
   "outputs": [],
   "source": [
    "# Comparisons beyond numbers\n",
    "@interact(\n",
    "    expression=[\n",
    "        \"10 == 10.\",\n",
    "        '\"A\" == \"A\"',\n",
    "        '\"A\" == \"A \"',\n",
    "        '\"A\" != \"a\"',\n",
    "        '\"A\" > \"a\"',\n",
    "        '\"aBcd\" < \"abd\"',\n",
    "        '\"A\" != 64',\n",
    "        '\"A\" < 64',\n",
    "    ]\n",
    ")\n",
    "def relational_expression(expression):\n",
    "    print(eval(expression))"
   ]
  },
  {
   "cell_type": "markdown",
   "id": "d771ba44",
   "metadata": {
    "deletable": false,
    "nbgrader": {
     "cell_type": "markdown",
     "checksum": "88dd5fd1da72d43cdf23d2cf6db07c8d",
     "grade": true,
     "grade_id": "relational_expression",
     "locked": false,
     "points": 0,
     "schema_version": 3,
     "solution": true,
     "task": false
    },
    "slideshow": {
     "slide_type": "-"
    }
   },
   "source": [
    "YOUR ANSWER HERE"
   ]
  },
  {
   "cell_type": "markdown",
   "id": "ecd3e93e",
   "metadata": {},
   "source": [
    "### Comparing `float`"
   ]
  },
  {
   "cell_type": "markdown",
   "id": "af9676bb",
   "metadata": {
    "slideshow": {
     "slide_type": "subslide"
    }
   },
   "source": [
    "**How to compare floating point numbers?**"
   ]
  },
  {
   "cell_type": "code",
   "execution_count": null,
   "id": "7eedfb2c",
   "metadata": {
    "slideshow": {
     "slide_type": "fragment"
    }
   },
   "outputs": [],
   "source": [
    "x = 10\n",
    "y = (x ** (1 / 3)) ** 3\n",
    "x == y"
   ]
  },
  {
   "cell_type": "markdown",
   "id": "3db5835b",
   "metadata": {
    "slideshow": {
     "slide_type": "fragment"
    }
   },
   "source": [
    "::::{caution} Why False? Shouldn't $(x^{\\frac13})^3=x$?\n",
    ":class: dropdown\n",
    "\n",
    "- Floating point numbers have finite precisions and so  \n",
    "- we should instead check whether the numbers are close enough.\n",
    "\n",
    "::::"
   ]
  },
  {
   "cell_type": "markdown",
   "id": "6efddb47",
   "metadata": {
    "slideshow": {
     "slide_type": "subslide"
    }
   },
   "source": [
    "One method of comparing floating point numbers is:"
   ]
  },
  {
   "cell_type": "code",
   "execution_count": null,
   "id": "4f7685d0",
   "metadata": {},
   "outputs": [],
   "source": [
    "abs_tol = 1e-9\n",
    "y - abs_tol <= x <= y + abs_tol"
   ]
  },
  {
   "cell_type": "markdown",
   "id": "6ca3bded",
   "metadata": {},
   "source": [
    "where `abs_tol`, often denoted as $\\delta_{\\text{abs}}$, is a positive number called the *absolute tolerance*."
   ]
  },
  {
   "cell_type": "markdown",
   "id": "4eab93a8",
   "metadata": {},
   "source": [
    "**Why call it absolute tolerance?**"
   ]
  },
  {
   "cell_type": "markdown",
   "id": "aeb24272",
   "metadata": {},
   "source": [
    "Note that the test remains unchanged if we swap `x` and `y`:"
   ]
  },
  {
   "cell_type": "code",
   "execution_count": null,
   "id": "cdcf0fd7",
   "metadata": {},
   "outputs": [],
   "source": [
    "abs_tol = 1e-9\n",
    "x - abs_tol <= y <= x + abs_tol"
   ]
  },
  {
   "cell_type": "markdown",
   "id": "d52dd2be",
   "metadata": {},
   "source": [
    "Using the absolute function `abs`, we can also rewrite the comparison as follows:"
   ]
  },
  {
   "cell_type": "code",
   "execution_count": null,
   "id": "05a08f13",
   "metadata": {
    "slideshow": {
     "slide_type": "fragment"
    }
   },
   "outputs": [],
   "source": [
    "abs_tol = 1e-9\n",
    "abs(x - y) <= abs_tol"
   ]
  },
  {
   "cell_type": "markdown",
   "id": "416ea5c1",
   "metadata": {},
   "source": [
    "::::{prf:definition} Absolute tolerance\n",
    "\n",
    "The equality of $x$ and $y$ within an absolute tolerance of $\\delta_{\\text{abs}}$ means\n",
    "\n",
    "$$x=y\\pm \\delta_{\\text{abs}},$$\n",
    "\n",
    "or more explicitly,\n",
    "\n",
    "$$\\lvert x-y\\rvert \\leq \\delta_{\\text{abs}}.$$\n",
    "\n",
    "In other words, the comparison does not tolerate an absolute difference between $x$ and $y$ larger than $\\delta_{\\text{abs}}$.\n",
    "\n",
    "::::"
   ]
  },
  {
   "cell_type": "markdown",
   "id": "26a2b5ec",
   "metadata": {
    "slideshow": {
     "slide_type": "subslide"
    }
   },
   "source": [
    "**Is an absolute tolerance of `1e-9` good enough?**"
   ]
  },
  {
   "cell_type": "markdown",
   "id": "128342e0",
   "metadata": {
    "slideshow": {
     "slide_type": "fragment"
    }
   },
   "source": [
    "The same absolute tolerance fails if we set `x = 1e10` instead of `10`?"
   ]
  },
  {
   "cell_type": "code",
   "execution_count": null,
   "id": "0d5da834",
   "metadata": {
    "slideshow": {
     "slide_type": "fragment"
    }
   },
   "outputs": [],
   "source": [
    "x = 1e10\n",
    "y = (x ** (1 / 3)) ** 3\n",
    "\n",
    "abs_tol = 1e-9\n",
    "abs(x - y) <= abs_tol"
   ]
  },
  {
   "cell_type": "markdown",
   "id": "090b5a63",
   "metadata": {},
   "source": [
    "Why does the same absolute tolerance fail to tolerate the difference between `x` and `y`?\n",
    "This is because floating point numbers \"float\" at different scales."
   ]
  },
  {
   "cell_type": "markdown",
   "id": "caedc64e",
   "metadata": {},
   "source": [
    "A better way is to use the [`isclose`](https://docs.python.org/3/library/math.html#math.isclose) function from `math` module."
   ]
  },
  {
   "cell_type": "code",
   "execution_count": null,
   "id": "387fcb94",
   "metadata": {
    "slideshow": {
     "slide_type": "fragment"
    }
   },
   "outputs": [],
   "source": [
    "math.isclose(x, y)"
   ]
  },
  {
   "cell_type": "markdown",
   "id": "3387ac8c",
   "metadata": {
    "slideshow": {
     "slide_type": "subslide"
    }
   },
   "source": [
    "**How does `isclose` work?**"
   ]
  },
  {
   "cell_type": "markdown",
   "id": "1a0a647f",
   "metadata": {},
   "source": [
    "For example, we can check whether $x$ is within a certain percentage of $y$:"
   ]
  },
  {
   "cell_type": "code",
   "execution_count": null,
   "id": "3ec1b889",
   "metadata": {},
   "outputs": [],
   "source": [
    "rel_tol = 1e-9\n",
    "y * (1 - rel_tol) <= x <= y * (1 + rel_tol)"
   ]
  },
  {
   "cell_type": "markdown",
   "id": "e40a7fdd",
   "metadata": {},
   "source": [
    "Note that the above test is not symmetric between $x$ and $y$, i.e., $x$ is relatively close to $y$ does not necessarily mean $y$ is relatively close to $x$."
   ]
  },
  {
   "cell_type": "code",
   "execution_count": null,
   "id": "723d61fb",
   "metadata": {},
   "outputs": [],
   "source": [
    "x = 1\n",
    "y = 2\n",
    "rel_tol = 0.5\n",
    "y * (1 - rel_tol) <= x <= y * (1 + rel_tol), x * (1 - rel_tol) <= y <= x * (1 + rel_tol)"
   ]
  },
  {
   "cell_type": "markdown",
   "id": "96efd148",
   "metadata": {},
   "source": [
    "To make the comparison symmetric:"
   ]
  },
  {
   "cell_type": "markdown",
   "id": "b3361aa4",
   "metadata": {},
   "source": [
    "::::{prf:definition} Relative tolerance\n",
    "\n",
    "The equality of $x$ and $y$ is within a *relative tolerance* of $\\delta_{\\text{rel}}$ if\n",
    "\n",
    "$$x=y \\pm \\delta_{\\text{rel}} \\max\\Set{\\lvert x\\rvert,\\lvert y\\rvert},$$\n",
    "\n",
    "or equivalently,\n",
    "\n",
    "$$\\lvert x-y\\rvert \\leq  \\delta_{\\text{rel}} \\max\\Set{\\lvert x\\rvert,\\lvert y\\rvert}.$$ (eq:rel_tol)\n",
    "\n",
    "::::"
   ]
  },
  {
   "cell_type": "markdown",
   "id": "fe9c5db6",
   "metadata": {},
   "source": [
    "::::{note} Why use $\\max\\Set{\\lvert x\\rvert,\\lvert y\\rvert}$ but not $\\min\\Set{\\lvert x\\rvert,\\lvert y\\rvert}$?\n",
    ":class: dropdown\n",
    "\n",
    "This is to make the test more tolerant, i.e.,\n",
    "\n",
    "$$\n",
    "\\begin{align}\n",
    "x&=y (1 \\pm \\delta_{\\text{rel}}) && \\text{ or } & y&=x (1 \\pm \\delta_{\\text{rel}})\n",
    "\\end{align}\n",
    "$$\n",
    "\n",
    "instead of requiring both.\n",
    "\n",
    "::::"
   ]
  },
  {
   "cell_type": "markdown",
   "id": "aa262ede",
   "metadata": {
    "slideshow": {
     "slide_type": "fragment"
    }
   },
   "source": [
    "::::{exercise} relative tolerance\n",
    "\n",
    "Write the boolean expression that implements the above inequality. You can use the function `max(a, b)` to find the maximum of `a` and `b`.\n",
    "\n",
    "::::"
   ]
  },
  {
   "cell_type": "code",
   "execution_count": null,
   "id": "e150de68",
   "metadata": {
    "deletable": false,
    "nbgrader": {
     "cell_type": "code",
     "checksum": "8f4576aa1e2540166adf3eb88dba4460",
     "grade": false,
     "grade_id": "rel_tol",
     "locked": false,
     "schema_version": 3,
     "solution": true,
     "task": false
    },
    "slideshow": {
     "slide_type": "-"
    }
   },
   "outputs": [],
   "source": [
    "rel_tol = 1e-9\n",
    "x = 1e10\n",
    "y = (x ** (1 / 3)) ** 3\n",
    "# YOUR CODE HERE\n",
    "raise NotImplementedError"
   ]
  },
  {
   "cell_type": "markdown",
   "id": "75cb35c0",
   "metadata": {},
   "source": [
    "What if $x$ or $y$ is very close to 0? For instance, can you change `rel_tol` so that `math.isclose` returns `True`?"
   ]
  },
  {
   "cell_type": "code",
   "execution_count": null,
   "id": "75c33aa4",
   "metadata": {},
   "outputs": [],
   "source": [
    "x = 1e-15\n",
    "y = 0\n",
    "math.isclose(x, y, rel_tol = 1e-9)"
   ]
  },
  {
   "cell_type": "markdown",
   "id": "4895387e",
   "metadata": {},
   "source": [
    "::::{caution} \n",
    "\n",
    "If $x$ or $y$ is very close to 0, the relative tolerance test becomes ineffective, and so absolute tolerance is a more meaningful test.\n",
    "\n",
    ":::{note} Why?\n",
    ":class: dropdown\n",
    "\n",
    "In particular, with $y=0$, [](#eq:rel_tol) becomes \n",
    "\n",
    "$$\n",
    "\\begin{align}\n",
    "\\lvert x-0\\rvert&\\leq \\delta_{\\text{rel}} \\max\\Set{\\lvert x\\rvert, 0}\\\\\n",
    "\\lvert x\\rvert&\\leq \\delta_{\\text{rel}} \\lvert x\\rvert\\\\\n",
    "1 &\\leq \\delta_{\\text{rel}} \\quad\\text{or}\\quad x=0.\n",
    "\\end{align}\n",
    "$$\n",
    "\n",
    "In the nontrivial case $x\\neq 0$, the test $\\delta_{\\text{rel}}>1$ is independent of the value of $x$, and therefore cannot check whether $x$ is close to $0$. In particular, since $\\delta_{\\text{rel}}<1$ normally, and the test would always fail unless $x=0$ exactly, which defeats the purpose of allowing a tolerance.\n",
    "\n",
    ":::\n",
    "\n",
    "::::"
   ]
  },
  {
   "cell_type": "markdown",
   "id": "a8f4688f",
   "metadata": {},
   "source": [
    "For the most flexible comparison, one can impose both the absolute and relative tolerances:"
   ]
  },
  {
   "cell_type": "markdown",
   "id": "0e94fba6",
   "metadata": {
    "slideshow": {
     "slide_type": "fragment"
    }
   },
   "source": [
    "::::{note} Absolute and relative tolerances\n",
    "\n",
    "To combine both tolerances in one test, `math.isclose(x,y)` implements the following condition\n",
    "\n",
    "$$ \\lvert x - y\\rvert \\leq \\max\\{\\delta_{\\text{rel}} \\max\\{\\lvert x\\rvert, \\lvert y\\rvert\\},\\delta_{\\text{abs}}\\}$$\n",
    "with the default\n",
    "- *relative tolerance* $\\delta_{\\text{rel}}$ equal to `1e-9`, and\n",
    "- absolute tolerance $\\delta_{\\text{abs}}$ equal to `0.0`.\n",
    "::::"
   ]
  },
  {
   "cell_type": "markdown",
   "id": "105f2eee",
   "metadata": {
    "slideshow": {
     "slide_type": "fragment"
    }
   },
   "source": [
    "::::{exercise} `isclose` implementation\n",
    ":label: ex:isclose\n",
    "\n",
    "Write your own boolean expression that implements `isclose`. You can use the function `max(a, b)` to find the maximum of `a` and `b`.\n",
    "\n",
    "::::"
   ]
  },
  {
   "cell_type": "code",
   "execution_count": null,
   "id": "ecbf3ce8",
   "metadata": {
    "deletable": false,
    "nbgrader": {
     "cell_type": "code",
     "checksum": "6c65e4640fce6842d513eef4ffa7e7a2",
     "grade": false,
     "grade_id": "isclose",
     "locked": false,
     "schema_version": 3,
     "solution": true,
     "task": false
    },
    "slideshow": {
     "slide_type": "-"
    }
   },
   "outputs": [],
   "source": [
    "rel_tol, abs_tol = 1e-9, 0.0\n",
    "x = 1e-15\n",
    "y = 0\n",
    "# YOUR CODE HERE\n",
    "raise NotImplementedError"
   ]
  },
  {
   "cell_type": "markdown",
   "id": "cc4a2959",
   "metadata": {
    "slideshow": {
     "slide_type": "slide"
    }
   },
   "source": [
    "## Conditional Constructs"
   ]
  },
  {
   "cell_type": "markdown",
   "id": "98d058d2",
   "metadata": {
    "slideshow": {
     "slide_type": "fragment"
    }
   },
   "source": [
    "To illustrate how python can carry out conditional execution, we will consider writing a program that sorts values in *ascending* order."
   ]
  },
  {
   "cell_type": "markdown",
   "id": "25187658",
   "metadata": {
    "slideshow": {
     "slide_type": "subslide"
    }
   },
   "source": [
    "### If-Then Construct"
   ]
  },
  {
   "cell_type": "markdown",
   "id": "76ad6f6c",
   "metadata": {
    "slideshow": {
     "slide_type": "subslide"
    }
   },
   "source": [
    "**How to sort two values?**"
   ]
  },
  {
   "cell_type": "markdown",
   "id": "9c95c26b",
   "metadata": {
    "slideshow": {
     "slide_type": "fragment"
    }
   },
   "source": [
    "Given two values are stored as `x` and `y`, we want to \n",
    "- `print(x,y)` if `x <= y`, and\n",
    "- `print(y,x)` if `y < x`."
   ]
  },
  {
   "cell_type": "markdown",
   "id": "75434431",
   "metadata": {
    "slideshow": {
     "slide_type": "subslide"
    }
   },
   "source": [
    "Such a program flow is often represented by a flowchart like the following:"
   ]
  },
  {
   "cell_type": "code",
   "execution_count": null,
   "id": "89ef4995",
   "metadata": {},
   "outputs": [],
   "source": [
    "sort_two_values_fc1"
   ]
  },
  {
   "cell_type": "markdown",
   "id": "9ff1ec4c",
   "metadata": {},
   "source": [
    "**How to read the flowchart?**"
   ]
  },
  {
   "cell_type": "markdown",
   "id": "508574de",
   "metadata": {},
   "source": [
    "A flowchart uses arrows to connects a set of [annotated blocks][bb]. The rules were first specified by ANSI and later adopted in [ISO 5807][iso].\n",
    "\n",
    "[bb]: https://en.wikipedia.org/wiki/Flowchart#Building_blocks\n",
    "[iso]: https://webstore.ansi.org/Standards/ISO/ISO58071985"
   ]
  },
  {
   "cell_type": "markdown",
   "id": "c73c20d7",
   "metadata": {},
   "source": [
    "**Why use a program flowchart?**"
   ]
  },
  {
   "cell_type": "markdown",
   "id": "4b4d4675",
   "metadata": {},
   "source": [
    "A program flowchart is a powerful way of describing an algorithm quickly. Unlike a text-based programming language:\n",
    "- The rules governing the program flow can be shown explicitly by arrows.\n",
    "- The annotated graphical blocks can convey the meaning faster using visual clues."
   ]
  },
  {
   "cell_type": "markdown",
   "id": "a3fd4cfe",
   "metadata": {},
   "source": [
    "**How to implements the flowchart in python?**"
   ]
  },
  {
   "cell_type": "markdown",
   "id": "eb221374",
   "metadata": {
    "slideshow": {
     "slide_type": "fragment"
    }
   },
   "source": [
    "It is often useful to delay detailed implementations until we have written an overall skeleton. To leave a block empty, Python uses the keyword [`pass`](https://docs.python.org/3/tutorial/controlflow.html#pass-statements)."
   ]
  },
  {
   "cell_type": "code",
   "execution_count": null,
   "id": "8a6823dd",
   "metadata": {
    "slideshow": {
     "slide_type": "-"
    }
   },
   "outputs": [],
   "source": [
    "# write a code skeleton\n",
    "def sort_two_values(x, y):\n",
    "    pass\n",
    "    # print the smaller value first followed by the larger one\n",
    "\n",
    "\n",
    "sort_two_values(1, 0)\n",
    "sort_two_values(1, 2)"
   ]
  },
  {
   "cell_type": "markdown",
   "id": "437199dc",
   "metadata": {
    "slideshow": {
     "slide_type": "fragment"
    }
   },
   "source": [
    "Without `pass`, the code will fail to run, preventing you from checking other parts of the code."
   ]
  },
  {
   "cell_type": "markdown",
   "id": "6db86197",
   "metadata": {
    "slideshow": {
     "slide_type": "fragment"
    }
   },
   "source": [
    "Python provides the [`if` statement](https://docs.python.org/3/reference/compound_stmts.html#the-if-statement) to implement the [*control flow*](https://en.wikipedia.org/wiki/Control_flow) specified by the diamond boxes in the flowchart."
   ]
  },
  {
   "cell_type": "code",
   "execution_count": null,
   "id": "9a2dd8ca",
   "metadata": {
    "code_folding": [],
    "slideshow": {
     "slide_type": "fragment"
    }
   },
   "outputs": [],
   "source": [
    "def sort_two_values(x, y):\n",
    "    if x <= y:\n",
    "        pass\n",
    "        # print x before y\n",
    "    if y < x: pass  # print y before x\n",
    "\n",
    "\n",
    "sort_two_values(1, 0)\n",
    "sort_two_values(1, 2)"
   ]
  },
  {
   "cell_type": "markdown",
   "id": "953348a8",
   "metadata": {},
   "source": [
    "To complete the implementations specified by the parallelogram boxes in the flow chart, we fill in the bodies/suites of the `if` statements as follows:"
   ]
  },
  {
   "cell_type": "code",
   "execution_count": null,
   "id": "ad10315f",
   "metadata": {
    "code_folding": [
     8
    ],
    "slideshow": {
     "slide_type": "-"
    }
   },
   "outputs": [],
   "source": [
    "def sort_two_values(x, y):\n",
    "    if x <= y:\n",
    "        print(x, y)\n",
    "    if y < x: print(y, x)\n",
    "\n",
    "\n",
    "@interact(x=\"1\", y=\"0\")\n",
    "def sort_two_values_app(x, y):\n",
    "    print(\"Values in ascending order:\")\n",
    "    sort_two_values(eval(x), eval(y))"
   ]
  },
  {
   "cell_type": "markdown",
   "id": "18914b0c",
   "metadata": {},
   "source": [
    "Test the program by filling in different values of `x` and `y` above."
   ]
  },
  {
   "cell_type": "markdown",
   "id": "5c94e117",
   "metadata": {
    "slideshow": {
     "slide_type": "fragment"
    }
   },
   "source": [
    "::::{seealso} How to indent?\n",
    ":class: dropdown\n",
    "\n",
    "As python uses indentation to indicate code blocks or *suites*: \n",
    "- `print(x, y)` (Line 3) is indented to the right of `if x <= y:` (Line 2) to indicate it is the body of the if statement.\n",
    "- For convenience, `if y < x: print(y, x)` (Line 4) is a one-liner for an `if` statement that only has one line in its block.\n",
    "- Both `if` statements (Line 2-4) are indented to the right of `def sort_two_values(x,y):` (Line 1) to indicate that they are part of the body of the function `sort_two_values`.\n",
    "\n",
    "The [style guide](https://www.python.org/dev/peps/pep-0008/#indentation) recommends using 4 spaces for each indentation. In JupyterLab, you can simply type the `tab` key.\n",
    "\n",
    "::::"
   ]
  },
  {
   "cell_type": "markdown",
   "id": "cf92940b",
   "metadata": {
    "slideshow": {
     "slide_type": "subslide"
    }
   },
   "source": [
    "We can visualize the execution as follows. Step through the execution to\n",
    "\n",
    "- see which lines are skipped, and\n",
    "- understand why they are skipped."
   ]
  },
  {
   "cell_type": "code",
   "execution_count": null,
   "id": "268443ce",
   "metadata": {
    "slideshow": {
     "slide_type": "-"
    }
   },
   "outputs": [],
   "source": [
    "%%optlite -h 450\n",
    "def sort_two_values(x, y):\n",
    "    if x <= y:\n",
    "        print(x, y)\n",
    "    if y < x: print(y, x)\n",
    "\n",
    "\n",
    "sort_two_values(1, 0)\n",
    "sort_two_values(1, 2)"
   ]
  },
  {
   "cell_type": "markdown",
   "id": "6b31b8a9",
   "metadata": {
    "slideshow": {
     "slide_type": "slide"
    }
   },
   "source": [
    "### If-Then-Else Construct"
   ]
  },
  {
   "cell_type": "markdown",
   "id": "ea294aa4",
   "metadata": {
    "slideshow": {
     "slide_type": "fragment"
    }
   },
   "source": [
    "Can the sorting algorithm be improved further? \n",
    "\n",
    "::::{hint}\n",
    ":class: dropdown\n",
    "\n",
    "`not (x <= y) and (y < x)` is a *tautology*, i.e., always true.\n",
    "\n",
    "::::"
   ]
  },
  {
   "cell_type": "markdown",
   "id": "7ef322f1",
   "metadata": {
    "slideshow": {
     "slide_type": "fragment"
    }
   },
   "source": [
    "Consider the following modified flowchart:"
   ]
  },
  {
   "cell_type": "code",
   "execution_count": null,
   "id": "1364aa4f",
   "metadata": {},
   "outputs": [],
   "source": [
    "sort_two_values_fc2"
   ]
  },
  {
   "cell_type": "markdown",
   "id": "a6be9cdf",
   "metadata": {
    "slideshow": {
     "slide_type": "fragment"
    }
   },
   "source": [
    "This can implemented by the `else` clause of the [`if` statement](https://docs.python.org/3/tutorial/controlflow.html#if-statements) as follows:"
   ]
  },
  {
   "cell_type": "code",
   "execution_count": null,
   "id": "275a5735",
   "metadata": {
    "slideshow": {
     "slide_type": "fragment"
    }
   },
   "outputs": [],
   "source": [
    "%%optlite -h 450\n",
    "def sort_two_values(x, y):\n",
    "    if x <= y:\n",
    "        print(x, y)\n",
    "    else:\n",
    "        print(y, x)\n",
    "\n",
    "\n",
    "sort_two_values(1, 0)\n",
    "sort_two_values(1, 2)"
   ]
  },
  {
   "cell_type": "markdown",
   "id": "38388267",
   "metadata": {
    "slideshow": {
     "slide_type": "subslide"
    }
   },
   "source": [
    "Can we shorten the code to one line? This is possible with the [*conditional expression*](https://docs.python.org/3/reference/expressions.html#conditional-expressions)."
   ]
  },
  {
   "cell_type": "code",
   "execution_count": null,
   "id": "7cecc2fc",
   "metadata": {
    "code_folding": [
     5
    ],
    "slideshow": {
     "slide_type": "-"
    }
   },
   "outputs": [],
   "source": [
    "def sort_two_values(x, y):\n",
    "    print((\"{0} {1}\" if x <= y else \"{1} {0}\").format(x, y))\n",
    "\n",
    "\n",
    "@interact(x=\"1\", y=\"0\")\n",
    "def sort_two_values_app(x, y):\n",
    "    print(\"Values in ascending order:\")\n",
    "    sort_two_values(eval(x), eval(y))"
   ]
  },
  {
   "cell_type": "markdown",
   "id": "0a56f6e7",
   "metadata": {
    "slideshow": {
     "slide_type": "subslide"
    }
   },
   "source": [
    "::::{exercise}\n",
    ":label: ex:conditional-expression\n",
    "\n",
    "Explain why the followings have syntax errors.\n",
    "\n",
    "```python\n",
    "1 if True\n",
    "x = 1 if True else x = 0\n",
    "```\n",
    "\n",
    "::::"
   ]
  },
  {
   "cell_type": "markdown",
   "id": "b56e4eb8",
   "metadata": {
    "deletable": false,
    "nbgrader": {
     "cell_type": "markdown",
     "checksum": "97d8552bc2253459c70cc948a673e981",
     "grade": true,
     "grade_id": "conditional-expression",
     "locked": false,
     "points": 0,
     "schema_version": 3,
     "solution": true,
     "task": false
    },
    "slideshow": {
     "slide_type": "-"
    }
   },
   "source": [
    "YOUR ANSWER HERE"
   ]
  },
  {
   "cell_type": "markdown",
   "id": "46ab497a",
   "metadata": {
    "slideshow": {
     "slide_type": "slide"
    }
   },
   "source": [
    "### Nested Conditionals"
   ]
  },
  {
   "cell_type": "markdown",
   "id": "6e15bd98",
   "metadata": {
    "slideshow": {
     "slide_type": "subslide"
    }
   },
   "source": [
    "Now, consider a slight more challenging problem of sorting three values instead of two. A feasible algorithm is as follows:"
   ]
  },
  {
   "cell_type": "code",
   "execution_count": null,
   "id": "9f63647e",
   "metadata": {},
   "outputs": [],
   "source": [
    "sort_three_values_fc"
   ]
  },
  {
   "cell_type": "markdown",
   "id": "e59057f4",
   "metadata": {
    "slideshow": {
     "slide_type": "fragment"
    }
   },
   "source": [
    "To implement flowchart, we can use *nested conditional constructs*, where one conditional statement is placed within another, allowing for multiple layers of condition checks:"
   ]
  },
  {
   "cell_type": "code",
   "execution_count": null,
   "id": "fd8237f1",
   "metadata": {
    "code_folding": [],
    "slideshow": {
     "slide_type": "-"
    }
   },
   "outputs": [],
   "source": [
    "def sort_three_values(x, y, z):\n",
    "    if x <= y <= z:\n",
    "        print(x, y, z)\n",
    "    else:\n",
    "        if x <= z <= y:\n",
    "            print(x, z, y)\n",
    "        else:\n",
    "            if y <= x <= z:\n",
    "                print(y, x, z)\n",
    "            else:\n",
    "                if y <= z <= x:\n",
    "                    print(y, z, x)\n",
    "                else:\n",
    "                    if z <= x <= y:\n",
    "                        print(z, x, y)\n",
    "                    else:\n",
    "                        print(z, y, x)\n",
    "\n",
    "\n",
    "def test_sort_three_values():\n",
    "    sort_three_values(0, 1, 2)\n",
    "    sort_three_values(0, 2, 1)\n",
    "    sort_three_values(1, 0, 2)\n",
    "    sort_three_values(1, 2, 0)\n",
    "    sort_three_values(2, 0, 1)\n",
    "    sort_three_values(2, 1, 0)\n",
    "\n",
    "\n",
    "test_sort_three_values()"
   ]
  },
  {
   "cell_type": "markdown",
   "id": "cd0bb6b9",
   "metadata": {
    "slideshow": {
     "slide_type": "slide"
    }
   },
   "source": [
    "Imagine what would happen if we have to sort many values. The program will not only be long, but also fat due to the indentation. To avoid an excessively long line due to the indentation, Python provides the `elif` keyword that combines `else` and `if`."
   ]
  },
  {
   "cell_type": "code",
   "execution_count": null,
   "id": "c5921147",
   "metadata": {
    "slideshow": {
     "slide_type": "fragment"
    }
   },
   "outputs": [],
   "source": [
    "def sort_three_values(x, y, z):\n",
    "    if x <= y <= z:\n",
    "        print(x, y, z)\n",
    "    elif x <= z <= y:\n",
    "        print(x, z, y)\n",
    "    elif y <= x <= z:\n",
    "        print(y, x, z)\n",
    "    elif y <= z <= x:\n",
    "        print(y, z, x)\n",
    "    elif z <= x <= y:\n",
    "        print(z, x, y)\n",
    "    else:\n",
    "        print(z, y, x)\n",
    "\n",
    "\n",
    "test_sort_three_values()"
   ]
  },
  {
   "cell_type": "markdown",
   "id": "e47644a1",
   "metadata": {
    "slideshow": {
     "slide_type": "subslide"
    }
   },
   "source": [
    "::::{exercise}\n",
    "\n",
    "The above sorting algorithm is inefficient because some comparisons may be checked more than once. Improve the program by:\n",
    "\n",
    "1. Eliminating redundunt checks so it can run fast.\n",
    "2. Eliminate redundunt variables so it does not require too much memory.\n",
    "3. Making it short and easy to read.\n",
    "\n",
    ":::{hint}\n",
    ":class: dropdown\n",
    "Do not use chained comparison operators or compound boolean expressions. E.g., \n",
    "\n",
    "```{code} python\n",
    ":linenos:\n",
    ":emphasize-lines: 10, 11, 13\n",
    "def sort_three_values(x, y, z):\n",
    "    if x <= y <= z:\n",
    "        print(x, y, z)\n",
    "    elif x <= z <= y:\n",
    "        print(x, z, y)\n",
    "    elif y <= x <= z:\n",
    "        print(y, x, z)\n",
    "    elif y <= z <= x:\n",
    "        print(y, z, x)\n",
    "    elif x <= y: # z <= x is redundant, why?\n",
    "        print(z, x, y)\n",
    "    else:\n",
    "        print(z, y, x)\n",
    "```\n",
    "\n",
    ":::\n",
    "\n",
    "::::"
   ]
  },
  {
   "cell_type": "code",
   "execution_count": null,
   "id": "973b3da2",
   "metadata": {
    "deletable": false,
    "nbgrader": {
     "cell_type": "code",
     "checksum": "bedd78219666caed4913e0530ad74328",
     "grade": false,
     "grade_id": "efficient-sort_three_values",
     "locked": false,
     "schema_version": 3,
     "solution": true,
     "task": false
    },
    "slideshow": {
     "slide_type": "-"
    }
   },
   "outputs": [],
   "source": [
    "def sort_three_values(x, y, z):\n",
    "    # YOUR CODE HERE\n",
    "    raise NotImplementedError\n",
    "\n",
    "\n",
    "sort_three_values(10, 17, 14)"
   ]
  },
  {
   "cell_type": "markdown",
   "id": "5c7bd1b8",
   "metadata": {},
   "source": [
    "::::{seealso} Sorting algorithms\n",
    ":class: dropdown\n",
    "\n",
    "A *sorting algorithm* refers to the procedure of sorting any number of values in order. The performance of a sorting algorithm is measured primarily by its [time complexity](https://en.wikipedia.org/wiki/Time_complexity) (the number of comparisons and swaps it makes) and its [space complexity](https://en.wikipedia.org/wiki/Space_complexity#:~:text=The%20space%20complexity%20of%20an,of%20characteristics%20of%20the%20input.) (the amount of additional memory it requires). It would be even better if the program is short and easy to read, but that depends partly on the design of the programming language. Python implemented its default `sorted` function using the [Timsort algorithm](https://en.wikipedia.org/wiki/Timsort#:~:text=Timsort%20is%20a%20hybrid%2C%20stable,in%20the%20Python%20programming%20language.). See if you can understand how it works and how well it works.\n",
    "\n",
    "::::"
   ]
  },
  {
   "cell_type": "code",
   "execution_count": null,
   "id": "fcdacfcf",
   "metadata": {},
   "outputs": [],
   "source": [
    "%%ai chatgpt -f text\n",
    "Explain in one paragraph what the minimum possible number of comparisons needed to sort n numbers is and why it is not the same as the maximum number of inversions."
   ]
  },
  {
   "cell_type": "markdown",
   "id": "139e80e2",
   "metadata": {
    "slideshow": {
     "slide_type": "slide"
    }
   },
   "source": [
    "## Boolean Operations"
   ]
  },
  {
   "cell_type": "markdown",
   "id": "84d21504",
   "metadata": {
    "slideshow": {
     "slide_type": "fragment"
    }
   },
   "source": [
    "Since chained comparisons are non-associative, it follows a different evaluation rule than arithmetic operators."
   ]
  },
  {
   "cell_type": "markdown",
   "id": "5b5f7dbe",
   "metadata": {
    "slideshow": {
     "slide_type": "fragment"
    }
   },
   "source": [
    "E.g., `1 <= 2 < 3 != 4` is equivalent to:"
   ]
  },
  {
   "cell_type": "code",
   "execution_count": null,
   "id": "740a8630",
   "metadata": {
    "slideshow": {
     "slide_type": "-"
    }
   },
   "outputs": [],
   "source": [
    "1 <= 2 and 2 < 3 and 3 != 4"
   ]
  },
  {
   "cell_type": "markdown",
   "id": "5d387ca1",
   "metadata": {
    "slideshow": {
     "slide_type": "fragment"
    }
   },
   "source": [
    "The above is called a *compound boolean expression*, which is formed using the *boolean/logical operator* `and`."
   ]
  },
  {
   "cell_type": "markdown",
   "id": "041b6225",
   "metadata": {
    "slideshow": {
     "slide_type": "subslide"
    }
   },
   "source": [
    "**Why use boolean operators?**"
   ]
  },
  {
   "cell_type": "markdown",
   "id": "54c2bef0",
   "metadata": {
    "slideshow": {
     "slide_type": "fragment"
    }
   },
   "source": [
    "What if we want to check whether a number is either $< 0$ or $\\geq 100$?"
   ]
  },
  {
   "cell_type": "markdown",
   "id": "5b5a808c",
   "metadata": {},
   "source": [
    "The following program checks whether a number is either $< 0$ or $\\geq 100$:"
   ]
  },
  {
   "cell_type": "code",
   "execution_count": null,
   "id": "6474ab32",
   "metadata": {
    "code_folding": [],
    "slideshow": {
     "slide_type": "-"
    }
   },
   "outputs": [],
   "source": [
    "# Check if a number is outside a range.\n",
    "@interact(x=\"15\")\n",
    "def check_out_of_range(x):\n",
    "    x_ = float(x)\n",
    "    is_out_of_range = x_ < 0 or x_ >= 100\n",
    "    print(\"Out of range [0,100):\", is_out_of_range)"
   ]
  },
  {
   "cell_type": "markdown",
   "id": "471f465f",
   "metadata": {},
   "source": [
    "::::{seealso} Can you rewrite the logical expression to use only the `and` instead of `or`?\n",
    ":class: dropdown\n",
    "\n",
    "Turns out this is mission impossible because `and` alone is not [functionally complete](https://en.wikipedia.org/wiki/Functional_completeness),  i.e., it is not enough to give all possible boolean functions. We can add `or` and `not` operators to make it functionally complete.\n",
    "\n",
    "::::"
   ]
  },
  {
   "cell_type": "code",
   "execution_count": null,
   "id": "9bbe8e6d",
   "metadata": {},
   "outputs": [],
   "source": [
    "%%ai chatgpt -f text\n",
    "Explain in a paragraph why the set of operators including only \"and\" is not functionally complete."
   ]
  },
  {
   "cell_type": "code",
   "execution_count": null,
   "id": "e83a0fce",
   "metadata": {
    "slideshow": {
     "slide_type": "fragment"
    }
   },
   "outputs": [],
   "source": [
    "%%ai chatgpt -f text\n",
    "Explain in a paragraph why the set of operators \"and\", \"or\", and \"not\" is functionally complete."
   ]
  },
  {
   "cell_type": "markdown",
   "id": "ddb26b1b",
   "metadata": {
    "slideshow": {
     "slide_type": "fragment"
    }
   },
   "source": [
    "The following table is called a *truth table*. It enumerates all possible input and output combinations for each boolean operator available in Python:"
   ]
  },
  {
   "cell_type": "markdown",
   "id": "958bb8c0",
   "metadata": {
    "slideshow": {
     "slide_type": "fragment"
    }
   },
   "source": [
    "::::{table} Truth table for different logical operators\n",
    ":label: tbl:truth\n",
    "\n",
    "|   `x`   |   `y`   | `x and y` | `x or y` | `not x` |\n",
    "| :-----: | :-----: | :-------: | :------: | :-----: |\n",
    "| `True`  | `True`  |  `True`   |  `True`  | `False` |\n",
    "| `True`  | `False` |  `False`  |  `True`  | `False` |\n",
    "| `False` | `True`  |  `False`  |  `True`  | `True`  |\n",
    "| `False` | `False` |  `False`  | `False`  | `True`  |\n",
    "::::"
   ]
  },
  {
   "cell_type": "markdown",
   "id": "25893443",
   "metadata": {
    "slideshow": {
     "slide_type": "subslide"
    }
   },
   "source": [
    "::::{note} What are the precedence and associativity for the logical operators?\n",
    "\n",
    "- All binary boolean operators are left associative.  \n",
    "- [Precedence](https://docs.python.org/3/reference/expressions.html?highlight=precedence#operator-precedence): `comparison operators` > `not` > `and` > `or`\n",
    "\n",
    "::::"
   ]
  },
  {
   "cell_type": "markdown",
   "id": "852b8e97",
   "metadata": {
    "slideshow": {
     "slide_type": "subslide"
    }
   },
   "source": [
    "::::{exercise} compound boolean expressions\n",
    ":label: ex:compound\n",
    "\n",
    "Explain what the values of the following compound boolean expressions are:\n",
    "- Expression A: `True or False and True`\n",
    "- Expression B: `True and False and True`\n",
    "- Expression C: `True or True and False`\n",
    "::::"
   ]
  },
  {
   "cell_type": "markdown",
   "id": "2da5884e",
   "metadata": {
    "deletable": false,
    "nbgrader": {
     "cell_type": "markdown",
     "checksum": "42450998afd0f94e7b203857d0335ed1",
     "grade": true,
     "grade_id": "compound-boolean",
     "locked": false,
     "points": 0,
     "schema_version": 3,
     "solution": true,
     "task": false
    },
    "slideshow": {
     "slide_type": "-"
    }
   },
   "source": [
    "YOUR ANSWER HERE"
   ]
  },
  {
   "cell_type": "markdown",
   "id": "2851e835",
   "metadata": {
    "slideshow": {
     "slide_type": "subslide"
    }
   },
   "source": [
    "A compound boolean expression actually uses a [short-circuit evaluation](https://docs.python.org/3/reference/expressions.html?highlight=precedence#boolean-operations)."
   ]
  },
  {
   "cell_type": "markdown",
   "id": "0d960992",
   "metadata": {
    "slideshow": {
     "slide_type": "fragment"
    }
   },
   "source": [
    "To understand this, we will use the following function to evaluate a boolean expression verbosely."
   ]
  },
  {
   "cell_type": "code",
   "execution_count": null,
   "id": "5a4d9601",
   "metadata": {
    "slideshow": {
     "slide_type": "-"
    }
   },
   "outputs": [],
   "source": [
    "def verbose(id, expr):\n",
    "    \"\"\"Identify evaluated boolean expressions.\"\"\"\n",
    "    print(id, \"evaluated:\", expr)\n",
    "    return expr"
   ]
  },
  {
   "cell_type": "markdown",
   "id": "ca03eccd",
   "metadata": {},
   "source": [
    "For instance:"
   ]
  },
  {
   "cell_type": "code",
   "execution_count": null,
   "id": "201e699a",
   "metadata": {},
   "outputs": [],
   "source": [
    "verbose(\"1st expression\", True)\n",
    "verbose(\"2nd expression\", False)"
   ]
  },
  {
   "cell_type": "markdown",
   "id": "08294e70",
   "metadata": {},
   "source": [
    ":::{seealso} Visualization by Thonny IDE\n",
    ":class: dropdown\n",
    "\n",
    "You may also use the debugger of [Thonny](https://thonny.org/) to visualize the step-by-step evaluations of the operands:\n",
    "\n",
    "- In JupyterLab, click `File`$\\to$`New Launcher`$\\to$`Desktop` to launch a remote desktop for your server.[^1]\n",
    "- Start Thonny in the remote desktop by clicking `Applications`$\\to$`Development`$\\to$`Thonny`.[^2]\n",
    "- In the Thonny editor, write some Python code such as `True or False and True` and then save it to a file, say `test.py`.[^3]\n",
    "- Debug the code by clicking the Thonny menu item `Run`$\\to$`Debug current script (nicer)`.[^4]\n",
    "- Click the `step into` button to step through the executions.\n",
    "\n",
    ":::\n",
    "\n",
    "[^1]: Thonny is an IDE based on TKinter, which requires a proper desktop environment to run.\n",
    "[^2]: You can also launch a terminal in the remote desktop and run the command `thonny`.\n",
    "[^3]: You can copy and paste code into the remote desktop by clicking `Remote Clipboard` button at the top right of the browser page and pasting your code into the textbox that appears below.\n",
    "[^4]: Short-cut keys for Thonny may not work as the keys may be captured by the browser or your OS before they can reach Thonny."
   ]
  },
  {
   "cell_type": "markdown",
   "id": "ee716bfa",
   "metadata": {},
   "source": [
    "### Short-circuit `or`"
   ]
  },
  {
   "cell_type": "markdown",
   "id": "3d3c4a3e",
   "metadata": {},
   "source": [
    "Consider evaluating `True or False and True` in a verbose manner:"
   ]
  },
  {
   "cell_type": "code",
   "execution_count": null,
   "id": "560d028c",
   "metadata": {
    "slideshow": {
     "slide_type": "-"
    }
   },
   "outputs": [],
   "source": [
    "verbose(\"A\", verbose(1, True) or verbose(2, False) and verbose(3, True))"
   ]
  },
  {
   "cell_type": "markdown",
   "id": "420ad05d",
   "metadata": {
    "slideshow": {
     "slide_type": "fragment"
    }
   },
   "source": [
    "::::{note}\n",
    "\n",
    "When evaluating `True or False and True`,\n",
    "\n",
    "- even though `or` has lower precedence than `and`, the short-circuit evaluation for `or` is performed first.\n",
    "- The `and` operation is skipped entirely.\n",
    "\n",
    "::::"
   ]
  },
  {
   "cell_type": "markdown",
   "id": "68b8e10c",
   "metadata": {
    "slideshow": {
     "slide_type": "subslide"
    }
   },
   "source": [
    "**Why the second and third expressions are not evaluated?**"
   ]
  },
  {
   "cell_type": "markdown",
   "id": "4cd5f63b",
   "metadata": {
    "slideshow": {
     "slide_type": "fragment"
    }
   },
   "source": [
    "Because True or ... must be True (why?) so Python does not look further. From the [documentation](https://docs.python.org/3/reference/expressions.html?highlight=precedence#boolean-operations):"
   ]
  },
  {
   "cell_type": "markdown",
   "id": "6ecfd1ba",
   "metadata": {
    "slideshow": {
     "slide_type": "fragment"
    }
   },
   "source": [
    "::::{card}\n",
    ":header: Short-circuit evaluation of `or`\n",
    "\n",
    "The expression `x or y` \n",
    "1. first evaluates `x`;  \n",
    "2. if `x` is true, its value is returned;  \n",
    "3. otherwise, `y` is evaluated and the resulting value is returned.\n",
    "\n",
    "::::"
   ]
  },
  {
   "cell_type": "markdown",
   "id": "651118f7",
   "metadata": {},
   "source": [
    "Put it another way, `(x or y)` translate to the following\n",
    "\n",
    ":::{code-block} python\n",
    ":name: code:or\n",
    ":caption: Translation of `(x or y)`\n",
    "\n",
    "_ if (_ := x) else y\n",
    "\n",
    ":::\n",
    "\n",
    "except for the extra variable `_`. For example, `True or False and True` translates to `_ if (_ := True) else False and True`:"
   ]
  },
  {
   "cell_type": "code",
   "execution_count": null,
   "id": "7884e227",
   "metadata": {},
   "outputs": [],
   "source": [
    "verbose(\"A\", (_ if (_ := verbose(1, True)) else verbose(2, False) and verbose(3, True)))"
   ]
  },
  {
   "cell_type": "markdown",
   "id": "6b09b290",
   "metadata": {},
   "source": [
    "### Short-circuit `and`"
   ]
  },
  {
   "cell_type": "markdown",
   "id": "03ad8779",
   "metadata": {},
   "source": [
    "Now, consider evaluating `False or False and True` in a verbose manner:"
   ]
  },
  {
   "cell_type": "code",
   "execution_count": null,
   "id": "b57ce990",
   "metadata": {},
   "outputs": [],
   "source": [
    "False or False and True"
   ]
  },
  {
   "cell_type": "code",
   "execution_count": null,
   "id": "96c895e0",
   "metadata": {
    "slideshow": {
     "slide_type": "subslide"
    }
   },
   "outputs": [],
   "source": [
    "verbose(\"B\", verbose(4, False) or verbose(5, False) and verbose(6, True))"
   ]
  },
  {
   "cell_type": "markdown",
   "id": "20922bda",
   "metadata": {
    "slideshow": {
     "slide_type": "subslide"
    }
   },
   "source": [
    "**Why expression 6 is not evaluated?**"
   ]
  },
  {
   "cell_type": "markdown",
   "id": "4b5194c9",
   "metadata": {
    "slideshow": {
     "slide_type": "fragment"
    }
   },
   "source": [
    "`False or False and ...` must be `False` so Python does not look further."
   ]
  },
  {
   "cell_type": "markdown",
   "id": "fd8d1995",
   "metadata": {
    "slideshow": {
     "slide_type": "fragment"
    }
   },
   "source": [
    "::::{card}\n",
    ":header: Short-circuit evaluation of `and`\n",
    "\n",
    "The expression `x and y` first evaluates `x`;  \n",
    "if `x` is false, its value is returned;  \n",
    "otherwise, `y` is evaluated and the resulting value is returned.\n",
    "::::"
   ]
  },
  {
   "cell_type": "markdown",
   "id": "7f6e34c7",
   "metadata": {},
   "source": [
    "Put it another way, `(x and y)` translate to the following\n",
    "\n",
    ":::{code-block} python\n",
    ":name: code:and\n",
    ":caption: Translation of `(x and y)`\n",
    "\n",
    "_ if not (_ := x) else y\n",
    "\n",
    ":::\n",
    "\n",
    "\n",
    "except for the extra variable `_`. For example, `False or False and True` translates to `False or (_ if not (_ := False) else True)`:"
   ]
  },
  {
   "cell_type": "code",
   "execution_count": null,
   "id": "d71f0de4",
   "metadata": {},
   "outputs": [],
   "source": [
    "verbose(\n",
    "    \"B\", verbose(4, False) or (_ if not (_ := verbose(5, False)) else verbose(6, True))\n",
    ")"
   ]
  },
  {
   "cell_type": "markdown",
   "id": "71ed0bb6",
   "metadata": {},
   "source": [
    "### Non-Boolean Values for Boolean Operations and Control Flow Statements"
   ]
  },
  {
   "cell_type": "markdown",
   "id": "b0ca59af",
   "metadata": {
    "slideshow": {
     "slide_type": "subslide"
    }
   },
   "source": [
    "Interestingly, Python also allows logical operations to have non-boolean operands and return values. From the [documentation](https://docs.python.org/3/reference/expressions.html?highlight=precedence#boolean-operations):"
   ]
  },
  {
   "cell_type": "markdown",
   "id": "7ba8d5cd",
   "metadata": {
    "slideshow": {
     "slide_type": "fragment"
    }
   },
   "source": [
    "::::{card}\n",
    ":header: Boolean interpretation\n",
    "\n",
    "In the context of Boolean operations, and also when expressions are used by control flow statements, the following values are interpreted as false:  \n",
    "- `False`\n",
    "- `None`\n",
    "- Numeric zero of all types\n",
    "- Empty strings and containers (including strings, tuples, lists, dictionaries, sets and frozensets)\n",
    "\n",
    "All other values are interpreted as true.\n",
    "\n",
    "::::"
   ]
  },
  {
   "cell_type": "markdown",
   "id": "6d1a661e",
   "metadata": {},
   "source": [
    "The following is an application of this rule."
   ]
  },
  {
   "cell_type": "markdown",
   "id": "496cb86c",
   "metadata": {
    "slideshow": {
     "slide_type": "subslide"
    }
   },
   "source": [
    "::::{exercise} short-circuit evaluation\n",
    ":label: ex:short-circuit\n",
    "\n",
    "How does the following code work?\n",
    "\n",
    "::::"
   ]
  },
  {
   "cell_type": "code",
   "execution_count": null,
   "id": "0a002f30",
   "metadata": {},
   "outputs": [],
   "source": [
    "print(\"You have entered\", input() or \"nothing\")"
   ]
  },
  {
   "cell_type": "markdown",
   "id": "349a7f48",
   "metadata": {
    "deletable": false,
    "nbgrader": {
     "cell_type": "markdown",
     "checksum": "c17fc86ed2bc2b546ee55df234859d0b",
     "grade": true,
     "grade_id": "or",
     "locked": false,
     "points": 0,
     "schema_version": 3,
     "solution": true,
     "task": false
    },
    "slideshow": {
     "slide_type": "-"
    }
   },
   "source": [
    "YOUR ANSWER HERE"
   ]
  },
  {
   "cell_type": "markdown",
   "id": "37557026",
   "metadata": {
    "slideshow": {
     "slide_type": "subslide"
    }
   },
   "source": [
    "::::{exercise} chain\n",
    ":label: ex:chain\n",
    "\n",
    "Let's play a game to test your understanding of boolean expressions. Run the following program and choose your input so that 1, 2, 3 are each printed in a separate line as follows:\n",
    "```bash\n",
    "1\n",
    "2\n",
    "3\n",
    "```\n",
    "\n",
    "::::"
   ]
  },
  {
   "cell_type": "code",
   "execution_count": null,
   "id": "8a65078c",
   "metadata": {},
   "outputs": [],
   "source": [
    "input(1) or input(2) and input(3)"
   ]
  },
  {
   "cell_type": "markdown",
   "id": "5e757530",
   "metadata": {
    "deletable": false,
    "nbgrader": {
     "cell_type": "markdown",
     "checksum": "11f679f9c34c55af4d6b737241d3d8e4",
     "grade": true,
     "grade_id": "short_circuit_eval_game",
     "locked": false,
     "points": 0,
     "schema_version": 3,
     "solution": true,
     "task": false
    },
    "slideshow": {
     "slide_type": "-"
    }
   },
   "source": [
    "YOUR ANSWER HERE"
   ]
  },
  {
   "cell_type": "markdown",
   "id": "3582caeb",
   "metadata": {},
   "source": [
    "::::{exercise} Chain using conditional expressions\n",
    ":label: ex:chain-conditional-expr\n",
    "\n",
    "Re-implement the following without any logical operators.\n",
    "\n",
    ":::{code-block} python\n",
    ":name: code:chain\n",
    ":caption: Chaining inputs\n",
    "\n",
    "input(1) or input(2) and input(3)\n",
    "\n",
    ":::\n",
    "\n",
    ":::{hint}\n",
    ":class: dropdown\n",
    "\n",
    "See [](#code:or) and [](#code:and).\n",
    "\n",
    ":::\n",
    "\n",
    "::::"
   ]
  },
  {
   "cell_type": "code",
   "execution_count": null,
   "id": "5dc3367e",
   "metadata": {
    "deletable": false,
    "nbgrader": {
     "cell_type": "code",
     "checksum": "6c7e6c5755691f343732dcadbafc9a52",
     "grade": false,
     "grade_id": "short_circuit_eval_to_conditional_exp",
     "locked": false,
     "schema_version": 3,
     "solution": true,
     "task": false
    },
    "slideshow": {
     "slide_type": "fragment"
    },
    "tags": [
     "remove-output"
    ]
   },
   "outputs": [],
   "source": [
    "# YOUR CODE HERE\n",
    "raise NotImplementedError"
   ]
  },
  {
   "cell_type": "markdown",
   "id": "8046ccae",
   "metadata": {
    "slideshow": {
     "slide_type": "fragment"
    }
   },
   "source": [
    "::::{caution} Comparison vs boolean operations\n",
    ":class: dropdown\n",
    "\n",
    "Is an empty string `\"\"` equal to `False`? \n",
    "\n",
    "Try `\"\" == False`.\n",
    "\n",
    "- An empty string is regarded as false in a boolean operation but\n",
    "- a *comparison operation is not a boolean operation*, even though it forms a boolean expression.\n",
    "\n",
    "Should the following return `False`?\n",
    "\n",
    "```python\n",
    "0 == False and 1 == True\n",
    "```\n",
    "\n",
    "Try and explain what you see.\n",
    "\n",
    "::::"
   ]
  },
  {
   "cell_type": "code",
   "execution_count": null,
   "id": "150e7254",
   "metadata": {},
   "outputs": [],
   "source": [
    "%%ai chatgpt -f text\n",
    "In Python, explain in one paragraph what is the value of the following expression:\n",
    "0 == False and 1 == True"
   ]
  },
  {
   "cell_type": "markdown",
   "id": "c686a2ae",
   "metadata": {},
   "source": [
    "::::{caution} Actual equivalence vs interpreted equivalence\n",
    ":class: dropdown\n",
    "\n",
    "Note that LLMs tend to hallucinate on subtle concepts like the one above. Indeed, `0` (`1`) is actually equal to `False` (`True`).\n",
    "\n",
    "::::"
   ]
  }
 ],
 "metadata": {
  "kernelspec": {
   "display_name": "Python 3 (ipykernel)",
   "language": "python",
   "name": "python3"
  }
 },
 "nbformat": 4,
 "nbformat_minor": 5
}
