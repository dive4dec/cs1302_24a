{
 "cells": [
  {
   "cell_type": "markdown",
   "id": "39b0d043",
   "metadata": {},
   "source": [
    "---\n",
    "title: Docker \n",
    "abstract: |\n",
    "    This guide will help you install Docker, pull and run the multi-architecture Docker image `chungc/cs1302nb` running JupyterLab, and use `nbgitpuller` to clone a GitHub repository into a specified subfolder.\n",
    "---"
   ]
  },
  {
   "cell_type": "markdown",
   "id": "3010a9fd",
   "metadata": {},
   "source": [
    "A [Docker container](https://en.wikipedia.org/wiki/Docker_(software)) is like a lightweight, standalone, and executable package that includes everything needed to run a piece of software, including the Jupyter server used for our course. If you know about [virtual machines](https://en.wikipedia.org/wiki/Virtual_machine), you may think of a docker container as a separate virtual machine running on your host machine, but with much less overhead. Indeed, you can also run the Jupyter server locally in your computer by installing Docker as follows."
   ]
  },
  {
   "cell_type": "markdown",
   "id": "8d043175",
   "metadata": {},
   "source": [
    "## Step 1: Install Docker"
   ]
  },
  {
   "cell_type": "markdown",
   "id": "e86315fd",
   "metadata": {},
   "source": [
    "1. Download and install Docker Desktop for your operating system from the [official Docker website](https://www.docker.com/products/docker-desktop).\n",
    "2. Run the installer and follow the on-screen instructions. See the [additional setup](https://docs.docker.com/desktop/wsl/) if you would like to use docker for WSL2 on Windows. \n",
    "3. Once installation is complete, open Docker Desktop and ensure it is running."
   ]
  },
  {
   "cell_type": "markdown",
   "id": "c63c28c6",
   "metadata": {},
   "source": [
    "## Step 2: Pull the Docker Image"
   ]
  },
  {
   "cell_type": "markdown",
   "id": "a287d7d6",
   "metadata": {},
   "source": [
    "Open a terminal (Command Prompt on Windows or Terminal on macOS) and run the following command to pull the Docker image:\n",
    "\n",
    "```sh\n",
    "docker pull chungc/cs1302nb\n",
    "```"
   ]
  },
  {
   "cell_type": "markdown",
   "id": "e2bf9dde",
   "metadata": {},
   "source": [
    "There is no need to pull the image again unless the image is updated."
   ]
  },
  {
   "cell_type": "markdown",
   "id": "dc49f312",
   "metadata": {},
   "source": [
    "::::{seealso} What is a docker image?\n",
    "\n",
    "A docker image is a the blueprint for creating Docker containers. When you run a Docker container, it is instantiated from an image. For example, `chungc/cs1302nb` is a docker image created from a text file [`Dockerfile.core`](https://github.com/dive4dec/jupyter/blob/main/cs1302nb/Dockerfile.core), which specifies how and why packages should be installed. The image was built using some [Make commands](https://github.com/dive4dec/jupyter/blob/main/README.md) in the repository. The resulting image was published to the public registry [DockerHub](https://hub.docker.com/layers/chungc/cs1302nb/latest/images/sha256-c2a9745ba8febc5e22142811363bfa0941d3eafd2997d3c49df3c448fb424fea?context=repo). You can also `git clone` the repository locally in your computer and modify the dockerfiles to build your desired image locally.\n",
    "\n",
    "::::"
   ]
  },
  {
   "cell_type": "markdown",
   "id": "d9d72ee3",
   "metadata": {},
   "source": [
    "## Step 3: Run the Docker Container"
   ]
  },
  {
   "cell_type": "markdown",
   "id": "2129d7f0",
   "metadata": {},
   "source": [
    "Navigate to your working directory (e.g., `cs1302_home`) where you want to map to the home directory of the docker container:\n",
    "\n",
    "```sh\n",
    "cd /part/to/cs1302_home\n",
    "```"
   ]
  },
  {
   "cell_type": "markdown",
   "id": "e4fbb03e",
   "metadata": {},
   "source": [
    "Run the Docker container with the following command:\n",
    "\n",
    "```sh\n",
    "docker run -it --rm -p 8888:8888 -v $(pwd):/home/jovyan/ chungc/cs1302nb\n",
    "```"
   ]
  },
  {
   "cell_type": "markdown",
   "id": "091b659f",
   "metadata": {},
   "source": [
    "::::{seealso}\n",
    "\n",
    "This command will:\n",
    "- Run the container interactively (`-it`).\n",
    "- Remove the container after it stops (`--rm`).\n",
    "- Map port `8888` on your host to port `8888` on the container (`-p 8888:8888`).\n",
    "- Mount the current working directory to the home directory `/home/jovyan/work` inside the container (`-v $(pwd):/home/jovyan/work`).\n",
    "\n",
    "See the [documentation](https://docs.docker.com/reference/cli/docker/container/run/) for other options.\n",
    "\n",
    "::::"
   ]
  },
  {
   "cell_type": "markdown",
   "id": "4b67804b",
   "metadata": {},
   "source": [
    "By using the `-p 8888:8888` option in the `docker run` command, you’re essentially creating a network bridge that allows you to access the service running inside the Docker container (JupyterLab on port `8888`) from your host machine using `http://localhost:8888`. This port mapping facilitates communication between the host and the container while preserving the isolation and lightweight nature of Docker containers. If port 8888 is occupied in your host by other web apps, you may change it to another number such as `1302`."
   ]
  },
  {
   "cell_type": "markdown",
   "id": "4895f745",
   "metadata": {},
   "source": [
    "By mounting your current working director in the host with `-v $(pwd):/home/jovyan/work`, the files in the container is stored in the working directory in your host, meaning that they persist even after the container is removed."
   ]
  },
  {
   "cell_type": "markdown",
   "id": "18ce6f6d",
   "metadata": {},
   "source": [
    "## Step 4: Access the JupyterLab and Notebooks"
   ]
  },
  {
   "cell_type": "markdown",
   "id": "0f9badf7",
   "metadata": {},
   "source": [
    "If successful, the following message will appear but with a different token.\n",
    "\n",
    "```\n",
    "...\n",
    "    To access the server, open this file in a browser:\n",
    "        file:///home/jovyan/.local/share/jupyter/runtime/jpserver-7-open.html\n",
    "    Or copy and paste one of these URLs:\n",
    "        http://2d94aee27406:8888/lab?token=afe3d84a4cadff3fe397640f651de4805471e7b19d1d6f1e\n",
    "        http://127.0.0.1:8888/lab?token=afe3d84a4cadff3fe397640f651de4805471e7b19d1d6f1e\n",
    "```"
   ]
  },
  {
   "cell_type": "markdown",
   "id": "35c95d62",
   "metadata": {},
   "source": [
    "Copy and paste the *last URL* into your web browser to login to the JupyterLab."
   ]
  },
  {
   "cell_type": "markdown",
   "id": "dd0d98bc",
   "metadata": {},
   "source": [
    "::::{caution}\n",
    "\n",
    "When running Docker containers, the port used to launch JupyterLab inside the container should be the host port, not the container port printed in the message. For instance, if you run the container with `-p1302:8888`, then the url to access the JupyterLab should be `http://127.0.0.1:1302`.\n",
    "\n",
    "::::"
   ]
  },
  {
   "cell_type": "markdown",
   "id": "1412622a",
   "metadata": {},
   "source": [
    "To access the course notebooks, open a new terminal within the JupyterLab interface and run the following command:\n",
    "\n",
    "```sh\n",
    "gitpuller https://github.com/dive4dec/cs1302_24a main cs1302_24a\n",
    "```"
   ]
  },
  {
   "cell_type": "markdown",
   "id": "4e594d52",
   "metadata": {},
   "source": [
    "::::{seealso}\n",
    "\n",
    "This command will:\n",
    "\n",
    "- Pull the `main` branch of the GitHub repository `dive4dec/cs1302_24a`.\n",
    "- Clone it into the subfolder `cs1302_24a` under the mounted working directory work.\n",
    "\n",
    "You may also use the git-pull link to open a specific notebook after git pulling:\n",
    "\n",
    "<http://127.0.0.1:8888/git-pull?repo=https%3A//github.com/dive4dec/cs1302_24a&urlpath=lab/tree/cs1302_24a/Lecture1/Introduction_to_Computer_Programming.ipynb>\n",
    "\n",
    "\n",
    "::::"
   ]
  }
 ],
 "metadata": {
  "kernelspec": {
   "display_name": "Python 3 (ipykernel)",
   "language": "python",
   "name": "python3"
  }
 },
 "nbformat": 4,
 "nbformat_minor": 5
}
