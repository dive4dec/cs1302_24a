{
 "cells": [
  {
   "cell_type": "markdown",
   "id": "95cdffb2",
   "metadata": {
    "editable": true,
    "slideshow": {
     "slide_type": "slide"
    }
   },
   "source": [
    "---\n",
    "title: Course Materials\n",
    "---"
   ]
  },
  {
   "cell_type": "markdown",
   "id": "e9a760d0",
   "metadata": {
    "editable": true,
    "slideshow": {
     "slide_type": ""
    }
   },
   "source": [
    "## Textbooks"
   ]
  },
  {
   "cell_type": "markdown",
   "id": "36fa3326",
   "metadata": {},
   "source": [
    "Reading is important in learning a new language. This is especially so for learning a programming language, whose syntax has a very precise structure and interpretation. Each topic has some required readings from the textbook [Halterman, Richard L. \"Fundamentals of Python programming.\" (2018)](https://archive.org/details/2018Fundamentals.ofPython). As the programming languages evolve over times, you may supplement your readings with the Python documentations for the later versions:\n",
    "\n",
    "- [Python 3.12](https://docs.python.org/3.12/) used for quiz and exam, and\n",
    "- [Python 3.11](https://docs.python.org/3.11/) used for lab assignents.\n",
    "\n",
    "In comparison, the textbook uses a much earlier version [Python 3.4](https://docs.python.org/3.4/)."
   ]
  },
  {
   "cell_type": "markdown",
   "id": "d6af44ca",
   "metadata": {},
   "source": [
    "::::{caution} Is it okay to learn/use different versions?\n",
    "\n",
    "The version number such as `3.12` consists of the major version number `3` followed by the minor version number `12`.\n",
    "\n",
    "- It is okay to learn the earlier version `3.4` as Python's design has made a conscious effort to maintain backwards compatibility for different minor versions, i.e., code written in an earlier minor version should run in a later minor version.\n",
    "- Version `3.12` is used for quiz and exam as it is the latest stable version, which is often more efficient.\n",
    "- Version `3.11` is used for lab assignments because the assignments often require external libraries that may not yet support Python's latest stable version.\n",
    "\n",
    "However, new syntax in later versions may not work in earlier versions.\n",
    "\n",
    "::::"
   ]
  },
  {
   "cell_type": "markdown",
   "id": "55013a9b",
   "metadata": {},
   "source": [
    "As a student at CityU, you also have access to a wide range of library resources to supplement your reading. A useful e-learning resource to help you dive deeper into the cutting-edge computing technologies is LinkedIn Learning:\n",
    "\n",
    "1. Open the [LinkedIn Learning](https://www.cityu.edu.hk/its/services-facilities/online-courses-linkedin-learning) page.\n",
    "2. Click <kbd>LinkedIn Learning Login</kbd> to login with your CityU account."
   ]
  },
  {
   "cell_type": "markdown",
   "id": "980f6629",
   "metadata": {},
   "source": [
    "There is a vast collection of online courses and tutorials on various topics. For instance:\n",
    "\n",
    "::::{seealso} LinkedIn Learning\n",
    ":class: dropdown\n",
    "\n",
    "Some courses on introductory python programming:\n",
    "\n",
    "- [Python Essential Training](https://www.linkedin.com/learning-login/share?account=76816450&forceAccount=false&redirect=https%3A%2F%2Fwww.linkedin.com%2Flearning%2Fpython-essential-training-18764650%3Ftrk%3Dshare_ent_url%26shareId%3DaXCm1ZkcTTCExEgNCUlh%252Bw%253D%253D)\n",
    "- [Learning the Python 3 Standard Library](https://www.linkedin.com/learning-login/share?account=76816450&forceAccount=false&redirect=https%3A%2F%2Fwww.linkedin.com%2Flearning%2Flearning-the-python-3-standard-library%3Ftrk%3Dshare_ent_url%26shareId%3DGcv4DyTKSuWBBsKpEmIamQ%253D%253D)\n",
    "\n",
    "\n",
    "A course on how to use LinkedIn Learning: \n",
    "\n",
    "- [How to Use LinkedIn Learning](https://www.linkedin.com/learning-login/share?account=76816450&forceAccount=false&redirect=https%3A%2F%2Fwww.linkedin.com%2Flearning%2Fhow-to-use-linkedin-learning%3Ftrk%3Dshare_ent_url%26shareId%3DT0Oya4yGTOGygXyXbWpMCQ%253D%253D)\n",
    "\n",
    "::::"
   ]
  },
  {
   "cell_type": "markdown",
   "id": "df374cdd",
   "metadata": {},
   "source": [
    "The following are similar introductory python programming courses at other universities:[^1]\n",
    "\n",
    "[^1]: Note that the syllabi have different coverages even though they both assume the students have no prior programming experience."
   ]
  },
  {
   "cell_type": "markdown",
   "id": "91b47841",
   "metadata": {},
   "source": [
    "::::{seealso} MIT Open Courseware\n",
    ":class: dropdown\n",
    "\n",
    "An introductory programming course using Python:\n",
    "\n",
    "- Course homepage: [6.0001\n",
    "Introduction To Computer Science And Programming In Python](https://ocw.mit.edu/courses/6-0001-introduction-to-computer-science-and-programming-in-python-fall-2016/pages/readings/)  \n",
    "  Textbook: [Guttag, John V. Introduction to computation and programming using Python: with application to computational modeling and understanding data. Mit Press, 2021.](https://julac-cuh.primo.exlibrisgroup.com/permalink/852JULAC_CUH/vit3jk/alma991029721214003408)\n",
    "\n",
    "An introductory programming course using Scheme:\n",
    "\n",
    "- Course homepage: [6.001 Structure And Interpretation Of Computer Programs](https://ocw.mit.edu/courses/6-001-structure-and-interpretation-of-computer-programs-spring-2005/)\n",
    "  Textbook: [Abelson, Harold, and Gerald Jay Sussman. Structure and interpretation of computer programs. The MIT Press, 1996.](https://web.mit.edu/6.001/6.037/sicp.pdf)\n",
    "\n",
    "\n",
    "::::"
   ]
  },
  {
   "cell_type": "markdown",
   "id": "2c251355",
   "metadata": {},
   "source": [
    "::::{seealso} UC Berkeley\n",
    ":class: dropdown\n",
    "\n",
    "An introductory programming course using Python:\n",
    "\n",
    "- Course homepage: [CS 61A Structure And Interpretation Of Computer Programs](https://cs61a.org)  \n",
    "  Textbook: [John DeNero. Composing Programs.](https://www.composingprograms.com/)\n",
    "\n",
    "\n",
    "::::"
   ]
  },
  {
   "cell_type": "markdown",
   "id": "561aa6ed",
   "metadata": {
    "editable": true,
    "slideshow": {
     "slide_type": "slide"
    }
   },
   "source": [
    "## Notebooks"
   ]
  },
  {
   "cell_type": "markdown",
   "id": "6e9495f2",
   "metadata": {},
   "source": [
    "Lecture and lab materials are written in the form of Jupyter notebooks. Jupyter notebooks provide an interactive <wiki:Literate_programming> experience, which is a significant benefit for learners:\n",
    "\n",
    "- Jupyter Notebooks allow programs to be mixed with other contents, including figures, videos, and formatted textual explanations.\n",
    "- The notebooks can also run in a Jupyter server, which enables users to write and run their programs while adding formatted notes to it."
   ]
  },
  {
   "cell_type": "markdown",
   "id": "5a87629c",
   "metadata": {},
   "source": [
    "To fetch the notebooks, follow the links to the notebooks on the course homepage such as:"
   ]
  },
  {
   "cell_type": "markdown",
   "id": "9a61fdeb",
   "metadata": {},
   "source": [
    "::::{card}\n",
    ":header: An example of a notebook link on the course homepage.\n",
    "\n",
    "<div style=\"border: 1px solid black; padding: 10px;\">\n",
    "<h4 title=\"Title: Lecture/Lab\">Lab</h4>\n",
    "<ul>\n",
    "  <li>\n",
    "    <a title=\"Subtitle: Notebook link\" href=\"https://canvas.cityu.edu.hk/courses/48496/external_tools/retrieve?display=borderless&url=https%3A//dive.cs.cityu.edu.hk/cs1302_24a/hub/lti/launch%3Fcustom_next%3Dhttps%253A//dive.cs.cityu.edu.hk/cs1302_24a/hub/user-redirect/git-pull%253Frepo%253Dhttps%25253A//github.com/dive4dec/cs1302_24a%2526urlpath%253Dlab/tree/cs1302_24a/Lab0/Course_Materials.ipynb\">Course Materials</a>\n",
    "</ul>\n",
    "</div>\n",
    "\n",
    "After clicking the link above, you may be asked to login with your CityU account and specify a server option. Select the <kbd>Default</kbd> option from the list of available Jupyter servers, and click <kbd>Start</kbd> to begin your session.\n",
    "\n",
    "::::"
   ]
  },
  {
   "cell_type": "markdown",
   "id": "6395b238",
   "metadata": {},
   "source": [
    "::::{note} What are the server options?\n",
    "\n",
    "The course's programming environment is conveniently accessible via a [JupyterHub][jh] server, allowing remote access without the need to install any special software, thanks to <wiki:Project_Jupyter>. This means you can easily write and run programs on your mobile devices using just a web browser. Each student will have their own [Jupyter server](https://jupyter-server.readthedocs.io/en/latest/) with individual computer resources such as CPU/memory/GPU.\n",
    "\n",
    "- Each server runs the <wiki:Ubuntu> operating system in a [container](wiki:Containerization_(computing)). See the [Dockerfile](https://github.com/dive4dec/jupyter/blob/main/cs1302nb/Dockerfile) for details.\n",
    "- The GPU resources are useful for customized AI applications.\n",
    "- You can switch between the `Default` and other server options at any time by restarting your server and selecting the desired option. Restarting the server is simple and can be done through the hub control panel, as described in the troubleshooting note below.\n",
    "\n",
    "::::\n",
    "\n",
    "[jh]: https://jupyterhub.readthedocs.io/en/stable/"
   ]
  },
  {
   "cell_type": "markdown",
   "id": "9b643e9e",
   "metadata": {},
   "source": [
    "If the server is spawned successfully, the [JupyterLab](https://jupyterlab.readthedocs.io) interface should appear.\n",
    "\n",
    ":::{tip} Troubleshooting[^click]\n",
    ":class: dropdown\n",
    "\n",
    "In case the jupyterlab interface fails to show:\n",
    "\n",
    "- Refresh the page or restart your browser.\n",
    "- Restart your server using the `Hub Control Panel` under the `File` and click `Stop My Server` and then `Start My Server`.\n",
    "\n",
    ":::\n",
    "\n",
    "[^click]:  click me to expand"
   ]
  },
  {
   "cell_type": "markdown",
   "id": "26a15998",
   "metadata": {},
   "source": [
    "As a demonstration of the benefit of literate programming, run the following code to start the notebook link generator app.[^run]\n",
    "\n",
    "[^run]: To run the cell, select it and press <kbd>Shit + Enter</kbd>."
   ]
  },
  {
   "cell_type": "code",
   "execution_count": null,
   "id": "9830b025",
   "metadata": {},
   "outputs": [],
   "source": [
    "from notebook_link_generator import setup_notebook_link_widget\n",
    "\n",
    "display_widget = setup_notebook_link_widget()\n",
    "display(display_widget)"
   ]
  },
  {
   "cell_type": "markdown",
   "id": "c648f536",
   "metadata": {},
   "source": [
    "Change the `Notebook path` above to `Lecture1/Introduction_to_Computer_Programming.ipynb` and observe the live update to the generated link."
   ]
  },
  {
   "cell_type": "markdown",
   "id": "9ae3dcff",
   "metadata": {},
   "source": [
    "Run the following code to see how the notebook was generated steyp-by-step:[^inspect]\n",
    "\n",
    "[^inspect]: You can inspect parts of the code by placing the cursor there and press <kbd>Shift + Tab</kbd>."
   ]
  },
  {
   "cell_type": "code",
   "execution_count": null,
   "id": "f5a4458c",
   "metadata": {},
   "outputs": [],
   "source": [
    "from urllib.parse import quote\n",
    "\n",
    "# Course parameters\n",
    "course_id = \"cs1302_24a\"\n",
    "notebook_path = \"Lecture1/Introduction_to_Computer_Programming.ipynb\"\n",
    "canvas_id = \"48496\"\n",
    "\n",
    "# Base URLs\n",
    "notebook_repo = f\"https://github.com/dive4dec/{course_id}\"\n",
    "course_server = \"https://dive.cs.cityu.edu.hk\"\n",
    "course_homepage = f\"https://canvas.cityu.edu.hk/courses/{canvas_id}\"\n",
    "\n",
    "# Notebook URL generation\n",
    "# 1. Construct the URL for git-pull service to clone or pull the notebook repository\n",
    "gitpull_url = (\n",
    "    f\"{course_server}/{course_id}/hub/user-redirect/git-pull?\"\n",
    "    + f\"repo={quote(notebook_repo)}\"\n",
    "    + f\"&urlpath={quote(f'lab/tree/{course_id}/{notebook_path}')}\"\n",
    ")\n",
    "# Construct the LTI (Learning Tools Interoperability) launch URL for JupyterHub\n",
    "lti_url = (\n",
    "    f\"{course_server}/{course_id}/hub/lti/launch?\" + f\"custom_next={quote(gitpull_url)}\"\n",
    ")\n",
    "# Construct the LTI external tool URL to open the notebook\n",
    "notebook_url = (\n",
    "    f\"{course_homepage}/external_tools/retrieve?display=borderless&\"\n",
    "    + f\"url={quote(lti_url)}\"\n",
    ")\n",
    "notebook_url"
   ]
  },
  {
   "cell_type": "markdown",
   "id": "218565cc",
   "metadata": {},
   "source": [
    "::::{note} What does the notebook link do?\n",
    "\n",
    "The notebooks reside in a [GitHub repository](https://github.com/dive4dec/cs1302_24a/blob/main/README.md). Accessing a notebook link will\n",
    "\n",
    "1. Uses [LTI Authenticator](https://ltiauthenticator.readthedocs.io) to launch the JupyterHub as an LTI external tool from the course homepage.\n",
    "2. Uses [NbGitPuller](https://jupyterhub.github.io/nbgitpuller/index.html) to [git-pull](https://git-scm.com/docs/git-pull)s all the files in the repository, merge them with any existing files stored under the course folder `cs1302_24a` in your home directory without overwriting your changes, and open the notebook path specified in the JupyterLab interface.\n",
    "\n",
    "::::"
   ]
  },
  {
   "cell_type": "markdown",
   "id": "0c0ad777",
   "metadata": {
    "slideshow": {
     "slide_type": "subslide"
    }
   },
   "source": [
    "## Assignments"
   ]
  },
  {
   "cell_type": "markdown",
   "id": "c4674072",
   "metadata": {},
   "source": [
    "### How to complete?"
   ]
  },
  {
   "cell_type": "markdown",
   "id": "e31fd404",
   "metadata": {},
   "source": [
    "The notebooks can be edited in JupyterLab to include your answers for submission. If this is your first time using JupyterLab, take a look at the [official video tutorial](https://www.youtube.com/embed/A5YyoCKxEOU):\n",
    "\n",
    "::::{seealso} How to use JupyterLab?\n",
    ":class: dropdown\n",
    "\n",
    ":::{iframe} https://www.youtube.com/embed/A5YyoCKxEOU\n",
    ":width: 100%\n",
    ":align: left\n",
    "\n",
    "Official video tutorial on Jupyter\n",
    ":::\n",
    "::::"
   ]
  },
  {
   "cell_type": "markdown",
   "id": "4b83c781",
   "metadata": {
    "editable": true,
    "slideshow": {
     "slide_type": "fragment"
    }
   },
   "source": [
    "For more advanced features:\n",
    "\n",
    "- Checkout the `Help` menu items\n",
    "    - `Show Keyboard Shortcuts` to try some of the shortcuts to see their effect; and\n",
    "    -  `Jupyter Reference` to open the [user guide](https://jupyterlab.readthedocs.io/en/latest/user/interface.html) in a new tab.\n",
    "- Try also the [MyST Markdown](https://mystmd.org/guide/typography) syntax to format your notes."
   ]
  },
  {
   "cell_type": "markdown",
   "id": "08c4fa5b",
   "metadata": {},
   "source": [
    "In learning a new programming language, the first program to write is often the [\"Hello, World!\"](https://en.wikipedia.org/wiki/%22Hello,_World!%22_program) program, which says Hello to the world. As your first lab exercise, you will write such a program in python."
   ]
  },
  {
   "cell_type": "markdown",
   "id": "a10a14e7",
   "metadata": {
    "deletable": false,
    "editable": false,
    "nbgrader": {
     "cell_type": "markdown",
     "checksum": "47a95295c28992482f5a59d874dc70f6",
     "grade": false,
     "grade_id": "qHelloWorld",
     "locked": true,
     "schema_version": 3,
     "solution": false,
     "task": false
    },
    "slideshow": {
     "slide_type": "subslide"
    }
   },
   "source": [
    ":::::{exercise} Hello World\n",
    ":label: ex:Hello-World\n",
    "\n",
    "Complete the program to print the message `Hello, World!`. \n",
    "\n",
    "::::{hint}\n",
    ":class: dropdown\n",
    "\n",
    "One possible solution is:\n",
    "\n",
    ":::{code-block} python\n",
    ":name: code:Hello-World\n",
    ":caption: Python, \"Hello, World!\"\n",
    "\n",
    "def say_hello():\n",
    "    print(\"Hello, World!\")\n",
    "    \n",
    "say_hello()\n",
    ":::\n",
    "\n",
    ":::{caution}\n",
    "You must use a tab or 4 spaces to indent the second line of code `print(...)`.\n",
    ":::\n",
    "\n",
    "::::\n",
    "\n",
    ":::::"
   ]
  },
  {
   "cell_type": "markdown",
   "id": "11797315",
   "metadata": {
    "editable": true,
    "slideshow": {
     "slide_type": ""
    }
   },
   "source": [
    "The following code cell is a [solution cell](https://nbgrader.readthedocs.io/en/stable/configuration/student_version.html#default-behavior). Since you are not expected to know python yet, you can simply expand the hint above and copy the answer to the solution cell instead."
   ]
  },
  {
   "cell_type": "code",
   "execution_count": null,
   "id": "98ca7c14",
   "metadata": {
    "code_folding": [],
    "deletable": false,
    "editable": true,
    "nbgrader": {
     "cell_type": "code",
     "checksum": "3b4449a7fd39c719b8d9d63b8101820c",
     "grade": false,
     "grade_id": "helloworld",
     "locked": false,
     "schema_version": 3,
     "solution": true,
     "task": false
    },
    "slideshow": {
     "slide_type": "-"
    },
    "tags": [
     "remove-output"
    ]
   },
   "outputs": [],
   "source": [
    "def say_hello():\n",
    "    # YOUR CODE HERE\n",
    "    raise NotImplementedError()\n",
    "    \n",
    "say_hello()"
   ]
  },
  {
   "cell_type": "markdown",
   "id": "1fdd9f8c",
   "metadata": {
    "editable": true,
    "slideshow": {
     "slide_type": "subslide"
    }
   },
   "source": [
    ":::{attention}\n",
    "\n",
    "It's important to follow certain guidelines when writing your answers or code in the notebooks:\n",
    "\n",
    "- Only provide your answers in the cells that are designated for this purpose, which are usually labeled with `YOUR CODE HERE` or `YOUR ANSWER HERE`.\n",
    "- For coding exercises, be sure to remove the line `raise NotImplementedError()` from the cell before submitting your work.\n",
    "- Do not clone or duplicate the answer cells, as this can cause issues with version control and grading.\n",
    "\n",
    ":::"
   ]
  },
  {
   "cell_type": "markdown",
   "id": "74b61c28",
   "metadata": {},
   "source": [
    "To test your program:\n",
    "\n",
    "- Run your program by selecting the solution cell and press `Shift`+`Enter`.\n",
    "- Then, run the following visible test to check whether your program prints the correct message."
   ]
  },
  {
   "cell_type": "code",
   "execution_count": null,
   "id": "343ad0cb",
   "metadata": {
    "deletable": false,
    "editable": false,
    "nbgrader": {
     "cell_type": "code",
     "checksum": "4068a56e65aec0123a06748ff5b6586b",
     "grade": true,
     "grade_id": "test-helloworld",
     "locked": true,
     "points": 1,
     "schema_version": 3,
     "solution": false,
     "task": false
    },
    "slideshow": {
     "slide_type": "-"
    },
    "tags": [
     "remove-output"
    ]
   },
   "outputs": [],
   "source": [
    "# Run this test cell right after running your \"Hello, World!\" program.\n",
    "import io\n",
    "import sys\n",
    "\n",
    "old_stdout, sys.stdout = sys.stdout, io.StringIO()\n",
    "say_hello()\n",
    "printed = sys.stdout.getvalue()\n",
    "sys.stdout = old_stdout\n",
    "assert printed == \"Hello, World!\\n\""
   ]
  },
  {
   "cell_type": "markdown",
   "id": "497977f0",
   "metadata": {
    "editable": true,
    "slideshow": {
     "slide_type": ""
    }
   },
   "source": [
    "The test returns an assertion error if your program does not print the correct message."
   ]
  },
  {
   "cell_type": "markdown",
   "id": "6c97e0b5",
   "metadata": {
    "editable": true,
    "slideshow": {
     "slide_type": ""
    }
   },
   "source": [
    "::::{tip}\n",
    "\n",
    "- You can repeatedly modify your solution and run the test cell until your solution passes the test. There is no mark penalty in failing the test before submission. \n",
    "- You should try to understand the error messages from a failed test.\n",
    "- To assess your solution thoroughly, we will run new tests hidden from you after you have submitted your notebook. Therefore, *you should ensure your solution works in general rather than just the visible tests*.\n",
    "- If you open the same notebook multiple times in different browser windows, be careful in making changes in different windows as you may overwrite your own changes.\n",
    "- If your notebook fails to run any code, the kernel might have died. You can restart the kernel with `Kernel`$\\to$ `Restart`. If restarting fails, check your code cells to see if there is anything that breaks the kernel.\n",
    "\n",
    "::::"
   ]
  },
  {
   "cell_type": "markdown",
   "id": "3eaf1c36",
   "metadata": {
    "editable": true,
    "slideshow": {
     "slide_type": "slide"
    }
   },
   "source": [
    "### How to submit?"
   ]
  },
  {
   "cell_type": "markdown",
   "id": "ed478183",
   "metadata": {
    "editable": true,
    "slideshow": {
     "slide_type": ""
    }
   },
   "source": [
    ":::{important} Grading policies\n",
    "\n",
    "- Late submissions will not be accepted without valid justifications.\n",
    "- You can submit your assignment repeatedly before the deadline without penalty, so it is recommended to submit your assignment in advance. Please note that you are responsible for any issues related to failed submissions due to network outages that occur too close to the deadline.\n",
    "- It is also important to make a record or backup of your submission that includes the submission timestamp. Double check to ensure that you have submitted the correct lab assignment, since multiple lab assignments may be open for submission at the same time.\n",
    "\n",
    ":::"
   ]
  },
  {
   "cell_type": "markdown",
   "id": "99c5ea4e",
   "metadata": {
    "editable": true,
    "slideshow": {
     "slide_type": ""
    }
   },
   "source": [
    "You normally have at least 5 days to work on the lab after your lab session. \n",
    "\n",
    "- You can check the due dates of all the labs from the course homepage. \n",
    "- You may seek help from us or your classmates. However, you must write your own solution and indicate who your collaborators are by including their EIDs in a code cell:  \n",
    "    ```Python\n",
    "    COLLABORATORS = [\"xfwong2\", \"mklee3\"]\n",
    "    ```"
   ]
  },
  {
   "cell_type": "markdown",
   "id": "2ae72c36",
   "metadata": {
    "editable": true,
    "slideshow": {
     "slide_type": ""
    }
   },
   "source": [
    ":::{attention}\n",
    "\n",
    "- Lecture notebooks under the subfolders `Lecture*\\` need NOT be submitted. You only need to submit the lab notebooks under `Lab*\\`. \n",
    "\n",
    ":::"
   ]
  },
  {
   "cell_type": "markdown",
   "id": "ea60c180",
   "metadata": {
    "deletable": false,
    "editable": false,
    "nbgrader": {
     "cell_type": "markdown",
     "checksum": "7460b7419df989e08a4c3a43ec627825",
     "grade": false,
     "grade_id": "Check",
     "locked": true,
     "schema_version": 3,
     "solution": false,
     "task": false
    },
    "slideshow": {
     "slide_type": "fragment"
    }
   },
   "source": [
    "Before you submit, make sure everything runs as expected:\n",
    "\n",
    "1. **Git-pull the notebooks** (optional): Follow any one of the link on the course homepage to a notebook, which will git-pull any updates/corrections to (all) your notebooks.\n",
    "1. **Save the notebook**: Unsaved changes are not exported, even though they are in the memory.\n",
    "1. **Restart the kernel**: `Kernel`$\\to$ `Restart Kernel...` to have a clean state before running visible tests.\n",
    "1. **run all cells**: `Run`$\\to$ `Run All Cells` to double check the results of the visible tests are as expected."
   ]
  },
  {
   "cell_type": "markdown",
   "id": "4fbefd48",
   "metadata": {
    "editable": true,
    "slideshow": {
     "slide_type": "subslide"
    }
   },
   "source": [
    "To submit your notebook:\n",
    "\n",
    "1. Select the menu item `Nbgrader`$\\to$`Assignment List`.\n",
    "1. Expand the Lab folder and click the `validate` button next to the notebook(s) to check if all the visible tests pass.\n",
    "1. Click `Submit` to submit your notebook."
   ]
  },
  {
   "cell_type": "markdown",
   "id": "92642cca",
   "metadata": {},
   "source": [
    "::::{seealso} What is NBGrader?\n",
    ":class: dropdown\n",
    "\n",
    "[Nbgrader](https://nbgrader.readthedocs.io/en/stable/) is a package for grading notebook assignments. It is well-integrated into the JupyterLab interface, allowing students to submit their notebooks directly through the JupyterHub server. Submitted notebooks can be both auto-graded with pre-defined test cases and manually graded with custom feedback. After grading is complete, you can check your scores and access the feedback using the same interface.\n",
    "\n",
    "::::"
   ]
  },
  {
   "cell_type": "markdown",
   "id": "bf62d527",
   "metadata": {
    "editable": true,
    "slideshow": {
     "slide_type": ""
    }
   },
   "source": [
    "::::{caution}\n",
    "\n",
    "Your submission may not be graded under the following circumstances:\n",
    "\n",
    "- If the notebook files have been renamed, for example, `Setup.ipynb` being changed or copied to `Setup (Copy).ipynb`.\n",
    "- If an HTML file exists with the same name as a notebook, for example, `Setup.html`.\n",
    "- If the file size exceeds `100MB`.\n",
    "- If the code takes too long to run or requires an excessive amount of memory.\n",
    "\n",
    "It is essential to ensure that your submission meets these guidelines to avoid any issues with grading.\n",
    "\n",
    ":::{tip} Troubleshooting\n",
    ":class: dropdown\n",
    "\n",
    "If you believe your notebooks are corrupted, \n",
    "1. download/backup your existing notebooks,\n",
    "1. remove them from the `Lab*/` folder,\n",
    "1. click the git-pull links from the course homepage to re-pull the notebooks, and\n",
    "1. copy your solutions to the new notebooks.\n",
    "\n",
    "You may also run the course notebooks outside the jupyterhub server and locally on your computer. For more details, see the course homepage.\n",
    "\n",
    ":::\n",
    "\n",
    "::::"
   ]
  }
 ],
 "metadata": {
  "kernelspec": {
   "display_name": "Python 3 (ipykernel)",
   "language": "python",
   "name": "python3"
  }
 },
 "nbformat": 4,
 "nbformat_minor": 5
}
