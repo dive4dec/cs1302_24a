{
 "cells": [
  {
   "cell_type": "markdown",
   "id": "c3888dcf",
   "metadata": {
    "editable": true,
    "slideshow": {
     "slide_type": "slide"
    }
   },
   "source": [
    "---\n",
    "title: Course Materials\n",
    "---"
   ]
  },
  {
   "cell_type": "markdown",
   "id": "928e31b4",
   "metadata": {
    "editable": true,
    "slideshow": {
     "slide_type": ""
    }
   },
   "source": [
    "To access the course homepage, visit:\n",
    "\n",
    "::::{attention} Course homepage for registered students\n",
    "\n",
    "<https://canvas.cityu.edu.hk/courses/60298>\n",
    "\n",
    "::::\n",
    "\n",
    "If you have not yet registered the course, visit the static site:\n",
    "\n",
    "::::{attention} Static Jupyter book\n",
    "\n",
    "<https://www.cs.cityu.edu.hk/~ccha23/cs1302_24a/>\n",
    "\n",
    "::::\n",
    "\n",
    "- For your first lab session, access [`Lab0`$\\to$`Course Materials`](https://www.cs.cityu.edu.hk/~ccha23/cs1302_24a/course-materials)\n",
    "- For your first lecture session, access [`Lecture1`$\\to$`Introduction to Computer Programming`](https://www.cs.cityu.edu.hk/~ccha23/cs1302_24a/introduction-to-computer-programming)"
   ]
  },
  {
   "cell_type": "markdown",
   "id": "69b86967",
   "metadata": {
    "editable": true,
    "slideshow": {
     "slide_type": ""
    }
   },
   "source": [
    ":::::{table} An example of a notebook link on the course homepage.\n",
    ":label: tbl:notebook-link\n",
    "\n",
    "<table>\n",
    "<div style=\"border: 1px solid black; padding: 10px;\">\n",
    "<h4 title=\"Title: Lecture/Lab\">Lab0</h4>\n",
    "<ul>\n",
    "  <li>\n",
    "    <a title=\"Subtitle: Notebook link\" href=\"https://canvas.cityu.edu.hk/courses/60298/external_tools/retrieve?display=borderless&url=https%3A//dive.cs.cityu.edu.hk/cs1302_24a/hub/lti/launch%3Fcustom_next%3Dhttps%253A//dive.cs.cityu.edu.hk/cs1302_24a/hub/user-redirect/git-pull%253Frepo%253Dhttps%25253A//github.com/dive4dec/cs1302_24a%2526urlpath%253Dlab/tree/cs1302_24a/Lab0/Course_Materials.ipynb\" target=\"_blank\">Course Materials</a>\n",
    "</ul>\n",
    "</div>\n",
    "</table>\n",
    "\n",
    ":::::"
   ]
  },
  {
   "cell_type": "markdown",
   "id": "d2caa1fa",
   "metadata": {
    "editable": true,
    "slideshow": {
     "slide_type": "slide"
    }
   },
   "source": [
    "## Notebooks"
   ]
  },
  {
   "cell_type": "markdown",
   "id": "1a1e85f1",
   "metadata": {},
   "source": [
    "Lecture and lab materials are written in the form of [Jupyter notebooks](https://jupyter.org/), which provide an interactive [literate programming](https://en.wikipedia.org/wiki/literate_programming) experience, which is a significant benefit in making programs easy to understand:\n",
    "\n",
    "- Jupyter notebooks allow programs to be mixed with other contents, including figures, videos, and formatted textual explanations.\n",
    "- The notebooks can also be opened in a Jupyter server, which enables users to edit and run the programs in addition to other contents."
   ]
  },
  {
   "cell_type": "markdown",
   "id": "7e738606",
   "metadata": {},
   "source": [
    "### How to run notebook cells?"
   ]
  },
  {
   "cell_type": "markdown",
   "id": "89846168",
   "metadata": {},
   "source": [
    "If you already have your notebook opened in a Jupyter server, let's run some code. Otherwise, jump to the [next section](#sec:fetch) to learn how to fetch and open notebooks.\n",
    "\n",
    "To run a cell, select the cell and press <kbd>Shift + Enter</kbd>. The cell prompt with change from `[ ]` to `[*]`. When the run completes, the asterisk will be changed to a number like `[1]`. Try running the following cell to import the [Mathematical Animation Engine (Manim)](https://docs.manim.community/).[^import] \n",
    "\n",
    "[^import]: Importing a library in programming is like bringing a toolbox into your workshop, giving you access to all the tools you need to complete your tasks."
   ]
  },
  {
   "cell_type": "code",
   "execution_count": null,
   "id": "6f2bb7a9",
   "metadata": {
    "editable": true,
    "slideshow": {
     "slide_type": ""
    }
   },
   "outputs": [],
   "source": [
    "import os\n",
    "\n",
    "if not os.getenv(\n",
    "    \"NBGRADER_EXECUTE\"\n",
    "):  # Skip the code or auto-grading may take too long to complete.\n",
    "    import manim"
   ]
  },
  {
   "cell_type": "markdown",
   "id": "a76cb378",
   "metadata": {
    "editable": true,
    "slideshow": {
     "slide_type": ""
    }
   },
   "source": [
    "After the import is complete,  run the following cell to create an animation:"
   ]
  },
  {
   "cell_type": "code",
   "execution_count": null,
   "id": "8af8bb1d",
   "metadata": {
    "editable": true,
    "slideshow": {
     "slide_type": ""
    }
   },
   "outputs": [],
   "source": [
    "%%manim -qm --progress_bar=none --disable_caching --flush_cache -v ERROR Welcome\n",
    "class Welcome(manim.Scene):\n",
    "    def construct(self):\n",
    "        self.play(manim.Write(manim.Text(\"Welcome to CS1302!\")))"
   ]
  },
  {
   "cell_type": "markdown",
   "id": "2b9f5864",
   "metadata": {},
   "source": [
    "As you can see, the code creates a scene that displays the message `Welcome to CS1302!` with a writing animation.[^manim-magic] To verify that the program runs live, feel free to modify the message to anything you want.\n",
    "\n",
    "[^manim-magic]: If you are interested in what the first line does, it sets the video quality to medium while disabling caching and progress bars, and setting the verbosity to reporting only ERROR but not other critical information."
   ]
  },
  {
   "cell_type": "markdown",
   "id": "d90b52a3",
   "metadata": {},
   "source": [
    "(sec:fetch)=\n",
    "### How to fetch and open notebooks?"
   ]
  },
  {
   "cell_type": "markdown",
   "id": "67d69e9c",
   "metadata": {
    "editable": true,
    "slideshow": {
     "slide_type": ""
    }
   },
   "source": [
    "To fetch the notebooks, follow the links to the notebooks on the course homepage such as the one in [](#tbl:notebook-link)."
   ]
  },
  {
   "cell_type": "markdown",
   "id": "39f89c79",
   "metadata": {},
   "source": [
    "After clicking a notebook link, you may be asked to \n",
    "\n",
    "- login with your CityU account if you are not yet logged into Canvas, and\n",
    "- specify a server option if you do not yet have a running Jupyter server.\n",
    "\n",
    "Select the `Default` option from the list of available Jupyter servers, and click <kbd>Start</kbd> to begin your session."
   ]
  },
  {
   "cell_type": "markdown",
   "id": "fd179be5",
   "metadata": {
    "editable": true,
    "slideshow": {
     "slide_type": ""
    }
   },
   "source": [
    "::::{note} What are the other server options?\n",
    ":class: dropdown\n",
    "\n",
    "The course's programming environment is conveniently accessible via a [JupyterHub][jh] server, allowing remote access without the need to install any special software, thanks to [Project Jupyter](https://en.wikipedia.org/wiki/Project_Jupyter). This means you can easily write and run programs on your mobile devices using just a web browser. Each student will have their own [Jupyter server](https://jupyter-server.readthedocs.io/en/latest/) with individual computing resources including CPU, memory, and GPU.\n",
    "\n",
    "- Each server runs the [Ubuntu](https://en.wikipedia.org/wiki/Ubuntu) operating system in a [container](https://en.wikipedia.org/wiki/Containerization_(computing)). See the [Dockerfile](https://github.com/dive4dec/jupyter/blob/main/cs1302nb/Dockerfile) for details.\n",
    "- The GPU resources are useful for customized AI applications.\n",
    "- You can switch between the `Default` and other server options at any time by restarting your server and selecting the desired option. Restarting the server is simple and can be done by\n",
    "  1. selecting `Hub Control Panel` under the `File` menu, and\n",
    "  2. click `Stop My Server` and then `Start My Server`.\n",
    "\n",
    "::::\n",
    "\n",
    "[jh]: https://jupyterhub.readthedocs.io/en/stable/"
   ]
  },
  {
   "cell_type": "markdown",
   "id": "f3ee20e5",
   "metadata": {
    "editable": true,
    "slideshow": {
     "slide_type": ""
    }
   },
   "source": [
    "If the server is spawned successfully, the [JupyterLab](https://jupyterlab.readthedocs.io) interface should appear.\n",
    "\n",
    ":::{tip} Troubleshooting\n",
    ":class: dropdown\n",
    "\n",
    "In case the jupyterlab interface fails to show, refresh the page or restart your browser for the javascript to load completely in your browser. If the server fails to spawn, which is very likely if you try to spawn a GPU server, you can restart after clicking the `Home` link. \n",
    "\n",
    "You may occasionally run into issues. There are thousands of open issues reported to the JupyterLab repository, where you may find related issues and a kludge (temporary workaround):\n",
    "\n",
    "- <https://github.com/jupyterlab/jupyterlab/issues>\n",
    "\n",
    ":::"
   ]
  },
  {
   "cell_type": "markdown",
   "id": "53ce9e69",
   "metadata": {
    "editable": true,
    "slideshow": {
     "slide_type": ""
    }
   },
   "source": [
    "As you start your programming journey, you will inevitably encounter see [software bugs](https://en.wikipedia.org/wiki/Software_bug), especially in highly sophisticated software such as JupyterLab. Be aware of their existence, and develop a positive attitude towards bugs, as well as cultivate a proper skill set to inspect and debug them effectively."
   ]
  },
  {
   "cell_type": "markdown",
   "id": "5d3f2e5b",
   "metadata": {},
   "source": [
    "As an example to inspect a computer program, we will explain how the notebook link works. First, run the following code to start the notebook link generator app."
   ]
  },
  {
   "cell_type": "code",
   "execution_count": null,
   "id": "187c54f0",
   "metadata": {},
   "outputs": [],
   "source": [
    "from notebook_link_generator import setup_notebook_link_widget\n",
    "\n",
    "display_widget = setup_notebook_link_widget(canvas_id=\"60298\")\n",
    "display(display_widget)"
   ]
  },
  {
   "cell_type": "markdown",
   "id": "f930c491",
   "metadata": {},
   "source": [
    "Change the `Notebook path` above to `Lecture1/Introduction_to_Computer_Programming.ipynb` and observe the live update to the generated link."
   ]
  },
  {
   "cell_type": "markdown",
   "id": "91a7af53",
   "metadata": {},
   "source": [
    "Now, run the following two cells to see how a notebook link is generated stey-by-step:"
   ]
  },
  {
   "cell_type": "code",
   "execution_count": null,
   "id": "53eb4320",
   "metadata": {},
   "outputs": [],
   "source": [
    "%load_ext divewidgets"
   ]
  },
  {
   "cell_type": "code",
   "execution_count": null,
   "id": "334b4acf",
   "metadata": {},
   "outputs": [],
   "source": [
    "%%optlite -r\n",
    "from urllib.parse import quote\n",
    "\n",
    "# Course parameters\n",
    "course_id = \"cs1302_24a\"\n",
    "notebook_path = \"Lecture1/Introduction_to_Computer_Programming.ipynb\"\n",
    "canvas_id = \"60298\"\n",
    "\n",
    "# Base URLs\n",
    "notebook_repo = f\"https://github.com/dive4dec/{course_id}\"\n",
    "course_server = \"https://dive.cs.cityu.edu.hk\"\n",
    "course_homepage = f\"https://canvas.cityu.edu.hk/courses/{canvas_id}\"\n",
    "\n",
    "# Notebook URL generation\n",
    "# 1. Construct the URL for git-pull service to clone or pull the notebook repository\n",
    "gitpull_url = (\n",
    "    f\"{course_server}/{course_id}/hub/user-redirect/git-pull?\"\n",
    "    + f\"repo={quote(notebook_repo)}\"\n",
    "    + f\"&urlpath={quote(f'lab/tree/{course_id}/{notebook_path}')}\"\n",
    ")\n",
    "# Construct the LTI (Learning Tools Interoperability) launch URL for JupyterHub\n",
    "lti_url = (\n",
    "    f\"{course_server}/{course_id}/hub/lti/launch?\" + f\"custom_next={quote(gitpull_url)}\"\n",
    ")\n",
    "# Construct the LTI external tool URL to open the notebook\n",
    "notebook_url = (\n",
    "    f\"{course_homepage}/external_tools/retrieve?display=borderless&\"\n",
    "    + f\"url={quote(lti_url)}\"\n",
    ")\n",
    "notebook_url"
   ]
  },
  {
   "cell_type": "markdown",
   "id": "a0d63191",
   "metadata": {
    "slideshow": {
     "slide_type": "subslide"
    }
   },
   "source": [
    "After running the code, you can:\n",
    "- see the generated notebook link for `Lecture1/Introduction_to_Computer_Programming.ipynb` in the output cell;\n",
    "- inspect parts of the code in the input cell by placing the cursor there and press <kbd>Shift + Tab</kbd>; and\n",
    "- visualize the execution step-by-step by clicking <kbd>Next ></kbd> (<kbd>< Prev</kbd>) to go the the next (previous) line."
   ]
  },
  {
   "cell_type": "markdown",
   "id": "3bb99ed0",
   "metadata": {},
   "source": [
    "::::{note} What does the notebook link do?\n",
    ":class: dropdown\n",
    "\n",
    "The notebooks reside in a [GitHub repository](https://github.com/dive4dec/cs1302_24a/blob/main/README.md). Accessing a notebook link will\n",
    "\n",
    "1. use [LTI Authenticator](https://ltiauthenticator.readthedocs.io) to launch the JupyterHub as an LTI external tool from the course homepage, and\n",
    "2. use [NbGitPuller](https://jupyterhub.github.io/nbgitpuller/index.html) to [git-pull](https://git-scm.com/docs/git-pull)s all the files in the repository, merge them with any existing files stored under the course folder `cs1302_24a` in your home directory without overwriting your changes, and open the notebook path specified in the JupyterLab interface.\n",
    "\n",
    "::::"
   ]
  },
  {
   "cell_type": "markdown",
   "id": "c09eda51",
   "metadata": {
    "slideshow": {
     "slide_type": "subslide"
    }
   },
   "source": [
    "## Assignments"
   ]
  },
  {
   "cell_type": "markdown",
   "id": "191e7c44",
   "metadata": {},
   "source": [
    "### How to complete an assignment?"
   ]
  },
  {
   "cell_type": "markdown",
   "id": "2edf5222",
   "metadata": {},
   "source": [
    "The notebooks can be edited in JupyterLab to include your answers for submission. If this is your first time using JupyterLab, take a look at the [official video tutorial](https://www.youtube.com/embed/A5YyoCKxEOU):\n",
    "\n",
    "\n",
    "::::{seealso} How to use JupyterLab?\n",
    ":class: dropdown\n",
    "\n",
    ":::{iframe} https://www.youtube.com/embed/A5YyoCKxEOU\n",
    ":width: 100%\n",
    ":align: left\n",
    "\n",
    "Official video tutorial on Jupyter\n",
    ":::\n",
    "::::"
   ]
  },
  {
   "cell_type": "markdown",
   "id": "27a67c7d",
   "metadata": {
    "editable": true,
    "slideshow": {
     "slide_type": "fragment"
    }
   },
   "source": [
    "For more advanced features:\n",
    "\n",
    "- Checkout the `Help` menu items\n",
    "    - `Show Keyboard Shortcuts` to try some of the shortcuts to see their effect, and\n",
    "    -  `Jupyter Reference` to open the [user guide](https://jupyterlab.readthedocs.io/en/latest/user/interface.html) in a new tab.\n",
    "- Try also the [MyST Markdown](https://mystmd.org/guide/typography) syntax to format your notes."
   ]
  },
  {
   "cell_type": "markdown",
   "id": "16725acf",
   "metadata": {},
   "source": [
    "::::{seealso} An alternative interface: VSCode\n",
    ":class: dropdown\n",
    "\n",
    "You may also use a highly customizable editor Visual Studio Code (VS Code) to open a notebook:\n",
    "\n",
    "- Click `File`->`New Launcher`->`VS Code`.\n",
    "- Click the menu icon on the left and select `Open Folder` and select `cs1302_24a`.\n",
    "\n",
    "In the file explorer, you can navigate to a notebook to open it. However, to properly run the notebook, you would also need to start the Kernel by choosing an appropriate Python environment such as `base`, which is the default [(conda) environment](https://conda.io/projects/conda/en/latest/dev-guide/api/conda/base/index.html) for our JupyterLab setup. Unlike JupyterLab, you may install additional extensions yourself to enrich the interface.[^vscode]\n",
    "\n",
    "::::\n",
    "\n",
    "[^vscode]: The VSCode interface is actually [code-server](https://github.com/coder/code-server), so some VSCode extensions may not be listed under the extension panel. You may still try to install them using the command `install-vscode-extension` in a terminal. This is only for advanced users who know what they are doing, or the risk of breaking things can be rather high..."
   ]
  },
  {
   "cell_type": "markdown",
   "id": "61548de4",
   "metadata": {},
   "source": [
    "In learning a new programming language, the first program to write is often the [\"Hello, World!\"](https://en.wikipedia.org/wiki/%22Hello,_World!%22_program) program, which says Hello to the world. As your first lab exercise, you will write such a program in python."
   ]
  },
  {
   "cell_type": "markdown",
   "id": "1ceb9037",
   "metadata": {
    "deletable": false,
    "editable": false,
    "nbgrader": {
     "cell_type": "markdown",
     "checksum": "47a95295c28992482f5a59d874dc70f6",
     "grade": false,
     "grade_id": "qHelloWorld",
     "locked": true,
     "schema_version": 3,
     "solution": false,
     "task": false
    },
    "slideshow": {
     "slide_type": "subslide"
    }
   },
   "source": [
    ":::::{exercise} Hello World\n",
    ":label: ex:Hello-World\n",
    "\n",
    "Complete the program to print the message `Hello, World!`. \n",
    "\n",
    "::::{hint}\n",
    ":class: dropdown\n",
    "\n",
    "One possible solution is:\n",
    "\n",
    ":::{code-block} python\n",
    ":name: code:Hello-World\n",
    ":caption: Python, \"Hello, World!\"\n",
    "\n",
    "def say_hello():\n",
    "    print(\"Hello, World!\")\n",
    "    \n",
    "say_hello()\n",
    ":::\n",
    "\n",
    ":::{caution}\n",
    "You must use a tab or 4 spaces to indent the second line of code `print(...)`.\n",
    ":::\n",
    "\n",
    "::::\n",
    "\n",
    ":::::"
   ]
  },
  {
   "cell_type": "markdown",
   "id": "b56d70c6",
   "metadata": {
    "editable": true,
    "slideshow": {
     "slide_type": ""
    }
   },
   "source": [
    "The following code cell is a [solution cell](https://nbgrader.readthedocs.io/en/stable/configuration/student_version.html#default-behavior). Since you are not expected to know python yet, you can simply expand the hint above and copy the answer to the solution cell instead."
   ]
  },
  {
   "cell_type": "code",
   "execution_count": null,
   "id": "26ca7deb",
   "metadata": {
    "code_folding": [],
    "deletable": false,
    "editable": true,
    "nbgrader": {
     "cell_type": "code",
     "checksum": "d37eb0558681f76fcb1f2574c53655ac",
     "grade": false,
     "grade_id": "helloworld",
     "locked": false,
     "schema_version": 3,
     "solution": true,
     "task": false
    },
    "slideshow": {
     "slide_type": "-"
    },
    "tags": [
     "remove-output"
    ]
   },
   "outputs": [],
   "source": [
    "def say_hello():\n",
    "    # YOUR CODE HERE\n",
    "    raise NotImplementedError()\n",
    "\n",
    "say_hello()"
   ]
  },
  {
   "cell_type": "markdown",
   "id": "65b02249",
   "metadata": {
    "editable": true,
    "slideshow": {
     "slide_type": "subslide"
    }
   },
   "source": [
    ":::{attention}\n",
    "\n",
    "It's important to follow certain guidelines when writing your answers or code in the notebooks:\n",
    "\n",
    "- Only provide your answers in the cells that are designated for this purpose, which are usually labeled with `YOUR CODE HERE` or `YOUR ANSWER HERE`.\n",
    "- For coding exercises, be sure to remove the line `raise NotImplementedError()` from the cell before submitting your work.\n",
    "- Do not clone or duplicate the answer cells, as this can cause issues with version control and grading.\n",
    "\n",
    ":::"
   ]
  },
  {
   "cell_type": "markdown",
   "id": "b1c22cab",
   "metadata": {},
   "source": [
    "To test your program:\n",
    "\n",
    "- Run your program by selecting the solution cell and press <kbd>Shift + Enter</kbd>.\n",
    "- Then, run the following visible test to check whether your program prints the correct message."
   ]
  },
  {
   "cell_type": "code",
   "execution_count": null,
   "id": "c964723d",
   "metadata": {
    "deletable": false,
    "editable": false,
    "nbgrader": {
     "cell_type": "code",
     "checksum": "4068a56e65aec0123a06748ff5b6586b",
     "grade": true,
     "grade_id": "test-helloworld",
     "locked": true,
     "points": 1,
     "schema_version": 3,
     "solution": false,
     "task": false
    },
    "slideshow": {
     "slide_type": "-"
    },
    "tags": [
     "remove-output"
    ]
   },
   "outputs": [],
   "source": [
    "# Run this test cell right after running your \"Hello, World!\" program.\n",
    "import io\n",
    "import sys\n",
    "\n",
    "old_stdout, sys.stdout = sys.stdout, io.StringIO()\n",
    "say_hello()\n",
    "printed = sys.stdout.getvalue()\n",
    "sys.stdout = old_stdout\n",
    "assert printed == \"Hello, World!\\n\""
   ]
  },
  {
   "cell_type": "markdown",
   "id": "51551d5c",
   "metadata": {
    "editable": true,
    "slideshow": {
     "slide_type": ""
    }
   },
   "source": [
    "The test returns an assertion error if your program does not print the correct message."
   ]
  },
  {
   "cell_type": "markdown",
   "id": "64a3fc28",
   "metadata": {
    "editable": true,
    "slideshow": {
     "slide_type": ""
    }
   },
   "source": [
    "::::{tip}\n",
    "\n",
    "- You can repeatedly modify your solution and run the test cell until your solution passes the test. There is no mark penalty in failing the test before submission. \n",
    "- You should try to understand the error messages from a failed test.\n",
    "- To assess your solution thoroughly, we will run new tests hidden from you after you have submitted your notebook. Therefore, *you should ensure your solution works in general rather than just the visible tests*.\n",
    "- If you open the same notebook multiple times in different browser windows, be careful in making changes in different windows as you may overwrite your own changes.\n",
    "- If your notebook fails to run any code, the kernel might have died. You can restart the kernel with `Kernel`$\\to$ `Restart`. If restarting fails, check your code cells to see if there is anything that breaks the kernel.\n",
    "\n",
    "::::"
   ]
  },
  {
   "cell_type": "markdown",
   "id": "52cc053f",
   "metadata": {
    "editable": true,
    "slideshow": {
     "slide_type": "slide"
    }
   },
   "source": [
    "### How to submit?"
   ]
  },
  {
   "cell_type": "markdown",
   "id": "5a39e318",
   "metadata": {
    "editable": true,
    "slideshow": {
     "slide_type": ""
    }
   },
   "source": [
    ":::{important} Grading policies\n",
    "\n",
    "- Late submissions will not be accepted without valid justifications.\n",
    "- You can submit your assignment repeatedly before the deadline without penalty, so it is recommended to submit your assignment in advance. Please note that you are responsible for any issues related to failed submissions due to network outages that occur too close to the deadline.\n",
    "- It is also important to make a record or backup of your submission that includes the submission timestamp. Double check to ensure that you have submitted the correct lab assignment, since multiple lab assignments may be open for submission at the same time.\n",
    "\n",
    ":::"
   ]
  },
  {
   "cell_type": "markdown",
   "id": "b66d1f0d",
   "metadata": {
    "editable": true,
    "slideshow": {
     "slide_type": ""
    }
   },
   "source": [
    "You normally have at least 5 days to work on the lab after your lab session. \n",
    "\n",
    "- You can check the due dates of all the labs from the course homepage. \n",
    "- You may seek help from us or your classmates. However, you must write your own solution and indicate who your collaborators are by including their fullnames or EIDs such as\n",
    "  ```\n",
    "  COLLABORATORS: xfwong2, mklee3, GPT-4o\n",
    "  ```\n",
    "  The policy applies to LLM as well."
   ]
  },
  {
   "cell_type": "markdown",
   "id": "1a7edc1c",
   "metadata": {
    "editable": true,
    "slideshow": {
     "slide_type": ""
    }
   },
   "source": [
    ":::{attention}\n",
    "\n",
    "- Lecture notebooks under the subfolders `Lecture*\\` need NOT be submitted. You only need to submit the lab notebooks under `Lab*\\`. \n",
    "\n",
    ":::"
   ]
  },
  {
   "cell_type": "markdown",
   "id": "d7e68684",
   "metadata": {
    "deletable": false,
    "editable": false,
    "nbgrader": {
     "cell_type": "markdown",
     "checksum": "3235a5584c82b3dbef41cf3fab3ceaf7",
     "grade": false,
     "grade_id": "Check",
     "locked": true,
     "schema_version": 3,
     "solution": false,
     "task": false
    },
    "slideshow": {
     "slide_type": "fragment"
    }
   },
   "source": [
    "Before you submit, it is a good idea to make sure everything runs as expected:\n",
    "\n",
    "1. **Git-pull the notebooks**: Follow any one of the link on the course homepage to a notebook, which will git-pull any updates/corrections to (all) your notebooks.\n",
    "1. **Save the notebook**: Unsaved changes are not submitted, even though they are in the memory.\n",
    "1. **Restart the kernel**: `Kernel`$\\to$ `Restart Kernel...` to have a clean state before running visible tests.\n",
    "1. **run all cells**: `Run`$\\to$ `Run All Cells` to double check the results of the visible tests are as expected.\n",
    "\n",
    "Re-executing cells in order in a Jupyter Notebook ensures that all dependencies and state changes are correctly applied, preventing misleading results from out-of-order execution."
   ]
  },
  {
   "cell_type": "markdown",
   "id": "8c8d705e",
   "metadata": {},
   "source": [
    "::::{tip}\n",
    "\n",
    "1. By default, JupyterLab autosaves an opened notebook every 120 seconds. This configuration can be changed at `Settings`$\\to$`Settings Editor`$\\to$`Document Manager`$\\to$`Autosave Interval`.\n",
    "2. A opened file with unsaved changes has a solid circle next to its tab label. You can manually save the file using the save button in the toolbar. \n",
    "\n",
    "::::"
   ]
  },
  {
   "cell_type": "markdown",
   "id": "079ea5b9",
   "metadata": {
    "editable": true,
    "slideshow": {
     "slide_type": "subslide"
    }
   },
   "source": [
    "To submit your notebook:\n",
    "\n",
    "1. Select the menu item `Nbgrader`$\\to$`Assignment List`.\n",
    "1. Expand the Lab folder and click the `validate` button next to the notebook(s) to check if all the visible tests pass.\n",
    "1. Click `Submit` to submit your notebook."
   ]
  },
  {
   "cell_type": "markdown",
   "id": "7a82be79",
   "metadata": {},
   "source": [
    "::::{seealso} What is NBGrader?\n",
    ":class: dropdown\n",
    "\n",
    "[Nbgrader](https://nbgrader.readthedocs.io/en/stable/) is a package for grading notebook assignments. It allows students to submit their notebooks directly through the JupyterHub server. Submitted notebooks can be both auto-graded with pre-defined test cases and manually graded with custom feedback. After grading is complete, you can check your scores and access the feedback using the same interface.\n",
    "\n",
    "::::"
   ]
  },
  {
   "cell_type": "markdown",
   "id": "1744e2f3",
   "metadata": {
    "editable": true,
    "slideshow": {
     "slide_type": ""
    }
   },
   "source": [
    "::::{caution}\n",
    "\n",
    "Your submission may not be graded under the following circumstances:\n",
    "\n",
    "- The notebook files have been renamed, for example, `Setup.ipynb` being changed or copied to `Setup (Copy).ipynb`.\n",
    "- An HTML file exists with the same name as a notebook, for example, `Setup.html`.\n",
    "- The file size is too large, e.g., exceeds `100MB`.\n",
    "- The code takes too long to run or requires an excessive amount of memory.\n",
    "\n",
    "It is essential to ensure that your submission meets these guidelines to avoid any issues with grading.\n",
    "\n",
    ":::{tip} Troubleshooting\n",
    ":class: dropdown\n",
    "\n",
    "If you believe your notebooks are corrupted, \n",
    "1. download/backup your existing notebooks,\n",
    "1. remove them from the `Lab*/` folder,\n",
    "1. click the git-pull links from the course homepage to re-pull the notebooks, and\n",
    "1. copy your solutions to the new notebooks.\n",
    "\n",
    "You may also run the course notebooks outside the jupyterhub server and locally on your computer. For more details, see the course homepage.\n",
    "\n",
    ":::\n",
    "\n",
    "::::"
   ]
  },
  {
   "cell_type": "markdown",
   "id": "0717239d",
   "metadata": {
    "editable": true,
    "slideshow": {
     "slide_type": ""
    }
   },
   "source": [
    "## References"
   ]
  },
  {
   "cell_type": "markdown",
   "id": "2658eb3a",
   "metadata": {},
   "source": [
    "Reading is important in learning a new language. This is especially so for learning a programming language, whose syntax has a very precise structure and interpretation. Each topic will have some required readings listed on the course homepage. \n",
    "\n",
    ":::::{table} An example of required readings on the course homepage.\n",
    ":label: tbl:reading\n",
    "\n",
    "<table>\n",
    "<div style=\"border: 1px solid black; padding: 10px;\">\n",
    "<h4 title=\"Title: Readings\">Reading</h4>\n",
    "<ul>\n",
    "     <li><a href=\"https://archive.org/stream/2018Fundamentals.ofPython?ref=ol#page/n11/mode/1up\" target=\"_blank\">[Halterman17] 1.1-1.3</a></li>\n",
    "</ul>\n",
    "</div>\n",
    "    \n",
    "</table>\n",
    "\n",
    ":::::"
   ]
  },
  {
   "cell_type": "markdown",
   "id": "a81fc0e7",
   "metadata": {},
   "source": [
    "The textbook by Halterman in [](#tbl:reading) teaches Python programming using Python version 3.4.[^version] As a programming language can evolve quickly over times, especially for a popular language like Python, it is important to be aware of the version you are using, and supplement your readings with the documentations of the newer versions. In particular, check out the documentations for:\n",
    "\n",
    "- [Python 3.12](https://docs.python.org/3.12/), which is used for quiz and exam.\n",
    "- [Python 3.11](https://docs.python.org/3.11/), which is used for lab assignents.\n",
    "\n",
    "[^version]: See the list of python versions at <https://www.python.org/doc/versions/>"
   ]
  },
  {
   "cell_type": "markdown",
   "id": "da745370",
   "metadata": {},
   "source": [
    "::::{caution} Is it okay to learn and use different versions of Python?\n",
    ":class: dropdown\n",
    "\n",
    "The  such as `3.12` consists of the major version number `3` followed by the minor version number `12`.\n",
    "\n",
    "New features introduced in later versions may not work in earlier versions, and old features in earlier versions may be removed in newer versions. As an analogy, the prior is like trying to play VCD in a CD drive, and the latter is like imposing region restriction on VCD like the way we do for DVD. Both fails due to compatibility issues.\n",
    "\n",
    "Nevertheless, it is generally okay to learn and use different minor versions of Python under the same major version, such as Python `3.*`, where \n",
    "- `3` is the major [version number](https://en.wikipedia.org/wiki/Software_versioning), and\n",
    "- `*` is a wilcard matching any number called the minor version number.\n",
    "\n",
    "This is because Python's design has made a conscious effort to maintain backwards compatibility for the minor versions, which mean that code written in an earlier minor version runs in a later minor version.\n",
    "\n",
    "::::"
   ]
  },
  {
   "cell_type": "markdown",
   "id": "fcef685f",
   "metadata": {},
   "source": [
    "If you have more time, further supplement your learning with materials from similar introductory python programming courses at other universities:[^1]\n",
    "\n",
    "[^1]: Note that these assume students have no prior programming experience but they may different topics than our course does."
   ]
  },
  {
   "cell_type": "markdown",
   "id": "4e7338bc",
   "metadata": {},
   "source": [
    "::::{seealso} MIT Open Courseware\n",
    ":class: dropdown\n",
    "\n",
    "An introductory programming course using Python:\n",
    "\n",
    "- Course homepage: [6.0001\n",
    "Introduction To Computer Science And Programming In Python](https://ocw.mit.edu/courses/6-0001-introduction-to-computer-science-and-programming-in-python-fall-2016/pages/readings/)  \n",
    "  Textbook: [Guttag, John V. Introduction to computation and programming using Python: with application to computational modeling and understanding data. Mit Press, 2021.](https://julac-cuh.primo.exlibrisgroup.com/permalink/852JULAC_CUH/vit3jk/alma991029721214003408)[^guttag]\n",
    "\n",
    "An introductory programming course using Scheme:\n",
    "\n",
    "- Course homepage: [6.001 Structure And Interpretation Of Computer Programs](https://ocw.mit.edu/courses/6-001-structure-and-interpretation-of-computer-programs-spring-2005/)\n",
    "  Textbook: [Abelson, Harold, and Gerald Jay Sussman. Structure and interpretation of computer programs. The MIT Press, 1996.](https://web.mit.edu/6.001/6.037/sicp.pdf)\n",
    "\n",
    "\n",
    "::::\n",
    "\n",
    "[^guttag]: After clicking the link, CityU students can further link to the full text from the `View Online` section of the opened CityU library page."
   ]
  },
  {
   "cell_type": "markdown",
   "id": "a28c1325",
   "metadata": {},
   "source": [
    "::::{seealso} UC Berkeley Course\n",
    ":class: dropdown\n",
    "\n",
    "An introductory programming course using Python:\n",
    "\n",
    "- Course homepage: [CS 61A Structure And Interpretation Of Computer Programs](https://cs61a.org)  \n",
    "  Textbook: [John DeNero. Composing Programs.](https://www.composingprograms.com/)\n",
    "\n",
    "\n",
    "::::"
   ]
  },
  {
   "cell_type": "markdown",
   "id": "d6f17fff",
   "metadata": {},
   "source": [
    "As a student at CityU, you also have access to a wide range of library resources. A useful e-learning resource to help you dive deeper into the cutting-edge computing technologies is LinkedIn Learning:\n",
    "\n",
    "1. Open the [LinkedIn Learning](https://www.cityu.edu.hk/its/services-facilities/online-courses-linkedin-learning) page.\n",
    "2. Click <kbd>LinkedIn Learning Login</kbd> to login with your CityU account."
   ]
  },
  {
   "cell_type": "markdown",
   "id": "5f916217",
   "metadata": {},
   "source": [
    "After logging in, take a look at the following relevant online courses:\n",
    "\n",
    "::::{seealso} LinkedIn Learning\n",
    ":class: dropdown\n",
    "\n",
    "Some courses on introductory python programming:\n",
    "\n",
    "- [Python Essential Training](https://www.linkedin.com/learning-login/share?account=76816450&forceAccount=false&redirect=https%3A%2F%2Fwww.linkedin.com%2Flearning%2Fpython-essential-training-18764650%3Ftrk%3Dshare_ent_url%26shareId%3DaXCm1ZkcTTCExEgNCUlh%252Bw%253D%253D)\n",
    "- [Learning the Python 3 Standard Library](https://www.linkedin.com/learning-login/share?account=76816450&forceAccount=false&redirect=https%3A%2F%2Fwww.linkedin.com%2Flearning%2Flearning-the-python-3-standard-library%3Ftrk%3Dshare_ent_url%26shareId%3DGcv4DyTKSuWBBsKpEmIamQ%253D%253D)\n",
    "\n",
    "\n",
    "A course on how to use LinkedIn Learning: \n",
    "\n",
    "- [How to Use LinkedIn Learning](https://www.linkedin.com/learning-login/share?account=76816450&forceAccount=false&redirect=https%3A%2F%2Fwww.linkedin.com%2Flearning%2Fhow-to-use-linkedin-learning%3Ftrk%3Dshare_ent_url%26shareId%3DT0Oya4yGTOGygXyXbWpMCQ%253D%253D)\n",
    "\n",
    "::::"
   ]
  }
 ],
 "metadata": {
  "kernelspec": {
   "display_name": "Python 3 (ipykernel)",
   "language": "python",
   "name": "python3"
  }
 },
 "nbformat": 4,
 "nbformat_minor": 5
}
