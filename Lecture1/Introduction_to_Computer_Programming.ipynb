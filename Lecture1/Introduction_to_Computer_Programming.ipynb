{
 "cells": [
  {
   "cell_type": "markdown",
   "id": "3ab23a8e",
   "metadata": {
    "editable": true,
    "slideshow": {
     "slide_type": ""
    },
    "tags": [
     "remove-cell"
    ]
   },
   "source": [
    "---\n",
    "title: Introduction to Computer Programming\n",
    "abstract: |\n",
    "   By the end of this material, readers are expected to understand the relationship between computer and programming, and appreciate the evolutions of programming and their motivations.\n",
    "---"
   ]
  },
  {
   "cell_type": "code",
   "execution_count": null,
   "id": "262a3b3f",
   "metadata": {
    "editable": true,
    "slideshow": {
     "slide_type": ""
    }
   },
   "outputs": [],
   "source": [
    "# Set LLM alias\n",
    "%load_ext jupyter_ai\n",
    "%ai update chatgpt dive:chat"
   ]
  },
  {
   "cell_type": "markdown",
   "id": "9dadce01",
   "metadata": {
    "slideshow": {
     "slide_type": "slide"
    }
   },
   "source": [
    "## Computer"
   ]
  },
  {
   "cell_type": "markdown",
   "id": "4643f3fd",
   "metadata": {
    "slideshow": {
     "slide_type": "subslide"
    }
   },
   "source": [
    "### What is a computer?"
   ]
  },
  {
   "cell_type": "markdown",
   "id": "51b0c2b0",
   "metadata": {
    "slideshow": {
     "slide_type": "subslide"
    }
   },
   "source": [
    "A calculator that is bigger and more advanced?"
   ]
  },
  {
   "cell_type": "markdown",
   "id": "b6eb445f",
   "metadata": {
    "slideshow": {
     "slide_type": "-"
    }
   },
   "source": [
    ":::{figure} https://upload.wikimedia.org/wikipedia/commons/thumb/4/48/Calculator_app.png/512px-Calculator_app.png\n",
    ":name: fig:calculator-app\n",
    ":alt: Calculator app\n",
    ":align: left\n",
    "\n",
    "A calculator on a computer.\n",
    ":::"
   ]
  },
  {
   "cell_type": "markdown",
   "id": "8ceec6b9",
   "metadata": {
    "slideshow": {
     "slide_type": "subslide"
    }
   },
   "source": [
    "If so, is [abacus](https://en.wikipedia.org/wiki/Abacus) the first computer invented?"
   ]
  },
  {
   "cell_type": "markdown",
   "id": "c0db710e",
   "metadata": {
    "slideshow": {
     "slide_type": "-"
    }
   },
   "source": [
    "::::{figure} https://upload.wikimedia.org/wikipedia/commons/a/af/Abacus_6.png\n",
    ":name: fig:abacus\n",
    ":alt: Abacus\n",
    ":align: left\n",
    "\n",
    "Abacus - an ancient mechanical computing device.\n",
    "::::"
   ]
  },
  {
   "cell_type": "markdown",
   "id": "1bd1fc96",
   "metadata": {
    "slideshow": {
     "slide_type": "fragment"
    }
   },
   "source": [
    "Is your [smartphone](https://en.wikipedia.org/wiki/Samsung_DeX) a computer?"
   ]
  },
  {
   "cell_type": "markdown",
   "id": "1e9358e1",
   "metadata": {
    "slideshow": {
     "slide_type": "fragment"
    }
   },
   "source": [
    "::::{important} What defines a computer?[^click]\n",
    ":class: dropdown\n",
    "\n",
    "In addition to performing arithmetic calculations,\n",
    "- a computer can be *programmed*\n",
    "- to perform different tasks.\n",
    "::::\n",
    "\n",
    "[^click]: click me to see an answer."
   ]
  },
  {
   "cell_type": "markdown",
   "id": "2472dfdb",
   "metadata": {},
   "source": [
    "Run the following cell by clicking it and type <kbd>Shift + Enter</kbd>."
   ]
  },
  {
   "cell_type": "code",
   "execution_count": null,
   "id": "5b86d763",
   "metadata": {},
   "outputs": [],
   "source": [
    "%%ai chatgpt -f text\n",
    "What defines a computer? Explain in one line."
   ]
  },
  {
   "cell_type": "markdown",
   "id": "46095332",
   "metadata": {
    "slideshow": {
     "slide_type": "slide"
    }
   },
   "source": [
    "### What is the architecture of a computer?"
   ]
  },
  {
   "cell_type": "markdown",
   "id": "f1350d30",
   "metadata": {
    "slideshow": {
     "slide_type": "fragment"
    }
   },
   "source": [
    "A computer contains three main hardware components:\n",
    "\n",
    "- Input device\n",
    "- Processing unit\n",
    "- Output device"
   ]
  },
  {
   "cell_type": "markdown",
   "id": "62db11a8",
   "metadata": {
    "slideshow": {
     "slide_type": "subslide"
    }
   },
   "source": [
    "#### Peripherals"
   ]
  },
  {
   "cell_type": "markdown",
   "id": "2d8de97e",
   "metadata": {
    "slideshow": {
     "slide_type": "-"
    }
   },
   "source": [
    "::::{figure} https://images.unsplash.com/flagged/photo-1551954810-43cd6aef5b1f?ixlib=rb-1.2.1&ixid=eyJhcHBfaWQiOjEyMDd9&auto=format&fit=crop&w=3580&q=80\n",
    ":name: fig:peripherals\n",
    ":alt: Peripherals\n",
    ":align: left\n",
    "\n",
    "Computer peripherals.\n",
    "::::"
   ]
  },
  {
   "cell_type": "markdown",
   "id": "c16c4a34",
   "metadata": {
    "slideshow": {
     "slide_type": "fragment"
    }
   },
   "source": [
    "Input and output devices connected to a computer are called *peripherals*.  \n",
    "They allow users to interact with the computer in different ways."
   ]
  },
  {
   "cell_type": "markdown",
   "id": "f068843c",
   "metadata": {
    "slideshow": {
     "slide_type": "subslide"
    }
   },
   "source": [
    "::::{exercise}\n",
    ":label: ex:output-device\n",
    "\n",
    "Some examples of output devices are:\n",
    "- Monitor\n",
    "- Speaker\n",
    "\n",
    "Can you give an awesome example in the following solution cell?[^edit]\n",
    "::::\n",
    "\n",
    "[^edit]: To edit a cell, double click the cell until you see a cursor. Run the cell to confirm/render your changes."
   ]
  },
  {
   "cell_type": "markdown",
   "id": "22999ecc",
   "metadata": {
    "deletable": false,
    "nbgrader": {
     "cell_type": "markdown",
     "checksum": "305952cab25662510a47aa8613f60f13",
     "grade": true,
     "grade_id": "cell-3ea9d712eccdf31c",
     "locked": false,
     "points": 0,
     "schema_version": 3,
     "solution": true,
     "task": false
    },
    "slideshow": {
     "slide_type": "-"
    }
   },
   "source": [
    "YOUR ANSWER HERE"
   ]
  },
  {
   "cell_type": "code",
   "execution_count": null,
   "id": "ec7e9668",
   "metadata": {},
   "outputs": [],
   "source": [
    "%%ai chatgpt -f text\n",
    "Summarize what an output device of a computer is and explain briefly why a monitor and a speaker are examples?"
   ]
  },
  {
   "cell_type": "markdown",
   "id": "e0c6f9d4",
   "metadata": {
    "slideshow": {
     "slide_type": "subslide"
    }
   },
   "source": [
    "::::{exercise}\n",
    ":label: ex:input-device\n",
    "\n",
    "Some examples of input devices are:\n",
    "- Keyboard\n",
    "- Mouse\n",
    "\n",
    "Can you give an awesome example?\n",
    "::::"
   ]
  },
  {
   "cell_type": "markdown",
   "id": "41ec9065",
   "metadata": {
    "deletable": false,
    "nbgrader": {
     "cell_type": "markdown",
     "checksum": "c93b64250646392b2bb1b4e253e42602",
     "grade": true,
     "grade_id": "cell-1c411172f0ed411b",
     "locked": false,
     "points": 0,
     "schema_version": 3,
     "solution": true,
     "task": false
    },
    "slideshow": {
     "slide_type": "-"
    }
   },
   "source": [
    "YOUR ANSWER HERE"
   ]
  },
  {
   "cell_type": "code",
   "execution_count": null,
   "id": "2d04c066",
   "metadata": {},
   "outputs": [],
   "source": [
    "%%ai chatgpt -f text\n",
    "Summarize what an input device of a computer is and explain briefly why a keyboard and a mouse are examples?"
   ]
  },
  {
   "cell_type": "markdown",
   "id": "a5e8d1fc",
   "metadata": {
    "slideshow": {
     "slide_type": "subslide"
    }
   },
   "source": [
    "::::{exercise} \n",
    ":label: ex:input-output\n",
    "\n",
    "Many devices are both input and output device. Can you give at least 3 examples?\n",
    "::::"
   ]
  },
  {
   "cell_type": "markdown",
   "id": "5ca6c238",
   "metadata": {
    "deletable": false,
    "nbgrader": {
     "cell_type": "markdown",
     "checksum": "4618d2caaff4f4676c8e0fb31bd852fb",
     "grade": true,
     "grade_id": "cell-e1982fbce01506b3",
     "locked": false,
     "points": 0,
     "schema_version": 3,
     "solution": true,
     "task": false
    },
    "slideshow": {
     "slide_type": "-"
    }
   },
   "source": [
    "YOUR ANSWER HERE"
   ]
  },
  {
   "cell_type": "code",
   "execution_count": null,
   "id": "bfe1345b",
   "metadata": {},
   "outputs": [],
   "source": [
    "%%ai chatgpt -f text\n",
    "Explain in one line why a headset is both an input device and an output device at the same time."
   ]
  },
  {
   "cell_type": "markdown",
   "id": "dfce74b2",
   "metadata": {
    "slideshow": {
     "slide_type": "slide"
    }
   },
   "source": [
    "#### Central Processing Unit"
   ]
  },
  {
   "cell_type": "markdown",
   "id": "8d79c89a",
   "metadata": {
    "slideshow": {
     "slide_type": "-"
    }
   },
   "source": [
    "::::{figure} https://images.unsplash.com/photo-1555617981-dac3880eac6e?ixlib=rb-1.2.1&ixid=eyJhcHBfaWQiOjEyMDd9&auto=format&fit=crop&w=1950&q=80\n",
    ":name: fig:cpu\n",
    ":alt: CPU\n",
    ":align: left\n",
    "\n",
    "An Intel CPU\n",
    "::::"
   ]
  },
  {
   "cell_type": "markdown",
   "id": "19b92a61",
   "metadata": {
    "slideshow": {
     "slide_type": "fragment"
    }
   },
   "source": [
    "The brain of a computer is its processor or the [**C**entral **P**rocesisng **U**nit (CPU)](https://en.wikipedia.org/wiki/Central_processing_unit).  \n",
    "It is located on the [*motherboard*](https://en.wikipedia.org/wiki/Motherboard) and connected to different peripherals using different [*connectors*](https://en.wikipedia.org/wiki/Category:Computer_connectors)."
   ]
  },
  {
   "cell_type": "markdown",
   "id": "fac92858",
   "metadata": {
    "slideshow": {
     "slide_type": "fragment"
    }
   },
   "source": [
    "Two important components in the CPU are:\n",
    "-  **A**rithmetic and **L**ogic **U**nit (**ALU**): Performs arithmetics like a calculator (but for binary numbers)\n",
    "-  **C**ontrol **U**nit (**CU**): Directs the operations of the processor in executing a program."
   ]
  },
  {
   "cell_type": "markdown",
   "id": "018fe298",
   "metadata": {
    "slideshow": {
     "slide_type": "subslide"
    }
   },
   "source": [
    "To visualize how CPU works, run the [CPU Simulator below](https://github.com/pddring/cpu-simulator).\n",
    "- Note that all values are zeros in the RAM (**R**andom **A**cess **M**emory) initially.\n",
    "- Under Settings, click `Examples`$\\to $`Add two numbers`. Observe that the values in the RAM have changed.\n",
    "- Click `Run` at the bottom right-hand corner."
   ]
  },
  {
   "cell_type": "markdown",
   "id": "cf5c6713",
   "metadata": {},
   "source": [
    ":::::{card}\n",
    ":footer: [Open in new tab](https://tools.withcode.uk/cpu)\n",
    "\n",
    "::::{iframe} https://tools.withcode.uk/cpu\n",
    ":width: 100%\n",
    "::::\n",
    "\n",
    ":::::"
   ]
  },
  {
   "cell_type": "markdown",
   "id": "19b2a598",
   "metadata": {},
   "source": [
    "::::{seealso} Is there a rigorous definition of computer?\n",
    ":class: dropdown\n",
    "\n",
    "Computer architecture may evolves over time, with new technologies and innovations emerging. However, modern computers follow the same mathematical principle of the [universal machine](https://doi.org/10.1112/plms/s2-42.1.230) defined by [Alan Turing, Father of Modern Computer](https://en.wikipedia.org/wiki/Alan_Turing). The definition is made to address the problem of computing, i.e., what numbers are computable by programming a machine. Do you have a easy way to understand [Turing's proof](https://en.wikipedia.org/wiki/Turing%27s_proof)?\n",
    "\n",
    "::::"
   ]
  },
  {
   "cell_type": "markdown",
   "id": "5dff526d",
   "metadata": {
    "slideshow": {
     "slide_type": "slide"
    }
   },
   "source": [
    "## Programming"
   ]
  },
  {
   "cell_type": "markdown",
   "id": "0e8a0812",
   "metadata": {
    "slideshow": {
     "slide_type": "subslide"
    }
   },
   "source": [
    "### What is programming?"
   ]
  },
  {
   "cell_type": "markdown",
   "id": "04270268",
   "metadata": {
    "slideshow": {
     "slide_type": "fragment"
    }
   },
   "source": [
    "::::{important} What is programming?\n",
    "\n",
    "*Programming*, also called *software development*, is the process of writing programs for the computer to execute different tasks.\n",
    "::::"
   ]
  },
  {
   "cell_type": "markdown",
   "id": "edb6b7a6",
   "metadata": {},
   "source": [
    "But what is a program?"
   ]
  },
  {
   "cell_type": "markdown",
   "id": "bae58e52",
   "metadata": {
    "deletable": false,
    "editable": false,
    "nbgrader": {
     "cell_type": "markdown",
     "checksum": "fafe101830779e326125d78d98bfb4a0",
     "grade": false,
     "grade_id": "cell-7675978e85548d96",
     "locked": true,
     "schema_version": 3,
     "solution": false,
     "task": false
    },
    "slideshow": {
     "slide_type": "fragment"
    }
   },
   "source": [
    "::::{exercise} \n",
    ":label: ex:machine-language\n",
    "\n",
    "You have just seen a program written in [machine language](https://en.wikipedia.org/wiki/Machine_code). Where?\n",
    "\n",
    "::::"
   ]
  },
  {
   "cell_type": "markdown",
   "id": "aa1491fe",
   "metadata": {
    "deletable": false,
    "nbgrader": {
     "cell_type": "markdown",
     "checksum": "ce150ac6fc49d5a9d34887bef80dfc87",
     "grade": true,
     "grade_id": "cell-08298600f10cfc25",
     "locked": false,
     "points": 0,
     "schema_version": 3,
     "solution": true,
     "task": false
    },
    "slideshow": {
     "slide_type": "-"
    }
   },
   "source": [
    "YOUR ANSWER HERE"
   ]
  },
  {
   "cell_type": "code",
   "execution_count": null,
   "id": "5f0978b3",
   "metadata": {},
   "outputs": [],
   "source": [
    "%%ai chatgpt\n",
    "Summarize what a machine language is and give an example of a program in machine language."
   ]
  },
  {
   "cell_type": "markdown",
   "id": "d6095699",
   "metadata": {
    "slideshow": {
     "slide_type": "fragment"
    }
   },
   "source": [
    "The CPU is capable of carrying out \n",
    "- a set of instructions such as `Add`, `Subtract`, `Store`, etc.,\n",
    "- for some numbers stored in the RAM."
   ]
  },
  {
   "cell_type": "markdown",
   "id": "6292505e",
   "metadata": {},
   "source": [
    "Both the instructions and the numbers are represented as binary sequences.\n",
    "- E.g., in Intel-based CPU, the command for addition is **00000011 00000100**"
   ]
  },
  {
   "cell_type": "markdown",
   "id": "81478911",
   "metadata": {
    "slideshow": {
     "slide_type": "subslide"
    }
   },
   "source": [
    "### Why computer uses binary representation?"
   ]
  },
  {
   "cell_type": "markdown",
   "id": "e732dee9",
   "metadata": {},
   "source": [
    ":::::{card}\n",
    ":header: Binary representation\n",
    ":footer: [open in new tab](https://youtu.be/Xpk67YzOn5w)\n",
    "\n",
    "::::{iframe} https://www.youtube.com/embed/Xpk67YzOn5w\n",
    ":width: 100%\n",
    "::::\n",
    "\n",
    ":::::"
   ]
  },
  {
   "cell_type": "markdown",
   "id": "3e024e93",
   "metadata": {
    "slideshow": {
     "slide_type": "fragment"
    }
   },
   "source": [
    "::::{exercise}\n",
    ":label: ex:ENIAC\n",
    "\n",
    "The first electronic computer, called [Electronic Numerical Integrator and Computer (ENIAC)](https://en.wikipedia.org/wiki/ENIAC), was programmed using binary circuitries, namely *switches* that can be either `On` or `Off`. \n",
    "\n",
    ":::{figure} https://upload.wikimedia.org/wikipedia/commons/8/8c/Two_women_operating_ENIAC_%28full_resolution%29.jpg\n",
    ":name: fig:ENIAC\n",
    ":alt: Two programmers operating ENIAC.\n",
    ":align: left\n",
    "\n",
    "Programmers controlling the switches of ENIAC.\n",
    ":::\n",
    "\n",
    "However, it did not represent values efficiently in binary. 10 binary digits (bits) was used to represent a decimal number 0 to 9.  \n",
    "Indeed, how many decimals can be represented by 10 bits?\n",
    "\n",
    "::::"
   ]
  },
  {
   "cell_type": "code",
   "execution_count": null,
   "id": "f8ec28d8",
   "metadata": {
    "deletable": false,
    "nbgrader": {
     "cell_type": "code",
     "checksum": "af60b4dcf83fc003af355c3f7205266e",
     "grade": true,
     "grade_id": "cell-1023083cd0aca779",
     "locked": false,
     "points": 0,
     "schema_version": 3,
     "solution": true,
     "task": false
    },
    "slideshow": {
     "slide_type": "-"
    },
    "tags": [
     "hide-cell"
    ]
   },
   "outputs": [],
   "source": [
    "# YOUR CODE HERE\n",
    "raise NotImplementedError()"
   ]
  },
  {
   "cell_type": "code",
   "execution_count": null,
   "id": "69811dae",
   "metadata": {},
   "outputs": [],
   "source": [
    "%%ai chatgpt\n",
    "Explain the multiplication rule in combinatorics."
   ]
  },
  {
   "cell_type": "markdown",
   "id": "dce313de",
   "metadata": {
    "slideshow": {
     "slide_type": "fragment"
    }
   },
   "source": [
    "As mentioned in the video, there are *International Standards* for representing characters:\n",
    "- [ASCII](https://en.wikipedia.org/wiki/ASCII) (**A**merican **S**tandard **C**ode for **I**nformation **I**nterchange) maps English letters and some other symbols to 8-bits (8 binary digits, also called a byte). E.g., `A` is `01000001`.\n",
    "- [Unicode](https://en.wikipedia.org/wiki/Unicode) can also represent characters in different languages such as Chinese, Japanese...etc."
   ]
  },
  {
   "cell_type": "markdown",
   "id": "ee86a341",
   "metadata": {
    "slideshow": {
     "slide_type": "fragment"
    }
   },
   "source": [
    "There are additional standards to represent numbers other than non-negative integers:\n",
    "- [2's complement format](https://en.wikipedia.org/wiki/Two%27s_complement) for negative integers (e.g. -123)\n",
    "- [IEEE floating point format](https://en.wikipedia.org/wiki/IEEE_754) for floating point numbers such as $1.23 \\times 10^{-4}$."
   ]
  },
  {
   "cell_type": "markdown",
   "id": "810eedb8",
   "metadata": {
    "slideshow": {
     "slide_type": "fragment"
    }
   },
   "source": [
    "::::{note}\n",
    "**Why define different standards?**\n",
    "\n",
    "- Different standards have different benefits. ASCII requires less storage for a character, but it represents less characters.\n",
    "- Although digits are also represented in ASCII, the 2's complement format is designed for more efficient arithmetic operations.\n",
    "::::"
   ]
  },
  {
   "cell_type": "markdown",
   "id": "cb2d3cc3",
   "metadata": {
    "slideshow": {
     "slide_type": "slide"
    }
   },
   "source": [
    "## Different generations of programming languages"
   ]
  },
  {
   "cell_type": "markdown",
   "id": "bab92b92",
   "metadata": {
    "slideshow": {
     "slide_type": "fragment"
    }
   },
   "source": [
    "::::{important}\n",
    "\n",
    "A *machine language* written in *binary sequences* is known as a *1st Generation Programming Language*.\n",
    "::::"
   ]
  },
  {
   "cell_type": "markdown",
   "id": "399a0c18",
   "metadata": {
    "slideshow": {
     "slide_type": "fragment"
    }
   },
   "source": [
    "**Are we going to start with machine language?**\n",
    "Start with learning 2's complement and the binary codes for different instructions?"
   ]
  },
  {
   "cell_type": "markdown",
   "id": "1b4bd9c2",
   "metadata": {
    "slideshow": {
     "slide_type": "fragment"
    }
   },
   "source": [
    "No. Programmers do not write machine codes directly because it is too hard to think in binary representations."
   ]
  },
  {
   "cell_type": "markdown",
   "id": "73069d03",
   "metadata": {
    "slideshow": {
     "slide_type": "fragment"
    }
   },
   "source": [
    "Instead, programmers write human-readable **mnemonics** such as `ADD`, `SUB`, ...  \n",
    "This is called the *assembly language*:"
   ]
  },
  {
   "cell_type": "markdown",
   "id": "dd5e818a",
   "metadata": {
    "slideshow": {
     "slide_type": "fragment"
    }
   },
   "source": [
    "::::{figure} https://upload.wikimedia.org/wikipedia/commons/f/f3/Motorola_6800_Assembly_Language.png\n",
    ":name: assembly-language\n",
    ":alt: Assembly language\n",
    ":align: left\n",
    "\n",
    "A Code written in an assembly language.\n",
    "::::"
   ]
  },
  {
   "cell_type": "markdown",
   "id": "d1ee2fd2",
   "metadata": {},
   "source": [
    "::::{important}\n",
    "\n",
    "An *assembly language* written in *mnemonics* is the *2nd Generation Programming Language*.\n",
    "::::"
   ]
  },
  {
   "cell_type": "markdown",
   "id": "30bd58eb",
   "metadata": {
    "slideshow": {
     "slide_type": "subslide"
    }
   },
   "source": [
    "**Are you going to learn an assembly language?**"
   ]
  },
  {
   "cell_type": "markdown",
   "id": "370bef64",
   "metadata": {
    "slideshow": {
     "slide_type": "fragment"
    }
   },
   "source": [
    "Both machine language and assembly language are low-level languages which are\n",
    "- difficult to write for complicated tasks (requiring many lines of code), and\n",
    "- platform-specific:\n",
    "    - the sets of instructions and their binary codes can be different for different [types of CPUs](https://en.wikipedia.org/wiki/Comparison_of_CPU_microarchitectures), and\n",
    "    - different operating systems use [different assembly languages/styles](https://en.wikipedia.org/wiki/X86_assembly_language)."
   ]
  },
  {
   "cell_type": "markdown",
   "id": "6e63b527",
   "metadata": {
    "slideshow": {
     "slide_type": "fragment"
    }
   },
   "source": [
    "Anyone wants to learn assembly languages, and write a program in many versions to support different platforms?"
   ]
  },
  {
   "cell_type": "markdown",
   "id": "4f6db2db",
   "metadata": {
    "slideshow": {
     "slide_type": "fragment"
    }
   },
   "source": [
    "Probably for programmers who need to write fast or energy-efficient code such as\n",
    "- a driver that controls a 3D graphics card, and\n",
    "- a program that control a microprocessor with limited power supply."
   ]
  },
  {
   "cell_type": "markdown",
   "id": "c5c4740f",
   "metadata": {
    "slideshow": {
     "slide_type": "fragment"
    }
   },
   "source": [
    "But even in the above cases, there are often better alternatives. Play with the following microprocessor simulator:\n",
    "\n",
    "- Open <https://micropython.org/unicorn/> in a browser.\n",
    "- Click `CHOOSE A DEMO`$\\to $`LED`.\n",
    "- Click `RUN SCRIPT` and observes the LED of the board.\n",
    "- Run the demos `ASSEMBLY` and `MATH` respectively and compare their capabilities."
   ]
  },
  {
   "cell_type": "markdown",
   "id": "1fad76ac",
   "metadata": {
    "slideshow": {
     "slide_type": "slide"
    }
   },
   "source": [
    "## High-level Language"
   ]
  },
  {
   "cell_type": "markdown",
   "id": "2415b4d6",
   "metadata": {
    "slideshow": {
     "slide_type": "fragment"
    }
   },
   "source": [
    ":::::{card}\n",
    ":header: Programming\n",
    ":footer: [open in new tab](https://youtu.be/QdVFvsCWXrA)\n",
    "\n",
    "::::{iframe} https://www.youtube.com/embed/QdVFvsCWXrA\n",
    ":width: 100%\n",
    "::::\n",
    "\n",
    ":::::"
   ]
  },
  {
   "cell_type": "markdown",
   "id": "b47bce18",
   "metadata": {
    "slideshow": {
     "slide_type": "subslide"
    }
   },
   "source": [
    "Programmer nowadays write in human-readable languages such as \n",
    "\n",
    "- C/C++\n",
    "- Java\n",
    "- JavaScript/Typescript\n",
    "- Pascal\n",
    "- Basic \n",
    "- HTML\n",
    "- PHP\n",
    "- Python\n",
    "- ...\n",
    "\n",
    "called *high-level languages*."
   ]
  },
  {
   "cell_type": "markdown",
   "id": "a12be27e",
   "metadata": {},
   "source": [
    "::::{important}\n",
    "\n",
    "A *high-level language* intended to be *human understandable* is a *3rd Generation Programming Language*.\n",
    "\n",
    "::::"
   ]
  },
  {
   "cell_type": "markdown",
   "id": "89467019",
   "metadata": {
    "slideshow": {
     "slide_type": "slide"
    }
   },
   "source": [
    "### What is a high-level language?"
   ]
  },
  {
   "cell_type": "markdown",
   "id": "1c025ee7",
   "metadata": {
    "slideshow": {
     "slide_type": "fragment"
    }
   },
   "source": [
    "- A program written in a high-level language gets converted automatically to a low-level machine code for the desired platform. \n",
    "- This *abstracts* away low-level details that can be handled by the computer automatically."
   ]
  },
  {
   "cell_type": "markdown",
   "id": "872eeaa9",
   "metadata": {
    "slideshow": {
     "slide_type": "fragment"
    }
   },
   "source": [
    "For instance, a programmer needs not care about where a value should be physically stored if the computer can find a free location automatically to store the value."
   ]
  },
  {
   "cell_type": "markdown",
   "id": "0620b4f5",
   "metadata": {
    "slideshow": {
     "slide_type": "fragment"
    }
   },
   "source": [
    "Different high-level languages can have different implementations of the conversion processes:\n",
    "- **Compilation** means converting a program well before executing the program.  \n",
    "  E.g., C++ and Java programs are compiled.\n",
    "- **Interpretation** means converting a program on-the-fly during the execution of a program.  \n",
    "  E.g., JavaScript and Python programs are often interpreted."
   ]
  },
  {
   "cell_type": "markdown",
   "id": "0e9af284",
   "metadata": {},
   "source": [
    "::::{seealso}\n",
    "\n",
    "Roughly speaking, compiled programs run faster but interpreted programs are more flexible and can be modified at run time. The [truth](https://finematics.com/compiled-vs-interpreted-programming-languages/) is indeed more complicated. Python also has a compiler, and recently, a [JIT compiler](https://github.com/python/cpython/pull/113465). Is Python really an interpreted language?\n",
    "\n",
    "::::"
   ]
  },
  {
   "cell_type": "markdown",
   "id": "9a19d067",
   "metadata": {
    "slideshow": {
     "slide_type": "slide"
    }
   },
   "source": [
    "### What programming language will you learn?"
   ]
  },
  {
   "cell_type": "markdown",
   "id": "99b39453",
   "metadata": {
    "slideshow": {
     "slide_type": "fragment"
    }
   },
   "source": [
    "You will learn to program in *python*, covering\n",
    "-  basic topics including *values*, *variables*, *conditional*, *iterations*, *functions*, *composite data types*,\n",
    "-  advanced topics that touch on functional and object-oriented programming, and\n",
    "-  engineering topics such as *numerical methods*, *optimizations*, and *machine learning*."
   ]
  },
  {
   "cell_type": "markdown",
   "id": "ccba8b5f",
   "metadata": {
    "slideshow": {
     "slide_type": "subslide"
    }
   },
   "source": [
    "**Why Python?**"
   ]
  },
  {
   "cell_type": "markdown",
   "id": "76f4be01",
   "metadata": {
    "slideshow": {
     "slide_type": "fragment"
    }
   },
   "source": [
    ":::::{card}\n",
    ":header: Why python?\n",
    ":footer: [open in new tab](https://youtu.be/Y8Tko2YC5hA)\n",
    "\n",
    "::::{iframe} https://www.youtube.com/embed/Y8Tko2YC5hA?end=200\n",
    ":width: 100%\n",
    "::::\n",
    "\n",
    ":::::"
   ]
  },
  {
   "cell_type": "markdown",
   "id": "c6af2a00",
   "metadata": {
    "slideshow": {
     "slide_type": "fragment"
    }
   },
   "source": [
    "::::{note}\n",
    "\n",
    "Python is:\n",
    "- *expressive* and can get things done with fewer lines of code as compared to other languages.\n",
    "- *popular*. It has an extensive set of libraries for Mathematics, graphics, AI, Machine Learning, etc.\n",
    "- *free and open-source*, so you get to see everything and use it without restrictions.\n",
    "- *portable*, i.e., the same code runs in different platforms without modifications.\n",
    "\n",
    "::::"
   ]
  },
  {
   "cell_type": "markdown",
   "id": "92efcf78",
   "metadata": {
    "slideshow": {
     "slide_type": "subslide"
    }
   },
   "source": [
    "**How does a Python program look like?**"
   ]
  },
  {
   "cell_type": "code",
   "execution_count": null,
   "id": "25c70585",
   "metadata": {
    "slideshow": {
     "slide_type": "-"
    }
   },
   "outputs": [],
   "source": [
    "import datetime  # library to obtain current year\n",
    "\n",
    "cohort = input(\"In which year did you join CityU? [e.g., 2020]\")\n",
    "year = datetime.datetime.now().year - int(cohort) + 1\n",
    "print(\"So you are a year\", year, \"student.\")"
   ]
  },
  {
   "cell_type": "markdown",
   "id": "931d588b",
   "metadata": {
    "slideshow": {
     "slide_type": "fragment"
    }
   },
   "source": [
    "A Python program contains *statements* just like sentences in natural languages. E.g.,\n",
    "```python\n",
    "cohort = input(\"In which year did you join CityU? \")\n",
    "```\n",
    "which obtains some information from user input."
   ]
  },
  {
   "cell_type": "markdown",
   "id": "d5b1e748",
   "metadata": {
    "slideshow": {
     "slide_type": "fragment"
    }
   },
   "source": [
    "For the purpose of computations, a statement often contains *expressions* that evaluate to certain values.  E.g.,\n",
    "```python\n",
    "input(\"In which year did you join CityU? \")\n",
    "``` \n",
    "is an expression with the value equal to what you input to the prompt.  \n",
    "That value is then given the name `cohort`."
   ]
  },
  {
   "cell_type": "markdown",
   "id": "7c46e759",
   "metadata": {
    "slideshow": {
     "slide_type": "fragment"
    }
   },
   "source": [
    "Expressions can be composed of the following objects:\n",
    "- *Functions* such as `input`, `now`, and `int`, etc., which are like math functions the return some values based on its arguments, if any.\n",
    "- *Literals* such as the string `\"In which year did you join CityU? \"` and the integer `1`. They are values you type out literally.\n",
    "- *Variables* such as `cohort` and `year`, which are meaningful names to values."
   ]
  },
  {
   "cell_type": "markdown",
   "id": "52dac784",
   "metadata": {
    "slideshow": {
     "slide_type": "fragment"
    }
   },
   "source": [
    "To help others understand the code, there are also *comments* that start with `#`.  \n",
    "These are meant to explain the code to human but not to be executed by the computer."
   ]
  },
  {
   "cell_type": "markdown",
   "id": "ca0ac995",
   "metadata": {
    "deletable": false,
    "editable": false,
    "nbgrader": {
     "cell_type": "markdown",
     "checksum": "7ad5c53b52e684739141cf1eb6295fff",
     "grade": false,
     "grade_id": "cell-6c906df220a97280",
     "locked": true,
     "schema_version": 3,
     "solution": false,
     "task": false
    },
    "slideshow": {
     "slide_type": "subslide"
    }
   },
   "source": [
    "::::{exercise}\n",
    ":label: ex:future-programming\n",
    "\n",
    "What do you think the next generation programming should be?\n",
    "::::"
   ]
  },
  {
   "cell_type": "markdown",
   "id": "7d963db2",
   "metadata": {
    "deletable": false,
    "nbgrader": {
     "cell_type": "markdown",
     "checksum": "e681f16f8b34d0f98c637a98f67b5273",
     "grade": true,
     "grade_id": "cell-205d445ede20461d",
     "locked": false,
     "points": 0,
     "schema_version": 3,
     "solution": true,
     "task": false
    },
    "slideshow": {
     "slide_type": "fragment"
    }
   },
   "source": [
    "YOUR ANSWER HERE"
   ]
  },
  {
   "cell_type": "code",
   "execution_count": null,
   "id": "72ca73e2",
   "metadata": {},
   "outputs": [],
   "source": [
    "%%ai chatgpt\n",
    "What do you think the next generation programming should be?"
   ]
  }
 ],
 "metadata": {
  "kernelspec": {
   "display_name": "Python 3 (ipykernel)",
   "language": "python",
   "name": "python3"
  }
 },
 "nbformat": 4,
 "nbformat_minor": 5
}
