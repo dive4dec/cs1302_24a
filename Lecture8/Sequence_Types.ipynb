{
 "cells": [
  {
   "cell_type": "markdown",
   "id": "eda8eb03",
   "metadata": {
    "slideshow": {
     "slide_type": "slide"
    }
   },
   "source": [
    "---\n",
    "title: Sequence Types\n",
    "abstract: |\n",
    "    Composite data types, like tuple and lists, allow programmers to group multiple objects together efficiently. This notebook focuses on sequence types, where objects are ordered. Readers will learn how to construct sequences using enclosure and comprehension; how to access items using subscriptions and slicing; the concept of mutation; and Methods that operate on sequences, including those that cause mutations. Understanding these concepts helps in managing collections of data more effectively, leading to cleaner, more maintainable, and scalable code.\n",
    "---"
   ]
  },
  {
   "cell_type": "code",
   "execution_count": null,
   "id": "c786ab8f",
   "metadata": {},
   "outputs": [],
   "source": [
    "from __init__ import install_dependencies\n",
    "\n",
    "await install_dependencies()"
   ]
  },
  {
   "cell_type": "code",
   "execution_count": null,
   "id": "d920b38c",
   "metadata": {
    "slideshow": {
     "slide_type": "fragment"
    },
    "tags": [
     "remove-cell"
    ]
   },
   "outputs": [],
   "source": [
    "import random\n",
    "from math import isqrt\n",
    "\n",
    "%reload_ext divewidgets\n",
    "%load_ext jupyter_ai\n",
    "%ai update chatgpt dive:chat"
   ]
  },
  {
   "cell_type": "markdown",
   "id": "08694bfb",
   "metadata": {
    "slideshow": {
     "slide_type": "slide"
    }
   },
   "source": [
    "## Motivation"
   ]
  },
  {
   "cell_type": "markdown",
   "id": "cfa8c9f9",
   "metadata": {
    "slideshow": {
     "slide_type": "fragment"
    }
   },
   "source": [
    "The following code calculates the average of two numbers:"
   ]
  },
  {
   "cell_type": "code",
   "execution_count": null,
   "id": "015ec76b",
   "metadata": {
    "slideshow": {
     "slide_type": "-"
    }
   },
   "outputs": [],
   "source": [
    "def average_of_two(x0, x1):\n",
    "    return (x0 + x1) / 2\n",
    "\n",
    "\n",
    "average_of_two(0, 1)"
   ]
  },
  {
   "cell_type": "markdown",
   "id": "143bf856",
   "metadata": {},
   "source": [
    "How to calculate the average of more numbers? For instance, the average of four numbers `1, 2, 3, 4` is:"
   ]
  },
  {
   "cell_type": "code",
   "execution_count": null,
   "id": "e153f75f",
   "metadata": {},
   "outputs": [],
   "source": [
    "average_of_two(average_of_two(0, 1), average_of_two(2, 3))"
   ]
  },
  {
   "cell_type": "markdown",
   "id": "643deb23",
   "metadata": {},
   "source": [
    "But what about 5 numbers `0, 1, 2, 3, 4`?"
   ]
  },
  {
   "cell_type": "code",
   "execution_count": null,
   "id": "33e39497",
   "metadata": {},
   "outputs": [],
   "source": [
    "average_of_two(average_of_two(average_of_two(0, 1), average_of_two(2, 3)), 4)"
   ]
  },
  {
   "cell_type": "markdown",
   "id": "a59c581f",
   "metadata": {},
   "source": [
    "Repeatedly applying the function does not always work. It is also not impossible to specify an arbitrary number of optional arguments:\n",
    "\n",
    "```python\n",
    "def average(x0, x1=None, x2=None, x3=None, ...):\n",
    "    ...\n",
    "```\n",
    "\n",
    "What is needed is a  *composite data type (or container)*:"
   ]
  },
  {
   "cell_type": "code",
   "execution_count": null,
   "id": "75d737dd",
   "metadata": {},
   "outputs": [],
   "source": [
    "def average(*args):\n",
    "    return sum(args) / len(args)\n",
    "\n",
    "\n",
    "average(0, 1, 2, 3, 4)"
   ]
  },
  {
   "cell_type": "markdown",
   "id": "d368f63c",
   "metadata": {
    "slideshow": {
     "slide_type": "fragment"
    }
   },
   "source": [
    "Recall that `args` is a *tuple* that can keep a variable number of items in a *sequence*."
   ]
  },
  {
   "cell_type": "markdown",
   "id": "9724de84",
   "metadata": {
    "slideshow": {
     "slide_type": "fragment"
    }
   },
   "source": [
    "In calculating the average, `sum` and `len` return the sum and length of an iterable. There are also other built-in functions that can apply to an iterable directly:\n",
    "\n",
    "```\n",
    "min, max, sorted, enumerate, reversed, zip, map, filter, slice\n",
    "```\n",
    "\n",
    "We can do this for `average` as well:"
   ]
  },
  {
   "cell_type": "code",
   "execution_count": null,
   "id": "dcd4159c",
   "metadata": {},
   "outputs": [],
   "source": [
    "def average(seq):\n",
    "    return sum(seq) / len(seq)\n",
    "\n",
    "\n",
    "seq = range(100)\n",
    "average(seq)"
   ]
  },
  {
   "cell_type": "markdown",
   "id": "98382fb1",
   "metadata": {},
   "source": [
    "::::{exercise}\n",
    "\n",
    "`min` and `max` can take either a variable number of arguments or a single positional argument that is an iterable. Implement `average` in a similar way.\n",
    "\n",
    ":::{hint}\n",
    ":class: dropdown\n",
    "\n",
    "Use `isinstance` and `Iterable` to check whether an argument is iterable.\n",
    "\n",
    ":::\n",
    "\n",
    "::::"
   ]
  },
  {
   "cell_type": "code",
   "execution_count": null,
   "id": "87d21655",
   "metadata": {},
   "outputs": [],
   "source": [
    "max?\n",
    "seq = (0, 1, 2, 3, 4)\n",
    "max(seq), max(*seq)"
   ]
  },
  {
   "cell_type": "code",
   "execution_count": null,
   "id": "b5aff509",
   "metadata": {
    "deletable": false,
    "nbgrader": {
     "cell_type": "code",
     "checksum": "356fe37f755c9bff87983feb7e0e03ce",
     "grade": false,
     "grade_id": "average",
     "locked": false,
     "schema_version": 3,
     "solution": true,
     "task": false
    }
   },
   "outputs": [],
   "source": [
    "from collections.abc import Iterable\n",
    "\n",
    "\n",
    "def average(*args):\n",
    "    # YOUR CODE HERE\n",
    "    raise NotImplementedError"
   ]
  },
  {
   "cell_type": "code",
   "execution_count": null,
   "id": "09087c51",
   "metadata": {
    "deletable": false,
    "editable": false,
    "nbgrader": {
     "cell_type": "code",
     "checksum": "26fdebc40c1e11f4cd890c78d0ba4528",
     "grade": true,
     "grade_id": "test-average",
     "locked": true,
     "points": 1,
     "schema_version": 3,
     "solution": false,
     "task": false
    }
   },
   "outputs": [],
   "source": [
    "# tests\n",
    "assert average(seq) == 2 == average(*seq)"
   ]
  },
  {
   "cell_type": "markdown",
   "id": "a6ffcd32",
   "metadata": {
    "slideshow": {
     "slide_type": "slide"
    }
   },
   "source": [
    "## Construction"
   ]
  },
  {
   "cell_type": "markdown",
   "id": "0d661086",
   "metadata": {
    "slideshow": {
     "slide_type": "subslide"
    }
   },
   "source": [
    "**How to store a sequence of items?**"
   ]
  },
  {
   "cell_type": "markdown",
   "id": "ecdc9402",
   "metadata": {},
   "source": [
    "We created objects of [sequence types](https://docs.python.org/3/library/stdtypes.html#sequence-types-list-tuple-range) before:\n",
    "\n",
    "- `str` is used to store a sequence of characters, but the items are limited to characters.\n",
    "- `range` is used to generate a sequence of numbers, but the numbers must form an arithmetic sequence."
   ]
  },
  {
   "cell_type": "markdown",
   "id": "af46e70d",
   "metadata": {},
   "source": [
    "In order to store items of possibly different types, we can use the built-in types `tuple` and `list`:"
   ]
  },
  {
   "cell_type": "code",
   "execution_count": null,
   "id": "ad264cd7",
   "metadata": {
    "slideshow": {
     "slide_type": "-"
    }
   },
   "outputs": [],
   "source": [
    "%%optlite -l -h 400\n",
    "a_list = \"1 2 3\".split()\n",
    "a_tuple = (lambda *args: args)(1, 2, 3)"
   ]
  },
  {
   "cell_type": "markdown",
   "id": "c1d58657",
   "metadata": {
    "slideshow": {
     "slide_type": "subslide"
    }
   },
   "source": [
    "**How to create a tuple/list?**"
   ]
  },
  {
   "cell_type": "markdown",
   "id": "1b4ebd46",
   "metadata": {
    "slideshow": {
     "slide_type": "fragment"
    }
   },
   "source": [
    "Mathematicians often represent a collection of items in two different ways:\n",
    "1. [Roster notation](https://en.wikipedia.org/wiki/Set_(mathematics)#Roster_notation), which enumerates the elements, e.g.,\n",
    "\n",
    "    $$ \\{0, 1, 4, 9, 16, 25, 36, 49, 64, 81\\}.$$ (eq:eg1)\n",
    "\n",
    "2. [Set-builder notation](https://en.wikipedia.org/wiki/Set-builder_notation), which describes the content using a rule for constructing the elements, e.g.,\n",
    "\n",
    "    $$ \\{x^2| x\\in \\mathbb{N}, x< 10 \\}, $$ (eq:eg2)\n",
    "    \n",
    "    namely the set of perfect squares strictly less than 100, which is the same as [](#eq:eg1). $\\mathbb{N}$ denotes the set of [natural numbers (including 0)](https://en.wikipedia.org/wiki/Natural_number)."
   ]
  },
  {
   "cell_type": "markdown",
   "id": "9b605ac9",
   "metadata": {
    "slideshow": {
     "slide_type": "fragment"
    }
   },
   "source": [
    "Python also provides two corresponding ways to create a collection of items:  \n",
    "1. [Enclosure](https://docs.python.org/3/reference/expressions.html?highlight=literals#grammar-token-enclosure), which uses brackets to group elements together.\n",
    "2. [Comprehension](https://docs.python.org/3/reference/expressions.html#index-12), which uses concise syntax similar to iterations and conditionals to generate elements."
   ]
  },
  {
   "cell_type": "code",
   "execution_count": null,
   "id": "d6e7c554",
   "metadata": {},
   "outputs": [],
   "source": [
    "%%ai chatgpt -f text\n",
    "What is the proper way to write a set in set-builder notations."
   ]
  },
  {
   "cell_type": "code",
   "execution_count": null,
   "id": "fea34a39",
   "metadata": {},
   "outputs": [],
   "source": [
    "%%ai chatgpt -f math\n",
    "List some mathmatical symbols use for common sets of numbers."
   ]
  },
  {
   "cell_type": "markdown",
   "id": "5c4f24d0",
   "metadata": {},
   "source": [
    "### Enclosure"
   ]
  },
  {
   "cell_type": "markdown",
   "id": "a92050e2",
   "metadata": {
    "slideshow": {
     "slide_type": "fragment"
    }
   },
   "source": [
    "For instance, to create a tuple, we enclose a comma separated sequence by parentheses:"
   ]
  },
  {
   "cell_type": "code",
   "execution_count": null,
   "id": "44710d68",
   "metadata": {
    "slideshow": {
     "slide_type": "-"
    }
   },
   "outputs": [],
   "source": [
    "%%optlite -h 450\n",
    "empty_tuple = ()\n",
    "singleton_tuple = (0,)   # why not (0)?\n",
    "heterogeneous_tuple = (\n",
    "    singleton_tuple, (1, 2.0), \n",
    "    print\n",
    ")\n",
    "enclosed_starred_tuple = (\n",
    "    *range(2), \n",
    "    *\"23\"\n",
    ")"
   ]
  },
  {
   "cell_type": "markdown",
   "id": "5d842c08",
   "metadata": {
    "slideshow": {
     "slide_type": "fragment"
    }
   },
   "source": [
    "Note from the above code that:\n",
    "- **1st assignment**: If the enclosed sequence has one term, there must be a comma after the term.\n",
    "- **2nd assignment**: The elements of a tuple can have different types.\n",
    "- **3rd assignment**: The unpacking operator `*` can unpack an iterable into a sequence in an enclosure."
   ]
  },
  {
   "cell_type": "markdown",
   "id": "3e94d6a6",
   "metadata": {
    "slideshow": {
     "slide_type": "subslide"
    }
   },
   "source": [
    "To create a list, we use square brackets instead of parentheses to enclose objects."
   ]
  },
  {
   "cell_type": "code",
   "execution_count": null,
   "id": "f266811a",
   "metadata": {
    "slideshow": {
     "slide_type": "-"
    }
   },
   "outputs": [],
   "source": [
    "%%optlite -h 400\n",
    "empty_list = []\n",
    "singleton_list = [0]  # no need to write [0,]\n",
    "heterogeneous_list = [\n",
    "    singleton_list, \n",
    "    (1, 2.0), \n",
    "    print\n",
    "]\n",
    "enclosed_starred_list = [\n",
    "    *range(2), \n",
    "    *\"23\"\n",
    "]"
   ]
  },
  {
   "cell_type": "markdown",
   "id": "f35bbdf2",
   "metadata": {
    "slideshow": {
     "slide_type": "subslide"
    }
   },
   "source": [
    "We can also create a tuple/list from other iterables using the constructors `tuple`/`list` as well as addition and multiplication similar to `str`."
   ]
  },
  {
   "cell_type": "code",
   "execution_count": null,
   "id": "6d99b674",
   "metadata": {
    "slideshow": {
     "slide_type": "-"
    }
   },
   "outputs": [],
   "source": [
    "%%optlite -l -h 900\n",
    "str2list = list(\"Hello\")\n",
    "str2tuple = tuple(\"Hello\")\n",
    "range2list = list(range(5))\n",
    "range2tuple = tuple(range(5))\n",
    "tuple2list = list((1, 2, 3))\n",
    "list2tuple = tuple([1, 2, 3])\n",
    "concatenated_tuple = (1,) + (2, 3)\n",
    "concatenated_list = [1, 2] + [3]\n",
    "duplicated_tuple = (1,) * 2\n",
    "duplicated_list = 2 * [1]"
   ]
  },
  {
   "cell_type": "markdown",
   "id": "3d15d4fd",
   "metadata": {
    "slideshow": {
     "slide_type": "subslide"
    }
   },
   "source": [
    "::::{exercise}\n",
    ":label: ex:singleton-tuple\n",
    "\n",
    "Explain the difference between the following two expressions.\n",
    "\n",
    "::::"
   ]
  },
  {
   "cell_type": "code",
   "execution_count": null,
   "id": "3b199d51",
   "metadata": {
    "slideshow": {
     "slide_type": "-"
    }
   },
   "outputs": [],
   "source": [
    "print((1 + 2) * 2, (1 + 2,) * 2, sep=\"\\n\")"
   ]
  },
  {
   "cell_type": "markdown",
   "id": "b2662b2e",
   "metadata": {
    "deletable": false,
    "nbgrader": {
     "cell_type": "markdown",
     "checksum": "82da7fcaca2139254bf16e6c105647c2",
     "grade": true,
     "grade_id": "singleton-tuple",
     "locked": false,
     "points": 0,
     "schema_version": 3,
     "solution": true,
     "task": false
    },
    "slideshow": {
     "slide_type": "-"
    }
   },
   "source": [
    "YOUR ANSWER HERE"
   ]
  },
  {
   "cell_type": "code",
   "execution_count": null,
   "id": "0387bd00",
   "metadata": {},
   "outputs": [],
   "source": [
    "%%ai chatgpt -f text\n",
    "In Python, why a singleton tuple must have a comma after the item?"
   ]
  },
  {
   "cell_type": "markdown",
   "id": "a36ed9b2",
   "metadata": {},
   "source": [
    "### Comprehension"
   ]
  },
  {
   "cell_type": "markdown",
   "id": "7a61ced6",
   "metadata": {
    "slideshow": {
     "slide_type": "subslide"
    }
   },
   "source": [
    "**How to use a rule to construct a tuple/list?**"
   ]
  },
  {
   "cell_type": "markdown",
   "id": "aa4b7af4",
   "metadata": {
    "slideshow": {
     "slide_type": "fragment"
    }
   },
   "source": [
    "We can define the rules for constructing a sequence using a [comprehension](https://docs.python.org/3/reference/expressions.html#index-12), a technique we’ve previously applied in a [generator expression](https://docs.python.org/3/reference/expressions.html#index-22). For example, the following Python one-liner returns a generator for prime numbers:"
   ]
  },
  {
   "cell_type": "code",
   "execution_count": null,
   "id": "bbb957c3",
   "metadata": {
    "slideshow": {
     "slide_type": "-"
    }
   },
   "outputs": [],
   "source": [
    "def prime_sequence(stop):\n",
    "    return (x for x in range(2, stop) if\n",
    "            all(x % d for d in range(2, isqrt(x) + 1)))\n",
    "\n",
    "\n",
    "print(*prime_sequence(100))"
   ]
  },
  {
   "cell_type": "markdown",
   "id": "f1ff753a",
   "metadata": {
    "slideshow": {
     "slide_type": "fragment"
    }
   },
   "source": [
    "There are two comprehensions used in the return value:\n",
    "1. `(x for x in range(2, stop) if ...)`: The comprehension creates a generator of numbers from 2 to `stop-1` that satisfy the condition of the `if` clause.\n",
    "2. `(x % d for d in range(2, isqrt(x) + 1))`: The comprehension creates a generator of remainders to the function [`all`](https://docs.python.org/3/library/functions.html#all), which returns `True` if all the remainders are non-zero else `False`."
   ]
  },
  {
   "cell_type": "markdown",
   "id": "deba55ad",
   "metadata": {
    "slideshow": {
     "slide_type": "subslide"
    }
   },
   "source": [
    "::::{exercise}\n",
    ":label: ex:composite_sequence\n",
    "\n",
    "Use comprehension to define a function `composite_sequence` that takes a non-negative integer `stop` and returns a generator of composite numbers strictly smaller than `stop`. Use [`any`](https://docs.python.org/3/library/functions.html#any) instead of `all` to check if a number is composite.\n",
    "\n",
    "::::"
   ]
  },
  {
   "cell_type": "code",
   "execution_count": null,
   "id": "4ee32afb",
   "metadata": {
    "deletable": false,
    "nbgrader": {
     "cell_type": "code",
     "checksum": "53e80133d60d69a44fad9107cdf28912",
     "grade": false,
     "grade_id": "composite_sequence",
     "locked": false,
     "schema_version": 3,
     "solution": true,
     "task": false
    },
    "slideshow": {
     "slide_type": "-"
    }
   },
   "outputs": [],
   "source": [
    "# YOUR CODE HERE\n",
    "raise NotImplementedError\n",
    "\n",
    "print(*composite_sequence(100))"
   ]
  },
  {
   "cell_type": "markdown",
   "id": "9d75b13f",
   "metadata": {},
   "source": [
    ":::::{seealso} Why `Nbgrader->Assignment List` may not show `(feedback available to fetch)` even after grading feedback is released?\n",
    ":class: dropdown\n",
    "\n",
    "The following is the relevant code of how `nbgrader` [list assignments with grading feedback](https://github.com/jupyter/nbgrader/blob/be97e17c4453b66d3dfa8abc8c8fe4dc1dc42968/nbgrader/exchange/default/list.py#L177):\n",
    "\n",
    "::::{code} python\n",
    ":linenos:\n",
    ":lineno-start: 175\n",
    ":emphasize-lines: 176, 177, 178\n",
    "                if info['notebooks']:\n",
    "                    has_local_feedback = all([nb['has_local_feedback'] for nb in info['notebooks']])\n",
    "                    has_exchange_feedback = all([nb['has_exchange_feedback'] for nb in info['notebooks']])\n",
    "                    feedback_updated = any([nb['feedback_updated'] for nb in info['notebooks']])\n",
    "::::\n",
    "\n",
    "`(feedback available to fetch)` only appears if `has_exchange_feedback` is true. This happens when all submitted notebooks (`nb in info['notebooks']`) have exchange feedback (`nb['has_exchange_feedback']` is true). What if a student includes an unexpected notebook file in a submission or rename a notebook? See [the patch](https://github.com/jupyter/nbgrader/compare/main...dive4dec:nbgrader:main) we applied. (What is the fix and why?)\n",
    "\n",
    ":::::"
   ]
  },
  {
   "cell_type": "markdown",
   "id": "517c534c",
   "metadata": {
    "slideshow": {
     "slide_type": "subslide"
    }
   },
   "source": [
    "Comprehension can also be used to construct a list instead of a generator. An example of [list comprehension](https://docs.python.org/3/glossary.html#term-list-comprehension) is as follows:"
   ]
  },
  {
   "cell_type": "code",
   "execution_count": null,
   "id": "2e7fb44b",
   "metadata": {
    "slideshow": {
     "slide_type": "-"
    }
   },
   "outputs": [],
   "source": [
    "[x ** 2 for x in range(10)]  # Enclose comprehension by square brackets"
   ]
  },
  {
   "cell_type": "markdown",
   "id": "5d20b070",
   "metadata": {
    "slideshow": {
     "slide_type": "subslide"
    }
   },
   "source": [
    "::::{exercise}\n",
    ":label: ex:generator-vs-tuple\n",
    "\n",
    "Is it faster to iterate through elements of a list comprehension than those of a generator?\n",
    "\n",
    "::::"
   ]
  },
  {
   "cell_type": "code",
   "execution_count": null,
   "id": "a7df773e",
   "metadata": {
    "slideshow": {
     "slide_type": "-"
    }
   },
   "outputs": [],
   "source": [
    "%%timeit\n",
    "tuple(x for x in range(100))"
   ]
  },
  {
   "cell_type": "code",
   "execution_count": null,
   "id": "fb0627b0",
   "metadata": {
    "slideshow": {
     "slide_type": "-"
    }
   },
   "outputs": [],
   "source": [
    "%%timeit\n",
    "tuple([x for x in range(100)])"
   ]
  },
  {
   "cell_type": "code",
   "execution_count": null,
   "id": "cf66bd04",
   "metadata": {},
   "outputs": [],
   "source": [
    "%%timeit\n",
    "sum(x for x in range(10000))"
   ]
  },
  {
   "cell_type": "code",
   "execution_count": null,
   "id": "fa04896a",
   "metadata": {},
   "outputs": [],
   "source": [
    "%%timeit\n",
    "sum([x for x in range(10000)])"
   ]
  },
  {
   "cell_type": "markdown",
   "id": "99f05c01",
   "metadata": {
    "deletable": false,
    "nbgrader": {
     "cell_type": "markdown",
     "checksum": "85bb7291e5ccafc8a73144d2a3d6fcfa",
     "grade": true,
     "grade_id": "generator-vs-tuple",
     "locked": false,
     "points": 0,
     "schema_version": 3,
     "solution": true,
     "task": false
    },
    "slideshow": {
     "slide_type": "-"
    }
   },
   "source": [
    "YOUR ANSWER HERE"
   ]
  },
  {
   "cell_type": "markdown",
   "id": "0c7eb30a",
   "metadata": {},
   "source": [
    "Do you think the AI can predict which is faster? Why or why not?"
   ]
  },
  {
   "cell_type": "code",
   "execution_count": null,
   "id": "57ba7209",
   "metadata": {},
   "outputs": [],
   "source": [
    "%%ai chatgpt -f text\n",
    "Explain whether it is faster to iterate through elements of a list comprehension \n",
    "than tose of a generator in the following Python code:\n",
    "--\n",
    "sum(x for x in range(10000))\n",
    "--\n",
    "sum([x for x in range(10000)])"
   ]
  },
  {
   "cell_type": "markdown",
   "id": "ca2b2363",
   "metadata": {},
   "source": [
    "As a demonstration of list comprehension, consider simulating the coin tossing game:"
   ]
  },
  {
   "cell_type": "markdown",
   "id": "7310325c",
   "metadata": {},
   "source": [
    "::::{admonition} Coin Tossing Game\n",
    "\n",
    "A possibly biased coin is tossed and a player wins if he/she picks the correct coin value, head or tail. Before the game, the player can inspect the coin by tossing some number of times. What is the optimal strategy?\n",
    "\n",
    "::::"
   ]
  },
  {
   "cell_type": "markdown",
   "id": "7f81502e",
   "metadata": {
    "slideshow": {
     "slide_type": "subslide"
    }
   },
   "source": [
    "With list comprehension, we can easily simulate a sequence of biased coin flips as follows:"
   ]
  },
  {
   "cell_type": "code",
   "execution_count": null,
   "id": "b0c933fb",
   "metadata": {
    "slideshow": {
     "slide_type": "-"
    }
   },
   "outputs": [],
   "source": [
    "from random import random as rand\n",
    "\n",
    "p = 1302/10000  # unknown chance of head\n",
    "coin_flips = [\"H\" if rand() <= p else \"T\" for i in range(1000000)]\n",
    "print(\"Chance of head:\", p)\n",
    "print(\"Coin flips:\", *coin_flips[:100], \"...\")"
   ]
  },
  {
   "cell_type": "markdown",
   "id": "dc5567c9",
   "metadata": {},
   "source": [
    "`p` should be kept secret, while `coin_flips` can be shown to the player: \n",
    "\n",
    "- `H` means a head comes up, and\n",
    "- `T` means a tail comes up."
   ]
  },
  {
   "cell_type": "markdown",
   "id": "aa66afa4",
   "metadata": {},
   "source": [
    "::::{note} How to estimate the chance `p` from `coin_flips`?\n",
    ":class: dropdown\n",
    "\n",
    "Given that there\n",
    "$k$ heads in $n$ coin flips, a simple estimate is the fractional count of heads \n",
    "observed:\n",
    "\n",
    "$$\n",
    "\\hat{p} =  \\frac{k}{n}.\n",
    "$$\n",
    "\n",
    "::::"
   ]
  },
  {
   "cell_type": "code",
   "execution_count": null,
   "id": "817f7752",
   "metadata": {
    "slideshow": {
     "slide_type": "-"
    }
   },
   "outputs": [],
   "source": [
    "head_indicators = [1 if outcome == \"H\" else 0 for outcome in coin_flips]\n",
    "phat = average(head_indicators)\n",
    "print(\"Fraction of heads observed:\", phat)"
   ]
  },
  {
   "cell_type": "markdown",
   "id": "6a686052",
   "metadata": {},
   "source": [
    "**Does the estimate look reasonable. How accurate is this estimate?**"
   ]
  },
  {
   "cell_type": "markdown",
   "id": "1750e4b8",
   "metadata": {},
   "source": [
    "Let's formulate the problem mathematically. Denote the total number of coin flips\n",
    "by $n$. For $1\\leq i\\leq n$, define\n",
    "\n",
    "$$\n",
    "x_i := \n",
    "\\begin{cases}\n",
    "1 & \\text{if a head comes up in the $i$-th coin-flip,}\\\\\n",
    "0 & \\text{otherwise,}\n",
    "\\end{cases}\n",
    "$$\n",
    "\n",
    "which is called an [*indicator* variable][indicator_variable].\n",
    "\n",
    "[indicator_variable]: https://en.wikipedia.org/wiki/Dummy_variable_(statistics)"
   ]
  },
  {
   "cell_type": "markdown",
   "id": "706bd1a8",
   "metadata": {},
   "source": [
    "The estimate above can be expressed in\n",
    "terms of $n$ and $x_i$'s as follows:\n",
    "\n",
    "$$\n",
    "\\hat{p} := \\frac{\\sum_{i=1}^n x_i}{n},\n",
    "$$\n",
    "\n",
    "namely, the sample average of $x_i$'s. (Why?) This is an example of an [M-estimator](https://en.wikipedia.org/wiki/M-estimator)."
   ]
  },
  {
   "cell_type": "markdown",
   "id": "aa1f18dc",
   "metadata": {},
   "source": [
    "The variation of the estimate can be calculated from the [sample variance](https://en.wikipedia.org/wiki/Variance#Sample_variance):[^unbiased_sample_variance]\n",
    "\n",
    "$$\n",
    "\\begin{align}\n",
    "v &:= \\frac{\\sum_{i=1}^n (x_i- \\hat{p})^2}{n} \\\\\n",
    "&= \\left(\\frac1n\\sum_{i=1}^n x_i^2\\right) - \\hat{p}^2.\n",
    "\\end{align}\n",
    "$$\n",
    "\n",
    "[^unbiased_sample_variance]: If $n$ is small (fewer than 100), the [unbiased sample variance](https://en.wikipedia.org/wiki/Variance#Unbiased_sample_variance) should be used."
   ]
  },
  {
   "cell_type": "markdown",
   "id": "03e101ea",
   "metadata": {},
   "source": [
    "Except for a small chance of $5\\%$,\n",
    "\n",
    "$$\n",
    "p \\approx \\hat{p} \\pm 2\\sqrt{\\frac{v}{n}},\n",
    "$$\n",
    "\n",
    "which is called the [$95\\%$-confidence interval estimate](https://en.wikipedia.org/wiki/Confidence_interval).[^dof]\n",
    "\n",
    "[^dof]: If $n$ is small, the factor $2$ needs to be increased by looking up the [$t$-value](https://en.wikipedia.org/wiki/T-statistic) from the student's $t$-distribution."
   ]
  },
  {
   "cell_type": "markdown",
   "id": "bcd7fe92",
   "metadata": {
    "slideshow": {
     "slide_type": "fragment"
    }
   },
   "source": [
    "::::{exercise}\n",
    ":label: ex:variance\n",
    "\n",
    "Define a function `variance` that takes in a sequence `seq` and returns the [*variance*](https://en.wikipedia.org/wiki/Variance) of the sequence.\n",
    "\n",
    "::::"
   ]
  },
  {
   "cell_type": "code",
   "execution_count": null,
   "id": "e05c3265",
   "metadata": {
    "deletable": false,
    "nbgrader": {
     "cell_type": "code",
     "checksum": "e28419b25176f22c0537ec256605186e",
     "grade": false,
     "grade_id": "variance",
     "locked": false,
     "schema_version": 3,
     "solution": true,
     "task": false
    },
    "slideshow": {
     "slide_type": "-"
    }
   },
   "outputs": [],
   "source": [
    "def variance(seq):\n",
    "    # YOUR CODE HERE\n",
    "    raise NotImplementedError\n",
    "\n",
    "v = variance(head_indicators)\n",
    "n = len(head_indicators)\n",
    "\n",
    "delta = 2 * (v / n) ** 0.5\n",
    "print(f\"p \\u2248 {phat:.4f} \\u00B1 {delta:.4f} except for 5% chance.\")\n",
    "print(\n",
    "    \"95% confidence interval estimate of p: [{:.4f},{:.4f}]\".format(\n",
    "        phat - delta, phat + delta\n",
    "    )\n",
    ")"
   ]
  },
  {
   "cell_type": "markdown",
   "id": "871d2f4a",
   "metadata": {},
   "source": [
    "There is a simpler way to calculate the variance for coin tosses, which follows a [Bernoulli distribution](https://en.wikipedia.org/wiki/Bernoulli_distribution#Variance):"
   ]
  },
  {
   "cell_type": "code",
   "execution_count": null,
   "id": "80f4f0bc",
   "metadata": {},
   "outputs": [],
   "source": [
    "v = phat * (1 - phat)\n",
    "print(f\"p \\u2248 {phat:.4f} \\u00B1 {2*(v/n)**0.5:.4f}\")"
   ]
  },
  {
   "cell_type": "code",
   "execution_count": null,
   "id": "3c3a4f2f",
   "metadata": {},
   "outputs": [],
   "source": [
    "%%ai chatgpt -f text\n",
    "Explain the formula for the variance of samples of Bernoulli variables."
   ]
  },
  {
   "cell_type": "markdown",
   "id": "07453876",
   "metadata": {},
   "source": [
    "## Operations"
   ]
  },
  {
   "cell_type": "markdown",
   "id": "b2d1bade",
   "metadata": {
    "slideshow": {
     "slide_type": "slide"
    }
   },
   "source": [
    "### Selection"
   ]
  },
  {
   "cell_type": "markdown",
   "id": "7690749c",
   "metadata": {
    "slideshow": {
     "slide_type": "subslide"
    }
   },
   "source": [
    "**How to traverse a tuple/list?**"
   ]
  },
  {
   "cell_type": "markdown",
   "id": "9463802a",
   "metadata": {
    "slideshow": {
     "slide_type": "fragment"
    }
   },
   "source": [
    "Instead of calling the dunder method directly, we can use a for loop to iterate over all the items in order."
   ]
  },
  {
   "cell_type": "code",
   "execution_count": null,
   "id": "59aa76b0",
   "metadata": {
    "slideshow": {
     "slide_type": "-"
    }
   },
   "outputs": [],
   "source": [
    "a = (*range(5),)\n",
    "for item in a:\n",
    "    print(item, end=\" \")"
   ]
  },
  {
   "cell_type": "markdown",
   "id": "956d004a",
   "metadata": {
    "slideshow": {
     "slide_type": "fragment"
    }
   },
   "source": [
    "To do it in reverse, we can use the `reversed` function."
   ]
  },
  {
   "cell_type": "code",
   "execution_count": null,
   "id": "a0d64605",
   "metadata": {
    "slideshow": {
     "slide_type": "-"
    }
   },
   "outputs": [],
   "source": [
    "reversed?\n",
    "a = [*range(5)]\n",
    "for item in reversed(a):\n",
    "    print(item, end=\" \")"
   ]
  },
  {
   "cell_type": "markdown",
   "id": "043333a0",
   "metadata": {
    "slideshow": {
     "slide_type": "fragment"
    }
   },
   "source": [
    "We can also traverse multiple tuples/lists simultaneously by `zip`ping them."
   ]
  },
  {
   "cell_type": "code",
   "execution_count": null,
   "id": "6d7b48b4",
   "metadata": {
    "slideshow": {
     "slide_type": "-"
    }
   },
   "outputs": [],
   "source": [
    "zip?\n",
    "a = (*range(5),)\n",
    "b = reversed(a)\n",
    "for item1, item2 in zip(a, b):\n",
    "    print(item1, item2)"
   ]
  },
  {
   "cell_type": "markdown",
   "id": "09fa0739",
   "metadata": {
    "slideshow": {
     "slide_type": "subslide"
    }
   },
   "source": [
    "**How to select an item in a sequence?**"
   ]
  },
  {
   "cell_type": "markdown",
   "id": "0558ea79",
   "metadata": {
    "slideshow": {
     "slide_type": "fragment"
    }
   },
   "source": [
    "::::{important}\n",
    "\n",
    "Sequence objects such as `str`/`tuple`/`list` implements the [*getter method* `__getitem__`](https://docs.python.org/3/reference/datamodel.html#object.__getitem__) to return their items.\n",
    "::::"
   ]
  },
  {
   "cell_type": "markdown",
   "id": "31ff9d24",
   "metadata": {
    "slideshow": {
     "slide_type": "fragment"
    }
   },
   "source": [
    "We can select an item of a sequence `a` by [subscription](https://docs.python.org/3/reference/expressions.html#subscriptions) \n",
    "```Python\n",
    "a[i]\n",
    "``` \n",
    "where `a` is a list and `i` is an integer index."
   ]
  },
  {
   "cell_type": "markdown",
   "id": "b0adc431",
   "metadata": {
    "slideshow": {
     "slide_type": "subslide"
    }
   },
   "source": [
    "A non-negative index indicates the distance from the beginning."
   ]
  },
  {
   "cell_type": "markdown",
   "id": "4400703f",
   "metadata": {
    "slideshow": {
     "slide_type": "-"
    }
   },
   "source": [
    "$$\\boldsymbol{a} = (a_0, ... , a_{n-1})$$"
   ]
  },
  {
   "cell_type": "code",
   "execution_count": null,
   "id": "875ce10f",
   "metadata": {
    "slideshow": {
     "slide_type": "-"
    }
   },
   "outputs": [],
   "source": [
    "%%optlite -h 500\n",
    "a = (*range(10),)\n",
    "print(a)\n",
    "print(\"Length:\", len(a))\n",
    "print(\"First element:\", a[0])\n",
    "print(\"Second element:\", a[1])\n",
    "print(\"Last element:\", a[len(a) - 1])\n",
    "print(a[len(a)])  # IndexError"
   ]
  },
  {
   "cell_type": "markdown",
   "id": "2bdfbe11",
   "metadata": {
    "slideshow": {
     "slide_type": "fragment"
    }
   },
   "source": [
    ":::{caution} Index out of range\n",
    "`a[i]` with `i >= len(a)` or `i < len(a)` results in an `IndexError`. \n",
    ":::"
   ]
  },
  {
   "cell_type": "markdown",
   "id": "8e885e3c",
   "metadata": {
    "slideshow": {
     "slide_type": "subslide"
    }
   },
   "source": [
    "A negative index represents a negative offset from an imaginary element one past the end of the sequence."
   ]
  },
  {
   "cell_type": "markdown",
   "id": "60ee7697",
   "metadata": {
    "slideshow": {
     "slide_type": "-"
    }
   },
   "source": [
    "$$\\begin{aligned} \\boldsymbol{a} &= (a_0, ... , a_{n-1})\\\\\n",
    "& = (a_{-n}, ..., a_{-1})\n",
    "\\end{aligned}$$"
   ]
  },
  {
   "cell_type": "code",
   "execution_count": null,
   "id": "dadd12e8",
   "metadata": {
    "slideshow": {
     "slide_type": "-"
    }
   },
   "outputs": [],
   "source": [
    "%%optlite -h 500\n",
    "a = [*range(10)]\n",
    "print(a)\n",
    "print(\"Last element:\", a[-1])\n",
    "print(\"Second last element:\", a[-2])\n",
    "print(\"First element:\", a[-len(a)])\n",
    "print(a[-len(a) - 1])  # IndexError"
   ]
  },
  {
   "cell_type": "markdown",
   "id": "0df71177",
   "metadata": {
    "slideshow": {
     "slide_type": "fragment"
    }
   },
   "source": [
    "::::{caution}\n",
    "`a[i]` with `i < -len(a)` results in an `IndexError`. \n",
    "::::"
   ]
  },
  {
   "cell_type": "markdown",
   "id": "e97810f6",
   "metadata": {
    "slideshow": {
     "slide_type": "subslide"
    }
   },
   "source": [
    "**How to select multiple items?**"
   ]
  },
  {
   "cell_type": "markdown",
   "id": "10e4f6b7",
   "metadata": {
    "slideshow": {
     "slide_type": "fragment"
    }
   },
   "source": [
    "We can use [slicing](https://docs.python.org/3/reference/expressions.html#slicings) to select a range of items as follows:\n",
    "```Python\n",
    "a[start:stop]\n",
    "a[start:stop:step]\n",
    "```\n",
    "\n",
    "The selected items corresponds to those indexed using `range`:\n",
    "\n",
    "```Python\n",
    "(a[i] for i in range(start, stop))\n",
    "(a[i] for i in range(start, stop, step))\n",
    "```"
   ]
  },
  {
   "cell_type": "code",
   "execution_count": null,
   "id": "58aad4b4",
   "metadata": {
    "slideshow": {
     "slide_type": "-"
    }
   },
   "outputs": [],
   "source": [
    "a = (*range(10),)\n",
    "print(a[1:4])\n",
    "print(a[1:4:2])"
   ]
  },
  {
   "cell_type": "markdown",
   "id": "6f116b66",
   "metadata": {
    "slideshow": {
     "slide_type": "subslide"
    }
   },
   "source": [
    "Unlike `range`, the parameters for slicing take their default values if missing or equal to None:"
   ]
  },
  {
   "cell_type": "code",
   "execution_count": null,
   "id": "ecf7d7ae",
   "metadata": {
    "slideshow": {
     "slide_type": "fragment"
    }
   },
   "outputs": [],
   "source": [
    "a = [*range(10)]\n",
    "print(a[:4])  # start defaults to 0\n",
    "print(a[1:])  # stop defaults to len(a)\n",
    "print(a[1:4:])  # step defaults to 1"
   ]
  },
  {
   "cell_type": "markdown",
   "id": "cd0473b7",
   "metadata": {
    "slideshow": {
     "slide_type": "fragment"
    }
   },
   "source": [
    "The parameters can also take negative values:"
   ]
  },
  {
   "cell_type": "code",
   "execution_count": null,
   "id": "1ade3a36",
   "metadata": {
    "slideshow": {
     "slide_type": "-"
    }
   },
   "outputs": [],
   "source": [
    "print(a[-1:])\n",
    "print(a[:-1])\n",
    "print(a[::-1])  # What are the default values used here?"
   ]
  },
  {
   "cell_type": "markdown",
   "id": "4715bc0d",
   "metadata": {
    "slideshow": {
     "slide_type": "fragment"
    }
   },
   "source": [
    "A mixture of negative and postive values are also okay:"
   ]
  },
  {
   "cell_type": "code",
   "execution_count": null,
   "id": "b0643b60",
   "metadata": {
    "slideshow": {
     "slide_type": "-"
    }
   },
   "outputs": [],
   "source": [
    "print(a[-1:1])      # equal [a[-1], a[0]]?\n",
    "print(a[1:-1])      # equal []?\n",
    "print(a[1:-1:-1])   # equal [a[1], a[0]]?\n",
    "print(a[-100:100])  # result in IndexError like subscription?"
   ]
  },
  {
   "cell_type": "markdown",
   "id": "3eb9f3eb",
   "metadata": {},
   "source": [
    "Can AI explain the rules for slicing?"
   ]
  },
  {
   "cell_type": "code",
   "execution_count": null,
   "id": "46dfd805",
   "metadata": {},
   "outputs": [],
   "source": [
    "%%ai chatgpt -f text\n",
    "Explain how the default values of start, stop, and step are determined in \n",
    "the following slicing operations in python:\n",
    "print(a[-1:1])      # equal [a[-1], a[0]]?\n",
    "print(a[1:-1])      # equal []?\n",
    "print(a[1:-1:-1])   # equal [a[1], a[0]]?\n",
    "print(a[-100:100])  # result in IndexError like subscription?"
   ]
  },
  {
   "cell_type": "markdown",
   "id": "03d049ef",
   "metadata": {
    "slideshow": {
     "slide_type": "subslide"
    }
   },
   "source": [
    "::::{exercise}\n",
    ":label: ex:sss\n",
    " \n",
    "Complete the following function to return a tuple `(start, stop, step)` such that `range(start, stop, step)` gives the non-negative indexes of the sequence of elements selected by `a[i:j:k]`.\n",
    "\n",
    ":::{hint}\n",
    "\n",
    "See [Note 3-5 in the python documentation](https://docs.python.org/3/library/stdtypes.html#common-sequence-operations).\n",
    ":::\n",
    "\n",
    "::::"
   ]
  },
  {
   "cell_type": "code",
   "execution_count": null,
   "id": "332e16d2",
   "metadata": {
    "deletable": false,
    "nbgrader": {
     "cell_type": "code",
     "checksum": "9ce4fa68f166d1c09c00670f4d1c8d95",
     "grade": false,
     "grade_id": "sss",
     "locked": false,
     "schema_version": 3,
     "solution": true,
     "task": false
    },
    "slideshow": {
     "slide_type": "-"
    }
   },
   "outputs": [],
   "source": [
    "def sss(a, i=None, j=None, k=None):\n",
    "    # YOUR CODE HERE\n",
    "    raise NotImplementedError\n",
    "    return start, stop, step\n",
    "\n",
    "\n",
    "a = [*range(10)]\n",
    "assert sss(a, -1, 1) == (9, 1, 1)\n",
    "assert sss(a, 1, -1) == (1, 9, 1)\n",
    "assert sss(a, 1, -1, -1) == (1, 9, -1)\n",
    "assert sss(a, -100, 100) == (0, 10, 1)"
   ]
  },
  {
   "cell_type": "markdown",
   "id": "df07dc57",
   "metadata": {
    "slideshow": {
     "slide_type": "subslide"
    }
   },
   "source": [
    "::::{exercise}\n",
    ":label: ex:quick-sort\n",
    "\n",
    "With slicing, we can now implement a practical sorting algorithm called [quicksort](https://en.wikipedia.org/wiki/Quicksort) to sort a sequence. Explain how the code works:\n",
    "\n",
    "::::"
   ]
  },
  {
   "cell_type": "code",
   "execution_count": null,
   "id": "98ee4225",
   "metadata": {
    "slideshow": {
     "slide_type": "-"
    }
   },
   "outputs": [],
   "source": [
    "def quicksort(seq):\n",
    "    \"\"\"Return a sorted list of items from seq.\"\"\"\n",
    "    if len(seq) <= 1:\n",
    "        return list(seq)\n",
    "    i = random.randint(0, len(seq) - 1)\n",
    "    pivot, others = seq[i], [*seq[:i], *seq[i + 1 :]]\n",
    "    left = quicksort([x for x in others if x < pivot])\n",
    "    right = quicksort([x for x in others if x >= pivot])\n",
    "    return [*left, pivot, *right]\n",
    "\n",
    "\n",
    "seq = [random.randint(0, 99) for i in range(10)]\n",
    "print(seq, quicksort(seq), sep=\"\\n\")"
   ]
  },
  {
   "cell_type": "markdown",
   "id": "ed243dd1",
   "metadata": {
    "deletable": false,
    "nbgrader": {
     "cell_type": "markdown",
     "checksum": "778c20ce723e40158759227877cf8934",
     "grade": true,
     "grade_id": "quick-sort",
     "locked": false,
     "points": 0,
     "schema_version": 3,
     "solution": true,
     "task": false
    },
    "slideshow": {
     "slide_type": "-"
    }
   },
   "source": [
    "YOUR ANSWER HERE"
   ]
  },
  {
   "cell_type": "markdown",
   "id": "c8907521",
   "metadata": {},
   "source": [
    "Quick sort is an example of randomized algorithm. In particular, the pivot is\n",
    "randomly chosen. Why?"
   ]
  },
  {
   "cell_type": "code",
   "execution_count": null,
   "id": "df34fe6b",
   "metadata": {},
   "outputs": [],
   "source": [
    "%%ai chatgpt -f text\n",
    "For the quick sort algorithm, is it okay to pick the pivot deterministically,\n",
    "say the first element of the sequence?"
   ]
  },
  {
   "cell_type": "code",
   "execution_count": null,
   "id": "d1e62622",
   "metadata": {},
   "outputs": [],
   "source": [
    "%%ai chatgpt -f text\n",
    "What is randomized algorithm and how randomization helps?"
   ]
  },
  {
   "cell_type": "markdown",
   "id": "3a8ef798",
   "metadata": {
    "slideshow": {
     "slide_type": "slide"
    }
   },
   "source": [
    "### Mutation"
   ]
  },
  {
   "cell_type": "markdown",
   "id": "355b9cc8",
   "metadata": {
    "slideshow": {
     "slide_type": "fragment"
    }
   },
   "source": [
    "::::{important} What is the difference between tuple and list?\n",
    ":class: dropdown\n",
    "\n",
    "- List is [*mutable*](https://docs.python.org/3/reference/datamodel.html#mutable-sequences), allowing changes after creation; but\n",
    "- tuple is [*immutable*](https://docs.python.org/3/glossary.html#term-immutable), which cannot be modified after creation.\n",
    "\n",
    "\n",
    "::::"
   ]
  },
  {
   "cell_type": "code",
   "execution_count": null,
   "id": "9ce5389d",
   "metadata": {},
   "outputs": [],
   "source": [
    "%%ai chatgpt -f text\n",
    "Explain in a paragraph or two why one would prefer tuple over list in Python, \n",
    "given that list is mutable but tuple is not?"
   ]
  },
  {
   "cell_type": "markdown",
   "id": "7292b3df",
   "metadata": {
    "slideshow": {
     "slide_type": "fragment"
    }
   },
   "source": [
    "For list (but not tuple), subscription and slicing can also be used as the target of an assignment operation to mutate the list:"
   ]
  },
  {
   "cell_type": "code",
   "execution_count": null,
   "id": "d3e2b8b7",
   "metadata": {
    "slideshow": {
     "slide_type": "-"
    }
   },
   "outputs": [],
   "source": [
    "%%optlite -h 350\n",
    "b = [*range(10)]  # aliasing\n",
    "b[::2] = b[:5]\n",
    "b[0:1] = b[:5]\n",
    "b[::2] = b[:5]  # fails"
   ]
  },
  {
   "cell_type": "markdown",
   "id": "477e0fc6",
   "metadata": {
    "slideshow": {
     "slide_type": "fragment"
    }
   },
   "source": [
    "Last assignment fails because `[::2]` with step size not equal to `1` is an [*extended slice*](https://docs.python.org/3/whatsnew/2.3.html#extended-slices), which can only be assigned to a list of equal size."
   ]
  },
  {
   "cell_type": "code",
   "execution_count": null,
   "id": "5133254b",
   "metadata": {},
   "outputs": [],
   "source": [
    "%%ai chatgpt -f text\n",
    "Explain the following limitation of extended slice in python as compared to\n",
    "the basic slice:\n",
    "When assigning to an extended slice, the list on the right hand side of the \n",
    "statement must contain the same number of items as the slice it is replacing."
   ]
  },
  {
   "cell_type": "markdown",
   "id": "45e1435a",
   "metadata": {
    "slideshow": {
     "slide_type": "subslide"
    }
   },
   "source": [
    "**What is the difference between mutation and aliasing?**"
   ]
  },
  {
   "cell_type": "markdown",
   "id": "d84f3a5a",
   "metadata": {
    "slideshow": {
     "slide_type": "fragment"
    }
   },
   "source": [
    "In the previous code:\n",
    "- The first assignment `b = [*range(10)]` is aliasing, which gives the list the target name/identifier `b`.\n",
    "- Other assignments such as `b[::2] = b[:5]` are mutations that [calls `__setitem__`](https://docs.python.org/3/reference/simple_stmts.html#assignment-statements) because the target `b[::2]` is not an identifier."
   ]
  },
  {
   "cell_type": "code",
   "execution_count": null,
   "id": "2933aa44",
   "metadata": {},
   "outputs": [],
   "source": [
    "list.__setitem__?"
   ]
  },
  {
   "cell_type": "markdown",
   "id": "fb1c6475",
   "metadata": {
    "slideshow": {
     "slide_type": "subslide"
    }
   },
   "source": [
    "::::{exercise}\n",
    ":label: ex:equivalence\n",
    "\n",
    "Explain why the check returns False."
   ]
  },
  {
   "cell_type": "code",
   "execution_count": null,
   "id": "d2b498db",
   "metadata": {},
   "outputs": [],
   "source": [
    "# %%optlite -l -h 400\n",
    "a = b = [0]\n",
    "b[0] = a[0] + 1\n",
    "print(a[0] < b[0])"
   ]
  },
  {
   "cell_type": "markdown",
   "id": "0e86e1d0",
   "metadata": {
    "deletable": false,
    "nbgrader": {
     "cell_type": "markdown",
     "checksum": "67e1259061c9a7c45acc8154d325d19a",
     "grade": true,
     "grade_id": "equivalence",
     "locked": false,
     "points": 0,
     "schema_version": 3,
     "solution": true,
     "task": false
    },
    "slideshow": {
     "slide_type": "-"
    }
   },
   "source": [
    "YOUR ANSWER HERE"
   ]
  },
  {
   "cell_type": "markdown",
   "id": "1b7fb844",
   "metadata": {
    "slideshow": {
     "slide_type": "subslide"
    }
   },
   "source": [
    "::::{exercise}\n",
    ":label: ex:difference\n",
    "\n",
    "Explain why the mutations below have different effects?\n",
    "\n",
    "::::"
   ]
  },
  {
   "cell_type": "code",
   "execution_count": null,
   "id": "cecf0da4",
   "metadata": {},
   "outputs": [],
   "source": [
    "a = [0, 1]\n",
    "i = 0\n",
    "a.__setitem__(i := i + 1, i)\n",
    "print(a)"
   ]
  },
  {
   "cell_type": "code",
   "execution_count": null,
   "id": "6c643a20",
   "metadata": {},
   "outputs": [],
   "source": [
    "a = [0, 1]\n",
    "i = 0\n",
    "a[i := i + 1] = a[i]\n",
    "print(a)"
   ]
  },
  {
   "cell_type": "markdown",
   "id": "9ce0e2c3",
   "metadata": {
    "deletable": false,
    "nbgrader": {
     "cell_type": "markdown",
     "checksum": "18ad03486ba1506ee967600ae8db1f67",
     "grade": true,
     "grade_id": "difference",
     "locked": false,
     "points": 0,
     "schema_version": 3,
     "solution": true,
     "task": false
    },
    "slideshow": {
     "slide_type": "-"
    }
   },
   "source": [
    "YOUR ANSWER HERE"
   ]
  },
  {
   "cell_type": "markdown",
   "id": "a7809f63",
   "metadata": {},
   "source": [
    "Let's see if AI has the correct understanding:"
   ]
  },
  {
   "cell_type": "code",
   "execution_count": null,
   "id": "27cd2714",
   "metadata": {},
   "outputs": [],
   "source": [
    "%%ai chatgpt -f text\n",
    "Explain what gets printed when running the following python code:\n",
    "--\n",
    "a = [0, 1]\n",
    "i = 0\n",
    "a[i := i + 1] = a[i]\n",
    "print(a)"
   ]
  },
  {
   "cell_type": "markdown",
   "id": "3b1727b9",
   "metadata": {
    "slideshow": {
     "slide_type": "subslide"
    }
   },
   "source": [
    "**Why mutate a list?**"
   ]
  },
  {
   "cell_type": "markdown",
   "id": "bf256891",
   "metadata": {
    "slideshow": {
     "slide_type": "fragment"
    }
   },
   "source": [
    "The following is another implementation of `composite_sequence` that takes advantage of the mutability of list."
   ]
  },
  {
   "cell_type": "code",
   "execution_count": null,
   "id": "54f3e784",
   "metadata": {
    "slideshow": {
     "slide_type": "-"
    }
   },
   "outputs": [],
   "source": [
    "%%optlite -r\n",
    "def sieve_composite_sequence(stop):\n",
    "    is_composite = [False] * stop  # initialization\n",
    "    for factor in range(2, stop):\n",
    "        if is_composite[factor]:\n",
    "            continue\n",
    "        for multiple in range(factor ** 2, stop, factor):\n",
    "            is_composite[multiple] = True\n",
    "    return (x for x in range(4, stop) if is_composite[x])\n",
    "\n",
    "\n",
    "for x in sieve_composite_sequence(100):\n",
    "    print(x, end=\" \")"
   ]
  },
  {
   "cell_type": "markdown",
   "id": "b11a5921",
   "metadata": {
    "slideshow": {
     "slide_type": "fragment"
    }
   },
   "source": [
    "The algorithm \n",
    "1. changes `is_composite[x]` from `False` to `True` if `x` is a multiple of a smaller number `factor`, and\n",
    "2. returns a generator that generates composite numbers according to `is_composite`."
   ]
  },
  {
   "cell_type": "code",
   "execution_count": null,
   "id": "68fc008a",
   "metadata": {},
   "outputs": [],
   "source": [
    "%%ai chatgpt -f text\n",
    "Should `factor ** 2` be `factor * 2` in the following \n",
    "function that attempts to generates a sequence of composite numbers up to and\n",
    "excluding stop.\n",
    "--\n",
    "def sieve_composite_sequence(stop):\n",
    "    is_composite = [False] * stop  # initialization\n",
    "    for factor in range(2, stop):\n",
    "        if is_composite[factor]:\n",
    "            continue\n",
    "        for multiple in range(factor ** 2, stop, factor):\n",
    "            is_composite[multiple] = True\n",
    "    return (x for x in range(4, stop) if is_composite[x])"
   ]
  },
  {
   "cell_type": "code",
   "execution_count": null,
   "id": "906d8ea5",
   "metadata": {},
   "outputs": [],
   "source": [
    "%%ai chatgpt -f text\n",
    "Explain why `factor ** 2` is used instead of `factor * 2` in the following \n",
    "function that attempts to generates a sequence of composite numbers up to and\n",
    "excluding stop.\n",
    "--\n",
    "def sieve_composite_sequence(stop):\n",
    "    is_composite = [False] * stop  # initialization\n",
    "    for factor in range(2, stop):\n",
    "        if is_composite[factor]:\n",
    "            continue\n",
    "        for multiple in range(factor ** 2, stop, factor):\n",
    "            is_composite[multiple] = True\n",
    "    return (x for x in range(4, stop) if is_composite[x])"
   ]
  },
  {
   "cell_type": "markdown",
   "id": "29f8d7b9",
   "metadata": {
    "slideshow": {
     "slide_type": "subslide"
    }
   },
   "source": [
    "::::{exercise}\n",
    ":label: ex:sieve\n",
    "\n",
    "Is `sieve_composite_sequence` more efficient than your solution `composite_sequence`? Why?\n",
    "\n",
    "::::"
   ]
  },
  {
   "cell_type": "code",
   "execution_count": null,
   "id": "416d590e",
   "metadata": {},
   "outputs": [],
   "source": [
    "def composite_sequence(stop):\n",
    "    return (x for x in range(2, stop) if any(x % d == 0 for d in range(2, x)))"
   ]
  },
  {
   "cell_type": "code",
   "execution_count": null,
   "id": "d7027ac1",
   "metadata": {
    "slideshow": {
     "slide_type": "-"
    }
   },
   "outputs": [],
   "source": [
    "%%timeit\n",
    "for x in composite_sequence(10000): pass"
   ]
  },
  {
   "cell_type": "code",
   "execution_count": null,
   "id": "a920057d",
   "metadata": {},
   "outputs": [],
   "source": [
    "%%timeit\n",
    "for x in sieve_composite_sequence(10000): pass"
   ]
  },
  {
   "cell_type": "code",
   "execution_count": null,
   "id": "3aa7623b",
   "metadata": {
    "slideshow": {
     "slide_type": "-"
    }
   },
   "outputs": [],
   "source": [
    "for x in sieve_composite_sequence(10000000): pass"
   ]
  },
  {
   "cell_type": "markdown",
   "id": "6a2fb3e6",
   "metadata": {
    "deletable": false,
    "nbgrader": {
     "cell_type": "markdown",
     "checksum": "81f9b0c9ad3b1b27fbf504c34d173ac3",
     "grade": true,
     "grade_id": "sieve",
     "locked": false,
     "points": 0,
     "schema_version": 3,
     "solution": true,
     "task": false
    },
    "slideshow": {
     "slide_type": "-"
    }
   },
   "source": [
    "YOUR ANSWER HERE"
   ]
  },
  {
   "cell_type": "markdown",
   "id": "406ba6f1",
   "metadata": {
    "slideshow": {
     "slide_type": "fragment"
    }
   },
   "source": [
    "::::{exercise}\n",
    ":label: ex:init-2D\n",
    "\n",
    "Note that the multiplication operation `*` is the most efficient way to [initialize a 1D list with a specified size](https://www.geeksforgeeks.org/python-which-is-faster-to-initialize-lists/), but we should not use it to initialize a 2D list. Fix the following code so that `a` becomes `[[1, 0], [0, 1]]`.\n",
    "\n",
    "::::"
   ]
  },
  {
   "cell_type": "code",
   "execution_count": null,
   "id": "e12241f4",
   "metadata": {
    "slideshow": {
     "slide_type": "-"
    }
   },
   "outputs": [],
   "source": [
    "%%optlite -h 300\n",
    "a = [[0] * 2] * 2\n",
    "a[0][0] = a[1][1] = 1\n",
    "print(a)"
   ]
  },
  {
   "cell_type": "code",
   "execution_count": null,
   "id": "bff30af0",
   "metadata": {
    "code_folding": [],
    "deletable": false,
    "nbgrader": {
     "cell_type": "code",
     "checksum": "948d795ea68622f698403b3b3e695423",
     "grade": false,
     "grade_id": "init-2D",
     "locked": false,
     "schema_version": 3,
     "solution": true,
     "task": false
    },
    "slideshow": {
     "slide_type": "-"
    }
   },
   "outputs": [],
   "source": [
    "# YOUR CODE HERE\n",
    "raise NotImplementedError\n",
    "a[0][0] = a[1][1] = 1\n",
    "print(a)"
   ]
  },
  {
   "cell_type": "code",
   "execution_count": null,
   "id": "1f503f46",
   "metadata": {},
   "outputs": [],
   "source": [
    "%%ai chatgpt -f text\n",
    "Explain the different levels of copy for python lists."
   ]
  },
  {
   "cell_type": "markdown",
   "id": "0b5b7409",
   "metadata": {
    "slideshow": {
     "slide_type": "slide"
    }
   },
   "source": [
    "## Methods"
   ]
  },
  {
   "cell_type": "markdown",
   "id": "94f02e0c",
   "metadata": {
    "slideshow": {
     "slide_type": "fragment"
    }
   },
   "source": [
    "There is also a built-in function `sorted` for sorting a sequence:"
   ]
  },
  {
   "cell_type": "code",
   "execution_count": null,
   "id": "c3d27457",
   "metadata": {
    "slideshow": {
     "slide_type": "-"
    }
   },
   "outputs": [],
   "source": [
    "sorted?\n",
    "sorted(seq)"
   ]
  },
  {
   "cell_type": "markdown",
   "id": "4d9cc9c1",
   "metadata": {
    "slideshow": {
     "slide_type": "subslide"
    }
   },
   "source": [
    "**Is `quicksort` quicker?**"
   ]
  },
  {
   "cell_type": "code",
   "execution_count": null,
   "id": "1af2fd4b",
   "metadata": {
    "slideshow": {
     "slide_type": "-"
    }
   },
   "outputs": [],
   "source": [
    "%%timeit\n",
    "quicksort(seq)"
   ]
  },
  {
   "cell_type": "code",
   "execution_count": null,
   "id": "2150e2a4",
   "metadata": {
    "slideshow": {
     "slide_type": "-"
    }
   },
   "outputs": [],
   "source": [
    "%%timeit\n",
    "sorted(seq)"
   ]
  },
  {
   "cell_type": "markdown",
   "id": "937cd18b",
   "metadata": {
    "slideshow": {
     "slide_type": "fragment"
    }
   },
   "source": [
    "Python implements the [Timsort](https://en.wikipedia.org/wiki/Timsort) algorithm, which is very efficient."
   ]
  },
  {
   "cell_type": "markdown",
   "id": "1505d96a",
   "metadata": {
    "slideshow": {
     "slide_type": "subslide"
    }
   },
   "source": [
    "**What are other operations on sequences?**"
   ]
  },
  {
   "cell_type": "markdown",
   "id": "a639540d",
   "metadata": {
    "slideshow": {
     "slide_type": "fragment"
    }
   },
   "source": [
    "The following compares the lists of public attributes for `tuple` and `list`. \n",
    "- We determine membership using the [operator `in` or `not in`](https://docs.python.org/3/reference/expressions.html#membership-test-operations).\n",
    "- Different from the [keyword `in` in a for loop](https://docs.python.org/3/reference/compound_stmts.html#the-for-statement), operator `in` calls the method `__contains__`."
   ]
  },
  {
   "cell_type": "code",
   "execution_count": null,
   "id": "77778109",
   "metadata": {
    "slideshow": {
     "slide_type": "-"
    }
   },
   "outputs": [],
   "source": [
    "list_attributes = dir(list)\n",
    "tuple_attributes = dir(tuple)\n",
    "\n",
    "print(\n",
    "    'Common attributes:', ', '.join([\n",
    "        attr for attr in list_attributes\n",
    "        if attr in tuple_attributes and attr[0] != '_'\n",
    "    ]))\n",
    "\n",
    "print(\n",
    "    'Tuple-specific attributes:', ', '.join([\n",
    "        attr for attr in tuple_attributes\n",
    "        if attr not in list_attributes and attr[0] != '_'\n",
    "    ]))\n",
    "\n",
    "print(\n",
    "    'List-specific attributes:', ', '.join([\n",
    "        attr for attr in list_attributes\n",
    "        if attr not in tuple_attributes and attr[0] != '_'\n",
    "    ]))"
   ]
  },
  {
   "cell_type": "markdown",
   "id": "c878bab5",
   "metadata": {
    "slideshow": {
     "slide_type": "fragment"
    }
   },
   "source": [
    "- There are no public tuple-specific attributes, and\n",
    "- all the list-specific attributes are methods that mutate the list, except `copy`."
   ]
  },
  {
   "cell_type": "markdown",
   "id": "24c1e28f",
   "metadata": {
    "slideshow": {
     "slide_type": "subslide"
    }
   },
   "source": [
    "The common attributes\n",
    "- `count` method returns the number of occurrences of a value in a tuple/list, and\n",
    "- `index` method returns the index of the first occurrence of a value in a tuple/list."
   ]
  },
  {
   "cell_type": "code",
   "execution_count": null,
   "id": "9437a33b",
   "metadata": {
    "slideshow": {
     "slide_type": "-"
    }
   },
   "outputs": [],
   "source": [
    "%%optlite -l -h 450\n",
    "a = (1,2,2,4,5)\n",
    "count_of_2 = a.count(2)\n",
    "index_of_1st_2 = a.index(2)"
   ]
  },
  {
   "cell_type": "markdown",
   "id": "8fe4ae73",
   "metadata": {
    "slideshow": {
     "slide_type": "subslide"
    }
   },
   "source": [
    "`reverse` method reverses the list instead of returning a reversed list."
   ]
  },
  {
   "cell_type": "code",
   "execution_count": null,
   "id": "25e60bf7",
   "metadata": {
    "slideshow": {
     "slide_type": "-"
    }
   },
   "outputs": [],
   "source": [
    "%%optlite -h 300\n",
    "a = [*range(10)]\n",
    "print(reversed(a))\n",
    "print(*reversed(a))\n",
    "print(a.reverse())"
   ]
  },
  {
   "cell_type": "markdown",
   "id": "ec6cbb0b",
   "metadata": {
    "slideshow": {
     "slide_type": "subslide"
    }
   },
   "source": [
    "- `copy` method returns a shallow copy of a list.  \n",
    "- `tuple` does not have the `copy` method but it is easy to create a copy by slicing."
   ]
  },
  {
   "cell_type": "code",
   "execution_count": null,
   "id": "f984dacd",
   "metadata": {
    "slideshow": {
     "slide_type": "fragment"
    }
   },
   "outputs": [],
   "source": [
    "%%optlite -h 400\n",
    "a = [*range(10)]\n",
    "b = tuple(a)\n",
    "a_reversed = a.copy()\n",
    "a_reversed.reverse()\n",
    "b_reversed = b[::-1]"
   ]
  },
  {
   "cell_type": "markdown",
   "id": "798c0681",
   "metadata": {
    "slideshow": {
     "slide_type": "subslide"
    }
   },
   "source": [
    "`sort` method sorts the list *in place* instead of returning a sorted list."
   ]
  },
  {
   "cell_type": "code",
   "execution_count": null,
   "id": "69c97b09",
   "metadata": {
    "slideshow": {
     "slide_type": "-"
    }
   },
   "outputs": [],
   "source": [
    "%%optlite -h 300\n",
    "import random\n",
    "a = [random.randint(0,10) for i in range(10)]\n",
    "print(sorted(a))\n",
    "print(a.sort())"
   ]
  },
  {
   "cell_type": "markdown",
   "id": "7907003e",
   "metadata": {
    "slideshow": {
     "slide_type": "subslide"
    }
   },
   "source": [
    "- `extend` method that extends a list instead of creating a new concatenated list.\n",
    "- `append` method adds an object to the end of a list.\n",
    "- `insert` method insert an object to a specified location."
   ]
  },
  {
   "cell_type": "code",
   "execution_count": null,
   "id": "2ad26e93",
   "metadata": {
    "slideshow": {
     "slide_type": "-"
    }
   },
   "outputs": [],
   "source": [
    "%%optlite -h 300\n",
    "a = b = [*range(5)]\n",
    "print(a + b)\n",
    "print(a.extend(b))\n",
    "print(a.append('stop'))\n",
    "print(a.insert(0,'start'))"
   ]
  },
  {
   "cell_type": "markdown",
   "id": "5a72eead",
   "metadata": {
    "slideshow": {
     "slide_type": "subslide"
    }
   },
   "source": [
    "- `pop` method deletes and return the last item of the list.  \n",
    "- `remove` method removes the first occurrence of a value in the list.  \n",
    "- `clear` method clears the entire list.\n",
    "\n",
    "We can also use the function `del` to delete a selection of a list."
   ]
  },
  {
   "cell_type": "code",
   "execution_count": null,
   "id": "487d6ed0",
   "metadata": {
    "slideshow": {
     "slide_type": "-"
    }
   },
   "outputs": [],
   "source": [
    "%%optlite -h 300\n",
    "a = [*range(10)]\n",
    "del a[::2]\n",
    "print(a.pop())\n",
    "print(a.remove(5))\n",
    "print(a.clear())"
   ]
  }
 ],
 "metadata": {
  "kernelspec": {
   "display_name": "Python 3 (ipykernel)",
   "language": "python",
   "name": "python3"
  }
 },
 "nbformat": 4,
 "nbformat_minor": 5
}
