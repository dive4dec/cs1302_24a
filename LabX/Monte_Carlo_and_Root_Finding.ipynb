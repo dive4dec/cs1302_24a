{
 "cells": [
  {
   "cell_type": "markdown",
   "id": "146df245",
   "metadata": {
    "slideshow": {
     "slide_type": "slide"
    }
   },
   "source": [
    "---\n",
    "title: Monte Carlo and Root Finding\n",
    "---"
   ]
  },
  {
   "cell_type": "code",
   "execution_count": null,
   "id": "f7a3fd52",
   "metadata": {},
   "outputs": [],
   "source": [
    "from __init__ import install_dependencies\n",
    "\n",
    "await install_dependencies()"
   ]
  },
  {
   "cell_type": "code",
   "execution_count": null,
   "id": "738847f0",
   "metadata": {},
   "outputs": [],
   "source": [
    "import random\n",
    "from ipywidgets import interact\n",
    "import matplotlib.pyplot as plt\n",
    "import numpy as np\n",
    "%matplotlib widget\n",
    "%reload_ext divewidgets"
   ]
  },
  {
   "cell_type": "markdown",
   "id": "7113bf25",
   "metadata": {
    "slideshow": {
     "slide_type": "subslide"
    }
   },
   "source": [
    "## The Monty-Hall Game"
   ]
  },
  {
   "cell_type": "markdown",
   "id": "c0b8583f",
   "metadata": {},
   "source": [
    "::::{card}\n",
    ":header: The Monty Hall Problem\n",
    ":footer: [(open in new tab)](https://www.youtube.com/embed/rn1y-HrmA5c?end=23)\n",
    "\n",
    ":::{iframe} https://www.youtube.com/embed/rn1y-HrmA5c?end=23\n",
    ":align: center\n",
    ":width: 100%\n",
    "\n",
    ":::\n",
    "\n",
    "::::"
   ]
  },
  {
   "cell_type": "markdown",
   "id": "ece576c1",
   "metadata": {
    "slideshow": {
     "slide_type": "subslide"
    }
   },
   "source": [
    "**Is it better to change the initial pick? What is the chance of winning if we change?**"
   ]
  },
  {
   "cell_type": "markdown",
   "id": "0b92c29b",
   "metadata": {
    "slideshow": {
     "slide_type": "fragment"
    }
   },
   "source": [
    "::::{hint}\n",
    ":class: dropdown\n",
    "\n",
    "There are two doors to choose from, and only one of the doors has treasure behind it.\n",
    "::::"
   ]
  },
  {
   "cell_type": "markdown",
   "id": "94d0b7c4",
   "metadata": {
    "slideshow": {
     "slide_type": "fragment"
    }
   },
   "source": [
    "Let's use the following program to play the game a couple of times."
   ]
  },
  {
   "cell_type": "code",
   "execution_count": null,
   "id": "38c2807a",
   "metadata": {
    "code_folding": [],
    "slideshow": {
     "slide_type": "-"
    }
   },
   "outputs": [],
   "source": [
    "import random\n",
    "\n",
    "\n",
    "def play_monty_hall(num_of_doors=3):\n",
    "    \"\"\"Main function to run the Monty Hall game.\"\"\"\n",
    "    doors = {str(i) for i in range(num_of_doors)}\n",
    "    door_with_treasure = random.sample(sorted(doors), 1)[0]\n",
    "\n",
    "    # Input the initial pick of the door.\n",
    "    while True:\n",
    "        initial_pick = input(f'Pick a door from {\", \".join(sorted(doors))}: ')\n",
    "        if initial_pick in doors:\n",
    "            break\n",
    "\n",
    "    # Open all but one other door. The opened door must have nothing.\n",
    "    doors_to_open = doors - {initial_pick, door_with_treasure}\n",
    "    other_door = (\n",
    "        door_with_treasure\n",
    "        if initial_pick != door_with_treasure\n",
    "        else doors_to_open.pop()\n",
    "    )\n",
    "    print(\"Door(s) with nothing behind:\", *doors_to_open)\n",
    "\n",
    "    # Allow the player to change the initial pick to the other (unopened) door.\n",
    "    change_pick = (\n",
    "        input(f\"Would you like to change your choice to {other_door}? [y/N] \").lower()\n",
    "        == \"y\"\n",
    "    )\n",
    "\n",
    "    # Check and record winning.\n",
    "    if not change_pick:\n",
    "        mh_stats[\"# no change\"] += 1\n",
    "        if door_with_treasure == initial_pick:\n",
    "            mh_stats[\"# win without changing\"] += 1\n",
    "            return print(\"You won!\")\n",
    "    else:\n",
    "        mh_stats[\"# change\"] += 1\n",
    "        if door_with_treasure == other_door:\n",
    "            mh_stats[\"# win by changing\"] += 1\n",
    "            return print(\"You won!\")\n",
    "    print(f\"You lost. The door with treasure is {door_with_treasure}.\")\n",
    "\n",
    "\n",
    "mh_stats = dict.fromkeys(\n",
    "    (\"# win by changing\", \"# win without changing\", \"# change\", \"# no change\"), 0\n",
    ")\n",
    "\n",
    "\n",
    "def monty_hall_statistics():\n",
    "    \"\"\"Print the statistics of the Monty Hall games.\"\"\"\n",
    "    print(\"-\" * 30, \"Statistics\", \"-\" * 30)\n",
    "    if mh_stats[\"# change\"]:\n",
    "        print(\n",
    "            f\"% win by changing: \\\n",
    "        {mh_stats['# win by changing'] / mh_stats['# change']:.0%}\"\n",
    "        )\n",
    "    if mh_stats[\"# no change\"]:\n",
    "        print(\n",
    "            f\"% win without changing: \\\n",
    "        {mh_stats['# win without changing']/mh_stats['# no change']:.0%}\"\n",
    "        )"
   ]
  },
  {
   "cell_type": "code",
   "execution_count": null,
   "id": "78169522",
   "metadata": {
    "slideshow": {
     "slide_type": "subslide"
    },
    "tags": [
     "remove-output"
    ]
   },
   "outputs": [],
   "source": [
    "play_monty_hall()\n",
    "monty_hall_statistics()"
   ]
  },
  {
   "cell_type": "markdown",
   "id": "6605f89f",
   "metadata": {
    "slideshow": {
     "slide_type": "subslide"
    }
   },
   "source": [
    "To get a good estimate of the chance of winning, we need to play the game many times.  \n",
    "We can write a Monty-Carlo simulation instead."
   ]
  },
  {
   "cell_type": "code",
   "execution_count": null,
   "id": "52fa490b",
   "metadata": {
    "deletable": false,
    "editable": false,
    "nbgrader": {
     "cell_type": "code",
     "checksum": "f865486122af7098ae2270aaf6b02f13",
     "grade": false,
     "grade_id": "monty-hall",
     "locked": true,
     "schema_version": 3,
     "solution": false,
     "task": false
    },
    "slideshow": {
     "slide_type": "-"
    }
   },
   "outputs": [],
   "source": [
    "# Do not change any variables defined here, or some tests may fail.\n",
    "import numpy as np\n",
    "\n",
    "np.random.seed(0)  # for reproducible result\n",
    "num_of_games = int(10e7)\n",
    "door_with_treasure = np.random.randint(1, 4, num_of_games, dtype=np.uint8)\n",
    "initial_pick = np.random.randint(1, 4, num_of_games, dtype=np.uint8)\n",
    "\n",
    "print(f\"{'Door with treasure:':>19}\", *door_with_treasure[:10], \"...\")\n",
    "print(f\"{'Initial pick:':>19}\", *initial_pick[:10], \"...\")"
   ]
  },
  {
   "cell_type": "markdown",
   "id": "5751c7f9",
   "metadata": {
    "slideshow": {
     "slide_type": "fragment"
    }
   },
   "source": [
    "- `door_with_treasure` stores as 8-bit unsigned integers `uint8` the door numbers randomly chosen from $\\{1, 2, 3\\}$ as the doors with treasure behind for a number `num_of_games` of Monty-Hall games.\n",
    "- `initial_pick` stores the initial choices for the different games."
   ]
  },
  {
   "cell_type": "markdown",
   "id": "d6d197c0",
   "metadata": {
    "slideshow": {
     "slide_type": "fragment"
    }
   },
   "source": [
    "If players do not change their initial pick, the chance of winning can be estimated as follows:"
   ]
  },
  {
   "cell_type": "code",
   "execution_count": null,
   "id": "58bccda1",
   "metadata": {
    "code_folding": []
   },
   "outputs": [],
   "source": [
    "def estimate_chance_of_winning_without_change(door_with_treasure, initial_pick):\n",
    "    \"\"\"Estimate the chance of winning the Monty Hall game without changing\n",
    "    the initial pick using the Monte Carlo simulation of door_with_treasure\n",
    "    and initial_pick.\"\"\"\n",
    "    count_of_win = 0\n",
    "    for x, y in zip(door_with_treasure, initial_pick):\n",
    "        if x == y:\n",
    "            count_of_win += 1\n",
    "    return count_of_win / n\n",
    "\n",
    "\n",
    "n = num_of_games // 100\n",
    "estimate_chance_of_winning_without_change(door_with_treasure[:n], initial_pick[:n])"
   ]
  },
  {
   "cell_type": "markdown",
   "id": "78781048",
   "metadata": {},
   "source": [
    "However, the above code is inefficient and takes a long time to run. You may try running it on the entire sequences of `door_with_treasure` and `initial_pick` but **DO NOT** put the code in your notebook, as the server refuses to auto-grade notebooks that take too much time or memory to run."
   ]
  },
  {
   "cell_type": "markdown",
   "id": "1467dcd2",
   "metadata": {
    "slideshow": {
     "slide_type": "fragment"
    }
   },
   "source": [
    "A simpler and also more efficient solution with well over 100 times speed up is as follows:"
   ]
  },
  {
   "cell_type": "code",
   "execution_count": null,
   "id": "87b8b5d2",
   "metadata": {
    "slideshow": {
     "slide_type": "-"
    }
   },
   "outputs": [],
   "source": [
    "def estimate_chance_of_winning_without_change(door_with_treasure, initial_pick):\n",
    "    \"\"\"Estimate the chance of winning the Monty Hall game without changing\n",
    "    the initial pick using the Monte Carlo simulation of door_with_treasure\n",
    "    and initial_pick.\"\"\"\n",
    "    return (door_with_treasure == initial_pick).mean()\n",
    "\n",
    "\n",
    "estimate_chance_of_winning_without_change(door_with_treasure, initial_pick)"
   ]
  },
  {
   "cell_type": "markdown",
   "id": "eea66441",
   "metadata": {
    "slideshow": {
     "slide_type": "fragment"
    }
   },
   "source": [
    "The code uses the method `mean` of `ndarray` that computes the mean of the `numpy` array.  \n",
    "In computing the mean, `True` and `False` are regarded as `1` and `0`, respectively, as illustrated below."
   ]
  },
  {
   "cell_type": "code",
   "execution_count": null,
   "id": "877918e1",
   "metadata": {
    "slideshow": {
     "slide_type": "-"
    }
   },
   "outputs": [],
   "source": [
    "for i in True, False:\n",
    "    for j in True, False:\n",
    "        print(f\"{i} + {j} == {i + j}\")"
   ]
  },
  {
   "cell_type": "markdown",
   "id": "7e16856e",
   "metadata": {
    "slideshow": {
     "slide_type": "subslide"
    }
   },
   "source": [
    "::::{exercise}\n",
    ":label: ex:winning-by-change\n",
    "\n",
    "Define the function `estimate_chance_of_winning_by_change` same as `estimate_chance_of_winning_without_change` above but returns the estimate of the chance of winning by changing the initial choice instead. Again, *implement efficiently, or jupyterhub may refuse to auto-grade your entire notebook*.\n",
    "\n",
    ":::{hint}\n",
    ":class: dropdown\n",
    "\n",
    "Since there are only two unopened doors at the end of each game, a player will win by changing the initial pick if the initially picked door is not the door with treasure behind.\n",
    ":::\n",
    "\n",
    "::::"
   ]
  },
  {
   "cell_type": "code",
   "execution_count": null,
   "id": "ca8984eb",
   "metadata": {
    "deletable": false,
    "nbgrader": {
     "cell_type": "code",
     "checksum": "6c4497d8352dfc7e31c0ba8508295f09",
     "grade": false,
     "grade_id": "switch",
     "locked": false,
     "schema_version": 3,
     "solution": true,
     "task": false
    },
    "slideshow": {
     "slide_type": "-"
    },
    "tags": [
     "remove-output"
    ]
   },
   "outputs": [],
   "source": [
    "def estimate_chance_of_winning_by_change(door_with_treasure, initial_pick):\n",
    "    \"\"\"Estimate the chance of winning the Monty Hall game by changing\n",
    "    the initial pick using the Monte Carlo simulation of door_with_treasure\n",
    "    and initial_pick.\"\"\"\n",
    "    # YOUR CODE HERE\n",
    "    raise NotImplementedError"
   ]
  },
  {
   "cell_type": "code",
   "execution_count": null,
   "id": "65e98ec0",
   "metadata": {
    "deletable": false,
    "editable": false,
    "nbgrader": {
     "cell_type": "code",
     "checksum": "337f9daeb456ba9910dfdae7f1dc936f",
     "grade": true,
     "grade_id": "test-switch",
     "locked": true,
     "points": 1,
     "schema_version": 3,
     "solution": false,
     "task": false
    },
    "slideshow": {
     "slide_type": "-"
    },
    "tags": [
     "hide-input",
     "remove-output"
    ]
   },
   "outputs": [],
   "source": [
    "# tests\n",
    "assert np.isclose(\n",
    "    estimate_chance_of_winning_by_change(door_with_treasure[:10], initial_pick[:10]),\n",
    "    0.7)"
   ]
  },
  {
   "cell_type": "code",
   "execution_count": null,
   "id": "831fc08e",
   "metadata": {
    "deletable": false,
    "editable": false,
    "nbgrader": {
     "cell_type": "code",
     "checksum": "63590b5f724457fd2cd411748b639cf8",
     "grade": true,
     "grade_id": "h_test-switch",
     "locked": true,
     "points": 1,
     "schema_version": 3,
     "solution": false,
     "task": false
    },
    "tags": [
     "remove-cell"
    ]
   },
   "outputs": [],
   "source": [
    "# HIDDEN"
   ]
  },
  {
   "cell_type": "markdown",
   "id": "612bc2c8",
   "metadata": {
    "slideshow": {
     "slide_type": "subslide"
    }
   },
   "source": [
    "## Solving non-linear equations"
   ]
  },
  {
   "cell_type": "markdown",
   "id": "e681980b",
   "metadata": {
    "slideshow": {
     "slide_type": "fragment"
    }
   },
   "source": [
    "Suppose we want to solve:\n",
    "\n",
    "$$\n",
    "f(x) = 0\n",
    "$$\n",
    "for some possibly non-linear real-valued function $f(x)$ in one real-valued variable $x$. A quadratic equation with an $x^2$ term is an example. The following is another example."
   ]
  },
  {
   "cell_type": "code",
   "execution_count": null,
   "id": "89bcdc5d",
   "metadata": {
    "slideshow": {
     "slide_type": "-"
    }
   },
   "outputs": [],
   "source": [
    "f = lambda x: x * (x - 1) * (x - 2)\n",
    "x = np.linspace(-0.5, 2.5)\n",
    "plt.figure(1, clear=True)\n",
    "plt.plot(x, f(x))\n",
    "plt.axhline(color=\"gray\", linestyle=\":\")\n",
    "plt.xlabel(r\"$x$\")\n",
    "plt.title(r\"Plot of $f(x)\\coloneq x(x-1)(x-2)$\")\n",
    "plt.show()"
   ]
  },
  {
   "cell_type": "markdown",
   "id": "39d2e908",
   "metadata": {
    "slideshow": {
     "slide_type": "fragment"
    }
   },
   "source": [
    "While it is clear that the above function has three roots, namely, $x=0, 1, 2$, can we write a program to compute a root of any given continuous function $f$?"
   ]
  },
  {
   "cell_type": "markdown",
   "id": "0e62e5d9",
   "metadata": {},
   "source": [
    "::::{card}\n",
    ":header: Bisection Method\n",
    ":footer: [(open in new tab)](https://www.youtube.com/embed/PXSLcEGkXkU)\n",
    "\n",
    ":::{iframe} https://www.youtube.com/embed/PXSLcEGkXkU\n",
    ":align: center\n",
    ":width: 100%\n",
    "\n",
    ":::\n",
    "\n",
    "::::"
   ]
  },
  {
   "cell_type": "markdown",
   "id": "26f49fde",
   "metadata": {
    "slideshow": {
     "slide_type": "subslide"
    }
   },
   "source": [
    "The following function `bisection` implements the bisection method as a recursion."
   ]
  },
  {
   "cell_type": "code",
   "execution_count": null,
   "id": "44d0187d",
   "metadata": {},
   "outputs": [],
   "source": [
    "def bisection(f, a, b, *, n=10):\n",
    "    \"\"\"\n",
    "    Find the root of the function f(x) within the interval [a, b] using the bisection method.\n",
    "\n",
    "    Parameters:\n",
    "        f: function\n",
    "            The function whose root is to be found.\n",
    "        a, b: float\n",
    "            The endpoints of the initial interval [a, b].\n",
    "        n: int, optional\n",
    "            The maximum number of bisections to perform. Defaults to 10.\n",
    "\n",
    "    Returns:\n",
    "        list\n",
    "            The interval [xstart, xstop] containing the root of f(x), or \n",
    "            an empty list if f(a) and f(b) have the same sign.\n",
    "    \"\"\"    \n",
    "    if f(a) * f(b) > 0:\n",
    "        return []  # because f(x) may not have a root between x=a and x=b\n",
    "    elif n <= 0:  # base case when recursion cannot go any deeper\n",
    "        return [a, b] if a <= b else [b, a]\n",
    "    else:\n",
    "        c = (a + b) / 2  # bisect the interval between a and b\n",
    "        return bisection(f, a, c, n=n - 1) or bisection(f, c, b, n=n - 1)  # recursion\n",
    "\n",
    "\n",
    "f = lambda x: x * (x - 1) * (x - 2)\n",
    "bisection(f, -0.5, 0.5)"
   ]
  },
  {
   "cell_type": "markdown",
   "id": "df67ec91",
   "metadata": {},
   "source": [
    "::::{note}\n",
    "\n",
    "`n` is a [keyword-only argument](https://peps.python.org/pep-3102/) similar to `atol` and `rtol` in `math.isclose`. In particular, the function call `bisection(f, -0.5, 0.5, 1)` is invalid.\n",
    "\n",
    "::::"
   ]
  },
  {
   "cell_type": "markdown",
   "id": "2fbb307b",
   "metadata": {
    "slideshow": {
     "slide_type": "fragment"
    }
   },
   "source": [
    "In the following widget, try changing the values of $a$ and $b$ as follows and change $n$ to see the change of the interval step-by-step:\n",
    "\n",
    "- $[a, b] \\approx [-0.5, 0.5]$\n",
    "- $[a, b] \\approx [1.5, 0.5]$\n",
    "- $[a, b] \\approx [-0.1, 2.5]$"
   ]
  },
  {
   "cell_type": "code",
   "execution_count": null,
   "id": "43a1cbf1",
   "metadata": {
    "editable": true,
    "slideshow": {
     "slide_type": "-"
    },
    "tags": [
     "remove-output"
    ]
   },
   "outputs": [],
   "source": [
    "# bisection solver\n",
    "def bisection_solver(f, a, b, n=10, *args, **kwargs):\n",
    "    f = lambda x: x * (x - 1) * (x - 2)\n",
    "    x = np.linspace(a, b)\n",
    "    fig = plt.figure(*args, **kwargs)\n",
    "    plt.plot(x, f(x), \"b-\")\n",
    "    plt.xlabel(r\"$x$\")\n",
    "    plt.title(r\"Bisection on $f(x)$\")\n",
    "    stem_plot = interval_plot = ()\n",
    "    s = (b-a)/100\n",
    "\n",
    "    @interact(a=(a, b, s), b=(a, b, s), n=(0, n, 1))\n",
    "    def plot(a=a, b=b, n=0):\n",
    "        nonlocal interval_plot, stem_plot\n",
    "        plt.figure(fig.number)\n",
    "        stem_plot and stem_plot.remove()\n",
    "        stem_plot = plt.stem([a,b],[f(a),f(b)], linefmt=\"g:\",basefmt=\"g:\")\n",
    "        interval_plot and interval_plot[0].remove()  # clear only the previously plotted interval, if any\n",
    "        interval_plot = (interval := bisection(f, a, b, n=n)) and plt.plot(interval, [0, 0], \"r|-\") or ()\n",
    "        plt.show()\n",
    "        print(\"Interval: \", interval)\n",
    "\n",
    "\n",
    "bisection_solver(f, -0.5, 2.5, num=1, clear=True)"
   ]
  },
  {
   "cell_type": "markdown",
   "id": "47721101",
   "metadata": {
    "slideshow": {
     "slide_type": "subslide"
    }
   },
   "source": [
    "::::{exercise}\n",
    ":label: ex:bisection\n",
    "\n",
    "Modify the function `bisection` to \n",
    "- take an additional keyword-only floating point argument `tol` and\n",
    "- return the interval from the bisection method represented by a list `[xstart,xstop]`, but as soon as the gap `xstop - xstart` with within the absolute tolerance `tol`, i.e., `xstop - xstart` $\\leq$ `tol`.\n",
    "\n",
    "The default value of `tol` should be `1e-9`. If `n` is given as an integer, the function should not exceed `n` bisections even if the gap is not within the desired tolerance.\n",
    "\n",
    "::::"
   ]
  },
  {
   "cell_type": "code",
   "execution_count": null,
   "id": "08c6fd1b",
   "metadata": {
    "deletable": false,
    "nbgrader": {
     "cell_type": "code",
     "checksum": "6507c2212d1c68afa988efaa19f0f79e",
     "grade": false,
     "grade_id": "bisection",
     "locked": false,
     "schema_version": 3,
     "solution": true,
     "task": false
    },
    "slideshow": {
     "slide_type": "-"
    },
    "tags": [
     "remove-output"
    ]
   },
   "outputs": [],
   "source": [
    "def bisection(f, a, b, *, tol=1e-9, n=None):\n",
    "    \"\"\"\n",
    "    Find the root of the function f(x) within the interval [a, b] using the bisection method.\n",
    "\n",
    "    Parameters:\n",
    "        f: function\n",
    "            The function whose root is to be found.\n",
    "        a, b: float\n",
    "            The endpoints of the interval [a, b].\n",
    "        tol: float, optional\n",
    "            The absolute tolerance level for the root approximation. Defaults to 1e-9.\n",
    "        n: int, optional\n",
    "            The maximum number of bisection to perform. Defaults to None (unlimited).\n",
    "\n",
    "    Returns:\n",
    "        list\n",
    "            The interval [xstart, xstop] containing the root of f(x), or \n",
    "            an empty list if f(a) and f(b) have the same sign.\n",
    "    \"\"\"    \n",
    "    # YOUR CODE HERE\n",
    "    raise NotImplementedError"
   ]
  },
  {
   "cell_type": "code",
   "execution_count": null,
   "id": "19112c2c",
   "metadata": {
    "deletable": false,
    "editable": false,
    "nbgrader": {
     "cell_type": "code",
     "checksum": "994f3cfca5b4e17dc2c036dafa427db5",
     "grade": true,
     "grade_id": "test-bisection",
     "locked": true,
     "points": 1,
     "schema_version": 3,
     "solution": false,
     "task": false
    },
    "slideshow": {
     "slide_type": "-"
    },
    "tags": [
     "hide-input",
     "remove-output"
    ]
   },
   "outputs": [],
   "source": [
    "# tests\n",
    "import numpy as np\n",
    "\n",
    "f = lambda x: x * (x - 1) * (x - 2)\n",
    "assert np.isclose(bisection(f, -0.5, 0.5), [-9.313225746154785e-10, 0.0]).all()\n",
    "_ = bisection(f, 1.5, 0.5, tol=1e-2)\n",
    "assert np.isclose(_, [1.0, 1.0078125]).all() or np.isclose(_, [0.9921875, 1.0]).all()\n",
    "assert np.isclose(\n",
    "    bisection(f, -0.1, 2.5, tol=1e-3), [1.9998046875000002, 2.0004394531250003]).all()\n",
    "assert np.isclose(bisection(f, -0.1, 2.5, tol=1e-3, n=2), [1.85, 2.5]).all()"
   ]
  },
  {
   "cell_type": "code",
   "execution_count": null,
   "id": "52990bc7",
   "metadata": {
    "deletable": false,
    "editable": false,
    "nbgrader": {
     "cell_type": "code",
     "checksum": "669c2a9b6cf66a2e090a7751a5417c73",
     "grade": true,
     "grade_id": "h_test-bisection",
     "locked": true,
     "points": 1,
     "schema_version": 3,
     "solution": false,
     "task": false
    },
    "tags": [
     "remove-cell"
    ]
   },
   "outputs": [],
   "source": [
    "# HIDDEN"
   ]
  }
 ],
 "metadata": {
  "kernelspec": {
   "display_name": "Python 3 (ipykernel)",
   "language": "python",
   "name": "python3"
  }
 },
 "nbformat": 4,
 "nbformat_minor": 5
}
