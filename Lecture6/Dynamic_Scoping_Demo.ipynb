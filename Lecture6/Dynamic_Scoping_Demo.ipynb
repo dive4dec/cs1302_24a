{
 "cells": [
  {
   "cell_type": "markdown",
   "id": "251cf758",
   "metadata": {},
   "source": [
    "The following code shows that Maxima is dynamically scoped:"
   ]
  },
  {
   "cell_type": "code",
   "execution_count": null,
   "id": "2e84ef07",
   "metadata": {},
   "outputs": [],
   "source": [
    "foo() := x$\n",
    "\n",
    "bar() := block(\n",
    "    [x: \"dynamically scoped\"],\n",
    "    foo()\n",
    ")$\n",
    "\n",
    "x: \"lexically scoped\"$\n",
    "bar();"
   ]
  },
  {
   "cell_type": "markdown",
   "id": "e9c5f16e",
   "metadata": {},
   "source": [
    "The behavior is the same with `foo()` substituted by `x`."
   ]
  },
  {
   "cell_type": "code",
   "execution_count": null,
   "id": "ad8b7c10",
   "metadata": {},
   "outputs": [],
   "source": [
    "bar() := block(\n",
    "    [x: \"dynamically scoped\"],\n",
    "    x\n",
    ")$\n",
    "\n",
    "x: \"lexically scoped\"$\n",
    "bar();"
   ]
  },
  {
   "cell_type": "markdown",
   "id": "c6425591",
   "metadata": {},
   "source": [
    "For dynamic scoping, the function `foo()` takes last value assigned to `x` in previous function calls. This is not the same as treating `x` as global inside the definition of `bar()`. The global variable `x` in the above code retains its original value:"
   ]
  },
  {
   "cell_type": "code",
   "execution_count": null,
   "id": "e501e5e0",
   "metadata": {},
   "outputs": [],
   "source": [
    "x;"
   ]
  }
 ],
 "metadata": {
  "kernelspec": {
   "display_name": "Maxima",
   "language": "maxima",
   "name": "maxima"
  }
 },
 "nbformat": 4,
 "nbformat_minor": 5
}
