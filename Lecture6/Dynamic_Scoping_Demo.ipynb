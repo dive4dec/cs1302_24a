{
 "cells": [
  {
   "cell_type": "markdown",
   "id": "cefa75ba",
   "metadata": {},
   "source": [
    "The following code shows that Maxima is dynamically scoped:"
   ]
  },
  {
   "cell_type": "code",
   "execution_count": null,
   "id": "c69f1897",
   "metadata": {},
   "outputs": [],
   "source": [
    "foo() := x$\n",
    "\n",
    "bar() := block(\n",
    "    [x: \"dynamically scoped\"],\n",
    "    foo()\n",
    ")$\n",
    "\n",
    "x: \"lexically scoped\"$\n",
    "bar();"
   ]
  },
  {
   "cell_type": "markdown",
   "id": "b8f82924",
   "metadata": {},
   "source": [
    "The behavior is the same with `foo()` substituted by `x`."
   ]
  },
  {
   "cell_type": "code",
   "execution_count": null,
   "id": "f0e3358b",
   "metadata": {},
   "outputs": [],
   "source": [
    "bar() := block(\n",
    "    [x: \"dynamically scoped\"],\n",
    "    x\n",
    ")$\n",
    "\n",
    "x: \"lexically scoped\"$\n",
    "bar();"
   ]
  },
  {
   "cell_type": "markdown",
   "id": "6e05457e",
   "metadata": {},
   "source": [
    "For dynamic scoping, the function `foo()` takes last value assigned to `x` in previous function calls. This is not the same as treating `x` as global inside the definition of `bar()`. The global variable `x` in the above code retains its original value:"
   ]
  },
  {
   "cell_type": "code",
   "execution_count": null,
   "id": "122d27b7",
   "metadata": {},
   "outputs": [],
   "source": [
    "x;"
   ]
  }
 ],
 "metadata": {
  "kernelspec": {
   "display_name": "Maxima",
   "language": "maxima",
   "name": "maxima"
  }
 },
 "nbformat": 4,
 "nbformat_minor": 5
}
