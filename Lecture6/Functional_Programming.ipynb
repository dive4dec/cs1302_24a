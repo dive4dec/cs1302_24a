{
 "cells": [
  {
   "cell_type": "markdown",
   "id": "dfb77707",
   "metadata": {
    "cell_style": "center",
    "slideshow": {
     "slide_type": "slide"
    }
   },
   "source": [
    "---\n",
    "title: Functional Programming\n",
    "abstract: |\n",
    "    In this notebook, we explore key techniques in functional programming, with a particular emphasis on recursion. Recursion exemplifies code reuse by defining a function in terms of itself, allowing for elegant, declarative solutions to complex problems using a divide-and-conquer approach. However, readers will also learn about the potential inefficiencies of recursion due to redundant computations of subproblem solutions. To address these inefficiencies, we introduce the concept of using function states to simplify calculations, while discussing the pitfalls of global variables and their impact on program predictability. Finally, we delve into the idea of encapsulation through closures, paving the way for an understanding of object-oriented programming principles.\n",
    "---"
   ]
  },
  {
   "cell_type": "code",
   "execution_count": null,
   "id": "91799829",
   "metadata": {},
   "outputs": [],
   "source": [
    "from __init__ import install_dependencies\n",
    "\n",
    "await install_dependencies()"
   ]
  },
  {
   "cell_type": "code",
   "execution_count": null,
   "id": "5e58cd08",
   "metadata": {
    "slideshow": {
     "slide_type": "fragment"
    },
    "tags": [
     "remove-cell"
    ]
   },
   "outputs": [],
   "source": [
    "%load_ext divewidgets\n",
    "%load_ext jupyter_ai\n",
    "%ai update chatgpt dive:chat"
   ]
  },
  {
   "cell_type": "markdown",
   "id": "bb885a13",
   "metadata": {
    "hide_input": true,
    "slideshow": {
     "slide_type": "slide"
    }
   },
   "source": [
    "## Recursion"
   ]
  },
  {
   "cell_type": "markdown",
   "id": "10faf27b",
   "metadata": {},
   "source": [
    "To motivate the idea of programming using functions, consider the problem of computing the greatest common divisor:"
   ]
  },
  {
   "cell_type": "markdown",
   "id": "84bfaf76",
   "metadata": {},
   "source": [
    "::::{prf:definition} gcd\n",
    ":label: def:gcd\n",
    "\n",
    "The greatest commond divisor $\\operatorname{gcd}(a, b)$ of two integers $a$ and $b$ is the largest integer $c$ that divides both $a$ and $b$. By convention, $\\operatorname{gcd}(0,0) = 0$.\n",
    "\n",
    "::::"
   ]
  },
  {
   "cell_type": "markdown",
   "id": "a0ff19f2",
   "metadata": {
    "slideshow": {
     "slide_type": "subslide"
    }
   },
   "source": [
    "::::{exercise}\n",
    ":label: ex:gcd \n",
    "\n",
    "Implement the function `gcd(a, b)` to return the greatest common divisor of the integers `a` and `b`.\n",
    "\n",
    "::::"
   ]
  },
  {
   "cell_type": "code",
   "execution_count": null,
   "id": "01b33fc8",
   "metadata": {
    "deletable": false,
    "nbgrader": {
     "cell_type": "code",
     "checksum": "3a0f4e03835d4931b70628ce81930a98",
     "grade": false,
     "grade_id": "gcd",
     "locked": false,
     "schema_version": 3,
     "solution": true,
     "task": false
    },
    "slideshow": {
     "slide_type": "-"
    }
   },
   "outputs": [],
   "source": [
    "%%optlite -r -h 600\n",
    "def gcd(a, b):\n",
    "    # YOUR CODE HERE\n",
    "    raise NotImplementedError\n",
    "\n",
    "\n",
    "print(gcd(3 * 5, 5 * 7))"
   ]
  },
  {
   "cell_type": "code",
   "execution_count": null,
   "id": "d7a90f7e",
   "metadata": {
    "deletable": false,
    "editable": false,
    "nbgrader": {
     "cell_type": "code",
     "checksum": "ac86c1618760848eaf722a8869645abb",
     "grade": true,
     "grade_id": "test-gcd",
     "locked": true,
     "points": 0,
     "schema_version": 3,
     "solution": false,
     "task": false
    }
   },
   "outputs": [],
   "source": [
    "# tests\n",
    "assert gcd(3 * 5, 5 * 7) == 5\n",
    "assert gcd(1302, 0) == gcd(0, 1302) == 1302\n",
    "assert gcd(0, 0) == 0\n",
    "assert gcd(10**10, 10**10 + 1) == 1"
   ]
  },
  {
   "cell_type": "markdown",
   "id": "9aa660e6",
   "metadata": {},
   "source": [
    "One may implement [](#def:gcd) directly using a for loop as follows:"
   ]
  },
  {
   "cell_type": "code",
   "execution_count": null,
   "id": "0b4cea4e",
   "metadata": {},
   "outputs": [],
   "source": [
    "def gcd(a, b):\n",
    "    if a and b:\n",
    "        for d in range(min(abs(a), abs(b)), 0, -1):\n",
    "            if a % d == b % d == 0:\n",
    "                return d\n",
    "    return abs(a) or abs(b)\n",
    "\n",
    "\n",
    "print(gcd(3 * 5, 5 * 7))"
   ]
  },
  {
   "cell_type": "markdown",
   "id": "473e6856",
   "metadata": {},
   "source": [
    "Unfortunately, the implementation is inefficient: It will take a long time to run the following test case:"
   ]
  },
  {
   "cell_type": "code",
   "execution_count": null,
   "id": "b3d59288",
   "metadata": {},
   "outputs": [],
   "source": [
    "if input('Run test? [Y/n]').lower() != 'n':\n",
    "    assert gcd(10**10, 10**10 + 1) == 1"
   ]
  },
  {
   "cell_type": "markdown",
   "id": "f1765d5f",
   "metadata": {},
   "source": [
    "A more efficient way to compute gcd is as follows:"
   ]
  },
  {
   "cell_type": "markdown",
   "id": "09a95645",
   "metadata": {
    "slideshow": {
     "slide_type": "subslide"
    }
   },
   "source": [
    "::::{prf:proposition} [Euclidean algorithm for gcd](https://en.wikipedia.org/wiki/Euclidean_algorithm)\n",
    ":label: pro:gcd \n",
    "\n",
    "The gcd in [](#def:gcd) satisfies the following recurrence relation\n",
    "\n",
    "$$\n",
    "\\operatorname{gcd}(a,b)\n",
    "&= \\operatorname{gcd}(b, a\\operatorname{mod}b)\n",
    "$$ (eq:gcd)\n",
    "\n",
    "except for the base case $\\operatorname{gcd}(a, 0)=a$.[^gcd]\n",
    "\n",
    "::::\n",
    "\n",
    "[^gcd]: What about the other base case $\\operatorname{gcd}(0, b)$?"
   ]
  },
  {
   "cell_type": "markdown",
   "id": "c6e8fb90",
   "metadata": {},
   "source": [
    "::::{prf:proof}\n",
    ":class: dropdown\n",
    ":nonumber:\n",
    "\n",
    "The base case holds trivially and $\\operatorname{gcd}(a, b)=\\operatorname{gcd}(b, a)$, so it suffices to show that any common factor of $a$ and $b$ must divide $r:=a\\operatorname{mod}b$, if $b\\neq 0$. To this end, suppose $c$ is the common factor. Then, for some integers $q_0, q_1, q_2$:\n",
    "\n",
    "\\begin{align}\n",
    "r &\\stackrel{\\text{(a)}}= \\underbrace{a}_{\\stackrel{\\text{(b)}}=q_1 c} - \\underbrace{b}_{\\stackrel{\\text{(c)}}=q_2 c} q_0\\\\\n",
    "&= (q_1-q_2 q_0) c\n",
    "\\end{align}\n",
    "\n",
    "which is divisible by $c$ as desired. (Can you explain the equalities $\\text{(a)--(c)}$?\n",
    "\n",
    "::::"
   ]
  },
  {
   "cell_type": "markdown",
   "id": "734958c7",
   "metadata": {},
   "source": [
    "How to implement [](#eq:gcd)? Can we define `gcd` using `gcd`?"
   ]
  },
  {
   "cell_type": "markdown",
   "id": "a2ec32f2",
   "metadata": {},
   "source": [
    "::::{exercise}\n",
    ":label: ex:base-case\n",
    "\n",
    "The following is a nearly correct implementation of [](#def:gcd) except for a common mistake that often results in an infinite loop/recursion.\n",
    "\n",
    "::::"
   ]
  },
  {
   "cell_type": "code",
   "execution_count": null,
   "id": "e66b637d",
   "metadata": {},
   "outputs": [],
   "source": [
    "%%optlite -h 600\n",
    "def gcd(a, b):\n",
    "    return gcd(a % b, b)\n",
    "\n",
    "\n",
    "print(gcd(3 * 5, 5 * 7))"
   ]
  },
  {
   "cell_type": "markdown",
   "id": "c13e7a07",
   "metadata": {
    "deletable": false,
    "nbgrader": {
     "cell_type": "markdown",
     "checksum": "a910207300c8a811af44d278ff4db93a",
     "grade": true,
     "grade_id": "base-case",
     "locked": false,
     "points": 0,
     "schema_version": 3,
     "solution": true,
     "task": false
    }
   },
   "source": [
    "YOUR ANSWER HERE"
   ]
  },
  {
   "cell_type": "markdown",
   "id": "53cc43e6",
   "metadata": {},
   "source": [
    "::::{seealso} Recursion\n",
    "\n",
    "A function that calls itself (*recurs*) is known as a [*recursion*](https://en.wikipedia.org/wiki/Recursion_(computer_science)). In Python, as well as in most of the modern programming languages, it is perfectly legitimate to define such a function. This technique allows us to reuse the code within the function to define the function itself, taking code reuse to the extreme!\n",
    "\n",
    "- Recursion is often shorter and easier to understand. It can provide *elegant* solutions to complex problems.\n",
    "- Recursion can be easier to write code by *wishful thinking* or *[declarative programming](https://en.wikipedia.org/wiki/Declarative_programming)* as supposed to [imperative programming](https://en.wikipedia.org/wiki/Imperative_programming).\n",
    "\n",
    "::::"
   ]
  },
  {
   "cell_type": "code",
   "execution_count": null,
   "id": "22e104ab",
   "metadata": {},
   "outputs": [],
   "source": [
    "%%ai chatgpt -f text\n",
    "Using Eclidean algorithm for gcd, explain in one paragraph or two how to come up with a recursion that solves a problem by divide-and-conquer."
   ]
  },
  {
   "cell_type": "code",
   "execution_count": null,
   "id": "f46f63ae",
   "metadata": {},
   "outputs": [],
   "source": [
    "%%ai chatgpt -f text\n",
    "Describe in one paragraph how recursion got adopted in programming."
   ]
  },
  {
   "cell_type": "markdown",
   "id": "02014b8b",
   "metadata": {},
   "source": [
    "## Recursion vs Iteration"
   ]
  },
  {
   "cell_type": "markdown",
   "id": "c283eaa6",
   "metadata": {},
   "source": [
    "**Is recursion always better than iteration?**"
   ]
  },
  {
   "cell_type": "markdown",
   "id": "ca012c0a",
   "metadata": {
    "slideshow": {
     "slide_type": "fragment"
    }
   },
   "source": [
    "Consider computing the [Fibonacci number](https://en.wikipedia.org/wiki/Fibonacci_number) of order $n$, which is even defined in a recursive manner:[^fib]\n",
    "\n",
    "$$\n",
    "F_n := \n",
    "\\begin{cases}\n",
    "F_{n-1}+F_{n-2} & n>1 \\kern1em \\text{(recurrence)}\\\\\n",
    "1 & n=1 \\kern1em \\text{(base case)}\\\\\n",
    "0 & n=0 \\kern1em \\text{(base case)}.\n",
    "\\end{cases}\n",
    "$$\n",
    "\n",
    "[^fib]: Fibonacci numbers have practical applications in generating [pseudorandom numbers](https://en.wikipedia.org/wiki/Lagged_Fibonacci_generator)."
   ]
  },
  {
   "cell_type": "code",
   "execution_count": null,
   "id": "7ce96f42",
   "metadata": {},
   "outputs": [],
   "source": [
    "%%ai chatgpt -f text\n",
    "Describe what the fibonacci number is in one sentence and list three most important applications of the Fibonacci number in bullet points."
   ]
  },
  {
   "cell_type": "markdown",
   "id": "bfecf864",
   "metadata": {},
   "source": [
    "The following function `fibonacci(n)` implements $F_n$ naturally as a recursion:"
   ]
  },
  {
   "cell_type": "code",
   "execution_count": null,
   "id": "eada18cf",
   "metadata": {
    "code_folding": [],
    "slideshow": {
     "slide_type": "fragment"
    }
   },
   "outputs": [],
   "source": [
    "%%optlite -r -h 450\n",
    "def fibonacci(n):\n",
    "    if n > 1:\n",
    "        return fibonacci(n - 1) + fibonacci(n - 2)  # recursion\n",
    "    elif n == 1:\n",
    "        return 1\n",
    "    else:\n",
    "        return 0\n",
    "\n",
    "\n",
    "print(fibonacci(2))"
   ]
  },
  {
   "cell_type": "markdown",
   "id": "31f24ae0",
   "metadata": {
    "slideshow": {
     "slide_type": "fragment"
    }
   },
   "source": [
    "::::{exercise}\n",
    ":label: ex:fibonacci_effficiency\n",
    "\n",
    "Find the smallest values of `n` for `fibonacci(n)` and `fibonacci_iteration(n)` respectively to run for more than a second.\n",
    "\n",
    ":::{hint}\n",
    ":class: dropdown\n",
    "\n",
    "Simply assign `n` an appropriate value by observing the running time reported by the `timeit` magic. You can run `%timeit?` to see the docstring.\n",
    ":::\n",
    "\n",
    "::::"
   ]
  },
  {
   "cell_type": "code",
   "execution_count": null,
   "id": "8b589e4d",
   "metadata": {
    "deletable": false,
    "nbgrader": {
     "cell_type": "code",
     "checksum": "971c8a9abe667cd03a4750c00a8b7965",
     "grade": false,
     "grade_id": "fib_recursion",
     "locked": false,
     "schema_version": 3,
     "solution": true,
     "task": false
    }
   },
   "outputs": [],
   "source": [
    "# Assign n the appropriate value\n",
    "# YOUR CODE HERE\n",
    "raise NotImplementedError\n",
    "n"
   ]
  },
  {
   "cell_type": "code",
   "execution_count": null,
   "id": "c9dc06be",
   "metadata": {
    "slideshow": {
     "slide_type": "fragment"
    },
    "tags": [
     "remove-output"
    ]
   },
   "outputs": [],
   "source": [
    "%%timeit -n 1 -r 1\n",
    "fibonacci(n)"
   ]
  },
  {
   "cell_type": "code",
   "execution_count": null,
   "id": "f721d4b6",
   "metadata": {
    "deletable": false,
    "editable": false,
    "nbgrader": {
     "cell_type": "code",
     "checksum": "3f7073f176c5743abce3c48b19bbe431",
     "grade": true,
     "grade_id": "htest-fib_recursion",
     "locked": true,
     "points": 0,
     "schema_version": 3,
     "solution": false,
     "task": false
    }
   },
   "outputs": [],
   "source": [
    "# hidden tests"
   ]
  },
  {
   "cell_type": "markdown",
   "id": "589de3e8",
   "metadata": {
    "slideshow": {
     "slide_type": "subslide"
    }
   },
   "source": [
    "**Is the recursion efficient?**"
   ]
  },
  {
   "cell_type": "markdown",
   "id": "0765c6b1",
   "metadata": {
    "slideshow": {
     "slide_type": "fragment"
    }
   },
   "source": [
    "As a comparison, the following computes the Fibonacci number using a while loop instead or a recursion."
   ]
  },
  {
   "cell_type": "code",
   "execution_count": null,
   "id": "0499e006",
   "metadata": {
    "slideshow": {
     "slide_type": "-"
    }
   },
   "outputs": [],
   "source": [
    "%%optlite -r -h 550\n",
    "def fibonacci_iteration(n):\n",
    "    if n > 1:\n",
    "        _, F = 0, 1  # next two Fibonacci numbers\n",
    "        while n > 1:\n",
    "            _, F, n = F, F + _, n - 1\n",
    "        return F\n",
    "    elif n == 1:\n",
    "        return 1\n",
    "    else:\n",
    "        return 0\n",
    "\n",
    "\n",
    "fibonacci_iteration(3)"
   ]
  },
  {
   "cell_type": "markdown",
   "id": "76ec62f8",
   "metadata": {
    "slideshow": {
     "slide_type": "fragment"
    }
   },
   "source": [
    "::::{exercise}\n",
    ":label: ex:fibonacci_iteration_efficiency\n",
    "\n",
    "Find the smallest values of `n` for `fibonacci_iteration(n)` to run for more than a second.\n",
    "\n",
    "::::"
   ]
  },
  {
   "cell_type": "code",
   "execution_count": null,
   "id": "15c04725",
   "metadata": {
    "deletable": false,
    "nbgrader": {
     "cell_type": "code",
     "checksum": "076322bdacfdd6088f2c6dace46dedb3",
     "grade": false,
     "grade_id": "fib_iteration",
     "locked": false,
     "schema_version": 3,
     "solution": true,
     "task": false
    },
    "slideshow": {
     "slide_type": "fragment"
    },
    "tags": [
     "remove-output"
    ]
   },
   "outputs": [],
   "source": [
    "# Assign n the appropriate value\n",
    "# YOUR CODE HERE\n",
    "raise NotImplementedError\n",
    "n"
   ]
  },
  {
   "cell_type": "code",
   "execution_count": null,
   "id": "050b1c90",
   "metadata": {},
   "outputs": [],
   "source": [
    "%%timeit -n 1 -r 1\n",
    "fibonacci_iteration(n)"
   ]
  },
  {
   "cell_type": "code",
   "execution_count": null,
   "id": "78b3ca54",
   "metadata": {
    "deletable": false,
    "editable": false,
    "nbgrader": {
     "cell_type": "code",
     "checksum": "24427bf88332616aaeabff0c9aa07561",
     "grade": true,
     "grade_id": "htest-fib_iteration",
     "locked": true,
     "points": 0,
     "schema_version": 3,
     "solution": false,
     "task": false
    }
   },
   "outputs": [],
   "source": [
    "# hidden tests"
   ]
  },
  {
   "cell_type": "markdown",
   "id": "7e6ebd21",
   "metadata": {
    "slideshow": {
     "slide_type": "subslide"
    }
   },
   "source": [
    "To understand the difference in performance, modify `fibonacci` to print each function call as follows."
   ]
  },
  {
   "cell_type": "code",
   "execution_count": null,
   "id": "f2e9654c",
   "metadata": {
    "slideshow": {
     "slide_type": "-"
    }
   },
   "outputs": [],
   "source": [
    "def fibonacci_verbose(n):\n",
    "    \"\"\"Returns the Fibonacci number of order n.\"\"\"\n",
    "    print(f\"fibonacci({n})\")\n",
    "    return fibonacci_verbose(n - 1) + fibonacci_verbose(n - 2) if n > 1 else 1 if n == 1 else 0\n",
    "\n",
    "\n",
    "fibonacci_verbose(5)"
   ]
  },
  {
   "cell_type": "markdown",
   "id": "06518bb9",
   "metadata": {},
   "source": [
    "::::{exercise}\n",
    ":label: ex:fib_recursion_iteration\n",
    "\n",
    "Why `fibonacci(n)` is much slower than `fibonacci_iteration(n)`?\n",
    "\n",
    "::::"
   ]
  },
  {
   "cell_type": "markdown",
   "id": "e04bd61c",
   "metadata": {
    "slideshow": {
     "slide_type": "fragment"
    }
   },
   "source": [
    "::::{solution} ex:fib_recursion_iteration\n",
    ":class: dropdown\n",
    "\n",
    "There are many redundant computations. E.g., `fibonacci(3)` is called twice because\n",
    "\n",
    "- `fibonacci(5)` calls `fibonacci(4)` and `fibonacci(3)`.\n",
    "- `fibonacci(4)` then calls `fibonacci(3)` and `fibonacci(2)`.\n",
    "\n",
    "::::"
   ]
  },
  {
   "cell_type": "markdown",
   "id": "acd3f468",
   "metadata": {},
   "source": [
    "**Setting performance considerations aside, do we really need recursion?**"
   ]
  },
  {
   "cell_type": "markdown",
   "id": "ae5bb042",
   "metadata": {},
   "source": [
    "Indeed, we can always convert a recursion to an iteration that is at least as efficient. (Why?)[^step]\n",
    "\n",
    "[^step]: A recursion is ultimately executed step-by-step with an execution stack that keeps track of the recursive calls. Such an execution esssentially converts a recursion to an iteration."
   ]
  },
  {
   "cell_type": "markdown",
   "id": "b0ad4d9e",
   "metadata": {
    "slideshow": {
     "slide_type": "fragment"
    }
   },
   "source": [
    "::::{exercise}\n",
    ":label: ex:gcd_iteration \n",
    "\n",
    "Complete the following function `gcd_iteration` to re-implement [](#pro:gcd) using a while loop instead of recursion.\n",
    "\n",
    ":::{hint}\n",
    ":class: dropdown\n",
    "See [tail recursion](https://en.wikipedia.org/wiki/Recursion_(computer_science)#Tail-recursive_functions).\n",
    ":::\n",
    "\n",
    "::::"
   ]
  },
  {
   "cell_type": "code",
   "execution_count": null,
   "id": "df4ef17b",
   "metadata": {
    "code_folding": [],
    "deletable": false,
    "nbgrader": {
     "cell_type": "code",
     "checksum": "e0bd9fbabc0fd90dbfa4f3f1769ccaa3",
     "grade": false,
     "grade_id": "gcd_iteration",
     "locked": false,
     "schema_version": 3,
     "solution": true,
     "task": false
    },
    "slideshow": {
     "slide_type": "-"
    }
   },
   "outputs": [],
   "source": [
    "%%optlite -r -h 550\n",
    "def gcd_iteration(a, b):\n",
    "    # YOUR CODE HERE\n",
    "    raise NotImplementedError\n",
    "\n",
    "\n",
    "gcd_iteration(3 * 5, 5 * 7)"
   ]
  },
  {
   "cell_type": "code",
   "execution_count": null,
   "id": "d71af089",
   "metadata": {},
   "outputs": [],
   "source": [
    "%%ai chatgpt -f text\n",
    "Explain in one paragraph what a tail recursion is and how to convert a tail recursion to an iteration."
   ]
  },
  {
   "cell_type": "code",
   "execution_count": null,
   "id": "f56f8926",
   "metadata": {},
   "outputs": [],
   "source": [
    "%%ai chatgpt -f text\n",
    "Explain in one paragraph how non-tail recursive functions can be significantly slower than their iterative counterparts."
   ]
  },
  {
   "cell_type": "markdown",
   "id": "8881f661",
   "metadata": {
    "slideshow": {
     "slide_type": "slide"
    }
   },
   "source": [
    "## Global Variables"
   ]
  },
  {
   "cell_type": "markdown",
   "id": "8da1cc42",
   "metadata": {
    "slideshow": {
     "slide_type": "fragment"
    }
   },
   "source": [
    "Suppose our task is to print the entire sequence of Fibonacci numbers up to certain order such as:"
   ]
  },
  {
   "cell_type": "code",
   "execution_count": null,
   "id": "aeec60be",
   "metadata": {
    "slideshow": {
     "slide_type": "-"
    }
   },
   "outputs": [],
   "source": [
    "for n in range(10):\n",
    "    print(fibonacci_iteration(n))"
   ]
  },
  {
   "cell_type": "markdown",
   "id": "2dd53c6a",
   "metadata": {
    "slideshow": {
     "slide_type": "fragment"
    }
   },
   "source": [
    "::::{exercise}\n",
    ":label: ex:efficient \n",
    "\n",
    "The above loop is inefficient. Why?\n",
    "\n",
    "::::"
   ]
  },
  {
   "cell_type": "markdown",
   "id": "8ce689bc",
   "metadata": {
    "deletable": false,
    "nbgrader": {
     "cell_type": "markdown",
     "checksum": "4aca3d593aebd21e8525115c0f1ba7ac",
     "grade": true,
     "grade_id": "fibonacci_sequence",
     "locked": false,
     "points": 0,
     "schema_version": 3,
     "solution": true,
     "task": false
    },
    "slideshow": {
     "slide_type": "fragment"
    }
   },
   "source": [
    "YOUR ANSWER HERE"
   ]
  },
  {
   "cell_type": "markdown",
   "id": "3a862e23",
   "metadata": {
    "slideshow": {
     "slide_type": "fragment"
    }
   },
   "source": [
    "**How to avoid redundant computations?**"
   ]
  },
  {
   "cell_type": "markdown",
   "id": "a996e583",
   "metadata": {
    "slideshow": {
     "slide_type": "fragment"
    }
   },
   "source": [
    "One way is to store the last two computed Fibonacci numbers as *global* variables."
   ]
  },
  {
   "cell_type": "code",
   "execution_count": null,
   "id": "a7a8b73a",
   "metadata": {
    "code_folding": [],
    "slideshow": {
     "slide_type": "-"
    }
   },
   "outputs": [],
   "source": [
    "%%optlite -r -h 700\n",
    "Fn, Fnn, n = 0, 1, 0  # global variables\n",
    "\n",
    "\n",
    "def print_fibonacci_state():\n",
    "    print(\n",
    "        f\"\"\"Global states:\n",
    "    Fn  : Next Fibonacci number      = {Fn}\n",
    "    Fnn : Next next Fibonacci number = {Fnn}\n",
    "    n   : Next order                 = {n}\"\"\"\n",
    "    )\n",
    "\n",
    "\n",
    "def next_fibonacci():\n",
    "    global Fn, Fnn, n  # global declaration\n",
    "    value, Fn, Fnn, n = Fn, Fnn, Fn + Fnn, n + 1\n",
    "    return value\n",
    "\n",
    "\n",
    "for i in range(5):\n",
    "    print(next_fibonacci())\n",
    "print_fibonacci_state()"
   ]
  },
  {
   "cell_type": "markdown",
   "id": "214a77a0",
   "metadata": {
    "slideshow": {
     "slide_type": "fragment"
    }
   },
   "source": [
    "::::{seealso} Rules for [*global/local variables*](https://docs.python.org/3/faq/programming.html#what-are-the-rules-for-local-and-global-variables-in-python)\n",
    "\n",
    "1. A local variable must be defined within a function.\n",
    "1. An assignment defines a local variable except after a [`global` statement](https://docs.python.org/3/reference/simple_stmts.html#the-global-statement).\n",
    "::::"
   ]
  },
  {
   "cell_type": "markdown",
   "id": "84b2c1a1",
   "metadata": {
    "slideshow": {
     "slide_type": "fragment"
    }
   },
   "source": [
    "::::{note} **Why `global` is NOT needed in `print_fibonacci_state`?**\n",
    ":class: dropdown\n",
    "\n",
    "Without ambiguity, `Fn, Fnn, n` in `print_fibonacci_state` are not local variables by Rule 1 because they are not defined within the function.\n",
    "\n",
    "::::"
   ]
  },
  {
   "cell_type": "markdown",
   "id": "6788f0e2",
   "metadata": {
    "slideshow": {
     "slide_type": "fragment"
    }
   },
   "source": [
    "**Why `global` is needed in `next_fibonacci`?**"
   ]
  },
  {
   "cell_type": "markdown",
   "id": "0b30aa33",
   "metadata": {
    "slideshow": {
     "slide_type": "fragment"
    }
   },
   "source": [
    "What would happen if the `global` statement is removed?"
   ]
  },
  {
   "cell_type": "code",
   "execution_count": null,
   "id": "aa282cd4",
   "metadata": {
    "slideshow": {
     "slide_type": "-"
    }
   },
   "outputs": [],
   "source": [
    "%%optlite -h 400\n",
    "def next_fibonacci():\n",
    "    \"\"\"Returns the next Fibonacci number.\"\"\"\n",
    "    # global Fn, Fnn, n\n",
    "    value = n\n",
    "    n, Fnn, n = Fnn, n + Fnn, n + 1\n",
    "    return value\n",
    "\n",
    "\n",
    "next_fibonacci()"
   ]
  },
  {
   "cell_type": "markdown",
   "id": "ad61c058",
   "metadata": {
    "slideshow": {
     "slide_type": "fragment"
    }
   },
   "source": [
    "`UnboundLocalError` is raised (as supposed to `NameError`) because\n",
    "\n",
    "- the assignment in Line 5 defines `n` as a local variable by Rule 2, but\n",
    "- the assignment in Line 4 references `n`, which is not yet defined at that point."
   ]
  },
  {
   "cell_type": "markdown",
   "id": "0215f8ef",
   "metadata": {
    "slideshow": {
     "slide_type": "fragment"
    }
   },
   "source": [
    "Consider rewriting the for loop as a while loop:"
   ]
  },
  {
   "cell_type": "code",
   "execution_count": null,
   "id": "b96e6aa3",
   "metadata": {
    "code_folding": [],
    "slideshow": {
     "slide_type": "-"
    }
   },
   "outputs": [],
   "source": [
    "%%optlite -h 650\n",
    "Fn, Fnn, n = 0, 1, 0  # global variables\n",
    "\n",
    "\n",
    "def print_fibonacci_state():\n",
    "    print(\n",
    "        f\"\"\"Global states:\n",
    "    Fn  : Next Fibonacci number      = {Fn}\n",
    "    Fnn : Next next Fibonacci number = {Fnn}\n",
    "    n   : Next order                 = {n}\"\"\"\n",
    "    )\n",
    "\n",
    "\n",
    "def next_fibonacci():\n",
    "    \"\"\"Returns the next Fibonacci number.\"\"\"\n",
    "    global Fn, Fnn, n  # global declaration\n",
    "    value, Fn, Fnn, n = Fn, Fnn, Fn + Fnn, n + 1\n",
    "    return value\n",
    "\n",
    "\n",
    "n = 0\n",
    "while n < 5:\n",
    "    print(next_fibonacci())\n",
    "    n += 1\n",
    "print_fibonacci_state()"
   ]
  },
  {
   "cell_type": "markdown",
   "id": "89aa6c0b",
   "metadata": {
    "slideshow": {
     "slide_type": "fragment"
    }
   },
   "source": [
    "::::{exercise}\n",
    ":label: ex:bug \n",
    "\n",
    "Why does the while loop print only 3 numbers instead of 5 Fibonacci numbers?\n",
    "\n",
    "::::"
   ]
  },
  {
   "cell_type": "markdown",
   "id": "b3a10b01",
   "metadata": {
    "deletable": false,
    "nbgrader": {
     "cell_type": "markdown",
     "checksum": "db30dee19cf16202ccc23ee7c038da57",
     "grade": true,
     "grade_id": "global_bug",
     "locked": false,
     "points": 0,
     "schema_version": 3,
     "solution": true,
     "task": false
    },
    "slideshow": {
     "slide_type": "-"
    }
   },
   "source": [
    "YOUR ANSWER HERE"
   ]
  },
  {
   "cell_type": "markdown",
   "id": "d173e728",
   "metadata": {
    "slideshow": {
     "slide_type": "subslide"
    }
   },
   "source": [
    "To avoid such error, a convention in python is to use a leading underscore for variable names that are [*private*](https://www.python.org/dev/peps/pep-0008) (for internal use):  \n",
    "> _single_leading_underscore: weak \"internal use\" indicator. E.g., from M import * does not import objects whose names start with an underscore."
   ]
  },
  {
   "cell_type": "code",
   "execution_count": null,
   "id": "fc3383c8",
   "metadata": {
    "slideshow": {
     "slide_type": "-"
    }
   },
   "outputs": [],
   "source": [
    "%%optlite -h 600\n",
    "_Fn, _Fnn, _n = 0, 1, 0  # global variables\n",
    "\n",
    "\n",
    "def print_fibonacci_state():\n",
    "    print(\n",
    "        f\"\"\"Global states:\n",
    "    _Fn  : Next Fibonacci number      = {_Fn}\n",
    "    _Fnn : Next next Fibonacci number = {_Fnn}\n",
    "    _n   : Next order                 = {_n}\"\"\"\n",
    "    )\n",
    "\n",
    "\n",
    "def next_fibonacci():\n",
    "    \"\"\"Returns the next Fibonacci number.\"\"\"\n",
    "    global _Fn, _Fnn, _n  # global declaration\n",
    "    value, _Fn, _Fnn, _n = _Fn, _Fnn, _Fn + _Fnn, _n + 1\n",
    "    return value\n",
    "\n",
    "\n",
    "n = 0\n",
    "while n < 5:\n",
    "    print(next_fibonacci())\n",
    "    n += 1\n",
    "print_fibonacci_state()"
   ]
  },
  {
   "cell_type": "markdown",
   "id": "5d4d001e",
   "metadata": {
    "slideshow": {
     "slide_type": "subslide"
    }
   },
   "source": [
    "::::{important} What is wrong with global variable?\n",
    "\n",
    "Using global variables,\n",
    "- codes are less predictable, more difficult to reuse/extend, and\n",
    "- tests cannot be isolated, making debugging difficult.\n",
    "::::"
   ]
  },
  {
   "cell_type": "markdown",
   "id": "6560de1b",
   "metadata": {},
   "source": [
    "## Closure"
   ]
  },
  {
   "cell_type": "markdown",
   "id": "b086a9f2",
   "metadata": {
    "slideshow": {
     "slide_type": "subslide"
    }
   },
   "source": [
    "**Is it possible to store the function states without using global variables?**"
   ]
  },
  {
   "cell_type": "markdown",
   "id": "7589537e",
   "metadata": {
    "slideshow": {
     "slide_type": "fragment"
    }
   },
   "source": [
    "We can use nested functions and [`nonlocal` variables](https://docs.python.org/3/reference/simple_stmts.html#the-nonlocal-statement)."
   ]
  },
  {
   "cell_type": "code",
   "execution_count": null,
   "id": "f711a526",
   "metadata": {
    "code_folding": [],
    "slideshow": {
     "slide_type": "-"
    }
   },
   "outputs": [],
   "source": [
    "def create_fibonacci(Fn, Fnn):\n",
    "    def next_fibonacci():\n",
    "        \"\"\"Returns the next (generalized) Fibonacci number starting with\n",
    "        Fn and Fnn as the first two numbers.\"\"\"\n",
    "        nonlocal Fn, Fnn, n  # declare nonlocal variables\n",
    "        value = Fn\n",
    "        Fn, Fnn, n = Fnn, Fn + Fnn, n + 1\n",
    "        return value\n",
    "\n",
    "    def print_fibonacci_state():\n",
    "        print(\n",
    "            \"\"\"States:\n",
    "        Next Fibonacci number      = {}\n",
    "        Next next Fibonacci number = {}\n",
    "        Next order                 = {}\"\"\".format(\n",
    "                Fn, Fnn, n\n",
    "            )\n",
    "        )\n",
    "\n",
    "    n = 0  # Fn and Fnn specified in the function arguments\n",
    "    return next_fibonacci, print_fibonacci_state\n",
    "\n",
    "\n",
    "next_fibonacci, print_fibonacci_state = create_fibonacci(0, 1)\n",
    "n = 0\n",
    "while n < 5:\n",
    "    print(next_fibonacci())\n",
    "    n += 1\n",
    "print_fibonacci_state()"
   ]
  },
  {
   "cell_type": "markdown",
   "id": "dab83472",
   "metadata": {
    "slideshow": {
     "slide_type": "fragment"
    }
   },
   "source": [
    "The state variables `Fn`, `Fnn`, and `n` are now [*encapsulated*](https://en.wikipedia.org/wiki/Encapsulation_(computer_programming)), meaning they are contained within the *scope* of the `create_fibonacci` function, i.e., \n",
    "- they are not exposed globally, unlike the global variables, but\n",
    "- they are accessible by the inner functions of `create_fibonacci`."
   ]
  },
  {
   "cell_type": "markdown",
   "id": "0b88a0a3",
   "metadata": {},
   "source": [
    "The encapsulation allows us to create multiple Fibonacci sequences with different base cases independently without interfering with each others:"
   ]
  },
  {
   "cell_type": "code",
   "execution_count": null,
   "id": "b5ae66aa",
   "metadata": {},
   "outputs": [],
   "source": [
    "usual_fib = create_fibonacci(0, 1)\n",
    "cs1302_fib = create_fibonacci(\"cs\", \"1302\")\n",
    "for n in range(3):\n",
    "    print(usual_fib[0]())\n",
    "    usual_fib[1]()\n",
    "    print(cs1302_fib[0]())\n",
    "    cs1302_fib[1]()"
   ]
  },
  {
   "cell_type": "markdown",
   "id": "60a15d93",
   "metadata": {},
   "source": [
    "`next_fibonacci` and `print_fibonacci_state` are *local functions* of `create_fibonacci`:\n",
    "\n",
    "- Local functions can access (*capture*) the other local variables of `create_fibonacci` by forming the so-called *closures*. Each local function has an attribute named `__closure__` that stores the captured local variables.\n",
    "- Similar to the `global` statement, a [`nonlocal` statement](https://docs.python.org/3/reference/simple_stmts.html#the-nonlocal-statement) is needed for assigning non-local variables."
   ]
  },
  {
   "cell_type": "code",
   "execution_count": null,
   "id": "1de3edf2",
   "metadata": {
    "slideshow": {
     "slide_type": "-"
    }
   },
   "outputs": [],
   "source": [
    "def print_closure(f):\n",
    "    \"\"\"Print the closure of a function.\"\"\"\n",
    "    print(\"closure of \", f.__name__)\n",
    "    for cell in f.__closure__:\n",
    "        print(\"    {} content: {!r}\".format(cell, cell.cell_contents))\n",
    "\n",
    "\n",
    "print_closure(next_fibonacci)\n",
    "print_closure(print_fibonacci_state)"
   ]
  },
  {
   "cell_type": "markdown",
   "id": "47c1fde2",
   "metadata": {
    "slideshow": {
     "slide_type": "fragment"
    }
   },
   "source": [
    "::::{seealso} Lexical/static scoping\n",
    "\n",
    "[Lexical scoping](https://en.wikipedia.org/wiki/Scope_(computer_science)#Lexical_scope) is a key concept that allows local functions to capture and remember the scope in which they were created. When a local function is defined inside another function, it forms a closure that retains access to the variables in the outer function’s scope, even after the outer function has finished executing. This is possible because the function's `__closure__` attribute stores references to these variables. By using the `nonlocal` statement, you can modify these captured variables from within the local function, providing a flexible and powerful way to manage state and behavior in your programs.\n",
    "\n",
    "::::"
   ]
  },
  {
   "cell_type": "markdown",
   "id": "a60b2560",
   "metadata": {},
   "source": [
    "Lexical scoping can sometimes be counter-intuitive:"
   ]
  },
  {
   "cell_type": "code",
   "execution_count": null,
   "id": "be822768",
   "metadata": {},
   "outputs": [],
   "source": [
    "def foo():\n",
    "    return x\n",
    "\n",
    "\n",
    "def bar():\n",
    "    x = \"dynamically scoped\"\n",
    "    # NOT the same as:\n",
    "    # return x\n",
    "    return foo()  \n",
    "\n",
    "\n",
    "x = \"lexically scoped\"\n",
    "bar()"
   ]
  },
  {
   "cell_type": "markdown",
   "id": "ea437303",
   "metadata": {},
   "source": [
    "Try re-excuting the above code after uncommenting the line `# return x`. Even though `foo()` returns `x`, the line `return foo()` is not the same as `return x`, i.e., one cannot simply substitute `foo()` by `x`. To understand lexical scoping, compare it with dynamic scoping illustrated by [this Maxima notebook](Dynamic_Scoping_Demo.ipynb)."
   ]
  },
  {
   "cell_type": "code",
   "execution_count": null,
   "id": "81c8ed9d",
   "metadata": {},
   "outputs": [],
   "source": [
    "%%ai chatgpt -f text\n",
    "Explain in one paragraph the differences between lexical scoping and dynamic scoping, and why Python implements the prior."
   ]
  },
  {
   "cell_type": "markdown",
   "id": "a551ddbb",
   "metadata": {},
   "source": [
    "Lexical scoping is a powerful concept that can be leveraged to implement object-oriented programming. For example, we can rewrite `create_fibonacci` to return a Fibonacci object as shown below:"
   ]
  },
  {
   "cell_type": "code",
   "execution_count": null,
   "id": "383a8d1f",
   "metadata": {},
   "outputs": [],
   "source": [
    "def create_fibonacci(Fn, Fnn):\n",
    "    def next():\n",
    "        \"\"\"Returns the next (generalized) Fibonacci number starting with\n",
    "        Fn and Fnn as the first two numbers.\"\"\"\n",
    "        nonlocal Fn, Fnn, n\n",
    "        value = Fn\n",
    "        Fn, Fnn, n = Fnn, Fn + Fnn, n + 1\n",
    "        return value\n",
    "\n",
    "    def self():  # make the return object callable to replace print_fibonacci_state\n",
    "        print(\n",
    "            \"\"\"States:\n",
    "        Next Fibonacci number      = {}\n",
    "        Next next Fibonacci number = {}\n",
    "        Next order                 = {}\"\"\".format(\n",
    "                Fn, Fnn, n\n",
    "            )\n",
    "        )\n",
    "\n",
    "    n = 0\n",
    "\n",
    "    self.next = next  # add next as an attribute of self\n",
    "    return self       # to be returned\n",
    "\n",
    "\n",
    "fib = create_fibonacci(0, 1)\n",
    "n = 0\n",
    "while n < 5:\n",
    "    print(fib.next())\n",
    "    n += 1\n",
    "fib()"
   ]
  },
  {
   "cell_type": "markdown",
   "id": "2cfa24b4",
   "metadata": {},
   "source": [
    "The `create_fibonacci` function returns the `self` function, which has access to the `next` function and other internal states of the `create_fibonacci` function. To create multiple Fibonacci objects:"
   ]
  },
  {
   "cell_type": "code",
   "execution_count": null,
   "id": "bd648a8c",
   "metadata": {},
   "outputs": [],
   "source": [
    "usual_fib = create_fibonacci(0, 1)\n",
    "cs1302_fib = create_fibonacci(\"cs\", \"1302\")\n",
    "for n in range(3):\n",
    "    print(usual_fib.next())\n",
    "    usual_fib()\n",
    "    print(cs1302_fib.next())\n",
    "    cs1302_fib()"
   ]
  },
  {
   "cell_type": "markdown",
   "id": "8221e4c6",
   "metadata": {},
   "source": [
    "As the above code shows, closures enable an object-oriented programming approach by allowing the creation of objects that share methods but maintain distinct attribute values."
   ]
  },
  {
   "cell_type": "code",
   "execution_count": null,
   "id": "d7f670d6",
   "metadata": {},
   "outputs": [],
   "source": [
    "%%ai chatgpt -f text\n",
    "Explain in one paragraph the importance of closures in programming and why they are called closures."
   ]
  }
 ],
 "metadata": {
  "kernelspec": {
   "display_name": "Python 3 (ipykernel)",
   "language": "python",
   "name": "python3"
  }
 },
 "nbformat": 4,
 "nbformat_minor": 5
}
