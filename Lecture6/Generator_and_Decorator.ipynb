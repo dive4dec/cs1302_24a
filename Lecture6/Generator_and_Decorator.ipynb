{
 "cells": [
  {
   "cell_type": "markdown",
   "id": "75143715",
   "metadata": {
    "cell_style": "center",
    "slideshow": {
     "slide_type": "slide"
    }
   },
   "source": [
    "---\n",
    "title: Generator and Decorator\n",
    "abstract: |\n",
    "    This notebook delves deeper into functional programming techniques, covering the syntax for generators and the design patterns for decorators. Along the way, readers will also explore how to specify positional and keyword arguments in function definitions, as well as how to use default arguments and handle variable numbers of arguments. Finally, we’ll demonstrate how to organize various functions into a module or a package containing multiple submodules.\n",
    "---"
   ]
  },
  {
   "cell_type": "code",
   "execution_count": null,
   "id": "7b2f0f4f",
   "metadata": {},
   "outputs": [],
   "source": [
    "from __init__ import install_dependencies\n",
    "\n",
    "await install_dependencies()"
   ]
  },
  {
   "cell_type": "code",
   "execution_count": null,
   "id": "7f499832",
   "metadata": {
    "slideshow": {
     "slide_type": "fragment"
    },
    "tags": [
     "remove-cell"
    ]
   },
   "outputs": [],
   "source": [
    "%load_ext divewidgets\n",
    "%load_ext jupyter_ai\n",
    "%ai update chatgpt dive:chat"
   ]
  },
  {
   "cell_type": "markdown",
   "id": "79e37a96",
   "metadata": {
    "slideshow": {
     "slide_type": "slide"
    }
   },
   "source": [
    "## Generator"
   ]
  },
  {
   "cell_type": "markdown",
   "id": "218159a4",
   "metadata": {},
   "source": [
    "Recall the implementation of Fibonacci numbers using an interation:"
   ]
  },
  {
   "cell_type": "code",
   "execution_count": null,
   "id": "e4057461",
   "metadata": {},
   "outputs": [],
   "source": [
    "def fibonacci_iteration(n):\n",
    "    if n > 1:\n",
    "        _, F = 0, 1  # next two Fibonacci numbers\n",
    "        while n > 1:\n",
    "            _, F, n = F, F + _, n - 1\n",
    "        return F\n",
    "    elif n == 1:\n",
    "        return 1\n",
    "    else:\n",
    "        return 0\n",
    "\n",
    "\n",
    "fibonacci_iteration(10)"
   ]
  },
  {
   "cell_type": "markdown",
   "id": "2659ee8e",
   "metadata": {},
   "source": [
    "The code can be modified to generate a Fibonacci sequence efficiently:"
   ]
  },
  {
   "cell_type": "code",
   "execution_count": null,
   "id": "314d77c8",
   "metadata": {},
   "outputs": [],
   "source": [
    "def create_fibonacci(Fn, Fnn):\n",
    "    def next():\n",
    "        \"\"\"Returns the next (generalized) Fibonacci number starting with\n",
    "        Fn and Fnn as the first two numbers.\"\"\"\n",
    "        nonlocal Fn, Fnn, n\n",
    "        value = Fn\n",
    "        Fn, Fnn, n = Fnn, Fn + Fnn, n + 1\n",
    "        return value\n",
    "\n",
    "    def self():  # make the return object callable to replace print_fibonacci_state\n",
    "        print(\n",
    "            \"\"\"States:\n",
    "        Next Fibonacci number      = {}\n",
    "        Next next Fibonacci number = {}\n",
    "        Next order                 = {}\"\"\".format(\n",
    "                Fn, Fnn, n\n",
    "            )\n",
    "        )\n",
    "\n",
    "    n = 0\n",
    "\n",
    "    self.next = next  # add next as an attribute of self\n",
    "    return self       # to be returned\n",
    "\n",
    "\n",
    "fib = create_fibonacci(0, 1)\n",
    "n = 0\n",
    "while n < 5:\n",
    "    print(fib.next())\n",
    "    n += 1\n",
    "fib()"
   ]
  },
  {
   "cell_type": "markdown",
   "id": "62f88945",
   "metadata": {},
   "source": [
    "Unfortunately, the Fibonacci object is not an iterable so one cannot iterable easily using a for loop. It is arguable cubersome to have to write nested functions."
   ]
  },
  {
   "cell_type": "markdown",
   "id": "739cf8ac",
   "metadata": {
    "slideshow": {
     "slide_type": "fragment"
    }
   },
   "source": [
    "Python provides an easy way to create an iterator that generates a sequence of objects:"
   ]
  },
  {
   "cell_type": "code",
   "execution_count": null,
   "id": "64499588",
   "metadata": {
    "code_folding": [],
    "slideshow": {
     "slide_type": "-"
    }
   },
   "outputs": [],
   "source": [
    "fibonacci_generator = (fibonacci_iteration(n) for n in range(3))\n",
    "fibonacci_generator"
   ]
  },
  {
   "cell_type": "markdown",
   "id": "77626904",
   "metadata": {
    "slideshow": {
     "slide_type": "fragment"
    }
   },
   "source": [
    "The above uses a [*generator expression*](https://docs.python.org/3/reference/expressions.html#grammar-token-generator-expression) to define the *generator* object `fibonacci_generator`."
   ]
  },
  {
   "cell_type": "markdown",
   "id": "04aa08cb",
   "metadata": {
    "slideshow": {
     "slide_type": "fragment"
    }
   },
   "source": [
    "Since a generator is an iterator, we can use the [`next` function](https://docs.python.org/3/library/functions.html#next) to obtain the next item."
   ]
  },
  {
   "cell_type": "code",
   "execution_count": null,
   "id": "3f06d026",
   "metadata": {
    "slideshow": {
     "slide_type": "-"
    }
   },
   "outputs": [],
   "source": [
    "fibonacci_generator = (fibonacci_iteration(n) for n in range(3))\n",
    "\n",
    "while True:\n",
    "    print(next(fibonacci_generator))  # raises StopIterationException eventually"
   ]
  },
  {
   "cell_type": "markdown",
   "id": "ab775295",
   "metadata": {
    "slideshow": {
     "slide_type": "fragment"
    }
   },
   "source": [
    "We can also use a `for` loop to handle the exception:"
   ]
  },
  {
   "cell_type": "code",
   "execution_count": null,
   "id": "c4b8515a",
   "metadata": {
    "slideshow": {
     "slide_type": "-"
    }
   },
   "outputs": [],
   "source": [
    "fibonacci_generator = (fibonacci_iteration(n) for n in range(5))\n",
    "\n",
    "for fib in fibonacci_generator:  # StopIterationException handled by for loop\n",
    "    print(fib)"
   ]
  },
  {
   "cell_type": "markdown",
   "id": "df3fe1f3",
   "metadata": {
    "slideshow": {
     "slide_type": "subslide"
    }
   },
   "source": [
    "The implementation of `fibonacci_generator` is not efficient because of redundant computations. In order to store the last two computed Fibonacci numbers, a better way to is create local states like defining a function. This can be done using the keyword [`yield`](https://docs.python.org/3/reference/expressions.html?highlight=yield#yield-expressions):"
   ]
  },
  {
   "cell_type": "code",
   "execution_count": null,
   "id": "36ff9624",
   "metadata": {
    "slideshow": {
     "slide_type": "-"
    }
   },
   "outputs": [],
   "source": [
    "%%optlite -h 450\n",
    "def fibonacci_sequence(Fn, Fnn, stop):\n",
    "    \"\"\"Return a generator that generates Fibonacci numbers\n",
    "    starting from Fn and Fnn until stop (exclusive).\"\"\"\n",
    "    while Fn < stop:\n",
    "        yield Fn  # return Fn and pause execution\n",
    "        Fn, Fnn = Fnn, Fnn + Fn\n",
    "\n",
    "\n",
    "for fib in fibonacci_sequence(0, 1, 5):\n",
    "    print(fib)"
   ]
  },
  {
   "cell_type": "markdown",
   "id": "078050a6",
   "metadata": {
    "slideshow": {
     "slide_type": "fragment"
    }
   },
   "source": [
    "::::{important} How does `yield` work?\n",
    "\n",
    "1. Invoking a function that is defined with the `yield` keyword returns a *generator* without executing the function body.\n",
    "2. Calling `next` on the generator initiates or resumes execution, which:\n",
    "    - Pauses at the next `yield` expression, if present, or\n",
    "    - Raises a `StopIterationException` when the execution completes.\n",
    "\n",
    "::::"
   ]
  },
  {
   "cell_type": "markdown",
   "id": "2af87215",
   "metadata": {},
   "source": [
    "::::{exercise}\n",
    ":label: ex:return-yield\n",
    "\n",
    "As a test of your understanding, explain what gets printed by the following code.\n",
    "\n",
    "::::"
   ]
  },
  {
   "cell_type": "code",
   "execution_count": null,
   "id": "56a6e6fc",
   "metadata": {},
   "outputs": [],
   "source": [
    "def f():\n",
    "    return 0\n",
    "    yield 1\n",
    "\n",
    "\n",
    "for i in f():\n",
    "    print(i)"
   ]
  },
  {
   "cell_type": "markdown",
   "id": "a5ae3560",
   "metadata": {
    "deletable": false,
    "nbgrader": {
     "cell_type": "markdown",
     "checksum": "c963c797e6f872e85eda01521ebebb7f",
     "grade": true,
     "grade_id": "return-yield",
     "locked": false,
     "points": 0,
     "schema_version": 3,
     "solution": true,
     "task": false
    }
   },
   "source": [
    "YOUR ANSWER HERE"
   ]
  },
  {
   "cell_type": "markdown",
   "id": "2f4a0412",
   "metadata": {
    "slideshow": {
     "slide_type": "fragment"
    }
   },
   "source": [
    "::::{exercise}\n",
    ":label: ex:doc \n",
    "\n",
    "`yield` can be both a statement and an expression. As an expression, it can be used to receive values sent to the generator: \n",
    "\n",
    "- The value of a `yield` expression is `None` by default, but \n",
    "- it can be set by the `generator.send` method.\n",
    "\n",
    "Add the document string to the following function. In particular, explain the effect of calling the method `send` on the returned generator.\n",
    "\n",
    "::::"
   ]
  },
  {
   "cell_type": "code",
   "execution_count": null,
   "id": "28759c14",
   "metadata": {
    "code_folding": [],
    "deletable": false,
    "nbgrader": {
     "cell_type": "code",
     "checksum": "53fd3f7645e7f0743c1de9beddd0479d",
     "grade": false,
     "grade_id": "send",
     "locked": false,
     "schema_version": 3,
     "solution": true,
     "task": false
    },
    "slideshow": {
     "slide_type": "-"
    }
   },
   "outputs": [],
   "source": [
    "def fibonacci_sequence(Fn, Fnn, stop):\n",
    "    # YOUR CODE HERE\n",
    "    raise NotImplementedError\n",
    "    while Fn < stop:\n",
    "        value = yield Fn\n",
    "        if value is not None:\n",
    "            Fnn = value  # set next number to the value of yield expression\n",
    "        Fn, Fnn = Fnn, Fnn + Fn\n",
    "\n",
    "\n",
    "fibonacci_generator = fibonacci_sequence(0, 1, 5)\n",
    "print(next(fibonacci_generator))\n",
    "print(fibonacci_generator.send(2))\n",
    "for fib in fibonacci_generator:\n",
    "    print(fib)"
   ]
  },
  {
   "cell_type": "markdown",
   "id": "6dad9564",
   "metadata": {
    "slideshow": {
     "slide_type": "slide"
    }
   },
   "source": [
    "## Optional Arguments"
   ]
  },
  {
   "cell_type": "markdown",
   "id": "ecfc0f82",
   "metadata": {
    "slideshow": {
     "slide_type": "fragment"
    }
   },
   "source": [
    "Fibonacci sequence normally starts with `0` and `1` by default. Is it possible to make arguments `Fn` and `Fnn` optional with default values?"
   ]
  },
  {
   "cell_type": "markdown",
   "id": "65a3a206",
   "metadata": {
    "slideshow": {
     "slide_type": "fragment"
    }
   },
   "source": [
    "**How to give arguments default values?**"
   ]
  },
  {
   "cell_type": "code",
   "execution_count": null,
   "id": "98a7f5bd",
   "metadata": {
    "slideshow": {
     "slide_type": "fragment"
    }
   },
   "outputs": [],
   "source": [
    "def fibonacci_sequence(Fn=0, Fnn=1, *, stop=None):\n",
    "    while stop is None or Fn < stop:\n",
    "        value = yield Fn\n",
    "        Fn, Fnn = Fnn, Fnn + Fn"
   ]
  },
  {
   "cell_type": "markdown",
   "id": "0e421cea",
   "metadata": {},
   "source": [
    "Arguments with default values specified by `=...` are called [default arguments](https://docs.python.org/3/tutorial/controlflow.html#default-argument-values). They are optional in the function call."
   ]
  },
  {
   "cell_type": "code",
   "execution_count": null,
   "id": "919b1182",
   "metadata": {},
   "outputs": [],
   "source": [
    "for fib in fibonacci_sequence(stop=5):\n",
    "    print(fib)  # with default Fn=0, Fnn=1"
   ]
  },
  {
   "cell_type": "markdown",
   "id": "94caa4b6",
   "metadata": {
    "slideshow": {
     "slide_type": "fragment"
    }
   },
   "source": [
    "`stop=5` in the function call is called a [keyword argument](https://docs.python.org/3/glossary.html#term-keyword-argument). As supposed to [*positional arguments*](https://docs.python.org/3/glossary.html#term-argument), it specifies the name of the argument explicitly. Indeed, `stop` is a [keyword-only argument](https://peps.python.org/pep-3102/), which can not be specified as a positional argument:"
   ]
  },
  {
   "cell_type": "code",
   "execution_count": null,
   "id": "dbbdd02b",
   "metadata": {},
   "outputs": [],
   "source": [
    "for fib in fibonacci_sequence(0, 1, 5):\n",
    "    print(fib)"
   ]
  },
  {
   "cell_type": "markdown",
   "id": "0e8b0b2f",
   "metadata": {
    "slideshow": {
     "slide_type": "fragment"
    }
   },
   "source": [
    "::::{exercise}\n",
    ":label: ex:fib1\n",
    "\n",
    "Is `fibonacci_sequence(stop=5)` the same as `fibonacci_sequence(5)`? In particular, what is the behavior of the following code?\n",
    "\n",
    "::::"
   ]
  },
  {
   "cell_type": "code",
   "execution_count": null,
   "id": "24bdfce6",
   "metadata": {
    "slideshow": {
     "slide_type": "-"
    }
   },
   "outputs": [],
   "source": [
    "for fib in fibonacci_sequence(5):\n",
    "    print(fib)\n",
    "    if fib > 10:\n",
    "        break  # Will this be executed?"
   ]
  },
  {
   "cell_type": "markdown",
   "id": "7bfcb922",
   "metadata": {
    "deletable": false,
    "nbgrader": {
     "cell_type": "markdown",
     "checksum": "a090f88c9eb74ece1027e9d598d81560",
     "grade": true,
     "grade_id": "stop",
     "locked": false,
     "points": 0,
     "schema_version": 3,
     "solution": true,
     "task": false
    },
    "slideshow": {
     "slide_type": "-"
    }
   },
   "source": [
    "YOUR ANSWER HERE"
   ]
  },
  {
   "cell_type": "markdown",
   "id": "3de8b2a7",
   "metadata": {
    "slideshow": {
     "slide_type": "subslide"
    }
   },
   "source": [
    "::::{important} Rules for specifying arguments\n",
    "\n",
    "1. Default (Keyword) arguments must be after all non-default (positional) arguments in a function definition (call).\n",
    "1. The value for an argument cannot be specified more than once in a function definition (call).\n",
    "::::"
   ]
  },
  {
   "cell_type": "markdown",
   "id": "a9cdc946",
   "metadata": {
    "slideshow": {
     "slide_type": "fragment"
    }
   },
   "source": [
    "E.g., the following results in an error:"
   ]
  },
  {
   "cell_type": "code",
   "execution_count": null,
   "id": "c7d2d3c0",
   "metadata": {
    "slideshow": {
     "slide_type": "-"
    }
   },
   "outputs": [],
   "source": [
    "fibonacci_sequence(stop=10, 1)"
   ]
  },
  {
   "cell_type": "code",
   "execution_count": null,
   "id": "bc20fcb2",
   "metadata": {
    "slideshow": {
     "slide_type": "-"
    }
   },
   "outputs": [],
   "source": [
    "fibonacci_sequence(1, Fn=1)"
   ]
  },
  {
   "cell_type": "markdown",
   "id": "9f7dc9ee",
   "metadata": {
    "slideshow": {
     "slide_type": "subslide"
    }
   },
   "source": [
    "The following shows that the behavior of `range` is different."
   ]
  },
  {
   "cell_type": "code",
   "execution_count": null,
   "id": "4989381e",
   "metadata": {
    "slideshow": {
     "slide_type": "fragment"
    }
   },
   "outputs": [],
   "source": [
    "for count in range(1, 10, 2):\n",
    "    print(count, end=\" \")  # counts from 1 to 10 in steps of 2\n",
    "print()\n",
    "for count in range(1, 10):\n",
    "    print(count, end=\" \")  # default step=1\n",
    "print()\n",
    "for count in range(10):\n",
    "    print(count, end=\" \")  # default start=0, step=1\n",
    "range(stop=10)  # fails"
   ]
  },
  {
   "cell_type": "markdown",
   "id": "1e855874",
   "metadata": {
    "slideshow": {
     "slide_type": "fragment"
    }
   },
   "source": [
    "`range` takes only positional arguments.  \n",
    "However, the first positional argument has different intepretations (`start` or `stop`) depending on the number of arguments (2 or 1)."
   ]
  },
  {
   "cell_type": "markdown",
   "id": "26ebc7c0",
   "metadata": {
    "slideshow": {
     "slide_type": "fragment"
    }
   },
   "source": [
    "`range` is indeed NOT a generator. How is range implemented?"
   ]
  },
  {
   "cell_type": "code",
   "execution_count": null,
   "id": "cafe076f",
   "metadata": {
    "slideshow": {
     "slide_type": "fragment"
    }
   },
   "outputs": [],
   "source": [
    "print(type(range), type(range(10)))"
   ]
  },
  {
   "cell_type": "markdown",
   "id": "816dc0d9",
   "metadata": {
    "slideshow": {
     "slide_type": "subslide"
    }
   },
   "source": [
    "## Variable number of arguments"
   ]
  },
  {
   "cell_type": "markdown",
   "id": "128c0199",
   "metadata": {
    "slideshow": {
     "slide_type": "fragment"
    }
   },
   "source": [
    "[The implementation of range](https://github.com/python/cpython/blob/6afb285ff0790471a6858e44f85d143f07fda70c/Objects/rangeobject.c#L82-L123) uses a [variable number of arguments](https://docs.python.org/3.4/tutorial/controlflow.html#arbitrary-argument-lists)."
   ]
  },
  {
   "cell_type": "code",
   "execution_count": null,
   "id": "9f3f0551",
   "metadata": {
    "slideshow": {
     "slide_type": "fragment"
    }
   },
   "outputs": [],
   "source": [
    "def print_arguments(*args, **kwargs):\n",
    "    \"\"\"Take any number of arguments and prints them\"\"\"\n",
    "    print(\"args ({}): {}\".format(type(args), args))\n",
    "    print(\"kwargs ({}): {}\".format(type(kwargs), kwargs))\n",
    "\n",
    "\n",
    "print_arguments(0, 10, 2, start=1, stop=2)"
   ]
  },
  {
   "cell_type": "markdown",
   "id": "48521dfe",
   "metadata": {
    "slideshow": {
     "slide_type": "fragment"
    }
   },
   "source": [
    "- `args` is a tuple of positional arguments.\n",
    "- `kwargs` is a dictionary of keyword arguments, which is a list of values indexed by unique keys that are not necessary integers."
   ]
  },
  {
   "cell_type": "code",
   "execution_count": null,
   "id": "76dff600",
   "metadata": {},
   "outputs": [],
   "source": [
    "d = {'start': 1, 'stop': 2}\n",
    "d['start'], d['stop'], d.keys(), d.values(), d.items()"
   ]
  },
  {
   "cell_type": "markdown",
   "id": "97653ff4",
   "metadata": {
    "slideshow": {
     "slide_type": "fragment"
    }
   },
   "source": [
    "`*` and `**` are *unpacking operators* for tuple/list and dictionary respectively:"
   ]
  },
  {
   "cell_type": "code",
   "execution_count": null,
   "id": "ae989dbb",
   "metadata": {
    "slideshow": {
     "slide_type": "fragment"
    }
   },
   "outputs": [],
   "source": [
    "args = (0, 10, 2)\n",
    "kwargs = {\"start\": 1, \"stop\": 2}\n",
    "print_arguments(*args, **kwargs)"
   ]
  },
  {
   "cell_type": "markdown",
   "id": "840f8824",
   "metadata": {},
   "source": [
    "The following function converts all the arguments to a string, which will be useful later on."
   ]
  },
  {
   "cell_type": "code",
   "execution_count": null,
   "id": "c3dfc998",
   "metadata": {
    "slideshow": {
     "slide_type": "fragment"
    }
   },
   "outputs": [],
   "source": [
    "def argument_string(*args, **kwargs):\n",
    "    \"\"\"Return the string representation of the list of arguments.\"\"\"\n",
    "    return \"({})\".format(\n",
    "        ', '.join(\n",
    "            [\n",
    "                *[f'{v!r}' for v in args],  # arguments\n",
    "                *[\n",
    "                    f'{k}={v!r}' for k, v in kwargs.items()\n",
    "                ],  # keyword arguments\n",
    "            ]\n",
    "        )\n",
    "    )\n",
    "\n",
    "\n",
    "argument_string(0, 10, 2, start=1, stop=2)"
   ]
  },
  {
   "cell_type": "markdown",
   "id": "72f719ea",
   "metadata": {},
   "source": [
    "::::{seealso} Representation\n",
    " `!r` convert `v` to the string representation (`repr`) that can be evaluated by python `eval`. In particular, `'a'` will be converted to `\"'a'\"`, which has the quotation needed for the string literal. See [token conversion](https://docs.python.org/3/reference/lexical_analysis.html#grammar-token-conversion).\n",
    "::::"
   ]
  },
  {
   "cell_type": "markdown",
   "id": "bc33537a",
   "metadata": {
    "slideshow": {
     "slide_type": "subslide"
    }
   },
   "source": [
    "::::{exercise}\n",
    ":label: ex:fib2\n",
    "\n",
    "Redefine `fibonacci_sequence` so that the positional arguments depend on the number of arguments:\n",
    "\n",
    "::::"
   ]
  },
  {
   "cell_type": "code",
   "execution_count": null,
   "id": "1905f178",
   "metadata": {
    "code_folding": [
     19
    ],
    "deletable": false,
    "nbgrader": {
     "cell_type": "code",
     "checksum": "df9474b2a24d423149398d96ac81c13f",
     "grade": false,
     "grade_id": "optional",
     "locked": false,
     "schema_version": 3,
     "solution": true,
     "task": false
    },
    "slideshow": {
     "slide_type": "-"
    },
    "tags": [
     "remove-output"
    ]
   },
   "outputs": [],
   "source": [
    "def fibonacci_sequence(*args):\n",
    "    \"\"\"Return a generator that generates Fibonacci numbers\n",
    "    starting from Fn and Fnn to stop (exclusive).\n",
    "    generator.send(value) sets next number to value.\n",
    "\n",
    "    fibonacci_sequence(stop)\n",
    "    fibonacci_sequence(Fn,Fnn)\n",
    "    fibonacci_sequence(Fn,Fnn,stop)\n",
    "    \"\"\"\n",
    "    Fn, Fnn, stop = 0, 1, None  # default values\n",
    "\n",
    "    # handle different number of arguments\n",
    "    if len(args) == 1:\n",
    "        # YOUR CODE HERE\n",
    "        raise NotImplementedError\n",
    "    elif len(args) == 2:\n",
    "        Fn, Fnn = args[0], args[1]\n",
    "    elif len(args) > 2:\n",
    "        Fn, Fnn, stop = args[0], args[1], args[2]\n",
    "\n",
    "    while stop is None or Fn < stop:\n",
    "        value = yield Fn\n",
    "        if value is not None:\n",
    "            Fnn = value  # set next number to the value of yield expression\n",
    "        Fn, Fnn = Fnn, Fnn + Fn"
   ]
  },
  {
   "cell_type": "code",
   "execution_count": null,
   "id": "f8fb1727",
   "metadata": {
    "slideshow": {
     "slide_type": "fragment"
    }
   },
   "outputs": [],
   "source": [
    "for fib in fibonacci_sequence(5):  # default Fn=0, Fn=1\n",
    "    print(fib)"
   ]
  },
  {
   "cell_type": "code",
   "execution_count": null,
   "id": "6bd9e673",
   "metadata": {
    "slideshow": {
     "slide_type": "fragment"
    }
   },
   "outputs": [],
   "source": [
    "for fib in fibonacci_sequence(1, 2):  # default stop=None\n",
    "    print(fib)\n",
    "    if fib > 5:\n",
    "        break"
   ]
  },
  {
   "cell_type": "code",
   "execution_count": null,
   "id": "de284a00",
   "metadata": {
    "slideshow": {
     "slide_type": "fragment"
    }
   },
   "outputs": [],
   "source": [
    "args = (1, 2, 5)\n",
    "for fib in fibonacci_sequence(*args):  # default stop=None\n",
    "    print(fib)"
   ]
  },
  {
   "cell_type": "markdown",
   "id": "f96ccfbc",
   "metadata": {
    "slideshow": {
     "slide_type": "slide"
    }
   },
   "source": [
    "## Decorator"
   ]
  },
  {
   "cell_type": "markdown",
   "id": "758c07cb",
   "metadata": {
    "slideshow": {
     "slide_type": "subslide"
    }
   },
   "source": [
    "The code below decorates the `fibonacci` function by printing each recursive call and the depth of the call stack."
   ]
  },
  {
   "cell_type": "code",
   "execution_count": null,
   "id": "730b42eb",
   "metadata": {
    "slideshow": {
     "slide_type": "-"
    }
   },
   "outputs": [],
   "source": [
    "def fibonacci(n):\n",
    "    \"\"\"Returns the Fibonacci number of order n.\"\"\"\n",
    "    global count, depth\n",
    "    count += 1\n",
    "    depth += 1\n",
    "    print(\"{:>3}: {}fibonacci({!r})\".format(count, \"|\" * depth, n))\n",
    "\n",
    "    value = fibonacci(n - 1) + fibonacci(n - 2) if n > 1 else 1 if n == 1 else 0\n",
    "\n",
    "    depth -= 1\n",
    "    if depth == -1:  # recursion done\n",
    "        print(\"Done\")\n",
    "        count = 0  # reset count for subsequent recursions\n",
    "    return value\n",
    "\n",
    "\n",
    "count, depth = 0, -1\n",
    "for n in range(6):\n",
    "    print(fibonacci(n))"
   ]
  },
  {
   "cell_type": "markdown",
   "id": "bf55b54e",
   "metadata": {
    "slideshow": {
     "slide_type": "fragment"
    }
   },
   "source": [
    "The decoration is useful in showing the efficiency of the function, but it rewrites the function definition."
   ]
  },
  {
   "cell_type": "markdown",
   "id": "00d0ff91",
   "metadata": {
    "slideshow": {
     "slide_type": "subslide"
    }
   },
   "source": [
    "**How to decorate a function without changing its implementation?**"
   ]
  },
  {
   "cell_type": "markdown",
   "id": "c4df3040",
   "metadata": {
    "slideshow": {
     "slide_type": "fragment"
    }
   },
   "source": [
    "Decorations are often temporary. Is it possible to avoid\n",
    "\n",
    "- going through the source codes to remove decorations?\n",
    "- switching back and forth between the original and decorated codes?"
   ]
  },
  {
   "cell_type": "markdown",
   "id": "6259fd41",
   "metadata": {
    "slideshow": {
     "slide_type": "subslide"
    }
   },
   "source": [
    "::::{admonition} Attempt\n",
    "What about defining a new function that calls and decorates the original function?\n",
    "::::"
   ]
  },
  {
   "cell_type": "code",
   "execution_count": null,
   "id": "80d5444b",
   "metadata": {
    "code_folding": [
     0
    ],
    "slideshow": {
     "slide_type": "fragment"
    }
   },
   "outputs": [],
   "source": [
    "def fibonacci(n):\n",
    "    \"\"\"Returns the Fibonacci number of order n.\"\"\"\n",
    "    return fibonacci(n - 1) + fibonacci(n - 2) if n > 1 else 1 if n == 1 else 0\n",
    "\n",
    "\n",
    "def fibonacci_decorated(n):\n",
    "    \"\"\"Returns the Fibonacci number of order n.\"\"\"\n",
    "    global count, depth\n",
    "    count += 1\n",
    "    depth += 1\n",
    "    print(\"{:>3}: {}fibonacci({!r})\".format(count, \"|\" * depth, n))\n",
    "\n",
    "    value = fibonacci(n)\n",
    "\n",
    "    depth -= 1\n",
    "    if depth == -1:  # recursion done\n",
    "        print(\"Done\")\n",
    "        count = 0  # reset count for subsequent recursions\n",
    "    return value\n",
    "\n",
    "\n",
    "count, depth = 0, -1\n",
    "for n in range(6):\n",
    "    print(fibonacci_decorated(n))"
   ]
  },
  {
   "cell_type": "markdown",
   "id": "c762c6ac",
   "metadata": {},
   "source": [
    "::::{exercise}\n",
    ":label: ex:fib3\n",
    "\n",
    "Explain whether the attempt works.\n",
    "\n",
    "::::"
   ]
  },
  {
   "cell_type": "markdown",
   "id": "5a90df11",
   "metadata": {
    "deletable": false,
    "nbgrader": {
     "cell_type": "markdown",
     "checksum": "05e6c729e649ec63302f35aca4994d20",
     "grade": true,
     "grade_id": "decorator1",
     "locked": false,
     "points": 0,
     "schema_version": 3,
     "solution": true,
     "task": false
    }
   },
   "source": [
    "YOUR ANSWER HERE"
   ]
  },
  {
   "cell_type": "markdown",
   "id": "0f66c5d2",
   "metadata": {
    "slideshow": {
     "slide_type": "fragment"
    }
   },
   "source": [
    "````{admonition} Attempt\n",
    "What about renaming `fibonacci_decorated` to `fibonacci`?\n",
    "\n",
    "```Python\n",
    "fibonacci = fibonacci_decorated\n",
    "count, depth = 0, -1\n",
    "fibonacci_decorated(10)\n",
    "```\n",
    "\n",
    "(If you are faint-hearted, don't run the above code.)\n",
    "````"
   ]
  },
  {
   "cell_type": "markdown",
   "id": "a3d6e4eb",
   "metadata": {},
   "source": [
    "::::{exercise}\n",
    ":label: ex:fib4 \n",
    "\n",
    "Explain whether the attempt works.\n",
    "\n",
    "::::"
   ]
  },
  {
   "cell_type": "markdown",
   "id": "39fa1b94",
   "metadata": {
    "deletable": false,
    "nbgrader": {
     "cell_type": "markdown",
     "checksum": "487f2e09dd8d24a2455f18d9f50d9b29",
     "grade": true,
     "grade_id": "decorator2",
     "locked": false,
     "points": 0,
     "schema_version": 3,
     "solution": true,
     "task": false
    }
   },
   "source": [
    "YOUR ANSWER HERE"
   ]
  },
  {
   "cell_type": "markdown",
   "id": "5ef7c4e6",
   "metadata": {
    "slideshow": {
     "slide_type": "subslide"
    }
   },
   "source": [
    "An elegant solution is to\n",
    "\n",
    "- capture the function to be decorated in the closure of the decorated function, and\n",
    "- rename the decorated function to the same name as the function to be decorated."
   ]
  },
  {
   "cell_type": "code",
   "execution_count": null,
   "id": "b78b7dd9",
   "metadata": {
    "code_folding": [],
    "slideshow": {
     "slide_type": "fragment"
    }
   },
   "outputs": [],
   "source": [
    "def print_function_call(f):\n",
    "    def wrapper(*args, **kwargs):\n",
    "        nonlocal count, depth\n",
    "        count += 1\n",
    "        depth += 1\n",
    "        call = f\"{f.__name__}{argument_string(*args, **kwargs)}\"\n",
    "        print(f\"{count:>3}:{'|' * depth}{call}\")\n",
    "        value = f(*args, **kwargs)  # calls f\n",
    "        depth -= 1\n",
    "        if depth == -1:\n",
    "            print(\"Done\")\n",
    "            count = 0\n",
    "        return value\n",
    "\n",
    "    count, depth = 0, -1\n",
    "    return wrapper  # return the decorated function"
   ]
  },
  {
   "cell_type": "markdown",
   "id": "8ad9375b",
   "metadata": {
    "slideshow": {
     "slide_type": "fragment"
    }
   },
   "source": [
    "The above defines a *decorator* `print_function_call` that takes in a function `f` to be decorated and returns the decorated function `wrapper` that captures and decorates `f`:\n",
    "- `wrapper` expects the same set of arguments for `f`,  \n",
    "- returns the same value returned by `f` on the arguments, but\n",
    "- can execute additional codes before and after calling `f` to print the function call."
   ]
  },
  {
   "cell_type": "markdown",
   "id": "52e5afec",
   "metadata": {
    "slideshow": {
     "slide_type": "fragment"
    }
   },
   "source": [
    "By redefining `fibonacci` as the returned `wrapper`, the original `fibonacci` captured by `wrapper` calls `wrapper` as desired."
   ]
  },
  {
   "cell_type": "code",
   "execution_count": null,
   "id": "4ca2bdc5",
   "metadata": {
    "code_folding": []
   },
   "outputs": [],
   "source": [
    "def fibonacci(n):\n",
    "    \"\"\"Returns the Fibonacci number of order n.\"\"\"\n",
    "    return fibonacci(n - 1) + fibonacci(n - 2) if n > 1 else 1 if n == 1 else 0\n",
    "\n",
    "\n",
    "fibonacci = print_function_call(fibonacci)  # so original fibonnacci calls wrapper\n",
    "fibonacci(5)"
   ]
  },
  {
   "cell_type": "markdown",
   "id": "d7db4804",
   "metadata": {
    "slideshow": {
     "slide_type": "fragment"
    }
   },
   "source": [
    "The redefinition does not change the original `fibonacci` captured by `wrapper`."
   ]
  },
  {
   "cell_type": "code",
   "execution_count": null,
   "id": "5c2f8816",
   "metadata": {
    "slideshow": {
     "slide_type": "fragment"
    }
   },
   "outputs": [],
   "source": [
    "import inspect\n",
    "\n",
    "for cell in fibonacci.__closure__:\n",
    "    if callable(cell.cell_contents):\n",
    "        print(inspect.getsource(cell.cell_contents))"
   ]
  },
  {
   "cell_type": "markdown",
   "id": "86e382c8",
   "metadata": {
    "slideshow": {
     "slide_type": "subslide"
    }
   },
   "source": [
    "Python provides the syntatic sugar below to simplify the redefinition."
   ]
  },
  {
   "cell_type": "code",
   "execution_count": null,
   "id": "ad89beee",
   "metadata": {
    "code_folding": [],
    "slideshow": {
     "slide_type": "-"
    }
   },
   "outputs": [],
   "source": [
    "@print_function_call\n",
    "def fibonacci(n):\n",
    "    \"\"\"Returns the Fibonacci number of order n.\"\"\"\n",
    "    return fibonacci(n - 1) + fibonacci(n - 2) if n > 1 else 1 if n == 1 else 0\n",
    "\n",
    "\n",
    "fibonacci(5)"
   ]
  },
  {
   "cell_type": "markdown",
   "id": "69c62acc",
   "metadata": {
    "slideshow": {
     "slide_type": "fragment"
    }
   },
   "source": [
    "::::{exercise}\n",
    ":label: ex:fib5\n",
    "\n",
    "Why use a variable number of arguments in `wrapper`? You may use `optlite` below to visualize the execution step-by-step.\n",
    "\n",
    "::::"
   ]
  },
  {
   "cell_type": "markdown",
   "id": "8fdf87eb",
   "metadata": {
    "deletable": false,
    "nbgrader": {
     "cell_type": "markdown",
     "checksum": "cd0c1ce2c3a1de95f283550d5410d602",
     "grade": true,
     "grade_id": "variable_n_args",
     "locked": false,
     "points": 0,
     "schema_version": 3,
     "solution": true,
     "task": false
    }
   },
   "source": [
    "YOUR ANSWER HERE"
   ]
  },
  {
   "cell_type": "markdown",
   "id": "f0d82bbf",
   "metadata": {},
   "source": [
    "::::{seealso} Design patterns\n",
    "\n",
    "The decorator is one of many software [design patterns](https://en.wikipedia.org/wiki/Software_design_pattern) that can be reused across various scenarios and applications. Design patterns are not reusable code but rather *reusable methods for writing good code*. They differ from algorithms, which are methods of computation with specific running times, as design patterns do not have running times associated with them.\n",
    "\n",
    "::::"
   ]
  },
  {
   "cell_type": "code",
   "execution_count": null,
   "id": "cd524dba",
   "metadata": {},
   "outputs": [],
   "source": [
    "%%ai chatgpt -f text\n",
    "Explain in one paragraph what software design pattern is and why decorator is considered a design pattern but generator is not."
   ]
  },
  {
   "cell_type": "markdown",
   "id": "776d6d6f",
   "metadata": {},
   "source": [
    "## Examples of Decorators"
   ]
  },
  {
   "cell_type": "markdown",
   "id": "5016ee17",
   "metadata": {},
   "source": [
    "Note that the decorated `fibonacci` does not have the correct docstring. Even the function name is wrong."
   ]
  },
  {
   "cell_type": "code",
   "execution_count": null,
   "id": "f84e8264",
   "metadata": {},
   "outputs": [],
   "source": [
    "help(fibonacci)"
   ]
  },
  {
   "cell_type": "markdown",
   "id": "a63d39e8",
   "metadata": {},
   "source": [
    "This can be fixed using decorator `@functools.wraps`:"
   ]
  },
  {
   "cell_type": "code",
   "execution_count": null,
   "id": "e575dfd5",
   "metadata": {},
   "outputs": [],
   "source": [
    "import functools\n",
    "\n",
    "def print_function_call(f):\n",
    "    @functools.wraps(f)  # give wrapper the identity of f and more\n",
    "    def wrapper(*args, **kwargs):\n",
    "        nonlocal count, depth\n",
    "        count += 1\n",
    "        depth += 1\n",
    "        call = \"{}{}\".format(f.__name__, \"({})\".format(\", \".join([*(f\"{v!r}\" for v in args), *(f\"{k}={v!r}\" for k, v in kwargs.items())])))\n",
    "        print(f\"{count:>3}:{'|' * depth}{call}\")\n",
    "        value = f(*args, **kwargs)  # calls f\n",
    "        depth -= 1\n",
    "        if depth == -1:\n",
    "            print(\"Done\")\n",
    "            count = 0\n",
    "        return value\n",
    "\n",
    "    count, depth = 0, -1\n",
    "    return wrapper  # return the decorated function\n",
    "\n",
    "@print_function_call\n",
    "def fibonacci(n):\n",
    "    \"\"\"Returns the Fibonacci number of order n.\"\"\"\n",
    "    return fibonacci(n - 1) + fibonacci(n - 2) if n > 1 else 1 if n == 1 else 0\n",
    "\n",
    "fibonacci(5)\n",
    "help(fibonacci)"
   ]
  },
  {
   "cell_type": "markdown",
   "id": "8656b2d9",
   "metadata": {
    "slideshow": {
     "slide_type": "fragment"
    }
   },
   "source": [
    "::::{note} What does `@functools.wraps(f)` do?\n",
    "\n",
    "The decoration `@functools.wraps(f)`\n",
    "\n",
    "- makes some attributes (such as `__name__`, `__module__`, `__doc__`, ...) of the decorated function the same as those of the original function, and\n",
    "- adds some useful attributes such as `__wrapped__` that points to the original function.\n",
    "\n",
    "::::"
   ]
  },
  {
   "cell_type": "markdown",
   "id": "79d5f9a0",
   "metadata": {},
   "source": [
    "We can also undo the decoration using `__wrapped__`."
   ]
  },
  {
   "cell_type": "code",
   "execution_count": null,
   "id": "2c3d7aec",
   "metadata": {
    "slideshow": {
     "slide_type": "fragment"
    }
   },
   "outputs": [],
   "source": [
    "fibonacci, fibonacci_decorated = fibonacci.__wrapped__, fibonacci  # recover\n",
    "print(\"original fibonacci:\")\n",
    "print(fibonacci(5))\n",
    "\n",
    "fibonacci = fibonacci_decorated  # decorate\n",
    "print(\"decorated fibonacci:\")\n",
    "print(fibonacci(5))"
   ]
  },
  {
   "cell_type": "markdown",
   "id": "3d74c739",
   "metadata": {
    "slideshow": {
     "slide_type": "subslide"
    }
   },
   "source": [
    "Another application is use decorator to improve recursion. We can also use a decorator to make recursion more efficient by caching the return values."
   ]
  },
  {
   "cell_type": "code",
   "execution_count": null,
   "id": "e924ed04",
   "metadata": {
    "slideshow": {
     "slide_type": "fragment"
    }
   },
   "outputs": [],
   "source": [
    "def caching(f):\n",
    "    \"\"\"Cache the return value of a function that takes a single argument.\n",
    "\n",
    "    Parameters\n",
    "    ----------\n",
    "    f: Callable\n",
    "        A function that takes a single argument.\n",
    "\n",
    "    Returns\n",
    "    -------\n",
    "    Callable:\n",
    "        The function same as f but has its return valued automatically cached\n",
    "        when called. It has a method cache_clear to clear its cache.\n",
    "    \"\"\"\n",
    "\n",
    "    @functools.wraps(f)\n",
    "    def wrapper(n):\n",
    "        if n not in cache:\n",
    "            cache[n] = f(n)\n",
    "        else:\n",
    "            print(\"read from cache\")\n",
    "        return cache[n]\n",
    "\n",
    "    cache = {}\n",
    "    wrapper.cache_clear = lambda: cache.clear()  # add method to clear cache\n",
    "    return wrapper\n",
    "\n",
    "\n",
    "@print_function_call\n",
    "@caching\n",
    "def fibonacci(n):\n",
    "    \"\"\"Returns the Fibonacci number of order n.\"\"\"\n",
    "    return fibonacci(n - 1) + fibonacci(n - 2) if n > 1 else 1 if n == 1 else 0\n",
    "\n",
    "fibonacci(5)\n",
    "fibonacci(5)\n",
    "fibonacci.cache_clear()\n",
    "fibonacci(5)"
   ]
  },
  {
   "cell_type": "markdown",
   "id": "85c99249",
   "metadata": {},
   "source": [
    "`cache` is a [dictionary](https://docs.python.org/3/tutorial/datastructures.html#dictionaries), which will be formally introduced later in the course. For now, think of `cache[n]` as a variable that stores the computed value of \\\\( F_n \\\\) to avoid redundant calculations. If you are curious about why a dictionary is used, consider exploring the following question:"
   ]
  },
  {
   "cell_type": "code",
   "execution_count": null,
   "id": "14d53ae6",
   "metadata": {},
   "outputs": [],
   "source": [
    "%%ai chatgpt -f text\n",
    "Explain in one paragraph why one would use a Python dictionary instead of a list to store values with integer keys."
   ]
  },
  {
   "cell_type": "markdown",
   "id": "b62bc1c5",
   "metadata": {},
   "source": [
    "`functools` also provides a similar decorator called `lru_cache`, which can be applied to functions with multiple input arguments. It also allows you to specify a maximum cache size with a default value of 128. This means that the least recently used (lru) items are automatically removed from the cache when the cache size reaches its limit."
   ]
  },
  {
   "cell_type": "code",
   "execution_count": null,
   "id": "51f954e1",
   "metadata": {},
   "outputs": [],
   "source": [
    "@print_function_call\n",
    "@functools.lru_cache\n",
    "def fibonacci(n):\n",
    "    \"\"\"Returns the Fibonacci number of order n.\"\"\"\n",
    "    return fibonacci(n - 1) + fibonacci(n - 2) if n > 1 else 1 if n == 1 else 0\n",
    "\n",
    "fibonacci(5)\n",
    "fibonacci(5)"
   ]
  },
  {
   "cell_type": "markdown",
   "id": "fdca68f2",
   "metadata": {},
   "source": [
    "To clear the cache, we can use the `cache_clear` method added by `@functools.lru_cache`:"
   ]
  },
  {
   "cell_type": "code",
   "execution_count": null,
   "id": "b2ee0929",
   "metadata": {},
   "outputs": [],
   "source": [
    "fibonacci.__wrapped__.cache_clear()\n",
    "fibonacci(5)"
   ]
  },
  {
   "cell_type": "markdown",
   "id": "ba6115e7",
   "metadata": {},
   "source": [
    "Note that `fibonacci.cache_clear()` results in an error unless we call `update_wrapper` first as follows. (Why?)"
   ]
  },
  {
   "cell_type": "code",
   "execution_count": null,
   "id": "c35dd8f6",
   "metadata": {},
   "outputs": [],
   "source": [
    "functools.update_wrapper(fibonacci, fibonacci.__wrapped__, assigned=('cache_clear',))\n",
    "fibonacci.cache_clear()\n",
    "fibonacci(5)"
   ]
  },
  {
   "cell_type": "code",
   "execution_count": null,
   "id": "369446ca",
   "metadata": {},
   "outputs": [],
   "source": [
    "%%ai chatgpt -f text\n",
    "Explain in one paragraph what LRU means in caching and why a strategy like LRU is used."
   ]
  },
  {
   "cell_type": "markdown",
   "id": "6b43838f",
   "metadata": {
    "slideshow": {
     "slide_type": "slide"
    }
   },
   "source": [
    "## Writing a Module"
   ]
  },
  {
   "cell_type": "markdown",
   "id": "83c837a2",
   "metadata": {
    "slideshow": {
     "slide_type": "subslide"
    }
   },
   "source": [
    "**How to create a module?**"
   ]
  },
  {
   "cell_type": "markdown",
   "id": "30a4f221",
   "metadata": {
    "slideshow": {
     "slide_type": "fragment"
    }
   },
   "source": [
    "To create a module, simply put the code in a python source file `<module name>.py` in\n",
    "- the current directory, or\n",
    "- a python *site-packages* directory in system path."
   ]
  },
  {
   "cell_type": "code",
   "execution_count": null,
   "id": "e6a6b24a",
   "metadata": {
    "slideshow": {
     "slide_type": "-"
    }
   },
   "outputs": [],
   "source": [
    "import sys\n",
    "\n",
    "print(sys.path)"
   ]
  },
  {
   "cell_type": "markdown",
   "id": "4314bab3",
   "metadata": {
    "slideshow": {
     "slide_type": "subslide"
    }
   },
   "source": [
    "For example, `recurtools.py` in the current directory defines the module `recurtools`."
   ]
  },
  {
   "cell_type": "code",
   "execution_count": null,
   "id": "e943fa5d",
   "metadata": {
    "slideshow": {
     "slide_type": "-"
    },
    "tags": [
     "output_scroll"
    ]
   },
   "outputs": [],
   "source": [
    "from IPython.display import Code\n",
    "\n",
    "Code(filename=\"recurtools.py\", language=\"python\")"
   ]
  },
  {
   "cell_type": "markdown",
   "id": "53aeb28d",
   "metadata": {},
   "source": [
    "The module provides the decorators `print_function_call` and `caching` defined earlier."
   ]
  },
  {
   "cell_type": "code",
   "execution_count": null,
   "id": "adfd4902",
   "metadata": {
    "slideshow": {
     "slide_type": "-"
    }
   },
   "outputs": [],
   "source": [
    "import recurtools as rc\n",
    "\n",
    "\n",
    "@rc.print_function_call\n",
    "@rc.caching\n",
    "def factorial(n):\n",
    "    return factorial(n - 1) if n > 1 else 1"
   ]
  },
  {
   "cell_type": "code",
   "execution_count": null,
   "id": "192791aa",
   "metadata": {
    "slideshow": {
     "slide_type": "-"
    }
   },
   "outputs": [],
   "source": [
    "factorial(5)\n",
    "factorial(5)\n",
    "factorial.cache_clear()\n",
    "factorial(5)"
   ]
  },
  {
   "cell_type": "markdown",
   "id": "1a3958e8",
   "metadata": {},
   "source": [
    "In Python, large modules often consist of many submodules, which can themselves contain further submodules. To manage this complexity, Python uses packages. A package is essentially a directory that contains an `__init__.py` file, which serves to initialize the package. For instance, if we go up one directory level, `Lecture6` becomes a package on the search path that contains the `recurtools` as a submodule:"
   ]
  },
  {
   "cell_type": "code",
   "execution_count": null,
   "id": "3b5c1d50",
   "metadata": {},
   "outputs": [],
   "source": [
    "%%bash\n",
    "cd .. && python -c 'from Lecture6.recurtools import *; help(print_function_call)'"
   ]
  },
  {
   "cell_type": "markdown",
   "id": "8b4a5c5e",
   "metadata": {},
   "source": [
    "A submodule can [import another submodule relatively](https://peps.python.org/pep-0328/#id3). It can also [run as a script](https://docs.python.org/3/library/__main__.html#name-main)."
   ]
  },
  {
   "cell_type": "code",
   "execution_count": null,
   "id": "6d4f7c7c",
   "metadata": {},
   "outputs": [],
   "source": [
    "from IPython.display import Code\n",
    "\n",
    "Code(filename=\"demo.py\", language=\"python\")"
   ]
  },
  {
   "cell_type": "code",
   "execution_count": null,
   "id": "e12a5381",
   "metadata": {},
   "outputs": [],
   "source": [
    "%%bash\n",
    "cd .. && python -m 'Lecture6.demo'"
   ]
  },
  {
   "cell_type": "code",
   "execution_count": null,
   "id": "2bc08793",
   "metadata": {},
   "outputs": [],
   "source": [
    "%%ai chatgpt -f text\n",
    "How to use Sphinx and its AutoDoc extension to create a user manual for a package?"
   ]
  }
 ],
 "metadata": {
  "kernelspec": {
   "display_name": "Python 3 (ipykernel)",
   "language": "python",
   "name": "python3"
  }
 },
 "nbformat": 4,
 "nbformat_minor": 5
}
