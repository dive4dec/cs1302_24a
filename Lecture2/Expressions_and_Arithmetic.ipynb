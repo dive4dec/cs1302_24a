{
 "cells": [
  {
   "cell_type": "markdown",
   "id": "ca526120",
   "metadata": {
    "slideshow": {
     "slide_type": "slide"
    }
   },
   "source": [
    "---\n",
    "title: Expressions and Arithmetic\n",
    "abstract: |\n",
    "    This notebook explains how to read and write basic Python expressions for arithmetic operations. Much like mathematical expressions, the precise meanings of Python expressions must consider the precedence and associativity of the operators. \n",
    "---"
   ]
  },
  {
   "cell_type": "code",
   "execution_count": null,
   "id": "2e146ab4",
   "metadata": {},
   "outputs": [],
   "source": [
    "from __init__ import install_dependencies\n",
    "\n",
    "await install_dependencies()"
   ]
  },
  {
   "cell_type": "code",
   "execution_count": null,
   "id": "3ee41ba3",
   "metadata": {},
   "outputs": [],
   "source": [
    "import ast  # for AST\n",
    "import sys\n",
    "from dis import dis\n",
    "from ipywidgets import interact, fixed\n",
    "\n",
    "%load_ext divewidgets\n",
    "%load_ext jupyter_ai\n",
    "%ai update chatgpt dive:chat"
   ]
  },
  {
   "cell_type": "markdown",
   "id": "8690e181",
   "metadata": {
    "slideshow": {
     "slide_type": "slide"
    }
   },
   "source": [
    "## Floating Point Numbers"
   ]
  },
  {
   "cell_type": "markdown",
   "id": "c0fba2da",
   "metadata": {
    "slideshow": {
     "slide_type": "fragment"
    }
   },
   "source": [
    "Not all numbers are integers. In Enginneering, we often need to use fractions."
   ]
  },
  {
   "cell_type": "markdown",
   "id": "8de3bbcd",
   "metadata": {
    "slideshow": {
     "slide_type": "subslide"
    }
   },
   "source": [
    "**How to enter fractions in a program?**"
   ]
  },
  {
   "cell_type": "code",
   "execution_count": null,
   "id": "9cc557df",
   "metadata": {
    "slideshow": {
     "slide_type": "fragment"
    }
   },
   "outputs": [],
   "source": [
    "x = -0.1  # decimal number\n",
    "y = -1.0e-1  # scientific notation\n",
    "z = -1 / 10  # fraction\n",
    "x, y, z, type(x), type(y), type(z)"
   ]
  },
  {
   "cell_type": "markdown",
   "id": "362519db",
   "metadata": {
    "slideshow": {
     "slide_type": "subslide"
    }
   },
   "source": [
    "**What is the type `float`?**"
   ]
  },
  {
   "cell_type": "markdown",
   "id": "f469e3f3",
   "metadata": {
    "slideshow": {
     "slide_type": "fragment"
    }
   },
   "source": [
    "- `float` corresponds to the [*floating point* representation](https://en.wikipedia.org/wiki/Floating-point_arithmetic#Floating-point_numbers).  \n",
    "- A `float` is stored in a way like the [scientific notation](https://en.wikipedia.org/wiki/Scientific_notation): \n",
    "\n",
    "$$\n",
    "\\overbrace{-}^{\\text{sign}} \\underbrace{1.0}_{\\text{mantissa}\\kern-1em}e\\overbrace{-1}^{\\text{exponent}\\kern-1em}=-1\\times 10^{-1}\n",
    "$$"
   ]
  },
  {
   "cell_type": "markdown",
   "id": "6831813b",
   "metadata": {},
   "source": [
    "::::{seealso} How is a `float` represented in binary?\n",
    ":class: dropdown\n",
    "\n",
    "An efficient implementation is more complicated. Try the [IEEE-754 Floating Point Converter](https://www.h-schmidt.net/FloatConverter/IEEE754.html) for *single-precision* floating point number:\n",
    "\n",
    "- Starting from the number 0, click the button `+1` to find the smallest positive number.\n",
    "- Find the largest and smallest representable floating point numbers.\n",
    "\n",
    "::::"
   ]
  },
  {
   "cell_type": "markdown",
   "id": "fe112b7a",
   "metadata": {
    "slideshow": {
     "slide_type": "subslide"
    }
   },
   "source": [
    "Integers in mathematics may be regarded as a `float` instead of `int`:"
   ]
  },
  {
   "cell_type": "code",
   "execution_count": null,
   "id": "f187922e",
   "metadata": {
    "slideshow": {
     "slide_type": "-"
    }
   },
   "outputs": [],
   "source": [
    "type(1.0), type(1e2)"
   ]
  },
  {
   "cell_type": "markdown",
   "id": "7d7fb579",
   "metadata": {
    "slideshow": {
     "slide_type": "fragment"
    }
   },
   "source": [
    "You can also convert an `int` or a `str` to a `float`."
   ]
  },
  {
   "cell_type": "code",
   "execution_count": null,
   "id": "bf2abae4",
   "metadata": {
    "slideshow": {
     "slide_type": "-"
    }
   },
   "outputs": [],
   "source": [
    "float(1), float(\"1\")"
   ]
  },
  {
   "cell_type": "markdown",
   "id": "6c79f618",
   "metadata": {
    "slideshow": {
     "slide_type": "subslide"
    }
   },
   "source": [
    "**Is it better to store an integer as `float`?**"
   ]
  },
  {
   "cell_type": "markdown",
   "id": "424d782e",
   "metadata": {
    "slideshow": {
     "slide_type": "fragment"
    }
   },
   "source": [
    "Python stores a [floating point](https://docs.python.org/3/library/sys.html#sys.float_info) with finite precision, usually *64-bit/double* precision:"
   ]
  },
  {
   "cell_type": "code",
   "execution_count": null,
   "id": "55d49a2c",
   "metadata": {
    "slideshow": {
     "slide_type": "fragment"
    }
   },
   "outputs": [],
   "source": [
    "sys.float_info"
   ]
  },
  {
   "cell_type": "markdown",
   "id": "2ebcc05f",
   "metadata": {
    "slideshow": {
     "slide_type": "subslide"
    }
   },
   "source": [
    "It cannot accurately represent a number larger than the `max`:"
   ]
  },
  {
   "cell_type": "code",
   "execution_count": null,
   "id": "bb8e48c7",
   "metadata": {
    "slideshow": {
     "slide_type": "-"
    }
   },
   "outputs": [],
   "source": [
    "sys.float_info.max * 2"
   ]
  },
  {
   "cell_type": "markdown",
   "id": "bfb68971",
   "metadata": {
    "slideshow": {
     "slide_type": "fragment"
    }
   },
   "source": [
    "The precision also affects the check for equality."
   ]
  },
  {
   "cell_type": "code",
   "execution_count": null,
   "id": "fb122add",
   "metadata": {
    "slideshow": {
     "slide_type": "-"
    }
   },
   "outputs": [],
   "source": [
    "(\n",
    "    1.0 == 1.0 + sys.float_info.epsilon * 0.5,  # returns true if equal\n",
    "    1.0 == 1.0 + sys.float_info.epsilon * 0.6,\n",
    "    sys.float_info.max + 1 == sys.float_info.max,\n",
    ")"
   ]
  },
  {
   "cell_type": "markdown",
   "id": "ab328f06",
   "metadata": {
    "slideshow": {
     "slide_type": "fragment"
    }
   },
   "source": [
    "Another issue with float is that it may show more decimal places than desired."
   ]
  },
  {
   "cell_type": "code",
   "execution_count": null,
   "id": "37d0e8d5",
   "metadata": {
    "slideshow": {
     "slide_type": "-"
    }
   },
   "outputs": [],
   "source": [
    "1 / 3"
   ]
  },
  {
   "cell_type": "markdown",
   "id": "2e0cc01a",
   "metadata": {
    "slideshow": {
     "slide_type": "subslide"
    }
   },
   "source": [
    "**How to [round](https://docs.python.org/3/library/functions.html#round) a floating point number to the desired number of decimal places?**"
   ]
  },
  {
   "cell_type": "code",
   "execution_count": null,
   "id": "88659893",
   "metadata": {
    "slideshow": {
     "slide_type": "fragment"
    }
   },
   "outputs": [],
   "source": [
    "round(2.665, 2), round(2.675, 2)"
   ]
  },
  {
   "cell_type": "markdown",
   "id": "75807bec",
   "metadata": {
    "slideshow": {
     "slide_type": "fragment"
    }
   },
   "source": [
    "::::{seealso} Why 2.675 rounds to 2.67 instead of 2.68?\n",
    ":class: dropdown\n",
    "\n",
    "- A `float` is actually represented in binary.  \n",
    "- A decimal fraction [may not be represented exactly in binary](https://docs.python.org/3/tutorial/floatingpoint.html#tut-fp-issues).\n",
    "\n",
    "::::"
   ]
  },
  {
   "cell_type": "markdown",
   "id": "f189227d",
   "metadata": {},
   "source": [
    "::::{exercise} binary representations of fractions\n",
    ":label: ex:float\n",
    "\n",
    "Use the [IEEE-754 Floating Point Converter](https://www.h-schmidt.net/FloatConverter/IEEE754.html) to find out the value actually stored in float for 2.675.\n",
    "\n",
    "::::"
   ]
  },
  {
   "cell_type": "markdown",
   "id": "e40b9359",
   "metadata": {
    "deletable": false,
    "nbgrader": {
     "cell_type": "markdown",
     "checksum": "76a95741eb5749c3feb92c3e4bf95d96",
     "grade": true,
     "grade_id": "precision-round",
     "locked": false,
     "points": 0,
     "schema_version": 3,
     "solution": true,
     "task": false
    }
   },
   "source": [
    "YOUR ANSWER HERE"
   ]
  },
  {
   "cell_type": "markdown",
   "id": "edcd0925",
   "metadata": {
    "slideshow": {
     "slide_type": "subslide"
    }
   },
   "source": [
    "The `round` function can also be applied to an integer."
   ]
  },
  {
   "cell_type": "code",
   "execution_count": null,
   "id": "6c7b3f48",
   "metadata": {
    "slideshow": {
     "slide_type": "fragment"
    }
   },
   "outputs": [],
   "source": [
    "round(150, -2), round(250, -2)"
   ]
  },
  {
   "cell_type": "markdown",
   "id": "3e60c87f",
   "metadata": {
    "slideshow": {
     "slide_type": "fragment"
    }
   },
   "source": [
    "::::{card}\n",
    ":header: Why 250 rounds to 200 instead of 300?\n",
    "\n",
    "- Python 3 implements the default rounding method in [IEEE 754](https://en.wikipedia.org/wiki/IEEE_754#Rounding_rules).\n",
    "\n",
    "::::"
   ]
  },
  {
   "cell_type": "markdown",
   "id": "f08b2a92",
   "metadata": {},
   "source": [
    "::::{seealso} Arbitrary precision arithmetic\n",
    ":class: dropdown\n",
    "\n",
    "Indeed, computers can perform arbitrary precision arithmetic such as the quadratic equation solver in this Maxima notebook:\n",
    "> [](Maxima.ipynb)\n",
    "\n",
    "How could this work? Why use `float` if computers can represent numbers with arbitrary precision?\n",
    "\n",
    "::::"
   ]
  },
  {
   "cell_type": "code",
   "execution_count": null,
   "id": "b35ecd23",
   "metadata": {},
   "outputs": [],
   "source": [
    "%%ai chatgpt -f text\n",
    "Explain in one paragraph how arbitrary precision arithmetic works in a computer despite the memory being finite. \n",
    "If we can have arbitrary precision arithmetic, why do we need floats?"
   ]
  },
  {
   "cell_type": "markdown",
   "id": "65cb666a",
   "metadata": {
    "slideshow": {
     "slide_type": "slide"
    }
   },
   "source": [
    "## Operators"
   ]
  },
  {
   "cell_type": "markdown",
   "id": "bc7209be",
   "metadata": {
    "slideshow": {
     "slide_type": "fragment"
    }
   },
   "source": [
    "The followings are common operators you can use to form an expression in Python:"
   ]
  },
  {
   "cell_type": "markdown",
   "id": "7fbe2680",
   "metadata": {
    "slideshow": {
     "slide_type": "-"
    }
   },
   "source": [
    "| Operator  |   Operation    | Example |\n",
    "| --------: | :------------- | :-----: |\n",
    "| unary `-` | Negation       |  `-y`   |\n",
    "|       `+` | Addition       | `x + y` |\n",
    "|       `-` | Subtraction    | `x - y` |\n",
    "|       `*` | Multiplication |  `x*y`  |\n",
    "|       `/` | Division       |  `x/y`  |"
   ]
  },
  {
   "cell_type": "markdown",
   "id": "e185d4ad",
   "metadata": {
    "slideshow": {
     "slide_type": "fragment"
    }
   },
   "source": [
    "- `x` and `y` in the examples are called the *left and right operands* respectively.\n",
    "- The first operator is a *unary operator*, which operates on just one operand.[^unary_plus]\n",
    "- All other operators are *binary operators*, which operate on two operands.\n",
    "\n",
    "[^unary_plus]: `+` can also be used as a unary operator, but it is not very useful."
   ]
  },
  {
   "cell_type": "markdown",
   "id": "1df74f60",
   "metadata": {
    "slideshow": {
     "slide_type": "subslide"
    }
   },
   "source": [
    "Python also supports some more operators:"
   ]
  },
  {
   "cell_type": "markdown",
   "id": "b316e7c8",
   "metadata": {
    "slideshow": {
     "slide_type": "-"
    }
   },
   "source": [
    "| Operator |    Operation     | Example |\n",
    "| -------: | :--------------- | :-----: |\n",
    "|     `//` | Integer division | `x//y`  |\n",
    "|      `%` | Modulo           |  `x%y`  |\n",
    "|     `**` | Exponentiation   | `x**y`  |"
   ]
  },
  {
   "cell_type": "markdown",
   "id": "b1cc7878",
   "metadata": {},
   "source": [
    "The following demonstrates the operations of binary operators:"
   ]
  },
  {
   "cell_type": "code",
   "execution_count": null,
   "id": "f5ef4713",
   "metadata": {
    "code_folding": [
     0
    ],
    "slideshow": {
     "slide_type": "subslide"
    }
   },
   "outputs": [],
   "source": [
    "binary_operators = {\n",
    "    \"+\": \" + \",\n",
    "    \"-\": \" - \",\n",
    "    \"*\": \"*\",\n",
    "    \"/\": \"/\",\n",
    "    \"//\": \"//\",\n",
    "    \"%\": \"%\",\n",
    "    \"**\": \"**\",\n",
    "}\n",
    "\n",
    "\n",
    "@interact(operand1=r\"10\", operator=binary_operators, operand2=r\"3\")\n",
    "def binary_operation(operand1, operator, operand2):\n",
    "    expression = f\"{operand1}{operator}{operand2}\"\n",
    "    value = eval(expression)\n",
    "    print(\n",
    "        f\"\"\"{'Expression:':>11} {expression}\\n{'Value:':>11} {value}\\n{'Type:':>11} {type(value)}\"\"\"\n",
    "    )"
   ]
  },
  {
   "cell_type": "markdown",
   "id": "79950858",
   "metadata": {
    "slideshow": {
     "slide_type": "-"
    }
   },
   "source": [
    "::::{note} What does the modulo operator `%` do?\n",
    "\n",
    "You can think of it as computing the remainder, but the [truth](https://docs.python.org/3/reference/expressions.html#binary-arithmetic-operations) is more complicated. Try using fractions and negative numbers for the operands.\n",
    "\n",
    ":::{seealso} Modular Arithmetic\n",
    ":class: dropdown\n",
    "\n",
    "The operator implements the [modular arithmetic](https://en.wikipedia.org/wiki/Modular_arithmetic) in Mathematics. The second operand is called the modulus, which means measure in Latin.\n",
    "\n",
    ":::\n",
    "\n",
    "::::"
   ]
  },
  {
   "cell_type": "markdown",
   "id": "1d47087d",
   "metadata": {
    "slideshow": {
     "slide_type": "subslide"
    }
   },
   "source": [
    ":::{exercise} division\n",
    ":label: ex:division\n",
    "\n",
    "What is the difference between `/` and `//`?\n",
    "\n",
    ":::"
   ]
  },
  {
   "cell_type": "markdown",
   "id": "6d430e44",
   "metadata": {
    "deletable": false,
    "nbgrader": {
     "cell_type": "markdown",
     "checksum": "bb9d7652c3d48ca53bba8eccf492ef05",
     "grade": true,
     "grade_id": "integer-division",
     "locked": false,
     "points": 0,
     "schema_version": 3,
     "solution": true,
     "task": false
    },
    "slideshow": {
     "slide_type": "-"
    }
   },
   "source": [
    "YOUR ANSWER HERE"
   ]
  },
  {
   "cell_type": "markdown",
   "id": "b7456c19",
   "metadata": {
    "slideshow": {
     "slide_type": "subslide"
    }
   },
   "source": [
    "::::{exercise} multiplication\n",
    ":label: ex:multiplication\n",
    "\n",
    "What does `'abc' * 3` mean? What about `10 * 'a'`?\n",
    "\n",
    "::::"
   ]
  },
  {
   "cell_type": "markdown",
   "id": "dd0e7040",
   "metadata": {
    "deletable": false,
    "nbgrader": {
     "cell_type": "markdown",
     "checksum": "d4ecd125dcf08f5ba4320e8c1584b692",
     "grade": true,
     "grade_id": "concatenation",
     "locked": false,
     "points": 0,
     "schema_version": 3,
     "solution": true,
     "task": false
    },
    "slideshow": {
     "slide_type": "-"
    }
   },
   "source": [
    "YOUR ANSWER HERE"
   ]
  },
  {
   "cell_type": "markdown",
   "id": "91cb16bc",
   "metadata": {
    "slideshow": {
     "slide_type": "fragment"
    }
   },
   "source": [
    "::::{exercise} operand types\n",
    ":label: ex:operand-type\n",
    "\n",
    "How can you change the default operands (`10` and `3`) for different operators so that the overall expression has type `float`? Do you need to change all the operands to `float`?\n",
    "\n",
    "::::"
   ]
  },
  {
   "cell_type": "markdown",
   "id": "ec816e9d",
   "metadata": {
    "deletable": false,
    "nbgrader": {
     "cell_type": "markdown",
     "checksum": "c17c6d48f40d50c42237ef5705b4b0af",
     "grade": true,
     "grade_id": "mixed-type",
     "locked": false,
     "points": 0,
     "schema_version": 3,
     "solution": true,
     "task": false
    },
    "slideshow": {
     "slide_type": "-"
    }
   },
   "source": [
    "YOUR ANSWER HERE"
   ]
  },
  {
   "cell_type": "markdown",
   "id": "6d409b34",
   "metadata": {
    "slideshow": {
     "slide_type": "slide"
    }
   },
   "source": [
    "## Operator Precedence and Associativity"
   ]
  },
  {
   "cell_type": "markdown",
   "id": "5ab75da2",
   "metadata": {
    "slideshow": {
     "slide_type": "fragment"
    }
   },
   "source": [
    "An expression can consist of a sequence of operations performed in a row. For instance, does `x + y * z` means\n",
    "\n",
    "1. `(x + y) * z` or\n",
    "2. `x + (y * z)`?\n",
    "\n",
    "In other words, should the operand `y` be associated with `+` or `*`. In Mathematics, multiplication has higher priority, and so `y` should be associated with `*`. This rule also applies to the Python expression. The association can be seen explicitly from the [Abstract Syntax Tree (AST)](https://docs.python.org/3/library/ast.html):"
   ]
  },
  {
   "cell_type": "code",
   "execution_count": null,
   "id": "a91a4df1",
   "metadata": {},
   "outputs": [],
   "source": [
    "print(ast.dump(ast.parse(\"x + y*z\", mode='eval'), indent=4))"
   ]
  },
  {
   "cell_type": "markdown",
   "id": "81436888",
   "metadata": {
    "slideshow": {
     "slide_type": "subslide"
    }
   },
   "source": [
    "**How to determine the order of operations?**"
   ]
  },
  {
   "cell_type": "markdown",
   "id": "941b248e",
   "metadata": {
    "slideshow": {
     "slide_type": "fragment"
    }
   },
   "source": [
    "Like arithmetics, an operand is associated with an operator according to the following list of rules in order, and the operator precedence and associativity in [](#tbl:prec-assoc):\n",
    "1. *Grouping* by parentheses: Operator in the inner grouping first.\n",
    "1. Operator *precedence/priority*: Operator of higher precedence first.\n",
    "1. Operator *associativity*:  \n",
    "    - Left associativity: Operators are grouped from left to right.\n",
    "    - Right associativity: Operator are grouped from right to left."
   ]
  },
  {
   "cell_type": "markdown",
   "id": "71bc3e02",
   "metadata": {
    "slideshow": {
     "slide_type": "-"
    }
   },
   "source": [
    "::::{table} Operator precedence and associativity\n",
    ":label: tbl:prec-assoc\n",
    "\n",
    "|    Operators     | Associativity |\n",
    "| :--------------- | :-----------: |\n",
    "| `**`             |     right     |\n",
    "| `-` (unary)      |     right     |\n",
    "| `*`,`/`,`//`,`%` |     left      |\n",
    "| `+`,`-`          |     left      |\n",
    "::::"
   ]
  },
  {
   "cell_type": "markdown",
   "id": "ce2a9f1f",
   "metadata": {},
   "source": [
    "For instance, `x + y - z` is equivalent to `((x + y) - z)` because both `+` and `-` are left associative, and so the operands are grouped with the operators from left to right."
   ]
  },
  {
   "cell_type": "code",
   "execution_count": null,
   "id": "c0cab560",
   "metadata": {},
   "outputs": [],
   "source": [
    "print(ast.dump(ast.parse(\"x + y - z\", mode='eval'), indent=4))"
   ]
  },
  {
   "cell_type": "markdown",
   "id": "a5c30f98",
   "metadata": {},
   "source": [
    "As another example, `x ** y ** z` is equivalent to `(x ** (y ** z))` because `**` is right associative, and so the operands are grouped with the operators from right to left."
   ]
  },
  {
   "cell_type": "code",
   "execution_count": null,
   "id": "41c70a22",
   "metadata": {},
   "outputs": [],
   "source": [
    "print(ast.dump(ast.parse(\"x ** y ** z\", mode='eval'), indent=4))"
   ]
  },
  {
   "cell_type": "markdown",
   "id": "7a76c0f3",
   "metadata": {
    "slideshow": {
     "slide_type": "subslide"
    }
   },
   "source": [
    "::::{exercise}\n",
    ":label: ex:precedence1\n",
    "\n",
    "Explain the value of the expression `-10 ** -2*3`. In particular, why is the second unary operator `-` evaluated first before `**` even though `**` has a higher precedence?\n",
    "\n",
    "::::"
   ]
  },
  {
   "cell_type": "markdown",
   "id": "72033cd0",
   "metadata": {
    "deletable": false,
    "nbgrader": {
     "cell_type": "markdown",
     "checksum": "0c0b37e572d736ec00ff80462a498e5c",
     "grade": true,
     "grade_id": "precedence",
     "locked": false,
     "points": 0,
     "schema_version": 3,
     "solution": true,
     "task": false
    },
    "slideshow": {
     "slide_type": "-"
    }
   },
   "source": [
    "YOUR ANSWER HERE"
   ]
  },
  {
   "cell_type": "code",
   "execution_count": null,
   "id": "9ced3169",
   "metadata": {},
   "outputs": [],
   "source": [
    "%%ai chatgpt -f text\n",
    "Explain the value of the expression -10 ** -2*3. \n",
    "In particular, why is the second unary operator - evaluated first before ** even though ** has a higher precedence?"
   ]
  },
  {
   "cell_type": "markdown",
   "id": "e7a4bd10",
   "metadata": {
    "slideshow": {
     "slide_type": "fragment"
    }
   },
   "source": [
    "::::{exercise} \n",
    ":label: ex:precedence2\n",
    "\n",
    "To avoid confusion in the order of operations, we should follow the [style guide](https://www.python.org/dev/peps/pep-0008/#other-recommendations) when writing expression. What is the proper way to write `-10 ** 2*3`? \n",
    "\n",
    ":::{tip}\n",
    ":class: dropdown\n",
    "\n",
    "You can use the [code formatter](https://jupyterlab-code-formatter.readthedocs.io/) in JupyterLab to apply the correct programming styles to your code.\n",
    ":::\n",
    "\n",
    "::::"
   ]
  },
  {
   "cell_type": "code",
   "execution_count": null,
   "id": "5ea95dcd",
   "metadata": {
    "deletable": false,
    "nbgrader": {
     "cell_type": "code",
     "checksum": "8012f9eb4ecd82095fd0d6374c4c4f96",
     "grade": false,
     "grade_id": "pep8",
     "locked": false,
     "schema_version": 3,
     "solution": true,
     "task": false
    },
    "slideshow": {
     "slide_type": "-"
    }
   },
   "outputs": [],
   "source": [
    "# YOUR CODE HERE\n",
    "raise NotImplementedError"
   ]
  },
  {
   "cell_type": "markdown",
   "id": "2fb09cd9",
   "metadata": {
    "slideshow": {
     "slide_type": "slide"
    }
   },
   "source": [
    "## Augmented Assignment Operators"
   ]
  },
  {
   "cell_type": "markdown",
   "id": "1eabc028",
   "metadata": {
    "slideshow": {
     "slide_type": "fragment"
    }
   },
   "source": [
    "For convenience, Python defines the [augmented assignment operators](https://docs.python.org/3/reference/simple_stmts.html#grammar-token-augmented-assignment-stmt) such as `+=`, where  \n",
    "> `x += 1` means `x = x + 1`."
   ]
  },
  {
   "cell_type": "markdown",
   "id": "275f7381",
   "metadata": {
    "slideshow": {
     "slide_type": "fragment"
    }
   },
   "source": [
    "The following widgets demonstrate other augmented assignment operators."
   ]
  },
  {
   "cell_type": "code",
   "execution_count": null,
   "id": "381ea585",
   "metadata": {
    "slideshow": {
     "slide_type": "-"
    }
   },
   "outputs": [],
   "source": [
    "@interact(\n",
    "    initial_value=fixed(r\"10\"),\n",
    "    operator=[\"+=\", \"-=\", \"*=\", \"/=\", \"//=\", \"%=\", \"**=\"],\n",
    "    operand=fixed(r\"2\"),\n",
    ")\n",
    "def binary_operation(initial_value, operator, operand):\n",
    "    assignment = f\"x = {initial_value}\\nx {operator} {operand}\"\n",
    "    _locals = {}\n",
    "    exec(assignment, None, _locals)\n",
    "    print(f\"Assignments:\\n{assignment:>10}\\nx: {_locals['x']} ({type(_locals['x'])})\")"
   ]
  },
  {
   "cell_type": "markdown",
   "id": "8a94ad48",
   "metadata": {
    "slideshow": {
     "slide_type": "subslide"
    }
   },
   "source": [
    "::::{seealso} Assignment expression instead of statement\n",
    ":class: dropdown\n",
    "\n",
    "Starting from Python 3.8, there is an [assignment expression](https://docs.python.org/3/whatsnew/3.8.html#assignment-expressions) using the operator `:=`. Unlike the (augmented) assignment operators, the operator returns the value assigned.\n",
    "\n",
    "::::"
   ]
  },
  {
   "cell_type": "code",
   "execution_count": null,
   "id": "5667ae3f",
   "metadata": {},
   "outputs": [],
   "source": [
    "y = 3*(x := 15)\n",
    "x, y"
   ]
  },
  {
   "cell_type": "markdown",
   "id": "3682a0b9",
   "metadata": {
    "slideshow": {
     "slide_type": "subslide"
    }
   },
   "source": [
    "::::{exercise}\n",
    ":label: ex:augmented-assignment\n",
    "\n",
    "Can we create an expression using (augmented) assignment operators? Try running the code to see the effect.\n",
    "\n",
    "::::"
   ]
  },
  {
   "cell_type": "code",
   "execution_count": null,
   "id": "18737b9a",
   "metadata": {
    "slideshow": {
     "slide_type": "-"
    }
   },
   "outputs": [],
   "source": [
    "%%optlite -l -h 400\n",
    "3*(x = 15)"
   ]
  },
  {
   "cell_type": "markdown",
   "id": "f446be34",
   "metadata": {
    "deletable": false,
    "nbgrader": {
     "cell_type": "markdown",
     "checksum": "454a97bd9237b5f40285026dc7f4efcc",
     "grade": true,
     "grade_id": "assignment-statement",
     "locked": false,
     "points": 0,
     "schema_version": 3,
     "solution": true,
     "task": false
    },
    "slideshow": {
     "slide_type": "-"
    }
   },
   "source": [
    "YOUR ANSWER HERE"
   ]
  },
  {
   "cell_type": "markdown",
   "id": "09e1c446",
   "metadata": {
    "slideshow": {
     "slide_type": "slide"
    }
   },
   "source": [
    "## String Formatting"
   ]
  },
  {
   "cell_type": "markdown",
   "id": "fc337ce2",
   "metadata": {
    "slideshow": {
     "slide_type": "subslide"
    }
   },
   "source": [
    "**Can we round a `float` or `int` for printing but not calculation?**"
   ]
  },
  {
   "cell_type": "markdown",
   "id": "97fe3e9d",
   "metadata": {
    "slideshow": {
     "slide_type": "fragment"
    }
   },
   "source": [
    "This is possible with format strings:"
   ]
  },
  {
   "cell_type": "code",
   "execution_count": null,
   "id": "b76edefe",
   "metadata": {
    "slideshow": {
     "slide_type": "-"
    }
   },
   "outputs": [],
   "source": [
    "x = 10000 / 3\n",
    "print(\"x ≈ {:.2f} (rounded to 2 decimal places)\".format(x))\n",
    "x"
   ]
  },
  {
   "cell_type": "markdown",
   "id": "0b385d64",
   "metadata": {
    "slideshow": {
     "slide_type": "fragment"
    }
   },
   "source": [
    "- `{:.2f}` is a [*replacement field*][repf] or place holder\n",
    "- that gets replaced by a string \n",
    "- that represents the argument `x` of `format` \n",
    "- according to the [format specification][fspec] `.2f`, i.e.,  \n",
    "  a decimal floating point number rounded to 2 decimal places.\n",
    "  \n",
    "[repf]: https://docs.python.org/3/library/string.html#format-string-syntax\n",
    "[fspec]: https://docs.python.org/3/library/string.html#format-specification-mini-language"
   ]
  },
  {
   "cell_type": "markdown",
   "id": "45488d6a",
   "metadata": {
    "slideshow": {
     "slide_type": "subslide"
    }
   },
   "source": [
    "::::{exercise} format `float`\n",
    ":label: ex:format-float\n",
    "\n",
    "Play with the following widget to learn the effect of different format specifications. In particular, print `10000/3` as `3,333.33`.\n",
    "\n",
    "::::"
   ]
  },
  {
   "cell_type": "code",
   "execution_count": null,
   "id": "0a787e5c",
   "metadata": {
    "code_folding": [
     7
    ],
    "slideshow": {
     "slide_type": "-"
    }
   },
   "outputs": [],
   "source": [
    "@interact(\n",
    "    x=\"10000/3\",\n",
    "    align={\"None\": \"\", \"<\": \"<\", \">\": \">\", \"=\": \"=\", \"^\": \"^\"},\n",
    "    sign={\"None\": \"\", \"+\": \"+\", \"-\": \"-\", \"SPACE\": \" \"},\n",
    "    width=(0, 20),\n",
    "    grouping={\"None\": \"\", \"_\": \"_\", \",\": \",\"},\n",
    "    precision=(0, 20),\n",
    ")\n",
    "def print_float(x, sign, align, grouping, width=0, precision=2):\n",
    "    format_spec = (\n",
    "        f\"{{:{align}{sign}{'' if width==0 else width}{grouping}.{precision}f}}\"\n",
    "    )\n",
    "    print(\"Format spec:\", format_spec)\n",
    "    print(\"x ≈\", format_spec.format(eval(x)))"
   ]
  },
  {
   "cell_type": "code",
   "execution_count": null,
   "id": "bd8f068e",
   "metadata": {
    "deletable": false,
    "nbgrader": {
     "cell_type": "code",
     "checksum": "a463f1e37e0e11815762435972400dbf",
     "grade": true,
     "grade_id": "format-spec",
     "locked": false,
     "points": 0,
     "schema_version": 3,
     "solution": true,
     "task": false
    },
    "slideshow": {
     "slide_type": "-"
    }
   },
   "outputs": [],
   "source": [
    "# YOUR CODE HERE\n",
    "raise NotImplementedError"
   ]
  },
  {
   "cell_type": "markdown",
   "id": "1d7bca5b",
   "metadata": {
    "slideshow": {
     "slide_type": "subslide"
    }
   },
   "source": [
    "String formatting is useful for different data types other than `float`.  \n",
    "E.g., consider the following program that prints a time specified by some variables."
   ]
  },
  {
   "cell_type": "code",
   "execution_count": null,
   "id": "890e6ccf",
   "metadata": {
    "slideshow": {
     "slide_type": "-"
    }
   },
   "outputs": [],
   "source": [
    "# Some specified time\n",
    "hour = 12\n",
    "minute = 34\n",
    "second = 56\n",
    "\n",
    "print(\"The time is \" + str(hour) + \":\" + str(minute) + \":\" + str(second) + \".\")"
   ]
  },
  {
   "cell_type": "markdown",
   "id": "02bd70cd",
   "metadata": {
    "slideshow": {
     "slide_type": "fragment"
    }
   },
   "source": [
    "Imagine you have to show also the date in different formats.  \n",
    "The code can become very hard to read/write because \n",
    "- the message is a concatenation of multiple strings and\n",
    "- the integer variables need to be converted to strings."
   ]
  },
  {
   "cell_type": "markdown",
   "id": "e6c1c3e0",
   "metadata": {
    "slideshow": {
     "slide_type": "fragment"
    }
   },
   "source": [
    "Omitting `+` leads to syntax error. Removing `str` as follows also does not give the desired format."
   ]
  },
  {
   "cell_type": "code",
   "execution_count": null,
   "id": "4fec5481",
   "metadata": {
    "slideshow": {
     "slide_type": "-"
    }
   },
   "outputs": [],
   "source": [
    "print(\"The time is \", hour, \":\", minute, \":\", second, \".\")  # note the extra spaces"
   ]
  },
  {
   "cell_type": "markdown",
   "id": "599be614",
   "metadata": {
    "slideshow": {
     "slide_type": "subslide"
    }
   },
   "source": [
    "To make the code more readable, we can use the `format` function as follows."
   ]
  },
  {
   "cell_type": "code",
   "execution_count": null,
   "id": "df082035",
   "metadata": {
    "slideshow": {
     "slide_type": "-"
    }
   },
   "outputs": [],
   "source": [
    "message = \"The time is {}:{}:{}.\"\n",
    "print(message.format(hour, minute, second))"
   ]
  },
  {
   "cell_type": "markdown",
   "id": "4409b6b4",
   "metadata": {
    "slideshow": {
     "slide_type": "fragment"
    }
   },
   "source": [
    "The `format` function replaces the placeholders `{}` with its arguments, in order."
   ]
  },
  {
   "cell_type": "markdown",
   "id": "f74bc1c8",
   "metadata": {
    "slideshow": {
     "slide_type": "subslide"
    }
   },
   "source": [
    "According to the [string formatting syntax](https://docs.python.org/3/library/string.html#format-string-syntax), we can also change the order of substitution using:\n",
    "- Indices *(0 is the first item)*, or\n",
    "- Names inside the placeholders `{}`."
   ]
  },
  {
   "cell_type": "code",
   "execution_count": null,
   "id": "5e5f638f",
   "metadata": {
    "slideshow": {
     "slide_type": "fragment"
    }
   },
   "outputs": [],
   "source": [
    "print(\"You should {0} {1} what I say instead of what I {0}.\".format(\"do\", \"only\"))\n",
    "print(\"The surname of {first} {last} is {last}.\".format(first=\"John\", last=\"Doe\"))"
   ]
  },
  {
   "cell_type": "markdown",
   "id": "a2045c28",
   "metadata": {
    "slideshow": {
     "slide_type": "subslide"
    }
   },
   "source": [
    "We can also evaluate variables inside the replacement field:"
   ]
  },
  {
   "cell_type": "code",
   "execution_count": null,
   "id": "efbe3695",
   "metadata": {},
   "outputs": [],
   "source": [
    "yyyy, mm = \"2024\", \"09\""
   ]
  },
  {
   "cell_type": "code",
   "execution_count": null,
   "id": "3f286841",
   "metadata": {},
   "outputs": [],
   "source": [
    "f\"\"\"{yyyy}{mm}CS1302\n",
    "Intro to Comp Progm'g\"\"\""
   ]
  },
  {
   "cell_type": "markdown",
   "id": "3f1ea70e",
   "metadata": {
    "slideshow": {
     "slide_type": "fragment"
    }
   },
   "source": [
    "::::{seealso} f-string\n",
    ":class: dropdown\n",
    "\n",
    "The above multiline string may look familiar to you:\n",
    "\n",
    "![](cs1302.svg)\n",
    "\n",
    "`f\"...\"` is called an [f-string](https://docs.python.org/3/tutorial/inputoutput.html#tut-f-strings). It is a syntax specific to python introduced in [PEP 498](https://peps.python.org/pep-0498/).\n",
    "\n",
    "::::"
   ]
  },
  {
   "cell_type": "markdown",
   "id": "1cf89619",
   "metadata": {
    "slideshow": {
     "slide_type": "subslide"
    }
   },
   "source": [
    "::::{exercise} f-string\n",
    ":label: ex:f-string\n",
    "\n",
    "Play with the following widget to learn more about the formating specification.  \n",
    "1. What happens when `align` is none but `fill` is `*`?\n",
    "1. What happens when the `expression` is a multi-line string?\n",
    "\n",
    "::::"
   ]
  },
  {
   "cell_type": "code",
   "execution_count": null,
   "id": "de212ae4",
   "metadata": {
    "code_folding": [],
    "slideshow": {
     "slide_type": "-"
    }
   },
   "outputs": [],
   "source": [
    "@interact(\n",
    "    expression=r\"'ABC'\",\n",
    "    fill=\"*\",\n",
    "    align={\"None\": \"\", \"<\": \"<\", \">\": \">\", \"=\": \"=\", \"^\": \"^\"},\n",
    "    width=(0, 20),\n",
    ")\n",
    "def print_object(expression, fill, align=\"^\", width=10):\n",
    "    format_spec = f\"{{:{fill}{align}{'' if width==0 else width}}}\"\n",
    "    print(\"Format spec:\", format_spec)\n",
    "    print(\"Print:\", format_spec.format(eval(expression)))"
   ]
  },
  {
   "cell_type": "markdown",
   "id": "22815959",
   "metadata": {
    "deletable": false,
    "nbgrader": {
     "cell_type": "markdown",
     "checksum": "7df87438b481c0581d0b7e425335d263",
     "grade": true,
     "grade_id": "string-formatting",
     "locked": false,
     "points": 0,
     "schema_version": 3,
     "solution": true,
     "task": false
    }
   },
   "source": [
    "YOUR ANSWER HERE"
   ]
  }
 ],
 "metadata": {
  "kernelspec": {
   "display_name": "Python 3 (ipykernel)",
   "language": "python",
   "name": "python3"
  }
 },
 "nbformat": 4,
 "nbformat_minor": 5
}
