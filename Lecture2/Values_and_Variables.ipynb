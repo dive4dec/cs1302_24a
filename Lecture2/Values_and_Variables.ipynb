{
 "cells": [
  {
   "cell_type": "markdown",
   "id": "54ebceb7",
   "metadata": {
    "editable": true,
    "slideshow": {
     "slide_type": "slide"
    }
   },
   "source": [
    "---\n",
    "title: Values and Variables\n",
    "abstract: |\n",
    "    In this notebook, readers will see how different expressions in a computer program get evaluated to different types of values. With variables, programmers can assign a meaningful name, known as an identifier, to a value of various types without having to worry about where it should be stored and transferred in the physical storage unit for computations. At this point, readers may regard identifiers simply as variables that can take different values, although this model will be refined later with the concepts of aliasing and mutations.\n",
    "---"
   ]
  },
  {
   "cell_type": "code",
   "execution_count": null,
   "id": "45b0bf4b",
   "metadata": {
    "editable": true,
    "slideshow": {
     "slide_type": "slide"
    }
   },
   "outputs": [],
   "source": [
    "import sys  # to access system-specific parameters\n",
    "from dis import dis  # for disassembly of bytecode\n",
    "from ipywidgets import interact  # for interactive user interface controls\n",
    "\n",
    "# use OPTLite to visualize code execution\n",
    "%load_ext divewidgets\n",
    "# Set LLM alias\n",
    "%load_ext jupyter_ai\n",
    "%ai update chatgpt dive:chat"
   ]
  },
  {
   "cell_type": "markdown",
   "id": "bb7bcc14",
   "metadata": {
    "editable": true,
    "slideshow": {
     "slide_type": "slide"
    }
   },
   "source": [
    "## Values"
   ]
  },
  {
   "cell_type": "markdown",
   "id": "ade5f4bf",
   "metadata": {
    "editable": true,
    "slideshow": {
     "slide_type": ""
    }
   },
   "source": [
    "Programming is the art of instructing a computer to perform tasks by manipulating data, which is represented as values. In mathematical terms, a computer (programming language) is essentially a set of rules for how values are stored and manipulated[^turing]. In other words, values are the building blocks of computation, and they represent a specific piece of data that can be manipulated in various ways.\n",
    "\n",
    "[^turing]: Indeed, a program that defines what values to compute is essentially a value itself. More precisely, one cannot distinguish between a value and a program in the context of a [Turing Machine](https://en.wikipedia.org/wiki/Turing_machine)."
   ]
  },
  {
   "cell_type": "markdown",
   "id": "76828c72",
   "metadata": {
    "slideshow": {
     "slide_type": "slide"
    }
   },
   "source": [
    "### Integers"
   ]
  },
  {
   "cell_type": "markdown",
   "id": "43117e30",
   "metadata": {},
   "source": [
    "While a machine language only uses binary numbers as values, a higher-level programming language provides more flexible and expressive ways to represent and manipulate values."
   ]
  },
  {
   "cell_type": "markdown",
   "id": "b63f9551",
   "metadata": {
    "editable": true,
    "slideshow": {
     "slide_type": ""
    }
   },
   "source": [
    "In Python, for instance, we can enter an [integer](https://docs.python.org/3/reference/lexical_analysis.html#integer-literals) in different number systems as follows."
   ]
  },
  {
   "cell_type": "code",
   "execution_count": null,
   "id": "7fb33034",
   "metadata": {
    "slideshow": {
     "slide_type": "fragment"
    }
   },
   "outputs": [],
   "source": [
    "# in decimal (base 10)\n",
    "15"
   ]
  },
  {
   "cell_type": "code",
   "execution_count": null,
   "id": "4b34416a",
   "metadata": {
    "editable": true,
    "slideshow": {
     "slide_type": "-"
    }
   },
   "outputs": [],
   "source": [
    "# in 'b'inary (base 2)\n",
    "0b1111"
   ]
  },
  {
   "cell_type": "code",
   "execution_count": null,
   "id": "e83fdb55",
   "metadata": {
    "editable": true,
    "slideshow": {
     "slide_type": ""
    }
   },
   "outputs": [],
   "source": [
    "# in 'o'ctadecimal (base 8)\n",
    "0o17"
   ]
  },
  {
   "cell_type": "code",
   "execution_count": null,
   "id": "1d3219ed",
   "metadata": {
    "editable": true,
    "slideshow": {
     "slide_type": "-"
    }
   },
   "outputs": [],
   "source": [
    "# in he'x'adecimal (base 16)\n",
    "0xF"
   ]
  },
  {
   "cell_type": "markdown",
   "id": "eeb99396",
   "metadata": {
    "editable": true,
    "slideshow": {
     "slide_type": "fragment"
    }
   },
   "source": [
    "All the above expressions are *integer literals*, namely, integers written out literally. They have the same numerical value, which is printed in decimal by default."
   ]
  },
  {
   "cell_type": "markdown",
   "id": "eaa395f0",
   "metadata": {
    "editable": true,
    "slideshow": {
     "slide_type": ""
    }
   },
   "source": [
    "::::{caution}\n",
    ":class: dropdown\n",
    "\n",
    "Later in the course, you will learn that the object assigned to a variable and the value it represents are two different concepts. Indeed, equality is a comparison operation that can be redefined by the programmer.\n",
    "::::"
   ]
  },
  {
   "cell_type": "markdown",
   "id": "6b0f1bac",
   "metadata": {
    "editable": true,
    "slideshow": {
     "slide_type": ""
    }
   },
   "source": [
    "There are also expressions with integer values but are not integer literals:"
   ]
  },
  {
   "cell_type": "code",
   "execution_count": null,
   "id": "946df9e5",
   "metadata": {
    "slideshow": {
     "slide_type": "fragment"
    }
   },
   "outputs": [],
   "source": [
    "4 + 5 + 6"
   ]
  },
  {
   "cell_type": "code",
   "execution_count": null,
   "id": "ff487161",
   "metadata": {},
   "outputs": [],
   "source": [
    "pow(2, 4) - 1"
   ]
  },
  {
   "cell_type": "markdown",
   "id": "91393987",
   "metadata": {
    "slideshow": {
     "slide_type": "subslide"
    }
   },
   "source": [
    "::::{exercise} bignum\n",
    ":label: ex:big-integer\n",
    "\n",
    "Enter an expression that evaluates to an integer value as big as possible.\n",
    "\n",
    ":::{hint}\n",
    ":class: dropdown\n",
    "\n",
    "Search the [pydoc (Python documentation)](https://docs.python.org/3.1/whatsnew/3.0.html#integers) for `sys.maxint`.\n",
    ":::\n",
    "\n",
    "::::"
   ]
  },
  {
   "cell_type": "code",
   "execution_count": null,
   "id": "945657de",
   "metadata": {
    "deletable": false,
    "nbgrader": {
     "cell_type": "code",
     "checksum": "bc271d48e5ee90096845937919c19797",
     "grade": true,
     "grade_id": "big-int",
     "locked": false,
     "points": 0,
     "schema_version": 3,
     "solution": true,
     "task": false
    },
    "slideshow": {
     "slide_type": "-"
    },
    "tags": [
     "remove-output"
    ]
   },
   "outputs": [],
   "source": [
    "# YOUR CODE HERE\n",
    "raise NotImplementedError\n",
    "# SPOILER: Printing an integer actually involves converting it to a string!"
   ]
  },
  {
   "cell_type": "markdown",
   "id": "b4ddd824",
   "metadata": {
    "editable": true,
    "slideshow": {
     "slide_type": ""
    }
   },
   "source": [
    "::::{seealso} How to represent all integers?\n",
    ":class: dropdown\n",
    "\n",
    "Wouldn't it be nice if there is no limit on how many integers a computer can represent? Since $n$ bits can represent at most $2^n$ integers, do we need infinite bits to represent an unbounded number of integers? That would take forever to input an integer into the computer, let alone storing it in finite memory! \n",
    "\n",
    ":::{hint}\n",
    ":class: dropdown\n",
    "See the [Kraft-McMillan inequality](https://en.wikipedia.org/wiki/Kraft%E2%80%93McMillan_inequality).\n",
    ":::\n",
    "\n",
    "::::"
   ]
  },
  {
   "cell_type": "code",
   "execution_count": null,
   "id": "d34fd6dd",
   "metadata": {
    "editable": true,
    "slideshow": {
     "slide_type": ""
    }
   },
   "outputs": [],
   "source": [
    "%%ai chatgpt -f text\n",
    "Use a simple analogy to explain in a short paragraph how can a computer represent all integers using variable-length code?"
   ]
  },
  {
   "cell_type": "markdown",
   "id": "585a533a",
   "metadata": {
    "slideshow": {
     "slide_type": "slide"
    }
   },
   "source": [
    "### Strings"
   ]
  },
  {
   "cell_type": "markdown",
   "id": "73471222",
   "metadata": {},
   "source": [
    "A string value is a sequence of characters that can be written literally using quotes:"
   ]
  },
  {
   "cell_type": "code",
   "execution_count": null,
   "id": "55db08d8",
   "metadata": {
    "slideshow": {
     "slide_type": "fragment"
    }
   },
   "outputs": [],
   "source": [
    "# single quote\n",
    "print(\"\\U0001f600:\\n\\tI'm a string.\")"
   ]
  },
  {
   "cell_type": "code",
   "execution_count": null,
   "id": "56d46035",
   "metadata": {
    "slideshow": {
     "slide_type": "fragment"
    }
   },
   "outputs": [],
   "source": [
    "# double quote\n",
    "print(\"\\N{grinning face}:\\n\\tI'm a string.\")"
   ]
  },
  {
   "cell_type": "code",
   "execution_count": null,
   "id": "ab6043ff",
   "metadata": {
    "slideshow": {
     "slide_type": "fragment"
    }
   },
   "outputs": [],
   "source": [
    "# triple double quote\n",
    "print(\n",
    "    \"\"\"😀:\n",
    "\tI'm a string.\"\"\"\n",
    ")"
   ]
  },
  {
   "cell_type": "markdown",
   "id": "3ebcacf5",
   "metadata": {},
   "source": [
    "Note that all the literals represent the same value:\n",
    "\n",
    "::::{grid} 1 1 2 2\n",
    "\n",
    ":::{card}\n",
    ":header: Escape sequence\n",
    "\n",
    "`\\U0001f600` and `\\N{grinning face}` are *escape sequences* representing the same grinning face emoji 😀 where\n",
    "\n",
    "- `0001f600` is the unicode in hexadecimal,\n",
    "- `grinning face` is the [name][CLDR], and\n",
    "- `\\` is called the *escape symbol*.\n",
    "\n",
    "[CLDR]: https://unicode.org/emoji/charts/full-emoji-list.html\n",
    "\n",
    ":::\n",
    "\n",
    ":::{card}\n",
    ":header: Control code\n",
    "\n",
    "`\\n` and `\\t` are *control code* that does not represent any symbol.\n",
    "- `\\n` creates a new line when printing the string.  \n",
    "- `\\t` creates a tab to indent the line.\n",
    "\n",
    ":::\n",
    "\n",
    "::::"
   ]
  },
  {
   "cell_type": "markdown",
   "id": "fd291758",
   "metadata": {
    "editable": true,
    "slideshow": {
     "slide_type": ""
    }
   },
   "source": [
    "::::{note} Benefits of allowing single, double, and triple quotes for string literals\n",
    ":class: dropdown\n",
    "\n",
    "- By using double quotes, we don't need to escape the single quote in strings such as \"I'm\".\n",
    "- Triple quotes enable a multi-line string literal to include the newline character directly, resulting in a more readable representation of the literal.\n",
    "\n",
    "::::"
   ]
  },
  {
   "cell_type": "code",
   "execution_count": null,
   "id": "2503f6ab",
   "metadata": {
    "editable": true,
    "slideshow": {
     "slide_type": ""
    }
   },
   "outputs": [],
   "source": [
    "%%ai chatgpt -f text\n",
    "Explain in one line why a string value is often quoted in a computer program?"
   ]
  },
  {
   "cell_type": "code",
   "execution_count": null,
   "id": "1751175d",
   "metadata": {},
   "outputs": [],
   "source": [
    "%%ai chatgpt -f text\n",
    "Are there programming languages that do not quote its string? Why?"
   ]
  },
  {
   "cell_type": "markdown",
   "id": "974a99b5",
   "metadata": {},
   "source": [
    "The following is yet another way to print the same string:"
   ]
  },
  {
   "cell_type": "code",
   "execution_count": null,
   "id": "1893c99d",
   "metadata": {},
   "outputs": [],
   "source": [
    "print(\"\\N{grinning face}:\", \"\\tI'm a string.\", sep=\"\\n\")"
   ]
  },
  {
   "cell_type": "markdown",
   "id": "43078cc0",
   "metadata": {
    "slideshow": {
     "slide_type": "subslide"
    }
   },
   "source": [
    "It is an elegant one-line code ([one-liner](https://en.wikipedia.org/wiki/One-liner_program)) where\n",
    "\n",
    "- `sep=\"\\n\"` is a *keyword argument* that specifies the separator of the list of strings.\n",
    "- By default, `sep=\" \"`, a single space character."
   ]
  },
  {
   "cell_type": "markdown",
   "id": "334ca7c5",
   "metadata": {},
   "source": [
    "In a notebook, we can get the *docstring* (document string) of a function conveniently using the symbol `?` such as `?print` or"
   ]
  },
  {
   "cell_type": "code",
   "execution_count": null,
   "id": "0ebc8eb7",
   "metadata": {
    "editable": true,
    "slideshow": {
     "slide_type": ""
    }
   },
   "outputs": [],
   "source": [
    "print?"
   ]
  },
  {
   "cell_type": "markdown",
   "id": "777784e9",
   "metadata": {},
   "source": [
    "We can also use the contextual help by placing the cursor over a function name and \n",
    "- click the menu item `Help`$\\to$`Show Contextual Help` or\n",
    "- press the short-cut key <kbd>Shift + Tab</kbd>."
   ]
  },
  {
   "cell_type": "markdown",
   "id": "0ef0b35c",
   "metadata": {
    "slideshow": {
     "slide_type": "subslide"
    }
   },
   "source": [
    "::::{exercise} multi-line string\n",
    ":label: multi-line\n",
    "\n",
    "Print an intriguing multi-line string below. Ensure that your string is complex enough to confound a machine, yet comprehensible to a human.\n",
    "\n",
    ":::{seealso}\n",
    ":class: dropdown\n",
    "\n",
    "- `art`: <https://www.ascii-art.site>\n",
    "- `bashplotlib`: <https://github.com/glamp/bashplotlib/blob/master/README.md>\n",
    "- Star Wars via Telnet: <http://asciimation.co.nz/>\n",
    "  You can also try running `ssh starwarstel.net` in a terminal.\n",
    "\n",
    ":::\n",
    "\n",
    "::::"
   ]
  },
  {
   "cell_type": "code",
   "execution_count": null,
   "id": "bdc47bf6",
   "metadata": {
    "deletable": false,
    "nbgrader": {
     "cell_type": "code",
     "checksum": "a899defd4e4b9521fcc850d7d7dd4ba6",
     "grade": true,
     "grade_id": "multi-line",
     "locked": false,
     "points": 0,
     "schema_version": 3,
     "solution": true,
     "task": false
    },
    "slideshow": {
     "slide_type": "-"
    }
   },
   "outputs": [],
   "source": [
    "# YOUR CODE HERE\n",
    "raise NotImplementedError"
   ]
  },
  {
   "cell_type": "markdown",
   "id": "6d4bf567",
   "metadata": {},
   "source": [
    "Test your message below. You may switch to the more powerful LLM `dive-azure:gpt4o` if you have already installed your API key."
   ]
  },
  {
   "cell_type": "code",
   "execution_count": null,
   "id": "d7d4f9c6",
   "metadata": {},
   "outputs": [],
   "source": [
    "%%ai chatgpt -f text\n",
    "Explain what you see in the following:\n",
    " (ง •̀_•́)ง \n",
    " ╰(●’◡’●)╮ \n",
    " (..•˘_˘•..)\n",
    " (づ￣ 3￣)づ"
   ]
  },
  {
   "cell_type": "markdown",
   "id": "84457225",
   "metadata": {
    "slideshow": {
     "slide_type": "subslide"
    }
   },
   "source": [
    "### User Input"
   ]
  },
  {
   "cell_type": "markdown",
   "id": "a276f120",
   "metadata": {},
   "source": [
    "Instead of entering a value in a program, a programmer can get user input values at *runtime*, i.e., when a program executes:"
   ]
  },
  {
   "cell_type": "code",
   "execution_count": null,
   "id": "9d01beb1",
   "metadata": {
    "editable": true,
    "slideshow": {
     "slide_type": "-"
    },
    "tags": [
     "remove-output"
    ]
   },
   "outputs": [],
   "source": [
    "print(\"Your name is\", input(\"Please input your name: \") + \".\")"
   ]
  },
  {
   "cell_type": "markdown",
   "id": "95d9b60c",
   "metadata": {
    "editable": true,
    "slideshow": {
     "slide_type": "fragment"
    }
   },
   "source": [
    "- The `input` method prints its argument, if any, as a [prompt](https://en.wikipedia.org/wiki/Command-line_interface#Command_prompt).  \n",
    "- The method takes user's input and *returns it as a string*.\n",
    "- There is no need to delimit the input string by quotation marks. Simply press `enter` after typing a string."
   ]
  },
  {
   "cell_type": "markdown",
   "id": "d8a5ef37",
   "metadata": {
    "slideshow": {
     "slide_type": "subslide"
    }
   },
   "source": [
    "::::{exercise}\n",
    ":label: ex:print-returns-none\n",
    "\n",
    "Explain whether the following code prints `'My name is Python'`. \n",
    "\n",
    ":::{hint}\n",
    ":class: dropdown\n",
    "\n",
    "Does `print` return a value? \n",
    ":::\n",
    "::::"
   ]
  },
  {
   "cell_type": "code",
   "execution_count": null,
   "id": "58cdae45",
   "metadata": {
    "slideshow": {
     "slide_type": "-"
    }
   },
   "outputs": [],
   "source": [
    "print(\"My name is\", print(\"Python\"))"
   ]
  },
  {
   "cell_type": "markdown",
   "id": "c42192b7",
   "metadata": {
    "deletable": false,
    "nbgrader": {
     "cell_type": "markdown",
     "checksum": "b46e46183a992620cdad06cf2e6ac08d",
     "grade": true,
     "grade_id": "print-returns-none",
     "locked": false,
     "points": 0,
     "schema_version": 3,
     "solution": true,
     "task": false
    },
    "slideshow": {
     "slide_type": "-"
    }
   },
   "source": [
    "YOUR ANSWER HERE"
   ]
  },
  {
   "cell_type": "code",
   "execution_count": null,
   "id": "25886396",
   "metadata": {
    "editable": true,
    "slideshow": {
     "slide_type": ""
    }
   },
   "outputs": [],
   "source": [
    "%%ai chatgpt -f text\n",
    "Explain in one-line whether the Python print function return the value it prints?"
   ]
  },
  {
   "cell_type": "markdown",
   "id": "a1fa502f",
   "metadata": {},
   "source": [
    "## Variables"
   ]
  },
  {
   "cell_type": "markdown",
   "id": "47267d4e",
   "metadata": {},
   "source": [
    "A complicated computation often needs to be broken down into many basic computations, with intermediate values stored and transferred to different memory locations. Keeping track of where a value is written, and allocating free memory locations to write to, are not only burdensome but also error-prone."
   ]
  },
  {
   "cell_type": "markdown",
   "id": "2caf2787",
   "metadata": {},
   "source": [
    "This is where the concept of variables comes in—they serve as a logical (as opposed to physical) unit of storage that abstracts away the complexities of memory management."
   ]
  },
  {
   "cell_type": "markdown",
   "id": "c233df7f",
   "metadata": {
    "editable": true,
    "slideshow": {
     "slide_type": "slide"
    }
   },
   "source": [
    "### Assignment"
   ]
  },
  {
   "cell_type": "markdown",
   "id": "fd72a2d0",
   "metadata": {
    "slideshow": {
     "slide_type": "subslide"
    }
   },
   "source": [
    "To define a variable, we can use the assignment operator `=` as follows:"
   ]
  },
  {
   "cell_type": "code",
   "execution_count": null,
   "id": "74f9b932",
   "metadata": {
    "slideshow": {
     "slide_type": "fragment"
    }
   },
   "outputs": [],
   "source": [
    "x = 15"
   ]
  },
  {
   "cell_type": "markdown",
   "id": "4c88a7f7",
   "metadata": {
    "editable": true,
    "slideshow": {
     "slide_type": "subslide"
    }
   },
   "source": [
    "What does the above code mean?\n",
    "\n",
    "1. $x$ is equal to $15$?\n",
    "2. $x$ is defined to be $15$?"
   ]
  },
  {
   "cell_type": "markdown",
   "id": "84412715",
   "metadata": {
    "editable": true,
    "slideshow": {
     "slide_type": "subslide"
    }
   },
   "source": [
    "Let's discover the truth by executing the following assignments step-by-step using OPTLite:"
   ]
  },
  {
   "cell_type": "code",
   "execution_count": null,
   "id": "9cf2cb09",
   "metadata": {
    "editable": true,
    "slideshow": {
     "slide_type": "-"
    }
   },
   "outputs": [],
   "source": [
    "%%optlite -h 300\n",
    "x = 15\n",
    "x = x + 1"
   ]
  },
  {
   "cell_type": "markdown",
   "id": "0906f4e9",
   "metadata": {
    "editable": true,
    "slideshow": {
     "slide_type": ""
    }
   },
   "source": [
    "In the second assignment, does it mean:\n",
    "\n",
    "1. $x$ is equal to $x$+1?\n",
    "2. $x$ is defined to be $x$+1?\n",
    "\n",
    "If we say yes to the above questions, the value of $x$ should be $\\pm\\infty$. (Why?)"
   ]
  },
  {
   "cell_type": "code",
   "execution_count": null,
   "id": "0a6b5e07",
   "metadata": {
    "editable": true,
    "slideshow": {
     "slide_type": ""
    }
   },
   "outputs": [],
   "source": [
    "%%ai chatgpt -f math\n",
    "What is the solution to $x+1=x$?"
   ]
  },
  {
   "cell_type": "markdown",
   "id": "28a4eab8",
   "metadata": {
    "editable": true,
    "slideshow": {
     "slide_type": ""
    }
   },
   "source": [
    "To see how the Python interpreter carries out the assignment operation, the following code compiles the Python code to bytecode (similar to machine code) and displays it in assembly language.[^dis]\n",
    "\n",
    "[^dis]: The conversion from machine code to assembly code is called disassembly, hence the name [`dis`](https://docs.python.org/3/library/dis.html). BTW, why an interpreted language like python has a compiler? The interpreter actually compiles the source code to a more compact form called the bytecode that allows the interpreter to run it faster. Indeed, even though Python was originally intended to be an interpreted language, Python 3.13 supports [JIT compilation](https://peps.python.org/pep-0744/) that will compile source code **J**ust **I**n **T**ime to machine code for the first run... Why? See [this post](https://tonybaloney.github.io/posts/python-gets-a-jit.html)."
   ]
  },
  {
   "cell_type": "code",
   "execution_count": null,
   "id": "e5c7beb4",
   "metadata": {
    "editable": true,
    "slideshow": {
     "slide_type": ""
    }
   },
   "outputs": [],
   "source": [
    "dis(compile('x = x + 1', '_', 'exec'))"
   ]
  },
  {
   "cell_type": "markdown",
   "id": "705bae66",
   "metadata": {
    "editable": true,
    "slideshow": {
     "slide_type": "subslide"
    }
   },
   "source": [
    "It is possible to assign different values to multiple variables in one line using the so-called *tuple assignment* syntax:"
   ]
  },
  {
   "cell_type": "code",
   "execution_count": null,
   "id": "e1e664e8",
   "metadata": {
    "editable": true,
    "slideshow": {
     "slide_type": "-"
    }
   },
   "outputs": [],
   "source": [
    "%%optlite -l -h 400\n",
    "x, y, z = \"15\", \"30\", 15"
   ]
  },
  {
   "cell_type": "markdown",
   "id": "827ffcdb",
   "metadata": {
    "editable": true,
    "slideshow": {
     "slide_type": "fragment"
    }
   },
   "source": [
    "One can also assign the same value to different variables in one line using a *chained assignment*:"
   ]
  },
  {
   "cell_type": "code",
   "execution_count": null,
   "id": "63be975e",
   "metadata": {
    "editable": true,
    "slideshow": {
     "slide_type": "-"
    }
   },
   "outputs": [],
   "source": [
    "%%optlite -l -h 400\n",
    "x = y = z = 0"
   ]
  },
  {
   "cell_type": "markdown",
   "id": "0c6ce646",
   "metadata": {
    "editable": true,
    "slideshow": {
     "slide_type": "subslide"
    }
   },
   "source": [
    "Once defined, a variable can be deleted using the `del` keyword. Accessing a variable that has not been assigned any value raises an error."
   ]
  },
  {
   "cell_type": "code",
   "execution_count": null,
   "id": "fbbeb32f",
   "metadata": {
    "editable": true,
    "slideshow": {
     "slide_type": ""
    }
   },
   "outputs": [],
   "source": [
    "%%optlite -h 350\n",
    "x = y = 1+1j\n",
    "del x\n",
    "x"
   ]
  },
  {
   "cell_type": "markdown",
   "id": "36f7cacb",
   "metadata": {
    "editable": true,
    "slideshow": {
     "slide_type": ""
    }
   },
   "source": [
    "::::{caution}\n",
    ":class: dropdown\n",
    "\n",
    "You will learn later in the course that deleting a variable does not necessarily delete its value.\n",
    "::::"
   ]
  },
  {
   "cell_type": "markdown",
   "id": "008daa7d",
   "metadata": {
    "editable": true,
    "slideshow": {
     "slide_type": ""
    }
   },
   "source": [
    "::::{seealso} Are there constants in Python?\n",
    ":class: dropdown\n",
    "\n",
    "As the concepts of variables and values in programming are analogous to those in mathematics. Is there a programming counterpart for mathematical constants such as $\\pi$? Do you agree with pydoc on the [list of constants](https://docs.python.org/3/library/constants.html)?\n",
    "\n",
    "::::"
   ]
  },
  {
   "cell_type": "code",
   "execution_count": null,
   "id": "c0b5f127",
   "metadata": {
    "editable": true,
    "slideshow": {
     "slide_type": ""
    }
   },
   "outputs": [],
   "source": [
    "%%ai chatgpt -f text\n",
    "How would you define constants in Python? Are literals also constants?"
   ]
  },
  {
   "cell_type": "markdown",
   "id": "3066609d",
   "metadata": {
    "editable": true,
    "slideshow": {
     "slide_type": "slide"
    }
   },
   "source": [
    "### Identifiers"
   ]
  },
  {
   "cell_type": "markdown",
   "id": "610b0862",
   "metadata": {},
   "source": [
    "One reason why Python is expressive is that it affords programmers a significant amount of flexibility when it comes to choosing variable names. For instance, *identifiers*, such as variable names, are case-sensitive and of unlimited length, unlike older languages such as Pascal and Fortran. This flexibility also makes the program more readable. For instance, consider the following program:"
   ]
  },
  {
   "cell_type": "code",
   "execution_count": null,
   "id": "7ae657fb",
   "metadata": {},
   "outputs": [],
   "source": [
    "%%optlite -h 400\n",
    "def name():\n",
    "    return first.name + last.name\n",
    "\n",
    "first.name = \"John\"\n",
    "last.name = \"Smith\"\n",
    "print(name())"
   ]
  },
  {
   "cell_type": "markdown",
   "id": "4ab38dab",
   "metadata": {},
   "source": [
    "Unfortunately, the program fails in the middle, why? Let's take a closer look at the operations involved:"
   ]
  },
  {
   "cell_type": "code",
   "execution_count": null,
   "id": "2ec53a26",
   "metadata": {},
   "outputs": [],
   "source": [
    "dis(compile(\"first.name + last.name\", \"_\", \"eval\"))"
   ]
  },
  {
   "cell_type": "markdown",
   "id": "bb916264",
   "metadata": {},
   "source": [
    "How about the following fix?"
   ]
  },
  {
   "cell_type": "code",
   "execution_count": null,
   "id": "13c0cb01",
   "metadata": {},
   "outputs": [],
   "source": [
    "dis(compile(\"first-name + last-name\", \"_\", \"eval\"))"
   ]
  },
  {
   "cell_type": "markdown",
   "id": "026dd772",
   "metadata": {},
   "source": [
    "Obviously, not all names are valid identifiers as some names may be misinterpreted by the Python interpreter. Instead of fixing the names by trial-and-error, let's try to learn the exact [syntax for identifiers](https://docs.python.org/3/reference/lexical_analysis.html#identifiers)\n",
    "\n",
    "```ebnf\n",
    "identifier   ::=  xid_start xid_continue*\n",
    "...\n",
    "```\n",
    "\n",
    "which is specified in a notation called the [Extended Backus-Naur Form (EBNF)](https://en.wikipedia.org/wiki/Extended_Backus%E2%80%93Naur_form). Furthermore, some identifiers called [*keywords*](https://docs.python.org/3/reference/lexical_analysis.html#keywords) are reserved. There are also [*soft keywords*](https://docs.python.org/3/reference/lexical_analysis.html#soft-keywords) that are reserved under specific contexts."
   ]
  },
  {
   "cell_type": "code",
   "execution_count": null,
   "id": "73f586ef",
   "metadata": {},
   "outputs": [],
   "source": [
    "%%ai chatgpt -f text\n",
    "Explain in one paragraph the notation of the following in pydoc:\n",
    "identifier ::= xid_start xid_continue*"
   ]
  },
  {
   "cell_type": "markdown",
   "id": "fade997f",
   "metadata": {},
   "source": [
    "::::{tip}\n",
    "\n",
    "If you find EBNF too difficult to understand now, consider the following rules of thumb:\n",
    "\n",
    "1. Start a variable name with a letter or `_` (an underscore) followed by letters, digits, or `_`, but\n",
    "2. do not use any of the following reserved words:\n",
    "\n",
    "    ```python\n",
    "    False      await      else       import     pass\n",
    "    None       break      except     in         raise\n",
    "    True       class      finally    is         return\n",
    "    and        continue   for        lambda     try\n",
    "    as         def        from       nonlocal   while\n",
    "    assert     del        global     not        with\n",
    "    async      elif       if         or         yield\n",
    "    ```\n",
    "\n",
    "That should work most of the time except a few specific cases.\n",
    "\n",
    "::::"
   ]
  },
  {
   "cell_type": "markdown",
   "id": "bbbe877c",
   "metadata": {
    "slideshow": {
     "slide_type": "fragment"
    }
   },
   "source": [
    "::::{exercise}\n",
    ":label: ex:identifiers-syntax\n",
    "\n",
    "Evaluate the following cell and check if any of the rules above is violated.\n",
    "\n",
    ":::{hint}\n",
    ":class: dropdown\n",
    "\n",
    "- `del` is a keyword and `Del` is not because identifiers are case sensitive.\n",
    "- Function names such as `print`, `input`, `type`, etc., are not keywords and can be reassigned.  \n",
    "  This can be useful if you want to modify the default implementations without changing their source code.\n",
    ":::\n",
    "\n",
    "::::"
   ]
  },
  {
   "cell_type": "code",
   "execution_count": null,
   "id": "e24d9feb",
   "metadata": {
    "code_folding": [],
    "slideshow": {
     "slide_type": "-"
    }
   },
   "outputs": [],
   "source": [
    "@interact\n",
    "def identifier_syntax(\n",
    "    assignment=[\n",
    "        \"a-number = 15\",\n",
    "        \"a_number = 15\",\n",
    "        \"15 = 15\",\n",
    "        \"_15 = 15\",\n",
    "        \"del = 15\",\n",
    "        \"Del = 15\",\n",
    "        \"type = print\",\n",
    "        \"print = type\",\n",
    "        \"input = print\",\n",
    "    ]\n",
    "):\n",
    "    exec(assignment)\n",
    "    print(\"Ok.\")"
   ]
  },
  {
   "cell_type": "markdown",
   "id": "29cca45a",
   "metadata": {
    "deletable": false,
    "nbgrader": {
     "cell_type": "markdown",
     "checksum": "5ecc235f0ae5be5c77beeed2f6b6dd2e",
     "grade": true,
     "grade_id": "invalid-identifiers",
     "locked": false,
     "points": 0,
     "schema_version": 3,
     "solution": true,
     "task": false
    },
    "slideshow": {
     "slide_type": "-"
    }
   },
   "source": [
    "YOUR ANSWER HERE"
   ]
  },
  {
   "cell_type": "markdown",
   "id": "3ad9bfc0",
   "metadata": {
    "slideshow": {
     "slide_type": "-"
    }
   },
   "source": [
    "::::{seealso} Python Enhancement Proposals\n",
    ":class: dropdown\n",
    "\n",
    "To help make the code more readable, programmers follow additional style guides such as [Python Enhancement Proposals (PEP) 8](https://www.python.org/dev/peps/pep-0008/#function-and-variable-names):\n",
    "- Function names should be lowercase, with words separated by underscores as necessary to improve readability.  \n",
    "- Variable names follow the same convention as function names.\n",
    "\n",
    "::::"
   ]
  },
  {
   "cell_type": "markdown",
   "id": "03094f60",
   "metadata": {
    "slideshow": {
     "slide_type": "slide"
    }
   },
   "source": [
    "### Type Conversion"
   ]
  },
  {
   "cell_type": "markdown",
   "id": "689d7ca5",
   "metadata": {
    "slideshow": {
     "slide_type": "subslide"
    }
   },
   "source": [
    "The following program tries to compute the sum of two numbers from user inputs:"
   ]
  },
  {
   "cell_type": "code",
   "execution_count": null,
   "id": "83f23474",
   "metadata": {
    "slideshow": {
     "slide_type": "-"
    },
    "tags": [
     "remove-output"
    ]
   },
   "outputs": [],
   "source": [
    "num1 = input(\"Please input an integer: \")\n",
    "num2 = input(\"Please input another integer: \")\n",
    "print(num1, \"+\", num2, \"is equal to\", num1 + num2)"
   ]
  },
  {
   "cell_type": "markdown",
   "id": "2756b3d7",
   "metadata": {
    "slideshow": {
     "slide_type": "fragment"
    }
   },
   "source": [
    "::::{exercise}\n",
    ":label: ex:bug\n",
    "\n",
    "Unfortunately, there is a [bug](https://en.wikipedia.org/wiki/Software_bug) in the above code. Can you locate the error?\n",
    "\n",
    "::::"
   ]
  },
  {
   "cell_type": "markdown",
   "id": "1e201d48",
   "metadata": {
    "deletable": false,
    "nbgrader": {
     "cell_type": "markdown",
     "checksum": "5242ad43e12cfbc589a2f021142b56f4",
     "grade": true,
     "grade_id": "cell-d1d22bc89eb9f7b6",
     "locked": false,
     "points": 0,
     "schema_version": 3,
     "solution": true,
     "task": false
    },
    "slideshow": {
     "slide_type": "-"
    }
   },
   "source": [
    "YOUR ANSWER HERE"
   ]
  },
  {
   "cell_type": "markdown",
   "id": "c3fb5ab8",
   "metadata": {
    "slideshow": {
     "slide_type": "subslide"
    }
   },
   "source": [
    "`input` *returns* user input as a string.  E.g., if the user enters `12`, the input is\n",
    "- not treated as the integer twelve, but rather\n",
    "- treated as a string containing two characters, one followed by two."
   ]
  },
  {
   "cell_type": "markdown",
   "id": "a4da1aee",
   "metadata": {
    "slideshow": {
     "slide_type": "fragment"
    }
   },
   "source": [
    "To confirm this, we can use `type` to return the data type of an expression."
   ]
  },
  {
   "cell_type": "code",
   "execution_count": null,
   "id": "5d42d4b6",
   "metadata": {
    "slideshow": {
     "slide_type": "-"
    },
    "tags": [
     "remove-output"
    ]
   },
   "outputs": [],
   "source": [
    "num1 = input(\"Please input an integer: \")\n",
    "print(\"Your input is\", num1, \"with type\", type(num1))"
   ]
  },
  {
   "cell_type": "markdown",
   "id": "ab47af20",
   "metadata": {
    "slideshow": {
     "slide_type": "subslide"
    }
   },
   "source": [
    "::::{exercise}\n",
    "\n",
    "`type` can apply to any expressions. Try it out below.\n",
    "\n",
    "::::"
   ]
  },
  {
   "cell_type": "code",
   "execution_count": null,
   "id": "8d9cd7c0",
   "metadata": {
    "deletable": false,
    "nbgrader": {
     "cell_type": "code",
     "checksum": "c4d575efe22042b05879ed179d3941df",
     "grade": true,
     "grade_id": "type",
     "locked": false,
     "points": 0,
     "schema_version": 3,
     "solution": true,
     "task": false
    },
    "slideshow": {
     "slide_type": "-"
    }
   },
   "outputs": [],
   "source": [
    "# YOUR CODE HERE\n",
    "raise NotImplementedError"
   ]
  },
  {
   "cell_type": "markdown",
   "id": "04992b96",
   "metadata": {
    "slideshow": {
     "slide_type": "subslide"
    }
   },
   "source": [
    "What happens when we add strings together?"
   ]
  },
  {
   "cell_type": "code",
   "execution_count": null,
   "id": "e9818760",
   "metadata": {
    "slideshow": {
     "slide_type": "-"
    }
   },
   "outputs": [],
   "source": [
    "\"4\" + \"5\" + \"6\""
   ]
  },
  {
   "cell_type": "markdown",
   "id": "edbd3930",
   "metadata": {
    "slideshow": {
     "slide_type": "fragment"
    }
   },
   "source": [
    "How to fix the bug then?"
   ]
  },
  {
   "cell_type": "markdown",
   "id": "0fd3e49a",
   "metadata": {
    "slideshow": {
     "slide_type": "fragment"
    }
   },
   "source": [
    "We can convert a string to an integer using `int`."
   ]
  },
  {
   "cell_type": "code",
   "execution_count": null,
   "id": "027b0ab3",
   "metadata": {
    "slideshow": {
     "slide_type": "-"
    }
   },
   "outputs": [],
   "source": [
    "int(\"4\") + int(\"5\") + int(\"6\")"
   ]
  },
  {
   "cell_type": "markdown",
   "id": "91ed82a0",
   "metadata": {
    "slideshow": {
     "slide_type": "fragment"
    }
   },
   "source": [
    "We can also convert an integer to a string using `str`."
   ]
  },
  {
   "cell_type": "code",
   "execution_count": null,
   "id": "86bad638",
   "metadata": {
    "slideshow": {
     "slide_type": "-"
    }
   },
   "outputs": [],
   "source": [
    "str(4) + str(5) + str(6)"
   ]
  },
  {
   "cell_type": "markdown",
   "id": "dbe69b0f",
   "metadata": {
    "slideshow": {
     "slide_type": "subslide"
    }
   },
   "source": [
    "::::{exercise}\n",
    ":label: ex:fix\n",
    "\n",
    "Fix the bug in the following cell.\n",
    "::::"
   ]
  },
  {
   "cell_type": "code",
   "execution_count": null,
   "id": "1c48bc00",
   "metadata": {
    "deletable": false,
    "nbgrader": {
     "cell_type": "code",
     "checksum": "1aebd14ff4c562d70dbc7d7274834855",
     "grade": false,
     "grade_id": "string-concat-bug",
     "locked": false,
     "schema_version": 3,
     "solution": true,
     "task": false
    },
    "slideshow": {
     "slide_type": "-"
    },
    "tags": [
     "remove-output"
    ]
   },
   "outputs": [],
   "source": [
    "num1 = input(\"Please input an integer: \")\n",
    "num2 = input(\"Please input another integer: \")\n",
    "# print(num1, '+', num2, 'is equal to', num1 + num2)  # fix this line below\n",
    "# YOUR CODE HERE\n",
    "raise NotImplementedError"
   ]
  },
  {
   "cell_type": "markdown",
   "id": "2b346921",
   "metadata": {
    "slideshow": {
     "slide_type": "slide"
    }
   },
   "source": [
    "### Error Types"
   ]
  },
  {
   "cell_type": "markdown",
   "id": "e7a64cc3",
   "metadata": {
    "slideshow": {
     "slide_type": "fragment"
    }
   },
   "source": [
    "In addition to writing code, a programmer spends significant time in *debugging* code that contains errors. A natural question is:"
   ]
  },
  {
   "cell_type": "markdown",
   "id": "14ddf96a",
   "metadata": {
    "slideshow": {
     "slide_type": "fragment"
    }
   },
   "source": [
    "**Can an error be automatically detected by the computer?**"
   ]
  },
  {
   "cell_type": "markdown",
   "id": "a4e6b828",
   "metadata": {
    "slideshow": {
     "slide_type": "fragment"
    }
   },
   "source": [
    "You have just seen an example of a *logical error*, which is due to an error in the logic. The ability to debug or even detect such an error is, unfortunately, beyond Python interpreter's intelligence."
   ]
  },
  {
   "cell_type": "markdown",
   "id": "4433786b",
   "metadata": {},
   "source": [
    "Let's see if LLM can debug logical error:[^logical-error] \n",
    "\n",
    "[^logical-error]: Note that a number need not be integer."
   ]
  },
  {
   "cell_type": "code",
   "execution_count": null,
   "id": "320631f8",
   "metadata": {},
   "outputs": [],
   "source": [
    "%%ai chatgpt -f text\n",
    "What is wrong with the following code?\n",
    "--\n",
    "num1 = input(\"Please input a number: \")\n",
    "num2 = input(\"Please input another number: \")\n",
    "print(num1, \"+\", num2, \"is equal to\", num1 + num2)"
   ]
  },
  {
   "cell_type": "markdown",
   "id": "96402c7d",
   "metadata": {
    "slideshow": {
     "slide_type": "fragment"
    }
   },
   "source": [
    "Other kinds of error may be detected automatically by Python. As an example, note that we can omit `+` for concatenating string literals, but we cannot omit it for summing up integer literals:"
   ]
  },
  {
   "cell_type": "code",
   "execution_count": null,
   "id": "aaf01745",
   "metadata": {
    "slideshow": {
     "slide_type": "fragment"
    }
   },
   "outputs": [],
   "source": [
    "print(\"Skipping + for string concatenation\")\n",
    "\"4\" \"5\" \"6\""
   ]
  },
  {
   "cell_type": "code",
   "execution_count": null,
   "id": "534d5ca9",
   "metadata": {
    "slideshow": {
     "slide_type": "-"
    }
   },
   "outputs": [],
   "source": [
    "%%optlite -l -h 400\n",
    "print('Skipping + for integer summation')\n",
    "4 5 6"
   ]
  },
  {
   "cell_type": "markdown",
   "id": "1a03403d",
   "metadata": {
    "slideshow": {
     "slide_type": "fragment"
    }
   },
   "source": [
    "Python interpreter detects the bug and raises a *syntax* error."
   ]
  },
  {
   "cell_type": "markdown",
   "id": "4ab77ace",
   "metadata": {
    "slideshow": {
     "slide_type": "fragment"
    }
   },
   "source": [
    "::::{note} Why Syntax error can be detected automatically?\n",
    ":class: dropdown\n",
    "\n",
    "- The Python interpreter can detect syntax error even before executing the code because\n",
    "- the interpreter simply fails to translate the code to lower-level executable code.\n",
    "\n",
    "Why is the print statement before the error not executed?\n",
    " \n",
    "::::"
   ]
  },
  {
   "cell_type": "markdown",
   "id": "a7e05a72",
   "metadata": {
    "slideshow": {
     "slide_type": "subslide"
    }
   },
   "source": [
    "The following code raises a different kind of error."
   ]
  },
  {
   "cell_type": "code",
   "execution_count": null,
   "id": "64ee4834",
   "metadata": {
    "slideshow": {
     "slide_type": "-"
    }
   },
   "outputs": [],
   "source": [
    "%%optlite -l -h 500\n",
    "print(\"Evaluating '4' + '5' + 6\")\n",
    "\"4\" + \"5\" + 6  # adding string to integer"
   ]
  },
  {
   "cell_type": "markdown",
   "id": "e43381e3",
   "metadata": {
    "slideshow": {
     "slide_type": "fragment"
    }
   },
   "source": [
    "::::{note} Why Python throws a TypeError when evaluating `'4' + '5' + 6`?\n",
    ":class: dropdown\n",
    "\n",
    "There is no implementation of `+` operation on a value of type `str` and a value of type `int`. \n",
    "- Unlike the syntax error, the Python interpreter can only detect a type error at runtime (when executing the code.) \n",
    "- Hence, such an error is called a *runtime error*.\n",
    "\n",
    "::::"
   ]
  },
  {
   "cell_type": "markdown",
   "id": "2d11e091",
   "metadata": {
    "slideshow": {
     "slide_type": "fragment"
    }
   },
   "source": [
    "Python is a [*strongly-and-dynamically-typed*](https://en.wikipedia.org/wiki/Strong_and_weak_typing) language:\n",
    "\n",
    "- *Dynamically-typed*: Python checks data type only at runtime after translating the code to machine code.\n",
    "- *Strongly-typed*: Python does not force a type conversion to avoid a type error."
   ]
  },
  {
   "cell_type": "markdown",
   "id": "57580bbd",
   "metadata": {
    "slideshow": {
     "slide_type": "subslide"
    }
   },
   "source": [
    "To understand what above actually mean, let's consider how other languages work differently."
   ]
  },
  {
   "cell_type": "markdown",
   "id": "46eaf39a",
   "metadata": {
    "slideshow": {
     "slide_type": "subslide"
    }
   },
   "source": [
    "C/C++ and Java are *statically-typed* languages that checks data type during compilation, so the type error above becomes a compile-time error instead of a runtime error."
   ]
  },
  {
   "cell_type": "code",
   "execution_count": null,
   "id": "eb6e1b83",
   "metadata": {},
   "outputs": [],
   "source": [
    "try:\n",
    "    !gcc 456.cpp\n",
    "except Error:\n",
    "    print('Cannot run shell command.')"
   ]
  },
  {
   "cell_type": "code",
   "execution_count": null,
   "id": "c375dd98",
   "metadata": {},
   "outputs": [],
   "source": [
    "try:\n",
    "    !javac 456.java\n",
    "except Error:\n",
    "    print('Cannot run shell command.')"
   ]
  },
  {
   "cell_type": "markdown",
   "id": "bcde6178",
   "metadata": {},
   "source": [
    "On the opposite extreme, the web programming language Javascript does not throw an error:"
   ]
  },
  {
   "cell_type": "code",
   "execution_count": null,
   "id": "8eec7101",
   "metadata": {
    "slideshow": {
     "slide_type": "-"
    }
   },
   "outputs": [],
   "source": [
    "%%javascript\n",
    "let x = '4' + '5' + 6;\n",
    "element.append(x + ' ' + typeof(x));\n",
    "// no error because 6 is converted to a str implicitly"
   ]
  },
  {
   "cell_type": "code",
   "execution_count": null,
   "id": "e11a45fc",
   "metadata": {},
   "outputs": [],
   "source": [
    "%%javascript\n",
    "let x = '4' * '5' * 6;\n",
    "element.append(x + ' ' + typeof(x));\n",
    "// no error because 4 and 5 are converted to numbers implicitly"
   ]
  },
  {
   "cell_type": "markdown",
   "id": "326fedce",
   "metadata": {},
   "source": [
    "Indeed, Javascript forces a type conversion to make the code run. It is called a *weakly-typed* language because of this flexibility."
   ]
  },
  {
   "cell_type": "markdown",
   "id": "e0ef9a11",
   "metadata": {
    "slideshow": {
     "slide_type": "fragment"
    }
   },
   "source": [
    "(wtfjs)=\n",
    "::::{seealso} Why not make Python a more flexible weakly-typed language by automatic type conversion?\n",
    ":class: dropdown\n",
    "\n",
    "While weakly-typed languages may seem more robust, they can potentially lead to more logical errors. JavaScript, despite its popularity, is known for its tricky behavior, as demonstrated in [wtfjs](https://github.com/denysdovhan/wtfjs). To improve readability and avoid logical errors, it is recommended to use the strongly-typed language TypeScript.[^typescript]\n",
    "\n",
    "::::\n",
    "\n",
    "[^typescript]: TypeScript is a superset of JavaScript that adds optional static typing and other features to the language. By enforcing stronger typing, TypeScript can detect potential errors at compile-time and improve the overall reliability of your code. Learn more about TypeScript at [typescriptlang.org](https://www.typescriptlang.org/)."
   ]
  },
  {
   "cell_type": "markdown",
   "id": "65f1fb5f",
   "metadata": {
    "slideshow": {
     "slide_type": "subslide"
    }
   },
   "source": [
    "::::{exercise} BANANA program\n",
    ":label: ex:weakly-typed\n",
    "\n",
    "Explain why the following JavaScript prints `BANANA`, even though the code is missing the string literal `\"N\"` or `\"n\"`.\n",
    "\n",
    "::::"
   ]
  },
  {
   "cell_type": "code",
   "execution_count": null,
   "id": "99006e0c",
   "metadata": {},
   "outputs": [],
   "source": [
    "%%javascript\n",
    "element.append(\n",
    "    (\"b\" + \"a\" +\n",
    "     + \"a\" + \"a\").toUpperCase()\n",
    ");"
   ]
  },
  {
   "cell_type": "markdown",
   "id": "85cc63a0",
   "metadata": {
    "deletable": false,
    "nbgrader": {
     "cell_type": "markdown",
     "checksum": "397bf914b96707ad1a38ff53085f1c22",
     "grade": true,
     "grade_id": "invalid-input",
     "locked": false,
     "points": 0,
     "schema_version": 3,
     "solution": true,
     "task": false
    },
    "slideshow": {
     "slide_type": "-"
    }
   },
   "source": [
    "YOUR ANSWER HERE"
   ]
  },
  {
   "cell_type": "markdown",
   "id": "6d1e6da3",
   "metadata": {},
   "source": [
    "May be LLM knows?"
   ]
  },
  {
   "cell_type": "code",
   "execution_count": null,
   "id": "fd7a0cf7",
   "metadata": {},
   "outputs": [],
   "source": [
    "%%ai chatgpt -f text\n",
    "Why does the following javascript return BANANA?\n",
    "element.append(\n",
    "    (\"b\" + \"a\" +\n",
    "     + \"a\" + \"a\").toUpperCase()\n",
    ");"
   ]
  }
 ],
 "metadata": {
  "kernelspec": {
   "display_name": "Python 3 (ipykernel)",
   "language": "python",
   "name": "python3"
  }
 },
 "nbformat": 4,
 "nbformat_minor": 5
}
