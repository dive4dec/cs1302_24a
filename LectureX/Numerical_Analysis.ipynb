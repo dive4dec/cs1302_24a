{
 "cells": [
  {
   "cell_type": "markdown",
   "id": "4607f10a",
   "metadata": {
    "slideshow": {
     "slide_type": "slide"
    }
   },
   "source": [
    "---\n",
    "title: Numerical Analysis\n",
    "math:\n",
    "    '\\abs': '\\left\\lvert #1 \\right\\rvert'\n",
    "    '\\orm': '\\left\\lvert #1 \\right\\rvert'\n",
    "    '\\Set': '\\left\\{ #1 \\right\\}'\n",
    "    '\\set': '\\operatorname{set}'   \n",
    "    '\\mc': '\\mathcal{#1}'\n",
    "    '\\M': '\\boldsymbol{#1}'\n",
    "    '\\R': '\\mathsf{#1}'\n",
    "    '\\RM': '\\boldsymbol{\\mathsf{#1}}'\n",
    "    '\\op': '\\operatorname{#1}'\n",
    "    '\\E': '\\op{E}'\n",
    "    '\\d': '\\mathrm{\\mathstrut d}'\n",
    "    '\\SFM': '\\operatorname{SFM}'\n",
    "    '\\utag': '\\stackrel{\\text{(#1)}}{#2}'\n",
    "    '\\uref': '\\text{(#1)}'\n",
    "    '\\minimal': '\\operatorname{minimal}'\n",
    "abstract: |\n",
    "    An important engineering application of computer science is numerical analysis. This lecture introduces estimation using Monte Carlo simulations and basic linear algebra for solving multiple linear equations. Readers will learn to use NumPy arrays instead of lists to implement numerical analysis efficiently, incorporating the concepts of universal functions and broadcasting.\n",
    "---"
   ]
  },
  {
   "cell_type": "code",
   "execution_count": null,
   "id": "c3abc9ca",
   "metadata": {},
   "outputs": [],
   "source": [
    "from __init__ import install_dependencies\n",
    "\n",
    "await install_dependencies()"
   ]
  },
  {
   "cell_type": "code",
   "execution_count": null,
   "id": "c9d9a3e1",
   "metadata": {
    "slideshow": {
     "slide_type": "fragment"
    },
    "tags": [
     "remove-cell"
    ]
   },
   "outputs": [],
   "source": [
    "import math\n",
    "import random\n",
    "\n",
    "import ipywidgets as widgets\n",
    "import numpy as np\n",
    "import matplotlib.pyplot as plt\n",
    "\n",
    "%matplotlib widget\n",
    "%reload_ext divewidgets\n",
    "%load_ext jupyter_ai\n",
    "%ai update chatgpt dive:chat"
   ]
  },
  {
   "cell_type": "markdown",
   "id": "85d9d882",
   "metadata": {
    "slideshow": {
     "slide_type": "subslide"
    }
   },
   "source": [
    "## Monte Carlo simulation"
   ]
  },
  {
   "cell_type": "markdown",
   "id": "99295c65",
   "metadata": {},
   "source": [
    "**What is [Monte Carlo simulation](https://en.wikipedia.org/wiki/Monte_Carlo_method)?**"
   ]
  },
  {
   "cell_type": "markdown",
   "id": "593a68e1",
   "metadata": {},
   "source": [
    "It is a statistical method named after a [Casino in Monaco](https://en.wikipedia.org/wiki/Monte_Carlo_Casino):"
   ]
  },
  {
   "cell_type": "markdown",
   "id": "d5966fba",
   "metadata": {
    "slideshow": {
     "slide_type": "subslide"
    }
   },
   "source": [
    "> I suggested an obvious name for the statistical method — a suggestion not unrelated to the fact that Stan had an uncle who would borrow money from relatives because he \"just had to go to Monte\n",
    "Carlo.\"\n",
    "> \n",
    "> (N. Metropolis, \"[The Beginning of the Monte Carlo Method](https://permalink.lanl.gov/object/tr?what=info:lanl-repo/lareport/LA-UR-88-9067).\")"
   ]
  },
  {
   "cell_type": "markdown",
   "id": "cf581200",
   "metadata": {
    "slideshow": {
     "slide_type": "fragment"
    }
   },
   "source": [
    "It would be nice to simulate the casino so Ulam's uncle did not need to borrow money to play in the casino."
   ]
  },
  {
   "cell_type": "markdown",
   "id": "5d921f68",
   "metadata": {},
   "source": [
    "Actually...,\n",
    "\n",
    "- Monte Carlo is the code name of the secret project for creating the [hydrogen bomb](https://en.wikipedia.org/wiki/Monte_Carlo_method). \n",
    "- [Nicholas Metropolis and Stan Ulam](https://doi.org/10.2307/2280232) worked with [John von Neumann](https://en.wikipedia.org/wiki/John_von_Neumann) to program the first electronic computer ENIAC to simulate a computational model of a thermonuclear reaction."
   ]
  },
  {
   "cell_type": "markdown",
   "id": "b4b95e1b",
   "metadata": {
    "slideshow": {
     "slide_type": "subslide"
    }
   },
   "source": [
    "As a simple illustration, we will compute the value of $\\pi$:"
   ]
  },
  {
   "cell_type": "code",
   "execution_count": null,
   "id": "ffd42fa2",
   "metadata": {},
   "outputs": [],
   "source": [
    "math.pi"
   ]
  },
  {
   "cell_type": "markdown",
   "id": "f037e323",
   "metadata": {},
   "source": [
    "Instead of using `pi` from `math`, can we compute $\\pi$ directly? Consider a seemingly unrelated math problem:"
   ]
  },
  {
   "cell_type": "markdown",
   "id": "4e32159a",
   "metadata": {},
   "source": [
    "::::{admonition} What is the chance a random point in a square lies in the inscribed circle?\n",
    ":class: dropdown\n",
    "\n",
    "Suppose the square has length $\\ell$. The chance is\n",
    "\n",
    "$$ P[\\text{Random point in inscribed circle}] = \\frac{\\text{area of circle}}{\\text{area of square}} = \\frac{\\pi (\\ell /2)^2}{ (\\ell)^2 } = \\frac{\\pi}4 $$\n",
    "\n",
    "independent of the length $\\ell$.\n",
    "\n",
    "::::"
   ]
  },
  {
   "cell_type": "markdown",
   "id": "aea3e173",
   "metadata": {},
   "source": [
    "::::{figure} images/RandomPointInSquare.gif\n",
    ":name:\n",
    ":alt: Random points in square.\n",
    ":align: left\n",
    "\n",
    "Uniformly random points in a square. Green (Red) points are inside (outside) the inscribed circle. ([source code](https://dive4dec.github.io/optlite/#code=from%20manim%20import%20*%0A%0A%23%20%25%25manim%20-ql%20-t%20--progress_bar%20None%20--disable_caching%20-v%20ERROR%20RandomPointInSquare%0Aclass%20RandomPointInSquare%28Scene%29%3A%0A%20%20%20%20def%20construct%28self%29%3A%0A%20%20%20%20%20%20%20%20%23%20Set%20the%20background%20color%20to%20white%0A%20%20%20%20%20%20%20%20self.camera.background_color%20%3D%20WHITE%0A%20%20%20%20%20%20%20%20%0A%20%20%20%20%20%20%20%20%23%20Define%20the%20side%20length%20of%20the%20square%0A%20%20%20%20%20%20%20%20side_length%20%3D%206%0A%20%20%20%20%20%20%20%20radius%20%3D%20side_length%20/%202%0A%0A%20%20%20%20%20%20%20%20%23%20Create%20the%20square%0A%20%20%20%20%20%20%20%20square%20%3D%20Square%28side_length%3Dside_length,%20color%3DBLUE%29%0A%20%20%20%20%20%20%20%20square_label%20%3D%20MathTex%28r%22%5Cell%22,%20color%3DBLUE_D%29.next_to%28square,%20RIGHT%29%0A%0A%20%20%20%20%20%20%20%20%23%20Create%20the%20inscribed%20circle%0A%20%20%20%20%20%20%20%20circle%20%3D%20Circle%28radius%3Dradius,%20color%3DRED%29.move_to%28square.get_center%28%29%29%0A%0A%20%20%20%20%20%20%20%20%23%20Add%20the%20square%20and%20circle%20to%20the%20scene%0A%20%20%20%20%20%20%20%20self.play%28Create%28square%29%29%0A%20%20%20%20%20%20%20%20self.play%28Create%28circle%29%29%0A%20%20%20%20%20%20%20%20self.play%28Write%28square_label%29%29%0A%0A%20%20%20%20%20%20%20%20%23%20Simulate%20random%20points%0A%20%20%20%20%20%20%20%20num_points%20%3D%20100%0A%20%20%20%20%20%20%20%20points_inside%20%3D%200%0A%20%20%20%20%20%20%20%20for%20_%20in%20range%28num_points%29%3A%0A%20%20%20%20%20%20%20%20%20%20%20%20%23%20Generate%20a%20random%20point%0A%20%20%20%20%20%20%20%20%20%20%20%20x%20%3D%20np.random.uniform%28-radius,%20radius%29%0A%20%20%20%20%20%20%20%20%20%20%20%20y%20%3D%20np.random.uniform%28-radius,%20radius%29%0A%20%20%20%20%20%20%20%20%20%20%20%20point%20%3D%20Dot%28point%3D%5Bx,%20y,%200%5D%29%0A%20%20%20%20%20%20%20%20%20%20%20%20%0A%20%20%20%20%20%20%20%20%20%20%20%20%23%20Check%20if%20the%20point%20is%20inside%20the%20circle%0A%20%20%20%20%20%20%20%20%20%20%20%20if%20x**2%20%2B%20y**2%20%3C%3D%20radius**2%3A%0A%20%20%20%20%20%20%20%20%20%20%20%20%20%20%20%20point.set_color%28GREEN%29%0A%20%20%20%20%20%20%20%20%20%20%20%20%20%20%20%20points_inside%20%2B%3D%201%0A%20%20%20%20%20%20%20%20%20%20%20%20else%3A%0A%20%20%20%20%20%20%20%20%20%20%20%20%20%20%20%20point.set_color%28RED%29%0A%0A%20%20%20%20%20%20%20%20%20%20%20%20self.add%28point%29%0A%20%20%20%20%20%20%20%20%20%20%20%20self.wait%280.1%29&mode=edit&origin=opt-frontend.js&rawInputLstJSON=%5B%5D))\n",
    "\n",
    "::::"
   ]
  },
  {
   "cell_type": "markdown",
   "id": "90bfaf5d",
   "metadata": {},
   "source": [
    "By relating the chance of a random event to the quantity we want to compute, we can compute the quantity by simulating the random event. This method is called the Monte Carlo simulation:"
   ]
  },
  {
   "cell_type": "markdown",
   "id": "43bc9888",
   "metadata": {
    "slideshow": {
     "slide_type": "subslide"
    }
   },
   "source": [
    "::::{exercise}\n",
    ":label: ex:ml1\n",
    "\n",
    "Complete the following function to return an approximation of $\\pi$ as follows:\n",
    "1. Simulate the random process of picking a point from a square repeatedly `n` times by  \n",
    "  generating the $x$ and $y$ coordinates uniformly randomly from a unit interval $[0,1)$.\n",
    "2. Compute the fraction of times the point is in the first quadrant of the inscribed circle, as shown in the figure below.\n",
    "3. Return $4$ times the fraction as the approximation.\n",
    "\n",
    ":::{seealso} Buffon's needle\n",
    "\n",
    "A similar way is to approximate $\\pi$ is the [Buffon's needle](https://en.wikipedia.org/wiki/Buffon%27s_needle_problem). See [such a program](https://www.khanacademy.org/computer-programming/pi-by-buffons-needle/6695500989890560) written in javascript.\n",
    "\n",
    ":::\n",
    "\n",
    "::::"
   ]
  },
  {
   "cell_type": "code",
   "execution_count": null,
   "id": "6940a64d",
   "metadata": {
    "deletable": false,
    "nbgrader": {
     "cell_type": "code",
     "checksum": "270120ae4b2ba93e1d74b1eb12c378e5",
     "grade": false,
     "grade_id": "approximate_pi",
     "locked": false,
     "schema_version": 3,
     "solution": true,
     "task": false
    },
    "slideshow": {
     "slide_type": "-"
    }
   },
   "outputs": [],
   "source": [
    "def approximate_pi(n):\n",
    "    # YOUR CODE HERE\n",
    "    raise NotImplementedError"
   ]
  },
  {
   "cell_type": "code",
   "execution_count": null,
   "id": "63fe76ee",
   "metadata": {},
   "outputs": [],
   "source": [
    "%%timeit -n 1 -r 1\n",
    "print(f\"Approximate: {approximate_pi(10**7)}\\nGround truth: {math.pi}\")"
   ]
  },
  {
   "cell_type": "markdown",
   "id": "53cb2815",
   "metadata": {
    "slideshow": {
     "slide_type": "subslide"
    }
   },
   "source": [
    "**How accurate is the approximation?**"
   ]
  },
  {
   "cell_type": "markdown",
   "id": "920f5483",
   "metadata": {
    "slideshow": {
     "slide_type": "fragment"
    }
   },
   "source": [
    "The following uses a powerful library [NumPy](https://numpy.org/) to return a [$95\\%$-confidence interval](http://onlinestatbook.com/2/estimation/mean.html#:~:text=To%20compute%20the%2095%25%20confidence,be%20between%20the%20cutoff%20points.)."
   ]
  },
  {
   "cell_type": "code",
   "execution_count": null,
   "id": "a48b71d2",
   "metadata": {},
   "outputs": [],
   "source": [
    "def np_approximate_pi(n):\n",
    "    in_circle = (np.random.random((n, 2)) ** 2).sum(axis=-1) < 1\n",
    "    mean = 4 * in_circle.mean()\n",
    "    std = 4 * in_circle.std() / n ** 0.5\n",
    "    return np.array([mean - 2 * std, mean + 2 * std])"
   ]
  },
  {
   "cell_type": "code",
   "execution_count": null,
   "id": "6c916e95",
   "metadata": {
    "slideshow": {
     "slide_type": "-"
    }
   },
   "outputs": [],
   "source": [
    "%%timeit -n 1 -r 1\n",
    "interval = np_approximate_pi(10**7)\n",
    "print(\n",
    "    f\"\"\"95%-confidence interval: {interval}\n",
    "Estimate: {interval.mean():.4f} ± {(interval[1]-interval[0])/2:.4f}\n",
    "Ground truth: {math.pi}\"\"\"\n",
    ")"
   ]
  },
  {
   "cell_type": "markdown",
   "id": "43a1fdb0",
   "metadata": {
    "slideshow": {
     "slide_type": "fragment"
    }
   },
   "source": [
    "::::{note} Is Numpy `array` faster than Python `list`? \n",
    ":class: dropdown\n",
    "\n",
    "The computation done using NumPy is over $5$ times faster despite the additional computation of the standard deviation.\n",
    "\n",
    "::::"
   ]
  },
  {
   "cell_type": "markdown",
   "id": "681c4d05",
   "metadata": {},
   "source": [
    "We can create $n$ further to obtain a more accurate solution:"
   ]
  },
  {
   "cell_type": "code",
   "execution_count": null,
   "id": "57b1d704",
   "metadata": {},
   "outputs": [],
   "source": [
    "interval = np_approximate_pi(10**8)\n",
    "print(\n",
    "    f\"\"\"95%-confidence interval: {interval}\n",
    "Estimate: {interval.mean():.4f} ± {(interval[1]-interval[0])/2:.4f}\n",
    "Ground truth: {math.pi}\"\"\"\n",
    ")"
   ]
  },
  {
   "cell_type": "markdown",
   "id": "77fd0a09",
   "metadata": {
    "slideshow": {
     "slide_type": "subslide"
    }
   },
   "source": [
    "::::{seealso}\n",
    "\n",
    "There are faster methods to approximate $\\pi$, such as the [BBP Formula](https://en.wikipedia.org/wiki/Bailey%E2%80%93Borwein%E2%80%93Plouffe_formula) and [Chudnovsky algorithm](https://en.wikipedia.org/wiki/Chudnovsky_algorithm), but the Monte-Carlo method is helpful in complicated situations.\n",
    "\n",
    "::::"
   ]
  },
  {
   "cell_type": "code",
   "execution_count": null,
   "id": "b3ecc086",
   "metadata": {},
   "outputs": [],
   "source": [
    "%%ai chatgpt -f text\n",
    "Write a python program `print_pi(n)` to print pi to `n` decimal places.\n",
    "Avoid the precision limit of float."
   ]
  },
  {
   "cell_type": "code",
   "execution_count": null,
   "id": "aa1c28c8",
   "metadata": {},
   "outputs": [],
   "source": [
    "%%ai chatgpt -f text\n",
    "Provide an example of an application where Monte Carlo simulation is the only feasible computational method and no superior alternatives are known."
   ]
  },
  {
   "cell_type": "code",
   "execution_count": null,
   "id": "0704bede",
   "metadata": {},
   "outputs": [],
   "source": [
    "%%ai chatgpt -f text\n",
    "Explain how the accuracy of the estimates by Monte Carlo simulation can be improved by importance sampling?"
   ]
  },
  {
   "cell_type": "markdown",
   "id": "b750ddca",
   "metadata": {
    "slideshow": {
     "slide_type": "slide"
    }
   },
   "source": [
    "## Linear Algebra"
   ]
  },
  {
   "cell_type": "markdown",
   "id": "d9a1bdd8",
   "metadata": {
    "slideshow": {
     "slide_type": "subslide"
    }
   },
   "source": [
    "**How to solve a linear equation?**"
   ]
  },
  {
   "cell_type": "markdown",
   "id": "fa3bf176",
   "metadata": {
    "slideshow": {
     "slide_type": "fragment"
    }
   },
   "source": [
    "Given the following linear equation in variable $x$ with real-valued coefficient $a$ and $b$,\n",
    "\n",
    "$$ a x = b,$$\n",
    "what is the value of $x$ that satisfies the equation?"
   ]
  },
  {
   "cell_type": "markdown",
   "id": "d493cd0e",
   "metadata": {
    "slideshow": {
     "slide_type": "subslide"
    }
   },
   "source": [
    "::::{exercise}\n",
    ":label: ex:ml2\n",
    "\n",
    "Complete the following function to return either the unique solution of $x$ or `None` if a unique solution does not exist.\n",
    "\n",
    "::::"
   ]
  },
  {
   "cell_type": "code",
   "execution_count": null,
   "id": "62f4e58a",
   "metadata": {
    "deletable": false,
    "nbgrader": {
     "cell_type": "code",
     "checksum": "d8a6d470b6f17e056d36b93f6e70eaeb",
     "grade": false,
     "grade_id": "solve_linear_equation",
     "locked": false,
     "schema_version": 3,
     "solution": true,
     "task": false
    },
    "slideshow": {
     "slide_type": "-"
    }
   },
   "outputs": [],
   "source": [
    "def solve_linear_equation(a, b):\n",
    "    # YOUR CODE HERE\n",
    "    raise NotImplementedError\n",
    "\n",
    "\n",
    "@widgets.interact(a=(0, 5, 1), b=(0, 5, 1))\n",
    "def linear_equation_solver(a=2, b=3):\n",
    "    print(\n",
    "        f\"\"\"linear equation: {a}x = {b}\n",
    "       solution: x = {solve_linear_equation(a,b)}\"\"\"\n",
    "    )"
   ]
  },
  {
   "cell_type": "markdown",
   "id": "b629fc82",
   "metadata": {
    "slideshow": {
     "slide_type": "subslide"
    }
   },
   "source": [
    "**How to solve multiple linear equations?**"
   ]
  },
  {
   "cell_type": "markdown",
   "id": "30ed5fcf",
   "metadata": {
    "slideshow": {
     "slide_type": "fragment"
    }
   },
   "source": [
    "In the general case, we have a system of $m$ linear equations and $n$ variables:\n",
    "\n",
    "$$ \\begin{aligned}\n",
    "a_{00} x_0 + a_{01} x_1 + \\dots + a_{0(n-1)} x_{n-1} &= b_0\\\\\n",
    "a_{10} x_0 + a_{11} x_1 + \\dots + a_{1(n-1)} x_{n-1} &= b_1\\\\\n",
    " & \\vdots\\\\\n",
    "a_{(m-1)0} x_0 + a_{(m-1)1} x_1 + \\dots + a_{(m-1)(n-1)} x_{n-1} &= b_{m-1}\\\\\n",
    "\\end{aligned}\n",
    "$$\n",
    "where\n",
    "- $x_j$ for $j\\in \\{0,\\dots,n-1\\}$ are the variables, and\n",
    "- $a_{ij}$ and $b_j$ for $i\\in \\{0,\\dots,m-1\\}$ and $j\\in \\{0,\\dots,n-1\\}$ are the coefficients.\n",
    "\n",
    "A fundamental problem in linear algebra is to compute the unique solution to the system if it exists."
   ]
  },
  {
   "cell_type": "markdown",
   "id": "df5eb522",
   "metadata": {
    "slideshow": {
     "slide_type": "fragment"
    }
   },
   "source": [
    "We will consider the simpler 2-by-2 system with 2 variables and 2 equations:\n",
    "\n",
    "$$ \\begin{aligned}\n",
    "a_{00} x_0 + a_{01} x_1 &= b_0\\\\\n",
    "a_{10} x_0 + a_{11} x_1 &= b_1.\n",
    "\\end{aligned}\n",
    "$$"
   ]
  },
  {
   "cell_type": "markdown",
   "id": "9e334ac2",
   "metadata": {
    "slideshow": {
     "slide_type": "subslide"
    }
   },
   "source": [
    "To get an idea of the solution, suppose \n",
    "\n",
    "$$a_{00}=a_{11}=1, a_{01} = a_{10} = 0.$$\n",
    "The system of equations becomes\n",
    "\n",
    "$$ \\begin{aligned}\n",
    "x_0 \\hphantom{+ x_1} &= b_0\\\\\n",
    "\\hphantom{x_0 +}  x_1 &= b_1,\n",
    "\\end{aligned}\n",
    "$$\n",
    "which gives the solution directly."
   ]
  },
  {
   "cell_type": "markdown",
   "id": "b4b6b311",
   "metadata": {
    "slideshow": {
     "slide_type": "fragment"
    }
   },
   "source": [
    "What about $a_{00}=a_{11}=2$ instead?\n",
    "\n",
    "$$ \\begin{aligned}\n",
    "2x_0 \\hphantom{+ x_1} &= b_0\\\\\n",
    "\\hphantom{2x_0 +}  2x_1 &= b_1,\n",
    "\\end{aligned}$$"
   ]
  },
  {
   "cell_type": "markdown",
   "id": "2b6b197c",
   "metadata": {
    "slideshow": {
     "slide_type": "fragment"
    }
   },
   "source": [
    "To obtain the solution, we divide both equations by 2:\n",
    "\n",
    "$$ \\begin{aligned}\n",
    "x_0 \\hphantom{+ x_1} &= \\frac{b_0}2\\\\\n",
    "\\hphantom{x_0 +}  x_1 &= \\frac{b_1}2.\n",
    "\\end{aligned}\n",
    "$$"
   ]
  },
  {
   "cell_type": "markdown",
   "id": "4c177778",
   "metadata": {
    "slideshow": {
     "slide_type": "fragment"
    }
   },
   "source": [
    "What if $a_{01}=2$ instead?\n",
    "\n",
    "$$ \\begin{aligned}\n",
    "2x_0 + 2x_1 &= b_0\\\\\n",
    "\\hphantom{2x_0 +}  2x_1 &= b_1\\\\\n",
    "\\end{aligned}\n",
    "$$"
   ]
  },
  {
   "cell_type": "markdown",
   "id": "955454e8",
   "metadata": {
    "slideshow": {
     "slide_type": "fragment"
    }
   },
   "source": [
    "The second equation gives the solution of $x_1$, and we can use the solution in the first equation to solve for $x_0$. More precisely:\n",
    "- Subtract the second equation from the first one:\n",
    "\n",
    "$$ \\begin{aligned}\n",
    "2x_0 \\hphantom{+2x_1} &= b_0 - b_1\\\\\n",
    "\\hphantom{2x_0 +}  2x_1 &= b_1\\\\\n",
    "\\end{aligned}\n",
    "$$\n",
    "- Divide both equations by 2:\n",
    "\n",
    "$$ \\begin{aligned}\n",
    "x_0 \\hphantom{+ x_1} &= \\frac{b_0 - b_1}2\\\\\n",
    "\\hphantom{x_0 +}  x_1 &= \\frac{b_1}2\\\\\n",
    "\\end{aligned}\n",
    "$$"
   ]
  },
  {
   "cell_type": "markdown",
   "id": "e352e8c6",
   "metadata": {},
   "source": [
    "The above operations are called *row operations* in linear algebra: Each row is an equation."
   ]
  },
  {
   "cell_type": "markdown",
   "id": "1e07338b",
   "metadata": {
    "slideshow": {
     "slide_type": "subslide"
    }
   },
   "source": [
    "::::{important} Row operations\n",
    "\n",
    "A system of linear equations can be solved by the linear operations of \n",
    "1. multiplying an equation by a constant, and\n",
    "2. subtracting one equation from another.\n",
    "::::"
   ]
  },
  {
   "cell_type": "markdown",
   "id": "6036c09e",
   "metadata": {
    "slideshow": {
     "slide_type": "fragment"
    }
   },
   "source": [
    "How to write a program to solve a general 2-by-2 system? We will use the NumPy library."
   ]
  },
  {
   "cell_type": "markdown",
   "id": "8bc2d26b",
   "metadata": {
    "slideshow": {
     "slide_type": "subslide"
    }
   },
   "source": [
    "### Creating NumPy arrays"
   ]
  },
  {
   "cell_type": "markdown",
   "id": "0805928c",
   "metadata": {
    "slideshow": {
     "slide_type": "subslide"
    }
   },
   "source": [
    "**How to store the coefficients?**"
   ]
  },
  {
   "cell_type": "markdown",
   "id": "736eebc7",
   "metadata": {
    "slideshow": {
     "slide_type": "fragment"
    }
   },
   "source": [
    "In linear algebra, a system of equations such as\n",
    "\n",
    "$$ \\begin{aligned}\n",
    "a_{00} x_0 + a_{01} x_1 &= b_0\\\\\n",
    "a_{10} x_0 + a_{11} x_1 &= b_1\n",
    "\\end{aligned}\n",
    "$$\n",
    "is written concisely in *matrix* form as $ \\M{A} \\M{x} = \\M{b} $:\n",
    "\n",
    "$$\\overbrace{\\begin{bmatrix}\n",
    "a_{00} & a_{01}\\\\\n",
    "a_{10} & a_{11}\n",
    "\\end{bmatrix}}^{\\M{A}}\n",
    "\\overbrace{\n",
    "\\begin{bmatrix}\n",
    "x_0\\\\\n",
    "x_1\n",
    "\\end{bmatrix}}\n",
    "^{\\M{x}}\n",
    "= \\overbrace{\\begin{bmatrix}\n",
    "b_0\\\\\n",
    "b_1\n",
    "\\end{bmatrix}}^{\\M{b}},\n",
    "$$\n",
    "where\n",
    "$ \\M{A} \\M{x}$ is the *matrix multiplication*\n",
    "\n",
    "$$ \\M{A} \\M{x} = \\begin{bmatrix}\n",
    "a_{00} x_0 + a_{01} x_1\\\\\n",
    "a_{10} x_0 + a_{11} x_1\n",
    "\\end{bmatrix}.\n",
    "$$"
   ]
  },
  {
   "cell_type": "markdown",
   "id": "b1a6ca1a",
   "metadata": {},
   "source": [
    "::::{figure} images/LinearEquationToMatrixForm.gif\n",
    ":name:\n",
    ":alt: Matrix form\n",
    ":align: left\n",
    "\n",
    "Matrix form ([source code](https://dive4dec.github.io/optlite/#code=from%20manim%20import%20*%0A%0A%23%20%25%25manim%20--format%20gif%20-qm%20-t%20--progress_bar%20None%20--disable_caching%20-v%20ERROR%20LinearEquationToMatrixForm%0Aclass%20LinearEquationToMatrixForm%28Scene%29%3A%0A%20%20%20%20def%20construct%28self%29%3A%0A%20%20%20%20%20%20%20%20%23%20Set%20the%20background%20color%20to%20white%0A%20%20%20%20%20%20%20%20self.camera.background_color%20%3D%20WHITE%0A%20%20%20%20%20%20%20%20Text.set_default%28color%3DBLACK%29%0A%20%20%20%20%20%20%20%20MathTex.set_default%28color%3DBLACK%29%0A%0A%20%20%20%20%20%20%20%20%23%20Define%20the%20system%20of%20linear%20equations%0A%20%20%20%20%20%20%20%20equations%20%3D%20MathTex%28%0A%20%20%20%20%20%20%20%20%20%20%20%20r%22%7B%7Ba_%7B00%7D%7D%7D%7B%7Bx_0%7D%7D%20%2B%20%7B%7Ba_%7B01%7D%7D%7D%7B%7Bx_1%7D%7D%20%26%7B%7B%3D%7D%7D%20%7B%7Bb_0%7D%7D%20%5C%5C%22,%0A%20%20%20%20%20%20%20%20%20%20%20%20r%22%7B%7Ba_%7B10%7D%7D%7D%7B%7Bx_0%7D%7D%20%2B%20%7B%7Ba_%7B11%7D%7D%7D%7B%7Bx_1%7D%7D%20%26%7B%7B%3D%7D%7D%20%7B%7Bb_1%7D%7D%22,%0A%20%20%20%20%20%20%20%20%29.shift%28UP%20*%202%29%0A%0A%20%20%20%20%20%20%20%20%23%20Define%20the%20matrix%20form%0A%20%20%20%20%20%20%20%20a_%20%3D%20%5B%5BMathTex%28f%22%7B%7B%7B%7Ba_%7B%7B%7Bi%7D%7Bj%7D%7D%7D%7D%7D%7D%7D%22%29%20for%20j%20in%20range%282%29%5D%20for%20i%20in%20range%282%29%5D%0A%20%20%20%20%20%20%20%20x_%20%3D%20%5B%5BMathTex%28f%22%7B%7B%7B%7Bx_%7Bi%7D%7D%7D%7D%7D%22%29%5D%20for%20i%20in%20range%282%29%5D%0A%20%20%20%20%20%20%20%20b_%20%3D%20%5B%5BMathTex%28f%22%7B%7B%7B%7Bb_%7Bi%7D%7D%7D%7D%7D%22%29%5D%20for%20i%20in%20range%282%29%5D%0A%20%20%20%20%20%20%20%20eq%20%3D%20MathTex%28%22%7B%7B%3D%7D%7D%22%29%0A%20%20%20%20%20%20%20%20A%20%3D%20MobjectMatrix%28a_%29%0A%20%20%20%20%20%20%20%20x%20%3D%20MobjectMatrix%28x_%29%0A%20%20%20%20%20%20%20%20b%20%3D%20MobjectMatrix%28b_%29%0A%20%20%20%20%20%20%20%20matrix_form%20%3D%20VGroup%28A,%20x,%20eq,%20b%29.arrange_submobjects%28%29.shift%28DOWN%29%0A%0A%20%20%20%20%20%20%20%20%23%20Add%20the%20initial%20equations%20to%20the%20scene%0A%20%20%20%20%20%20%20%20self.add%28equations%29%0A%20%20%20%20%20%20%20%20self.wait%281%29%0A%0A%20%20%20%20%20%20%20%20%23%20Transform%20the%20equations%20into%20matrix%20form%0A%20%20%20%20%20%20%20%20self.play%28%0A%20%20%20%20%20%20%20%20%20%20%20%20TransformMatchingTex%28%0A%20%20%20%20%20%20%20%20%20%20%20%20%20%20%20%20equations,%0A%20%20%20%20%20%20%20%20%20%20%20%20%20%20%20%20Group%28%0A%20%20%20%20%20%20%20%20%20%20%20%20%20%20%20%20%20%20%20%20*%5Ba_%5Bi%5D%5Bj%5D%20for%20i%20in%20range%282%29%20for%20j%20in%20range%282%29%5D,%0A%20%20%20%20%20%20%20%20%20%20%20%20%20%20%20%20%20%20%20%20*%5Bx_%5Bi%5D%5B0%5D%20for%20i%20in%20range%282%29%5D,%0A%20%20%20%20%20%20%20%20%20%20%20%20%20%20%20%20%20%20%20%20eq,%0A%20%20%20%20%20%20%20%20%20%20%20%20%20%20%20%20%20%20%20%20*%5Bb_%5Bi%5D%5B0%5D%20for%20i%20in%20range%282%29%5D,%0A%20%20%20%20%20%20%20%20%20%20%20%20%20%20%20%20%29,%0A%20%20%20%20%20%20%20%20%20%20%20%20%29%0A%20%20%20%20%20%20%20%20%29%0A%20%20%20%20%20%20%20%20self.add%28matrix_form%29%0A%20%20%20%20%20%20%20%20self.wait%282%29&mode=edit&origin=opt-frontend.js&rawInputLstJSON=%5B%5D))\n",
    "\n",
    "::::"
   ]
  },
  {
   "cell_type": "markdown",
   "id": "3e22ee2c",
   "metadata": {
    "slideshow": {
     "slide_type": "fragment"
    }
   },
   "source": [
    "We say that $\\M{A}$ is a [*matrix*](https://en.wikipedia.org/wiki/Matrix_(mathematics)) and its dimension/shape is $2$-by-$2$:\n",
    "- The first dimension/axis has size $2$. We also say that the matrix has $2$ rows.\n",
    "- The second dimension/axis has size $2$. We also say that the matrix has $2$ columns.\n",
    "$\\M{x}$ and $\\M{b}$ are called column vectors, which are matrices with one column."
   ]
  },
  {
   "cell_type": "markdown",
   "id": "3e634aba",
   "metadata": {
    "slideshow": {
     "slide_type": "subslide"
    }
   },
   "source": [
    "Consider the example\n",
    "\n",
    "$$ \\begin{aligned}\n",
    "2x_0 + 2x_1 &= 1\\\\\n",
    "\\hphantom{2x_0 +}  2x_1 &= 1,\n",
    "\\end{aligned}$$\n",
    "\n",
    "or in matrix form with\n",
    "\n",
    "$$ \\begin{aligned}\n",
    "\\M{A}&=\\begin{bmatrix}\n",
    "a_{00} & a_{01} \\\\\n",
    "a_{10} & a_{11} \n",
    "\\end{bmatrix} \n",
    "= \\begin{bmatrix}\n",
    "2 & 2 \\\\\n",
    "0 & 2 \n",
    "\\end{bmatrix}\\\\\n",
    "\\M{b}&=\\begin{bmatrix}\n",
    "b_0\\\\\n",
    "b_1\n",
    "\\end{bmatrix} = \\begin{bmatrix}\n",
    "1\\\\\n",
    "1\n",
    "\\end{bmatrix}\\end{aligned}$$"
   ]
  },
  {
   "cell_type": "markdown",
   "id": "9c6c985e",
   "metadata": {
    "slideshow": {
     "slide_type": "fragment"
    }
   },
   "source": [
    "Instead of using `list` to store the matrix, we will use a NumPy array."
   ]
  },
  {
   "cell_type": "code",
   "execution_count": null,
   "id": "f10ce88b",
   "metadata": {
    "slideshow": {
     "slide_type": "-"
    }
   },
   "outputs": [],
   "source": [
    "A = np.array([[2.0, 2], [0, 2]])\n",
    "b = np.array([1.0, 1])\n",
    "A, b"
   ]
  },
  {
   "cell_type": "markdown",
   "id": "9222f8c2",
   "metadata": {
    "slideshow": {
     "slide_type": "subslide"
    }
   },
   "source": [
    "Compared to `list`, NumPy array is often more efficient and has more attributes."
   ]
  },
  {
   "cell_type": "code",
   "execution_count": null,
   "id": "b4b0f40f",
   "metadata": {
    "slideshow": {
     "slide_type": "-"
    }
   },
   "outputs": [],
   "source": [
    "array_attributes = set(attr for attr in dir(np.array([])) if attr[0] != \"_\")\n",
    "list_attributes = set(attr for attr in dir(list) if attr[0] != \"_\")\n",
    "print(\"\\nCommon attributes:\\n\", *(array_attributes & list_attributes))\n",
    "print(\"\\nArray-specific attributes:\\n\", *(array_attributes - list_attributes))\n",
    "print(\"\\nList-specific attributes:\\n\", *(list_attributes - array_attributes))"
   ]
  },
  {
   "cell_type": "markdown",
   "id": "65c10a4e",
   "metadata": {
    "slideshow": {
     "slide_type": "subslide"
    }
   },
   "source": [
    "The following attributes give the dimension/shape, number of dimensions, size, and data type."
   ]
  },
  {
   "cell_type": "code",
   "execution_count": null,
   "id": "47286114",
   "metadata": {
    "slideshow": {
     "slide_type": "-"
    }
   },
   "outputs": [],
   "source": [
    "for array in A, b:\n",
    "    print(\n",
    "        f\"\"\"{array}\n",
    "    shape: {array.shape}\n",
    "    ndim: {array.ndim}\n",
    "    size: {array.size}\n",
    "    dtype: {array.dtype}\n",
    "    \"\"\"\n",
    "    )"
   ]
  },
  {
   "cell_type": "markdown",
   "id": "f9d97029",
   "metadata": {
    "slideshow": {
     "slide_type": "fragment"
    }
   },
   "source": [
    "Note that the function `len` only returns the size of the first dimension:"
   ]
  },
  {
   "cell_type": "code",
   "execution_count": null,
   "id": "d2646a7b",
   "metadata": {
    "slideshow": {
     "slide_type": "-"
    }
   },
   "outputs": [],
   "source": [
    "assert A.shape[0] == len(A)\n",
    "len(A)"
   ]
  },
  {
   "cell_type": "markdown",
   "id": "bd5ede5c",
   "metadata": {
    "slideshow": {
     "slide_type": "subslide"
    }
   },
   "source": [
    "Unlike `list`, every NumPy array has a data type. For efficient computation/storage, numpy implements different data types with different storage sizes:"
   ]
  },
  {
   "cell_type": "code",
   "execution_count": null,
   "id": "5a5eb27b",
   "metadata": {},
   "outputs": [],
   "source": [
    "np.byte, np.short, np.intc\n",
    "np.ubyte, np.ushort, np.uintc, np.uint\n",
    "np.half, np.single, np.double, np.longfloat\n",
    "np.csingle, np.cdouble, np.clongdouble"
   ]
  },
  {
   "cell_type": "markdown",
   "id": "2a0602cb",
   "metadata": {
    "slideshow": {
     "slide_type": "fragment"
    }
   },
   "source": [
    "E.g., `int64` is the 64-bit integer. Unlike `int`, `int64` has a range."
   ]
  },
  {
   "cell_type": "code",
   "execution_count": null,
   "id": "24106b9b",
   "metadata": {
    "slideshow": {
     "slide_type": "-"
    }
   },
   "outputs": [],
   "source": [
    "%%optlite -h 400\n",
    "import numpy as np\n",
    "min_int64 = np.int64(-2**63)\n",
    "max_int64 = np.int64(2**63-1)\n",
    "np.int64(2 ** 63)  # overflow error"
   ]
  },
  {
   "cell_type": "markdown",
   "id": "e5496ed9",
   "metadata": {
    "slideshow": {
     "slide_type": "subslide"
    }
   },
   "source": [
    "We can use the `astype` method to convert the data type:"
   ]
  },
  {
   "cell_type": "code",
   "execution_count": null,
   "id": "e009e139",
   "metadata": {
    "slideshow": {
     "slide_type": "-"
    }
   },
   "outputs": [],
   "source": [
    "A_int64 = A.astype(int)  # converts to int64 by default\n",
    "A_float32 = A.astype(np.float32)  # converts to float32\n",
    "for array in A_int64, A_float32:\n",
    "    print(array, array.dtype)"
   ]
  },
  {
   "cell_type": "markdown",
   "id": "2aeac925",
   "metadata": {
    "slideshow": {
     "slide_type": "fragment"
    }
   },
   "source": [
    "We must be careful about assigning items of different types to an array."
   ]
  },
  {
   "cell_type": "code",
   "execution_count": null,
   "id": "ff4a4651",
   "metadata": {
    "slideshow": {
     "slide_type": "-"
    }
   },
   "outputs": [],
   "source": [
    "A_int64[0, 0] = 1\n",
    "print(A_int64)\n",
    "A_int64[0, 0] = 0.5\n",
    "print(A_int64)  # intended assignment fails\n",
    "np.array([int(1), float(1)])  # will be all floating point numbers"
   ]
  },
  {
   "cell_type": "markdown",
   "id": "f0366a2c",
   "metadata": {
    "slideshow": {
     "slide_type": "subslide"
    }
   },
   "source": [
    "::::{exercise}\n",
    ":label: ex:ml3\n",
    "\n",
    "Create a heterogeneous NumPy array to store both integers and strings:\n",
    "```python\n",
    "[0, 1, 2, 'a', 'b', 'c']\n",
    "```\n",
    ":::{hint}\n",
    ":class: dropdown\n",
    "\n",
    "Use the [`object` type](https://numpy.org/devdocs/reference/arrays.scalars.html#numpy.object_).\n",
    ":::\n",
    "\n",
    "::::"
   ]
  },
  {
   "cell_type": "code",
   "execution_count": null,
   "id": "5a7924f0",
   "metadata": {
    "deletable": false,
    "nbgrader": {
     "cell_type": "code",
     "checksum": "8351a9664492727d35a87a0ffc344bdc",
     "grade": false,
     "grade_id": "hetero",
     "locked": false,
     "schema_version": 3,
     "solution": true,
     "task": false
    },
    "slideshow": {
     "slide_type": "-"
    }
   },
   "outputs": [],
   "source": [
    "# YOUR CODE HERE\n",
    "raise NotImplementedError\n",
    "heterogeneous_np_array"
   ]
  },
  {
   "cell_type": "markdown",
   "id": "e244e3ac",
   "metadata": {
    "slideshow": {
     "slide_type": "fragment"
    }
   },
   "source": [
    "Be careful when creating arrays of `tuple`/`list`:"
   ]
  },
  {
   "cell_type": "code",
   "execution_count": null,
   "id": "5f99f8d2",
   "metadata": {},
   "outputs": [],
   "source": [
    "%%optlite -h 350\n",
    "import numpy as np\n",
    "a1 = np.array([(1, 2), [3, 4, 5]], dtype=object)\n",
    "print(a1.shape, a1.size)\n",
    "a2 = np.array([(1, 2), [3, 4]], dtype=object)\n",
    "print(a2.shape, a2.size)"
   ]
  },
  {
   "cell_type": "markdown",
   "id": "fc90bba4",
   "metadata": {
    "slideshow": {
     "slide_type": "subslide"
    }
   },
   "source": [
    "NumPy provides many functions to create an array:"
   ]
  },
  {
   "cell_type": "code",
   "execution_count": null,
   "id": "e9219a78",
   "metadata": {},
   "outputs": [],
   "source": [
    "%%optlite -h 400 -l\n",
    "import numpy as np\n",
    "a = [np.zeros(0)]\n",
    "a.append(np.zeros(1, dtype=int))\n",
    "a.append(np.zeros((2, 3, 4)))"
   ]
  },
  {
   "cell_type": "code",
   "execution_count": null,
   "id": "fca8100f",
   "metadata": {},
   "outputs": [],
   "source": [
    "%%optlite -h 400 -l\n",
    "import numpy as np\n",
    "a = [np.empty(2)]\n",
    "a.append(np.empty((2, 3, 4), \n",
    "                  dtype=int))"
   ]
  },
  {
   "cell_type": "code",
   "execution_count": null,
   "id": "8871b8dc",
   "metadata": {},
   "outputs": [],
   "source": [
    "%%optlite -h 400 -l\n",
    "import numpy as np\n",
    "a = [np.ones(2)]\n",
    "a.append(np.ones((2, 3, 4),\n",
    "                dtype=int))"
   ]
  },
  {
   "cell_type": "code",
   "execution_count": null,
   "id": "d949b767",
   "metadata": {},
   "outputs": [],
   "source": [
    "%%optlite -l -h 400\n",
    "import numpy as np\n",
    "a = [np.eye(2)]\n",
    "a.append(np.eye(3, dtype=int))"
   ]
  },
  {
   "cell_type": "code",
   "execution_count": null,
   "id": "439f27ff",
   "metadata": {},
   "outputs": [],
   "source": [
    "%%optlite -l -h 400\n",
    "import numpy as np\n",
    "a = [np.diag(range(1))]\n",
    "a.append(np.diag(range(2)))\n",
    "a.append(np.diag(np.ones(3), k=1))\n",
    "# 1 above main diagonal"
   ]
  },
  {
   "cell_type": "markdown",
   "id": "60fcfcc3",
   "metadata": {
    "slideshow": {
     "slide_type": "subslide"
    }
   },
   "source": [
    "NumPy also provides functions to build an array using rules."
   ]
  },
  {
   "cell_type": "code",
   "execution_count": null,
   "id": "788554df",
   "metadata": {},
   "outputs": [],
   "source": [
    "%%optlite -l -h 400\n",
    "import numpy as np\n",
    "a = [np.arange(5)]\n",
    "# like range but allow non-integer parameters\n",
    "a.append(np.arange(2.5, 5, 0.5))"
   ]
  },
  {
   "cell_type": "code",
   "execution_count": null,
   "id": "9e79a1b9",
   "metadata": {},
   "outputs": [],
   "source": [
    "%%optlite -l -h 400\n",
    "import numpy as np\n",
    "# can specify the number of points instead of the step size\n",
    "a = [np.linspace(0, 4, 5)]\n",
    "a.append(np.linspace(2.5, 4.5, 5))"
   ]
  },
  {
   "cell_type": "code",
   "execution_count": null,
   "id": "5f12bfd2",
   "metadata": {},
   "outputs": [],
   "source": [
    "%%optlite -l -h 400\n",
    "import numpy as np\n",
    "a = np.fromfunction(lambda i, j: i * j, (3, 4))"
   ]
  },
  {
   "cell_type": "markdown",
   "id": "fb7bebd3",
   "metadata": {
    "slideshow": {
     "slide_type": "subslide"
    }
   },
   "source": [
    "We can also reshape an array using the `reshape` method/function:"
   ]
  },
  {
   "cell_type": "code",
   "execution_count": null,
   "id": "a8066c6d",
   "metadata": {},
   "outputs": [],
   "source": [
    "%%optlite -l -h 500\n",
    "import numpy as np\n",
    "a = np.arange(2 * 3 * 4)\n",
    "c1 = a.reshape(2, 3, 4)\n",
    "# automatically calculate the size specified as `-1`\n",
    "c2 = a.reshape(2, 3, -1)"
   ]
  },
  {
   "cell_type": "code",
   "execution_count": null,
   "id": "d1b7e077",
   "metadata": {},
   "outputs": [],
   "source": [
    "%%optlite -l -h 500\n",
    "import numpy as np\n",
    "a = np.arange(2 * 3 * 4)\n",
    "# default C ordering\n",
    "c = a.reshape((2, 3, -1), order=\"C\")\n",
    "# F ordering\n",
    "f = a.reshape((2, 3, -1), order=\"F\")"
   ]
  },
  {
   "cell_type": "markdown",
   "id": "c381fd02",
   "metadata": {},
   "source": [
    "The C ordering and F ordering can be implemented using list comprehension:"
   ]
  },
  {
   "cell_type": "code",
   "execution_count": null,
   "id": "d6d3fc30",
   "metadata": {},
   "outputs": [],
   "source": [
    "%%optlite -l -h 500\n",
    "import numpy as np\n",
    "a = np.arange(2 * 3 * 4)\n",
    "# last axis index changes fastest\n",
    "c = np.array(\n",
    "    [[[a[i*3*4+j*4+k] \n",
    "       for k in range(4)]\n",
    "      for j in range(3)]\n",
    "     for i in range(2)])\n",
    "# first axis index changes fastest\n",
    "f = np.array(\n",
    "    [[[a[i+j*2+k*3*2]\n",
    "       for k in range(4)]\n",
    "      for j in range(3)]\n",
    "     for i in range(2)])"
   ]
  },
  {
   "cell_type": "markdown",
   "id": "a70c7fc4",
   "metadata": {},
   "source": [
    "::::{note} How to distinguish between C and F orderings easily?\n",
    "\n",
    "When restricted to 2-dimension:\n",
    "\n",
    "- C-style (row-major) order is like English writing, where one writes row by row.\n",
    "- F-style (column-major) order is like traditional Chinese writing, where one writes column by column.\n",
    "\n",
    "::::"
   ]
  },
  {
   "cell_type": "markdown",
   "id": "a6334005",
   "metadata": {
    "slideshow": {
     "slide_type": "fragment"
    }
   },
   "source": [
    "`ravel` is a particular case of reshaping an array to one dimension.  \n",
    "A similar function `flatten` returns a copy of the array but `ravel` and `reshape` returns a dynamic view whenever possible."
   ]
  },
  {
   "cell_type": "code",
   "execution_count": null,
   "id": "bc997174",
   "metadata": {
    "slideshow": {
     "slide_type": "-"
    }
   },
   "outputs": [],
   "source": [
    "array = np.arange(2 * 3 * 4).reshape(2, 3, 4)\n",
    "array, array.ravel(), array.reshape(-1), array.ravel(order=\"F\")"
   ]
  },
  {
   "cell_type": "markdown",
   "id": "310f9e50",
   "metadata": {
    "slideshow": {
     "slide_type": "subslide"
    }
   },
   "source": [
    "::::{exercise}\n",
    ":label: ex:ml4\n",
    "\n",
    "Correct the following function to print every element of an array line-by-line.\n",
    "```python\n",
    "def print_array_entries_line_by_line(array):\n",
    "    for i in array:\n",
    "        print(i)\n",
    "```\n",
    "\n",
    "::::"
   ]
  },
  {
   "cell_type": "code",
   "execution_count": null,
   "id": "bc5ade20",
   "metadata": {
    "deletable": false,
    "nbgrader": {
     "cell_type": "code",
     "checksum": "9b654f2393ad64b40edb7ffecc3d0e82",
     "grade": false,
     "grade_id": "flatten",
     "locked": false,
     "schema_version": 3,
     "solution": true,
     "task": false
    },
    "slideshow": {
     "slide_type": "-"
    },
    "tags": [
     "remove-output"
    ]
   },
   "outputs": [],
   "source": [
    "def print_array_entries_line_by_line(array):\n",
    "    # YOUR CODE HERE\n",
    "    raise NotImplementedError\n",
    "\n",
    "\n",
    "print_array_entries_line_by_line(np.arange(2 * 3 * 4).reshape(2, 3, 4))"
   ]
  },
  {
   "cell_type": "markdown",
   "id": "0ec46885",
   "metadata": {
    "slideshow": {
     "slide_type": "slide"
    }
   },
   "source": [
    "### Operating on arrays"
   ]
  },
  {
   "cell_type": "markdown",
   "id": "b1384718",
   "metadata": {
    "slideshow": {
     "slide_type": "subslide"
    }
   },
   "source": [
    "**How to verify the solution of a system of linear equations?**"
   ]
  },
  {
   "cell_type": "markdown",
   "id": "750db3cc",
   "metadata": {
    "slideshow": {
     "slide_type": "fragment"
    }
   },
   "source": [
    "Before solving the system of linear equations, let us try to verify a solution to the equations:\n",
    "\n",
    "$$ \\begin{aligned}\n",
    "2x_0 + 2x_1 &= 1\\\\\n",
    "\\hphantom{2x_0 +}  2x_1 &= 1\n",
    "\\end{aligned}\n",
    "$$"
   ]
  },
  {
   "cell_type": "markdown",
   "id": "3b5b682f",
   "metadata": {
    "slideshow": {
     "slide_type": "fragment"
    }
   },
   "source": [
    "NumPy provides the function `matmul` and the operator `@` for matrix multiplication."
   ]
  },
  {
   "cell_type": "code",
   "execution_count": null,
   "id": "807ae4ae",
   "metadata": {
    "slideshow": {
     "slide_type": "-"
    }
   },
   "outputs": [],
   "source": [
    "print(np.matmul(A, np.array([0, 0])) == b)\n",
    "print(A @ np.array([0, 0.5]) == b)"
   ]
  },
  {
   "cell_type": "markdown",
   "id": "2e25626c",
   "metadata": {
    "slideshow": {
     "slide_type": "subslide"
    }
   },
   "source": [
    "Note that the comparison on NumPy arrays returns a boolean array instead of a boolean value, unlike the comparison operations on lists."
   ]
  },
  {
   "cell_type": "markdown",
   "id": "8eedb132",
   "metadata": {
    "slideshow": {
     "slide_type": "fragment"
    }
   },
   "source": [
    "To check whether all items are true, we use the `all` method."
   ]
  },
  {
   "cell_type": "code",
   "execution_count": null,
   "id": "1f5c0470",
   "metadata": {
    "slideshow": {
     "slide_type": "-"
    }
   },
   "outputs": [],
   "source": [
    "print((np.matmul(A, np.array([0, 0])) == b).all())\n",
    "print((A @ np.array([0, 0.5]) == b).all())"
   ]
  },
  {
   "cell_type": "markdown",
   "id": "a69d0bb5",
   "metadata": {
    "slideshow": {
     "slide_type": "subslide"
    }
   },
   "source": [
    "**How to concatenate arrays?**"
   ]
  },
  {
   "cell_type": "markdown",
   "id": "3383d8c1",
   "metadata": {
    "slideshow": {
     "slide_type": "-"
    }
   },
   "source": [
    "We will operate on an augmented matrix of the coefficients:\n",
    "\n",
    "$$ \\begin{aligned} \\M{C} &= \\begin{bmatrix}\n",
    "\\M{A} & \\M{b}\n",
    "\\end{bmatrix}\\\\\n",
    "&= \\begin{bmatrix}\n",
    "a_{00} & a_{01} & b_0 \\\\\n",
    "a_{10} & a_{11} & b_1\n",
    "\\end{bmatrix} \n",
    "\\end{aligned}\n",
    "$$"
   ]
  },
  {
   "cell_type": "markdown",
   "id": "7f4567de",
   "metadata": {
    "slideshow": {
     "slide_type": "fragment"
    }
   },
   "source": [
    "NumPy provides functions to create block matrices:"
   ]
  },
  {
   "cell_type": "code",
   "execution_count": null,
   "id": "78c08005",
   "metadata": {
    "slideshow": {
     "slide_type": "-"
    }
   },
   "outputs": [],
   "source": [
    "np.block?\n",
    "C = np.block([A, b.reshape(-1, 1)])  # reshape to ensure same ndim\n",
    "C"
   ]
  },
  {
   "cell_type": "markdown",
   "id": "6051d067",
   "metadata": {
    "slideshow": {
     "slide_type": "fragment"
    }
   },
   "source": [
    "To stack an array along different axes:"
   ]
  },
  {
   "cell_type": "code",
   "execution_count": null,
   "id": "66d16174",
   "metadata": {
    "slideshow": {
     "slide_type": "-"
    }
   },
   "outputs": [],
   "source": [
    "array = np.arange(1 * 2 * 3).reshape(1, 2, 3)\n",
    "for concat_array in [\n",
    "    array,\n",
    "    np.hstack((array, array)),  # stack along the first axis\n",
    "    np.vstack((array, array)),  # second axis\n",
    "    np.concatenate((array, array), axis=-1),  # last axis\n",
    "    np.stack((array, array), axis=0),\n",
    "]:  # new axis\n",
    "    print(concat_array, \"\\nshape:\", concat_array.shape)"
   ]
  },
  {
   "cell_type": "markdown",
   "id": "d110678d",
   "metadata": {
    "slideshow": {
     "slide_type": "subslide"
    }
   },
   "source": [
    "**How to perform arithmetic operations on a NumPy array?**"
   ]
  },
  {
   "cell_type": "markdown",
   "id": "955d87fb",
   "metadata": {
    "slideshow": {
     "slide_type": "fragment"
    }
   },
   "source": [
    "To divide all the coefficients by $2$, we can write:"
   ]
  },
  {
   "cell_type": "code",
   "execution_count": null,
   "id": "270abf46",
   "metadata": {
    "slideshow": {
     "slide_type": "-"
    }
   },
   "outputs": [],
   "source": [
    "D = C / 2\n",
    "D"
   ]
  },
  {
   "cell_type": "markdown",
   "id": "70ca5857",
   "metadata": {
    "slideshow": {
     "slide_type": "fragment"
    }
   },
   "source": [
    "Note that the above does not work for `list`."
   ]
  },
  {
   "cell_type": "code",
   "execution_count": null,
   "id": "2ee72af0",
   "metadata": {
    "slideshow": {
     "slide_type": "-"
    }
   },
   "outputs": [],
   "source": [
    "%%optlite -l -h 500\n",
    "[[2, 2, 1], [0, 2, 1]] / 2"
   ]
  },
  {
   "cell_type": "markdown",
   "id": "2fbf601a",
   "metadata": {
    "slideshow": {
     "slide_type": "subslide"
    }
   },
   "source": [
    "Arithmetic operations on NumPy arrays apply if the arrays have compatible dimensions. Two dimensions are compatible when\n",
    "- they are equal, except for\n",
    "- components equal to 1."
   ]
  },
  {
   "cell_type": "markdown",
   "id": "708b5839",
   "metadata": {
    "slideshow": {
     "slide_type": "fragment"
    }
   },
   "source": [
    "NumPy uses [broadcasting rules](https://numpy.org/doc/stable/user/basics.broadcasting.html#general-broadcasting-rules) to stretch the axis of size 1 up to match the corresponding axis in other arrays. `C / 2` is an example where the second operand $2$ is broadcasted to a $2$-by-$2$ matrix before the elementwise division. Another example is as follows."
   ]
  },
  {
   "cell_type": "code",
   "execution_count": null,
   "id": "debb579c",
   "metadata": {
    "slideshow": {
     "slide_type": "-"
    }
   },
   "outputs": [],
   "source": [
    "three_by_one = np.arange(3).reshape(3, 1)\n",
    "one_by_four = np.arange(4).reshape(1, 4)\n",
    "print(\n",
    "    f\"\"\"\n",
    "{three_by_one}\n",
    "*\n",
    "{one_by_four}\n",
    "==\n",
    "{three_by_one * one_by_four}\n",
    "\"\"\"\n",
    ")"
   ]
  },
  {
   "cell_type": "code",
   "execution_count": null,
   "id": "46bd0191",
   "metadata": {},
   "outputs": [],
   "source": [
    "%%ai chatgpt -f text\n",
    "Explain the broadcasting rule intuitively in one paragraph using an analogy."
   ]
  },
  {
   "cell_type": "markdown",
   "id": "c0a24ff4",
   "metadata": {
    "slideshow": {
     "slide_type": "subslide"
    }
   },
   "source": [
    "Next, to subtract the second row of the coefficients from the first row:"
   ]
  },
  {
   "cell_type": "code",
   "execution_count": null,
   "id": "01971fb0",
   "metadata": {
    "slideshow": {
     "slide_type": "-"
    }
   },
   "outputs": [],
   "source": [
    "D[0, :] = D[0, :] - D[1, :]\n",
    "D"
   ]
  },
  {
   "cell_type": "markdown",
   "id": "73ee7b61",
   "metadata": {
    "slideshow": {
     "slide_type": "fragment"
    }
   },
   "source": [
    "Notice the use of commas to index different dimensions instead of using multiple brackets:"
   ]
  },
  {
   "cell_type": "code",
   "execution_count": null,
   "id": "957a44bd",
   "metadata": {
    "slideshow": {
     "slide_type": "-"
    }
   },
   "outputs": [],
   "source": [
    "assert (D[0][:] == D[0, :]).all()"
   ]
  },
  {
   "cell_type": "markdown",
   "id": "81ed68de",
   "metadata": {
    "slideshow": {
     "slide_type": "subslide"
    }
   },
   "source": [
    "Using this indexing technique, it is easy to extract the last column as the solution to the system of linear equations:"
   ]
  },
  {
   "cell_type": "code",
   "execution_count": null,
   "id": "43f2caa1",
   "metadata": {
    "slideshow": {
     "slide_type": "-"
    }
   },
   "outputs": [],
   "source": [
    "x = D[:, -1]\n",
    "x"
   ]
  },
  {
   "cell_type": "markdown",
   "id": "a8c74392",
   "metadata": {
    "slideshow": {
     "slide_type": "fragment"
    }
   },
   "source": [
    "This gives the desired solution $x_0=0$ and $x_1=0.5$ for\n",
    "\n",
    "$$ \\begin{aligned}\n",
    "2x_0 + 2x_1 &= 1\\\\\n",
    "\\hphantom{2x_0 +}  2x_1 &= 1\\\\\n",
    "\\end{aligned}$$"
   ]
  },
  {
   "cell_type": "markdown",
   "id": "5391b99e",
   "metadata": {
    "slideshow": {
     "slide_type": "subslide"
    }
   },
   "source": [
    "NumPy provides many [convenient ways](https://numpy.org/doc/stable/reference/arrays.indexing.html#advanced-indexing) to index an array."
   ]
  },
  {
   "cell_type": "code",
   "execution_count": null,
   "id": "8321fe52",
   "metadata": {
    "slideshow": {
     "slide_type": "-"
    }
   },
   "outputs": [],
   "source": [
    "B = np.arange(2 * 3).reshape(2, 3)\n",
    "B, B[(0, 1), (2, 0)]  # selecting the corners using integer array"
   ]
  },
  {
   "cell_type": "code",
   "execution_count": null,
   "id": "19fb1739",
   "metadata": {
    "slideshow": {
     "slide_type": "-"
    }
   },
   "outputs": [],
   "source": [
    "B = np.arange(2 * 3 * 4).reshape(2, 3, 4)\n",
    "B, B[0], B[0, (1, 2)], B[0, (1, 2), (2, 3)], B[\n",
    "    :, (1, 2), (2, 3)\n",
    "]  # pay attention to the last two cases"
   ]
  },
  {
   "cell_type": "code",
   "execution_count": null,
   "id": "03bccb0d",
   "metadata": {
    "slideshow": {
     "slide_type": "-"
    }
   },
   "outputs": [],
   "source": [
    "assert (B[..., -1] == B[:, :, -1]).all()\n",
    "B[..., -1]  # ... expands to selecting all elements of all previous dimensions"
   ]
  },
  {
   "cell_type": "code",
   "execution_count": null,
   "id": "19f5ca25",
   "metadata": {
    "slideshow": {
     "slide_type": "-"
    }
   },
   "outputs": [],
   "source": [
    "B[B > 5]  # indexing using boolean array"
   ]
  },
  {
   "cell_type": "markdown",
   "id": "7175aee4",
   "metadata": {
    "slideshow": {
     "slide_type": "subslide"
    }
   },
   "source": [
    "Finally, the following function solves 2 linear equations with 2 variables."
   ]
  },
  {
   "cell_type": "code",
   "execution_count": null,
   "id": "694e1466",
   "metadata": {
    "slideshow": {
     "slide_type": "-"
    }
   },
   "outputs": [],
   "source": [
    "def solve_2_by_2_system(A, b):\n",
    "    \"\"\"Returns the unique solution of the linear system, if exists,\n",
    "    else returns None.\"\"\"\n",
    "    C = np.hstack((A, b.reshape(-1, 1)))\n",
    "    if C[0, 0] == 0:\n",
    "        C = C[(1, 0), :]\n",
    "    if C[0, 0] == 0:\n",
    "        return None\n",
    "    C[0, :] = C[0, :] / C[0, 0]\n",
    "    C[1, :] = C[1, :] - C[0, :] * C[1, 0]\n",
    "    if C[1, 1] == 0:\n",
    "        return None\n",
    "    C[1, :] = C[1, :] / C[1, 1]\n",
    "    C[0, :] = C[0, :] - C[1, :] * C[0, 1]\n",
    "    return C[:, -1]"
   ]
  },
  {
   "cell_type": "code",
   "execution_count": null,
   "id": "d4e2c4ad",
   "metadata": {
    "slideshow": {
     "slide_type": "-"
    }
   },
   "outputs": [],
   "source": [
    "# tests\n",
    "for A in (\n",
    "    np.eye(2),\n",
    "    np.ones((2, 2)),\n",
    "    np.stack((np.ones(2), np.zeros(2))),\n",
    "    np.stack((np.ones(2), np.zeros(2)), axis=1),\n",
    "):\n",
    "    print(f\"A={A}\\nb={b}\\nx={solve_2_by_2_system(A,b)}\\n\")"
   ]
  },
  {
   "cell_type": "markdown",
   "id": "ce21785f",
   "metadata": {},
   "source": [
    "### Universal functions"
   ]
  },
  {
   "cell_type": "markdown",
   "id": "7d879e12",
   "metadata": {},
   "source": [
    "NumPy implements [universal/vectorized functions/operators](https://numpy.org/doc/stable/reference/ufuncs.html) that take arrays as arguments and perform operations with appropriate broadcasting rules. The following is an example that uses the universal function `np.sin`:"
   ]
  },
  {
   "cell_type": "code",
   "execution_count": null,
   "id": "ddef1c24",
   "metadata": {
    "slideshow": {
     "slide_type": "-"
    }
   },
   "outputs": [],
   "source": [
    "@widgets.interact(a=(0, 5, 1), b=(-1, 1, 0.1))\n",
    "def plot_sin(a=1, b=0):\n",
    "    plt.figure(1, clear=True)\n",
    "    plt.title(r\"$\\sin(ax+b\\pi)$\")\n",
    "    plt.xlabel(r\"$x$ (radian)\")\n",
    "    x = np.linspace(0, 2 * math.pi)\n",
    "    plt.plot(x, np.sin(a * x + b * math.pi))  # np.sin, *, + are universal functions\n",
    "    plt.show()"
   ]
  },
  {
   "cell_type": "markdown",
   "id": "c4300acf",
   "metadata": {
    "slideshow": {
     "slide_type": "subslide"
    }
   },
   "source": [
    "In addition to making the code shorter, universal functions are both efficient and flexible. Recall the Monte Carlo simulation to approximate $\\pi$:"
   ]
  },
  {
   "cell_type": "markdown",
   "id": "0725d5fe",
   "metadata": {
    "slideshow": {
     "slide_type": "fragment"
    }
   },
   "source": [
    "::::{exercise}\n",
    ":label: ex:ml5\n",
    "\n",
    "Explain the universal functions used in the following Monte Carlo simulation:\n",
    "\n",
    "```python\n",
    "def np_approximate_pi(n):\n",
    "    in_circle = (np.random.random((n,2))**2).sum(axis=-1) < 1\n",
    "    mean = 4 * in_circle.mean()\n",
    "    std = 4 * in_circle.std() / n**0.5\n",
    "    return np.array([mean - 2*std, mean + 2*std])\n",
    "```\n",
    "\n",
    "::::"
   ]
  },
  {
   "cell_type": "markdown",
   "id": "25dc336c",
   "metadata": {
    "deletable": false,
    "nbgrader": {
     "cell_type": "markdown",
     "checksum": "4593e0a5f4715a98778bf469557adae6",
     "grade": true,
     "grade_id": "universal",
     "locked": false,
     "points": 0,
     "schema_version": 3,
     "solution": true,
     "task": false
    }
   },
   "source": [
    "YOUR ANSWER HERE"
   ]
  },
  {
   "cell_type": "code",
   "execution_count": null,
   "id": "08e7d724",
   "metadata": {},
   "outputs": [],
   "source": [
    "%%ai chatgpt -f text\n",
    "Explain in a paragraph why universal functions in numpy are far more efficient\n",
    "than applying a function to each element of a list individually."
   ]
  }
 ],
 "metadata": {
  "kernelspec": {
   "display_name": "Python 3 (ipykernel)",
   "language": "python",
   "name": "python3"
  }
 },
 "nbformat": 4,
 "nbformat_minor": 5
}
