{
 "cells": [
  {
   "cell_type": "markdown",
   "id": "5a19270a",
   "metadata": {
    "jp-MarkdownHeadingCollapsed": true
   },
   "source": [
    "---\n",
    "title: Sphinx Autodoc\n",
    "---"
   ]
  },
  {
   "cell_type": "markdown",
   "id": "79d60223",
   "metadata": {},
   "source": [
    "::::{attention}\n",
    "This notebook is optional and NOT required for any course assessment activities. Lab tutor may go through them if time is available.\n",
    "::::"
   ]
  },
  {
   "cell_type": "code",
   "execution_count": null,
   "id": "94e64025",
   "metadata": {},
   "outputs": [],
   "source": [
    "from __init__ import install_dependencies\n",
    "\n",
    "await install_dependencies()"
   ]
  },
  {
   "cell_type": "markdown",
   "id": "658d4454",
   "metadata": {},
   "source": [
    "[Sphinx](https://www.sphinx-doc.org/en/master/index.html) is a tool to generate high-quality documentations such as the documentations for:\n",
    " - [Python](https://docs.python.org/3/) [(repository)](https://github.com/python/cpython/tree/main/Doc)\n",
    " - [Numpy](https://numpy.org/doc/stable/) [(repository)](https://github.com/numpy/numpy/blob/main/doc)\n",
    " - [Pandas](https://pandas.pydata.org/docs/) [(repository)](https://github.com/pandas-dev/pandas/blob/main/doc)"
   ]
  },
  {
   "cell_type": "markdown",
   "id": "d19a83c0",
   "metadata": {},
   "source": [
    "Sphinx provides an extension called [autodoc](https://www.sphinx-doc.org/en/master/usage/extensions/autodoc.html) that can automatically generate documentations from the docstrings of a module. We will use it to document our `Lecture6` module used in Lecture 6."
   ]
  },
  {
   "cell_type": "markdown",
   "id": "8162f39b",
   "metadata": {},
   "source": [
    "## Quick Start"
   ]
  },
  {
   "cell_type": "markdown",
   "id": "b942576c",
   "metadata": {},
   "source": [
    "We will run the sphinx in the terminal. To start a termial session in JupyterLab:\n",
    "\n",
    "- Open the Launcher (`File->New Launcher`).\n",
    "- Start a new termial session by clicking the `Terminal` icon under `Other`."
   ]
  },
  {
   "cell_type": "markdown",
   "id": "990b1eb1",
   "metadata": {},
   "source": [
    "You should see the terminal tab with a prompt for your input:\n",
    "\n",
    "```sh\n",
    "(base) {username}@{hostname}:{cd}$ ▯\n",
    "```"
   ]
  },
  {
   "cell_type": "markdown",
   "id": "52711889",
   "metadata": {},
   "source": [
    "::::{note}\n",
    "\n",
    "- `(base)` indicates the [conda environment](https://conda.io/projects/conda/en/latest/user-guide/getting-started.html#managing-environments) you are using.\n",
    "- `{username}` shows your username.\n",
    "- `{hostname}` shows the name of the server running your jupyter environment.\n",
    "- `{cd}` shows your current directory. By default, it shows `~`, which is an alias of your home directory `/home/{username}`.\n",
    "- ▯ is the cursor, where you can run a [`bash` command](https://en.wikipedia.org/wiki/Bash_(Unix_shell)).\n",
    "\n",
    "::::"
   ]
  },
  {
   "cell_type": "markdown",
   "id": "728076e9",
   "metadata": {},
   "source": [
    "Run the following quick-start command in a terminal to create the configuration files in a folder called `docs` under your home directory:\n",
    "\n",
    "```sh\n",
    "sphinx-quickstart ~/docs\n",
    "```"
   ]
  },
  {
   "cell_type": "markdown",
   "id": "ae89554b",
   "metadata": {},
   "source": [
    "::::{tip}\n",
    "\n",
    "- You need to press enter to execute the command.\n",
    "- `~/docs` expands to `/home/{username}/docs`. \n",
    "- You can learn more about a command by running it with the option `--help` such as  \n",
    "    ```sh\n",
    "    sphinx-quickstart --help\n",
    "    ```\n",
    "\n",
    "::::"
   ]
  },
  {
   "cell_type": "markdown",
   "id": "3be744ee",
   "metadata": {},
   "source": [
    "You will be asked a few questions:  \n",
    "- Answer `y` to the first question to use separate source and build directories.\n",
    "- Answer whatever you desire for the remaining questions."
   ]
  },
  {
   "cell_type": "markdown",
   "id": "19a03a9e",
   "metadata": {},
   "source": [
    "```sh\n",
    "You have two options for placing the build directory for Sphinx output.\n",
    "Either, you use a directory \"_build\" within the root path, or you separate\n",
    "\"source\" and \"build\" directories within the root path.\n",
    "> Separate source and build directories (y/n) [n]: y\n",
    "\n",
    "The project name will occur in several places in the built documentation.\n",
    "> Project name: Lecture6\n",
    "> Author name(s): CHAN Chung\n",
    "> Project release []: beta\n",
    "```"
   ]
  },
  {
   "cell_type": "markdown",
   "id": "d4848351",
   "metadata": {},
   "source": [
    "````{note}\n",
    "\n",
    "[Project release](https://www.sphinx-doc.org/en/master/usage/configuration.html#confval-release) specifies the full project version. See [software versioning](https://en.wikipedia.org/wiki/Software_versioning) for the convention.\n",
    "\n",
    "````"
   ]
  },
  {
   "cell_type": "markdown",
   "id": "c720e4cf",
   "metadata": {},
   "source": [
    "If successful, the command will print the message:\n",
    "\n",
    "```\n",
    "Finished: An initial directory structure has been created.\n",
    "```"
   ]
  },
  {
   "cell_type": "markdown",
   "id": "f3886ced",
   "metadata": {},
   "source": [
    "You can then run the build script to generate the documentation:\n",
    "\n",
    "```sh\n",
    "sphinx-build -b html ~/docs/source ~/www/Lecture6\n",
    "```"
   ]
  },
  {
   "cell_type": "markdown",
   "id": "e53cd9d1",
   "metadata": {},
   "source": [
    "````{note}\n",
    "\n",
    "The command uses the html builder to generate static webpages to `~/docs/Lecture6` based on the configuration from `~/docs/source`. There are [other builders](https://www.sphinx-doc.org/en/master/usage/builders/index.html#module-sphinx.builders) that build the documentation in different formats.\n",
    "\n",
    "````"
   ]
  },
  {
   "cell_type": "markdown",
   "id": "7b1e0e33",
   "metadata": {},
   "source": [
    "You can view the documentation by  \n",
    "- clicking `File->New Launcher`, and\n",
    "- clicking the icon `www` and then folder `Lecture6`."
   ]
  },
  {
   "cell_type": "markdown",
   "id": "ec8481e6",
   "metadata": {},
   "source": [
    "## Autodoc"
   ]
  },
  {
   "cell_type": "markdown",
   "id": "c2da6ecf",
   "metadata": {},
   "source": [
    "The documentation is currently empty because no module has been specified for documentation. Sphinx supports extensions that can automatically generate documentation files for a specified module."
   ]
  },
  {
   "cell_type": "markdown",
   "id": "0a65181f",
   "metadata": {},
   "source": [
    "### Path setup"
   ]
  },
  {
   "cell_type": "markdown",
   "id": "bd09258d",
   "metadata": {},
   "source": [
    "From the `File Browser` tab, navigate to the `docs/source` folder under your home directory and open `conf.py` by double clicking it and modify it as follows. A sample can be found in [](./conf.py)."
   ]
  },
  {
   "cell_type": "markdown",
   "id": "53a92f5b",
   "metadata": {},
   "source": [
    "Add the module path to the system path at the beginning of the configure file:  \n",
    "\n",
    "```python\n",
    "import os\n",
    "import sys\n",
    "\n",
    "path = os.path.expanduser('~/${COURSE_ID}')\n",
    "path = os.path.expandvars(path)\n",
    "sys.path.insert(0, path)\n",
    "```"
   ]
  },
  {
   "cell_type": "markdown",
   "id": "96e86a11",
   "metadata": {},
   "source": [
    "The module path should contain the top-level module to be documented:"
   ]
  },
  {
   "cell_type": "code",
   "execution_count": null,
   "id": "6b16c7e8",
   "metadata": {},
   "outputs": [],
   "source": [
    "import os\n",
    "import sys\n",
    "\n",
    "path = os.path.expanduser('~/${COURSE_ID}')\n",
    "path = os.path.expandvars(path)\n",
    "path"
   ]
  },
  {
   "cell_type": "markdown",
   "id": "106e3125",
   "metadata": {},
   "source": [
    "The module path is searched first as it is added to the beginning of the system path with `sys.path.insert(0, path)`."
   ]
  },
  {
   "cell_type": "markdown",
   "id": "a8e4b2ce",
   "metadata": {},
   "source": [
    "### Configuration"
   ]
  },
  {
   "cell_type": "markdown",
   "id": "2113c5ff",
   "metadata": {},
   "source": [
    "Add the necessary extensions as follows to `extensions`:\n",
    "```python\n",
    "extensions = ['sphinx.ext.autodoc', 'sphinx.ext.napoleon']\n",
    "```"
   ]
  },
  {
   "cell_type": "markdown",
   "id": "2ab07b8d",
   "metadata": {},
   "source": [
    "````{note}\n",
    "\n",
    "- [`sphinx.ext.napoleon`](https://www.sphinx-doc.org/en/master/usage/extensions/napoleon.html) converts the Numpy-style and Google-style docstrings to rst-formatted docstrings.\n",
    "- [`sphinx.ext.autodoc`](https://www.sphinx-doc.org/en/master/usage/extensions/autodoc.html) generates documentation from docstrings in [reStructuredText format (rst)](https://www.sphinx-doc.org/en/master/usage/restructuredtext/basics.html) format.\n",
    "\n",
    "````"
   ]
  },
  {
   "cell_type": "markdown",
   "id": "4ca63a6f",
   "metadata": {},
   "source": [
    "Change [`exclude_patterns`](https://www.sphinx-doc.org/en/master/usage/configuration.html#confval-exclude_patterns) to exclude temporary files in the hidden folder `.ipynb_checkpoints`:  \n",
    "\n",
    "```sh\n",
    "exclude_patterns = ['**/.ipynb_checkpoints']\n",
    "```"
   ]
  },
  {
   "cell_type": "markdown",
   "id": "ab77a3a6",
   "metadata": {},
   "source": [
    "````{note}\n",
    "\n",
    "`.ipynb_checkpoints` keep a backup of your files so you may recover them. However, `sphinx` will build documentation on those backup files unless we exclude them explicitly. \n",
    "\n",
    "````"
   ]
  },
  {
   "cell_type": "markdown",
   "id": "7c790a5f",
   "metadata": {},
   "source": [
    "### Building the documentation"
   ]
  },
  {
   "cell_type": "markdown",
   "id": "84c97872",
   "metadata": {},
   "source": [
    "Run API documentation command in a terminal to create the rst files for `Lecture6`:  \n",
    "```sh\n",
    "sphinx-apidoc -f -o ~/docs/source ~/${COURSE_ID}/Lecture6\n",
    "```"
   ]
  },
  {
   "cell_type": "markdown",
   "id": "57fffdf9",
   "metadata": {},
   "source": [
    "The above creates `modules.rst` and `Lecture6.rst` under `~/docs/source`. In particular, `modules.rst` points to `Lecture6.rst` as follows:\n",
    "\n",
    "```markdown\n",
    "Lecture6\n",
    "========\n",
    "\n",
    ".. toctree::\n",
    "   :maxdepth: 4\n",
    "\n",
    "   Lecture6\n",
    "```"
   ]
  },
  {
   "cell_type": "markdown",
   "id": "8ca00154",
   "metadata": {},
   "source": [
    "::::{note}\n",
    "There is no need to specify the extension `.rst` like `Lecture6.rst` because `.rst` it is the default extension.\n",
    "::::"
   ]
  },
  {
   "cell_type": "markdown",
   "id": "da7f3df2",
   "metadata": {},
   "source": [
    "Modify `index.rst` to point to `modules.rst` as follows:  \n",
    "```markdown\n",
    ".. Lecture6 documentation master file, created by\n",
    "   sphinx-quickstart on Sun Oct 31 11:51:38 2021.\n",
    "   You can adapt this file completely to your liking, but it should at least\n",
    "   contain the root `toctree` directive.\n",
    "\n",
    "Welcome to Lecture6's documentation!\n",
    "======================================\n",
    "\n",
    ".. toctree::\n",
    "   :maxdepth: 2\n",
    "   :caption: Contents:\n",
    "\n",
    "   modules\n",
    "\n",
    "Indices and tables\n",
    "==================\n",
    "\n",
    "* :ref:`genindex`\n",
    "* :ref:`modindex`\n",
    "* :ref:`search`\n",
    "```"
   ]
  },
  {
   "cell_type": "markdown",
   "id": "9f85eb8f",
   "metadata": {},
   "source": [
    "::::{caution}\n",
    "\n",
    "Since `modules` is the content of the directive `toctree`, it must have the same indentation as the arguments `:maxdepth:` and `:caption:` above and must be separated by a blank line.\n",
    "\n",
    "::::"
   ]
  },
  {
   "cell_type": "markdown",
   "id": "ef581744",
   "metadata": {},
   "source": [
    "Rebuild the documentation with  \n",
    "```sh\n",
    "sphinx-build -b html ~/docs/source ~/www/Lecture6\n",
    "```"
   ]
  },
  {
   "cell_type": "markdown",
   "id": "332a37c6",
   "metadata": {},
   "source": [
    "Preview the documentation again by refreshing or relaunching the `www` page."
   ]
  },
  {
   "cell_type": "markdown",
   "id": "65f4761f",
   "metadata": {},
   "source": [
    "::::{exercise}\n",
    ":label: ex:module\n",
    "\n",
    "Create a submodule `combinatorics.py` and a demo script `demo.py` for the functions in [](Combinatorics.ipynb) and create a Sphinx documentation for the package `Lab6`.\n",
    "\n",
    "::::"
   ]
  }
 ],
 "metadata": {
  "kernelspec": {
   "display_name": "Python 3 (ipykernel)",
   "language": "python",
   "name": "python3"
  }
 },
 "nbformat": 4,
 "nbformat_minor": 5
}
