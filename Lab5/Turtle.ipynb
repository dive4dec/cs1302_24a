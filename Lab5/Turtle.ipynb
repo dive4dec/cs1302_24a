{
 "cells": [
  {
   "cell_type": "markdown",
   "id": "fc629cb0",
   "metadata": {},
   "source": [
    "---\n",
    "title: Turtle Graphics\n",
    "---"
   ]
  },
  {
   "cell_type": "markdown",
   "id": "5805d819",
   "metadata": {},
   "source": [
    "::::{attention}\n",
    "This notebook is optional and NOT required for any course assessment activities. Lab tutor may go through them if time is available.\n",
    "::::"
   ]
  },
  {
   "cell_type": "code",
   "execution_count": null,
   "id": "cf1bcd5d",
   "metadata": {},
   "outputs": [],
   "source": [
    "from __init__ import install_dependencies\n",
    "\n",
    "await install_dependencies()"
   ]
  },
  {
   "cell_type": "markdown",
   "id": "24635f80",
   "metadata": {},
   "source": [
    "In this notebok, we will demonstrate the benefit of code reuse with [`turtle`](https://docs.python.org/3/library/p.t.html), which is a module for drawing graphics."
   ]
  },
  {
   "cell_type": "markdown",
   "id": "40e14e1a",
   "metadata": {},
   "source": [
    "## Start to move the turtle"
   ]
  },
  {
   "cell_type": "markdown",
   "id": "2e1e32f2",
   "metadata": {},
   "source": [
    "Because Jupyter notebook does not fully support `turtle` (the [`Tkinter` GUI toolkit](https://docs.python.org/3/library/tkinter.html)), we will use `Thonny` under the Linux `Desktop` instead."
   ]
  },
  {
   "cell_type": "markdown",
   "id": "e9740c7a",
   "metadata": {},
   "source": [
    "**How to start a python script in `Thonny`?**"
   ]
  },
  {
   "cell_type": "markdown",
   "id": "a9038df4",
   "metadata": {},
   "source": [
    "- Open a `Desktop` from the Launcher.\n",
    "- Open `Thonny` via `Application->Development->Thonny` from the menu at the top left corner.\n",
    "- Create a new Python script via `File->New`.\n",
    "- Save the file using `File->Save as...` to `myscript.py` under the Lab4 directory."
   ]
  },
  {
   "cell_type": "markdown",
   "id": "72dca4b0",
   "metadata": {},
   "source": [
    "::::{note}\n",
    "\n",
    "- You may also use Xpra on Windows/Mac/Linux, in which case you can run Thonny from the terminal with the command `thonny`. For mobile devices or devices with limited memory, `Desktop` is recommended.\n",
    "- A python script ends with the extension `.py`.\n",
    "- `myscript.py` should be placed in the same folder as your Lab3b for the later code to work.\n",
    "\n",
    "::::"
   ]
  },
  {
   "cell_type": "markdown",
   "id": "d207e852",
   "metadata": {},
   "source": [
    "**How to move the turtle?**"
   ]
  },
  {
   "cell_type": "markdown",
   "id": "4f3ccdee",
   "metadata": {},
   "source": [
    "Type the following in your python script to import a turle and instruct it to move forward `100` steps:\n",
    "\n",
    "```python\n",
    "import turtle as t\n",
    "\n",
    "t.forward(100)\n",
    "t.exitonclick()\n",
    "```"
   ]
  },
  {
   "cell_type": "markdown",
   "id": "a4463039",
   "metadata": {},
   "source": [
    "To get the turtle moving, press `F5` or click the green play button in the toolbar:\n",
    "\n",
    "![Forward](images/forward.dio.svg)"
   ]
  },
  {
   "cell_type": "markdown",
   "id": "2aa7117d",
   "metadata": {},
   "source": [
    "To exit, simply click on the display window."
   ]
  },
  {
   "cell_type": "markdown",
   "id": "3b5d7745",
   "metadata": {},
   "source": [
    "## Draw polygons"
   ]
  },
  {
   "cell_type": "markdown",
   "id": "80b7a455",
   "metadata": {},
   "source": [
    "**How to have the turtle draw a triangle?**"
   ]
  },
  {
   "cell_type": "markdown",
   "id": "38708a86",
   "metadata": {},
   "source": [
    "The following code draws a red equilateral triangle:"
   ]
  },
  {
   "cell_type": "markdown",
   "id": "236aaa57",
   "metadata": {},
   "source": [
    "```python\n",
    "t.fillcolor('red')\n",
    "t.begin_fill()\n",
    "                 \n",
    "t.forward(100)\n",
    "t.left(120)\n",
    "t.forward(100)\n",
    "t.left(120)\n",
    "t.forward(100)\n",
    "t.left(120)\n",
    "                 \n",
    "t.end_fill()\n",
    "t.exitonclick()\n",
    "```"
   ]
  },
  {
   "cell_type": "markdown",
   "id": "d57b6944",
   "metadata": {},
   "source": [
    "`t.left(120)` rotates the turtle to the left by `120` degrees."
   ]
  },
  {
   "cell_type": "markdown",
   "id": "5d415389",
   "metadata": {},
   "source": [
    "::::{exercise}\n",
    ":label: ex:loop\n",
    "\n",
    "The code above is quite *repetitive*. Shorten the code using a for loop and run it using your python script.\n",
    "\n",
    "::::"
   ]
  },
  {
   "cell_type": "markdown",
   "id": "bcbafa29",
   "metadata": {},
   "source": [
    "**How to draw a square, a regular pentagon, or even any regular polygon?**"
   ]
  },
  {
   "cell_type": "markdown",
   "id": "e6970dee",
   "metadata": {},
   "source": [
    "Instead of writing a new script for each polygon, we can write a function:\n",
    "\n",
    "```python\n",
    "def polygon(n, edge, color):\n",
    "    \"\"\"Draw a colored polygon.\n",
    "\n",
    "    A function using turtle to draw a polygon \n",
    "    with arbitrary color and number of edges.\n",
    "\n",
    "    Parameters\n",
    "    ----------\n",
    "    n: int\n",
    "        number of edges.\n",
    "    edge: int\n",
    "        length of each edge.\n",
    "    color: string\n",
    "        color of the polygon\n",
    "    \"\"\"\n",
    "    ...\n",
    "```"
   ]
  },
  {
   "cell_type": "markdown",
   "id": "c9a15038",
   "metadata": {},
   "source": [
    "::::{exercise}\n",
    ":label: ex:polygon\n",
    "\n",
    "Complete the function `polygon` and call it to draw a `'blue'` pentagon with length `50`.\n",
    "\n",
    ":::{hint}\n",
    ":class: dropdown\n",
    "\n",
    "For a $n$-sided polygon, the turtle should turn by an angle of $\\frac{360}{n}$ at each corner of the polygon. E.g., for the equilateral triangle with `n=3`, the turning angle should be $\\frac{360}3=120$.\n",
    "\n",
    ":::\n",
    "\n",
    "::::"
   ]
  },
  {
   "cell_type": "markdown",
   "id": "a67940dd",
   "metadata": {},
   "source": [
    "## Tesselation"
   ]
  },
  {
   "cell_type": "markdown",
   "id": "b2bda852",
   "metadata": {},
   "source": [
    "**Tessellation problem**"
   ]
  },
  {
   "cell_type": "markdown",
   "id": "c5894feb",
   "metadata": {},
   "source": [
    "[Tessellation](https://en.wikipedia.org/wiki/Tessellation) refers to the problem of using geometric shapes to tile a flat plane. E.g., [rhombitrihexagonal tiling](https://en.wikipedia.org/wiki/Rhombitrihexagonal_tiling) is a beautiful tessellation often used by temples and museums. Each hexagon is surrounded by 6 triangles and 6 squares."
   ]
  },
  {
   "cell_type": "markdown",
   "id": "3c7627fa",
   "metadata": {},
   "source": [
    "::::{figure}  https://upload.wikimedia.org/wikipedia/commons/a/a0/Tiling_small_rhombi_3-6_simple.svg\n",
    ":name: fig:rhombitrihexagonal-tiling\n",
    ":align: center\n",
    ":width: 100%\n",
    "\n",
    "Rhombitrihexagonal tiling\n",
    "\n",
    "::::"
   ]
  },
  {
   "cell_type": "markdown",
   "id": "7bb56c2a",
   "metadata": {},
   "source": [
    "The following code draws:\n",
    "\n",
    "![Rhombitrihexagon](images/rhombitrihexagon.dio.svg)\n",
    "\n",
    "```python\n",
    "from polygons import *\n",
    "\n",
    "t.speed('fast')\n",
    "edge = 50\n",
    "\n",
    "t.left(180)\n",
    "hexagon(edge, 'red')\n",
    "t.right(180)\n",
    "\n",
    "for _ in range(6):\n",
    "    t.left(30)\n",
    "    triangle(edge, 'yellow')\n",
    "    t.right(90)\n",
    "    square(edge, 'purple')\n",
    "    t.forward(edge)\n",
    "    \n",
    "t.hideturtle()\n",
    "t.exitonclick()\n",
    "```"
   ]
  },
  {
   "cell_type": "markdown",
   "id": "9f0f9f99",
   "metadata": {},
   "source": [
    "::::{tip}\n",
    "\n",
    "- The module `polygons` implements the functions `triangle`, `square`, `hexagon`, as well as the more general function `polygon`.\n",
    "- `t.speed('fast')` speeds up the turle. You can also use `'fastest'`.\n",
    "- `t.hideturtle()` hides the turtle.\n",
    "\n",
    "::::"
   ]
  },
  {
   "cell_type": "markdown",
   "id": "1c0de4e8",
   "metadata": {},
   "source": [
    "::::{exercise}\n",
    ":label: ex:draw\n",
    "Modify the above code to draw the following pattern:\n",
    "\n",
    "![Rhombitrihexagons](images/rhombitrihexagons.dio.svg)\n",
    "\n",
    "Challenge yourself making the code as efficient as possible, e.g., by avoiding double drawing.\n",
    "\n",
    "::::"
   ]
  }
 ],
 "metadata": {
  "kernelspec": {
   "display_name": "Python 3 (ipykernel)",
   "language": "python",
   "name": "python3"
  }
 },
 "nbformat": 4,
 "nbformat_minor": 5
}
