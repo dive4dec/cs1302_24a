{
 "cells": [
  {
   "cell_type": "markdown",
   "id": "b1c83d86",
   "metadata": {
    "slideshow": {
     "slide_type": "slide"
    }
   },
   "source": [
    "---\n",
    "title: Mastermind\n",
    "---"
   ]
  },
  {
   "cell_type": "code",
   "execution_count": null,
   "id": "43a24ccf",
   "metadata": {},
   "outputs": [],
   "source": [
    "from __init__ import install_dependencies\n",
    "\n",
    "await install_dependencies()"
   ]
  },
  {
   "cell_type": "code",
   "execution_count": null,
   "id": "4746a0c9",
   "metadata": {},
   "outputs": [],
   "source": [
    "import random\n",
    "from ipywidgets import interact\n",
    "%reload_ext divewidgets"
   ]
  },
  {
   "cell_type": "markdown",
   "id": "8d773aa8",
   "metadata": {
    "slideshow": {
     "slide_type": "subslide"
    }
   },
   "source": [
    "In this notebook, you will write a game called [*Mastermind*](https://en.wikipedia.org/wiki/Mastermind_(board_game)). Play the video below to learn about the rule of the game."
   ]
  },
  {
   "cell_type": "markdown",
   "id": "c9f12201",
   "metadata": {
    "code_folding": [
     0
    ],
    "slideshow": {
     "slide_type": "-"
    },
    "tags": [
     "hide-input"
    ]
   },
   "source": [
    "::::{card}\n",
    ":header: Mastermind\n",
    ":footer: [(open in new tab)](https://www.youtube.com/embed/wsYPsrzCKiA)\n",
    "\n",
    ":::{iframe} https://www.youtube.com/embed/wsYPsrzCKiA\n",
    ":align: center\n",
    ":width: 100%\n",
    "\n",
    ":::\n",
    "\n",
    "::::"
   ]
  },
  {
   "cell_type": "markdown",
   "id": "cc1b1409",
   "metadata": {},
   "source": [
    "1. **Mastermind** first creates a hidden `code` of length `code_length` consisting code pegs with possibly duplicate colors chosen from a sequence of `colors`.\n",
    "1. **Coderbreaker** provides a `guess` of the `code`.\n",
    "1. **Mastermind** generates a `feedback` consisting of key pegs of black and white colors:\n",
    "    - The number of black pegs (`black_key_pegs_count`) is the number of code pegs that are the correct colors in the correct positions. \n",
    "    - The number of white pegs (`white_key_pegs_count`) is the number of code pegs that are the correct colors but in incorrect positions.\n",
    "    - Each code peg should be counted only once, i.e., a code peg cannot be awarded more than one key peg. E.g.,\n",
    "        - If the `code` is `'RBGG'` and `guess` is `'BGGG'`, then \n",
    "        - the feedback should be `'bbw'` with \n",
    "            - `black_key_pegs_count == 2` because of `__GG` in the guess, and\n",
    "            - `white_key_pegs_count == 1` because of `_B__` in the guess. \n",
    "            - `_G__` in the `guess` should not be awarded an additional white peg because `__GG` in the `code` has been counted.\n",
    "1. **Codebreaker** wins if the code is correctly guessed within a certain number (`max_num_guesses`) of guesses."
   ]
  },
  {
   "cell_type": "markdown",
   "id": "0a7cb70e",
   "metadata": {
    "slideshow": {
     "slide_type": "slide"
    }
   },
   "source": [
    "## Random Code Generation"
   ]
  },
  {
   "cell_type": "markdown",
   "id": "912e832c",
   "metadata": {},
   "source": [
    "The first exercise is to generate a random hidden code so even one person can play the game as Codebreaker. Watch the following video to understand how computers generate random numbers."
   ]
  },
  {
   "cell_type": "markdown",
   "id": "41be6fd9",
   "metadata": {
    "code_folding": [],
    "tags": [
     "hide-input"
    ]
   },
   "source": [
    "::::{card}\n",
    ":header: Pseudo-random numbers\n",
    ":footer: [(open in new tab)](https://www.youtube.com/embed/GtOt7EBNEwQ)\n",
    "\n",
    ":::{iframe} https://www.youtube.com/embed/GtOt7EBNEwQ\n",
    ":align: center\n",
    ":width: 100%\n",
    "\n",
    ":::\n",
    "::::"
   ]
  },
  {
   "cell_type": "markdown",
   "id": "ac4eda41",
   "metadata": {},
   "source": [
    "To generate random content in Python, we can use the `random` module imported at the beginning of the notebook. The module provides some useful functions to generate random objects as follows."
   ]
  },
  {
   "cell_type": "code",
   "execution_count": null,
   "id": "bd947ad7",
   "metadata": {},
   "outputs": [],
   "source": [
    "for i in range(10):\n",
    "    print(random.random())  # random floating point numbers in [0,1)"
   ]
  },
  {
   "cell_type": "code",
   "execution_count": null,
   "id": "c57e6a4a",
   "metadata": {},
   "outputs": [],
   "source": [
    "for i in range(10):\n",
    "    print(random.randint(3, 10), end=\" \")  # random integer in range [3,10]"
   ]
  },
  {
   "cell_type": "code",
   "execution_count": null,
   "id": "086e51b3",
   "metadata": {},
   "outputs": [],
   "source": [
    "for i in range(10):\n",
    "    print(random.choice(\"RBG\"), end=\"\")  # random element in the sequence 'RBG'"
   ]
  },
  {
   "cell_type": "markdown",
   "id": "347f89e1",
   "metadata": {},
   "source": [
    "We can generate a reproducible *pseudo-random* sequence by specifying the *seed*."
   ]
  },
  {
   "cell_type": "code",
   "execution_count": null,
   "id": "00bb1f88",
   "metadata": {},
   "outputs": [],
   "source": [
    "# repeatedly run the cell to see new sequences.\n",
    "random.seed(123456)\n",
    "for i in range(10):\n",
    "    print(random.randint(3, 10), end=\" \")"
   ]
  },
  {
   "cell_type": "markdown",
   "id": "63810f0a",
   "metadata": {},
   "source": [
    "By default `random` uses the system time as the seed. We can call `seed` without any argument to revert to the default behavior."
   ]
  },
  {
   "cell_type": "code",
   "execution_count": null,
   "id": "cc3e202d",
   "metadata": {},
   "outputs": [],
   "source": [
    "# repeatedly run the cell to see new sequences.\n",
    "random.seed()\n",
    "for i in range(10):\n",
    "    print(random.randint(3, 10), end=\" \")"
   ]
  },
  {
   "cell_type": "markdown",
   "id": "98931d6e",
   "metadata": {},
   "source": [
    "::::{exercise} generate code\n",
    ":label: ex:get-code\n",
    "\n",
    "Define a function that generates a random `code`. The functions take in\n",
    "- a string `colors` whose characters represent distinct colors to choose from, and\n",
    "- a positive integer `code_length` representing the length of the code.\n",
    "\n",
    "For instance, `get_code('ROYGBP',4)` returns a code of `4` code pegs randomly with colors chosen from \n",
    "- `'R'`ed, \n",
    "- `'O'`range, \n",
    "- `'Y'`ellow, \n",
    "- `'G'`reen, \n",
    "- `'B'`lue, and \n",
    "- `'P'`urple. \n",
    "\n",
    "One possible outcome is `'ROYY'`.\n",
    "\n",
    "::::"
   ]
  },
  {
   "cell_type": "code",
   "execution_count": null,
   "id": "9e6c1504",
   "metadata": {
    "deletable": false,
    "nbgrader": {
     "cell_type": "code",
     "checksum": "07c67751f3259f4d46d648bd3fab761b",
     "grade": false,
     "grade_id": "get_code",
     "locked": false,
     "schema_version": 3,
     "solution": true,
     "task": false
    },
    "tags": [
     "remove-output"
    ]
   },
   "outputs": [],
   "source": [
    "def get_code(colors, code_length):\n",
    "    code = ''\n",
    "    # YOUR CODE HERE\n",
    "    raise NotImplementedError\n",
    "    return code"
   ]
  },
  {
   "cell_type": "code",
   "execution_count": null,
   "id": "7c1a9b0c",
   "metadata": {
    "code_folding": [],
    "deletable": false,
    "editable": false,
    "nbgrader": {
     "cell_type": "code",
     "checksum": "f75b3d64f23f6000e9c6f056e3fd660b",
     "grade": true,
     "grade_id": "test-get_code",
     "locked": true,
     "points": 1,
     "schema_version": 3,
     "solution": false,
     "task": false
    },
    "slideshow": {
     "slide_type": "-"
    },
    "tags": [
     "remove-output",
     "remove-cell"
    ]
   },
   "outputs": [],
   "source": [
    "# tests\n",
    "def test_get_code(colors, code_length):\n",
    "    code = get_code(colors, code_length)\n",
    "    if len(code) != code_length:\n",
    "        return False\n",
    "    for c in code:\n",
    "        if c not in colors:\n",
    "            return False\n",
    "    return True\n",
    "\n",
    "for l in range(10):\n",
    "    assert test_get_code(\"ROY\", l)"
   ]
  },
  {
   "cell_type": "code",
   "execution_count": null,
   "id": "9149d697",
   "metadata": {
    "code_folding": [],
    "deletable": false,
    "editable": false,
    "nbgrader": {
     "cell_type": "code",
     "checksum": "2b44893d6f22ba2503572cc45921c4b0",
     "grade": true,
     "grade_id": "htest-get_code",
     "locked": true,
     "points": 1,
     "schema_version": 3,
     "solution": false,
     "task": false
    },
    "slideshow": {
     "slide_type": "-"
    },
    "tags": [
     "remove-output",
     "remove-cell"
    ]
   },
   "outputs": [],
   "source": [
    "# hidden tests"
   ]
  },
  {
   "cell_type": "markdown",
   "id": "510a4011",
   "metadata": {
    "slideshow": {
     "slide_type": "subslide"
    }
   },
   "source": [
    "## Guess Validation"
   ]
  },
  {
   "cell_type": "markdown",
   "id": "dbdbf982",
   "metadata": {
    "slideshow": {
     "slide_type": "fragment"
    }
   },
   "source": [
    "::::{exercise} validate code\n",
    ":label: ex:valid-code\n",
    "\n",
    "Define a function `valid_code` that \n",
    "- takes `colors`, `code_length`, and `guess` as the first, second, and third arguments respectively, and\n",
    "- returns `True` if `guess` is a valid code, i.e., a string of length `code_length` with characters from those of `colors`, and\n",
    "- `False` otherwise.\n",
    "\n",
    ":::{hint}\n",
    ":class: dropdown\n",
    "\n",
    "Solution template:\n",
    "\n",
    "```python\n",
    "def ...(colors, code_length, guess):\n",
    "    if len(guess) ... code_length:\n",
    "        is_valid = ...\n",
    "    else:\n",
    "        for peg in guess:\n",
    "            for color in colors:\n",
    "                if peg == color: ...\n",
    "            else:\n",
    "                is_valid = ...\n",
    "                ...\n",
    "        else:\n",
    "            is_valid = ...\n",
    "    return is_valid\n",
    "```\n",
    "\n",
    ":::\n",
    "\n",
    "::::"
   ]
  },
  {
   "cell_type": "code",
   "execution_count": null,
   "id": "127a5e14",
   "metadata": {
    "deletable": false,
    "nbgrader": {
     "cell_type": "code",
     "checksum": "250a4bfc69f42c11b38a7ed47426025e",
     "grade": false,
     "grade_id": "valid_code",
     "locked": false,
     "schema_version": 3,
     "solution": true,
     "task": false
    },
    "slideshow": {
     "slide_type": "skip"
    },
    "tags": [
     "remove-output"
    ]
   },
   "outputs": [],
   "source": [
    "# YOUR CODE HERE\n",
    "raise NotImplementedError"
   ]
  },
  {
   "cell_type": "code",
   "execution_count": null,
   "id": "6b22ad9d",
   "metadata": {
    "code_folding": [
     0
    ],
    "deletable": false,
    "editable": false,
    "nbgrader": {
     "cell_type": "code",
     "checksum": "cbf569c8afbea2a08eb2305aafcc735c",
     "grade": true,
     "grade_id": "test-valid_code",
     "locked": true,
     "points": 1,
     "schema_version": 3,
     "solution": false,
     "task": false
    },
    "slideshow": {
     "slide_type": "skip"
    },
    "tags": [
     "remove-output",
     "hide-input"
    ]
   },
   "outputs": [],
   "source": [
    "# tests\n",
    "assert valid_code(\"RBG\", 1, \"R\") == True\n",
    "assert valid_code(\"RBG\", 2, \"B\") == False\n",
    "assert valid_code(\"RBG\", 2, \"RP\") == False\n",
    "assert valid_code(\"RBG\", 0, \"\") == True"
   ]
  },
  {
   "cell_type": "code",
   "execution_count": null,
   "id": "481475e0",
   "metadata": {
    "deletable": false,
    "editable": false,
    "nbgrader": {
     "cell_type": "code",
     "checksum": "6e1eac45d1d088c1f467f0d5ba8acd70",
     "grade": true,
     "grade_id": "hidden_test-valid_code",
     "locked": true,
     "points": 1,
     "schema_version": 3,
     "solution": false,
     "task": false
    },
    "tags": [
     "remove-cell"
    ]
   },
   "outputs": [],
   "source": [
    "# hidden tests"
   ]
  },
  {
   "cell_type": "markdown",
   "id": "22dac022",
   "metadata": {
    "slideshow": {
     "slide_type": "subslide"
    }
   },
   "source": [
    "## Feedback Generation"
   ]
  },
  {
   "cell_type": "markdown",
   "id": "7f6c5616",
   "metadata": {},
   "source": [
    "According to the rules of Mastermind, double-counting of a single peg (as black and white) is not allowed. To facilitate this check, we have written a new module `markposition` that allows you to mark any non-negative integer position as counted.\n",
    "\n",
    "\n",
    "::::{exercise} import library\n",
    ":label: ex:import\n",
    "\n",
    "Write an `import` statement to import from the module `markposition` the functions \n",
    "- `mark_as_counted`\n",
    "- `check_if_counted`, and \n",
    "- `reset_all_to_not_counted`.\n",
    "\n",
    "::::"
   ]
  },
  {
   "cell_type": "code",
   "execution_count": null,
   "id": "026eecc6",
   "metadata": {
    "deletable": false,
    "nbgrader": {
     "cell_type": "code",
     "checksum": "ec75042f5f418ae1dba867ba86325731",
     "grade": false,
     "grade_id": "markposition",
     "locked": false,
     "schema_version": 3,
     "solution": true,
     "task": false
    },
    "tags": [
     "remove-output"
    ]
   },
   "outputs": [],
   "source": [
    "# YOUR CODE HERE\n",
    "raise NotImplementedError"
   ]
  },
  {
   "cell_type": "code",
   "execution_count": null,
   "id": "bf5edaff",
   "metadata": {
    "code_folding": [
     0
    ],
    "deletable": false,
    "editable": false,
    "nbgrader": {
     "cell_type": "code",
     "checksum": "b1d9b6dbbc29fa2c568f18df0098c6f4",
     "grade": true,
     "grade_id": "test-markposition",
     "locked": true,
     "points": 1,
     "schema_version": 3,
     "solution": false,
     "task": false
    },
    "tags": [
     "remove-output",
     "hide-input"
    ]
   },
   "outputs": [],
   "source": [
    "# tests\n",
    "reset_all_to_not_counted()\n",
    "mark_as_counted(3)\n",
    "assert check_if_counted(3) and not check_if_counted(0)"
   ]
  },
  {
   "cell_type": "code",
   "execution_count": null,
   "id": "31411495",
   "metadata": {
    "deletable": false,
    "editable": false,
    "nbgrader": {
     "cell_type": "code",
     "checksum": "f70bbfcfc76bbfbcce386ca54cb96d78",
     "grade": true,
     "grade_id": "hidden_test-markposition",
     "locked": true,
     "points": 1,
     "schema_version": 3,
     "solution": false,
     "task": false
    },
    "tags": [
     "remove-cell"
    ]
   },
   "outputs": [],
   "source": [
    "# hidden tests"
   ]
  },
  {
   "cell_type": "markdown",
   "id": "004e051f",
   "metadata": {},
   "source": [
    "::::{exercise} mark positions\n",
    ":label: ex:markposition\n",
    "\n",
    "Using the functions imported from `markposition`, complete the following function to \n",
    "- mark only the positions `0`, `2`, `4`, `6`, `8`, and `10` as counted, and\n",
    "- mark all other positions as not counted.\n",
    "\n",
    "Use `help` to learn how to use the imported functions.\n",
    "\n",
    "::::"
   ]
  },
  {
   "cell_type": "code",
   "execution_count": null,
   "id": "495abc18",
   "metadata": {
    "deletable": false,
    "nbgrader": {
     "cell_type": "code",
     "checksum": "15f021dbdc8c280bc3607c9f8b302a92",
     "grade": false,
     "grade_id": "reset_all_to_not_counted",
     "locked": false,
     "schema_version": 3,
     "solution": true,
     "task": false
    },
    "tags": [
     "remove-output"
    ]
   },
   "outputs": [],
   "source": [
    "def markmypositions():\n",
    "   # YOUR CODE HERE\n",
    "   raise NotImplementedError"
   ]
  },
  {
   "cell_type": "code",
   "execution_count": null,
   "id": "571551ef",
   "metadata": {
    "code_folding": [
     0
    ],
    "deletable": false,
    "editable": false,
    "nbgrader": {
     "cell_type": "code",
     "checksum": "c87939b2140ff4fa4ce5a1f541bafd93",
     "grade": true,
     "grade_id": "test-reset_all_to_not_counted",
     "locked": true,
     "points": 1,
     "schema_version": 3,
     "solution": false,
     "task": false
    },
    "tags": [
     "remove-output",
     "hide-input"
    ]
   },
   "outputs": [],
   "source": [
    "# tests\n",
    "markmypositions()\n",
    "for i in range(11):\n",
    "    assert not check_if_counted(i) if i % 2 else check_if_counted(i)"
   ]
  },
  {
   "cell_type": "code",
   "execution_count": null,
   "id": "0f377324",
   "metadata": {
    "deletable": false,
    "editable": false,
    "nbgrader": {
     "cell_type": "code",
     "checksum": "6b625a6de1bb5e7cfbded55fac4ad567",
     "grade": true,
     "grade_id": "hidden_test-reset_all_to_not_counted",
     "locked": true,
     "points": 1,
     "schema_version": 3,
     "solution": false,
     "task": false
    },
    "tags": [
     "remove-cell"
    ]
   },
   "outputs": [],
   "source": [
    "# hidden tests\n",
    "markmypositions()"
   ]
  },
  {
   "cell_type": "markdown",
   "id": "9d6bc526",
   "metadata": {
    "slideshow": {
     "slide_type": "fragment"
    }
   },
   "source": [
    "::::{exercise} generate feedback\n",
    ":label: ex:get-feedback\n",
    "\n",
    "Define a function `get_feedback` that \n",
    "- takes `code` and `guess` as the first and second arguments respectively, and\n",
    "- returns a feedback string that starts with the appropriate number of characters `'b'` (for black key pegs) followed by the appropriate number of characters `'w'` (for white key pegs).\n",
    "\n",
    ":::{hint}\n",
    ":class: dropdown\n",
    "\n",
    "Solution template:\n",
    "\n",
    "```python\n",
    "def get_feedback(code, guess):\n",
    "    black_key_pegs_count = white_key_pegs_count = counted = 0\n",
    "    reset_all_to_not_counted()\n",
    "    for i in ...:\n",
    "        if ...:\n",
    "            black_key_pegs_count += 1\n",
    "            mark_as_counted(i)\n",
    "    for i in range(len(guess)):\n",
    "        for j in range(len(code)):\n",
    "            if  ...:\n",
    "                white_key_pegs_count += 1\n",
    "                mark_as_counted(j)\n",
    "                break\n",
    "    key = 'b' * black_key_pegs_count + 'w' * white_key_pegs_count\n",
    "    return key\n",
    "```\n",
    "\n",
    ":::\n",
    "\n",
    "::::"
   ]
  },
  {
   "cell_type": "code",
   "execution_count": null,
   "id": "fa46c124",
   "metadata": {
    "deletable": false,
    "nbgrader": {
     "cell_type": "code",
     "checksum": "198fe123b86ca9b528006d2ec445351e",
     "grade": false,
     "grade_id": "get_feedback",
     "locked": false,
     "schema_version": 3,
     "solution": true,
     "task": false
    },
    "slideshow": {
     "slide_type": "skip"
    },
    "tags": [
     "remove-output"
    ]
   },
   "outputs": [],
   "source": [
    "# YOUR CODE HERE\n",
    "raise NotImplementedError"
   ]
  },
  {
   "cell_type": "code",
   "execution_count": null,
   "id": "ce7c9b1f",
   "metadata": {
    "code_folding": [
     0
    ],
    "deletable": false,
    "editable": false,
    "nbgrader": {
     "cell_type": "code",
     "checksum": "7dcb41e05fc7ec16cf494e6612f280c1",
     "grade": true,
     "grade_id": "test-get_feedback",
     "locked": true,
     "points": 1,
     "schema_version": 3,
     "solution": false,
     "task": false
    },
    "slideshow": {
     "slide_type": "skip"
    },
    "tags": [
     "remove-output",
     "hide-input"
    ]
   },
   "outputs": [],
   "source": [
    "# tests\n",
    "def test_get_feedback(feedback, code, guess):\n",
    "    feedback_ = get_feedback(code, guess)\n",
    "    correct = feedback == feedback_\n",
    "    if not correct:\n",
    "        print(\n",
    "            f'With code=\"{code}\" and guess=\"{guess}\", feedback should be \"{feedback}\", not \"{feedback_}\".'\n",
    "        )\n",
    "    assert correct\n",
    "\n",
    "\n",
    "test_get_feedback(10 * \"b\" + \"w\" * 0, \"RGBRGBRGBY\", \"RGBRGBRGBY\")\n",
    "test_get_feedback(0 * \"b\" + \"w\" * 10, \"RGBRGBRGBY\", \"YRGBRGBRGB\")\n",
    "test_get_feedback(8 * \"b\" + \"w\" * 0, \"RGRGRGRG\", \"RGRGRGRG\")\n",
    "test_get_feedback(0 * \"b\" + \"w\" * 8, \"RGRGRGRG\", \"GRGRGRGR\")\n",
    "test_get_feedback(0 * \"b\" + \"w\" * 6, \"RRRRGGG\", \"GGGGRRR\")\n",
    "test_get_feedback(1 * \"b\" + \"w\" * 6, \"RRRRGGG\", \"GGGRRRR\")\n",
    "test_get_feedback(5 * \"b\" + \"w\" * 2, \"RRRRGGG\", \"RRRGGGR\")\n",
    "test_get_feedback(1 * \"b\" + \"w\" * 0, \"RRRRGGG\", \"RYYPPBB\")\n",
    "test_get_feedback(0 * \"b\" + \"w\" * 1, \"RRRRG\", \"GBBBB\")\n",
    "test_get_feedback(0 * \"b\" + \"w\" * 0, \"RRRRG\", \"YBBBB\")"
   ]
  },
  {
   "cell_type": "code",
   "execution_count": null,
   "id": "6ec02fed",
   "metadata": {
    "deletable": false,
    "editable": false,
    "nbgrader": {
     "cell_type": "code",
     "checksum": "453ed0a08437282653ce78edb0db8fa8",
     "grade": true,
     "grade_id": "hidden_test-get_feedback",
     "locked": true,
     "points": 1,
     "schema_version": 3,
     "solution": false,
     "task": false
    },
    "tags": [
     "remove-cell"
    ]
   },
   "outputs": [],
   "source": [
    "# hidden tests"
   ]
  },
  {
   "cell_type": "markdown",
   "id": "441acc2a",
   "metadata": {
    "slideshow": {
     "slide_type": "slide"
    }
   },
   "source": [
    "## Play the Game"
   ]
  },
  {
   "cell_type": "markdown",
   "id": "82ff4cb7",
   "metadata": {
    "slideshow": {
     "slide_type": "fragment"
    }
   },
   "source": [
    "After finishing the previous exercises, you can play the game as a code breaker against a random mastermind."
   ]
  },
  {
   "cell_type": "code",
   "execution_count": null,
   "id": "dea7abc8",
   "metadata": {},
   "outputs": [],
   "source": [
    "# mastermind\n",
    "import ipywidgets as widgets\n",
    "from IPython.display import HTML, display\n",
    "\n",
    "\n",
    "def main():\n",
    "    \"\"\"The main function that runs the mastermind game.\"\"\"\n",
    "    max_num_guesses = code_length = code = num_guesses_left = None\n",
    "    is_game_ended = True\n",
    "    colors = \"ROYGBP\"\n",
    "    color_code = {\n",
    "        \"R\": \"#F88,#F00,#800\",\n",
    "        \"O\": \"#FD8,#F80,#840\",\n",
    "        \"Y\": \"#FF8,#FF0,#AA0\",\n",
    "        \"G\": \"#8F8,#0F0,#080\",\n",
    "        \"B\": \"#88F,#00F,#008\",\n",
    "        \"P\": \"#F8F,#F0F,#808\",\n",
    "        \"b\": \"#888,#000,#000\",\n",
    "        \"w\": \"#FFF,#EEE,#888\",\n",
    "    }\n",
    "\n",
    "    # returns the HTML code for a colored peg.\n",
    "    def getPeg(color, size=30):\n",
    "        return \"\"\"<div style='display:inline-block;\n",
    "                              background-image: radial-gradient(circle, {0}); \n",
    "                              width:{1}px; height:{1}px; border-radius:50%;'>\n",
    "                  </div>\"\"\".format(\n",
    "            color_code[color], size\n",
    "        )\n",
    "\n",
    "    colors_display = widgets.HBox(\n",
    "        [widgets.Label(value=\"Color codes:\")]\n",
    "        + [\n",
    "            widgets.HBox([widgets.Label(value=color), widgets.HTML(getPeg(color))])\n",
    "            for color in colors\n",
    "        ]\n",
    "    )\n",
    "\n",
    "    max_num_guesses_input = widgets.IntSlider(\n",
    "        min=5, max=15, value=10, description=\"# guesses:\"\n",
    "    )\n",
    "    code_length_input = widgets.IntSlider(\n",
    "        min=2, max=10, value=4, description=\"Code length:\"\n",
    "    )\n",
    "    code_input = widgets.Password(description=\"Code:\")\n",
    "    start_new_game_button = widgets.Button(description=\"Start a new game\")\n",
    "\n",
    "    guess_input = widgets.Text(description=\"Guess:\")\n",
    "    submit_guess_button = widgets.Button(description=\"Submit guess\")\n",
    "    board = widgets.Output()\n",
    "    message = widgets.Output()\n",
    "\n",
    "    display(\n",
    "        widgets.VBox(\n",
    "            [\n",
    "                max_num_guesses_input,\n",
    "                code_length_input,\n",
    "                colors_display,\n",
    "                widgets.HBox([code_input, start_new_game_button]),\n",
    "                widgets.HBox([guess_input, submit_guess_button]),\n",
    "                board,\n",
    "                message,\n",
    "            ]\n",
    "        )\n",
    "    )\n",
    "\n",
    "    # A listener that starts a new game\n",
    "    def start_new_game(button):\n",
    "        nonlocal code, num_guesses_left, is_game_ended, max_num_guesses, code_length\n",
    "        max_num_guesses = max_num_guesses_input.value\n",
    "        code_length = code_length_input.value\n",
    "        board.clear_output()\n",
    "        message.clear_output()\n",
    "        code = code_input.value or get_code(colors, code_length)\n",
    "        with message:\n",
    "            if not valid_code(colors, code_length, code):\n",
    "                display(\n",
    "                    HTML(\n",
    "                        \"\"\"<p>The code {} is invalid.<br>\n",
    "                        Leave the code box empty to randomly generated a code.\n",
    "                        </p>\"\"\".format(\n",
    "                            code\n",
    "                        )\n",
    "                    )\n",
    "                )\n",
    "                is_game_ended = True\n",
    "            else:\n",
    "                num_guesses_left = max_num_guesses\n",
    "                is_game_ended = num_guesses_left <= 0\n",
    "                display(\n",
    "                    HTML(\n",
    "                        \"<p>Game started! {} Guesses left.</p>\".format(num_guesses_left)\n",
    "                    )\n",
    "                )\n",
    "\n",
    "    # A listener that submits a guess\n",
    "    def submit_guess(button):\n",
    "        nonlocal num_guesses_left, is_game_ended\n",
    "        guess = guess_input.value\n",
    "        with message:\n",
    "            message.clear_output()\n",
    "            if is_game_ended:\n",
    "                display(\n",
    "                    HTML(\n",
    "                        \"\"\"<p>Game has not started.<br> \n",
    "                        Please start a new game.</p>\"\"\"\n",
    "                    )\n",
    "                )\n",
    "                return\n",
    "            if not valid_code(colors, code_length, guess):\n",
    "                display(HTML(\"<p>Invalid guess.</p>\"))\n",
    "                return\n",
    "        feedback = get_feedback(code, guess)\n",
    "        num_guesses_left -= 1\n",
    "        with board:\n",
    "            content = \"\"\n",
    "            for k in guess:\n",
    "                content += getPeg(k)\n",
    "            content += \"\"\"<div style='display:inline-block; \n",
    "                             margin: 0px 5px 0px 30px; \n",
    "                             position:relative; top:5px;'>Feeback:</div>\n",
    "                          <div style='display:inline-block; \n",
    "                             border: 1px solid; width:120px; height:30px;'>\"\"\"\n",
    "            for k in feedback:\n",
    "                content += getPeg(k, 28)\n",
    "            content += \"</div>\"\n",
    "            display(HTML(content))\n",
    "\n",
    "        with message:\n",
    "            message.clear_output()\n",
    "            if feedback == \"b\" * code_length:\n",
    "                is_game_ended = True\n",
    "                display(\n",
    "                    HTML(\n",
    "                        \"<p>You won with {} guesses left!</p>\".format(num_guesses_left)\n",
    "                    )\n",
    "                )\n",
    "                return\n",
    "            is_game_ended = num_guesses_left <= 0\n",
    "            if is_game_ended:\n",
    "                display(HTML(\"<p>Game over...</p>\"))\n",
    "                return\n",
    "            display(HTML(\"<p>{} Guesses left.</p>\".format(num_guesses_left)))\n",
    "\n",
    "    start_new_game_button.on_click(start_new_game)\n",
    "    submit_guess_button.on_click(submit_guess)\n",
    "\n",
    "\n",
    "main()"
   ]
  }
 ],
 "metadata": {
  "kernelspec": {
   "display_name": "Python 3 (ipykernel)",
   "language": "python",
   "name": "python3"
  },
  "language_info": {
   "codemirror_mode": {
    "name": "ipython",
    "version": 3
   },
   "file_extension": ".py",
   "mimetype": "text/x-python",
   "name": "python",
   "nbconvert_exporter": "python",
   "pygments_lexer": "ipython3",
   "version": "3.11.10"
  },
  "scenes_data": {
   "active_scene": "Default Scene",
   "init_scene": "",
   "scenes": [
    "Default Scene"
   ]
  },
  "widgets": {
   "application/vnd.jupyter.widget-state+json": {
    "state": {},
    "version_major": 2,
    "version_minor": 0
   }
  }
 },
 "nbformat": 4,
 "nbformat_minor": 5
}
