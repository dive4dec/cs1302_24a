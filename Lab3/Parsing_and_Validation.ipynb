{
 "cells": [
  {
   "cell_type": "markdown",
   "id": "b186ffa8",
   "metadata": {
    "slideshow": {
     "slide_type": "slide"
    }
   },
   "source": [
    "---\n",
    "title: Parsing and Validation\n",
    "---"
   ]
  },
  {
   "cell_type": "markdown",
   "id": "2d1cf66f",
   "metadata": {},
   "source": [
    "::::{attention}\n",
    "\n",
    "This notebook is optional and NOT required for any course assessment activities. Lab tutor may go through them if time is available.\n",
    "\n",
    "::::"
   ]
  },
  {
   "cell_type": "code",
   "execution_count": null,
   "id": "99040ab9",
   "metadata": {},
   "outputs": [],
   "source": [
    "import ast\n",
    "from typing import Annotated\n",
    "from ipywidgets import Text, interact\n",
    "from pydantic import Field, ValidationError, validate_call\n",
    "\n",
    "%load_ext divewidgets"
   ]
  },
  {
   "cell_type": "markdown",
   "id": "0c9cc995",
   "metadata": {},
   "source": [
    "## Parsing User Input"
   ]
  },
  {
   "cell_type": "markdown",
   "id": "8c225b9c",
   "metadata": {},
   "source": [
    "A parser is a crucial component that analyzes the structure of data, often in the form of text, and converts it into a more meaningful format. For instance, when executing a Python program, the Python interpreter first parses the program's source code into an Abstract Syntax Tree (AST)."
   ]
  },
  {
   "cell_type": "code",
   "execution_count": null,
   "id": "b7a7f7d3",
   "metadata": {},
   "outputs": [],
   "source": [
    "print(ast.dump(ast.parse('q = a/b if b else \"undefined\"', \"_\", \"exec\"), indent=4))"
   ]
  },
  {
   "cell_type": "markdown",
   "id": "fbe8869e",
   "metadata": {},
   "source": [
    "This involves breaking down the source code into individual components and interpreting their roles. E.g.,\n",
    "\n",
    "- `q` is understood as a [variable name][name] for storing a value, while `a` and `b` are also variable names but for loading values; and\n",
    "- `\"undefined\"` is regarded as a [contant string literal][string].\n",
    "\n",
    "The processs is called tokenization, which is performed by the so-called lexer. The parser composes a hierarchical structure that accurately represents the operations and their execution flow. E.g., the python code\n",
    "\n",
    "```python\n",
    "... = .../... if ... else ...\n",
    "```\n",
    "is translated to the tree structure:\n",
    "\n",
    "```\n",
    "...\n",
    "        Assign(\n",
    "            targets=...\n",
    "            value=IfExp(\n",
    "                test=...\n",
    "                body=BinOp(\n",
    "                    left=...\n",
    "                    op=Div(),\n",
    "                    right=...\n",
    "                orelse=...\n",
    "...\n",
    "```\n",
    "\n",
    "In other words, the division operation `Div` needs to be completed first so that the conditional expression `IfExp` can be completed, which then allows the assignment operation `Assign` to complete. As the language grows, the logic involved in parsing the program becomes more sophisticated. For more details, see the [ANTLR video](https://www.youtube.com/watch?v=OAoA3E-cyug).\n",
    "\n",
    "[name]: https://docs.python.org/3/library/ast.html#variables\n",
    "[string]: https://docs.python.org/3/library/ast.html#literals"
   ]
  },
  {
   "cell_type": "markdown",
   "id": "5bb3729a",
   "metadata": {},
   "source": [
    "### Parsing Boolean Values"
   ]
  },
  {
   "cell_type": "markdown",
   "id": "d65da0e5",
   "metadata": {},
   "source": [
    "The following is a very (very) simple parser that can understood yes/no strings in user input and convert them to boolean values."
   ]
  },
  {
   "cell_type": "code",
   "execution_count": null,
   "id": "946c689f",
   "metadata": {},
   "outputs": [],
   "source": [
    "@interact(x=Text('yes'))\n",
    "def parse(x):\n",
    "    s = x.lower()\n",
    "    match s:\n",
    "        case \"yes\" | \"y\":\n",
    "            return True\n",
    "        case \"no\" | \"n\":\n",
    "            return False\n",
    "        case _:\n",
    "            return string"
   ]
  },
  {
   "cell_type": "markdown",
   "id": "d231aaad",
   "metadata": {},
   "source": [
    "The matching is case in-sensitive:"
   ]
  },
  {
   "cell_type": "code",
   "execution_count": null,
   "id": "4acedcc8",
   "metadata": {},
   "outputs": [],
   "source": [
    "parse(\"yes\"), parse(\"n\"), parse(\"Y\"), parse(\"No\")"
   ]
  },
  {
   "cell_type": "markdown",
   "id": "4351fde1",
   "metadata": {},
   "source": [
    "Instead of using the `if` statement, it is more convenient to use the [`match` statement](https://docs.python.org/3/whatsnew/3.10.html#pep-634-structural-pattern-matching) introduced in Python 3.10. The following flowchart shows roughly how the statement is executed:"
   ]
  },
  {
   "cell_type": "code",
   "execution_count": null,
   "id": "21eaaac7",
   "metadata": {},
   "outputs": [],
   "source": [
    "%%flowchart\n",
    "st=>start: Start\n",
    "suite0=>operation: s = x.lower()\n",
    "cond1=>condition: s == \"yes\" or s == \"y\"\n",
    "cond2=>condition: s == \"no\" or s == \"n\"\n",
    "suite1=>inputoutput: return True\n",
    "suite2=>inputoutput: return False\n",
    "suite3=>inputoutput: return x\n",
    "e=>end\n",
    "\n",
    "st(right)->suite0(right)->cond1\n",
    "cond1(yes)->suite1->e\n",
    "cond1(no)->cond2\n",
    "cond2(yes)->suite2->e\n",
    "cond2(no)->suite3->e"
   ]
  },
  {
   "cell_type": "markdown",
   "id": "67aa8120",
   "metadata": {},
   "source": [
    "- Initially, `s = string.lower()` obtains the string in lowercase.\n",
    "- In the first case of the match statement, `\"yes\"` or `\"y\"` is converted to the boolean value `True`.\n",
    "- In the second case of the match statement, `\"no\"` or `\"n\"` is converted to the boolean value `False`."
   ]
  },
  {
   "cell_type": "markdown",
   "id": "fc9f8546",
   "metadata": {},
   "source": [
    "::::{exercise}\n",
    ":label: ex:parse-boolean\n",
    "\n",
    "Modify the program so that, additionally,\n",
    "\n",
    "- `\"true\"` or `\"t\"` is parsed as `True`, and\n",
    "- `\"false\"` or `\"f\"` is parse as `False`.\n",
    "\n",
    "The comparison should be case insensitive.\n",
    "\n",
    "::::"
   ]
  },
  {
   "cell_type": "code",
   "execution_count": null,
   "id": "e5ab52af",
   "metadata": {
    "deletable": false,
    "nbgrader": {
     "cell_type": "code",
     "checksum": "8fc496cf3830db7391420bf88fa874c8",
     "grade": false,
     "grade_id": "parse-boolean",
     "locked": false,
     "schema_version": 3,
     "solution": true,
     "task": false
    }
   },
   "outputs": [],
   "source": [
    "@interact(x=Text('T'))\n",
    "def parse(x):\n",
    "    # YOUR CODE HERE\n",
    "    raise NotImplementedError"
   ]
  },
  {
   "cell_type": "code",
   "execution_count": null,
   "id": "4321aef2",
   "metadata": {
    "deletable": false,
    "editable": false,
    "nbgrader": {
     "cell_type": "code",
     "checksum": "231cc12735dd236fa83d0f5555322396",
     "grade": true,
     "grade_id": "test_parse-boolean",
     "locked": true,
     "points": 0,
     "schema_version": 3,
     "solution": false,
     "task": false
    }
   },
   "outputs": [],
   "source": [
    "# tests\n",
    "assert parse(\"TRUE\") is True\n",
    "assert parse(\"Y\") is True\n",
    "assert parse(\"t\") is True\n",
    "assert parse(\"False\") is False\n",
    "assert parse(\"F\") is False\n",
    "assert parse(\"n\") is False\n",
    "assert parse(\"TrUE\") is True\n",
    "assert parse(\"No\") is False"
   ]
  },
  {
   "cell_type": "markdown",
   "id": "acd7bfb8",
   "metadata": {},
   "source": [
    "### Parsing Numbers"
   ]
  },
  {
   "cell_type": "markdown",
   "id": "ea548158",
   "metadata": {},
   "source": [
    "It is desirable to parse numbers as well. There is indeed a way to check whether a string consists only of digits:"
   ]
  },
  {
   "cell_type": "code",
   "execution_count": null,
   "id": "0cdbae32",
   "metadata": {},
   "outputs": [],
   "source": [
    "str.isdigit(\"1302\"), \"CS1302\".isdigit()"
   ]
  },
  {
   "cell_type": "markdown",
   "id": "73d91d35",
   "metadata": {},
   "source": [
    "Unfortunately, the function failed to detect negative integers:"
   ]
  },
  {
   "cell_type": "code",
   "execution_count": null,
   "id": "47d75c3c",
   "metadata": {},
   "outputs": [],
   "source": [
    "\"-12\".isdigit()"
   ]
  },
  {
   "cell_type": "markdown",
   "id": "8d429b08",
   "metadata": {},
   "source": [
    "The following function resolves the issue using the [`try` statement](https://docs.python.org/3/reference/compound_stmts.html#try). It even works `x` is of type `int`."
   ]
  },
  {
   "cell_type": "code",
   "execution_count": null,
   "id": "1cab4090",
   "metadata": {},
   "outputs": [],
   "source": [
    "def isint(x):\n",
    "    \"\"\"\n",
    "    Returns True if x can be converted to an integer, and False otherwise.\n",
    "    \"\"\"\n",
    "    try:\n",
    "        int(x)\n",
    "    except ValueError:\n",
    "        return False\n",
    "    return True\n",
    "\n",
    "\n",
    "isint(\"CS1302\"), isint(\"1302\"), isint(\"-1302\"), isint(-1302)"
   ]
  },
  {
   "cell_type": "markdown",
   "id": "79423999",
   "metadata": {},
   "source": [
    "How does it work? `isint(x)` would describe its implementation as follows:\n",
    "> I `try` to convert `x` to `int` and `return True` `except` when `ValueError` is raised, in which case I `return False`[^gramar]\n",
    "\n",
    "This is illustrated by the following flowchart.\n",
    "\n",
    "[^gramar]: Why use first person narration? Just to avoid error like `tries` (a syntax error in Python), or `try`s (a gramatical mistake)."
   ]
  },
  {
   "cell_type": "code",
   "execution_count": null,
   "id": "cd7bc5b4",
   "metadata": {},
   "outputs": [],
   "source": [
    "%%flowchart\n",
    "st=>start: Start\n",
    "cond1=>condition: ValueError\n",
    "suite1=>operation: int(x)\n",
    "suite2=>inputoutput: return True\n",
    "suite3=>inputoutput: return False\n",
    "e=>end\n",
    "\n",
    "st(right)->suite1(right)->cond1\n",
    "cond1(yes)->suite3->e\n",
    "cond1(no)->suite2->e"
   ]
  },
  {
   "cell_type": "markdown",
   "id": "f1791eda",
   "metadata": {},
   "source": [
    "::::{exercise}\n",
    ":label: ex:parse\n",
    "\n",
    "Improve the `parse` function so that it parses the input argument `x` by `try`ing to convert the `x` as follows in order:\n",
    "- `int(x)`\n",
    "- `float(x)`\n",
    "- `complex(x)`\n",
    "\n",
    "It should return the value of the first possible conversion without `ValueError`. If all of the conversions fail, the parser should behave in the same way as the one implemented in [](#ex:parse-boolean).\n",
    "\n",
    "\n",
    "::::"
   ]
  },
  {
   "cell_type": "code",
   "execution_count": null,
   "id": "a57f81b1",
   "metadata": {
    "deletable": false,
    "nbgrader": {
     "cell_type": "code",
     "checksum": "a043ba2e4bbe5c0578aabbae6b0f1728",
     "grade": false,
     "grade_id": "parse",
     "locked": false,
     "schema_version": 3,
     "solution": true,
     "task": false
    }
   },
   "outputs": [],
   "source": [
    "@interact(x=Text(\"-13+0.2j\"))\n",
    "def parse(x):\n",
    "    # YOUR CODE HERE\n",
    "    raise NotImplementedError"
   ]
  },
  {
   "cell_type": "code",
   "execution_count": null,
   "id": "3a383a8c",
   "metadata": {
    "deletable": false,
    "editable": false,
    "nbgrader": {
     "cell_type": "code",
     "checksum": "f62b3ba8a2ed0d29f16993a42535e887",
     "grade": true,
     "grade_id": "test_parse",
     "locked": true,
     "points": 0,
     "schema_version": 3,
     "solution": false,
     "task": false
    }
   },
   "outputs": [],
   "source": [
    "# tests\n",
    "assert (_:=parse(\"1302\")) == 1302 and isinstance(_, int)\n",
    "assert (_:=parse(\"-13.02\")) == -13.02 and isinstance(_, float)\n",
    "assert (_:=parse(\"-13+0.2j\")) == -13+0.2j and isinstance(_, complex)\n",
    "assert parse(\"yes\") is True\n",
    "assert parse(\"N\") is False\n",
    "assert (_:=parse(\"-1302\")) == -1302 and isinstance(_, int)\n",
    "assert (_:=parse(\"inf\")) == float(\"inf\") and isinstance(_, float)"
   ]
  },
  {
   "cell_type": "markdown",
   "id": "330bf1b5",
   "metadata": {},
   "source": [
    "## Data Validation"
   ]
  },
  {
   "cell_type": "markdown",
   "id": "d377b794",
   "metadata": {},
   "source": [
    "If you have implemented your parser correctly in the last section, the [`interact` function of `ipywidgets`](https://ipywidgets.readthedocs.io/en/latest/examples/Using%20Interact.html#using-interact) allows you to play with the function interactively:"
   ]
  },
  {
   "cell_type": "code",
   "execution_count": null,
   "id": "7a511d4d",
   "metadata": {},
   "outputs": [],
   "source": [
    "@interact(a=Text(\"3\"), b=Text(\"4\"))\n",
    "def length_of_hypotenuse(a, b):\n",
    "    a, b = parse(a), parse(b)\n",
    "    c = (a**2 + b**2) ** (0.5)\n",
    "    return c"
   ]
  },
  {
   "cell_type": "markdown",
   "id": "78852766",
   "metadata": {},
   "source": [
    "Without the parser, i.e., with the line `a, b = parse(a), parse(b)` removed, the above code will fail because `a` and `b` are passed to `length_of_hypotenuse` as string values, not numbers, and exponentiation such as `a ** 2` is not implemented for string value. With the parser, however, you can even call the function with integer arguments:"
   ]
  },
  {
   "cell_type": "code",
   "execution_count": null,
   "id": "7586e63e",
   "metadata": {},
   "outputs": [],
   "source": [
    "length_of_hypotenuse(3, 4)"
   ]
  },
  {
   "cell_type": "markdown",
   "id": "dca667f6",
   "metadata": {},
   "source": [
    "::::{seealso} How does `interact` work?\n",
    ":class: dropdown\n",
    "\n",
    "The `@interact` line is a decorator you will learn later in the course. It automatically create a user interface with two text input `a` and `b`, and continuously pass their updated values as arguments to `length_of_hypotenuse`.\n",
    "\n",
    "::::"
   ]
  },
  {
   "cell_type": "markdown",
   "id": "17b8c5a0",
   "metadata": {},
   "source": [
    "### Assertion"
   ]
  },
  {
   "cell_type": "markdown",
   "id": "6c857c44",
   "metadata": {},
   "source": [
    "Interestingly, the function does not fail even if the input arguments are negative numbers."
   ]
  },
  {
   "cell_type": "code",
   "execution_count": null,
   "id": "f6cefcea",
   "metadata": {},
   "outputs": [],
   "source": [
    "a, b = -3, 4\n",
    "length_of_hypotenuse(a, b)"
   ]
  },
  {
   "cell_type": "markdown",
   "id": "9efa877a",
   "metadata": {},
   "source": [
    "::::{note} Is it a good idea to be able to handle negative edge length?\n",
    "\n",
    "Imagine  that the length `a` was computed incorrectly to a negative value, but the error goes undetected as `length_of_hypotenuse` does not raise any error. This could lead to a more serious issues if some critical applications depend on the calculation.\n",
    "\n",
    "::::"
   ]
  },
  {
   "cell_type": "markdown",
   "id": "95b543be",
   "metadata": {},
   "source": [
    "Instead of allow the input arguments to be any values of any type, it is often better to validate the arguments and raise error if the values or types are unexpected. We can achieve this using the [`assert` statement](https://docs.python.org/3/reference/simple_stmts.html#the-assert-statement):"
   ]
  },
  {
   "cell_type": "code",
   "execution_count": null,
   "id": "fcc0b52d",
   "metadata": {},
   "outputs": [],
   "source": [
    "%%optlite -h 400\n",
    "def length_of_hypotenuse(a, b):\n",
    "    assert a >= 0 and b >= 0\n",
    "    c = (a**2 + b**2) ** (0.5)\n",
    "    return c\n",
    "\n",
    "\n",
    "length_of_hypotenuse(-3, 4)"
   ]
  },
  {
   "cell_type": "markdown",
   "id": "e51f8949",
   "metadata": {},
   "source": [
    "Validation is the process of checking whether a desired condition holds before further processing to avoid costly mistakes. Indeed, we have been using the `assert` statements for validation: For instance, you may validate the notebook before submission to lower the chance of careless mistakes. After the submission, there are also hidden tests to validate whether the submitted programs are engineered to work only on the visible test cases."
   ]
  },
  {
   "cell_type": "markdown",
   "id": "0242f0d1",
   "metadata": {},
   "source": [
    "Our function is still imperfect. For instance, it allows edge length to be infinite:"
   ]
  },
  {
   "cell_type": "markdown",
   "id": "58f7d3c3",
   "metadata": {},
   "source": [
    "Note that if the input argument is too large, the exponentiation function will raise an `OverflowError`:"
   ]
  },
  {
   "cell_type": "code",
   "execution_count": null,
   "id": "369e4d2c",
   "metadata": {},
   "outputs": [],
   "source": [
    "%%optlite -h 500\n",
    "def length_of_hypotenuse(a, b):\n",
    "    assert a >= 0 and b >= 0\n",
    "    c = (a**2 + b**2) ** (0.5)\n",
    "    return c\n",
    "\n",
    "\n",
    "c = length_of_hypotenuse(3e300, 4)"
   ]
  },
  {
   "cell_type": "markdown",
   "id": "ed8535ca",
   "metadata": {},
   "source": [
    "However, sometimes, no error is raised even if the input is too large:"
   ]
  },
  {
   "cell_type": "code",
   "execution_count": null,
   "id": "66f52968",
   "metadata": {},
   "outputs": [],
   "source": [
    "def length_of_hypotenuse(a, b):\n",
    "    assert a >= 0 and b >= 0\n",
    "    c = (a**2 + b**2) ** (0.5)\n",
    "    return c\n",
    "\n",
    "\n",
    "c = length_of_hypotenuse(3e400, 4)\n",
    "c = length_of_hypotenuse(3, 4e400)\n",
    "c = length_of_hypotenuse(3e400, 4e400)"
   ]
  },
  {
   "cell_type": "markdown",
   "id": "06283120",
   "metadata": {},
   "source": [
    "::::{exercise}\n",
    ":label: ex:assert\n",
    "\n",
    "Improve the function to raise an `AssertionError` (not `OverflowError`) if the input `a` or `b`, or the output length of the hypotenuse overflows to infinite `float('inf')`.\n",
    "\n",
    ":::{hint}\n",
    ":class: dropdown\n",
    "\n",
    "Use `a * a` instead of `a ** 2` to avoid `OverflowError`.\n",
    "\n",
    ":::\n",
    "\n",
    "::::"
   ]
  },
  {
   "cell_type": "code",
   "execution_count": null,
   "id": "ad0259d7",
   "metadata": {
    "deletable": false,
    "nbgrader": {
     "cell_type": "code",
     "checksum": "da6fe1e994cbee6bbe41930e427aa519",
     "grade": false,
     "grade_id": "assert",
     "locked": false,
     "schema_version": 3,
     "solution": true,
     "task": false
    }
   },
   "outputs": [],
   "source": [
    "def length_of_hypotenuse(a, b):\n",
    "    # YOUR CODE HERE\n",
    "    raise NotImplementedError\n",
    "    return c"
   ]
  },
  {
   "cell_type": "code",
   "execution_count": null,
   "id": "281be764",
   "metadata": {
    "deletable": false,
    "editable": false,
    "nbgrader": {
     "cell_type": "code",
     "checksum": "00649ce93304892360fb8993df53da14",
     "grade": true,
     "grade_id": "test_assert",
     "locked": true,
     "points": 0,
     "schema_version": 3,
     "solution": false,
     "task": false
    }
   },
   "outputs": [],
   "source": [
    "# tests\n",
    "def test_AE(a, b):\n",
    "    try:\n",
    "        c = length_of_hypotenuse(a, b)\n",
    "        return max(a, b, c) < float(\"inf\")\n",
    "    except AssertionError:\n",
    "        return True\n",
    "\n",
    "\n",
    "assert length_of_hypotenuse(3, 4) == 5\n",
    "assert test_AE(3, 4)\n",
    "assert test_AE(3e300, 4)\n",
    "assert test_AE(3e400, 4)\n",
    "assert test_AE(3, 4e400)\n",
    "assert test_AE(3e400, 4e400)"
   ]
  },
  {
   "cell_type": "markdown",
   "id": "7a483fbc",
   "metadata": {},
   "source": [
    "### Type Hinting and Validation"
   ]
  },
  {
   "cell_type": "markdown",
   "id": "a0f00bef",
   "metadata": {},
   "source": [
    "Instead of manually checking input arguments, you can use the packages [Pydantic](https://docs.pydantic.dev/latest/concepts/types/#custom-types) and [Typing](https://docs.python.org/3/library/typing.html#typing.Annotated):"
   ]
  },
  {
   "cell_type": "code",
   "execution_count": null,
   "id": "65ea7115",
   "metadata": {},
   "outputs": [],
   "source": [
    "NonNegative = Annotated[float, Field(ge=0)]\n",
    "\n",
    "\n",
    "@interact(a=Text(\"3\"), b=Text(\"4\"))\n",
    "@validate_call(validate_return=True)\n",
    "def length_of_hypotenuse(a: NonNegative, b: NonNegative) -> NonNegative:\n",
    "    \"\"\"\n",
    "    Return the length of hypotenuse.\n",
    "    \"\"\"\n",
    "    c = (a * a + b * b) ** (0.5)\n",
    "    return c"
   ]
  },
  {
   "cell_type": "markdown",
   "id": "808f038f",
   "metadata": {},
   "source": [
    "Notice that the string inputs `a` and `b` are automatically converted to `float`."
   ]
  },
  {
   "cell_type": "code",
   "execution_count": null,
   "id": "bee12929",
   "metadata": {},
   "outputs": [],
   "source": [
    "length_of_hypotenuse(\"3\", 4)"
   ]
  },
  {
   "cell_type": "markdown",
   "id": "a2bfa72e",
   "metadata": {},
   "source": [
    "::::{note} How does the code work?\n",
    "\n",
    "To understand the code, note that:\n",
    "\n",
    "- The following line defines a custom type `NonNegative` for non-negative numbers using `Annotated` from `typing` and `Field` from `pydantic`:\n",
    "  ```python\n",
    "  NonNegative = Annotated[float, Field(ge=0)]\n",
    "  ```\n",
    "- The following line uses type hints to specify the expected types for the function’s input arguments and return value:\n",
    "  ```python\n",
    "  def length_of_hypotenuse(a: NonNegative, b: NonNegative) -> NonNegative\n",
    "  ```\n",
    "- The following line uses the decorator `validate_call` to ensure that the function raises a validation error if the input arguments or return value are invalid:\n",
    "  ```python\n",
    "  @validate_call(validate_return=True)\n",
    "  ```\n",
    "\n",
    "::::"
   ]
  },
  {
   "cell_type": "markdown",
   "id": "4286901b",
   "metadata": {},
   "source": [
    "However, the above code does not raise any `ValidationError` if the input `a` or `b`, or the output length of the hypotenuse overflows to `float(\"inf\")`:"
   ]
  },
  {
   "cell_type": "code",
   "execution_count": null,
   "id": "2838f2f4",
   "metadata": {},
   "outputs": [],
   "source": [
    "length_of_hypotenuse(3e400, 4)"
   ]
  },
  {
   "cell_type": "markdown",
   "id": "3188735c",
   "metadata": {},
   "source": [
    "::::{exercise}\n",
    ":label: ex:validation\n",
    "\n",
    "To fix the above issue, define a custom type called `NonNegativeFinite` for non-negative finite numbers using `Annotated` from `typing` and `Field` from `pydantic`.\n",
    "\n",
    "::::"
   ]
  },
  {
   "cell_type": "code",
   "execution_count": null,
   "id": "4b9ffb3c",
   "metadata": {
    "deletable": false,
    "nbgrader": {
     "cell_type": "code",
     "checksum": "af385badc51566e682cafb54f26b7428",
     "grade": false,
     "grade_id": "finite",
     "locked": false,
     "schema_version": 3,
     "solution": true,
     "task": false
    }
   },
   "outputs": [],
   "source": [
    "# YOUR CODE HERE\n",
    "raise NotImplementedError\n",
    "\n",
    "\n",
    "@interact(a=Text(\"3\"), b=Text(\"4\"))\n",
    "@validate_call(validate_return=True)\n",
    "def length_of_hypotenuse(\n",
    "    a: NonNegativeFinite, b: NonNegativeFinite\n",
    ") -> NonNegativeFinite:\n",
    "    \"\"\"\n",
    "    Return the length of hypotenuse.\n",
    "    \"\"\"\n",
    "    c = (a * a + b * b) ** (0.5)\n",
    "    return c"
   ]
  },
  {
   "cell_type": "code",
   "execution_count": null,
   "id": "655f8ba1",
   "metadata": {
    "deletable": false,
    "editable": false,
    "nbgrader": {
     "cell_type": "code",
     "checksum": "17b02d1bccbcdf7db1eb083fba5b342a",
     "grade": true,
     "grade_id": "test_finite",
     "locked": true,
     "points": 0,
     "schema_version": 3,
     "solution": false,
     "task": false
    }
   },
   "outputs": [],
   "source": [
    "# test\n",
    "def test_VE(a, b):\n",
    "    try:\n",
    "        c = length_of_hypotenuse(a, b)\n",
    "        return max(a, b, c) < float(\"inf\")\n",
    "    except ValidationError:\n",
    "        return True\n",
    "\n",
    "assert test_AE(3, 4)\n",
    "assert test_VE(3e300, 4)\n",
    "assert test_VE(3e400, 4)\n",
    "assert test_VE(3, 4e400)\n",
    "assert test_VE(3e400, 4e400)"
   ]
  }
 ],
 "metadata": {
  "kernelspec": {
   "display_name": "Python 3 (ipykernel)",
   "language": "python",
   "name": "python3"
  }
 },
 "nbformat": 4,
 "nbformat_minor": 5
}
