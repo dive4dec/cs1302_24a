{
 "cells": [
  {
   "cell_type": "markdown",
   "id": "0fdd1d5e",
   "metadata": {
    "editable": true,
    "slideshow": {
     "slide_type": "slide"
    }
   },
   "source": [
    "---\n",
    "title: Binary Code\n",
    "---"
   ]
  },
  {
   "cell_type": "markdown",
   "id": "f05292e5",
   "metadata": {},
   "source": [
    "Welcome to this lab where you will explore how computers represent numbers using a fun card-guessing game! Through this lab, you will gain an understanding of how binary numbers are used to represent decimal numbers in computers."
   ]
  },
  {
   "cell_type": "markdown",
   "id": "507dbc7e",
   "metadata": {},
   "source": [
    "## Card Guessing Game"
   ]
  },
  {
   "cell_type": "markdown",
   "id": "9991052b",
   "metadata": {
    "editable": true,
    "slideshow": {
     "slide_type": "subslide"
    }
   },
   "source": [
    "### Rules"
   ]
  },
  {
   "cell_type": "markdown",
   "id": "1afa2ed3",
   "metadata": {
    "editable": true,
    "slideshow": {
     "slide_type": "fragment"
    }
   },
   "source": [
    "::::{table} Deck of cards\n",
    ":name: tab:deck\n",
    "\n",
    "<table style=\"width:100%\">\n",
    "  <tr>\n",
    "    <th></th>\n",
    "    <th>1</th>\n",
    "    <th>2</th>\n",
    "    <th>3</th>\n",
    "    <th>4</th>\n",
    "    <th>5</th>\n",
    "    <th>6</th>\n",
    "    <th>7</th>\n",
    "    <th>8</th>\n",
    "    <th>9</th>\n",
    "    <th>10</th>\n",
    "    <th>J</th>\n",
    "    <th>Q</th>\n",
    "    <th>K</th>\n",
    "  </tr>\n",
    "  <tr>\n",
    "    <td>Diamond</td>\n",
    "    <td><img src=\"https://upload.wikimedia.org/wikipedia/commons/e/e9/Cards-A-Diamond.svg\" alt=\"A-Diamond\"></td>\n",
    "    <td><img src=\"https://upload.wikimedia.org/wikipedia/commons/9/99/Cards-2-Diamond.svg\" alt=\"2-Diamond\"></td>\n",
    "    <td><img src=\"https://upload.wikimedia.org/wikipedia/commons/4/44/Cards-3-Diamond.svg\" alt=\"3-Diamond\"></td>\n",
    "    <td><img src=\"https://upload.wikimedia.org/wikipedia/commons/a/af/Cards-4-Diamond.svg\" alt=\"4-Diamond\"></td>\n",
    "    <td><img src=\"https://upload.wikimedia.org/wikipedia/commons/d/dd/Cards-5-Diamond.svg\" alt=\"5-Diamond\"></td>\n",
    "    <td><img src=\"https://upload.wikimedia.org/wikipedia/commons/4/44/Cards-6-Diamond.svg\" alt=\"6-Diamond\"></td>\n",
    "    <td><img src=\"https://upload.wikimedia.org/wikipedia/commons/2/2b/Cards-7-Diamond.svg\" alt=\"7-Diamond\"></td>\n",
    "    <td><img src=\"https://upload.wikimedia.org/wikipedia/commons/9/90/Cards-8-Diamond.svg\" alt=\"8-Diamond\"></td>\n",
    "    <td><img src=\"https://upload.wikimedia.org/wikipedia/commons/2/25/Cards-9-Diamond.svg\" alt=\"9-Diamond\"></td>\n",
    "    <td><img src=\"https://upload.wikimedia.org/wikipedia/commons/c/c2/Cards-10-Diamond.svg\" alt=\"10-Diamond\"></td>\n",
    "    <td><img src=\"https://upload.wikimedia.org/wikipedia/commons/7/78/Cards-J-Diamond.svg\" alt=\"J-Diamond\"></td>\n",
    "    <td><img src=\"https://upload.wikimedia.org/wikipedia/commons/c/c3/Cards-Q-Diamond.svg\" alt=\"Q-Diamond\"></td>\n",
    "    <td><img src=\"https://upload.wikimedia.org/wikipedia/commons/5/55/Cards-K-Diamond.svg\" alt=\"K-Diamond\"></td>\n",
    "  </tr>\n",
    "  <tr>\n",
    "    <td>Club</td>\n",
    "    <td><img src=\"https://upload.wikimedia.org/wikipedia/commons/c/c4/Cards-A-Club.svg\" alt=\"A-Club\"></td>\n",
    "    <td><img src=\"https://upload.wikimedia.org/wikipedia/commons/b/b0/Cards-2-Club.svg\" alt=\"2-Club\"></td>\n",
    "    <td><img src=\"https://upload.wikimedia.org/wikipedia/commons/e/e0/Cards-3-Club.svg\" alt=\"3-Club\"></td>\n",
    "    <td><img src=\"https://upload.wikimedia.org/wikipedia/commons/6/69/Cards-4-Club.svg\" alt=\"4-Club\"></td>\n",
    "    <td><img src=\"https://upload.wikimedia.org/wikipedia/commons/7/7e/Cards-5-Club.svg\" alt=\"5-Club\"></td>\n",
    "    <td><img src=\"https://upload.wikimedia.org/wikipedia/commons/a/af/Cards-6-Club.svg\" alt=\"6-Club\"></td>\n",
    "    <td><img src=\"https://upload.wikimedia.org/wikipedia/commons/8/8e/Cards-7-Club.svg\" alt=\"7-Club\"></td>\n",
    "    <td><img src=\"https://upload.wikimedia.org/wikipedia/commons/f/fd/Cards-8-Club.svg\" alt=\"8-Club\"></td>\n",
    "    <td><img src=\"https://upload.wikimedia.org/wikipedia/commons/a/ac/Cards-9-Club.svg\" alt=\"9-Club\"></td>\n",
    "    <td><img src=\"https://upload.wikimedia.org/wikipedia/commons/2/25/Cards-10-Club.svg\" alt=\"10-Club\"></td>\n",
    "    <td><img src=\"https://upload.wikimedia.org/wikipedia/commons/c/c7/Cards-J-Club.svg\" alt=\"J-Club\"></td>\n",
    "    <td><img src=\"https://upload.wikimedia.org/wikipedia/commons/3/37/Cards-Q-Club.svg\" alt=\"Q-Club\"></td>\n",
    "    <td><img src=\"https://upload.wikimedia.org/wikipedia/commons/9/9e/Cards-K-Club.svg\" alt=\"K-Club\"></td>\n",
    "  </tr>\n",
    "  <tr>\n",
    "    <td>Heart</td>\n",
    "    <td><img src=\"https://upload.wikimedia.org/wikipedia/commons/6/60/Cards-A-Heart.svg\" alt=\"A-Heart\"></td>\n",
    "    <td><img src=\"https://upload.wikimedia.org/wikipedia/commons/6/6e/Cards-2-Heart.svg\" alt=\"2-Heart\"></td>\n",
    "    <td><img src=\"https://upload.wikimedia.org/wikipedia/commons/5/57/Cards-3-Heart.svg\" alt=\"3-Heart\"></td>\n",
    "    <td><img src=\"https://upload.wikimedia.org/wikipedia/commons/3/39/Cards-4-Heart.svg\" alt=\"4-Heart\"></td>\n",
    "    <td><img src=\"https://upload.wikimedia.org/wikipedia/commons/9/91/Cards-5-Heart.svg\" alt=\"5-Heart\"></td>\n",
    "    <td><img src=\"https://upload.wikimedia.org/wikipedia/commons/5/55/Cards-6-Heart.svg\" alt=\"6-Heart\"></td>\n",
    "    <td><img src=\"https://upload.wikimedia.org/wikipedia/commons/d/d4/Cards-7-Heart.svg\" alt=\"7-Heart\"></td>\n",
    "    <td><img src=\"https://upload.wikimedia.org/wikipedia/commons/5/55/Cards-8-Heart.svg\" alt=\"8-Heart\"></td>\n",
    "    <td><img src=\"https://upload.wikimedia.org/wikipedia/commons/d/d2/Cards-9-Heart.svg\" alt=\"9-Heart\"></td>\n",
    "    <td><img src=\"https://upload.wikimedia.org/wikipedia/commons/7/76/Cards-10-Heart.svg\" alt=\"10-Heart\"></td>\n",
    "    <td><img src=\"https://upload.wikimedia.org/wikipedia/commons/e/e7/Cards-J-Heart.svg\" alt=\"J-Heart\"></td>\n",
    "    <td><img src=\"https://upload.wikimedia.org/wikipedia/commons/2/28/Cards-Q-Heart.svg\" alt=\"Q-Heart\"></td>\n",
    "    <td><img src=\"https://upload.wikimedia.org/wikipedia/commons/b/bf/Cards-K-Heart.svg\" alt=\"K-Heart\"></td>\n",
    "  </tr>\n",
    "  <tr>\n",
    "    <td>Spade</td>\n",
    "    <td><img src=\"https://upload.wikimedia.org/wikipedia/commons/9/9d/Cards-A-Spade.svg\" alt=\"A-Spade\"></td>\n",
    "    <td><img src=\"https://upload.wikimedia.org/wikipedia/commons/e/e7/Cards-2-Spade.svg\" alt=\"2-Spade\"></td>\n",
    "    <td><img src=\"https://upload.wikimedia.org/wikipedia/commons/d/d0/Cards-3-Spade.svg\" alt=\"3-Spade\"></td>\n",
    "    <td><img src=\"https://upload.wikimedia.org/wikipedia/commons/4/4e/Cards-4-Spade.svg\" alt=\"4-Spade\"></td>\n",
    "    <td><img src=\"https://upload.wikimedia.org/wikipedia/commons/b/b1/Cards-5-Spade.svg\" alt=\"5-Spade\"></td>\n",
    "    <td><img src=\"https://upload.wikimedia.org/wikipedia/commons/6/68/Cards-6-Spade.svg\" alt=\"6-Spade\"></td>\n",
    "    <td><img src=\"https://upload.wikimedia.org/wikipedia/commons/c/c6/Cards-7-Spade.svg\" alt=\"7-Spade\"></td>\n",
    "    <td><img src=\"https://upload.wikimedia.org/wikipedia/commons/7/7e/Cards-8-Spade.svg\" alt=\"8-Spade\"></td>\n",
    "    <td><img src=\"https://upload.wikimedia.org/wikipedia/commons/0/0a/Cards-9-Spade.svg\" alt=\"9-Spade\"></td>\n",
    "    <td><img src=\"https://upload.wikimedia.org/wikipedia/commons/6/67/Cards-10-Spade.svg\" alt=\"10-Spade\"></td>\n",
    "    <td><img src=\"https://upload.wikimedia.org/wikipedia/commons/e/ea/Cards-J-Spade.svg\" alt=\"J-Spade\"></td>\n",
    "    <td><img src=\"https://upload.wikimedia.org/wikipedia/commons/e/ef/Cards-Q-Spade.svg\" alt=\"Q-Spade\"></td>\n",
    "    <td><img src=\"https://upload.wikimedia.org/wikipedia/commons/1/18/Cards-K-Spade.svg\" alt=\"K-Spade\"></td>\n",
    "  </tr>\n",
    "</table>\n",
    "\n",
    "::::"
   ]
  },
  {
   "cell_type": "markdown",
   "id": "decf1d18",
   "metadata": {
    "editable": true,
    "slideshow": {
     "slide_type": "fragment"
    }
   },
   "source": [
    "[](#tab:deck) shows a deck of 52 cards:\n",
    "-   Each card is in one of the four suits: *Diamond* &#9830;, *Club* &#9827;, *Heart* &#9829;, and *Spade* &#9824;.\n",
    "-   Each card has a value ranging from 1 to 13. For simplicity, the original card values A, J, Q, and K are converted to the numerical values 1, 11, 12, and 13 respectively."
   ]
  },
  {
   "cell_type": "markdown",
   "id": "f134774f",
   "metadata": {},
   "source": [
    ":::{figure} images/card_game.dio.svg\n",
    ":name: fig:card-guessing\n",
    ":alt: A player guesses a card drawn by a dealer.\n",
    ":align: left\n",
    "\n",
    "Card guessing game\n",
    ":::"
   ]
  },
  {
   "cell_type": "markdown",
   "id": "863b6679",
   "metadata": {
    "editable": true,
    "slideshow": {
     "slide_type": ""
    }
   },
   "source": [
    "::::{card}\n",
    ":header: Rules\n",
    "\n",
    "As depicted in [](#fig:card-guessing), the card-guessing game involves the following steps:\n",
    "\n",
    "- The dealer selects a card without revealing it to the player.\n",
    "- The player's goal is to correctly guess the chosen card.\n",
    "- To make an informed guess, the player can ask up to six yes/no questions.\n",
    "- The dealer must answer each question truthfully and immediately.\n",
    "\n",
    ":::{prf:example} Valid questions\n",
    ":class: dropdown\n",
    ":label: eg:valid-questions\n",
    "\n",
    "For instance, the player may ask:\n",
    "- Is the suit club?\n",
    "- Is the card diamond 1?\n",
    "- Is the value at least 10?\n",
    "\n",
    ":::\n",
    "\n",
    ":::{prf:example} Invalid questions\n",
    ":class: dropdown\n",
    ":label: eg:invalid-questions\n",
    "\n",
    "However, the player cannot ask:  \n",
    "- What is the value?\n",
    "- What is the suite?\n",
    "\n",
    "because the answers are not **yes/no**.\n",
    "\n",
    ":::\n",
    "\n",
    "::::"
   ]
  },
  {
   "cell_type": "markdown",
   "id": "b14be2cb",
   "metadata": {},
   "source": [
    "One strategy is to ask whether the randomly drawn card is a specific card, e.g.,\n",
    "\n",
    ":::{card}\n",
    "\n",
    "Is it the Diamond 1?\n",
    "\n",
    ":::\n",
    "\n",
    "If the answer is yes, the player can confidently guess that the card is Diamond 1 and win the game. However, if the answer is no, the player can continue to check another card, e.g.,\n",
    "\n",
    ":::{card}\n",
    "\n",
    "Is it the Diamond 2?\n",
    "\n",
    ":::\n",
    "\n",
    "and so on..."
   ]
  },
  {
   "cell_type": "markdown",
   "id": "07c8e5f6",
   "metadata": {},
   "source": [
    "A {term}`pseudocode` that summarizes the above strategy (or {term}`algorithm`) is shown below."
   ]
  },
  {
   "cell_type": "markdown",
   "id": "f3550296",
   "metadata": {},
   "source": [
    "::::{prf:algorithm} Checking one card at a time \n",
    ":label: code:1-by-1\n",
    "\n",
    "```{code} python\n",
    ":linenos:\n",
    ":emphasize-lines: 3,4\n",
    "\n",
    "while the number of questions asked < 6 and \\\n",
    "      the correct card has not been guessed yet:\n",
    "    randomly pick a new card not chosen before\n",
    "    ask the dealer whether the drawn card is the chosen one\n",
    "    if the answer is yes:\n",
    "        guess the card\n",
    "    else:\n",
    "        increment the number of questions asked\n",
    "```\n",
    "\n",
    "::::"
   ]
  },
  {
   "cell_type": "markdown",
   "id": "a2d1328e",
   "metadata": {
    "editable": true,
    "slideshow": {
     "slide_type": ""
    }
   },
   "source": [
    "::::{exercise} chance\n",
    ":label: ex:chance\n",
    "\n",
    "What is the chance of winning using the strategy in [](#code:1-by-1)? \n",
    "\n",
    ":::{attention}\n",
    "Provide your answer in the following code cell by assigning a fraction to the variable `chance` such as\n",
    "\n",
    "```python\n",
    "chance = 0.5\n",
    "```\n",
    "\n",
    "where the value 0.5 means 50% chance. This is just a demo, i.e., 50% is *not* necessarily the correct answer. Your answer should be accurate at least up to *2 decimal places*.\n",
    "\n",
    ":::\n",
    "\n",
    "::::"
   ]
  },
  {
   "cell_type": "code",
   "execution_count": null,
   "id": "dc3654a0",
   "metadata": {
    "deletable": false,
    "nbgrader": {
     "cell_type": "code",
     "checksum": "a897b9d3697bb3e5aa85893fe5b73157",
     "grade": false,
     "grade_id": "chance",
     "locked": false,
     "schema_version": 3,
     "solution": true,
     "task": false
    }
   },
   "outputs": [],
   "source": [
    "# YOUR CODE HERE\n",
    "raise NotImplementedError"
   ]
  },
  {
   "cell_type": "markdown",
   "id": "182c038c",
   "metadata": {
    "slideshow": {
     "slide_type": "fragment"
    }
   },
   "source": [
    "::::{tip}\n",
    "\n",
    "Run the following visible tests to check whether the `chance` variable meets the following criteria:\n",
    "\n",
    "- It is greater than or equal to 0.\n",
    "- It is less than or equal to 1.\n",
    "\n",
    "::::"
   ]
  },
  {
   "cell_type": "code",
   "execution_count": null,
   "id": "daa71c20",
   "metadata": {
    "deletable": false,
    "editable": false,
    "nbgrader": {
     "cell_type": "code",
     "checksum": "18833ca8b32ec87f1070f52783b0563b",
     "grade": true,
     "grade_id": "test-chance",
     "locked": true,
     "points": 1,
     "schema_version": 3,
     "solution": false,
     "task": false
    },
    "slideshow": {
     "slide_type": ""
    }
   },
   "outputs": [],
   "source": [
    "# tests\n",
    "assert chance >= 0\n",
    "assert chance <= 1"
   ]
  },
  {
   "cell_type": "markdown",
   "id": "2b2ee0f3",
   "metadata": {},
   "source": [
    "::::{caution}\n",
    "\n",
    "Passing the visible tests does not guarantee that the answer is correct. The actual correctness will be evaluated using a hidden test to be injected into the following cell.\n",
    "\n",
    "::::"
   ]
  },
  {
   "cell_type": "code",
   "execution_count": null,
   "id": "1882079d",
   "metadata": {
    "deletable": false,
    "editable": false,
    "nbgrader": {
     "cell_type": "code",
     "checksum": "7fb5b29aece1c133906b690128e5f9f2",
     "grade": true,
     "grade_id": "htest-chance",
     "locked": true,
     "points": 1,
     "schema_version": 3,
     "solution": false,
     "task": false
    },
    "slideshow": {
     "slide_type": ""
    }
   },
   "outputs": [],
   "source": [
    "# hidden tests"
   ]
  },
  {
   "cell_type": "markdown",
   "id": "470d43e4",
   "metadata": {},
   "source": [
    "### Virtual Cards"
   ]
  },
  {
   "cell_type": "markdown",
   "id": "44a22b3c",
   "metadata": {},
   "source": [
    "Instead of drawing a physical card, the dealer can use programming to generate a virtual deck and draw a *random*[^pseudorandom] virtual card from it. Run the code below to get the required tools.\n",
    "\n",
    "[^pseudorandom]: The truth is, the random generation process will look random but is not truly random. You will learn about this pseudorandomness later in the course."
   ]
  },
  {
   "cell_type": "code",
   "execution_count": null,
   "id": "dbc67f41",
   "metadata": {},
   "outputs": [],
   "source": [
    "from collections import namedtuple  # for naming the cards\n",
    "from random import choice  # for randomly drawing cards"
   ]
  },
  {
   "cell_type": "markdown",
   "id": "3f784a51",
   "metadata": {
    "editable": true,
    "slideshow": {
     "slide_type": "subslide"
    }
   },
   "source": [
    "You'll learn the syntax in a future lecture, but even now, it is clear that the code imports {term}`libraries <library>` for creating named tuples and making random choices, thanks to the design of Python being a high-level programming language."
   ]
  },
  {
   "cell_type": "markdown",
   "id": "6f9153d3",
   "metadata": {},
   "source": [
    "To create a `deck` of cards, run the following cell."
   ]
  },
  {
   "cell_type": "code",
   "execution_count": null,
   "id": "c6d643d3",
   "metadata": {
    "editable": true,
    "slideshow": {
     "slide_type": "-"
    },
    "tags": [
     "output-scroll"
    ]
   },
   "outputs": [],
   "source": [
    "suits = (\"Diamond\", \"Club\", \"Heart\", \"Spade\")\n",
    "values = range(1, 14)\n",
    "Card = namedtuple(\"Card\", [\"value\", \"suit\"])\n",
    "deck = [Card(value, suit) for value in values for suit in suits]\n",
    "deck"
   ]
  },
  {
   "cell_type": "markdown",
   "id": "f42ea2ab",
   "metadata": {
    "slideshow": {
     "slide_type": "fragment"
    }
   },
   "source": [
    "The code above uses {term}`composite data types <composite data type>` like tuples and lists, which will be formally introduced later in the course. They are handy for storing and manipulating collections of values."
   ]
  },
  {
   "cell_type": "markdown",
   "id": "390a6560",
   "metadata": {},
   "source": [
    "Now, you can use the following program to play the game with your friends:"
   ]
  },
  {
   "cell_type": "code",
   "execution_count": null,
   "id": "36ac957c",
   "metadata": {
    "editable": true,
    "slideshow": {
     "slide_type": "-"
    }
   },
   "outputs": [],
   "source": [
    "choice(deck)"
   ]
  },
  {
   "cell_type": "markdown",
   "id": "f653fdc1",
   "metadata": {},
   "source": [
    "::::{tip}\n",
    "\n",
    "To draw cards repeatedly, use <kbd>Ctrl-Enter</kbd> instead of <kbd>Shift-Enter</kbd> to run the code, so the same code cell stay selected after the execution. Note that function `choice` is said to be an [impure function](https://en.wikipedia.org/wiki/Pure_function) as it can return different values for repeated runs with the same input argument, namely `deck`.\n",
    "\n",
    "::::"
   ]
  },
  {
   "cell_type": "markdown",
   "id": "bc9e1090",
   "metadata": {},
   "source": [
    "::::{exercise} Draw multiple cards\n",
    ":label: ex:multiple-draw\n",
    "\n",
    "Can you fix the code below so that it can return 5 cards randomly drawn with replacement from the deck of cards?\n",
    "\n",
    "```{code} python\n",
    ":linenos:\n",
    ":emphasize-lines: 2\n",
    "\n",
    "def draw_five_cards_randomly():\n",
    "    card1 = card2 = card3 = card4 = card5 = choice(deck)\n",
    "    return  card1, card2, card3, card4, card5\n",
    "```\n",
    "\n",
    "::::"
   ]
  },
  {
   "cell_type": "code",
   "execution_count": null,
   "id": "54f4dc94",
   "metadata": {
    "deletable": false,
    "nbgrader": {
     "cell_type": "code",
     "checksum": "e88ddbfe661156ff81c8803fed46bfc0",
     "grade": false,
     "grade_id": "multiple_draw",
     "locked": false,
     "schema_version": 3,
     "solution": true,
     "task": false
    }
   },
   "outputs": [],
   "source": [
    "def draw_five_cards_randomly():\n",
    "    # YOUR CODE HERE\n",
    "    raise NotImplementedError\n",
    "    return  card1, card2, card3, card4, card5"
   ]
  },
  {
   "cell_type": "code",
   "execution_count": null,
   "id": "36cf037b",
   "metadata": {
    "deletable": false,
    "editable": false,
    "nbgrader": {
     "cell_type": "code",
     "checksum": "30f08021bea27962eee530954d4013b8",
     "grade": true,
     "grade_id": "test-multiple_draw",
     "locked": true,
     "points": 1,
     "schema_version": 3,
     "solution": false,
     "task": false
    }
   },
   "outputs": [],
   "source": [
    "# tests\n",
    "import random\n",
    "\n",
    "random.seed(1302)  # to make pseudo-random sequences reproducible\n",
    "assert (lambda cards: any(cards[i] != cards[4] for i in range(4)))(\n",
    "    draw_five_cards_randomly()\n",
    ")"
   ]
  },
  {
   "cell_type": "code",
   "execution_count": null,
   "id": "938f6ee2",
   "metadata": {
    "deletable": false,
    "editable": false,
    "nbgrader": {
     "cell_type": "code",
     "checksum": "6f62cf6c25def4aae8250d94d05f2c52",
     "grade": true,
     "grade_id": "htest-multiple_draw",
     "locked": true,
     "points": 1,
     "schema_version": 3,
     "solution": false,
     "task": false
    }
   },
   "outputs": [],
   "source": [
    "# hidden tests"
   ]
  },
  {
   "cell_type": "markdown",
   "id": "ea67dd92",
   "metadata": {},
   "source": [
    "::::{caution}\n",
    ":class: dropdown\n",
    "\n",
    "While one may pass the visible test with an answer like\n",
    "\n",
    "```\n",
    "def draw_five_cards_randomly():\n",
    "    card1 = card2 = card3 = card4 = card5 = choice(deck)\n",
    "    card1 = 0\n",
    "    return  card1, card2, card3, card4, card5\n",
    "```\n",
    "\n",
    "Who knows whether the hidden test would catch that `card1` is not even a card in the `deck`? The hidden test can also be modified since it is not hard coded in the notebook.\n",
    "\n",
    "::::"
   ]
  },
  {
   "cell_type": "markdown",
   "id": "e5bb347f",
   "metadata": {
    "editable": true,
    "slideshow": {
     "slide_type": ""
    }
   },
   "source": [
    "### Virtual Player"
   ]
  },
  {
   "cell_type": "markdown",
   "id": "4c0a169e",
   "metadata": {
    "slideshow": {
     "slide_type": "fragment"
    }
   },
   "source": [
    "Given you have randomly drawn a card,\n",
    "\n",
    "1. run the following code cell, and\n",
    "2. answer the 6 questions raised by the player honestly by entering  \n",
    "    - `1` for yes and\n",
    "    - `0` for no."
   ]
  },
  {
   "cell_type": "code",
   "execution_count": null,
   "id": "31632c94",
   "metadata": {
    "editable": true,
    "slideshow": {
     "slide_type": "-"
    },
    "tags": [
     "remove-output"
    ]
   },
   "outputs": [],
   "source": [
    "def is_yes(question):\n",
    "    \"\"\"Get an answer to a yes/no question.\"\"\"\n",
    "    return \"1\" == input(question + \" 1:yes [0:no] \")\n",
    "\n",
    "\n",
    "suit_idx = number = 0\n",
    "if is_yes(\"Is the suite either heart or spade?\"):\n",
    "    suit_idx += 2\n",
    "if is_yes(\"Is the suite either club or spade?\"):\n",
    "    suit_idx += 1\n",
    "for i in range(3, -1, -1):\n",
    "    number += 2**i * is_yes(f\"Is the number {number+2**i} or above?\")\n",
    "print(f\"The card is {suits[suit_idx]} {number}\")"
   ]
  },
  {
   "cell_type": "markdown",
   "id": "6808d183",
   "metadata": {
    "slideshow": {
     "slide_type": "fragment"
    }
   },
   "source": [
    "The code above provides an overview of various programming syntaxes to be covered in the course. Although you don't need to be familiar with them now, it's good to have a basic understanding:\n",
    "\n",
    "- The program first defines a function called `is_yes` that checks whether the answer to a given question is yes. \n",
    "- To compute the guess, the program modifies the values of the variables `suit_idx` and `number` using\n",
    "  - {term}`conditional` `if` statements and\n",
    "  - a `for` {term}`loop <iteration>`, along with\n",
    "  - different operations such as\n",
    "    - chained assignment `=`,\n",
    "    - augmented assignment `+=`,\n",
    "    - equality comparison `==`, and\n",
    "    - exponentiation `**`."
   ]
  },
  {
   "cell_type": "markdown",
   "id": "e4c25a0d",
   "metadata": {},
   "source": [
    "::::{exercise} Resolution of uncertainty\n",
    ":label: ex:resolution-capacity\n",
    "\n",
    "Hope you are convinced that the virtual player has a winning strategy. Indeed, the answers to 6 questions not only resolve the uncertainty of a random draw from 6 cards, but they can also resolve a random draw from over 52 cards. Fix the following function `number_of_cards` so that it returns the maximum number of cards from which a random draw can be resolved by the answers to a number of questions specified by an integer assigned to the variable `number_of_questions`.\n",
    "\n",
    "```{code} python\n",
    ":linenos:\n",
    ":emphasize-lines: 2\n",
    "\n",
    "def number_of_cards(number_of_questions):\n",
    "    ans = number_of_questions\n",
    "    return ans\n",
    "```\n",
    "\n",
    "You may assume one can add new values/suits so that a deck may have an arbitrarily number of distinct cards.\n",
    "\n",
    "::::"
   ]
  },
  {
   "cell_type": "code",
   "execution_count": null,
   "id": "aed8f09a",
   "metadata": {
    "deletable": false,
    "nbgrader": {
     "cell_type": "code",
     "checksum": "d43acb83c79cb8d388895f01cff95181",
     "grade": false,
     "grade_id": "resolution_capacity",
     "locked": false,
     "schema_version": 3,
     "solution": true,
     "task": false
    }
   },
   "outputs": [],
   "source": [
    "def number_of_cards(number_of_questions):\n",
    "    # YOUR CODE HERE\n",
    "    raise NotImplementedError\n",
    "    return ans"
   ]
  },
  {
   "cell_type": "code",
   "execution_count": null,
   "id": "1268f238",
   "metadata": {
    "deletable": false,
    "editable": false,
    "nbgrader": {
     "cell_type": "code",
     "checksum": "72dee2c86ec91b145b7b0f19efc1442f",
     "grade": true,
     "grade_id": "test-resolution_capacity",
     "locked": true,
     "points": 1,
     "schema_version": 3,
     "solution": false,
     "task": false
    }
   },
   "outputs": [],
   "source": [
    "# tests\n",
    "assert number_of_cards(number_of_questions=6) > len(deck) "
   ]
  },
  {
   "cell_type": "code",
   "execution_count": null,
   "id": "9c1ab664",
   "metadata": {
    "deletable": false,
    "editable": false,
    "nbgrader": {
     "cell_type": "code",
     "checksum": "6c956b4ffb271f2127d922a07c49ee3e",
     "grade": true,
     "grade_id": "htest-resolution_capacity",
     "locked": true,
     "points": 1,
     "schema_version": 3,
     "solution": false,
     "task": false
    }
   },
   "outputs": [],
   "source": [
    "# hidden tests"
   ]
  },
  {
   "cell_type": "markdown",
   "id": "f20979ce",
   "metadata": {},
   "source": [
    "::::{caution}\n",
    "\n",
    "The value of `number_of_questions` can be very large in the hidden test.\n",
    "\n",
    "::::"
   ]
  },
  {
   "cell_type": "markdown",
   "id": "e94496f9",
   "metadata": {},
   "source": [
    "## Binary Number System"
   ]
  },
  {
   "cell_type": "markdown",
   "id": "4490bb63",
   "metadata": {
    "slideshow": {
     "slide_type": "slide"
    }
   },
   "source": [
    "### Representing non-negative integers"
   ]
  },
  {
   "cell_type": "markdown",
   "id": "3c68cfe7",
   "metadata": {
    "slideshow": {
     "slide_type": "fragment"
    }
   },
   "source": [
    "The following table gives the binary representions of unsigned decimal integers from 0 to 7."
   ]
  },
  {
   "cell_type": "markdown",
   "id": "8eb1e33d",
   "metadata": {},
   "source": [
    "::::{list-table} Encoding positive integers\n",
    ":name: tab:pos-int\n",
    ":header-rows: 1\n",
    "\n",
    "*\n",
    "    - Binary\n",
    "    - Decimal\n",
    "*\n",
    "    - 000\n",
    "    - 0\n",
    "*\n",
    "    - 001\n",
    "    - 1\n",
    "*\n",
    "    - 010\n",
    "    - 2\n",
    "*\n",
    "    - 011\n",
    "    - 3\n",
    "*\n",
    "    - **1**00\n",
    "    - **4**\n",
    "*\n",
    "    - **1**01\n",
    "    - **5**\n",
    "*\n",
    "    - **1**10\n",
    "    - **6**\n",
    "*\n",
    "    - **1**11\n",
    "    - **7**\n",
    "\n",
    "::::"
   ]
  },
  {
   "cell_type": "markdown",
   "id": "633f0bf3",
   "metadata": {
    "slideshow": {
     "slide_type": "fragment"
    }
   },
   "source": [
    "Observe that the binary representations of 4, 5, 6, and 7 all have **1** in the leftmost (most significant) bit. Consider that bit as the answer to the following **yes/no** question when converting an integer `n` to binary:\n",
    "\n",
    "> Is the integer 4 or above, i.e., $n\\geq 4$?"
   ]
  },
  {
   "cell_type": "markdown",
   "id": "2ff12c5e",
   "metadata": {
    "slideshow": {
     "slide_type": "fragment"
    }
   },
   "source": [
    "Now, to convert the entire binary sequence to decimal, we can think of the conversion as a guessing game where\n",
    "- the binary sequence is a sequence of **yes (1)** or **no (0)** answers to certain **yes/no** questions, and\n",
    "- the informed guess is the integer represented by the binary sequence.\n",
    "\n",
    "![Decoding tree](images/dt.dio.svg)"
   ]
  },
  {
   "cell_type": "markdown",
   "id": "ee8b2a2f",
   "metadata": {},
   "source": [
    "The following code attempts to convert integers between 0 and 7 to their binary strings."
   ]
  },
  {
   "cell_type": "code",
   "execution_count": null,
   "id": "0c7bb910",
   "metadata": {},
   "outputs": [],
   "source": [
    "def decimal_to_binary(n):\n",
    "    def get_bit(cond):\n",
    "        return \"1\" if cond else \"0\"\n",
    "    return get_bit(eval(Q1)) + get_bit(eval(Q2)) + get_bit(eval(Q3))\n",
    "\n",
    "# Define the questions\n",
    "Q1, Q2, Q3 = \"n >= 4\", \"n >= 2\", \"n >= 1\"\n",
    "\n",
    "# Print the conversions decimal (binary)\n",
    "print(*[f\"{i} ({decimal_to_binary(i)})\" for i in range(8)], sep=\"\\n\")"
   ]
  },
  {
   "cell_type": "markdown",
   "id": "de96081c",
   "metadata": {},
   "source": [
    ":::::{exercise} question to ask\n",
    ":label: ex:d2b\n",
    "\n",
    "Although the conversions for 0, 1, 3, and 7 are correct, the conversions for 2, 4, 5, and 6 are incorrect. Fix the issue by assigning the correct strings to Q2 and Q3. Similar to Q1, each of the strings should be a valid Python expression that can be evaluated with `n` being the integer to convert to a binary string. \n",
    "\n",
    "::::{hint}\n",
    ":class: dropdown\n",
    "\n",
    "Consider the modulo operator `%`.\n",
    "\n",
    ":::{seealso}\n",
    "- [Binary Number System](https://www.mathsisfun.com/binary-number-system.html) and\n",
    "- [Binary Number Conversions](https://www.purplemath.com/modules/numbbase.htm).\n",
    ":::\n",
    "::::\n",
    "\n",
    "\n",
    ":::::"
   ]
  },
  {
   "cell_type": "code",
   "execution_count": null,
   "id": "9f03039f",
   "metadata": {
    "deletable": false,
    "nbgrader": {
     "cell_type": "code",
     "checksum": "a08ff85222d04b5d50e31a57e47a78be",
     "grade": false,
     "grade_id": "d2b",
     "locked": false,
     "schema_version": 3,
     "solution": true,
     "task": false
    }
   },
   "outputs": [],
   "source": [
    "# Assign strings to Q2 and Q3\n",
    "# YOUR CODE HERE\n",
    "raise NotImplementedError\n",
    "Q2, Q3"
   ]
  },
  {
   "cell_type": "code",
   "execution_count": null,
   "id": "ea3db8f7",
   "metadata": {
    "deletable": false,
    "editable": false,
    "nbgrader": {
     "cell_type": "code",
     "checksum": "6bcf1c5abe0c63c517d24d7d7dcfc4fe",
     "grade": true,
     "grade_id": "test-d2b",
     "locked": true,
     "points": 1,
     "schema_version": 3,
     "solution": false,
     "task": false
    }
   },
   "outputs": [],
   "source": [
    "# test\n",
    "assert decimal_to_binary(2) == '010'\n",
    "assert decimal_to_binary(4) == '100'\n",
    "assert decimal_to_binary(5) == '101'\n",
    "assert decimal_to_binary(6) == '110' "
   ]
  },
  {
   "cell_type": "code",
   "execution_count": null,
   "id": "14a615c4",
   "metadata": {
    "deletable": false,
    "editable": false,
    "nbgrader": {
     "cell_type": "code",
     "checksum": "d0981384ae49e04fbcb715287361f6c5",
     "grade": true,
     "grade_id": "htest-d2b",
     "locked": true,
     "points": 1,
     "schema_version": 3,
     "solution": false,
     "task": false
    }
   },
   "outputs": [],
   "source": [
    "# hidden tests"
   ]
  },
  {
   "cell_type": "markdown",
   "id": "d4e37208",
   "metadata": {
    "slideshow": {
     "slide_type": "slide"
    }
   },
   "source": [
    "### Representing negative numbers"
   ]
  },
  {
   "cell_type": "markdown",
   "id": "7172c7f1",
   "metadata": {
    "slideshow": {
     "slide_type": "fragment"
    }
   },
   "source": [
    "The following also uses 3 bits to represent 8 integers but half of them are negative."
   ]
  },
  {
   "cell_type": "markdown",
   "id": "7ce41110",
   "metadata": {
    "slideshow": {
     "slide_type": "-"
    }
   },
   "source": [
    "::::{list-table} Encoding positive integers\n",
    ":name: tab:neg-int\n",
    ":header-rows: 1\n",
    "\n",
    "*\n",
    "    - Binary\n",
    "    - Decimal\n",
    "*\n",
    "    - 000\n",
    "    - 0\n",
    "*\n",
    "    - 001\n",
    "    - 1\n",
    "*\n",
    "    - 010\n",
    "    - 2\n",
    "*\n",
    "    - 011\n",
    "    - 3\n",
    "*\n",
    "    - **1**00\n",
    "    - **-4**\n",
    "*\n",
    "    - **1**01\n",
    "    - **-3**\n",
    "*\n",
    "    - **1**10\n",
    "    - **-2**\n",
    "*\n",
    "    - **1**11\n",
    "    - **-1**\n",
    "\n",
    "::::"
   ]
  },
  {
   "cell_type": "markdown",
   "id": "f6a27263",
   "metadata": {
    "slideshow": {
     "slide_type": "fragment"
    }
   },
   "source": [
    "::::{note}\n",
    "\n",
    "- The numbers 0, 1, 2, and 3 have the same binary representations as before, but\n",
    "- the binary representations for 4, 5, 6, and 7 are now used for -4, -3, -2, and -1. \n",
    "\n",
    "::::"
   ]
  },
  {
   "cell_type": "markdown",
   "id": "ad135c0c",
   "metadata": {
    "slideshow": {
     "slide_type": "subslide"
    }
   },
   "source": [
    "**What is the benefit of the above representation?**"
   ]
  },
  {
   "cell_type": "markdown",
   "id": "4511e1f9",
   "metadata": {
    "slideshow": {
     "slide_type": "fragment"
    }
   },
   "source": [
    "To subtract a positive binary number $x$ from another positive binary number $y$, i.e.,\n",
    "\n",
    "$$x - y,$$\n",
    "\n",
    "it seems we can instead perform the binary addition\n",
    "\n",
    "$$x + (-y)$$\n",
    "\n",
    "of a positive binary number $x$ and a negative binary number $-y$."
   ]
  },
  {
   "cell_type": "markdown",
   "id": "7f8af97a",
   "metadata": {
    "slideshow": {
     "slide_type": "subslide"
    }
   },
   "source": [
    "For example,\n",
    "\n",
    "$$\n",
    "\\overbrace{011_2}^{3} + \\overbrace{100_2}^{-4} = \\underbrace{111_2}_{-1}\n",
    "$$"
   ]
  },
  {
   "cell_type": "markdown",
   "id": "0f0bee90",
   "metadata": {
    "slideshow": {
     "slide_type": "subslide"
    }
   },
   "source": [
    "It seem to work as well if there are bits carried forward, e.g., $1 + (- 3)$ in binary is\n",
    "\n",
    "$$\n",
    "\\begin{array}{rrrr}\n",
    " & 0 & \\overset{\\color{blue} 1}0 & 1 \\\\\n",
    "+ & 1 & 0 & 1 \\\\\\hline\n",
    "& 1 & 1 &  0 \n",
    "\\end{array}\n",
    "$$\n",
    "\n",
    "which translate to $-2$ in decimal as desired."
   ]
  },
  {
   "cell_type": "markdown",
   "id": "9963e0d5",
   "metadata": {
    "slideshow": {
     "slide_type": "subslide"
    }
   },
   "source": [
    "::::{exercise} overflow\n",
    ":label: ex:overflow\n",
    "\n",
    "There is a subtlety when computing $3 - 2$ using binary addition because \n",
    "\n",
    "$$ \\overbrace{011_2}^3 + \\overbrace{110_2}^{-2} = 1001_2$$\n",
    "\n",
    "which overflows to $4$ bits, a seemingly invalid binary representation. Fortunately, there is a simple fix so binary addition can still apply. Come up with such a fix that also works for other cases such as $3-3$, $2-1$, etc.\n",
    "\n",
    ":::{hint}\n",
    "See [two's complement represenation](https://en.wikipedia.org/wiki/Two%27s_complement).\n",
    "\n",
    ":::\n",
    "\n",
    "::::"
   ]
  },
  {
   "cell_type": "markdown",
   "id": "06f46ac9",
   "metadata": {
    "deletable": false,
    "nbgrader": {
     "cell_type": "markdown",
     "checksum": "ebfc611b93ad1ee08e4b194755df8279",
     "grade": true,
     "grade_id": "fix-overflow",
     "locked": false,
     "points": 1,
     "schema_version": 3,
     "solution": true,
     "task": false
    },
    "slideshow": {
     "slide_type": "-"
    }
   },
   "source": [
    "YOUR ANSWER HERE"
   ]
  },
  {
   "cell_type": "markdown",
   "id": "bed0057d",
   "metadata": {
    "slideshow": {
     "slide_type": "slide"
    }
   },
   "source": [
    "## Logic Gates"
   ]
  },
  {
   "cell_type": "markdown",
   "id": "eb6307a4",
   "metadata": {
    "editable": true,
    "slideshow": {
     "slide_type": "subslide"
    }
   },
   "source": [
    "A computer is built from transistors that operates on binary states *on/off*, \n",
    "which is also represented as bits *1/0*, or the [*boolean*](https://en.wikipedia.org/wiki/Boolean_data_type#:~:text=In%20computer%20science%2C%20the%20Boolean,of%20logic%20and%20Boolean%20algebra.) value *true/false*. Play with the following simulator to see some examples."
   ]
  },
  {
   "cell_type": "markdown",
   "id": "081cf180",
   "metadata": {
    "editable": true,
    "slideshow": {
     "slide_type": ""
    }
   },
   "source": [
    "::::{card}\n",
    ":header: [Logic simulator](https://logic.ly/demo/)\n",
    "\n",
    "1. Click the logic simulator header above.\n",
    "2. Select *1-Bit Full Adder*.\n",
    "3. Change the input and observe the output."
   ]
  },
  {
   "cell_type": "markdown",
   "id": "7a276351",
   "metadata": {
    "editable": true,
    "slideshow": {
     "slide_type": "subslide"
    }
   },
   "source": [
    "[](#tab:adder) gives the input and output relationship of a simpler adder, called the half adder, which computes the addition of two input bits $A$ and $B$ as\n",
    "\n",
    "$$\n",
    "A + B = C\\circ S\n",
    "$$\n",
    "\n",
    "where $C$ and $S$ are the output bits, and $C\\circ S$ is the concatenation of two bits $C$ and $S$."
   ]
  },
  {
   "cell_type": "markdown",
   "id": "cea7b37f",
   "metadata": {
    "editable": true,
    "slideshow": {
     "slide_type": ""
    }
   },
   "source": [
    "::::{list-table} Adder.\n",
    ":name: tab:adder\n",
    ":header-rows: 1\n",
    "\n",
    "*\n",
    "    - A\n",
    "    - B\n",
    "    - C$\\circ$S\n",
    "*\n",
    "    - 0\n",
    "    - 0\n",
    "    - 00\n",
    "*\n",
    "    - 0\n",
    "    - 1\n",
    "    - 01\n",
    "*\n",
    "    - 1\n",
    "    - 0\n",
    "    - 01\n",
    "*\n",
    "    - 1\n",
    "    - 1\n",
    "    - 10\n",
    "\n",
    "::::"
   ]
  },
  {
   "cell_type": "markdown",
   "id": "98d7b16a",
   "metadata": {
    "editable": true,
    "slideshow": {
     "slide_type": "fragment"
    }
   },
   "source": [
    "The operation can be built using transistors, called [*logic gates*](https://en.wikipedia.org/wiki/Logic_gate), that can carry out basic logic operations such as\n",
    "\n",
    "- $A \\operatorname{AND} B$: which returns $1$ if and only if both $A$ and $B$ are $1$, and $0$ otherwise.\n",
    "- $A \\operatorname{XOR} B$: which returns $1$ if and only if either $A$ and $B$ are $1$ but not both.\n",
    "\n",
    "The input and output relationships are listed below:"
   ]
  },
  {
   "cell_type": "code",
   "execution_count": null,
   "id": "5b7ce4f0",
   "metadata": {
    "editable": true,
    "slideshow": {
     "slide_type": ""
    }
   },
   "outputs": [],
   "source": [
    "from pandas import DataFrame\n",
    "\n",
    "DataFrame(\n",
    "    [[A, B, A & B, A ^ B] for A in (0, 1) for B in (0, 1)],\n",
    "    columns=[\"A\", \"B\", \"A AND B\", \"A XOR B\"],\n",
    ")"
   ]
  },
  {
   "cell_type": "markdown",
   "id": "d223b533",
   "metadata": {
    "editable": true,
    "slideshow": {
     "slide_type": "fragment"
    }
   },
   "source": [
    "::::{note}\n",
    "\n",
    "The logical functions are computed using {term}`bitwise operators <bitwise operator>` `&` and `^`, and the result is stored as a `DataFrame` object, which is a useful tool for data analysis to be explained later in the course.\n",
    "\n",
    "::::"
   ]
  },
  {
   "cell_type": "markdown",
   "id": "b9ade40f",
   "metadata": {
    "editable": true,
    "slideshow": {
     "slide_type": "subslide"
    }
   },
   "source": [
    "::::{exercise} adder\n",
    ":label: ex:adder\n",
    "\n",
    "What is the logic in computing $C$ and $S$ from $A$ and $B$? Use the logic gates AND and XOR only.\n",
    "\n",
    "::::"
   ]
  },
  {
   "cell_type": "markdown",
   "id": "abba2a72",
   "metadata": {
    "deletable": false,
    "editable": true,
    "nbgrader": {
     "cell_type": "markdown",
     "checksum": "1b3cda11465c28407e17282a89a70995",
     "grade": true,
     "grade_id": "adder",
     "locked": false,
     "points": 1,
     "schema_version": 3,
     "solution": true,
     "task": false
    },
    "slideshow": {
     "slide_type": "-"
    }
   },
   "source": [
    "YOUR ANSWER HERE"
   ]
  },
  {
   "cell_type": "markdown",
   "id": "95390e05",
   "metadata": {
    "editable": true,
    "slideshow": {
     "slide_type": "subslide"
    }
   },
   "source": [
    "::::::{seealso}\n",
    "If you play minecraft, you can build the following devices based on how computers are built from logic gates:\n",
    "\n",
    ":::::{grid} 1 1 2 2\n",
    "\n",
    "::::{card} \n",
    ":header: An adder for binary addition\n",
    ":footer: [open in new tab](https://youtu.be/vtpTri-PZXY)\n",
    "\n",
    ":::{iframe} https://www.youtube.com/embed/vtpTri-PZXY\n",
    ":width: 100%\n",
    "\n",
    ":::\n",
    "\n",
    "::::\n",
    "\n",
    "::::{card} \n",
    ":header: A calculator for calculus\n",
    ":footer: [open in new tab](https://youtu.be/5NzIt9sns6o)\n",
    "\n",
    ":::{iframe} https://www.youtube.com/embed/5NzIt9sns6o\n",
    ":width: 100%\n",
    "\n",
    ":::\n",
    "\n",
    "::::\n",
    "\n",
    ":::::\n",
    "::::::"
   ]
  },
  {
   "cell_type": "markdown",
   "id": "79a31604",
   "metadata": {
    "editable": true,
    "slideshow": {
     "slide_type": ""
    }
   },
   "source": [
    "## Glossary"
   ]
  },
  {
   "cell_type": "markdown",
   "id": "7512aef1",
   "metadata": {
    "editable": true,
    "slideshow": {
     "slide_type": ""
    }
   },
   "source": [
    ":::{glossary}\n",
    "\n",
    "algorithm\n",
    ": An algorithm is a set of instructions that a computer program follows to solve a problem or complete a task. It is a step-by-step approach designed to be efficient and accurate.\n",
    "\n",
    "bitwise operator\n",
    ": Bitwise operators are used to manipulate individual bits of binary numbers. They allow for the manipulation of data at a low level, such as setting or clearing specific bits, shifting bits left or right, or performing logical operations on bits.\n",
    "\n",
    "composite data type\n",
    ": A composite data type groups related data into a single unit so that they can be easily stored and manipulated together.\n",
    "\n",
    "conditional\n",
    ": A conditional statement is used to perform different actions based on different conditions. It allows the program to make decisions and execute specific code blocks based on the evaluation of a given condition.\n",
    "\n",
    "iteration\n",
    ": An iteration is a repeated execution until a condition is met. It allows for the efficient repetition of tasks without the need for writing the same code multiple times. \n",
    "\n",
    "library\n",
    ": A library is a collection of pre-written code that developers can use to perform common tasks. It contains functions, classes, and other reusable code that can be integrated into a larger software application, saving time and effort.\n",
    "\n",
    "pseudocode\n",
    ": Pseudocode is a high-level description of a program or algorithm, using natural language and code-like syntax to express logic without being bound to a specific programming language. It is used during planning and design phases of software development.\n",
    "\n",
    ":::"
   ]
  }
 ],
 "metadata": {
  "kernelspec": {
   "display_name": "Python 3 (ipykernel)",
   "language": "python",
   "name": "python3"
  }
 },
 "nbformat": 4,
 "nbformat_minor": 5
}
