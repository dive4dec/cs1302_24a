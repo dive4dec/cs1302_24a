{
 "cells": [
  {
   "cell_type": "markdown",
   "id": "51c93191",
   "metadata": {
    "editable": true,
    "slideshow": {
     "slide_type": "slide"
    }
   },
   "source": [
    "---\n",
    "title: Debugger\n",
    "---"
   ]
  },
  {
   "cell_type": "markdown",
   "id": "bcad7d72",
   "metadata": {},
   "source": [
    "::::{attention}\n",
    "\n",
    "This notebook is optional and NOT required for any course assessment activities. Lab tutor may go through them if time is available.\n",
    "\n",
    "::::"
   ]
  },
  {
   "cell_type": "markdown",
   "id": "f028b8b0",
   "metadata": {
    "slideshow": {
     "slide_type": "slide"
    }
   },
   "source": [
    "## Motivation"
   ]
  },
  {
   "cell_type": "markdown",
   "id": "a13de198",
   "metadata": {
    "slideshow": {
     "slide_type": "fragment"
    }
   },
   "source": [
    "Computer programs can sometimes behave in an unexpected way due to errors or {term}`bug`s. Finding the errors might be easy for simple programs. However, for programs consisting of many lines of code, finding errors can be very hard."
   ]
  },
  {
   "cell_type": "markdown",
   "id": "23f7ad9b",
   "metadata": {
    "slideshow": {
     "slide_type": "fragment"
    }
   },
   "source": [
    "A {term}`debugger` allows us to pause the execution of a program at a line, called a {term}`breakpoint`, we specify. This allows us to find errors more easily. In this lab, we will learn to use the [visual debugger](https://jupyterlab.readthedocs.io/en/stable/user/debugger.html) in JupyterLab."
   ]
  },
  {
   "cell_type": "markdown",
   "id": "5f77cf3b",
   "metadata": {
    "slideshow": {
     "slide_type": "slide"
    }
   },
   "source": [
    "## Breakpoints"
   ]
  },
  {
   "cell_type": "markdown",
   "id": "c1a3ff18",
   "metadata": {
    "slideshow": {
     "slide_type": "subslide"
    }
   },
   "source": [
    "We will use the following code as an example to set a breakpoint. First, execute the code to see the effect."
   ]
  },
  {
   "cell_type": "code",
   "execution_count": null,
   "id": "5abef077",
   "metadata": {},
   "outputs": [],
   "source": [
    "msg = \"Hello, World!\"\n",
    "print(msg)"
   ]
  },
  {
   "cell_type": "markdown",
   "id": "d72b194b",
   "metadata": {
    "editable": true,
    "slideshow": {
     "slide_type": "subslide"
    }
   },
   "source": [
    "To enter the debug mode, click on the debugger icon ![](images/bug.svg) in the toolbar. The debugging sidebar should slide open. You can also open/close the sidebar by clicking the debugger icon on the right side bar."
   ]
  },
  {
   "cell_type": "markdown",
   "id": "83a0fe4a",
   "metadata": {
    "editable": true,
    "slideshow": {
     "slide_type": "subslide"
    }
   },
   "source": [
    ":::{exercise}\n",
    ":label: ex:debug-mode\n",
    "\n",
    "Code cells look different in debug mode. What is the difference?\n",
    "\n",
    ":::"
   ]
  },
  {
   "cell_type": "markdown",
   "id": "d4bb62e1",
   "metadata": {
    "deletable": false,
    "editable": true,
    "nbgrader": {
     "cell_type": "markdown",
     "checksum": "3d53e82efcbbe4112cbc27cc392893dc",
     "grade": true,
     "grade_id": "line-number",
     "locked": false,
     "points": 0,
     "schema_version": 3,
     "solution": true,
     "task": false
    },
    "slideshow": {
     "slide_type": ""
    }
   },
   "source": [
    "YOUR ANSWER HERE"
   ]
  },
  {
   "cell_type": "markdown",
   "id": "b0f0ea41",
   "metadata": {
    "slideshow": {
     "slide_type": "subslide"
    }
   },
   "source": [
    "To set a breakpoint:\n",
    "(set-breakpoint)=\n",
    "1. Press the dot that appears as you hover to the left of line number 2.\n",
    "2. Run the cell and observe what happens, in order to answer [](#ex:executed) later on."
   ]
  },
  {
   "cell_type": "code",
   "execution_count": null,
   "id": "cd8ec1b0",
   "metadata": {
    "tags": [
     "remove-output"
    ]
   },
   "outputs": [],
   "source": [
    "msg = \"Hello, World!\"\n",
    "print(msg)"
   ]
  },
  {
   "cell_type": "markdown",
   "id": "efd966d9",
   "metadata": {
    "editable": true,
    "slideshow": {
     "slide_type": ""
    }
   },
   "source": [
    "The debugger provides additional information organized into different panels as shown in [](#fig:debugger-panels):"
   ]
  },
  {
   "cell_type": "markdown",
   "id": "67498416",
   "metadata": {
    "editable": true,
    "slideshow": {
     "slide_type": ""
    }
   },
   "source": [
    "::::{grid} 1 1 2 2\n",
    "\n",
    "- **Variables panel** shows the current values of different variables.\n",
    "- **Callstack panel** provides a more detailed context of where the execution is paused. It also provides the flow control buttons to resume/stop the execution.\n",
    "- **Breakpoints panel** shows all the breakpoints of the current debug session.\n",
    "- **Source panel** shows the code being debugged. `/TMP/IPYKERNEL_...` is a temporary file that stores the code of the cell being executed.\n",
    "- **Kernel sources** list the code that runs the kernel, which in turn runs the code cell being debugged.\n",
    "\n",
    ":::{figure} images/debugger-panels.svg\n",
    ":name: fig:debugger-panels\n",
    ":align: left\n",
    "\n",
    "Debugger panels\n",
    ":::\n",
    "\n",
    "::::"
   ]
  },
  {
   "cell_type": "markdown",
   "id": "30f04667",
   "metadata": {
    "slideshow": {
     "slide_type": "subslide"
    }
   },
   "source": [
    ":::{exercise}\n",
    ":label: ex:executed\n",
    "\n",
    "Explain whether line 1 and 2 are executed after the procedure [above](#set-breakpoint). Use the information from the debugger to support your answer.\n",
    "\n",
    ":::"
   ]
  },
  {
   "cell_type": "markdown",
   "id": "6ece32fa",
   "metadata": {
    "deletable": false,
    "nbgrader": {
     "cell_type": "markdown",
     "checksum": "7db8fe563ed0bf14cc2ac1b8d5880048",
     "grade": true,
     "grade_id": "executed",
     "locked": false,
     "points": 0,
     "schema_version": 3,
     "solution": true,
     "task": false
    }
   },
   "source": [
    "YOUR ANSWER HERE"
   ]
  },
  {
   "cell_type": "markdown",
   "id": "3bce6e39",
   "metadata": {
    "slideshow": {
     "slide_type": "slide"
    }
   },
   "source": [
    "## Flow Control"
   ]
  },
  {
   "cell_type": "markdown",
   "id": "70f23c3d",
   "metadata": {},
   "source": [
    "To resume/terminate the execution, use the following {term}`flow control` buttons at the top of the callstack panel:\n",
    "\n",
    "- **Continue** button continues the execution and pause again if it hits a breakpoint.\n",
    "- **Terminate** button stops the execution.\n",
    "- **Next/Step-over** button continues the execution of program to the next line of code to be executed."
   ]
  },
  {
   "cell_type": "markdown",
   "id": "af05cda9",
   "metadata": {},
   "source": [
    "For the [following exercise](#ex:fn), run the cell below to import a function `f`."
   ]
  },
  {
   "cell_type": "code",
   "execution_count": null,
   "id": "a107af2e",
   "metadata": {},
   "outputs": [],
   "source": [
    "from utils import f\n",
    "\n",
    "f(1), f(2), f(3), f(4)"
   ]
  },
  {
   "cell_type": "markdown",
   "id": "de4183b4",
   "metadata": {
    "slideshow": {
     "slide_type": "subslide"
    }
   },
   "source": [
    "::::{exercise} Identify a function\n",
    ":label: ex:fn\n",
    "\n",
    "What does the function `f(n)` compute? \n",
    "\n",
    ":::{hint}\n",
    ":class: dropdown\n",
    "\n",
    "You cannot read the definition of `f` directly, as it is imported from a compiled python script `utils.pyc` not in the text format. Nevertheless, you may set a breakpoint to and use the flow control buttons to **Step In/Out** of a call to `f`. The definition of `f` may then appear under the source panel, where you can further set more breakpoints to step through the code of `f`. It is helpful to pay attention to the {term}`callstack`.\n",
    ":::\n",
    "\n",
    "::::"
   ]
  },
  {
   "cell_type": "markdown",
   "id": "ea8d1bc7",
   "metadata": {
    "deletable": false,
    "nbgrader": {
     "cell_type": "markdown",
     "checksum": "dc2f246b1f97b3cfd5b636fcb07d5025",
     "grade": true,
     "grade_id": "factorial",
     "locked": false,
     "points": 0,
     "schema_version": 3,
     "solution": true,
     "task": false
    }
   },
   "source": [
    "YOUR ANSWER HERE"
   ]
  },
  {
   "cell_type": "markdown",
   "id": "349cba01",
   "metadata": {
    "slideshow": {
     "slide_type": "slide"
    }
   },
   "source": [
    "## Console"
   ]
  },
  {
   "cell_type": "markdown",
   "id": "772bcb2b",
   "metadata": {
    "slideshow": {
     "slide_type": "-"
    }
   },
   "source": [
    "Sometimes, it is helpful to run temporary code that shares the same context as the notebook, but without modifying the notebook. This can be done using a {term}`console`:"
   ]
  },
  {
   "cell_type": "markdown",
   "id": "a6552ad3",
   "metadata": {},
   "source": [
    "- Right click anywhere on a notebook and choose `New Console for Notebook`:\n",
    "- Type some code such as `msg` into the console input and run it with `Shift-Enter`:"
   ]
  },
  {
   "cell_type": "markdown",
   "id": "eeab7c3f",
   "metadata": {
    "slideshow": {
     "slide_type": "subslide"
    }
   },
   "source": [
    "If you need to run temporary code while debugging a code cell, the console above won't work because the breakpoint also pauses the execution of the console. In such cases, a debug console is necessary, as illustrated in the [following exercise](#ex:debug-console)."
   ]
  },
  {
   "cell_type": "code",
   "execution_count": null,
   "id": "3bc9e3d4",
   "metadata": {},
   "outputs": [],
   "source": [
    "def g(n):\n",
    "    return n * g(n - 1) if n > 1 else 1\n",
    "\n",
    "g(3)"
   ]
  },
  {
   "cell_type": "markdown",
   "id": "0c6de68c",
   "metadata": {},
   "source": [
    "::::{exercise}\n",
    ":label: ex:debug-console\n",
    "\n",
    "Set a breakpoint at Line 2 of the above code and run the it in debug mode.\n",
    "\n",
    "1. Click the ![](images/evaluate-code.svg) icon in the callstack panel to open a debug console. Enter the code `print(g(n-1))` and click `Evaluate`. Explain what gets printed to the cell output.\n",
    "2. Repeat the last step but evaluate the code `n=10` in the debug console instead. Then, remove the breakpoint and resume the execution to see the final value. Is the value `6` printed to the output as before? Why or why not?\n",
    "\n",
    ":::{caution}\n",
    "\n",
    "The function `g` needs not be the same as `f`.\n",
    "\n",
    ":::\n",
    "\n",
    "::::"
   ]
  },
  {
   "cell_type": "markdown",
   "id": "5e98b823",
   "metadata": {
    "deletable": false,
    "nbgrader": {
     "cell_type": "markdown",
     "checksum": "66310343641dae6aee15d7c327620ec5",
     "grade": true,
     "grade_id": "debug-console",
     "locked": false,
     "points": 0,
     "schema_version": 3,
     "solution": true,
     "task": false
    }
   },
   "source": [
    "YOUR ANSWER HERE"
   ]
  },
  {
   "cell_type": "markdown",
   "id": "9dec1c19",
   "metadata": {
    "slideshow": {
     "slide_type": "subslide"
    }
   },
   "source": [
    ":::{seealso}\n",
    "\n",
    "There are several debuggers available across different interfaces. In our JupyterHub server, you have the option to use the VS Code interface by navigating to `File` $\\to$ `New Launcher` $\\to$ `VS Code`. \n",
    "\n",
    "To debug your current notebook using the VS Code interface, simply open the notebook and follow the tutorial available at [this link](https://code.visualstudio.com/docs/datascience/jupyter-notebooks#_debug-a-jupyter-notebook). Additionally, you can enhance the functionality of the VS Code interface by installing additional [extensions](https://code.visualstudio.com/docs/editor/extension-marketplace).\n",
    "\n",
    ":::"
   ]
  },
  {
   "cell_type": "markdown",
   "id": "7bd587ad",
   "metadata": {
    "slideshow": {
     "slide_type": "slide"
    }
   },
   "source": [
    "## Visualization"
   ]
  },
  {
   "cell_type": "markdown",
   "id": "c66e81bb",
   "metadata": {
    "slideshow": {
     "slide_type": "fragment"
    }
   },
   "source": [
    "Seeing is believing. You can also debug your code by visualizing the code execution."
   ]
  },
  {
   "cell_type": "markdown",
   "id": "6a01e659",
   "metadata": {
    "slideshow": {
     "slide_type": "slide"
    }
   },
   "source": [
    "First, load the `divewidgets` using a line magic:"
   ]
  },
  {
   "cell_type": "code",
   "execution_count": null,
   "id": "17c8561f",
   "metadata": {},
   "outputs": [],
   "source": [
    "%reload_ext divewidgets"
   ]
  },
  {
   "cell_type": "markdown",
   "id": "e27f0c22",
   "metadata": {
    "slideshow": {
     "slide_type": "fragment"
    }
   },
   "source": [
    "Then, create a cell magic with the python code you want to visualize:"
   ]
  },
  {
   "cell_type": "code",
   "execution_count": null,
   "id": "a5fd7fe8",
   "metadata": {},
   "outputs": [],
   "source": [
    "%%optlite --height 500\n",
    "def f(n): # definition of a function\n",
    "    return n * f(n - 1) if n > 0 else 1\n",
    "\n",
    "\n",
    "f(3)"
   ]
  },
  {
   "cell_type": "markdown",
   "id": "d09ca5c6",
   "metadata": {
    "slideshow": {
     "slide_type": "subslide"
    }
   },
   "source": [
    "Try the following:\n",
    "- Drag the slider to time-travel the code execution.\n",
    "- Click any lines with code to toggle breakpoints, and click `Next >` (`< Prev`) to go the the next (previous) breakpoint.\n",
    "- Click the `Edit the code` link to edit the code.\n",
    "- Click the `Permalink` button to generate a url of the code, and copy and paste the url to a new browser window to run the visualization there.\n",
    "- Click the `Live Edit` button to live edit the code in a new browser window, where your changes to the code are immediately visualized. You can also time-travel and generate a permalink there."
   ]
  },
  {
   "cell_type": "markdown",
   "id": "82a1bc18",
   "metadata": {
    "slideshow": {
     "slide_type": "subslide"
    }
   },
   "source": [
    "Run the following cell to see additional options available to the cell magic."
   ]
  },
  {
   "cell_type": "code",
   "execution_count": null,
   "id": "2d7489a0",
   "metadata": {},
   "outputs": [],
   "source": [
    "%%optlite?"
   ]
  },
  {
   "cell_type": "markdown",
   "id": "fd8b7aae",
   "metadata": {
    "slideshow": {
     "slide_type": "subslide"
    }
   },
   "source": [
    "If you're struggling to understand or debug a piece of code, you can use OPTLite to share a link of the code with others. You can create a permalink like this:\n",
    "\n",
    "> <https://dive4dec.github.io/optlite/#code=def%20f%28n%29%3A%20%23%20definition%20of%20a%20function%0A%20%20%20%20return%20n%20*%20f%28n%20-%201%29%20if%20n%20%3E%200%20else%201%0A%0A%0Af%283%29&mode=edit&origin=opt-frontend.js&rawInputLstJSON=%5B%5D>\n",
    "\n",
    "If you change `mode=edit` in the query string to `mode=display`, the visualization will start automatically:\n",
    "\n",
    "> <https://dive4dec.github.io/optlite/#code=def%20f%28n%29%3A%20%23%20definition%20of%20a%20function%0A%20%20%20%20return%20n%20*%20f%28n%20-%201%29%20if%20n%20%3E%200%20else%201%0A%0A%0Af%283%29&mode=display&origin=opt-frontend.js&rawInputLstJSON=%5B%5D>\n",
    "\n",
    "To automatically enter live editing mode, specify `live.html` in the path:\n",
    "\n",
    "> <https://dive4dec.github.io/optlite/live.html#code=def%20f%28n%29%3A%20%23%20definition%20of%20a%20function%0A%20%20%20%20return%20n%20*%20f%28n%20-%201%29%20if%20n%20%3E%200%20else%201%0A%0A%0Af%283%29&mode=edit&origin=opt-frontend.js&rawInputLstJSON=%5B%5D>"
   ]
  },
  {
   "cell_type": "markdown",
   "id": "e6b837fd",
   "metadata": {
    "slideshow": {
     "slide_type": "subslide"
    }
   },
   "source": [
    ":::{exercise} optlite\n",
    ":label: ex:optlite\n",
    "\n",
    "Give a permalink that visualize the Hello World program immediately without the need to click `Visualize` button. \n",
    ":::"
   ]
  },
  {
   "cell_type": "markdown",
   "id": "516056a6",
   "metadata": {
    "deletable": false,
    "nbgrader": {
     "cell_type": "markdown",
     "checksum": "d2cd39c6299c5da2bdbf059bdb87550a",
     "grade": true,
     "grade_id": "optlite",
     "locked": false,
     "points": 0,
     "schema_version": 3,
     "solution": true,
     "task": false
    }
   },
   "source": [
    "YOUR ANSWER HERE"
   ]
  },
  {
   "cell_type": "markdown",
   "id": "20c8720b",
   "metadata": {},
   "source": [
    "::::{note}\n",
    "\n",
    "OPTLite is a serverless setup that allows you to run the popular learning tool, [Online Python Tutor](https://pythontutor.com/), locally on your browser without any advertisements or restrictions on your code. We developed [OPTLite](https://github.com/dive4dec/optlite) to enable offline use once the page is loaded. \n",
    "\n",
    "::::"
   ]
  },
  {
   "cell_type": "markdown",
   "id": "b83c2e6e",
   "metadata": {},
   "source": [
    "## Glossary"
   ]
  },
  {
   "cell_type": "markdown",
   "id": "1f3ea158",
   "metadata": {},
   "source": [
    "::::{glossary}\n",
    "breakpoint\n",
    ": A designated point in a program's code where execution will pause, allowing the programmer to examine the program's state and behavior at that point. Breakpoints are often used in conjunction with a debugger to help identify and resolve errors or bugs in a program.\n",
    "\n",
    "bug\n",
    ": An error or defect in a software program that causes it to behave unexpectedly or not according to its intended purpose. Bugs can range from minor issues to major problems that can cause crashes or data loss.\n",
    "\n",
    "callstack\n",
    ": A data structure that keeps track of the functions or procedures that have been called in a program, along with their parameters and return values. The callstack is used by the program to keep track of where it is in the execution process and to manage memory usage.\n",
    "\n",
    "console\n",
    ": A command-line interface or text-based window used for interacting with a program or operating system. The console allows users to enter commands and view output from the system or program.\n",
    "\n",
    "debugger\n",
    ": A tool or program used to identify and resolve errors or bugs in software code. Debuggers can be used to step through code, examine variables and data structures, and identify the source of errors in a program.\n",
    "\n",
    "flow control\n",
    ": The process of controlling the order in which a program executes its instructions. Flow control can be achieved through conditional statements, loops, and other control structures that allow the program to make decisions and repeat actions based on certain conditions.\n",
    "::::"
   ]
  }
 ],
 "metadata": {
  "kernelspec": {
   "display_name": "Python 3 (ipykernel)",
   "language": "python",
   "name": "python3"
  }
 },
 "nbformat": 4,
 "nbformat_minor": 5
}
