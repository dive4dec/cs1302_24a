{
 "cells": [
  {
   "cell_type": "markdown",
   "id": "92801dab",
   "metadata": {},
   "source": [
    "---\n",
    "title: Timer\n",
    "---"
   ]
  },
  {
   "cell_type": "markdown",
   "id": "87f546ba",
   "metadata": {},
   "source": [
    "::::{attention}\n",
    "This notebook is optional and NOT required for any course assessment activities. Lab tutor may go through them if time is available.\n",
    "::::"
   ]
  },
  {
   "cell_type": "code",
   "execution_count": null,
   "id": "ab4b0509",
   "metadata": {},
   "outputs": [],
   "source": [
    "import cProfile\n",
    "import math\n",
    "import multiprocessing\n",
    "import os\n",
    "import pstats\n",
    "import threading\n",
    "import time\n",
    "\n",
    "import ipywidgets as widgets\n",
    "from IPython.display import IFrame\n",
    "\n",
    "%load_ext divewidgets"
   ]
  },
  {
   "cell_type": "markdown",
   "id": "34d4d8c7",
   "metadata": {},
   "source": [
    "In this notebook, we will explore how computers keep track of time and how we can create timers using the computer clock."
   ]
  },
  {
   "cell_type": "markdown",
   "id": "fec06a7d",
   "metadata": {},
   "source": [
    "## Current time"
   ]
  },
  {
   "cell_type": "markdown",
   "id": "0b0e134b",
   "metadata": {},
   "source": [
    "In Python, the current local time can be printed as follows using the [`time` module](https://docs.python.org/3/library/time.html):"
   ]
  },
  {
   "cell_type": "code",
   "execution_count": null,
   "id": "dcd50671",
   "metadata": {},
   "outputs": [],
   "source": [
    "print(\"Current local time:\", time.asctime(time.localtime()))"
   ]
  },
  {
   "cell_type": "markdown",
   "id": "41fa97b3",
   "metadata": {},
   "source": [
    "- [`localtime()`][localtime] returns the current local time as a [`struct_time`][struct_time] object,\n",
    "- which is converted by [`asctime`][asctime] to a string.\n",
    "\n",
    "[localtime]: https://docs.python.org/3/library/time.html#time.localtime\n",
    "[struct_time]: https://docs.python.org/3/library/time.html#time.struct_time\n",
    "[asctime]: https://docs.python.org/3/library/time.html#time.asctime"
   ]
  },
  {
   "cell_type": "markdown",
   "id": "1aade547",
   "metadata": {},
   "source": [
    "**How do computers keep track of the current time?**"
   ]
  },
  {
   "cell_type": "markdown",
   "id": "c63e411c",
   "metadata": {},
   "source": [
    "`localtime()` obtains the (operating) system time as shown in the [source code](https://github.com/python/cpython/blob/c066bf553577d1000e208eb078d9e758c3e41186/Python/pytime.c#L902). Depending on the computer architecture, the operating system further obtain the time from certain hardware clock."
   ]
  },
  {
   "cell_type": "markdown",
   "id": "1e1ea82c",
   "metadata": {},
   "source": [
    "::::{seealso} What are the different hardware clocks?\n",
    ":class: dropdown\n",
    "\n",
    "Common hardware clocks includes:\n",
    "\n",
    "- [Time Stamp Counter (TSC)][TSC],\n",
    "- [High Precision Event Timer (HPET)][HPET],\n",
    "- [Advanced Configuration and Power Interface (ACPI) Power Management (PM) Timer][ACPI], and\n",
    "\n",
    "To keep track of the time when powered off, the computer uses [Real-Time Clock (RTC)][RTC].\n",
    "\n",
    "::::\n",
    "\n",
    "[TSC]: https://en.wikipedia.org/wiki/Time_Stamp_Counter\n",
    "[HPET]: https://en.wikipedia.org/wiki/High_Precision_Event_Timer\n",
    "[ACPI]: https://en.wikipedia.org/wiki/ACPI\n",
    "[RTC]: https://en.wikipedia.org/wiki/Real-time_clock"
   ]
  },
  {
   "cell_type": "markdown",
   "id": "d18368b2",
   "metadata": {},
   "source": [
    "To find the current clock source in Linux, for instance:"
   ]
  },
  {
   "cell_type": "code",
   "execution_count": null,
   "id": "bed31200",
   "metadata": {},
   "outputs": [],
   "source": [
    "print(\"Available clock sources:\")\n",
    "!cat /sys/devices/system/clocksource/clocksource0/available_clocksource\n",
    "print(\"Current clock source:\")\n",
    "!cat /sys/devices/system/clocksource/clocksource0/current_clocksource"
   ]
  },
  {
   "cell_type": "markdown",
   "id": "1e0436d3",
   "metadata": {},
   "source": [
    "A computer's clock may not be very accurate. It often need to be set once in a while to the correct time.\n",
    "\n",
    "::::{seealso} How to set/synchronize computer's clocks?\n",
    ":class: dropdown\n",
    "\n",
    "The most accurate hardware clock is the [optical clock][optical_clock], which is being considered for redefining the duration of a second around 2030. Currently, we rely on the weighted average time from an ensemble of atomic clocks around the globe, along with [leap seconds][leap], to define [coordinated universal time (UTC)][UTC]. To maintain precise timekeeping, computers use [network time protocol (NTP)][NTP]synchronize their clocks over the network with time servers, which themselves are synchronized with atomic clocks.\n",
    "\n",
    "::::\n",
    "\n",
    "[optical_clock]: https://en.wikipedia.org/wiki/Atomic_clock#Optical_clocks\n",
    "[leap]: https://en.wikipedia.org/wiki/Leap_second\n",
    "[UTC]: https://en.wikipedia.org/wiki/Coordinated_Universal_Time\n",
    "[NTP]: https://en.wikipedia.org/wiki/Network_Time_Protocol"
   ]
  },
  {
   "cell_type": "markdown",
   "id": "ee41d5d1",
   "metadata": {},
   "source": [
    "**How to implement a timer?**"
   ]
  },
  {
   "cell_type": "markdown",
   "id": "3b6102d5",
   "metadata": {},
   "source": [
    "A straightforward way to implement a timer program is to write a loop that tracks the current time. Specifically, you can record the start time and compute the elapsed time as the difference between the current time and the start time. Unfortunately, the time returned by `localtime()` has the type `struct_time` that does not support the subtraction operation:"
   ]
  },
  {
   "cell_type": "code",
   "execution_count": null,
   "id": "e0cd017c",
   "metadata": {},
   "outputs": [],
   "source": [
    "%%optlite -l -h 500\n",
    "import time\n",
    "start = time.localtime()\n",
    "end = time.localtime()\n",
    "time_passed = end - start"
   ]
  },
  {
   "cell_type": "markdown",
   "id": "bdc1218a",
   "metadata": {},
   "source": [
    "The solution is to call `time()` (or `time_ns()`) (with nanosecond precision), which returns the current time as a `float` (`int`) in seconds (nanoseconds) with microsecond (nanosecond) precision:"
   ]
  },
  {
   "cell_type": "code",
   "execution_count": null,
   "id": "a98f006e",
   "metadata": {},
   "outputs": [],
   "source": [
    "time.time(), type(time.time())"
   ]
  },
  {
   "cell_type": "code",
   "execution_count": null,
   "id": "0571b3de",
   "metadata": {},
   "outputs": [],
   "source": [
    "time.time_ns(), type(time.time_ns())"
   ]
  },
  {
   "cell_type": "markdown",
   "id": "077457d4",
   "metadata": {},
   "source": [
    "For linux, the above numbers are the number of seconds and nanoseconds elapsed after the [unix epoch](https://en.wikipedia.org/wiki/Unix_time):"
   ]
  },
  {
   "cell_type": "code",
   "execution_count": null,
   "id": "c93f37c2",
   "metadata": {},
   "outputs": [],
   "source": [
    "print(\"Unix epoch in local time:\", time.asctime(time.localtime(0)))"
   ]
  },
  {
   "cell_type": "markdown",
   "id": "9680de24",
   "metadata": {},
   "source": [
    "Hence, the current local time can also be obtained by passing `time()` as an argument to `localtime`:"
   ]
  },
  {
   "cell_type": "code",
   "execution_count": null,
   "id": "1ef8fdbf",
   "metadata": {},
   "outputs": [],
   "source": [
    "print(\"Current local time:\", time.asctime(time.localtime(time.time())))"
   ]
  },
  {
   "cell_type": "markdown",
   "id": "cdd776c6",
   "metadata": {},
   "source": [
    "The following is an implementation of timer using a while loop that returns (`None`) after a number of nanoseconds specified by the input argument `nanosecs`:"
   ]
  },
  {
   "cell_type": "code",
   "execution_count": null,
   "id": "c95509e5",
   "metadata": {},
   "outputs": [],
   "source": [
    "def timer_ns(nanosecs):\n",
    "    start = time.time_ns()\n",
    "    while time.time_ns() - start <= nanosecs:\n",
    "        pass\n",
    "\n",
    "\n",
    "timer_ns(nanosecs := int(input(\"How many nanoseconds to wait?\") or 1e9))\n",
    "print(f\"Time's up after {nanosecs}ns!\")"
   ]
  },
  {
   "cell_type": "markdown",
   "id": "215a30da",
   "metadata": {},
   "source": [
    "::::{exercise}\n",
    ":label: ex:timeit\n",
    "\n",
    "Implement the following function `timeit` that measures the *average* running time in *nanoseconds* of executing given piece of code over multiple runs. `code` is a string containing the code to be executed, and `n` is the number of times to execute the code. Use `exec` to execute `code` and the functions from `time` to compute the average time as accurately as possible.\n",
    "\n",
    "::::"
   ]
  },
  {
   "cell_type": "code",
   "execution_count": null,
   "id": "88c10a3f",
   "metadata": {
    "deletable": false,
    "nbgrader": {
     "cell_type": "code",
     "checksum": "34ad208030652edb7c8af086e55c9c24",
     "grade": false,
     "grade_id": "timeit",
     "locked": false,
     "schema_version": 3,
     "solution": true,
     "task": false
    }
   },
   "outputs": [],
   "source": [
    "def timeit(code, n):\n",
    "    # YOUR CODE HERE\n",
    "    raise NotImplementedError\n",
    "    return avg_run_time"
   ]
  },
  {
   "cell_type": "code",
   "execution_count": null,
   "id": "2a04b1f4",
   "metadata": {
    "deletable": false,
    "editable": false,
    "nbgrader": {
     "cell_type": "code",
     "checksum": "2c99e4cc1fe0188a8c487830a9bfc675",
     "grade": true,
     "grade_id": "test-timeit",
     "locked": true,
     "points": 0,
     "schema_version": 3,
     "solution": false,
     "task": false
    }
   },
   "outputs": [],
   "source": [
    "# tests\n",
    "assert math.isclose(timeit(f\"timer_ns({(ns:=3*10**6)})\", 5), ns, abs_tol=1e6)\n",
    "assert math.isclose(timeit(f\"timer_ns({(ns:=2*10**6)})\", 10), ns, abs_tol=1e6)\n",
    "assert math.isclose(timeit(f\"timer_ns({(ns:=10**6)})\", 15), ns, abs_tol=1e6)"
   ]
  },
  {
   "cell_type": "markdown",
   "id": "54e87e1e",
   "metadata": {},
   "source": [
    "## Sleeping"
   ]
  },
  {
   "cell_type": "markdown",
   "id": "024e5ff7",
   "metadata": {},
   "source": [
    "Can we use `timer_ns` to implement an alarm clock? An example is as follows:"
   ]
  },
  {
   "cell_type": "code",
   "execution_count": null,
   "id": "603e5269",
   "metadata": {},
   "outputs": [],
   "source": [
    "def alarm(secs):\n",
    "    timer_ns(secs*1e9)\n",
    "    print(f\"Time's up after {secs}s!\")\n",
    "\n",
    "\n",
    "alarm(secs:=int(input(\"How many seconds to wait?\") or 1))"
   ]
  },
  {
   "cell_type": "markdown",
   "id": "966adbfb",
   "metadata": {},
   "source": [
    "While the program appears to work, it is computationally intensive as it keeps the computer busy checking the looping condition:"
   ]
  },
  {
   "cell_type": "code",
   "execution_count": null,
   "id": "3230b7e4",
   "metadata": {},
   "outputs": [],
   "source": [
    "with cProfile.Profile() as pr:\n",
    "    alarm(0.001)\n",
    "    pr.print_stats()"
   ]
  },
  {
   "cell_type": "markdown",
   "id": "dfe8bf56",
   "metadata": {},
   "source": [
    "As the profiler shows, `time()` is called over thousands of time as the timer waited for 1 millisecond. This is called [*busy waiting or spinning*](https://en.wikipedia.org/wiki/Busy_waiting), and is regarded as an anti-pattern that is not recommended unless you want an accuracy better than milliseconds."
   ]
  },
  {
   "cell_type": "markdown",
   "id": "57aeeacf",
   "metadata": {},
   "source": [
    "::::{seealso} What is a profiler?\n",
    ":class: dropdown\n",
    "\n",
    "[`cProfile` module](https://docs.python.org/3/library/profile.html) is a tool to profile a piece of code specified as the body of the [`with` statement](https://docs.python.org/3/reference/compound_stmts.html#the-with-statement) to measure where time is being spent for executing different functions.\n",
    "\n",
    "::::"
   ]
  },
  {
   "cell_type": "markdown",
   "id": "81277641",
   "metadata": {},
   "source": [
    "A better solution is to pause the execution for the specified number of seconds. This can be done using the [`sleep`](https://docs.python.org/3/library/time.html#time.sleep) function."
   ]
  },
  {
   "cell_type": "code",
   "execution_count": null,
   "id": "74a6fa27",
   "metadata": {},
   "outputs": [],
   "source": [
    "with cProfile.Profile() as pr:\n",
    "    time.sleep(0.001)\n",
    "    pr.print_stats()"
   ]
  },
  {
   "cell_type": "markdown",
   "id": "bb865547",
   "metadata": {},
   "source": [
    "Note that the number of function calls is much lower than before. The number of calls does not depend on the sleep duration either."
   ]
  },
  {
   "cell_type": "code",
   "execution_count": null,
   "id": "04acced1",
   "metadata": {},
   "outputs": [],
   "source": [
    "with cProfile.Profile() as pr:\n",
    "    time.sleep(0.0321)\n",
    "    pr.print_stats()"
   ]
  },
  {
   "cell_type": "markdown",
   "id": "35283ef4",
   "metadata": {},
   "source": [
    "::::{seealso} How can `time.sleep` pauses an execution without busy waiting for the specified time to pass?\n",
    ":class: dropdown\n",
    "\n",
    "The [`sleep`](https://docs.python.org/3/library/time.html#time.sleep) function utilizes operating system features to pause execution. Think of it like setting an alarm clock to wake you up in the morning, rather than constantly checking the time until morning arrives. In this analogy, the operating system acts as the alarm clock, using hardware timer interrupts to update the time and signal events such as a wake-up call.\n",
    "\n",
    "::::"
   ]
  },
  {
   "cell_type": "markdown",
   "id": "e73d935a",
   "metadata": {},
   "source": [
    "::::{exercise}\n",
    ":label: ex:alarm\n",
    "\n",
    "Complete the following function `alarm` to implement the alarm efficiently using the function `sleep`.\n",
    "\n",
    "::::"
   ]
  },
  {
   "cell_type": "code",
   "execution_count": null,
   "id": "959182fd",
   "metadata": {
    "deletable": false,
    "nbgrader": {
     "cell_type": "code",
     "checksum": "dd4aa91fef97542400077a638cae6429",
     "grade": false,
     "grade_id": "sleep",
     "locked": false,
     "schema_version": 3,
     "solution": true,
     "task": false
    }
   },
   "outputs": [],
   "source": [
    "def alarm(secs):\n",
    "    # YOUR CODE HERE\n",
    "    raise NotImplementedError\n",
    "    print(f\"Time's up after {secs}s!\")\n",
    "\n",
    "\n",
    "alarm(secs := int(input(\"How many seconds to wait?\") or 1))"
   ]
  },
  {
   "cell_type": "code",
   "execution_count": null,
   "id": "4ed0f8ec",
   "metadata": {
    "deletable": false,
    "editable": false,
    "nbgrader": {
     "cell_type": "code",
     "checksum": "0ef54ef2729ea9ecdac0fe327d783554",
     "grade": true,
     "grade_id": "test-sleep",
     "locked": true,
     "points": 0,
     "schema_version": 3,
     "solution": false,
     "task": false
    }
   },
   "outputs": [],
   "source": [
    "# tests\n",
    "assert math.isclose(-time.time() + (alarm(0.01) or time.time()), 0.01, abs_tol=1e-2)\n",
    "assert math.isclose(-time.time() + (alarm(0.02) or time.time()), 0.02, abs_tol=1e-2)\n",
    "with cProfile.Profile() as pr:\n",
    "    assert math.isclose(-time.time() + (alarm(0.03) or time.time()), 0.03, abs_tol=1e-2)\n",
    "    ps = pstats.Stats(pr)\n",
    "assert ps.total_calls < 100"
   ]
  },
  {
   "cell_type": "markdown",
   "id": "19496adc",
   "metadata": {},
   "source": [
    "## Multiprocessing"
   ]
  },
  {
   "cell_type": "markdown",
   "id": "5ff66d6b",
   "metadata": {},
   "source": [
    "The following program implements a digital clock. Run and press <kbd>Enter</kbd> to start the clock:"
   ]
  },
  {
   "cell_type": "code",
   "execution_count": null,
   "id": "3a54bf54",
   "metadata": {},
   "outputs": [],
   "source": [
    "def clock():\n",
    "    while True:\n",
    "        print(time.asctime(time.localtime()), end='\\r', flush=True)\n",
    "        time.sleep(0.5)  # why not 1?\n",
    "\n",
    "\n",
    "if input(\"Start the clock? [Y/n]\").lower() != \"n\":\n",
    "    try:\n",
    "        clock()\n",
    "    except KeyboardInterrupt:  # used to stop the clock\n",
    "        print(\"\\nClock stopped.\")"
   ]
  },
  {
   "cell_type": "markdown",
   "id": "5ed05c70",
   "metadata": {},
   "source": [
    "::::{caution} How to stop the clock?\n",
    ":class: dropdown\n",
    "\n",
    "Ouch! That is an infinite loop! No worry, press the keyboard interrupt (&#9632; or <kbd>I, I</kbd>) to stop the clock. No error raised.\n",
    "\n",
    "::::"
   ]
  },
  {
   "cell_type": "markdown",
   "id": "7e6efd8a",
   "metadata": {},
   "source": [
    "Infinite loops are not inherently bad. In fact, your computer constantly runs an infinite loop to allow you to control it until you power it down."
   ]
  },
  {
   "cell_type": "markdown",
   "id": "efb2b42f",
   "metadata": {},
   "source": [
    "What is not good about the implementation of `clock` is that it is *blocking*, i.e., executing the code prevents executing any other code until it completes. To avoid blocking, operating systems allow multiple tasks to run concurrently without blocking each other."
   ]
  },
  {
   "cell_type": "code",
   "execution_count": null,
   "id": "1ee8ce77",
   "metadata": {},
   "outputs": [],
   "source": [
    "clock_process = multiprocessing.Process(target=clock)\n",
    "clock_process.start()\n",
    "clock_process"
   ]
  },
  {
   "cell_type": "markdown",
   "id": "03bf2e00",
   "metadata": {},
   "source": [
    "We can continue to execute other codes. E.g., to list all the processes along with their CPU and memory usage:"
   ]
  },
  {
   "cell_type": "code",
   "execution_count": null,
   "id": "f8c64bb4",
   "metadata": {},
   "outputs": [],
   "source": [
    "def ps():\n",
    "    !ps -eH -o pid,%cpu,%mem,command | awk '{{if($$1=={clock_process.pid}) print \"\\033[1;31m\" $$0 \"\\033[0m\"; else print $$0}}'\n",
    "ps()"
   ]
  },
  {
   "cell_type": "markdown",
   "id": "71bb62ad",
   "metadata": {},
   "source": [
    "To terminate the process:"
   ]
  },
  {
   "cell_type": "code",
   "execution_count": null,
   "id": "7c018a2b",
   "metadata": {},
   "outputs": [],
   "source": [
    "clock_process.terminate()\n",
    "ps()"
   ]
  },
  {
   "cell_type": "markdown",
   "id": "f0db3a8b",
   "metadata": {},
   "source": [
    "The terminated process is a *zombie* process which remains in the process table entry until its parent process reads the status as follows:"
   ]
  },
  {
   "cell_type": "code",
   "execution_count": null,
   "id": "55dba340",
   "metadata": {},
   "outputs": [],
   "source": [
    "clock_process.join()\n",
    "ps()"
   ]
  },
  {
   "cell_type": "code",
   "execution_count": null,
   "id": "1380aa41",
   "metadata": {},
   "outputs": [],
   "source": [
    "clock_process.join()\n",
    "ps()"
   ]
  },
  {
   "cell_type": "markdown",
   "id": "f5b79071",
   "metadata": {},
   "source": [
    "In this lab, you will implement a timer by writing infinite loops. Infinite loops are not inherently bad. In fact, your computer constantly runs an infinite loop to allow you to control it until you power it down."
   ]
  },
  {
   "cell_type": "markdown",
   "id": "6a7c1d27",
   "metadata": {},
   "source": [
    "::::{exercise}\n",
    ":label: ex:multiprocess\n",
    "\n",
    "Complete the function `alarm_bg(secs)` to return a process object that runs the `alarm` function you previously implemented in [](#ex:alarm) with the argument given by the value of `secs`.\n",
    "\n",
    "::::"
   ]
  },
  {
   "cell_type": "code",
   "execution_count": null,
   "id": "aee89868",
   "metadata": {
    "deletable": false,
    "nbgrader": {
     "cell_type": "code",
     "checksum": "6d5bceeeebf003cf8926c50933626094",
     "grade": false,
     "grade_id": "alarm_bg",
     "locked": false,
     "schema_version": 3,
     "solution": true,
     "task": false
    }
   },
   "outputs": [],
   "source": [
    "def alarm_bg(secs):\n",
    "    # YOUR CODE HERE\n",
    "    raise NotImplementedError\n",
    "    return process\n",
    "\n",
    "\n",
    "process = alarm_bg(secs := int(input(\"How many seconds to wait?\") or 1))\n",
    "process.start()\n",
    "print(\"Alarm started\", end=\"\", flush=True)\n",
    "while process.is_alive():\n",
    "    print(\".\", end=\"\", flush=True)\n",
    "    time.sleep(0.1)"
   ]
  },
  {
   "cell_type": "code",
   "execution_count": null,
   "id": "88795696",
   "metadata": {
    "deletable": false,
    "editable": false,
    "nbgrader": {
     "cell_type": "code",
     "checksum": "640bfde46b98eab9cb8d4ea0f183f69e",
     "grade": true,
     "grade_id": "test-alarm_bg",
     "locked": true,
     "points": 0,
     "schema_version": 3,
     "solution": false,
     "task": false
    }
   },
   "outputs": [],
   "source": [
    "# tests\n",
    "alarm_process = alarm_bg(0.1)\n",
    "alarm_process.start()\n",
    "i = 0\n",
    "while alarm_process.is_alive():\n",
    "    i += 1\n",
    "    time.sleep(0.001)\n",
    "assert math.isclose(i/100, 1, rel_tol=1e-1)"
   ]
  },
  {
   "cell_type": "markdown",
   "id": "9a18d4b6",
   "metadata": {},
   "source": [
    "## Threading"
   ]
  },
  {
   "cell_type": "markdown",
   "id": "8649fe0b",
   "metadata": {},
   "source": [
    "The following is a better implementation of the clock:"
   ]
  },
  {
   "cell_type": "code",
   "execution_count": null,
   "id": "0f3e0616",
   "metadata": {},
   "outputs": [],
   "source": [
    "def clock_widget():\n",
    "    while not stop_event.is_set():\n",
    "        clock_display.value = time.asctime(time.localtime())\n",
    "        time.sleep(1)\n",
    "\n",
    "\n",
    "def stop_clock(button):\n",
    "    stop_event.set()\n",
    "    clock_thread.join()\n",
    "\n",
    "\n",
    "clock_display = widgets.Label()\n",
    "clock_display.style.font_size = \"2em\"\n",
    "stop_button = widgets.Button(description=\"Stop\")\n",
    "stop_button.on_click(stop_clock)\n",
    "stop_event = threading.Event()\n",
    "clock_thread = threading.Thread(target=clock_widget)\n",
    "clock_thread.start()\n",
    "display(clock_display, stop_button)"
   ]
  },
  {
   "cell_type": "markdown",
   "id": "75467ec8",
   "metadata": {},
   "source": [
    "With `ipywidgets`, we have styled the clock to have a larger font size. Additionally, the clock's execution is non-blocking and can be stopped by pressing the `Stop` button."
   ]
  },
  {
   "cell_type": "markdown",
   "id": "cf3381a6",
   "metadata": {},
   "source": [
    "::::{code} python\n",
    ":label: code:clock_thread\n",
    ":caption: A clock running in a separate thread.\n",
    ":linenos:\n",
    ":emphasize-lines: 2, 8, 16, 17\n",
    "def clock_widget():\n",
    "    while not stop_event.is_set():\n",
    "        clock_display.value = time.asctime(time.localtime())\n",
    "        time.sleep(1)\n",
    "\n",
    "\n",
    "def stop_clock(button):\n",
    "    stop_event.set()\n",
    "    clock_thread.join()\n",
    "\n",
    "\n",
    "clock_display = widgets.Label()\n",
    "clock_display.style.font_size = \"2em\"\n",
    "stop_button = widgets.Button(description=\"Stop\")\n",
    "stop_button.on_click(stop_clock)\n",
    "stop_event = threading.Event()\n",
    "clock_thread = threading.Thread(target=clock_widget)\n",
    "clock_thread.start()\n",
    "display(clock_display, stop_button)\n",
    "\n",
    "::::"
   ]
  },
  {
   "cell_type": "markdown",
   "id": "db9379d5",
   "metadata": {},
   "source": [
    "Note that threading is used instead of multiprocessing to make the execution non-blocking:\n",
    "\n",
    "::::{code} python\n",
    ":linenos:\n",
    ":emphasize-lines: 2, 8, 16, 17\n",
    ":lineno-start: 16\n",
    "...\n",
    "clock_thread = threading.Thread(target=clock_widget)\n",
    "...\n",
    "::::\n",
    "\n",
    "The operating system can run multiple tasks as separate threads within the same process, allowing them to share the same memory space. This is crucial because `ipywidgets` involves complex interactions between the main thread running the Jupyter Notebook and the thread running the clock. In contrast, multiple processes do not share the same memory space, making inter-process communication more complex and resource-intensive."
   ]
  },
  {
   "cell_type": "markdown",
   "id": "250fc210",
   "metadata": {},
   "source": [
    "Unlike `multiprocessing`, `threading` does not provide a `terminate` function to end a thread, as doing so may corrupt the memory shared with the main thread. To properly stop a thread, the code sets a `stop_event`:\n",
    "\n",
    "::::{code} python\n",
    ":linenos:\n",
    ":emphasize-lines: 2, 8, 16, 17, 18\n",
    ":lineno-start: 7\n",
    "...\n",
    "    stop_event.set()\n",
    "    ...\n",
    "::::\n",
    "\n",
    "The status of the event is checked by the looping condition of the clock thread:\n",
    "\n",
    "::::{code} python\n",
    ":linenos:\n",
    ":emphasize-lines: 2, 8, 16, 17, 18\n",
    ":lineno-start: 7\n",
    "...\n",
    "    while not stop_event.is_set():\n",
    "        ...\n",
    "::::\n",
    "\n",
    "This ensures that the thread can terminate gracefully without affecting the shared memory integrity."
   ]
  },
  {
   "cell_type": "markdown",
   "id": "f2adb994",
   "metadata": {
    "deletable": false,
    "editable": false,
    "nbgrader": {
     "cell_type": "markdown",
     "checksum": "2eb8ef4093638d2f36629417777e1657",
     "grade": false,
     "grade_id": "alarm_widget",
     "locked": true,
     "points": 0,
     "schema_version": 3,
     "solution": false,
     "task": true
    }
   },
   "source": [
    "::::{exercise}\n",
    ":label: ex:alarm_thread\n",
    "\n",
    "Write an alarm clock in jupyter notebook similar to the [one written using javascript](https://www.cs.cityu.edu.hk/~ccha23/timer) below:\n",
    "\n",
    "::::"
   ]
  },
  {
   "cell_type": "code",
   "execution_count": null,
   "id": "e35a2814",
   "metadata": {},
   "outputs": [],
   "source": [
    "!ln -sf $(pwd) ~/www/\n",
    "url = f\"{os.getenv('JUPYTERHUB_BASE_URL')}hub/user-redirect/www/Lab4/\"\n",
    "IFrame(url, width=\"100%\", height=600)"
   ]
  }
 ],
 "metadata": {
  "kernelspec": {
   "display_name": "Python 3 (ipykernel)",
   "language": "python",
   "name": "python3"
  }
 },
 "nbformat": 4,
 "nbformat_minor": 5
}
