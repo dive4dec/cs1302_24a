{
 "cells": [
  {
   "cell_type": "markdown",
   "id": "87cfa2cf",
   "metadata": {
    "slideshow": {
     "slide_type": "slide"
    }
   },
   "source": [
    "---\n",
    "title: Big Number Conversion\n",
    "---"
   ]
  },
  {
   "cell_type": "code",
   "execution_count": null,
   "id": "87160e4b",
   "metadata": {},
   "outputs": [],
   "source": [
    "from __init__ import install_dependencies\n",
    "\n",
    "await install_dependencies()"
   ]
  },
  {
   "cell_type": "code",
   "execution_count": null,
   "id": "57937df6",
   "metadata": {},
   "outputs": [],
   "source": [
    "from inspect import getsource\n",
    "from math import floor, log2\n",
    "\n",
    "import numpy as np\n",
    "from ipywidgets import interact\n",
    "\n",
    "%reload_ext divewidgets"
   ]
  },
  {
   "cell_type": "markdown",
   "id": "73abe172",
   "metadata": {},
   "source": [
    "An `int` can be arbitrary large because it is represented similarly to a string of digits. More precisely, as shown in the [source code][PyLong], an integer consists of a collection of fixed-length unsigned integers to store the digits, along with another unsigned integer to store the number of digits, sign and other flags.[^max-int] Integer operations such as subtraction often has to iterate through all the digits, as shown in the [code][x_sub].[^2s-complement]\n",
    "\n",
    "[PyLong]: https://github.com/python/cpython/blob/6810928927e4d12d9a5dd90e672afb096882b730/Include/cpython/longintrepr.h#L64\n",
    "[MAX_LONG_DIGITS]: https://github.com/python/cpython/blob/6810928927e4d12d9a5dd90e672afb096882b730/Objects/longobject.c#L159\n",
    "[x_sub]: https://github.com/python/cpython/blob/6810928927e4d12d9a5dd90e672afb096882b730/Objects/longobject.c#L3696\n",
    "[a+(-b)]: https://github.com/python/cpython/blob/6810928927e4d12d9a5dd90e672afb096882b730/Objects/longobject.c#L3775\n",
    "[^max-int]: The reality is that `int` still has a maximum. This is because the number of digits is stored using an unsigned integer of fixed size! (See the [source code][MAX_LONG_DIGITS].)\n",
    "[^2s-complement]: Note that the code implements the subtraction $a-b$ for non-negative integers $a$ and $b$ directly. It does not resort to addition $a+(-b)$ using the 2's complement representation of $(-b)$. In fact, the addition $a+(-b)$ is actually converted to $a-b$ as shown in [here in the code][a+(-b)]."
   ]
  },
  {
   "cell_type": "markdown",
   "id": "96ed6a35",
   "metadata": {
    "slideshow": {
     "slide_type": "subslide"
    }
   },
   "source": [
    "Similarly in this notebook, we will use iterations to convert non-negative integers with arbitrary size."
   ]
  },
  {
   "cell_type": "markdown",
   "id": "829767c2",
   "metadata": {
    "slideshow": {
     "slide_type": "slide"
    }
   },
   "source": [
    "## Conversion to Decimal"
   ]
  },
  {
   "cell_type": "markdown",
   "id": "b61bfdf0",
   "metadata": {
    "slideshow": {
     "slide_type": "subslide"
    }
   },
   "source": [
    "### Binary-to-Decimal"
   ]
  },
  {
   "cell_type": "markdown",
   "id": "6609e011",
   "metadata": {
    "slideshow": {
     "slide_type": "fragment"
    }
   },
   "source": [
    "In a previous lab, we considered converting a byte string to decimal. What about converting a binary string of arbitrary length to decimal?"
   ]
  },
  {
   "cell_type": "markdown",
   "id": "cb966338",
   "metadata": {},
   "source": [
    "The simplest way is to use `int` constructor:"
   ]
  },
  {
   "cell_type": "code",
   "execution_count": null,
   "id": "299bfdb8",
   "metadata": {},
   "outputs": [],
   "source": [
    "int(\"0\" * 4 + \"1\" * 4, base=2)"
   ]
  },
  {
   "cell_type": "markdown",
   "id": "613f09ce",
   "metadata": {},
   "source": [
    "**But how is `int` constructor implemented?**"
   ]
  },
  {
   "cell_type": "markdown",
   "id": "7a200e59",
   "metadata": {
    "slideshow": {
     "slide_type": "subslide"
    }
   },
   "source": [
    "::::{prf:definition} Binary numbers\n",
    ":label: def:binary\n",
    "\n",
    "Given a binary sequence of an arbitrarily length $k$,\n",
    "\n",
    "$$ \n",
    "b_{k-1}\\circ \\dots \\circ b_1\\circ b_0,\n",
    "$$\n",
    "\n",
    "where $b_i\\in \\{0,1\\}$ for $i\\in \\{0, \\dots, k-1\\}$, the decimal number is given by the formula\n",
    "\n",
    "$$\n",
    "2^0 \\cdot b_0 + 2^1 \\cdot b_1 + \\dots + 2^{k-1} \\cdot b_{k-1}.\n",
    "$$ (eq:b2d:1)\n",
    "\n",
    "::::"
   ]
  },
  {
   "cell_type": "markdown",
   "id": "7b26d54d",
   "metadata": {
    "slideshow": {
     "slide_type": "fragment"
    }
   },
   "source": [
    "In mathematics, we use the [summation](https://en.wikipedia.org/wiki/Summation) notation to write the above formula {eq}`eq:b2d:1` concisely as\n",
    "\n",
    "$$ \n",
    "\\sum_{i=0}^{k-1} 2^i \\cdot b_i,\n",
    "$$ (eq:b2d:2)\n",
    "\n",
    "i.e., the sum of $2^i \\cdot b_i$ for $i$ taking an integer value from $0$ to $k-1$."
   ]
  },
  {
   "cell_type": "markdown",
   "id": "430c1df1",
   "metadata": {
    "slideshow": {
     "slide_type": "subslide"
    }
   },
   "source": [
    "This can be implemented using a `for` loop:"
   ]
  },
  {
   "cell_type": "code",
   "execution_count": null,
   "id": "55dfe3bc",
   "metadata": {},
   "outputs": [],
   "source": [
    "def binary_to_decimal_v1(binary_str):\n",
    "    k = len(binary_str)\n",
    "    decimal = 0  # initialization\n",
    "    for i in range(k):  # iteration\n",
    "        decimal += 2**i * (1 if binary_str[(k - 1) - i] == \"1\" else 0)\n",
    "    return decimal\n",
    "\n",
    "\n",
    "binary_to_decimal_v1(\"0\" * 4 + \"1\" * 4)"
   ]
  },
  {
   "cell_type": "markdown",
   "id": "9b837b9a",
   "metadata": {},
   "source": [
    "::::{attention}\n",
    "In the above implementation, \n",
    "\n",
    "```python\n",
    "1 if binary_str[(k - 1) - i] == \"1\" else 0\n",
    "```\n",
    "\n",
    "is to avoid using `int` as in `int(binary_str[(k - 1) - i])`.\n",
    "::::"
   ]
  },
  {
   "cell_type": "markdown",
   "id": "f1a924d5",
   "metadata": {
    "slideshow": {
     "slide_type": "fragment"
    }
   },
   "source": [
    "Note that $b_i$ is given by `binary_str[(k-1)-i]` for different index `i` as shown below:\n",
    "\n",
    "$$\n",
    "\\begin{array}{c|c:c:c:c|}\n",
    "\\texttt{binary\\_str} & b_{k-1} & b_{k-2} & \\dots & b_0\\\\ \\text{indexing} & [0] & [1] & \\dots & [k-1] \n",
    "\\end{array}\n",
    "$$"
   ]
  },
  {
   "cell_type": "markdown",
   "id": "27b54773",
   "metadata": {
    "slideshow": {
     "slide_type": "subslide"
    }
   },
   "source": [
    "The following is another way to write the `for` loop."
   ]
  },
  {
   "cell_type": "code",
   "execution_count": null,
   "id": "ea35796e",
   "metadata": {},
   "outputs": [],
   "source": [
    "def binary_to_decimal_v2(binary_str):\n",
    "    decimal = 0  # initialization\n",
    "    for bit in binary_str:\n",
    "        decimal = decimal * 2 + (1 if bit == \"1\" else 0)  # iteration\n",
    "    return decimal\n",
    "\n",
    "\n",
    "binary_to_decimal_v2(\"0\" * 4 + \"1\" * 4)"
   ]
  },
  {
   "cell_type": "markdown",
   "id": "7af72d39",
   "metadata": {
    "slideshow": {
     "slide_type": "fragment"
    }
   },
   "source": [
    "The algorithm implements the same formula factorized as follows:\n",
    "\n",
    "$$\n",
    "\\begin{aligned} \\sum_{i=0}^{k-1} 2^i \\cdot b_{i} \n",
    "&=  \\left(\\sum_{i=1}^{k-1} 2^i \\cdot b_{i}\\right) + b_0\\\\\n",
    "&=  \\left(\\sum_{i=1}^{k-1} 2^{i-1} \\cdot b_{i}\\right)\\times 2 + b_0 \\\\\n",
    "&=  \\left(\\sum_{j=0}^{k-2} 2^{j} \\cdot b_{j+1}\\right)\\times 2 + b_0 && \\text{with $j=i-1$} \\\\\n",
    "&= \\underbrace{(\\dots (\\underbrace{(\\underbrace{\\overbrace{0}^{\\text{initialization}\\kern-2em}\\times 2 + b_{k-1}}_{\\text{first iteration} }) \\times 2 + b_{k-2}}_{\\text{second iteration} }) \\dots )\\times 2 + b_0}_{\\text{last iteration} }.\\end{aligned}\n",
    "$$ (eq:b2d:3)\n",
    "\n",
    "\n",
    "\n",
    "::::{exercise} efficiency\n",
    ":label: ex:efficiency\n",
    "\n",
    "Explain whether `binary_to_decimal_v1` or `binary_to_decimal_v2` runs faster?\n",
    "\n",
    "::::"
   ]
  },
  {
   "cell_type": "markdown",
   "id": "70e39289",
   "metadata": {
    "deletable": false,
    "nbgrader": {
     "cell_type": "markdown",
     "checksum": "9897dd07232ee42355f5faf5bae09d3b",
     "grade": true,
     "grade_id": "efficiency",
     "locked": false,
     "points": 1,
     "schema_version": 3,
     "solution": true,
     "task": false
    }
   },
   "source": [
    "YOUR ANSWER HERE"
   ]
  },
  {
   "cell_type": "markdown",
   "id": "46a322ac",
   "metadata": {
    "slideshow": {
     "slide_type": "subslide"
    }
   },
   "source": [
    "::::{exercise} binary-to-decimal conversion\n",
    ":label: ex:binary-to-decimal \n",
    "\n",
    "Write your own converter `binary_to_decimal` below using a `while` loop instead of a `for` loop. \n",
    "\n",
    ":::{important}\n",
    "\n",
    "Your code should contain `while` but NOT `for` nor `int`.\n",
    ":::\n",
    "\n",
    "::::"
   ]
  },
  {
   "cell_type": "code",
   "execution_count": null,
   "id": "57c831ba",
   "metadata": {
    "deletable": false,
    "nbgrader": {
     "cell_type": "code",
     "checksum": "3df33bfb82a5b3526e51317d03161061",
     "grade": false,
     "grade_id": "binary_to_decimal",
     "locked": false,
     "schema_version": 3,
     "solution": true,
     "task": false
    },
    "slideshow": {
     "slide_type": "-"
    },
    "tags": [
     "remove-output"
    ]
   },
   "outputs": [],
   "source": [
    "def binary_to_decimal(binary_str):\n",
    "    k = len(binary_str)\n",
    "    decimal = 0\n",
    "    # YOUR CODE HERE\n",
    "    raise NotImplementedError\n",
    "    return decimal"
   ]
  },
  {
   "cell_type": "code",
   "execution_count": null,
   "id": "811d73d3",
   "metadata": {
    "code_folding": [
     0
    ],
    "deletable": false,
    "editable": false,
    "nbgrader": {
     "cell_type": "code",
     "checksum": "26c0d89e6aee51ab748b8f4c2e4aede5",
     "grade": true,
     "grade_id": "test-binary_to_decimal",
     "locked": true,
     "points": 1,
     "schema_version": 3,
     "solution": false,
     "task": false
    },
    "slideshow": {
     "slide_type": "-"
    },
    "tags": [
     "hide-input",
     "remove-output"
    ]
   },
   "outputs": [],
   "source": [
    "# test validity\n",
    "assert getsource(binary_to_decimal).find(\"for\") < 0  # no for\n",
    "assert getsource(binary_to_decimal).find(\"int\") < 0  # no int\n",
    "assert getsource(binary_to_decimal).find(\"while\") > 0  # use while\n",
    "\n",
    "# tests\n",
    "def test_binary_to_decimal(decimal, binary_str):\n",
    "    decimal_ = binary_to_decimal(binary_str)\n",
    "    correct = isinstance(decimal_, int) and decimal_ == decimal\n",
    "    if not correct:\n",
    "        print(f\"{binary_str} should give {decimal} not {decimal_}.\")\n",
    "    assert correct\n",
    "\n",
    "\n",
    "test_binary_to_decimal(0, \"0\")\n",
    "test_binary_to_decimal(255, \"11111111\")\n",
    "test_binary_to_decimal(52154, \"1100101110111010\")\n",
    "test_binary_to_decimal(3430, \"110101100110\")"
   ]
  },
  {
   "cell_type": "code",
   "execution_count": null,
   "id": "7ecfb256",
   "metadata": {
    "code_folding": [
     0
    ],
    "deletable": false,
    "editable": false,
    "nbgrader": {
     "cell_type": "code",
     "checksum": "4021762033790ce89b1b10c76cbe7dae",
     "grade": true,
     "grade_id": "hidden_test-binary_to_decimal",
     "locked": true,
     "points": 1,
     "schema_version": 3,
     "solution": false,
     "task": false
    },
    "tags": [
     "remove-cell"
    ]
   },
   "outputs": [],
   "source": [
    "# hidden tests"
   ]
  },
  {
   "cell_type": "code",
   "execution_count": null,
   "id": "0ac13458",
   "metadata": {
    "code_folding": [
     0
    ],
    "slideshow": {
     "slide_type": "-"
    },
    "tags": [
     "remove-output"
    ]
   },
   "outputs": [],
   "source": [
    "# binary-to-decimal converter\n",
    "from ipywidgets import interact\n",
    "\n",
    "bits = [\"0\", \"1\"]\n",
    "\n",
    "\n",
    "@interact(binary_str=\"1011\")\n",
    "def convert_byte_to_decimal(binary_str):\n",
    "    for bit in binary_str:\n",
    "        if bit not in bits:\n",
    "            print(\"Not a binary string.\")\n",
    "            break\n",
    "    else:\n",
    "        print(\"decimal:\", binary_to_decimal(binary_str))"
   ]
  },
  {
   "cell_type": "markdown",
   "id": "5093dcd9",
   "metadata": {
    "slideshow": {
     "slide_type": "slide"
    }
   },
   "source": [
    "### Undecimal-to-Decimal"
   ]
  },
  {
   "cell_type": "markdown",
   "id": "6a893956",
   "metadata": {
    "slideshow": {
     "slide_type": "fragment"
    }
   },
   "source": [
    "A base-11 number system is called an [undecimal system](https://en.wikipedia.org/wiki/Undecimal). The digits range from 0 to 10 with 10 denoted as X:\n",
    "\n",
    "$$\n",
    "0, 1, 2, 3, 4, 5, 6, 7, 8, 9, X.\n",
    "$$\n",
    "\n",
    "For example, the [International Standard Book Number (ISBN)](https://en.wikipedia.org/wiki/International_Standard_Book_Number) uses an undecimal digit."
   ]
  },
  {
   "cell_type": "markdown",
   "id": "6287931c",
   "metadata": {
    "slideshow": {
     "slide_type": "subslide"
    }
   },
   "source": [
    "::::{exercise} undecimal-to-decimal conversion\n",
    ":label: ex:undecimal-to-decimal\n",
    "\n",
    "In the following code, assign to `decimal` the integer represented by an undecimal string of arbitrary length.\n",
    "\n",
    ":::{important}\n",
    "\n",
    "Your code should NOT contain `int`. You may assume `undecimal_str` is valid undecimal string consisting of characters from \"0123456789X\".\n",
    ":::\n",
    "\n",
    "::::"
   ]
  },
  {
   "cell_type": "code",
   "execution_count": null,
   "id": "8509abfc",
   "metadata": {
    "deletable": false,
    "nbgrader": {
     "cell_type": "code",
     "checksum": "a4818fd84b121f3cf2becada33310ebd",
     "grade": false,
     "grade_id": "undecimal_to_decimal",
     "locked": false,
     "schema_version": 3,
     "solution": true,
     "task": false
    },
    "slideshow": {
     "slide_type": "subslide"
    },
    "tags": [
     "remove-output"
    ]
   },
   "outputs": [],
   "source": [
    "def undecimal_to_decimal(undecimal_str):\n",
    "    # YOUR CODE HERE\n",
    "    raise NotImplementedError\n",
    "    return decimal"
   ]
  },
  {
   "cell_type": "code",
   "execution_count": null,
   "id": "1ff8850c",
   "metadata": {
    "code_folding": [
     0
    ],
    "deletable": false,
    "editable": false,
    "nbgrader": {
     "cell_type": "code",
     "checksum": "570730e9132d6058054fe66cc1dcf4b7",
     "grade": true,
     "grade_id": "test-undecimal_to_decimal",
     "locked": true,
     "points": 1,
     "schema_version": 3,
     "solution": false,
     "task": false
    },
    "slideshow": {
     "slide_type": "-"
    },
    "tags": [
     "hide-input",
     "remove-output"
    ]
   },
   "outputs": [],
   "source": [
    "# test validity\n",
    "assert getsource(undecimal_to_decimal).find(\"int\") < 0  # no int\n",
    "\n",
    "# tests\n",
    "def test_undecimal_to_decimal(decimal, undecimal_str):\n",
    "    decimal_ = undecimal_to_decimal(undecimal_str)\n",
    "    correct = isinstance(decimal_, int) and decimal_ == decimal\n",
    "    if not correct:\n",
    "        print(f\"{undecimal_str} should give {decimal} not {decimal_}.\")\n",
    "    assert correct\n",
    "\n",
    "\n",
    "test_undecimal_to_decimal(27558279079916281, \"6662X0X584839464\")\n",
    "test_undecimal_to_decimal(23022771839270, \"73769X2556695\")\n",
    "test_undecimal_to_decimal(161804347284488, \"476129248X2067\")"
   ]
  },
  {
   "cell_type": "code",
   "execution_count": null,
   "id": "db3df6ee",
   "metadata": {
    "code_folding": [
     0
    ],
    "deletable": false,
    "editable": false,
    "nbgrader": {
     "cell_type": "code",
     "checksum": "da072224351c55417d95cad1736e15af",
     "grade": true,
     "grade_id": "hidden_test-undecimal_to_decimal",
     "locked": true,
     "points": 1,
     "schema_version": 3,
     "solution": false,
     "task": false
    },
    "tags": [
     "remove-cell"
    ]
   },
   "outputs": [],
   "source": [
    "# hidden tests"
   ]
  },
  {
   "cell_type": "code",
   "execution_count": null,
   "id": "4fae2ad2",
   "metadata": {
    "code_folding": [
     0
    ],
    "slideshow": {
     "slide_type": "-"
    },
    "tags": [
     "remove-output"
    ]
   },
   "outputs": [],
   "source": [
    "# undecimal-to-decimal calculator\n",
    "undecimal_digits = [str(i) for i in range(10)] + [\"X\"]\n",
    "\n",
    "\n",
    "@interact(undecimal_str=\"X\")\n",
    "def convert_undecimal_to_decimal(undecimal_str):\n",
    "    for digit in undecimal_str:\n",
    "        if digit not in undecimal_digits:\n",
    "            print(\"Not an undecimal string.\")\n",
    "            break\n",
    "    else:\n",
    "        print(\"decimal:\", undecimal_to_decimal(undecimal_str))"
   ]
  },
  {
   "cell_type": "markdown",
   "id": "526078a5",
   "metadata": {
    "slideshow": {
     "slide_type": "slide"
    }
   },
   "source": [
    "## Conversion from Decimal"
   ]
  },
  {
   "cell_type": "markdown",
   "id": "e3be1aa5",
   "metadata": {
    "slideshow": {
     "slide_type": "fragment"
    }
   },
   "source": [
    "Consider the reverse process that converts a non-negative decimal number of arbitrary size to a string representation in another number system."
   ]
  },
  {
   "cell_type": "markdown",
   "id": "80e0f986",
   "metadata": {
    "slideshow": {
     "slide_type": "subslide"
    }
   },
   "source": [
    "### Decimal-to-Binary"
   ]
  },
  {
   "cell_type": "markdown",
   "id": "91a10883",
   "metadata": {
    "slideshow": {
     "slide_type": "subslide"
    }
   },
   "source": [
    "The following code converts a decimal number to a binary string."
   ]
  },
  {
   "cell_type": "markdown",
   "id": "0c145992",
   "metadata": {
    "slideshow": {
     "slide_type": "-"
    }
   },
   "source": [
    "```python\n",
    "def decimal_to_binary(decimal):\n",
    "    binary_str = str(decimal % 2)\n",
    "    while decimal // 2:\n",
    "        decimal //= 2\n",
    "        binary_str = str(decimal % 2) + binary_str\n",
    "    return binary_str\n",
    "```"
   ]
  },
  {
   "cell_type": "markdown",
   "id": "a477776a",
   "metadata": {
    "slideshow": {
     "slide_type": "fragment"
    }
   },
   "source": [
    "To understand the while loop, consider the same formula {eq}`eq:b2d:3`, where the braces indicate the value of `decimal` at different times:\n",
    "\n",
    "$$\n",
    "\\begin{aligned} \\sum_{i=0}^{k-1} 2^i \\cdot b_{i} &=  \\left(\\sum_{i=0}^{k-2} 2^{i-2} \\cdot b_{i-1}\\right)\\times 2 + b_0 \\\\\n",
    "&= \\underbrace{(\\underbrace{ \\dots (\\underbrace{(0\\times 2 + b_{k-1}) \\times 2 + b_{k-2}}_{\\text{right before the last iteration} }  )\\times 2 \\dots + b_1}_{\\text{right before the second iteration} })\\times 2 + b_0}_{\\text{right before the first iteration} }.\\end{aligned}\n",
    "$$"
   ]
  },
  {
   "cell_type": "markdown",
   "id": "6b95cfdd",
   "metadata": {
    "slideshow": {
     "slide_type": "fragment"
    }
   },
   "source": [
    "- $b_0$ is the remainder `decimal % 2` right before the first iteration,\n",
    "- $b_1$ is the remainder `decimal // 2 % 2` right before the second iteration, and\n",
    "- $b_{k-1}$ is the remainder `decimal // 2 % 2` right before the last iteration."
   ]
  },
  {
   "cell_type": "markdown",
   "id": "4f0b404f",
   "metadata": {
    "slideshow": {
     "slide_type": "fragment"
    }
   },
   "source": [
    "We can also write a for loop instead of a while loop:"
   ]
  },
  {
   "cell_type": "code",
   "execution_count": null,
   "id": "b5256684",
   "metadata": {
    "slideshow": {
     "slide_type": "-"
    }
   },
   "outputs": [],
   "source": [
    "def decimal_to_binary(decimal):\n",
    "    binary_str = \"\"\n",
    "    num_bits = 1 + (decimal and floor(log2(decimal)))\n",
    "    for i in range(num_bits):\n",
    "        binary_str = str(decimal % 2) + binary_str\n",
    "        decimal //= 2\n",
    "    return binary_str"
   ]
  },
  {
   "cell_type": "code",
   "execution_count": null,
   "id": "27fd6ef8",
   "metadata": {
    "code_folding": [
     0
    ],
    "slideshow": {
     "slide_type": "-"
    },
    "tags": [
     "remove-output"
    ]
   },
   "outputs": [],
   "source": [
    "# decimal-to-binary calculator\n",
    "@interact(decimal=\"11\")\n",
    "def convert_decimal_to_binary(decimal):\n",
    "    if not decimal.isdigit():\n",
    "        print(\"Not a non-negative integer.\")\n",
    "    else:\n",
    "        print(\"binary:\", decimal_to_binary(int(decimal)))"
   ]
  },
  {
   "cell_type": "markdown",
   "id": "2bb1b9e4",
   "metadata": {
    "slideshow": {
     "slide_type": "subslide"
    }
   },
   "source": [
    "::::{exercise} logical and\n",
    ":label: ex:logical-and\n",
    "\n",
    "Explain what the expression `1 + (decimal and floor(log2(decimal)))` calculates. In particular, explain the purpose of the logical `and` operation in the expression?\n",
    "\n",
    ":::{hint}\n",
    ":class: dropdown\n",
    "\n",
    "`floor(log2(decimal))` computes $\\lfloor \\log_2 (\\texttt{decimal})\\rfloor$, namely, the smallest integer no larger than the logarithm base 2 of some number `decimal`.\n",
    "- What happen when you run `floor(log2(decimal))` when `decimal` equals `0`?\n",
    "- How about `(decimal and floor(log2(decimal))` when `decimal` equals `0`? Apply the short-circuit evaluation rule.\n",
    "- What does `1 + (decimal and floor(log2(decimal)))` return when `decimal` is between $2^{\\ell} \\leq \\texttt{decimal} < 2^{\\ell + 1}$?\n",
    ":::\n",
    "\n",
    "::::"
   ]
  },
  {
   "cell_type": "markdown",
   "id": "73c2ccac",
   "metadata": {
    "deletable": false,
    "nbgrader": {
     "cell_type": "markdown",
     "checksum": "12d1969b35591f01fcf2478d720b06aa",
     "grade": true,
     "grade_id": "number-of-bits",
     "locked": false,
     "points": 1,
     "schema_version": 3,
     "solution": true,
     "task": false
    },
    "slideshow": {
     "slide_type": "-"
    }
   },
   "source": [
    "YOUR ANSWER HERE"
   ]
  },
  {
   "cell_type": "markdown",
   "id": "41d704d0",
   "metadata": {
    "slideshow": {
     "slide_type": "slide"
    }
   },
   "source": [
    "### Decimal-to-Undecimal"
   ]
  },
  {
   "cell_type": "markdown",
   "id": "3645f936",
   "metadata": {
    "slideshow": {
     "slide_type": "subslide"
    }
   },
   "source": [
    "::::{exercise} decimal-to-undecimal conversion\n",
    ":label: ex:decimal-to-undecimal\n",
    "\n",
    "Assign to `undecimal_str` the undecimal string that represents a non-negative integer `decimal` of any size.\n",
    "\n",
    "::::"
   ]
  },
  {
   "cell_type": "code",
   "execution_count": null,
   "id": "23c050c1",
   "metadata": {
    "code_folding": [],
    "deletable": false,
    "nbgrader": {
     "cell_type": "code",
     "checksum": "09e932b9afb183bdb3e1bbe41cf2a5b3",
     "grade": false,
     "grade_id": "decimal_to_undecimal",
     "locked": false,
     "schema_version": 3,
     "solution": true,
     "task": false
    },
    "slideshow": {
     "slide_type": "-"
    },
    "tags": [
     "remove-output"
    ]
   },
   "outputs": [],
   "source": [
    "def decimal_to_undecimal(decimal):\n",
    "    # YOUR CODE HERE\n",
    "    raise NotImplementedError\n",
    "    return undecimal_str"
   ]
  },
  {
   "cell_type": "code",
   "execution_count": null,
   "id": "2dae8fae",
   "metadata": {
    "code_folding": [
     0
    ],
    "deletable": false,
    "editable": false,
    "nbgrader": {
     "cell_type": "code",
     "checksum": "af7198d1334cca1f1b3e7cbef25622e4",
     "grade": true,
     "grade_id": "test-decimal_to_undecimal",
     "locked": true,
     "points": 1,
     "schema_version": 3,
     "solution": false,
     "task": false
    },
    "slideshow": {
     "slide_type": "-"
    },
    "tags": [
     "hide-input",
     "remove-output"
    ]
   },
   "outputs": [],
   "source": [
    "# tests\n",
    "def test_decimal_to_undecimal(undecimal, decimal):\n",
    "    undecimal_ = decimal_to_undecimal(decimal)\n",
    "    correct = isinstance(undecimal, str) and undecimal == undecimal_\n",
    "    if not correct:\n",
    "        print(\n",
    "            f\"{decimal} should be represented as the undecimal string {undecimal}, not {undecimal_}.\"\n",
    "        )\n",
    "    assert correct\n",
    "\n",
    "\n",
    "test_decimal_to_undecimal(\"X\", 10)\n",
    "test_decimal_to_undecimal(\"0\", 0)\n",
    "test_decimal_to_undecimal(\"1752572309X478\", 57983478668530)"
   ]
  },
  {
   "cell_type": "code",
   "execution_count": null,
   "id": "6e11328c",
   "metadata": {
    "code_folding": [
     0
    ],
    "deletable": false,
    "editable": false,
    "nbgrader": {
     "cell_type": "code",
     "checksum": "e824531a2ae5e3112d2cb45ea8a244d2",
     "grade": true,
     "grade_id": "hidden_test-decimal_to_undecimal",
     "locked": true,
     "points": 1,
     "schema_version": 3,
     "solution": false,
     "task": false
    },
    "tags": [
     "remove-cell"
    ]
   },
   "outputs": [],
   "source": [
    "# hidden tests"
   ]
  },
  {
   "cell_type": "code",
   "execution_count": null,
   "id": "8abf42ce",
   "metadata": {
    "code_folding": [
     0
    ],
    "slideshow": {
     "slide_type": "-"
    },
    "tags": [
     "remove-output"
    ]
   },
   "outputs": [],
   "source": [
    "# undecimal-to-decimal calculator\n",
    "@interact(decimal=\"10\")\n",
    "def convert_decimal_to_undecimal(decimal):\n",
    "    if not decimal.isdigit():\n",
    "        print(\"Not a non-negative integer.\")\n",
    "    else:\n",
    "        print(\"undecimal:\", decimal_to_undecimal(int(decimal)))"
   ]
  }
 ],
 "metadata": {
  "kernelspec": {
   "display_name": "Python 3 (ipykernel)",
   "language": "python",
   "name": "python3"
  }
 },
 "nbformat": 4,
 "nbformat_minor": 5
}
