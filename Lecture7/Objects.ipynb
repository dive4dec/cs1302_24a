{
 "cells": [
  {
   "cell_type": "markdown",
   "id": "fe47b4b0",
   "metadata": {
    "cell_style": "center",
    "slideshow": {
     "slide_type": "slide"
    }
   },
   "source": [
    "---\n",
    "title: Objects\n",
    "abstract: |\n",
    "    Just as closures encapsulate the local environment in functional programming, object-oriented programming (OOP) encapsulates properties and methods within objects, mirroring entities in the physical world. The concepts of inheritance and polymorphism are introduced by demonstrating how to use the methods of file and string objects, and how operators can be overloaded by single dispatch on the types of the operands.\n",
    "---"
   ]
  },
  {
   "cell_type": "code",
   "execution_count": null,
   "id": "e049f594",
   "metadata": {},
   "outputs": [],
   "source": [
    "from __init__ import install_dependencies\n",
    "\n",
    "await install_dependencies()"
   ]
  },
  {
   "cell_type": "code",
   "execution_count": null,
   "id": "77c2a7a6",
   "metadata": {
    "slideshow": {
     "slide_type": "fragment"
    },
    "tags": [
     "remove-cell"
    ]
   },
   "outputs": [],
   "source": [
    "from manim import *\n",
    "\n",
    "%load_ext divewidgets\n",
    "%load_ext jupyter_ai\n",
    "%ai update chatgpt dive:chat"
   ]
  },
  {
   "cell_type": "markdown",
   "id": "44070225",
   "metadata": {},
   "source": [
    "## OOP"
   ]
  },
  {
   "cell_type": "markdown",
   "id": "92c699d5",
   "metadata": {},
   "source": [
    "Object-oriented programming (OOP) is a programming paradigm based on the concept of objects, which has its associated properties and methods of interacting with the world."
   ]
  },
  {
   "cell_type": "markdown",
   "id": "e0b27460",
   "metadata": {},
   "source": [
    "### Motivation"
   ]
  },
  {
   "cell_type": "markdown",
   "id": "e6880b47",
   "metadata": {},
   "source": [
    "Why OOP? Let's write the Hello-World program with OOP:"
   ]
  },
  {
   "cell_type": "code",
   "execution_count": null,
   "id": "623e0a3f",
   "metadata": {},
   "outputs": [],
   "source": [
    "%%manim -ql --progress_bar=none --disable_caching --flush_cache -v ERROR HelloWorld\n",
    "class HelloWorld(Scene):\n",
    "    def construct(self):\n",
    "        self.play(Write(Text(\"Hello, World!\")))"
   ]
  },
  {
   "cell_type": "markdown",
   "id": "ff85e3cb",
   "metadata": {},
   "source": [
    "The above code creates a video by simply defining\n",
    " - a `Scene` called `HelloWorld` \n",
    " - `construct`ed by `play`ing an animation that\n",
    " - `Write`s the `Text` message `'Hello, World!'`."
   ]
  },
  {
   "cell_type": "markdown",
   "id": "d168ed08",
   "metadata": {
    "slideshow": {
     "slide_type": "fragment"
    }
   },
   "source": [
    "Complicated animations can be created without too many lines of code because\n",
    "\n",
    "- OOP makes programming *expressive* by\n",
    "- *encapsulating* different variables/functions by the objects they apply to and\n",
    "- *abstracting away* the implementation details."
   ]
  },
  {
   "cell_type": "markdown",
   "id": "d19ca50c",
   "metadata": {},
   "source": [
    "::::{card}\n",
    ":header: Manim\n",
    ":footer: [(open in new tab)](https://www.youtube.com/embed/ENMyFGmq5OA)\n",
    "\n",
    ":::{iframe} https://www.youtube.com/embed/ENMyFGmq5OA\n",
    ":align: center\n",
    ":width: 100%\n",
    "\n",
    ":::\n",
    "\n",
    "::::"
   ]
  },
  {
   "cell_type": "markdown",
   "id": "c3c280c1",
   "metadata": {
    "slideshow": {
     "slide_type": "fragment"
    }
   },
   "source": [
    "::::{exercise}\n",
    ":label: ex:Test\n",
    "\n",
    "Define \n",
    "\n",
    "- a `Scene` called `InscribedCircle`\n",
    "- `construct`ed by `play`ing an animation that\n",
    "- `FadeIn` a `Square()` and then\n",
    "- `play`ing another animation that\n",
    "- shows a `Circle` that `GrowFromCenter`.\n",
    "\n",
    ":::{seealso}\n",
    "See the [documentation](https://docs.manim.community/) and [tutorial](https://talkingphysics.wordpress.com/2019/01/08/getting-started-animating-with-manim-and-python-3-7/).\n",
    ":::\n",
    "\n",
    "::::"
   ]
  },
  {
   "cell_type": "code",
   "execution_count": null,
   "id": "9456b39d",
   "metadata": {
    "deletable": false,
    "nbgrader": {
     "cell_type": "code",
     "checksum": "49d1e97505e42d1d0f6fb9e12cfa70d8",
     "grade": false,
     "grade_id": "manim",
     "locked": false,
     "schema_version": 3,
     "solution": true,
     "task": false
    },
    "slideshow": {
     "slide_type": "-"
    }
   },
   "outputs": [],
   "source": [
    "%%manim -ql --progress_bar=none --disable_caching --flush_cache -v ERROR Test\n",
    "class InscribedCircle(Scene):\n",
    "    def construct(self):\n",
    "        # YOUR CODE HERE\n",
    "        raise NotImplementedError"
   ]
  },
  {
   "cell_type": "markdown",
   "id": "a28ae04c",
   "metadata": {},
   "source": [
    "### Classes and Objects"
   ]
  },
  {
   "cell_type": "markdown",
   "id": "17140cb4",
   "metadata": {
    "slideshow": {
     "slide_type": "subslide"
    }
   },
   "source": [
    "::::{important} What is OOP?\n",
    "\n",
    "Python is a [*class-based* object-oriented programming (OOP)](https://en.wikipedia.org/wiki/Object-oriented_programming#Class-based_vs_prototype-based) language:  \n",
    "- Each object is an instance of a *class/type*, which can be a *subclass* of one or more *base classes*.\n",
    "- An object is a collection of *members/attributes*, each of which is an object.\n",
    "::::"
   ]
  },
  {
   "cell_type": "markdown",
   "id": "7214fe16",
   "metadata": {
    "slideshow": {
     "slide_type": "subslide"
    }
   },
   "source": [
    "**What is an object?**"
   ]
  },
  {
   "cell_type": "markdown",
   "id": "2c5223a4",
   "metadata": {},
   "source": [
    "`object` is a class/type like `int`, `float`, `str`, and `bool`."
   ]
  },
  {
   "cell_type": "code",
   "execution_count": null,
   "id": "6f4536b2",
   "metadata": {},
   "outputs": [],
   "source": [
    "isinstance(object, type)"
   ]
  },
  {
   "cell_type": "markdown",
   "id": "51e9f5e2",
   "metadata": {
    "slideshow": {
     "slide_type": "fragment"
    }
   },
   "source": [
    "Recall that a function is also a [first-class](https://en.wikipedia.org/wiki/First-class_function) object, or more precisely, an instance of type [`object`](https://docs.python.org/3/library/functions.html?highlight=object#object):"
   ]
  },
  {
   "cell_type": "code",
   "execution_count": null,
   "id": "3ca257c2",
   "metadata": {
    "slideshow": {
     "slide_type": "-"
    }
   },
   "outputs": [],
   "source": [
    "isinstance(print, object) and isinstance(range, object)"
   ]
  },
  {
   "cell_type": "markdown",
   "id": "02fd6948",
   "metadata": {
    "slideshow": {
     "slide_type": "fragment"
    }
   },
   "source": [
    "Almost everything in Python is an object:"
   ]
  },
  {
   "cell_type": "code",
   "execution_count": null,
   "id": "9e114085",
   "metadata": {
    "slideshow": {
     "slide_type": "-"
    }
   },
   "outputs": [],
   "source": [
    "(\n",
    "    isinstance(1, object)\n",
    "    and isinstance(1.0, object)\n",
    "    and isinstance(\"1\", object)\n",
    "    and isinstance(True, object)\n",
    "    and isinstance(None, object)\n",
    "    and isinstance(__builtin__, object)\n",
    "    and isinstance(object, object)\n",
    ")"
   ]
  },
  {
   "cell_type": "markdown",
   "id": "c4c63a22",
   "metadata": {},
   "source": [
    "::::{exercise}\n",
    ":label: ex:isinstance\n",
    "\n",
    "While an object is a type, is a type an object? Check using `isinstance` in the cell below.\n",
    "\n",
    "::::"
   ]
  },
  {
   "cell_type": "code",
   "execution_count": null,
   "id": "ce2c10de",
   "metadata": {
    "deletable": false,
    "nbgrader": {
     "cell_type": "code",
     "checksum": "7190ce6a16bffa02b456acbf5e5e37a8",
     "grade": false,
     "grade_id": "chicken_and_egg",
     "locked": false,
     "schema_version": 3,
     "solution": true,
     "task": false
    },
    "slideshow": {
     "slide_type": "-"
    }
   },
   "outputs": [],
   "source": [
    "# YOUR CODE HERE\n",
    "raise NotImplementedError"
   ]
  },
  {
   "cell_type": "code",
   "execution_count": null,
   "id": "03c0e1e9",
   "metadata": {},
   "outputs": [],
   "source": [
    "%%ai chatgpt -f text\n",
    "Explain in a paragraph the chicken-and-egg relationship between type and object.\n",
    "Shouldn't we define the class first before its instance?"
   ]
  },
  {
   "cell_type": "markdown",
   "id": "413e87c9",
   "metadata": {},
   "source": [
    "An object can be an instance of more than one types. For instance, `True` is an instance of `bool`, `int`, and `object`:"
   ]
  },
  {
   "cell_type": "code",
   "execution_count": null,
   "id": "430f015b",
   "metadata": {},
   "outputs": [],
   "source": [
    "isinstance(True, bool) and isinstance(True, int) and isinstance(True, object)"
   ]
  },
  {
   "cell_type": "markdown",
   "id": "0f50d5f0",
   "metadata": {},
   "source": [
    "As proposed in [PEP 285](https://peps.python.org/pep-0285/#abstract),[^subclass]\n",
    "\n",
    "\n",
    "$$\n",
    "\\begin{CD}\n",
    "\\text{bool} @>{\\text{subclass}}>> \\text{int} @>{\\text{subclass}}>> \\text{object}\n",
    "\\end{CD}\n",
    "$$\n",
    "\n",
    "- `bool` is a *subclass* of `int`, and \n",
    "- `int` is a *base class* of `bool`.\n",
    "\n",
    "[^subclass]: `PyBool_Type` (`bool`) specifies `PyLong_Type` (`int`) as the `tp_base` (base class) in the [source code](https://github.com/python/cpython/blob/34653bba644aa5481613f398153757d7357e39ea/Objects/boolobject.c#L202)"
   ]
  },
  {
   "cell_type": "code",
   "execution_count": null,
   "id": "990ba0d2",
   "metadata": {},
   "outputs": [],
   "source": [
    "issubclass(bool, int) and issubclass(int, object)"
   ]
  },
  {
   "cell_type": "markdown",
   "id": "617217e7",
   "metadata": {},
   "source": [
    "In paricular, `True` and `False` have the integer values `1` and `0` respectively.[^boolvalues]\n",
    "\n",
    "[^boolvalues]: See the [source code defining `False`](https://github.com/python/cpython/blob/34653bba644aa5481613f398153757d7357e39ea/Objects/boolobject.c#L218) and the [source code defining `True`](https://github.com/python/cpython/blob/34653bba644aa5481613f398153757d7357e39ea/Objects/boolobject.c#L225)."
   ]
  },
  {
   "cell_type": "code",
   "execution_count": null,
   "id": "1b5212d8",
   "metadata": {},
   "outputs": [],
   "source": [
    "True == 1, False == 0"
   ]
  },
  {
   "cell_type": "markdown",
   "id": "1d187de1",
   "metadata": {},
   "source": [
    "::::{exercise}\n",
    ":label: ex:subclass\n",
    "\n",
    "Check whether `type` is a subclass of `object` and vice versa using `issubclass`.\n",
    " (Is there a chicken-and-egg problem?)\n",
    "\n",
    "::::"
   ]
  },
  {
   "cell_type": "code",
   "execution_count": null,
   "id": "1d03c01f",
   "metadata": {
    "deletable": false,
    "nbgrader": {
     "cell_type": "code",
     "checksum": "3ed17f9cfbc15c763008232cecd22d3d",
     "grade": false,
     "grade_id": "subclass",
     "locked": false,
     "schema_version": 3,
     "solution": true,
     "task": false
    },
    "slideshow": {
     "slide_type": "-"
    }
   },
   "outputs": [],
   "source": [
    "# YOUR CODE HERE\n",
    "raise NotImplementedError"
   ]
  },
  {
   "cell_type": "code",
   "execution_count": null,
   "id": "7dff0633",
   "metadata": {},
   "outputs": [],
   "source": [
    "%%ai chatgpt -f text\n",
    "Explain in one paragraph why making `type` a subclass of `object` in python \n",
    "can lead to conflicts in inheritance."
   ]
  },
  {
   "cell_type": "markdown",
   "id": "4ca1b7af",
   "metadata": {},
   "source": [
    "### Attributes"
   ]
  },
  {
   "cell_type": "markdown",
   "id": "5ae2b834",
   "metadata": {
    "slideshow": {
     "slide_type": "fragment"
    }
   },
   "source": [
    "::::{important}\n",
    "\n",
    "The structure and behavior of an object is governed by its attributes.\n",
    "::::"
   ]
  },
  {
   "cell_type": "markdown",
   "id": "dc5622b3",
   "metadata": {},
   "source": [
    "To check if an object has a particular attribute:"
   ]
  },
  {
   "cell_type": "code",
   "execution_count": null,
   "id": "487525f6",
   "metadata": {},
   "outputs": [],
   "source": [
    "complex(\"1+j\")"
   ]
  },
  {
   "cell_type": "code",
   "execution_count": null,
   "id": "2b12ec6f",
   "metadata": {},
   "outputs": [],
   "source": [
    "hasattr(complex(\"1+j\"), \"imag\"), hasattr(\"1+j\", \"imag\")"
   ]
  },
  {
   "cell_type": "markdown",
   "id": "e3d67f95",
   "metadata": {},
   "source": [
    "To list all attributes of an object:"
   ]
  },
  {
   "cell_type": "code",
   "execution_count": null,
   "id": "0f0351d0",
   "metadata": {},
   "outputs": [],
   "source": [
    "print(dir(complex(\"1+j\")))"
   ]
  },
  {
   "cell_type": "markdown",
   "id": "98bf98b5",
   "metadata": {},
   "source": [
    "Different objects of a class share the class attributes:[^instance_attributes]\n",
    "\n",
    "[^instance_attributes]: Different objects of a class do not necessarily have the *same set of attributes* as that defined by the class. While they share the class attributes, each instance can have unique instance attributes."
   ]
  },
  {
   "cell_type": "code",
   "execution_count": null,
   "id": "cc69d792",
   "metadata": {},
   "outputs": [],
   "source": [
    "dir(complex(\"1+j\")) == dir(complex(1)) == dir(complex)"
   ]
  },
  {
   "cell_type": "code",
   "execution_count": null,
   "id": "f419e4f3",
   "metadata": {},
   "outputs": [],
   "source": [
    "%%ai chatgpt -f text\n",
    "Explain in a paragraph or how an instance may have a different set of attributes\n",
    "than its class in python."
   ]
  },
  {
   "cell_type": "markdown",
   "id": "cb319e87",
   "metadata": {},
   "source": [
    "Different objects of the same class can still behave differently because their attribute *values can be different*."
   ]
  },
  {
   "cell_type": "code",
   "execution_count": null,
   "id": "0bed873a",
   "metadata": {},
   "outputs": [],
   "source": [
    "complex(\"1+j\").imag, complex(1).imag, complex.imag"
   ]
  },
  {
   "cell_type": "markdown",
   "id": "44c73713",
   "metadata": {
    "slideshow": {
     "slide_type": "fragment"
    }
   },
   "source": [
    "An attribute can also be a function, which is called a *method* or *member function*."
   ]
  },
  {
   "cell_type": "code",
   "execution_count": null,
   "id": "bae6ac3b",
   "metadata": {
    "slideshow": {
     "slide_type": "fragment"
    }
   },
   "outputs": [],
   "source": [
    "complex.conjugate(complex(1, 2)), type(complex.conjugate)"
   ]
  },
  {
   "cell_type": "markdown",
   "id": "4f4367b0",
   "metadata": {
    "slideshow": {
     "slide_type": "fragment"
    }
   },
   "source": [
    "A [method](https://docs.python.org/3/tutorial/classes.html#method-objects) can be accessed by objects of the class:"
   ]
  },
  {
   "cell_type": "code",
   "execution_count": null,
   "id": "8e6aeb5c",
   "metadata": {
    "slideshow": {
     "slide_type": "-"
    }
   },
   "outputs": [],
   "source": [
    "complex(1, 2).conjugate(), type(complex(1, 2).conjugate)"
   ]
  },
  {
   "cell_type": "code",
   "execution_count": null,
   "id": "3420cb8f",
   "metadata": {
    "slideshow": {
     "slide_type": "-"
    }
   },
   "outputs": [],
   "source": [
    "callable(complex(1, 2).conjugate), complex(1, 2).conjugate.__self__"
   ]
  },
  {
   "cell_type": "markdown",
   "id": "c8577ca4",
   "metadata": {
    "slideshow": {
     "slide_type": "fragment"
    }
   },
   "source": [
    "::::{note} Why can we call `conjugate()` without an argument?\n",
    ":class: dropdown\n",
    "\n",
    "`complex(1,2).conjugate` is a *callable* object:\n",
    "- Its attribute `__self__` is assigned to `complex(1,2)`.\n",
    "- When called, it passes `__self__` as the first argument to `complex.conjugate`.\n",
    "\n",
    "::::"
   ]
  },
  {
   "cell_type": "markdown",
   "id": "6557f557",
   "metadata": {},
   "source": [
    "A subclass also inherits the attributes of its base classes:"
   ]
  },
  {
   "cell_type": "code",
   "execution_count": null,
   "id": "cf202710",
   "metadata": {},
   "outputs": [],
   "source": [
    "dir(bool) == dir(int)"
   ]
  },
  {
   "cell_type": "markdown",
   "id": "2e2c229c",
   "metadata": {},
   "source": [
    "For instance, `bool` inherit the methods for arithmetics from the base class `int`:"
   ]
  },
  {
   "cell_type": "code",
   "execution_count": null,
   "id": "6df096d0",
   "metadata": {},
   "outputs": [],
   "source": [
    "True + 1, False * float('inf')"
   ]
  },
  {
   "cell_type": "markdown",
   "id": "db5e6182",
   "metadata": {},
   "source": [
    "A subclass do not necessarily have the *same set of attributes* as that defined by its base class. A subclass can inherit attributes from multiple base classes and define its own attributes. Different implementations of the same method are resolved using the [method resolution order (`mro`)](https://en.wikipedia.org/wiki/C3_linearization):"
   ]
  },
  {
   "cell_type": "code",
   "execution_count": null,
   "id": "32a6e959",
   "metadata": {},
   "outputs": [],
   "source": [
    "bool.mro()"
   ]
  },
  {
   "cell_type": "code",
   "execution_count": null,
   "id": "f429571d",
   "metadata": {},
   "outputs": [],
   "source": [
    "%%ai chatgpt -f text\n",
    "Explain in a paragraph or two how a subclass inherits from multiple base classes\n",
    "in python using the C3 linearization."
   ]
  },
  {
   "cell_type": "markdown",
   "id": "f7d20f00",
   "metadata": {
    "slideshow": {
     "slide_type": "slide"
    }
   },
   "source": [
    "### Object Aliasing"
   ]
  },
  {
   "cell_type": "markdown",
   "id": "1bfa6801",
   "metadata": {},
   "source": [
    "Now is the time to differentiate values from objects."
   ]
  },
  {
   "cell_type": "markdown",
   "id": "54d8b8bf",
   "metadata": {
    "slideshow": {
     "slide_type": "subslide"
    }
   },
   "source": [
    "**When are two objects identical?**"
   ]
  },
  {
   "cell_type": "markdown",
   "id": "d5d39403",
   "metadata": {
    "slideshow": {
     "slide_type": "fragment"
    }
   },
   "source": [
    "The keyword `is` checks whether two objects are the same object:"
   ]
  },
  {
   "cell_type": "code",
   "execution_count": null,
   "id": "e62a3f9c",
   "metadata": {},
   "outputs": [],
   "source": [
    "%%optlite -l -h 400\n",
    "def i(i):\n",
    "    return i\n",
    "\n",
    "\n",
    "i(i) is i"
   ]
  },
  {
   "cell_type": "markdown",
   "id": "e180076a",
   "metadata": {
    "slideshow": {
     "slide_type": "fragment"
    }
   },
   "source": [
    "**Is `is` the same as `==`?**"
   ]
  },
  {
   "cell_type": "markdown",
   "id": "66eb2e4a",
   "metadata": {
    "slideshow": {
     "slide_type": "fragment"
    }
   },
   "source": [
    "`is` is slightly faster because:\n",
    "\n",
    "- `is` simply checks whether two objects occupy the same memory, but \n",
    "- `==` calls the method (`__eq__`) of the operands to check the equality in value."
   ]
  },
  {
   "cell_type": "markdown",
   "id": "146c6bff",
   "metadata": {
    "slideshow": {
     "slide_type": "fragment"
    }
   },
   "source": [
    "To see this, we can use the function `id` which returns an id number for an object based on its memory location."
   ]
  },
  {
   "cell_type": "code",
   "execution_count": null,
   "id": "f5cffcbc",
   "metadata": {},
   "outputs": [],
   "source": [
    "%%optlite -h 400\n",
    "x = y = complex(1, 0)\n",
    "z = complex(1, 0)\n",
    "print(x == y == z == 1.0)\n",
    "x_id = id(x)\n",
    "y_id = id(y)\n",
    "z_id = id(z)\n",
    "print(x is y)  # id(x) == id(y)\n",
    "print(x is not z)  # id(x) != id(z)"
   ]
  },
  {
   "cell_type": "markdown",
   "id": "a9fb47fc",
   "metadata": {
    "slideshow": {
     "slide_type": "fragment"
    }
   },
   "source": [
    "As the box-pointer diagram shows:\n",
    "- `x` is `y` because the assignment `x = y` binds `y` to the same memory location `x` points to.  \n",
    "    `y` is said to be an *alias* (another name) of `x`. \n",
    "- `x` is not `z` because they point to objects at different memory locations,  \n",
    "  even though the objects have the same type and value."
   ]
  },
  {
   "cell_type": "markdown",
   "id": "0d51c1de",
   "metadata": {
    "slideshow": {
     "slide_type": "subslide"
    }
   },
   "source": [
    "**Can we use `is` instead of `==` to compare integers/strings?**"
   ]
  },
  {
   "cell_type": "code",
   "execution_count": null,
   "id": "298cabe3",
   "metadata": {
    "slideshow": {
     "slide_type": "-"
    }
   },
   "outputs": [],
   "source": [
    "%%optlite -h 350\n",
    "print(10**10 is 10**10)\n",
    "print(10**100 is 10**100)"
   ]
  },
  {
   "cell_type": "code",
   "execution_count": null,
   "id": "3b605ab1",
   "metadata": {
    "slideshow": {
     "slide_type": "-"
    }
   },
   "outputs": [],
   "source": [
    "%%optlite -h 350\n",
    "x = y = \"abc\"\n",
    "print(x is y)\n",
    "print(y is \"abc\")\n",
    "print(x + y is x + \"abc\")"
   ]
  },
  {
   "cell_type": "markdown",
   "id": "66649b67",
   "metadata": {},
   "source": [
    "Indeed, we normally gets a `SyntaxWarning` when using `is` with a literal."
   ]
  },
  {
   "cell_type": "code",
   "execution_count": null,
   "id": "00ea4599",
   "metadata": {},
   "outputs": [],
   "source": [
    "10 is 10, \"abc\" is \"abc\""
   ]
  },
  {
   "cell_type": "markdown",
   "id": "f7532cd4",
   "metadata": {
    "slideshow": {
     "slide_type": "fragment"
    }
   },
   "source": [
    "::::{caution}\n",
    "\n",
    "When using `is` with a literal, the behavior is not entirely predictable because  \n",
    "- python tries to avoid storing the same value at different locations by [*interning*](https://www.codesansar.com/python-programming/integer-interning.htm) but\n",
    "- interning is not always possible/practical, especially when the same value is obtain in different ways.\n",
    "\n",
    "Hence, `is` should only be used for [built-in constants](https://docs.python.org/3/library/constants.html#built-in-constants) such as `None` because there can only be one instance of each of them.\n",
    "::::"
   ]
  },
  {
   "cell_type": "markdown",
   "id": "65b2c651",
   "metadata": {},
   "source": [
    "## Using Methods"
   ]
  },
  {
   "cell_type": "markdown",
   "id": "18e66f7f",
   "metadata": {},
   "source": [
    "Like a Swiss army knife, an object is a versatile tool that can perform a variety of tasks. By invoking its methods, you can manipulate the object's data, perform computations, or interact with other objects."
   ]
  },
  {
   "cell_type": "markdown",
   "id": "eb06ed1c",
   "metadata": {
    "slideshow": {
     "slide_type": "slide"
    }
   },
   "source": [
    "### File Objects"
   ]
  },
  {
   "cell_type": "markdown",
   "id": "f920ea17",
   "metadata": {
    "slideshow": {
     "slide_type": "subslide"
    }
   },
   "source": [
    "**How to read a text file?**"
   ]
  },
  {
   "cell_type": "markdown",
   "id": "46f664ef",
   "metadata": {
    "slideshow": {
     "slide_type": "fragment"
    }
   },
   "source": [
    "Consider reading a csv (comma separated value) file:"
   ]
  },
  {
   "cell_type": "code",
   "execution_count": null,
   "id": "4b193afb",
   "metadata": {
    "slideshow": {
     "slide_type": "-"
    }
   },
   "outputs": [],
   "source": [
    "!more 'contact.csv'"
   ]
  },
  {
   "cell_type": "markdown",
   "id": "a44c345a",
   "metadata": {
    "slideshow": {
     "slide_type": "fragment"
    }
   },
   "source": [
    "To read the file by a Python program:"
   ]
  },
  {
   "cell_type": "code",
   "execution_count": null,
   "id": "458335b1",
   "metadata": {
    "slideshow": {
     "slide_type": "-"
    }
   },
   "outputs": [],
   "source": [
    "f = open(\"contact.csv\")  # create a file object for reading\n",
    "print(f.read())  # return the entire content\n",
    "f.close()  # close the file"
   ]
  },
  {
   "cell_type": "markdown",
   "id": "b3a546ad",
   "metadata": {
    "slideshow": {
     "slide_type": "fragment"
    }
   },
   "source": [
    "1. [`open`](https://docs.python.org/3/library/functions.html?highlight=open#open) is a function that creates a file object and assigns it to `f`.\n",
    "1. Associated with the file object:  \n",
    "      - [`read`](https://docs.python.org/3/library/io.html#io.TextIOBase.read) returns the entire content of the file as a string.\n",
    "      - [`close`](https://docs.python.org/3/library/io.html#io.IOBase.close) flushes and closes the file."
   ]
  },
  {
   "cell_type": "markdown",
   "id": "6d2e0b38",
   "metadata": {
    "slideshow": {
     "slide_type": "subslide"
    }
   },
   "source": [
    "**Why close a file?**"
   ]
  },
  {
   "cell_type": "markdown",
   "id": "a03eb77a",
   "metadata": {
    "slideshow": {
     "slide_type": "fragment"
    }
   },
   "source": [
    "If not, depending on the operating system,\n",
    "- other programs may not be able to access the file, and\n",
    "- changes may not be written to the file."
   ]
  },
  {
   "cell_type": "markdown",
   "id": "7e5eba08",
   "metadata": {
    "slideshow": {
     "slide_type": "subslide"
    }
   },
   "source": [
    "To ensure a file is closed properly, we can use the [`with` statement](https://docs.python.org/3/reference/compound_stmts.html#with):"
   ]
  },
  {
   "cell_type": "code",
   "execution_count": null,
   "id": "c55924b1",
   "metadata": {
    "slideshow": {
     "slide_type": "fragment"
    }
   },
   "outputs": [],
   "source": [
    "with open(\"contact.csv\") as f:\n",
    "    print(f.read())"
   ]
  },
  {
   "cell_type": "markdown",
   "id": "80b5f0fe",
   "metadata": {
    "slideshow": {
     "slide_type": "subslide"
    }
   },
   "source": [
    "The `with` statement applies to any [context manager](https://docs.python.org/3/reference/datamodel.html#context-managers) that provides the methods\n",
    "- `__enter__` for initialization, and\n",
    "- `__exit__` for finalization."
   ]
  },
  {
   "cell_type": "code",
   "execution_count": null,
   "id": "36b21b23",
   "metadata": {
    "slideshow": {
     "slide_type": "fragment"
    }
   },
   "outputs": [],
   "source": [
    "with open(\"contact.csv\") as f:\n",
    "    print(f, hasattr(f, \"__enter__\"), hasattr(f, \"__exit__\"), sep=\"\\n\")"
   ]
  },
  {
   "cell_type": "markdown",
   "id": "abbe1462",
   "metadata": {
    "slideshow": {
     "slide_type": "fragment"
    }
   },
   "source": [
    "- `f.__enter__` is called after the file object is successfully created and assigned to `f`, and\n",
    "- `f.__exit__` is called at the end, which closes the file.\n",
    "- `f.closed` indicates whether the file is closed."
   ]
  },
  {
   "cell_type": "code",
   "execution_count": null,
   "id": "2ea62b0b",
   "metadata": {
    "slideshow": {
     "slide_type": "fragment"
    }
   },
   "outputs": [],
   "source": [
    "f.closed"
   ]
  },
  {
   "cell_type": "markdown",
   "id": "64d3e32f",
   "metadata": {
    "slideshow": {
     "slide_type": "fragment"
    }
   },
   "source": [
    "We can iterate a file object in a for loop,  \n",
    "which implicitly call the method `__iter__` to read a file line by line."
   ]
  },
  {
   "cell_type": "code",
   "execution_count": null,
   "id": "513197ff",
   "metadata": {
    "slideshow": {
     "slide_type": "fragment"
    }
   },
   "outputs": [],
   "source": [
    "with open(\"contact.csv\") as f:\n",
    "    for line in f:\n",
    "        print(line, end=\"\")\n",
    "\n",
    "hasattr(f, \"__iter__\")"
   ]
  },
  {
   "cell_type": "markdown",
   "id": "d0ef4ae8",
   "metadata": {
    "slideshow": {
     "slide_type": "subslide"
    }
   },
   "source": [
    "::::{exercise}\n",
    ":label: ex:head\n",
    "\n",
    "Print only the first 5 lines of the file `contact.csv`.\n",
    "\n",
    "::::"
   ]
  },
  {
   "cell_type": "code",
   "execution_count": null,
   "id": "60ff4a11",
   "metadata": {
    "deletable": false,
    "nbgrader": {
     "cell_type": "code",
     "checksum": "13792c362805cf45449264719e4e85a1",
     "grade": false,
     "grade_id": "read-head",
     "locked": false,
     "schema_version": 3,
     "solution": true,
     "task": false
    },
    "slideshow": {
     "slide_type": "-"
    }
   },
   "outputs": [],
   "source": [
    "with open(\"contact.csv\") as f:\n",
    "    # YOUR CODE HERE\n",
    "    raise NotImplementedError"
   ]
  },
  {
   "cell_type": "markdown",
   "id": "947746c3",
   "metadata": {
    "slideshow": {
     "slide_type": "subslide"
    }
   },
   "source": [
    "**How to write to a text file?**"
   ]
  },
  {
   "cell_type": "markdown",
   "id": "c174b321",
   "metadata": {
    "slideshow": {
     "slide_type": "fragment"
    }
   },
   "source": [
    "Consider backing up `contact.csv` to a new file:"
   ]
  },
  {
   "cell_type": "code",
   "execution_count": null,
   "id": "6c6a1755",
   "metadata": {
    "slideshow": {
     "slide_type": "-"
    }
   },
   "outputs": [],
   "source": [
    "destination = \"private/new_contact.csv\""
   ]
  },
  {
   "cell_type": "markdown",
   "id": "6dd0d41a",
   "metadata": {
    "slideshow": {
     "slide_type": "fragment"
    }
   },
   "source": [
    "The directory has to be created first if it does not exist:"
   ]
  },
  {
   "cell_type": "code",
   "execution_count": null,
   "id": "88d07810",
   "metadata": {
    "slideshow": {
     "slide_type": "-"
    }
   },
   "outputs": [],
   "source": [
    "import os\n",
    "\n",
    "os.makedirs(os.path.dirname(destination), exist_ok=True)"
   ]
  },
  {
   "cell_type": "code",
   "execution_count": null,
   "id": "61f3c2af",
   "metadata": {
    "slideshow": {
     "slide_type": "-"
    }
   },
   "outputs": [],
   "source": [
    "os.makedirs?\n",
    "!ls"
   ]
  },
  {
   "cell_type": "markdown",
   "id": "ee5492e1",
   "metadata": {
    "slideshow": {
     "slide_type": "fragment"
    }
   },
   "source": [
    "To write to the destination file:"
   ]
  },
  {
   "cell_type": "code",
   "execution_count": null,
   "id": "e9ddc111",
   "metadata": {
    "code_folding": [],
    "slideshow": {
     "slide_type": "-"
    }
   },
   "outputs": [],
   "source": [
    "with open(\"contact.csv\") as source_file:\n",
    "    with open(destination, \"w\") as destination_file:\n",
    "        destination_file.write(source_file.read())"
   ]
  },
  {
   "cell_type": "code",
   "execution_count": null,
   "id": "fc637936",
   "metadata": {
    "slideshow": {
     "slide_type": "-"
    }
   },
   "outputs": [],
   "source": [
    "destination_file.write?\n",
    "!more {destination}"
   ]
  },
  {
   "cell_type": "markdown",
   "id": "f55eb11b",
   "metadata": {
    "slideshow": {
     "slide_type": "fragment"
    }
   },
   "source": [
    "- The argument `'w'` for `open` sets the file object to write mode.\n",
    "- The method `write` writes the input strings to the file."
   ]
  },
  {
   "cell_type": "markdown",
   "id": "055b19d6",
   "metadata": {
    "slideshow": {
     "slide_type": "subslide"
    }
   },
   "source": [
    "::::{exercise}\n",
    ":label: ex:append \n",
    "\n",
    "We can also use `a` mode to *append* new content to a file.   \n",
    "Complete the following code to append `new_data` to the file `destination`.\n",
    "\n",
    "::::"
   ]
  },
  {
   "cell_type": "code",
   "execution_count": null,
   "id": "666882b0",
   "metadata": {
    "deletable": false,
    "nbgrader": {
     "cell_type": "code",
     "checksum": "0acefb110d7beba5ab800a97cc3a5d7e",
     "grade": false,
     "grade_id": "append",
     "locked": false,
     "schema_version": 3,
     "solution": true,
     "task": false
    },
    "slideshow": {
     "slide_type": "-"
    }
   },
   "outputs": [],
   "source": [
    "new_data = \"Effie, Douglas,galnec@naowdu.tc, (888) 311-9512\"\n",
    "with open(destination, \"a\") as f:\n",
    "    # YOUR CODE HERE\n",
    "    raise NotImplementedError\n",
    "!more {destination}"
   ]
  },
  {
   "cell_type": "markdown",
   "id": "faba774b",
   "metadata": {
    "slideshow": {
     "slide_type": "subslide"
    }
   },
   "source": [
    "**How to delete a file?**"
   ]
  },
  {
   "cell_type": "markdown",
   "id": "f53d4c88",
   "metadata": {
    "slideshow": {
     "slide_type": "fragment"
    }
   },
   "source": [
    "Note that the file object does not provide any method to delete the file.  \n",
    "Instead, we should use the function `remove` of the `os` module."
   ]
  },
  {
   "cell_type": "code",
   "execution_count": null,
   "id": "cc9a8536",
   "metadata": {
    "slideshow": {
     "slide_type": "fragment"
    }
   },
   "outputs": [],
   "source": [
    "if os.path.exists(destination):\n",
    "    os.remove(destination)\n",
    "!ls {destination}"
   ]
  },
  {
   "cell_type": "markdown",
   "id": "dfb0360d",
   "metadata": {
    "slideshow": {
     "slide_type": "slide"
    }
   },
   "source": [
    "### String Objects"
   ]
  },
  {
   "cell_type": "markdown",
   "id": "aea0a3bd",
   "metadata": {
    "slideshow": {
     "slide_type": "subslide"
    }
   },
   "source": [
    "**How to search for a substring in a string?**"
   ]
  },
  {
   "cell_type": "markdown",
   "id": "69da2723",
   "metadata": {
    "slideshow": {
     "slide_type": "fragment"
    }
   },
   "source": [
    "A string object has the method `find` to search for a substring.  \n",
    "E.g., to find the contact information of Tai Ming:"
   ]
  },
  {
   "cell_type": "code",
   "execution_count": null,
   "id": "5133dd65",
   "metadata": {
    "slideshow": {
     "slide_type": "fragment"
    }
   },
   "outputs": [],
   "source": [
    "str.find?\n",
    "with open(\"contact.csv\") as f:\n",
    "    for line in f:\n",
    "        if line.find(\"Tai Ming\") != -1:\n",
    "            record = line\n",
    "            print(record)\n",
    "            break"
   ]
  },
  {
   "cell_type": "markdown",
   "id": "9e7dcbae",
   "metadata": {
    "slideshow": {
     "slide_type": "subslide"
    }
   },
   "source": [
    "**How to split and join strings?**"
   ]
  },
  {
   "cell_type": "markdown",
   "id": "5a6b529a",
   "metadata": {
    "slideshow": {
     "slide_type": "fragment"
    }
   },
   "source": [
    "A string can be split according to a delimiter using the `split` method."
   ]
  },
  {
   "cell_type": "code",
   "execution_count": null,
   "id": "e97017ef",
   "metadata": {
    "slideshow": {
     "slide_type": "-"
    }
   },
   "outputs": [],
   "source": [
    "record.split(\",\")"
   ]
  },
  {
   "cell_type": "markdown",
   "id": "460c816a",
   "metadata": {
    "slideshow": {
     "slide_type": "fragment"
    }
   },
   "source": [
    "The list of substrings can be joined back together using the `join` methods."
   ]
  },
  {
   "cell_type": "code",
   "execution_count": null,
   "id": "7ada9568",
   "metadata": {
    "slideshow": {
     "slide_type": "-"
    }
   },
   "outputs": [],
   "source": [
    "print(\"\\n\".join(record.split(\",\")))"
   ]
  },
  {
   "cell_type": "markdown",
   "id": "0cd5e876",
   "metadata": {
    "slideshow": {
     "slide_type": "subslide"
    }
   },
   "source": [
    "::::{exercise}\n",
    ":label: ex:phone \n",
    "\n",
    "Print only the phone number (last item) in `record`. Use the method `rstrip` or  `strip` to remove unnecessary white spaces at the end.\n",
    "\n",
    "::::"
   ]
  },
  {
   "cell_type": "code",
   "execution_count": null,
   "id": "960dda71",
   "metadata": {
    "deletable": false,
    "nbgrader": {
     "cell_type": "code",
     "checksum": "3a5ccea7bb48a01a6abd06496dc8cf20",
     "grade": false,
     "grade_id": "strip",
     "locked": false,
     "schema_version": 3,
     "solution": true,
     "task": false
    },
    "slideshow": {
     "slide_type": "-"
    }
   },
   "outputs": [],
   "source": [
    "str.rstrip?\n",
    "# YOUR CODE HERE\n",
    "raise NotImplementedError"
   ]
  },
  {
   "cell_type": "markdown",
   "id": "b90d7b32",
   "metadata": {
    "slideshow": {
     "slide_type": "fragment"
    }
   },
   "source": [
    "::::{exercise}\n",
    ":label: ex:name \n",
    "\n",
    "Print only the name (first item) in `record` but with\n",
    "- surname printed first with all letters in upper case \n",
    "- followed by a comma, a space, and\n",
    "- the first name as it is in `record`.\n",
    "\n",
    "E.g., `Tai Ming Chan` should be printed as `CHAN, Tai Ming`.  \n",
    "\n",
    "*Hint*: Use the methods `upper` and `rsplit` (with the parameter `maxsplit=1`).\n",
    "\n",
    "\n",
    "::::"
   ]
  },
  {
   "cell_type": "code",
   "execution_count": null,
   "id": "da5c2dcf",
   "metadata": {
    "deletable": false,
    "nbgrader": {
     "cell_type": "code",
     "checksum": "8aebf4cb34ba8b70cb42eeb41fe4634d",
     "grade": false,
     "grade_id": "process-name",
     "locked": false,
     "schema_version": 3,
     "solution": true,
     "task": false
    },
    "slideshow": {
     "slide_type": "-"
    }
   },
   "outputs": [],
   "source": [
    "str.rsplit?\n",
    "# YOUR CODE HERE\n",
    "raise NotImplementedError"
   ]
  },
  {
   "cell_type": "markdown",
   "id": "85cee3fe",
   "metadata": {
    "slideshow": {
     "slide_type": "slide"
    }
   },
   "source": [
    "## Operator Overloading"
   ]
  },
  {
   "cell_type": "markdown",
   "id": "0f47723e",
   "metadata": {},
   "source": [
    "Recall that adding `str` to `int` raises a type error. The following code circumvented this by creating a subclass of `str` that overrides the its methods `__add__` and `__radd__` for addition:"
   ]
  },
  {
   "cell_type": "code",
   "execution_count": null,
   "id": "eddf95f1",
   "metadata": {},
   "outputs": [],
   "source": [
    "%%optlite -l -h 400\n",
    "class MyStr(str):\n",
    "    def __add__(self, a):\n",
    "        return MyStr(str.__add__(self, str(a)))\n",
    "\n",
    "    def __radd__(self, a):\n",
    "        return MyStr(str.__add__(str(a), self))\n",
    "\n",
    "\n",
    "print(MyStr(1) + 2, 2 + MyStr(1))"
   ]
  },
  {
   "cell_type": "markdown",
   "id": "af472e3b",
   "metadata": {},
   "source": [
    "How does the above code re-implements `+`?"
   ]
  },
  {
   "cell_type": "markdown",
   "id": "acf2ed86",
   "metadata": {
    "slideshow": {
     "slide_type": "subslide"
    }
   },
   "source": [
    "### What is overloading?"
   ]
  },
  {
   "cell_type": "markdown",
   "id": "f63b589d",
   "metadata": {
    "slideshow": {
     "slide_type": "fragment"
    }
   },
   "source": [
    "Recall that the addition operation `+` behaves differently for different types."
   ]
  },
  {
   "cell_type": "code",
   "execution_count": null,
   "id": "2996e1dc",
   "metadata": {
    "slideshow": {
     "slide_type": "fragment"
    }
   },
   "outputs": [],
   "source": [
    "%%optlite -h 300\n",
    "for x, y in (1, 1), (\"1\", \"1\"), (1, \"1\"):\n",
    "    print(f\"{x!r:^5} + {y!r:^5} = {x+y!r}\")"
   ]
  },
  {
   "cell_type": "markdown",
   "id": "e56a7ae8",
   "metadata": {},
   "source": [
    "- Having an operator perform differently based on its argument types is called [operator *overloading*](https://en.wikipedia.org/wiki/Operator_overloading).\n",
    "- `+` is called a *generic* operator."
   ]
  },
  {
   "cell_type": "markdown",
   "id": "32efb4aa",
   "metadata": {
    "slideshow": {
     "slide_type": "subslide"
    }
   },
   "source": [
    "### Dispatch on type"
   ]
  },
  {
   "cell_type": "markdown",
   "id": "7d5f4eae",
   "metadata": {
    "slideshow": {
     "slide_type": "fragment"
    }
   },
   "source": [
    "The strategy of checking the type for the appropriate implementation is called *dispatching on type*."
   ]
  },
  {
   "cell_type": "markdown",
   "id": "aac88aaa",
   "metadata": {
    "slideshow": {
     "slide_type": "fragment"
    }
   },
   "source": [
    "A naive idea is to put all the different implementations together:\n",
    "\n",
    "```python\n",
    "def add_case_by_case(x, y):\n",
    "    if isinstance(x, int) and isinstance(y, int):\n",
    "        # integer summation\n",
    "        ...\n",
    "    elif isinstance(x, str) and isinstance(y, str):\n",
    "        # string concatenation...\n",
    "        ...\n",
    "    else:\n",
    "        # Return a TypeError\n",
    "        ...\n",
    "```"
   ]
  },
  {
   "cell_type": "code",
   "execution_count": null,
   "id": "3557c2ff",
   "metadata": {
    "slideshow": {
     "slide_type": "-"
    }
   },
   "outputs": [],
   "source": [
    "%%optlite -h 500\n",
    "def add_case_by_case(x, y):\n",
    "    if isinstance(x, int) and isinstance(y, int):\n",
    "        print(\"Do integer summation...\")\n",
    "    elif isinstance(x, str) and isinstance(y, str):\n",
    "        print(\"Do string concatenation...\")\n",
    "    else:\n",
    "        print(\"Return a TypeError...\")\n",
    "    return x + y  # replaced by internal implementations\n",
    "\n",
    "\n",
    "for x, y in (1, 1), (\"1\", \"1\"), (1, \"1\"):\n",
    "    print(f\"{x!r:^10} + {y!r:^10} = {add_case_by_case(x,y)!r}\")"
   ]
  },
  {
   "cell_type": "markdown",
   "id": "5ed3d48e",
   "metadata": {
    "slideshow": {
     "slide_type": "subslide"
    }
   },
   "source": [
    "One issue is that supporting a new data type would requires the addition to be re-implemented."
   ]
  },
  {
   "cell_type": "code",
   "execution_count": null,
   "id": "e6aa0a8d",
   "metadata": {
    "slideshow": {
     "slide_type": "-"
    }
   },
   "outputs": [],
   "source": [
    "from fractions import Fraction  # non-built-in type for fractions\n",
    "\n",
    "for x, y in ((Fraction(1, 2), 1), (1, Fraction(1, 2))):\n",
    "    print(f\"{x} + {y} = {x+y}\")"
   ]
  },
  {
   "cell_type": "markdown",
   "id": "9dd20c44",
   "metadata": {},
   "source": [
    "Another issue is that developers need to fight for a good spot in the conditional\n",
    "statement to implement additions for the new data type."
   ]
  },
  {
   "cell_type": "markdown",
   "id": "3b5fbfcb",
   "metadata": {},
   "source": [
    "These issues can be alleviated somehow in some programming languages such as C and Java supports [function overloading](https://en.wikipedia.org/wiki/Function_overloading)."
   ]
  },
  {
   "cell_type": "code",
   "execution_count": null,
   "id": "93ee1fc9",
   "metadata": {},
   "outputs": [],
   "source": [
    "%%ai chatgpt -f text\n",
    "Explain in a paragraph what function overloading is, and how it can avoid\n",
    "writing conditional statement to implement a function for different types."
   ]
  },
  {
   "cell_type": "markdown",
   "id": "dbb6d8a1",
   "metadata": {},
   "source": [
    "However, Python does not support function overloading by default, and even if it did, it would still quite tedious to implement additions for all possible types and combinations:"
   ]
  },
  {
   "cell_type": "code",
   "execution_count": null,
   "id": "4061a977",
   "metadata": {
    "slideshow": {
     "slide_type": "-"
    }
   },
   "outputs": [],
   "source": [
    "for x, y in ((1, 1.1), (1, complex(1, 2)), ((1, 2), (1, 2))):\n",
    "    print(f\"{x!r:^10} + {y!r:^10} = {x+y!r}\")"
   ]
  },
  {
   "cell_type": "markdown",
   "id": "fddfc7a3",
   "metadata": {
    "slideshow": {
     "slide_type": "fragment"
    }
   },
   "source": [
    "::::{caution}\n",
    "\n",
    "Weaknesses of the naive approach:\n",
    "1. New data types require rewriting the addition operation.\n",
    "1. A programmer may not know all other types and combinations to rewrite the code properly.\n",
    "::::"
   ]
  },
  {
   "cell_type": "markdown",
   "id": "6b275d7a",
   "metadata": {
    "slideshow": {
     "slide_type": "subslide"
    }
   },
   "source": [
    "### Data-directed programming"
   ]
  },
  {
   "cell_type": "markdown",
   "id": "92d7912e",
   "metadata": {
    "slideshow": {
     "slide_type": "fragment"
    }
   },
   "source": [
    "The solution idea is to treat an implementation as a datum that can be returned by the operand types."
   ]
  },
  {
   "cell_type": "code",
   "execution_count": null,
   "id": "55500973",
   "metadata": {
    "slideshow": {
     "slide_type": "subslide"
    }
   },
   "outputs": [],
   "source": [
    "for x, y in (Fraction(1, 2), 1), (1, Fraction(1, 2)):\n",
    "    print(f\"{x} + {y} = {type(x).__add__(x,y)}\")  # instead of x + y"
   ]
  },
  {
   "cell_type": "markdown",
   "id": "ffeaf3e2",
   "metadata": {
    "slideshow": {
     "slide_type": "fragment"
    }
   },
   "source": [
    "- The first case calls `Fraction.__add__`, which provides a way to add `int` to `Fraction`.\n",
    "- The second case calls `int.__add__`, which cannot provide any way of adding `Fraction` to `int`. (Why not?)"
   ]
  },
  {
   "cell_type": "markdown",
   "id": "c64aeb22",
   "metadata": {
    "slideshow": {
     "slide_type": "fragment"
    }
   },
   "source": [
    "::::{note} **Why does python return a [`NotImplemented` object](https://docs.python.org/3.6/library/constants.html#NotImplemented) instead of raising an error/exception?**\n",
    "\n",
    "- This allows `+` to continue to handle the addition by\n",
    "- dispatching on `Fraction` to call its reverse addition method [`__radd__`](https://docs.python.org/3.6/library/numbers.html#implementing-the-arithmetic-operations).\n",
    "\n",
    "::::"
   ]
  },
  {
   "cell_type": "code",
   "execution_count": null,
   "id": "ee7562d9",
   "metadata": {
    "code_folding": [],
    "slideshow": {
     "slide_type": "fragment"
    }
   },
   "outputs": [],
   "source": [
    "%%optlite -h 500\n",
    "from fractions import Fraction\n",
    "\n",
    "\n",
    "def add(x, y):\n",
    "    \"\"\"Simulate the + operator.\"\"\"\n",
    "    sum = x.__add__(y)\n",
    "    if sum is NotImplemented:\n",
    "        sum = y.__radd__(x)\n",
    "    return sum\n",
    "\n",
    "\n",
    "for x, y in (Fraction(1, 2), 1), (1, Fraction(1, 2)):\n",
    "    print(f\"{x} + {y} = {add(x,y)}\")"
   ]
  },
  {
   "cell_type": "markdown",
   "id": "91c62917",
   "metadata": {
    "slideshow": {
     "slide_type": "fragment"
    }
   },
   "source": [
    "::::{important} `x + y` is a [*syntactic sugar*](https://en.wikipedia.org/wiki/Syntactic_sugar)\n",
    "\n",
    "`x + y` invokes the method of the first operand `x` to do the addition:\n",
    "\n",
    "```python\n",
    "x.__add__(y)\n",
    "```\n",
    "\n",
    "If `NotImplemented` object is returned, it invokes the method `radd` of the second operand `y` to do the reverse addition:\n",
    "\n",
    "```python\n",
    "y.__radd__(x)\n",
    "```\n",
    "\n",
    "- A method with *starting and trailing double underscores* in its name is called a [*dunder method*](https://dbader.org/blog/meaning-of-underscores-in-python).  \n",
    "- Dunder methods are not intended to be called directly. E.g., we normally use `+` instead of `__add__`.\n",
    "- [Other operators](https://docs.python.org/3/library/operator.html?highlight=operator) have their corresponding dunder methods that overloads the operator.\n",
    "\n",
    "::::"
   ]
  },
  {
   "cell_type": "markdown",
   "id": "8bc54247",
   "metadata": {},
   "source": [
    "::::{exercise}\n",
    ":label: ex:add\n",
    "\n",
    "Explain how the addition operation for the class `MyStr` behaves differently compared to that of the `str` class:\n",
    "\n",
    "```python\n",
    "class MyStr(str):\n",
    "    def __add__(self, a):\n",
    "        return MyStr(str.__add__(self, str(a)))\n",
    "\n",
    "    def __radd__(self, a):\n",
    "        return MyStr(str.__add__(str(a), self))\n",
    "```\n",
    "\n",
    "::::"
   ]
  },
  {
   "cell_type": "markdown",
   "id": "4e2ca79b",
   "metadata": {
    "deletable": false,
    "nbgrader": {
     "cell_type": "markdown",
     "checksum": "d32fdd668a59edffe7649c719393ea59",
     "grade": true,
     "grade_id": "MyStr",
     "locked": false,
     "points": 0,
     "schema_version": 3,
     "solution": true,
     "task": false
    },
    "slideshow": {
     "slide_type": "-"
    }
   },
   "source": [
    "YOUR ANSWER HERE"
   ]
  },
  {
   "cell_type": "markdown",
   "id": "91293566",
   "metadata": {
    "slideshow": {
     "slide_type": "subslide"
    }
   },
   "source": [
    "The OOP techniques involved are formally called:\n",
    "- [*Polymorphism*](https://en.wikipedia.org/wiki/Polymorphism_(computer_science)): Different types can have different implementations of the same method such as `__add__` and `__radd__`.  \n",
    "- [*Single dispatch*](https://en.wikipedia.org/wiki/Dynamic_dispatch): The implementation such as `+` operation is chosen based on one single type at a time."
   ]
  },
  {
   "cell_type": "code",
   "execution_count": null,
   "id": "8fa3a690",
   "metadata": {},
   "outputs": [],
   "source": [
    "%%ai chatgpt -f text\n",
    "Explain the differences between polymorphism, inheritance, overloading, \n",
    "overriding, and single dispatch in a paragraph or two."
   ]
  }
 ],
 "metadata": {
  "kernelspec": {
   "display_name": "Python 3 (ipykernel)",
   "language": "python",
   "name": "python3"
  }
 },
 "nbformat": 4,
 "nbformat_minor": 5
}
