{
 "cells": [
  {
   "cell_type": "markdown",
   "id": "ae3e8de0",
   "metadata": {
    "slideshow": {
     "slide_type": "slide"
    }
   },
   "source": [
    "---\n",
    "title: Iteration\n",
    "abstract: |\n",
    "    Iteration is a useful construct that specifies how certain code should be executed repeatedly, thereby avoiding the need for code duplication for repetitive tasks. By leveraging iteration, programmers can streamline their code, making it easier to read and maintain. Readers will learn to write iterations using the while statement, and how unintended infinite loops can be introduced without careful choices of looping/termination conditions. For definitive loops where the number of iterations is known before runtime, readers will learn to write for statements to repeatedly execute a block of code with target variables ranging over some iterable collections of items.\n",
    "---"
   ]
  },
  {
   "cell_type": "code",
   "execution_count": null,
   "id": "02bf548e",
   "metadata": {
    "editable": true,
    "slideshow": {
     "slide_type": "slide"
    }
   },
   "outputs": [],
   "source": [
    "import init\n",
    "from ipywidgets import interact\n",
    "\n",
    "await init.install_dependencies()\n",
    "%load_ext divewidgets\n",
    "%load_ext jupyter_ai\n",
    "%ai update chatgpt dive:chat"
   ]
  },
  {
   "cell_type": "markdown",
   "id": "2a5dd3a0",
   "metadata": {
    "slideshow": {
     "slide_type": "slide"
    }
   },
   "source": [
    "## Motivation"
   ]
  },
  {
   "cell_type": "markdown",
   "id": "8a857275",
   "metadata": {
    "slideshow": {
     "slide_type": "fragment"
    }
   },
   "source": [
    "An important application of programming is to automate the boring stuff:\n",
    "\n",
    "- [Sweigart, Al. Automate the boring stuff with Python: practical programming for total beginners. No Starch Press, 2019.](https://julac-cuh.primo.exlibrisgroup.com/permalink/852JULAC_CUH/vit3jk/alma991029405411403408)\n",
    "- LinkedIn Learning: [Using Python for Automation](https://www.linkedin.com/learning/using-python-for-automation-2023/automate-everything-with-python?u=76816450)"
   ]
  },
  {
   "cell_type": "markdown",
   "id": "7e14e35a",
   "metadata": {},
   "source": [
    "A significant contributor to boredom is often the repetitive nature of the task. For instance:\n",
    "\n",
    "- Calculating the maximum value of a sequence of numbers, which can be indefinitely long.\n",
    "- Continuously prompting users for input until it meets the validation criteria.\n",
    "- ..."
   ]
  },
  {
   "cell_type": "code",
   "execution_count": null,
   "id": "2691945f",
   "metadata": {},
   "outputs": [],
   "source": [
    "%%ai chatgpt -f text\n",
    "List three very common repetitive tasks that can be best solved by using iteration in programming.\n",
    "Do not include any code."
   ]
  },
  {
   "cell_type": "markdown",
   "id": "35a7ed22",
   "metadata": {
    "slideshow": {
     "slide_type": "fragment"
    }
   },
   "source": [
    "::::{exercise} counting\n",
    ":label: ex:print-upto\n",
    "\n",
    "Complete the following code to print from 1 up to a user-specified integer?\n",
    "\n",
    ":::{hint} \n",
    ":class: dropdown\n",
    "\n",
    "Identify the pattern in the first few lines of the code, which work for input number no larger than `3`.\n",
    "\n",
    ":::\n",
    "::::"
   ]
  },
  {
   "cell_type": "code",
   "execution_count": null,
   "id": "b0179f7d",
   "metadata": {
    "deletable": false,
    "nbgrader": {
     "cell_type": "code",
     "checksum": "705da31299adb97cd4b1863b42a2f069",
     "grade": false,
     "grade_id": "print-up-to",
     "locked": false,
     "schema_version": 3,
     "solution": true,
     "task": false
    }
   },
   "outputs": [],
   "source": [
    "num = int(input(\">\"))\n",
    "if 1 <= num:\n",
    "    print(1)\n",
    "if 2 <= num:\n",
    "    print(2)\n",
    "if 3 <= num:\n",
    "    print(3)\n",
    "# YOUR CODE HERE\n",
    "raise NotImplementedError"
   ]
  },
  {
   "cell_type": "markdown",
   "id": "7310b814",
   "metadata": {
    "slideshow": {
     "slide_type": "subslide"
    }
   },
   "source": [
    "::::{important} Should you just duplicate some code?\n",
    ":class: dropdown\n",
    "\n",
    "*Code duplication* is a bad practice:\n",
    "- Duplicate code is hard to read/write/maintain. Imagine what you need to do to change some code.\n",
    "- The number of repetitions may not be known before runtime, as in [](#ex:print-upto).\n",
    "\n",
    "Instead, a programmer should write a *loop/iteration* that specifies how a piece of code should be executed repeatedly.\n",
    "\n",
    "::::"
   ]
  },
  {
   "cell_type": "markdown",
   "id": "1eff3720",
   "metadata": {
    "slideshow": {
     "slide_type": "subslide"
    }
   },
   "source": [
    "How to write code without duplication? One way is to write iterations/loops.[^function]\n",
    "\n",
    "[^function]: Another way you will learn later in the course is to write functions and recursions."
   ]
  },
  {
   "cell_type": "code",
   "execution_count": null,
   "id": "c55efc8a",
   "metadata": {},
   "outputs": [],
   "source": [
    "%%ai chatgpt -f text\n",
    "In one paragraph, give a concrete example to explain why code duplication is a bad programming practice for carrying out repetitive tasks, and how basic idea of using iteration to avoid code duplication."
   ]
  },
  {
   "cell_type": "markdown",
   "id": "b98ad469",
   "metadata": {},
   "source": [
    "## Iteration Statements"
   ]
  },
  {
   "cell_type": "markdown",
   "id": "2eb70a05",
   "metadata": {
    "slideshow": {
     "slide_type": "slide"
    }
   },
   "source": [
    "### While Loop"
   ]
  },
  {
   "cell_type": "markdown",
   "id": "f4ecee88",
   "metadata": {
    "slideshow": {
     "slide_type": "fragment"
    }
   },
   "source": [
    "We can use the [`while` statement](https://docs.python.org/3/reference/compound_stmts.html#while) to repeatedly execute certain code until a specified looping condition is false. A simplifed version of the syntax is:\n",
    "\n",
    "```ebnf\n",
    "while_stmt ::=  \"while\" assignment_expression \":\" suite\n",
    "```"
   ]
  },
  {
   "cell_type": "code",
   "execution_count": null,
   "id": "9daf0975",
   "metadata": {},
   "outputs": [],
   "source": [
    "%%flowchart\n",
    "st=>start: Start\n",
    "cond1=>condition: assignment_expression\n",
    "suite1=>operation: suite\n",
    "e=>end\n",
    "\n",
    "st(right)->cond1\n",
    "cond1(yes, right)->suite1(right)->cond1\n",
    "cond1(no)->e"
   ]
  },
  {
   "cell_type": "markdown",
   "id": "b34c3abe",
   "metadata": {},
   "source": [
    "In other words, `suite` is repeatedly executed as long as `assignment_expression` is [interpreted as `True` by the control flow statement](https://docs.python.org/3/reference/expressions.html#booleans)."
   ]
  },
  {
   "cell_type": "markdown",
   "id": "ba9a5b3b",
   "metadata": {
    "slideshow": {
     "slide_type": "subslide"
    }
   },
   "source": [
    "As an example, the following program keep asking for user input until the input is non-empty."
   ]
  },
  {
   "cell_type": "code",
   "execution_count": null,
   "id": "d8d17c15",
   "metadata": {
    "slideshow": {
     "slide_type": "-"
    },
    "tags": [
     "remove-output"
    ]
   },
   "outputs": [],
   "source": [
    "while not input(\"Input something please:\"):\n",
    "    pass"
   ]
  },
  {
   "cell_type": "markdown",
   "id": "ea873556",
   "metadata": {
    "slideshow": {
     "slide_type": "fragment"
    }
   },
   "source": [
    "If user inputs nothing, `input` returns an empty string `''`, which is regarded as `False` by control flow statements, and so the looping condition `not input('...')` is `True`."
   ]
  },
  {
   "cell_type": "markdown",
   "id": "ca9d0852",
   "metadata": {
    "slideshow": {
     "slide_type": "fragment"
    }
   },
   "source": [
    "Consider the following while loop which attempt to solve [](#ex:print-upto):"
   ]
  },
  {
   "cell_type": "code",
   "execution_count": null,
   "id": "6f3024bd",
   "metadata": {
    "slideshow": {
     "slide_type": "-"
    }
   },
   "outputs": [],
   "source": [
    "num = int(input(\">\"))\n",
    "i = -1\n",
    "while i != num:\n",
    "    i += 1\n",
    "    print(i)"
   ]
  },
  {
   "cell_type": "markdown",
   "id": "1ddef788",
   "metadata": {
    "slideshow": {
     "slide_type": "fragment"
    }
   },
   "source": [
    "::::{exercise}\n",
    ":label: ex:infinite-loop\n",
    "\n",
    "Explain how the above `while` loop can become an *infinite loop* that never terminates.\n",
    "\n",
    ":::{tip}\n",
    "\n",
    "If you run into infinite loops in jupyter notebook, try to press the stop button &#x25A0; to interrupt the kernel.\n",
    "\n",
    ":::\n",
    "\n",
    "::::"
   ]
  },
  {
   "cell_type": "markdown",
   "id": "dab0f6c9",
   "metadata": {
    "deletable": false,
    "nbgrader": {
     "cell_type": "markdown",
     "checksum": "d6045e273e15283312425d929acb66ab",
     "grade": true,
     "grade_id": "infinite-loop",
     "locked": false,
     "points": 0,
     "schema_version": 3,
     "solution": true,
     "task": false
    },
    "slideshow": {
     "slide_type": "-"
    }
   },
   "source": [
    "YOUR ANSWER HERE"
   ]
  },
  {
   "cell_type": "markdown",
   "id": "b1384bf6",
   "metadata": {},
   "source": [
    "::::{seealso} Infinite loops\n",
    "\n",
    "When writing loops, it's essential to avoid creating unintended *infinite loops*, which can bring your server to a grinding halt.\n",
    "\n",
    "::::"
   ]
  },
  {
   "cell_type": "markdown",
   "id": "a91d13f3",
   "metadata": {},
   "source": [
    "Indeed, it is impossible to automatically determine whether a program terminates, a challenge known as the [Halting problem](https://en.wikipedia.org/wiki/Halting_problem). See if LLM can summarize the halting problem:"
   ]
  },
  {
   "cell_type": "code",
   "execution_count": null,
   "id": "4dcf6425",
   "metadata": {},
   "outputs": [],
   "source": [
    "%%ai chatgpt -f text\n",
    "Explain the idea of the proof that the halting problem is undecidable.\n",
    "In particular, explain concisely in two paragraphs using the diagonalization argument."
   ]
  },
  {
   "cell_type": "markdown",
   "id": "c02fece7",
   "metadata": {},
   "source": [
    "See if LLM can summarize an analogous proof of the diagonalization argument by Cantor on Number Theory."
   ]
  },
  {
   "cell_type": "code",
   "execution_count": null,
   "id": "9125af5f",
   "metadata": {},
   "outputs": [],
   "source": [
    "%%ai chatgpt -f text\n",
    "Explain why real numbers are uncountable.\n",
    "In particular, explain concisely in two paragraphs using the diagonalization argument."
   ]
  },
  {
   "cell_type": "markdown",
   "id": "50354e99",
   "metadata": {
    "slideshow": {
     "slide_type": "slide"
    }
   },
   "source": [
    "### For Loop"
   ]
  },
  {
   "cell_type": "markdown",
   "id": "a95b4e10",
   "metadata": {},
   "source": [
    "One way to fix the issue in [](#ex:infinite-loop) is to modify the condition of the while loop. (How?) However, we will learn a better fix as follows using  the [`for` statement](https://docs.python.org/3/reference/compound_stmts.html#the-for-statement):"
   ]
  },
  {
   "cell_type": "code",
   "execution_count": null,
   "id": "ea9ffed2",
   "metadata": {
    "slideshow": {
     "slide_type": "-"
    }
   },
   "outputs": [],
   "source": [
    "for i in range(int(input(\">\")) + 1):\n",
    "    print(i)"
   ]
  },
  {
   "cell_type": "markdown",
   "id": "a9cf6f39",
   "metadata": {},
   "source": [
    "A simplified version of the syntax is:\n",
    "\n",
    "```ebnf\n",
    "for_stmt ::=  \"for\" target_list \"in\" starred_list \":\" suite\n",
    "```\n",
    "\n",
    "It is rather difficult to illustrate the execution using a flowchart. See if LLM can summarize the syntax."
   ]
  },
  {
   "cell_type": "code",
   "execution_count": null,
   "id": "e78fef35",
   "metadata": {},
   "outputs": [],
   "source": [
    "%%ai chatgpt -f markdown\n",
    "In one paragraph, explain the syntax of a for loop in Python."
   ]
  },
  {
   "cell_type": "markdown",
   "id": "53e8bb9a",
   "metadata": {
    "slideshow": {
     "slide_type": "fragment"
    }
   },
   "source": [
    "**How to print from 0 to 4?**"
   ]
  },
  {
   "cell_type": "markdown",
   "id": "316d64da",
   "metadata": {
    "slideshow": {
     "slide_type": "fragment"
    }
   },
   "source": [
    "Let us visualize the execution of a simpler version of the for loop that prints from 0 up to 4:"
   ]
  },
  {
   "cell_type": "code",
   "execution_count": null,
   "id": "a08f04c6",
   "metadata": {
    "slideshow": {
     "slide_type": "-"
    }
   },
   "outputs": [],
   "source": [
    "%%optlite -h 300\n",
    "for i in 1, 2, 3, 4:\n",
    "    print(i)"
   ]
  },
  {
   "cell_type": "markdown",
   "id": "3c33ecfc",
   "metadata": {
    "slideshow": {
     "slide_type": "fragment"
    }
   },
   "source": [
    "- `i` is automatically assigned to each element in the sequence `1, 2, 3, 4` one-by-one from left to right.[^overwrite]\n",
    "- After each assignment, the body `print(i)` is executed. \n",
    "\n",
    "[^overwrite]: If `i` is defined before the for loop, its value will be overwritten."
   ]
  },
  {
   "cell_type": "markdown",
   "id": "0bbf0b42",
   "metadata": {
    "slideshow": {
     "slide_type": "fragment"
    }
   },
   "source": [
    "Unlike other languages such as C, Python's `for` loop uses the `in` keyword to iterate over a collection of objects called an [iterable](https://docs.python.org/3.3/glossary.html#term-iterable)."
   ]
  },
  {
   "cell_type": "code",
   "execution_count": null,
   "id": "42553eea",
   "metadata": {},
   "outputs": [],
   "source": [
    "%%ai chatgpt -f markdown\n",
    "Write a for loop in C to print numbers from 1 to 4."
   ]
  },
  {
   "cell_type": "markdown",
   "id": "d7d64dc5",
   "metadata": {},
   "source": [
    "One benefit of using iterable is that it is difficult to write an infinite loop using the Python `for` loop.[^for-infinite-loop] Another reason is that this allows Python to be more expressive and easy to read. For instance:\n",
    "\n",
    "[^for-infinite-loop]: As a challenge, can you rewrite the infinite loop ```while True: pass``` as a `for` loop? You will learn later in the course that this is possible if you so desire!"
   ]
  },
  {
   "cell_type": "code",
   "execution_count": null,
   "id": "7a21e0bd",
   "metadata": {
    "slideshow": {
     "slide_type": "-"
    }
   },
   "outputs": [],
   "source": [
    "tuples = (0, \"l\"), (1, \"o\"), (2, \"o\"), (3, \"p\")\n",
    "for i, c in tuples:\n",
    "    print(i, c)"
   ]
  },
  {
   "cell_type": "code",
   "execution_count": null,
   "id": "8b7cf9fa",
   "metadata": {
    "slideshow": {
     "slide_type": "-"
    }
   },
   "outputs": [],
   "source": [
    "for i, c in enumerate(\"loop\"):\n",
    "    print(i, c)"
   ]
  },
  {
   "cell_type": "markdown",
   "id": "4aa6d240",
   "metadata": {
    "slideshow": {
     "slide_type": "fragment"
    }
   },
   "source": [
    "**How to print up to a user-specified number?**"
   ]
  },
  {
   "cell_type": "markdown",
   "id": "f9a178ad",
   "metadata": {
    "slideshow": {
     "slide_type": "fragment"
    }
   },
   "source": [
    "The complete fix to [](#ex:infinite-loop) uses [`range`](https://docs.python.org/3/library/stdtypes.html#range):"
   ]
  },
  {
   "cell_type": "code",
   "execution_count": null,
   "id": "01893206",
   "metadata": {
    "slideshow": {
     "slide_type": "-"
    },
    "tags": [
     "remove-output"
    ]
   },
   "outputs": [],
   "source": [
    "stop = int(input(\">\")) + 1\n",
    "for i in range(stop):\n",
    "    print(i)"
   ]
  },
  {
   "cell_type": "markdown",
   "id": "cdf949da",
   "metadata": {
    "slideshow": {
     "slide_type": "fragment"
    }
   },
   "source": [
    "::::{caution} Why add 1 to the user input number?\n",
    ":class: dropdown\n",
    "\n",
    "`range(stop)` generates a sequence of integers from `0` up to *but excluding* `stop`:\n",
    "\n",
    "```{code} text\n",
    ":linenos:\n",
    ":emphasize-lines: 7\n",
    "\n",
    "Init signature: range(self, /, *args, **kwargs)\n",
    "Docstring:     \n",
    "range(stop) -> range object\n",
    "range(start, stop[, step]) -> range object\n",
    "\n",
    "Return an object that produces a sequence of integers from start (inclusive)\n",
    "to stop (exclusive) by step.  range(i, j) produces i, i+1, i+2, ..., j-1.\n",
    "start defaults to 0, and stop is omitted!  range(4) produces 0, 1, 2, 3.\n",
    "These are exactly the valid indices for a list of 4 elements.\n",
    "When step is given, it specifies the increment (or decrement).\n",
    "```\n",
    "::::"
   ]
  },
  {
   "cell_type": "markdown",
   "id": "7201082d",
   "metadata": {
    "slideshow": {
     "slide_type": "fragment"
    }
   },
   "source": [
    "**How to start from a number different from `0`?**"
   ]
  },
  {
   "cell_type": "markdown",
   "id": "891da8d2",
   "metadata": {},
   "source": [
    "We can use two arguments to specify the `start` and `stop`."
   ]
  },
  {
   "cell_type": "code",
   "execution_count": null,
   "id": "f15f08f0",
   "metadata": {
    "slideshow": {
     "slide_type": "fragment"
    }
   },
   "outputs": [],
   "source": [
    "for i in range(1, 5):\n",
    "    print(i)"
   ]
  },
  {
   "cell_type": "markdown",
   "id": "610d67ea",
   "metadata": {
    "slideshow": {
     "slide_type": "fragment"
    }
   },
   "source": [
    "**What about a step size different from `1`?**"
   ]
  },
  {
   "cell_type": "markdown",
   "id": "cb3da03d",
   "metadata": {},
   "source": [
    "We can use an additional `step` argument."
   ]
  },
  {
   "cell_type": "code",
   "execution_count": null,
   "id": "1b8f9965",
   "metadata": {
    "slideshow": {
     "slide_type": "fragment"
    }
   },
   "outputs": [],
   "source": [
    "for i in range(0, 5, 2):\n",
    "    print(i)  # starting number must also be specified. Why?"
   ]
  },
  {
   "cell_type": "markdown",
   "id": "4c17f435",
   "metadata": {
    "slideshow": {
     "slide_type": "subslide"
    }
   },
   "source": [
    "::::{exercise} count down\n",
    ":label: ex:count-down\n",
    "\n",
    "How to count down from 4 to 0? Try doing it without addition or subtraction.\n",
    "::::"
   ]
  },
  {
   "cell_type": "code",
   "execution_count": null,
   "id": "fd6ba9bc",
   "metadata": {
    "deletable": false,
    "nbgrader": {
     "cell_type": "code",
     "checksum": "2b213fb206438fe7d7c084bdbac49e61",
     "grade": false,
     "grade_id": "count-down",
     "locked": false,
     "schema_version": 3,
     "solution": true,
     "task": false
    },
    "slideshow": {
     "slide_type": "-"
    }
   },
   "outputs": [],
   "source": [
    "# YOUR CODE HERE\n",
    "raise NotImplementedError"
   ]
  },
  {
   "cell_type": "markdown",
   "id": "e6ffba8e",
   "metadata": {
    "slideshow": {
     "slide_type": "subslide"
    }
   },
   "source": [
    "::::{exercise} fractional steps\n",
    ":label: fractional-step\n",
    "\n",
    "Print from `0` to a user-specified number but in steps of `0.5`.  \n",
    "E.g., if the user inputs `2`, the program should print:\n",
    "\n",
    "```bash\n",
    "0.0\n",
    "0.5\n",
    "1.0\n",
    "1.5\n",
    "2.0\n",
    "```\n",
    "\n",
    ":::{caution}\n",
    ":class: dropdown\n",
    "\n",
    "`range` only accepts integer arguments, so `range(0, 2, 0.5)` is invalid because `0.5` is not integer.\n",
    ":::\n",
    "\n",
    "::::"
   ]
  },
  {
   "cell_type": "code",
   "execution_count": null,
   "id": "6bb025e6",
   "metadata": {
    "deletable": false,
    "nbgrader": {
     "cell_type": "code",
     "checksum": "628e5b3cb1d23677fdfe218e8b1901e2",
     "grade": false,
     "grade_id": "fractional-step",
     "locked": false,
     "schema_version": 3,
     "solution": true,
     "task": false
    },
    "slideshow": {
     "slide_type": "-"
    }
   },
   "outputs": [],
   "source": [
    "num = int(input(\">\"))\n",
    "# YOUR CODE HERE\n",
    "raise NotImplementedError"
   ]
  },
  {
   "cell_type": "markdown",
   "id": "7893014e",
   "metadata": {
    "slideshow": {
     "slide_type": "subslide"
    }
   },
   "source": [
    "::::{exercise}\n",
    ":label: star-rectange\n",
    "\n",
    "How to print the character `'*'` repeatedly for `m` rows and `n` columns? \n",
    "\n",
    ":::{hint}\n",
    ":class: dropdown\n",
    "Try using a *nested for loop*, i.e., a for loop (*inner loop*) inside the body of another for loop (*outer loop*).\n",
    ":::\n",
    "\n",
    "::::"
   ]
  },
  {
   "cell_type": "code",
   "execution_count": null,
   "id": "6f19a257",
   "metadata": {
    "deletable": false,
    "nbgrader": {
     "cell_type": "code",
     "checksum": "30dac90bd4afa352d934a4d7c41a1a23",
     "grade": false,
     "grade_id": "nested-loop",
     "locked": false,
     "schema_version": 3,
     "solution": true,
     "task": false
    },
    "slideshow": {
     "slide_type": "-"
    }
   },
   "outputs": [],
   "source": [
    "@interact(m=(0, 10), n=(0, 10))\n",
    "def draw_rectangle(m=5, n=5):\n",
    "    # YOUR CODE HERE\n",
    "    raise NotImplementedError"
   ]
  },
  {
   "cell_type": "markdown",
   "id": "9a6a9ad1",
   "metadata": {
    "slideshow": {
     "slide_type": "subslide"
    }
   },
   "source": [
    "**What about iterating over characters of a string?**"
   ]
  },
  {
   "cell_type": "code",
   "execution_count": null,
   "id": "ca0a367e",
   "metadata": {
    "slideshow": {
     "slide_type": "-"
    }
   },
   "outputs": [],
   "source": [
    "%%optlite -h 300\n",
    "for character in \"loop\":\n",
    "    print(character)"
   ]
  },
  {
   "cell_type": "markdown",
   "id": "a2c5b33c",
   "metadata": {
    "slideshow": {
     "slide_type": "fragment"
    }
   },
   "source": [
    "In python, `str` is also regarded as an iterable, or more specifically, a [*sequence type*](https://docs.python.org/3/library/stdtypes.html#textseq), namely, a sequence of characters.\n",
    "- The function [`len`](https://docs.python.org/3/library/functions.html#len) can return the length of a string.\n",
    "- The indexing operator `[]` can return the character of a string at a specified location."
   ]
  },
  {
   "cell_type": "code",
   "execution_count": null,
   "id": "ca08084c",
   "metadata": {
    "slideshow": {
     "slide_type": "-"
    }
   },
   "outputs": [],
   "source": [
    "message = \"loop\"\n",
    "print(\"length:\", len(message))\n",
    "print(\"characters:\", message[0], message[1], message[2], message[3])\n",
    "# Negative indexing also allowed.\n",
    "print(\"characters:\", message[-4], message[-3], message[-2], message[-1])"
   ]
  },
  {
   "cell_type": "markdown",
   "id": "46ffca70",
   "metadata": {
    "slideshow": {
     "slide_type": "fragment"
    }
   },
   "source": [
    "We can also iterate over a string as follows although it is less elegant:"
   ]
  },
  {
   "cell_type": "code",
   "execution_count": null,
   "id": "86fc9b2c",
   "metadata": {
    "slideshow": {
     "slide_type": "-"
    }
   },
   "outputs": [],
   "source": [
    "for i in range(len(\"loop\")):\n",
    "    print(\"loop\"[i])"
   ]
  },
  {
   "cell_type": "markdown",
   "id": "6919efa4",
   "metadata": {
    "slideshow": {
     "slide_type": "subslide"
    }
   },
   "source": [
    "::::{exercise}\n",
    "\n",
    "Print a string assigned to `message` in one line but in reverse. E.g., `'loop'` should be printed as `'pool'`.\n",
    "\n",
    "::::"
   ]
  },
  {
   "cell_type": "code",
   "execution_count": null,
   "id": "bc2cc457",
   "metadata": {
    "deletable": false,
    "nbgrader": {
     "cell_type": "code",
     "checksum": "87d569c8bfdb98fe6373b1ec3f2800bb",
     "grade": false,
     "grade_id": "reverse-string",
     "locked": false,
     "schema_version": 3,
     "solution": true,
     "task": false
    },
    "slideshow": {
     "slide_type": "-"
    }
   },
   "outputs": [],
   "source": [
    "@interact(message=\"loop\")\n",
    "def reverse_print(message):\n",
    "    # YOUR CODE HERE\n",
    "    raise NotImplementedError"
   ]
  },
  {
   "cell_type": "markdown",
   "id": "cbb24543",
   "metadata": {},
   "source": [
    "### While Loop vs For Loop"
   ]
  },
  {
   "cell_type": "markdown",
   "id": "751d7975",
   "metadata": {},
   "source": [
    "**How to decide whether to use while loop or for loop?**"
   ]
  },
  {
   "cell_type": "markdown",
   "id": "52e6dc7f",
   "metadata": {},
   "source": [
    "::::{important} Definite vs indefinite loops\n",
    "\n",
    "-  `for` is often used for a *definite loop* which has a definite number of iterations before execution.\n",
    "- `while` is often used for an *indefinite loop* where the number of iterations is unknown before execution.\n",
    "::::"
   ]
  },
  {
   "cell_type": "markdown",
   "id": "07bbd1f6",
   "metadata": {
    "slideshow": {
     "slide_type": "fragment"
    }
   },
   "source": [
    "It is always possible to replace a `for` loop by a `while` loop. Indeed, a `for` loop such as\n",
    "\n",
    "```python\n",
    "for i in range(5): print(i)\n",
    "```\n",
    "\n",
    "translates to the following code using a `while` loop:"
   ]
  },
  {
   "cell_type": "code",
   "execution_count": null,
   "id": "beeb2249",
   "metadata": {},
   "outputs": [],
   "source": [
    "%%optlite -h 400\n",
    "iterable = range(5)\n",
    "iterator = iter(iterable)\n",
    "try:\n",
    "    while True:\n",
    "        i = next(iterator)\n",
    "        print(i)\n",
    "except StopIteration: pass"
   ]
  },
  {
   "cell_type": "markdown",
   "id": "62c72e4f",
   "metadata": {},
   "source": [
    "When executing the `for` loop, \n",
    "- the interpretor creates an iterator from the iterable, which tracks the next element to be assigned to the target variable.[^for-1]\n",
    "- The loop terminates automatically when the iterator has no next element and raises an exception to signal the end of iteration.[^for-2]\n",
    "\n",
    "\n",
    "[^for-1]: The `iter` function is used to create an iterator from an iterable, such as a range object. Each iteration of the `while` loop calls the `next` function on the iterator to retrieve the next value from the iterable.\n",
    "[^for-2]: If there are no more next values, the iterator raises a `StopIteration` exception. The `except` block is used to catch this exception to prevent it from bubbling up further and crashing the program. The `try` block specifies the code to monitor for the exception to catch."
   ]
  },
  {
   "cell_type": "markdown",
   "id": "eabe3c8a",
   "metadata": {},
   "source": [
    "We can compare the speed of the `for` loop and `while` loop using the [cell magic `%%timeit`](https://ipython.readthedocs.io/en/stable/interactive/magics.html#magic-timeit) as follows:"
   ]
  },
  {
   "cell_type": "code",
   "execution_count": null,
   "id": "3f04b8d0",
   "metadata": {},
   "outputs": [],
   "source": [
    "%%timeit\n",
    "for i in range(5): cur_count = i"
   ]
  },
  {
   "cell_type": "code",
   "execution_count": null,
   "id": "f79849bb",
   "metadata": {
    "slideshow": {
     "slide_type": "fragment"
    }
   },
   "outputs": [],
   "source": [
    "%%timeit\n",
    "i = 0\n",
    "while i < 5:\n",
    "    cur_count = i\n",
    "    i += 1"
   ]
  },
  {
   "cell_type": "code",
   "execution_count": null,
   "id": "c87f869f",
   "metadata": {},
   "outputs": [],
   "source": [
    "%%ai chatgpt -f text\n",
    "Is it always possible to replace a while loop by a for loop?"
   ]
  },
  {
   "cell_type": "markdown",
   "id": "3b3b341e",
   "metadata": {
    "slideshow": {
     "slide_type": "slide"
    }
   },
   "source": [
    "## Break/Continue/Else Constructs"
   ]
  },
  {
   "cell_type": "markdown",
   "id": "2566df00",
   "metadata": {},
   "source": [
    "So far, we have ignored part of the syntax of the `for` loop and `while` loop:\n",
    "\n",
    "```ebnf\n",
    "while_stmt ::=  \"while\" assignment_expression \":\" suite\n",
    "                [\"else\" \":\" suite]\n",
    "\n",
    "for_stmt   ::=  \"for\" target_list \"in\" starred_list \":\" suite\n",
    "                [\"else\" \":\" suite]\n",
    "```\n",
    "\n",
    "namely, the else clause `[\"else\" \":\" suite]` which also appears in the `if` statement. How does it work?"
   ]
  },
  {
   "cell_type": "markdown",
   "id": "fe6873e5",
   "metadata": {
    "slideshow": {
     "slide_type": "subslide"
    }
   },
   "source": [
    "### Breaking out of a loop"
   ]
  },
  {
   "cell_type": "markdown",
   "id": "d4b7f51a",
   "metadata": {
    "slideshow": {
     "slide_type": "fragment"
    }
   },
   "source": [
    "**Is the following an infinite loop?**"
   ]
  },
  {
   "cell_type": "code",
   "execution_count": null,
   "id": "ed1a54a5",
   "metadata": {
    "slideshow": {
     "slide_type": "-"
    }
   },
   "outputs": [],
   "source": [
    "while True:\n",
    "    message = input(\"Input something please:\")\n",
    "    if message:\n",
    "        break\n",
    "print(\"You entered:\", message)"
   ]
  },
  {
   "cell_type": "markdown",
   "id": "2d6e2793",
   "metadata": {
    "slideshow": {
     "slide_type": "fragment"
    }
   },
   "source": [
    "The loop is terminated by the [`break` statement](https://docs.python.org/3/tutorial/controlflow.html#break-and-continue-statements-and-else-clauses-on-loops) when user input is non-empty."
   ]
  },
  {
   "cell_type": "markdown",
   "id": "db29962d",
   "metadata": {
    "slideshow": {
     "slide_type": "subslide"
    }
   },
   "source": [
    "**Why is the `break` statement useful?**"
   ]
  },
  {
   "cell_type": "markdown",
   "id": "33f06e69",
   "metadata": {
    "slideshow": {
     "slide_type": "fragment"
    }
   },
   "source": [
    " Recall the earlier `while` loop:"
   ]
  },
  {
   "cell_type": "code",
   "execution_count": null,
   "id": "61303f99",
   "metadata": {
    "slideshow": {
     "slide_type": "-"
    }
   },
   "outputs": [],
   "source": [
    "while not input(\"Input something please:\"):\n",
    "    pass"
   ]
  },
  {
   "cell_type": "markdown",
   "id": "a6ec7917",
   "metadata": {
    "slideshow": {
     "slide_type": "fragment"
    }
   },
   "source": [
    "This while loop is not useful because it does not store the user input."
   ]
  },
  {
   "cell_type": "markdown",
   "id": "0148ef0e",
   "metadata": {
    "slideshow": {
     "slide_type": "subslide"
    }
   },
   "source": [
    "**Is the `break` statement strictly necessary?**"
   ]
  },
  {
   "cell_type": "markdown",
   "id": "11679752",
   "metadata": {
    "slideshow": {
     "slide_type": "fragment"
    }
   },
   "source": [
    "We can use the assignment expression but it is not supported by Python version <3.8."
   ]
  },
  {
   "cell_type": "markdown",
   "id": "5095e66e",
   "metadata": {
    "slideshow": {
     "slide_type": "fragment"
    }
   },
   "source": [
    "We can avoid `break` statement by using *flags*, which are boolean variables for flow control:"
   ]
  },
  {
   "cell_type": "code",
   "execution_count": null,
   "id": "45a82289",
   "metadata": {
    "slideshow": {
     "slide_type": "fragment"
    }
   },
   "outputs": [],
   "source": [
    "has_no_input = True\n",
    "while has_no_input:\n",
    "    message = input(\"Input something please:\")\n",
    "    if message:\n",
    "        has_no_input = False\n",
    "print(\"You entered:\", message)"
   ]
  },
  {
   "cell_type": "markdown",
   "id": "ab2adcc2",
   "metadata": {
    "slideshow": {
     "slide_type": "fragment"
    }
   },
   "source": [
    "::::{note}\n",
    "\n",
    "Using flags sometimes makes the program more readable, and we can use multiple flags for more complicated behavior.  \n",
    "The variable names for flags are often `is_...`, `has_...`, etc.\n",
    "::::"
   ]
  },
  {
   "cell_type": "markdown",
   "id": "471f740e",
   "metadata": {
    "slideshow": {
     "slide_type": "slide"
    }
   },
   "source": [
    "### Continue to Next Iteration"
   ]
  },
  {
   "cell_type": "markdown",
   "id": "ab826186",
   "metadata": {
    "slideshow": {
     "slide_type": "subslide"
    }
   },
   "source": [
    "**What does the following program do?  \n",
    "Is it an infinite loop?**"
   ]
  },
  {
   "cell_type": "markdown",
   "id": "eea221ec",
   "metadata": {},
   "source": [
    "```python\n",
    "while True:\n",
    "    message = input(\"Input something please:\")\n",
    "    if not message:\n",
    "        continue\n",
    "    print(\"You entered:\", message)\n",
    "```"
   ]
  },
  {
   "cell_type": "markdown",
   "id": "c4d7d4e7",
   "metadata": {
    "slideshow": {
     "slide_type": "fragment"
    }
   },
   "source": [
    "- The program repeatedly asks the user for input.\n",
    "- If the input is empty, the `continue` statement will skip to the next iteration.\n",
    "- The loop can only be terminated by interrupting the kernel.\n",
    "- Such an infinite loop can be useful. E.g., your computer clock continuously updates the current time."
   ]
  },
  {
   "cell_type": "markdown",
   "id": "26f88c79",
   "metadata": {
    "slideshow": {
     "slide_type": "fragment"
    }
   },
   "source": [
    "::::{exercise} continue\n",
    ":label: ex:continue\n",
    "\n",
    "Is the `continue` statement strictly necessary? Can you rewrite the above program without the `continue` statement?\n",
    "\n",
    "::::"
   ]
  },
  {
   "cell_type": "code",
   "execution_count": null,
   "id": "c3aa3219",
   "metadata": {
    "deletable": false,
    "nbgrader": {
     "cell_type": "code",
     "checksum": "b600dad61e87196fdcc196c9ae8f53b7",
     "grade": false,
     "grade_id": "avoid-continue",
     "locked": false,
     "schema_version": 3,
     "solution": true,
     "task": false
    },
    "slideshow": {
     "slide_type": "-"
    }
   },
   "outputs": [],
   "source": [
    "while True:\n",
    "    message = input(\"Input something please:\")\n",
    "    # YOUR CODE HERE\n",
    "    raise NotImplementedError"
   ]
  },
  {
   "cell_type": "markdown",
   "id": "a33542a7",
   "metadata": {
    "slideshow": {
     "slide_type": "subslide"
    }
   },
   "source": [
    "### Else construct for a loop"
   ]
  },
  {
   "cell_type": "markdown",
   "id": "cb6fc164",
   "metadata": {
    "slideshow": {
     "slide_type": "fragment"
    }
   },
   "source": [
    "The following program checks whether a number is composite, namely,  \n",
    "- a positive integer that is\n",
    "- a product of two strictly smaller positive integers."
   ]
  },
  {
   "cell_type": "code",
   "execution_count": null,
   "id": "97223af4",
   "metadata": {
    "slideshow": {
     "slide_type": "-"
    }
   },
   "outputs": [],
   "source": [
    "@interact(num=\"1\")\n",
    "def check_composite(num):\n",
    "    if num.isdigit():\n",
    "        num = int(num)\n",
    "        for divisor in range(2, num):  # why starts from 2 instead of 1\n",
    "            if num % divisor:\n",
    "                continue  # where will this go?\n",
    "            else:\n",
    "                print(\"It is composite.\")\n",
    "                break  # where will this go?\n",
    "        else:\n",
    "            print(\"It is not composite.\")  # how to get here?\n",
    "    else:\n",
    "        print(\"Not a positive integer.\")  # how to get here?"
   ]
  },
  {
   "cell_type": "markdown",
   "id": "2a4a3384",
   "metadata": {
    "slideshow": {
     "slide_type": "fragment"
    }
   },
   "source": [
    "::::{exercise}\n",
    ":label: ex:else-for-loop\n",
    "\n",
    "There are three `else` clauses in the earlier code. Which one is for the loop and when is it be called?\n",
    "\n",
    "::::"
   ]
  },
  {
   "cell_type": "markdown",
   "id": "388d8e9f",
   "metadata": {
    "slideshow": {
     "slide_type": "-"
    }
   },
   "source": [
    "::::{solution} ex:else-for-loop\n",
    ":class: dropdown\n",
    "\n",
    "- The second else clause that `print('It is not composite.')`.\n",
    "- The clause is called when there is no divisor found in the range from `2` to `num`.\n",
    "::::"
   ]
  },
  {
   "cell_type": "markdown",
   "id": "407dda32",
   "metadata": {
    "slideshow": {
     "slide_type": "subslide"
    }
   },
   "source": [
    "Try stepping through execution to understand the flow of the program:"
   ]
  },
  {
   "cell_type": "code",
   "execution_count": null,
   "id": "72b8af4a",
   "metadata": {
    "slideshow": {
     "slide_type": "fragment"
    }
   },
   "outputs": [],
   "source": [
    "%%optlite -h 650\n",
    "def check_composite(num):\n",
    "    if num.isdigit():\n",
    "        num = int(num)\n",
    "        for divisor in range(2, num):\n",
    "            if num % divisor:\n",
    "                continue\n",
    "            else:\n",
    "                print(\"It is composite.\")\n",
    "                break\n",
    "        else:\n",
    "            print(\"It is not composite.\")\n",
    "    else:\n",
    "        print(\"Not a positive integer.\")\n",
    "\n",
    "\n",
    "check_composite(\"1\")\n",
    "check_composite(\"2\")\n",
    "check_composite(\"3\")\n",
    "check_composite(\"4\")"
   ]
  },
  {
   "cell_type": "markdown",
   "id": "5c35c4d0",
   "metadata": {
    "slideshow": {
     "slide_type": "fragment"
    }
   },
   "source": [
    "In addition to using `continue` and `break` in an elegant way,  the code also uses an else clause that is executed only when the [loop terminates *normally*, i.e., not by a `break`](https://docs.python.org/3/reference/compound_stmts.html#the-for-statement)."
   ]
  },
  {
   "cell_type": "markdown",
   "id": "99549e0b",
   "metadata": {
    "slideshow": {
     "slide_type": "subslide"
    }
   },
   "source": [
    "::::{exercise} composite\n",
    ":label: ex:composite\n",
    "\n",
    "Convert the for loop to a while loop. Try to make the code as efficient as possible with less computation and storage.\n",
    "\n",
    "::::"
   ]
  },
  {
   "cell_type": "code",
   "execution_count": null,
   "id": "d5921364",
   "metadata": {
    "deletable": false,
    "nbgrader": {
     "cell_type": "code",
     "checksum": "d3603216fbe1104e399096e45279cdfa",
     "grade": false,
     "grade_id": "for-to-while",
     "locked": false,
     "schema_version": 3,
     "solution": true,
     "task": false
    },
    "slideshow": {
     "slide_type": "-"
    }
   },
   "outputs": [],
   "source": [
    "@interact(num=\"1\")\n",
    "def check_composite(num):\n",
    "    if num.isdigit():\n",
    "        num = int(num)\n",
    "        # YOUR CODE HERE\n",
    "        raise NotImplementedError\n",
    "    else:\n",
    "        print(\"Not a positive integer.\")"
   ]
  }
 ],
 "metadata": {
  "kernelspec": {
   "display_name": "Python 3 (ipykernel)",
   "language": "python",
   "name": "python3"
  }
 },
 "nbformat": 4,
 "nbformat_minor": 5
}
