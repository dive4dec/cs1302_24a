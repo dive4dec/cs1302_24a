{
 "cells": [
  {
   "cell_type": "markdown",
   "id": "30042617",
   "metadata": {
    "slideshow": {
     "slide_type": "slide"
    }
   },
   "source": [
    "---\n",
    "title: Cybersecurity\n",
    "---"
   ]
  },
  {
   "cell_type": "code",
   "execution_count": null,
   "id": "b0ee6762",
   "metadata": {},
   "outputs": [],
   "source": [
    "from __init__ import install_dependencies\n",
    "\n",
    "await install_dependencies()"
   ]
  },
  {
   "cell_type": "code",
   "execution_count": null,
   "id": "ae942f05",
   "metadata": {},
   "outputs": [],
   "source": [
    "%reload_ext divewidgets"
   ]
  },
  {
   "cell_type": "markdown",
   "id": "05c80e58",
   "metadata": {
    "slideshow": {
     "slide_type": "subslide"
    }
   },
   "source": [
    "Python is a popular tool among hackers and engineers. In this lab, you will learn Cryptology in cybersecurity, which covers:\n",
    "- [Cryptography](https://en.wikipedia.org/wiki/Cryptography): Encryption and decryption using a cipher.\n",
    "- [Cryptanalysis](https://en.wikipedia.org/wiki/Cryptanalysis): Devising an attack to break a cipher."
   ]
  },
  {
   "cell_type": "markdown",
   "id": "e337f6f8",
   "metadata": {
    "slideshow": {
     "slide_type": "slide"
    }
   },
   "source": [
    "## Symmetric key cipher"
   ]
  },
  {
   "cell_type": "markdown",
   "id": "864edb27",
   "metadata": {
    "slideshow": {
     "slide_type": "fragment"
    }
   },
   "source": [
    "We first implement a simple cipher known as the [Caesar cipher](https://en.wikipedia.org/wiki/Caesar_cipher). Named after Julius Caesar, who used it to protect his private correspondence, this cipher involves shifting letters in the alphabet by a fixed number of positions:"
   ]
  },
  {
   "cell_type": "markdown",
   "id": "5d306345",
   "metadata": {},
   "source": [
    "::::{card}\n",
    ":header: The Caesar cipher\n",
    ":footer: [(open in new tab)](https://www.youtube.com/embed/sMOZf4GN3oc)\n",
    "\n",
    ":::{iframe} https://www.youtube.com/embed/sMOZf4GN3oc\n",
    ":align: center\n",
    ":width: 100%\n",
    "\n",
    ":::"
   ]
  },
  {
   "cell_type": "markdown",
   "id": "befaeef7",
   "metadata": {
    "slideshow": {
     "slide_type": "subslide"
    }
   },
   "source": [
    "### Encrypt/decrypt a character"
   ]
  },
  {
   "cell_type": "markdown",
   "id": "99c35ee7",
   "metadata": {
    "slideshow": {
     "slide_type": "fragment"
    }
   },
   "source": [
    "**How to encrypt a character?**"
   ]
  },
  {
   "cell_type": "markdown",
   "id": "8d8ef9ca",
   "metadata": {
    "slideshow": {
     "slide_type": "fragment"
    }
   },
   "source": [
    "The following code encrypts a character `char` using a non-negative integer `key`."
   ]
  },
  {
   "cell_type": "code",
   "execution_count": null,
   "id": "11116b99",
   "metadata": {
    "code_folding": [],
    "slideshow": {
     "slide_type": "-"
    }
   },
   "outputs": [],
   "source": [
    "cc_n = 1114112\n",
    "\n",
    "\n",
    "def cc_encrypt_character(char, key):\n",
    "    \"\"\"\n",
    "    Return the encryption of a character by an integer key using Caesar cipher.\n",
    "\n",
    "    Parameters\n",
    "    ----------\n",
    "    char: str\n",
    "        a unicode (UTF-8) character to be encrypted.\n",
    "    key int:\n",
    "        secret key to encrypt char.\n",
    "    \"\"\"\n",
    "    char_code = ord(char)\n",
    "    shifted_char_code = (char_code + key) % cc_n\n",
    "    encrypted_char = chr(shifted_char_code)\n",
    "    return encrypted_char"
   ]
  },
  {
   "cell_type": "markdown",
   "id": "7548fed2",
   "metadata": {
    "slideshow": {
     "slide_type": "fragment"
    }
   },
   "source": [
    "For example, to encrypt the letter `'A'` using a secret key `5`:"
   ]
  },
  {
   "cell_type": "code",
   "execution_count": null,
   "id": "7ca007f0",
   "metadata": {
    "slideshow": {
     "slide_type": "-"
    }
   },
   "outputs": [],
   "source": [
    "cc_encrypt_character(\"A\", 5)"
   ]
  },
  {
   "cell_type": "markdown",
   "id": "39c06881",
   "metadata": {
    "slideshow": {
     "slide_type": "fragment"
    }
   },
   "source": [
    "The character `'A'` is encrypted to the character `'F'` as follows:\n",
    "\n",
    "1. `ord(char)` return the integer `65`, which is the code point (integer representation) of the unicode of `'A'`. \n",
    "2. `(char_code + key) % cc_n` cyclic shifts the code by the key `5`.\n",
    "3. `chr(shifted_char_code)` converts the shifted code back to a character, which is `'F'`.\n",
    "\n",
    "| Encryption steps                |     |       |     |     |     |     |     |     |\n",
    "| ------------------------------- | --- | ----- | --- | --- | --- | --- | --- | --- |\n",
    "| `char`                          | ... | **A** | B   | C   | D   | E   | F   | ... |\n",
    "| `ord(char)`                     | ... | **65**| 66  | 67  | 68  | 69  | 70  | ... |\n",
    "| `(ord(char) + key) % cc_n`      | ... | **70**| 71  | 72  | 73  | 74  | 75  | ... |\n",
    "| `chr((ord(char) + key) % cc_n)` | ... | **F** | G   | H   | I   | J   | K   | ... |"
   ]
  },
  {
   "cell_type": "markdown",
   "id": "b9c57e09",
   "metadata": {
    "slideshow": {
     "slide_type": "fragment"
    }
   },
   "source": [
    "You may learn more about `ord` and `chr` from their docstrings:"
   ]
  },
  {
   "cell_type": "code",
   "execution_count": null,
   "id": "fdb89e58",
   "metadata": {
    "slideshow": {
     "slide_type": "-"
    }
   },
   "outputs": [],
   "source": [
    "help(ord)\n",
    "help(chr)"
   ]
  },
  {
   "cell_type": "markdown",
   "id": "187c57d7",
   "metadata": {
    "slideshow": {
     "slide_type": "subslide"
    }
   },
   "source": [
    "**How to decrypt a character?**"
   ]
  },
  {
   "cell_type": "markdown",
   "id": "f92e57aa",
   "metadata": {
    "slideshow": {
     "slide_type": "fragment"
    }
   },
   "source": [
    "Mathematically, we define the encryption and decryption of a character for Caesar cipher as\n",
    "\n",
    "\\begin{align} \n",
    "f_k(x) &:= x + k \\mod n & \\text{(encryption)} \\\\\n",
    "g_k(y) &:= y - k \\mod n & \\text{(decryption),} \n",
    "\\end{align}\n",
    "\n",
    "where $x$ is the character code and $k$ is the secret key, both of which are in $\\{0,\\dots,n-1\\}$. `mod` operator above is the modulo operator. In Mathematics, it has a lower precedence than addition and multiplication and is typeset with an extra space accordingly."
   ]
  },
  {
   "cell_type": "markdown",
   "id": "2b960b25",
   "metadata": {
    "slideshow": {
     "slide_type": "fragment"
    }
   },
   "source": [
    "The encryption and decryption satisfy the recoverability condition\n",
    "\n",
    "$$ g_k(f_k(x)) = x $$\n",
    "so two people with a common secret key can encrypt and decrypt a character, but others without the key cannot. This defines a [symmetric cipher](https://en.wikipedia.org/wiki/Symmetric-key_algorithm)."
   ]
  },
  {
   "cell_type": "markdown",
   "id": "f2edfe3d",
   "metadata": {
    "slideshow": {
     "slide_type": "fragment"
    }
   },
   "source": [
    "The following code decrypts a character using a key."
   ]
  },
  {
   "cell_type": "code",
   "execution_count": null,
   "id": "b8503c03",
   "metadata": {
    "slideshow": {
     "slide_type": "-"
    }
   },
   "outputs": [],
   "source": [
    "def cc_decrypt_character(char, key):\n",
    "    \"\"\"\n",
    "    Return the decryption of a character by the key using Caesar cipher.\n",
    "\n",
    "    Parameters\n",
    "    ----------\n",
    "    char: str\n",
    "        a unicode (UTF-8) character to be decrypted.\n",
    "    key: int\n",
    "        secret key to decrypt char.\n",
    "    \"\"\"\n",
    "    char_code = ord(char)\n",
    "    shifted_char_code = (char_code - key) % cc_n\n",
    "    decrypted_char = chr(shifted_char_code)\n",
    "    return decrypted_char"
   ]
  },
  {
   "cell_type": "markdown",
   "id": "2d79ae78",
   "metadata": {
    "slideshow": {
     "slide_type": "fragment"
    }
   },
   "source": [
    "For instance, to decrypt the letter `'F'` by the secret key `5`:"
   ]
  },
  {
   "cell_type": "code",
   "execution_count": null,
   "id": "b563cea4",
   "metadata": {
    "slideshow": {
     "slide_type": "-"
    }
   },
   "outputs": [],
   "source": [
    "cc_decrypt_character(\"F\", 5)"
   ]
  },
  {
   "cell_type": "markdown",
   "id": "5e9cc21b",
   "metadata": {
    "slideshow": {
     "slide_type": "fragment"
    }
   },
   "source": [
    "The character `'F'` is decrypted back to `'A'` because\n",
    "`(char_code - key) % cc_n` reverse cyclic shifts the code by the key `5`.\n",
    "\n",
    "| Encryption steps                |     |       |     |     |     |     |     |     | Decryption steps               |\n",
    "| ------------------------------- | --- | ----- | --- | --- | --- | --- | --- | --- | ------------------------------- |\n",
    "| `char`                          | ... | **A** | B   | C   | D   | E   | F   | ... | `chr((ord(char) - key) % cc_n)` |\n",
    "| `ord(char)`                     | ... | **65**| 66  | 67  | 68  | 69  | 70  | ... | `(ord(char) - key) % cc_n`      |\n",
    "| `(ord(char) + key) % cc_n`      | ... | **70**| 71  | 72  | 73  | 74  | 75  | ... | `ord(char)`                     |\n",
    "| `chr((ord(char) + key) % cc_n)` | ... | **F** | G   | H   | I   | J   | K   | ... | `char`                          |"
   ]
  },
  {
   "cell_type": "markdown",
   "id": "ce3c5e73",
   "metadata": {
    "slideshow": {
     "slide_type": "subslide"
    }
   },
   "source": [
    "::::{exercise}\n",
    ":label: ex:modulo-arithmetic\n",
    "\n",
    "Why did we set `cc_n = 1114112`? Explain whether the recoverability property may fail if we set `cc_n` to a bigger number or remove `% cc_n` for both `cc_encrypt_character` and `cc_decrypt_character`.\n",
    "\n",
    "::::"
   ]
  },
  {
   "cell_type": "markdown",
   "id": "840126b4",
   "metadata": {
    "deletable": false,
    "nbgrader": {
     "cell_type": "markdown",
     "checksum": "e73c497e70f1a86fe0ead6483b3a7d17",
     "grade": true,
     "grade_id": "modulo",
     "locked": false,
     "points": 1,
     "schema_version": 3,
     "solution": true,
     "task": false
    },
    "slideshow": {
     "slide_type": "-"
    }
   },
   "source": [
    "YOUR ANSWER HERE"
   ]
  },
  {
   "cell_type": "markdown",
   "id": "08b9fb68",
   "metadata": {
    "slideshow": {
     "slide_type": "slide"
    }
   },
   "source": [
    "### Encrypt a plaintext and decrypt a ciphertext"
   ]
  },
  {
   "cell_type": "markdown",
   "id": "5a301d0a",
   "metadata": {
    "slideshow": {
     "slide_type": "fragment"
    }
   },
   "source": [
    "Of course, it is more interesting to encrypt a string instead of a character. The following code implements this in one line."
   ]
  },
  {
   "cell_type": "code",
   "execution_count": null,
   "id": "3cdda3e9",
   "metadata": {
    "slideshow": {
     "slide_type": "-"
    }
   },
   "outputs": [],
   "source": [
    "def cc_encrypt(plaintext, key):\n",
    "    \"\"\"\n",
    "    Return the ciphertext of a plaintext by the key using the Caesar cipher.\n",
    "\n",
    "    Parameters\n",
    "    ----------\n",
    "    plaintext: str\n",
    "        A unicode (UTF-8) message to be encrypted.\n",
    "    public_key: int\n",
    "        Public key to encrypt plaintext.\n",
    "    \"\"\"\n",
    "    return \"\".join([chr((ord(char) + key) % cc_n) for char in plaintext])"
   ]
  },
  {
   "cell_type": "markdown",
   "id": "dfdc8a7f",
   "metadata": {
    "slideshow": {
     "slide_type": "fragment"
    }
   },
   "source": [
    "The above function encrypts a message, referred to as the *plaintext*, by replacing each character with its encryption. This is referred to as a [*substitution cipher*](https://en.wikipedia.org/wiki/Substitution_cipher)."
   ]
  },
  {
   "cell_type": "markdown",
   "id": "19dd19ee",
   "metadata": {
    "slideshow": {
     "slide_type": "subslide"
    }
   },
   "source": [
    "::::{exercise}\n",
    ":label: ex:cc-decrypt\n",
    "\n",
    "Define a function `cc_decrypt` that\n",
    "- takes a string `ciphertext` and an integer `key`, and\n",
    "- returns the plaintext that encrypts to `ciphertext` by the key using Caesar cipher.\n",
    "\n",
    "::::"
   ]
  },
  {
   "cell_type": "code",
   "execution_count": null,
   "id": "69a302a9",
   "metadata": {
    "deletable": false,
    "nbgrader": {
     "cell_type": "code",
     "checksum": "c796a1df67a2852e9e5e0f58c0b48e59",
     "grade": false,
     "grade_id": "cc_decrypt",
     "locked": false,
     "schema_version": 3,
     "solution": true,
     "task": false
    },
    "slideshow": {
     "slide_type": "-"
    },
    "tags": [
     "remove-output"
    ]
   },
   "outputs": [],
   "source": [
    "def cc_decrypt(ciphertext, key):\n",
    "    \"\"\"\n",
    "    Return the plaintext that encrypts to ciphertext by the key using Caesar cipher.\n",
    "\n",
    "    Parameters\n",
    "    ----------\n",
    "    ciphertext: str\n",
    "        message to be decrypted.\n",
    "    key: int\n",
    "        secret key to decrypt the ciphertext.\n",
    "    \"\"\"\n",
    "    # YOUR CODE HERE\n",
    "    raise NotImplementedError"
   ]
  },
  {
   "cell_type": "code",
   "execution_count": null,
   "id": "fbc27171",
   "metadata": {
    "code_folding": [],
    "deletable": false,
    "editable": false,
    "nbgrader": {
     "cell_type": "code",
     "checksum": "94e426a0a59da6e0e8d1b8ff16f8eae5",
     "grade": true,
     "grade_id": "test-cc_decrypt",
     "locked": true,
     "points": 1,
     "schema_version": 3,
     "solution": false,
     "task": false
    },
    "slideshow": {
     "slide_type": "-"
    },
    "tags": [
     "hide-input",
     "remove-output"
    ]
   },
   "outputs": [],
   "source": [
    "# tests\n",
    "assert cc_decrypt(r\"bcdefghijklmnopqrstuvwxyz{\", 1) == \"abcdefghijklmnopqrstuvwxyz\"\n",
    "assert cc_decrypt(r\"Mjqqt1%\\twqi&\", 5) == \"Hello, World!\""
   ]
  },
  {
   "cell_type": "code",
   "execution_count": null,
   "id": "b08fec6b",
   "metadata": {
    "deletable": false,
    "editable": false,
    "nbgrader": {
     "cell_type": "code",
     "checksum": "5d06619428a17c86edc6f46896203a67",
     "grade": true,
     "grade_id": "h_test-cc_decrypt",
     "locked": true,
     "points": 1,
     "schema_version": 3,
     "solution": false,
     "task": false
    },
    "tags": [
     "hide-input",
     "remove-output"
    ]
   },
   "outputs": [],
   "source": [
    "# hidden tests"
   ]
  },
  {
   "cell_type": "markdown",
   "id": "1e4e1395",
   "metadata": {},
   "source": [
    "Another symmetric key cipher is the [columnar transposition cipher](https://en.wikipedia.org/wiki/Transposition_cipher#Columnar_transposition). A transposition cipher encrypts a text by permuting instead of substituting characters."
   ]
  },
  {
   "cell_type": "markdown",
   "id": "39d61957",
   "metadata": {
    "slideshow": {
     "slide_type": "subslide"
    }
   },
   "source": [
    "::::{exercise}\n",
    ":label: ex:columnar\n",
    "\n",
    "Study and implement the irregular case of the [columnar transposition cipher](https://en.wikipedia.org/wiki/Transposition_cipher#Columnar_transposition) as described in the Wikipedia page. Define the functions \n",
    "- `ct_encrypt(plaintext, key)` for encryption, and \n",
    "- `ct_decrypt(ciphertext, key)` for decryption. \n",
    "\n",
    "You can assume the plaintext is in uppercase and has no spaces/punctuations.\n",
    "\n",
    ":::{hint}\n",
    ":class: dropdown\n",
    "\n",
    "See the test cases for examples of `plaintext`, `key`, and the corresponding `ciphertext`. The following is a solution template:\n",
    "\n",
    "```python\n",
    "def argsort(seq):\n",
    "    '''A helper function that returns the tuple of indices that would sort the\n",
    "    sequence seq.'''\n",
    "    return tuple(x[0] for x in sorted(enumerate(seq), key=lambda x: x[1]))\n",
    "\n",
    "\n",
    "def ct_idx(length, key):\n",
    "    '''A helper function that returns the tuple of indices that would permute \n",
    "    the letters of a message according to the key using the irregular case of \n",
    "    columnar transposition cipher.'''\n",
    "    seq = tuple(range(length))\n",
    "    return [i for j in argsort(key) for i in ___]\n",
    "\n",
    "\n",
    "def ct_encrypt(plaintext, key):\n",
    "    '''\n",
    "    Return the ciphertext of a plaintext by the key using the irregular case\n",
    "    of columnar transposition cipher.\n",
    "\n",
    "    Parameters\n",
    "    ----------\n",
    "    plaintext: str\n",
    "        a message in uppercase without punctuations/spaces.\n",
    "    key: str\n",
    "        secret key to encrypt plaintext.\n",
    "    '''\n",
    "    return ''.join([plaintext[i] for i in ct_idx(len(plaintext), key)])\n",
    "\n",
    "\n",
    "def ct_decrypt(ciphertext, key):\n",
    "    '''\n",
    "    Return the plaintext of the ciphertext by the key using the irregular case\n",
    "    of columnar transposition cipher.\n",
    "\n",
    "    Parameters\n",
    "    ----------\n",
    "    ciphertext: str\n",
    "        a string in uppercase without punctuations/spaces.\n",
    "    key: str\n",
    "        secret key to decrypt ciphertext.\n",
    "    '''\n",
    "    return ___\n",
    "```\n",
    "\n",
    "\n",
    ":::\n",
    "\n",
    "::::"
   ]
  },
  {
   "cell_type": "code",
   "execution_count": null,
   "id": "e9b35d80",
   "metadata": {
    "deletable": false,
    "nbgrader": {
     "cell_type": "code",
     "checksum": "6c7388b5f0955114725b22b842b16cf2",
     "grade": false,
     "grade_id": "ct",
     "locked": false,
     "schema_version": 3,
     "solution": true,
     "task": false
    },
    "slideshow": {
     "slide_type": "-"
    },
    "tags": [
     "remove-output"
    ]
   },
   "outputs": [],
   "source": [
    "# YOUR CODE HERE\n",
    "raise NotImplementedError"
   ]
  },
  {
   "cell_type": "code",
   "execution_count": null,
   "id": "f91d271c",
   "metadata": {
    "deletable": false,
    "editable": false,
    "nbgrader": {
     "cell_type": "code",
     "checksum": "a893a09904c9aae29dafdd12e68c7318",
     "grade": true,
     "grade_id": "test-ct",
     "locked": true,
     "points": 1,
     "schema_version": 3,
     "solution": false,
     "task": false
    },
    "slideshow": {
     "slide_type": "-"
    },
    "tags": [
     "hide-input",
     "remove-output"
    ]
   },
   "outputs": [],
   "source": [
    "# tests\n",
    "key = \"ZEBRAS\"\n",
    "plaintext = \"WEAREDISCOVEREDFLEEATONCE\"\n",
    "ciphertext = \"EVLNACDTESEAROFODEECWIREE\"\n",
    "assert ct_encrypt(plaintext, key) == ciphertext\n",
    "assert ct_decrypt(ciphertext, key) == plaintext"
   ]
  },
  {
   "cell_type": "code",
   "execution_count": null,
   "id": "8c0a560c",
   "metadata": {
    "deletable": false,
    "editable": false,
    "nbgrader": {
     "cell_type": "code",
     "checksum": "08ae4d5bf0ccdaf09bd2ac518795f261",
     "grade": true,
     "grade_id": "h_test-ct",
     "locked": true,
     "points": 1,
     "schema_version": 3,
     "solution": false,
     "task": false
    },
    "tags": [
     "hide-input",
     "remove-output"
    ]
   },
   "outputs": [],
   "source": [
    "# hidden tests"
   ]
  },
  {
   "cell_type": "markdown",
   "id": "318687ec",
   "metadata": {},
   "source": [
    "::::{seealso}\n",
    "\n",
    "There are different substitution ciphers. The [Enigma machine](https://en.wikipedia.org/wiki/Enigma_machine) was invented at the end of World War I to implement a complex substitution cipher. It was used by Nazi Germany in World War II but was later broken by another machine called the [Bombe](https://en.wikipedia.org/wiki/Bombe), developed by Alan Turing. See [an animation](https://youtu.be/ybkkiGtJmkM?si=g9RNJ1z9TejXguXi) that explains how Enigma works.\n",
    "\n",
    "::::"
   ]
  },
  {
   "cell_type": "markdown",
   "id": "121667c4",
   "metadata": {
    "slideshow": {
     "slide_type": "slide"
    }
   },
   "source": [
    "## Brute-force attack"
   ]
  },
  {
   "cell_type": "markdown",
   "id": "5b12f521",
   "metadata": {},
   "source": [
    "[A result from the work of Claude Shannon](https://doi.org/10.1002/j.1538-7305.1949.tb00928.x), the Father of Information Theory, work is that the security of a secrecy system is fundamentally linked to the length of the key. A brute-force attack is a method of defeating a cryptographic system by systematically trying all possible keys until the correct one is found. The feasibility of a brute-force attack depends on the length of the key and the computational power available to the attacker."
   ]
  },
  {
   "cell_type": "markdown",
   "id": "f4d5cf70",
   "metadata": {},
   "source": [
    "### Create an English dictionary"
   ]
  },
  {
   "cell_type": "markdown",
   "id": "8149e499",
   "metadata": {
    "slideshow": {
     "slide_type": "fragment"
    }
   },
   "source": [
    "You will perform a brute-force attack to guess the key that encrypts an English text. The process is straightforward:\n",
    "\n",
    "- Attempt to decrypt the ciphertext using various keys.\n",
    "- Evaluate which of the resulting plaintexts is the most English-like."
   ]
  },
  {
   "cell_type": "markdown",
   "id": "1f05c0fb",
   "metadata": {
    "slideshow": {
     "slide_type": "fragment"
    }
   },
   "source": [
    "To check whether a plaintext is English-like, we need to have a list of English words. One way is to type them out\n",
    "but this is tedious. Alternatively, we can obtain the list from the *Natural Language Toolkit (NLTK)*:"
   ]
  },
  {
   "cell_type": "code",
   "execution_count": null,
   "id": "a9828415",
   "metadata": {},
   "outputs": [],
   "source": [
    "%pip install nltk"
   ]
  },
  {
   "cell_type": "code",
   "execution_count": null,
   "id": "47d3e2b3",
   "metadata": {
    "slideshow": {
     "slide_type": "-"
    }
   },
   "outputs": [],
   "source": [
    "import nltk\n",
    "\n",
    "nltk.download(\"words\")\n",
    "from nltk.corpus import words"
   ]
  },
  {
   "cell_type": "markdown",
   "id": "df9ec180",
   "metadata": {
    "slideshow": {
     "slide_type": "subslide"
    }
   },
   "source": [
    "`words.words()` returns a list of words. We can check whether a string is in the list using the operator `in`."
   ]
  },
  {
   "cell_type": "code",
   "execution_count": null,
   "id": "fd424268",
   "metadata": {
    "slideshow": {
     "slide_type": "-"
    }
   },
   "outputs": [],
   "source": [
    "for word in \"Ada\", \"ada\", \"Hello\", \"hello\":\n",
    "    print(\"{!r} in dictionary? {}\".format(word, word in words.words()))"
   ]
  },
  {
   "cell_type": "markdown",
   "id": "a5dbb8cd",
   "metadata": {
    "slideshow": {
     "slide_type": "fragment"
    }
   },
   "source": [
    "However, there are two issues:\n",
    "- Checking membership is slow for a long list.\n",
    "- Both 'Hello' and 'ada' are English-like but not in the words list."
   ]
  },
  {
   "cell_type": "markdown",
   "id": "12a8d4bc",
   "metadata": {
    "slideshow": {
     "slide_type": "subslide"
    }
   },
   "source": [
    "::::{exercise}\n",
    ":label: ex:dictionary\n",
    "\n",
    "Using the method `lower` of `str` and the constructor `set`, assign `dictionary` to a set of lowercase English words from `words.words()`.\n",
    "\n",
    "::::"
   ]
  },
  {
   "cell_type": "code",
   "execution_count": null,
   "id": "606d363e",
   "metadata": {
    "deletable": false,
    "nbgrader": {
     "cell_type": "code",
     "checksum": "2ac3df9a858565c32373699e5aacd9a8",
     "grade": false,
     "grade_id": "nltk",
     "locked": false,
     "schema_version": 3,
     "solution": true,
     "task": false
    },
    "slideshow": {
     "slide_type": "-"
    },
    "tags": [
     "remove-output"
    ]
   },
   "outputs": [],
   "source": [
    "# YOUR CODE HERE\n",
    "raise NotImplementedError"
   ]
  },
  {
   "cell_type": "code",
   "execution_count": null,
   "id": "f247b805",
   "metadata": {
    "code_folding": [],
    "deletable": false,
    "editable": false,
    "nbgrader": {
     "cell_type": "code",
     "checksum": "c74e6405fd76a61161c63ae219984445",
     "grade": true,
     "grade_id": "test-nltk",
     "locked": true,
     "points": 1,
     "schema_version": 3,
     "solution": false,
     "task": false
    },
    "slideshow": {
     "slide_type": "-"
    },
    "tags": [
     "hide-input",
     "remove-output"
    ]
   },
   "outputs": [],
   "source": [
    "# tests\n",
    "assert isinstance(dictionary, set) and len(dictionary) == 234377\n",
    "assert all(word in dictionary for word in (\"ada\", \"hello\"))\n",
    "assert all(word not in dictionary for word in (\"Ada\", \"hola\"))"
   ]
  },
  {
   "cell_type": "code",
   "execution_count": null,
   "id": "28b8608d",
   "metadata": {
    "deletable": false,
    "editable": false,
    "nbgrader": {
     "cell_type": "code",
     "checksum": "823bf0e5f500ce8bcd5caebe33228cd4",
     "grade": true,
     "grade_id": "h_test-nltk",
     "locked": true,
     "points": 1,
     "schema_version": 3,
     "solution": false,
     "task": false
    },
    "tags": [
     "hide-input",
     "remove-output"
    ]
   },
   "outputs": [],
   "source": [
    "# hidden tests"
   ]
  },
  {
   "cell_type": "markdown",
   "id": "53eee88b",
   "metadata": {
    "slideshow": {
     "slide_type": "subslide"
    }
   },
   "source": [
    "### Identify English-like text"
   ]
  },
  {
   "cell_type": "markdown",
   "id": "989a2165",
   "metadata": {
    "slideshow": {
     "slide_type": "fragment"
    }
   },
   "source": [
    "To determine how English-like a text is, we calculate the following score:\n",
    "\n",
    "$$\n",
    "\\frac{\\text{number of English words in the text}}{\\text{number of tokens in the text}} \n",
    "$$\n",
    "\n",
    "where tokens are substrings, not necessarily English words, separated by white space characters in the text."
   ]
  },
  {
   "cell_type": "code",
   "execution_count": null,
   "id": "d527e8fb",
   "metadata": {
    "slideshow": {
     "slide_type": "-"
    }
   },
   "outputs": [],
   "source": [
    "def tokenizer(text):\n",
    "    \"\"\"Returns the list of tokens of the text.\"\"\"\n",
    "    return text.split()\n",
    "\n",
    "\n",
    "def get_score(text):\n",
    "    \"\"\"Returns the fraction of tokens which appear in dictionary.\"\"\"\n",
    "    tokens = tokenizer(text)\n",
    "    words = [token for token in tokens if token in dictionary]\n",
    "    return len(words) / len(tokens)\n",
    "\n",
    "\n",
    "# tests\n",
    "get_score(\"hello world\"), get_score(\"Hello, World!\")"
   ]
  },
  {
   "cell_type": "markdown",
   "id": "d97ec3f5",
   "metadata": {
    "slideshow": {
     "slide_type": "fragment"
    }
   },
   "source": [
    "As shown in the tests above, the code fails to handle text with punctuations and uppercase letters properly.  \n",
    "In particular, \n",
    "- while `get_score` recognizes `hello world` as English-like and returns the maximum score of 1, \n",
    "- it fails to recognize `Hello, World!` as English-like and returns the minimum score of 0."
   ]
  },
  {
   "cell_type": "markdown",
   "id": "0ab73ac4",
   "metadata": {
    "slideshow": {
     "slide_type": "fragment"
    }
   },
   "source": [
    "Why? Every word in `dictionary`\n",
    "- are in lowercase, and\n",
    "- have no leading/trailing punctuations."
   ]
  },
  {
   "cell_type": "markdown",
   "id": "07648096",
   "metadata": {
    "slideshow": {
     "slide_type": "subslide"
    }
   },
   "source": [
    "::::{exercise}\n",
    ":label: ex:tokenizer\n",
    "\n",
    "Define a function `tokenizer` that \n",
    "- takes a string `text` as an argument, and\n",
    "- returns a `list` of tokens obtained by\n",
    "  1. splitting `text` into a list using `split()`;\n",
    "  2. removing leading/trailing punctuations in `string.punctuation` using the `strip` method; and\n",
    "  3. converting all items of the list to lowercase using `lower()`.\n",
    "\n",
    "::::"
   ]
  },
  {
   "cell_type": "code",
   "execution_count": null,
   "id": "8ed6fe90",
   "metadata": {
    "deletable": false,
    "nbgrader": {
     "cell_type": "code",
     "checksum": "931912f88eaab03a73926e6549870cce",
     "grade": false,
     "grade_id": "tokenizer",
     "locked": false,
     "schema_version": 3,
     "solution": true,
     "task": false
    },
    "slideshow": {
     "slide_type": "-"
    },
    "tags": [
     "remove-output"
    ]
   },
   "outputs": [],
   "source": [
    "import string\n",
    "\n",
    "\n",
    "def tokenizer(text):\n",
    "    \"\"\"Returns the list of tokens of the text such that\n",
    "    1) each token has no leading or trailing spaces/punctuations, and\n",
    "    2) all letters in each token are in lowercase.\"\"\"\n",
    "    # YOUR CODE HERE\n",
    "    raise NotImplementedError"
   ]
  },
  {
   "cell_type": "code",
   "execution_count": null,
   "id": "37eba725",
   "metadata": {
    "code_folding": [],
    "deletable": false,
    "editable": false,
    "nbgrader": {
     "cell_type": "code",
     "checksum": "5852278c832b32a9b3dce50b7544ccb7",
     "grade": true,
     "grade_id": "test-tokenizer",
     "locked": true,
     "points": 1,
     "schema_version": 3,
     "solution": false,
     "task": false
    },
    "slideshow": {
     "slide_type": "-"
    },
    "tags": [
     "hide-input",
     "remove-output"
    ]
   },
   "outputs": [],
   "source": [
    "# tests\n",
    "assert tokenizer(\"Hello, World!\") == [\"hello\", \"world\"]\n",
    "assert get_score(\"Hello, World!\") >= 0.99999\n",
    "assert tokenizer(\"Do you know Jean-Pierre?\") == [\"do\", \"you\", \"know\", \"jean-pierre\"]\n",
    "assert get_score(\"Do you know Jean-Pierre?\") >= 0.99999"
   ]
  },
  {
   "cell_type": "code",
   "execution_count": null,
   "id": "c6ba7e24",
   "metadata": {
    "deletable": false,
    "editable": false,
    "nbgrader": {
     "cell_type": "code",
     "checksum": "132a8343cac2a507fcb365095a1e4092",
     "grade": true,
     "grade_id": "h_test-tokenizer",
     "locked": true,
     "points": 1,
     "schema_version": 3,
     "solution": false,
     "task": false
    },
    "tags": [
     "hide-input",
     "remove-output"
    ]
   },
   "outputs": [],
   "source": [
    "# hidden tests"
   ]
  },
  {
   "cell_type": "markdown",
   "id": "140a1c8b",
   "metadata": {
    "slideshow": {
     "slide_type": "slide"
    }
   },
   "source": [
    "### Launch a brute-force attack"
   ]
  },
  {
   "cell_type": "markdown",
   "id": "bc6012ea",
   "metadata": {
    "slideshow": {
     "slide_type": "subslide"
    }
   },
   "source": [
    "::::{exercise}\n",
    ":label: ex:cc-attack\n",
    "\n",
    "Define the function `cc_attack` that \n",
    "- takes as arguments\n",
    "    - a string `ciphertext`,\n",
    "    - a floating point number `threshold` in the interval $(0,1)$ with a default value of $0.6$, and\n",
    "- returns a generator that  \n",
    "    - generates one-by-one in ascending order guesses of the key that\n",
    "    - decrypt `ciphertext` to texts with scores at least the `threshold`.\n",
    "\n",
    "::::"
   ]
  },
  {
   "cell_type": "code",
   "execution_count": null,
   "id": "757129ab",
   "metadata": {
    "deletable": false,
    "nbgrader": {
     "cell_type": "code",
     "checksum": "0706dc6bb5bfdecf43b50d3e47aa6637",
     "grade": false,
     "grade_id": "cc_attack",
     "locked": false,
     "schema_version": 3,
     "solution": true,
     "task": false
    },
    "slideshow": {
     "slide_type": "-"
    },
    "tags": [
     "remove-output"
    ]
   },
   "outputs": [],
   "source": [
    "def cc_attack(ciphertext, threshold=0.6):\n",
    "    \"\"\"Returns a generator that generates the next guess of the key that\n",
    "    decrypts the ciphertext to a text with get_score(text) at least the threshold.\n",
    "    \"\"\"\n",
    "    # YOUR CODE HERE\n",
    "    raise NotImplementedError"
   ]
  },
  {
   "cell_type": "code",
   "execution_count": null,
   "id": "96a3af53",
   "metadata": {
    "code_folding": [],
    "deletable": false,
    "editable": false,
    "nbgrader": {
     "cell_type": "code",
     "checksum": "a56c491e2a5cf3be5147d6b25662bb7d",
     "grade": true,
     "grade_id": "test-cc_attack",
     "locked": true,
     "points": 1,
     "schema_version": 3,
     "solution": false,
     "task": false
    },
    "slideshow": {
     "slide_type": "-"
    },
    "tags": [
     "hide-input",
     "remove-output"
    ]
   },
   "outputs": [],
   "source": [
    "# tests\n",
    "ciphertext = cc_encrypt(\"Hello, World!\", 12345)\n",
    "key_generator = cc_attack(ciphertext)\n",
    "key_guess = next(key_generator)\n",
    "assert key_guess == 12345\n",
    "text = cc_decrypt(ciphertext, key_guess)\n",
    "print(\"guess of the key: {}\\nscore: {}\\ntext :{}\".format(key_guess, get_score(text), text))"
   ]
  },
  {
   "cell_type": "code",
   "execution_count": null,
   "id": "4cf9ebf4",
   "metadata": {
    "deletable": false,
    "editable": false,
    "nbgrader": {
     "cell_type": "code",
     "checksum": "104ff78202eb48001f635f1b22d55872",
     "grade": true,
     "grade_id": "h_test-cc_attack",
     "locked": true,
     "points": 1,
     "schema_version": 3,
     "solution": false,
     "task": false
    },
    "tags": [
     "hide-input",
     "remove-output"
    ]
   },
   "outputs": [],
   "source": [
    "# hidden tests"
   ]
  }
 ],
 "metadata": {
  "kernelspec": {
   "display_name": "Python 3 (ipykernel)",
   "language": "python",
   "name": "python3"
  }
 },
 "nbformat": 4,
 "nbformat_minor": 5
}
