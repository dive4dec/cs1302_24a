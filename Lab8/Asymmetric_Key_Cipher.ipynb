{
 "cells": [
  {
   "cell_type": "markdown",
   "id": "e9853d97",
   "metadata": {},
   "source": [
    "---\n",
    "title: Asymmetric Key Cipher\n",
    "---"
   ]
  },
  {
   "cell_type": "markdown",
   "id": "d3f1c415",
   "metadata": {},
   "source": [
    "::::{attention}\n",
    "This notebook is optional and NOT required for any course assessment activities. Lab tutor may go through them if time is available.\n",
    "::::"
   ]
  },
  {
   "cell_type": "code",
   "execution_count": null,
   "id": "93de0227",
   "metadata": {},
   "outputs": [],
   "source": [
    "from __init__ import install_dependencies\n",
    "\n",
    "await install_dependencies()"
   ]
  },
  {
   "cell_type": "code",
   "execution_count": null,
   "id": "b14a0202",
   "metadata": {},
   "outputs": [],
   "source": [
    "from math import gcd\n",
    "from random import randint"
   ]
  },
  {
   "cell_type": "markdown",
   "id": "ff43c44a",
   "metadata": {},
   "source": [
    "## Motivation"
   ]
  },
  {
   "cell_type": "markdown",
   "id": "45a7edf1",
   "metadata": {},
   "source": [
    "For symmetric key cipher to work, a secret key needs to be exchanged between a sender and a receiver. Isn't this is a chicken-and-egg problem? *How to securely communicate a secret key in public* to begin with?"
   ]
  },
  {
   "cell_type": "markdown",
   "id": "1b85c19d",
   "metadata": {},
   "source": [
    "This motivates the idea of using [asymmetric keys](https://en.wikipedia.org/wiki/Public-key_cryptography) for encryption and decryption:[^DH] \n",
    "\n",
    "[^DH]: See [Diffie and Hellman (1976)](https://doi.org/10.1145/3549993.3550007)."
   ]
  },
  {
   "cell_type": "markdown",
   "id": "89fbb9a0",
   "metadata": {},
   "source": [
    "- A sender uses the public key $k$ to encrypt $x$ to a ciphertext $y$ using an encryption function $f$:\n",
    "\n",
    "    $$\n",
    "    y = f_k(x).\n",
    "    $$ (eq:encrypt)\n",
    "\n",
    "- A receiver uses a private key $l$ to decrypt $y$ back to $x$ using a decryption function $g$:\n",
    "\n",
    "    $$\n",
    "    x = g_{l}(y).\n",
    "    $$ (eq:decrypt)\n",
    "\n",
    "- To ensure secrecy, anyone with only the knowledge of $k$, $f$, $g$, and $y$ but NOT the knowledge of $l$ should not be able to invert $f_k$."
   ]
  },
  {
   "cell_type": "markdown",
   "id": "5f65d36c",
   "metadata": {},
   "source": [
    "::::{seealso}\n",
    "\n",
    "The advantage of using asymmetric key ciphers over symmetric key ciphers lies in their simplicity for:\n",
    "\n",
    "- **Key sharing**: The encryption key can be publicly shared with all senders.\n",
    "- **Key storage**: Only the receiver needs to securely store the private key.\n",
    "\n",
    "Due to the above benefits, a public key cipher system such as RSA is often used to establish a shared secret key, which is then used for symmetric encryption such as [AES](https://en.wikipedia.org/wiki/Advanced_Encryption_Standard). See also [HTTPS](https://en.wikipedia.org/wiki/HTTPS) and [TLS](https://en.wikipedia.org/wiki/Transport_Layer_Security) used on the internet.\n",
    "\n",
    "::::"
   ]
  },
  {
   "cell_type": "markdown",
   "id": "eb3e6216",
   "metadata": {},
   "source": [
    "## Formulation"
   ]
  },
  {
   "cell_type": "markdown",
   "id": "75b9fbff",
   "metadata": {},
   "source": [
    "**Is it possible to construct an asymmetric key cipher?**"
   ]
  },
  {
   "cell_type": "markdown",
   "id": "c5616137",
   "metadata": {},
   "source": [
    "Hopefully, but there is an obvious security issue:"
   ]
  },
  {
   "cell_type": "markdown",
   "id": "9efb712b",
   "metadata": {},
   "source": [
    "::::{exercise}\n",
    ":label: ex:rsa2\n",
    "\n",
    "Prove that $f_k$ is invertible by [](#eq:encrypt) and [](#eq:decrypt). In other words, anyone can recover the plaintext $x$ from its ciphertext $y$ by computing the inverse\n",
    "\n",
    "$$\n",
    "x = f_k^{-1}(y),\n",
    "$$\n",
    "\n",
    "even without the knowledge of the private key $d$.\n",
    "\n",
    "::::"
   ]
  },
  {
   "cell_type": "markdown",
   "id": "0e22eb49",
   "metadata": {
    "deletable": false,
    "nbgrader": {
     "cell_type": "markdown",
     "checksum": "d05a74c8b8e76a1782e8ad4c451ebbad",
     "grade": true,
     "grade_id": "invertible",
     "locked": false,
     "points": 0,
     "schema_version": 3,
     "solution": true,
     "task": false
    },
    "tags": [
     "hide-input"
    ]
   },
   "source": [
    "YOUR ANSWER HERE"
   ]
  },
  {
   "cell_type": "markdown",
   "id": "50d71afb",
   "metadata": {},
   "source": [
    "In essence, $f_k$ must be invertible for the ciphertext to be decryptable. To overcome this limitation, we can adopt a different approach. Instead of requiring $f_k$ to be invertible, we can make it *computationally infeasible* to invert. For instance:"
   ]
  },
  {
   "cell_type": "markdown",
   "id": "8c97b48f",
   "metadata": {},
   "source": [
    "::::{prf:example} Integer factorization\n",
    "\n",
    "Computing the product $n$ of from two prime numbers $p$ and $q$, i.e., $n=pq$, is easy. However, the reverse process of factoring $n$ to $p$ and $q$ is difficult (in a class of problems called [co-NP](https://en.wikipedia.org/wiki/Integer_factorization)). As the size of $p$ and $q$ increases, the time required to factor $n$ increases dramatically as illustrated [here](https://www.khanacademy.org/computing/computer-science/cryptography/modern-crypt/pi/time-complexity-exploration).\n",
    "\n",
    "::::"
   ]
  },
  {
   "cell_type": "markdown",
   "id": "a609248f",
   "metadata": {},
   "source": [
    "We seek a collection of $f_k$'s that are easy to compute in one way but difficult to invert directly except using $g_l$. Such a function is called a trapdoor function, which is a special kind of [one-way function](https://en.wikipedia.org/wiki/One-way_function):"
   ]
  },
  {
   "cell_type": "markdown",
   "id": "5bf2db36",
   "metadata": {},
   "source": [
    "::::{prf:definition} Public/asymmetric key cipher\n",
    ":label: def:akc\n",
    "\n",
    "A public key cipher is a family of [trapdoor functions](https://en.wikipedia.org/wiki/Trapdoor_function#References) \n",
    "\n",
    "$$\n",
    "f_k: \\mathcal{X} \\to \\mathcal{Y}\n",
    "$$ \n",
    "\n",
    "pameterized by the public key $k\\in \\mathcal{K}$. In particular, a sequence of such cipher with respect to the key length $m:=\\lceil \\log \\lvert \\mathcal{K}\\rvert \\rceil$ is:[^m]\n",
    "- **Encryptable** if computing $y := f_k(x)$ is probabilistic polynomial time ([PP](https://en.wikipedia.org/wiki/PP_(complexity))) in $m$ for every $x\\in \\mathcal{X}$.\n",
    "- **Decryptable** if there exists $g_l$ for each $f_k$ such that $g_l(y) = x$ almost surely and can be done in PP.\n",
    "- **Secure** if computing $x$ from $y$, $l$, $f$, and $g$ is not PP.\n",
    "\n",
    "::::\n",
    "\n",
    "[^m]: Computational complexity is an asymptotic notion with respect to the order of growth of $m$."
   ]
  },
  {
   "cell_type": "markdown",
   "id": "3f49f5fb",
   "metadata": {},
   "source": [
    "**How to construct the trapdoor function $f_k$ and the inverse $g_l$?**"
   ]
  },
  {
   "cell_type": "markdown",
   "id": "7518d1d0",
   "metadata": {},
   "source": [
    "No one knows:\n",
    "\n",
    "::::{seealso} P vs NP\n",
    "\n",
    "The existence of one-way functions remains unknown today. If one could show existence of such functions, they would prove [P$\\neq $NP](https://en.wikipedia.org/wiki/P_versus_NP_problem), resolving one of the [Millennium Prize Problems](https://en.wikipedia.org/wiki/Millennium_Prize_Problems).\n",
    "\n",
    "::::"
   ]
  },
  {
   "cell_type": "markdown",
   "id": "439e76b1",
   "metadata": {},
   "source": [
    "Nevertheless, there are plausible implementations such as the RSA algorithm."
   ]
  },
  {
   "cell_type": "markdown",
   "id": "2003cba0",
   "metadata": {},
   "source": [
    "## RSA Algorithm"
   ]
  },
  {
   "cell_type": "markdown",
   "id": "c7d52112",
   "metadata": {},
   "source": [
    "In the sequel, we will dive into the RSA algorithm, which was a public key cipher invented by [Rivest, Shamir, and Adleman](https://doi.org/10.1145/359340.359342) at MIT. Its security is based on the computational difficulty of factoring numbers with prime factors."
   ]
  },
  {
   "cell_type": "markdown",
   "id": "fbf11283",
   "metadata": {},
   "source": [
    "### Encryption and Decryption"
   ]
  },
  {
   "cell_type": "markdown",
   "id": "ad8db1df",
   "metadata": {},
   "source": [
    "The encryption and decryption use modular exponentiation instead of addition:\n",
    "\n",
    "::::{prf:definition} RSA encryption/decryption\n",
    ":label: def:rsa\n",
    "\n",
    "$$\n",
    "\\begin{align}\n",
    "f_k(x) &:= x^e \\bmod n && \\text{where }k:=(e,n)\\\\\n",
    "g_l(y) &:= y^d \\bmod n && \\text{where }l:=(d,n),\n",
    "\\end{align}\n",
    "$$\n",
    "\n",
    "where $e$, $d$, and $n$ are positive integers, and \n",
    "\n",
    "$$\n",
    "x, y \\in \\mathcal{X} = \\mathcal{Y} := \\Set{1, \\dots, n-1}.\n",
    "$$\n",
    "\n",
    "::::"
   ]
  },
  {
   "cell_type": "markdown",
   "id": "aa4934de",
   "metadata": {},
   "source": [
    "$e$, $d$, and $n$ need to be chosen carefully to ensure security. For instance, it is insecure to choose $e=1$ because, otherwise, $x=f_k(x)$, i.e., the plaintext is unencrypted, or equivalently, the private key is readily computed with $d=1$."
   ]
  },
  {
   "cell_type": "markdown",
   "id": "f1dc84e4",
   "metadata": {},
   "source": [
    "::::{exercise}\n",
    ":label: ex:zero-excluded\n",
    "\n",
    "Why is it insecure to allow the plaintext $x$ to be $0$, i.e., with $\\mathcal{X}:=\\Set{0, 1, \\dots, n-1}$ instead?\n",
    "\n",
    "::::"
   ]
  },
  {
   "cell_type": "markdown",
   "id": "b9517cdf",
   "metadata": {
    "deletable": false,
    "nbgrader": {
     "cell_type": "markdown",
     "checksum": "415e0a2bca97cb729c9b3cb3e33dbc75",
     "grade": true,
     "grade_id": "zero-excluded",
     "locked": false,
     "points": 0,
     "schema_version": 3,
     "solution": true,
     "task": false
    }
   },
   "source": [
    "YOUR ANSWER HERE"
   ]
  },
  {
   "cell_type": "markdown",
   "id": "617008a9",
   "metadata": {},
   "source": [
    "Computing the exponentiation for encryption and decryption can be fast using [repeated squaring](https://en.wikipedia.org/wiki/Exponentiation_by_squaring). The built-in function `pow` already has an efficient implementation:"
   ]
  },
  {
   "cell_type": "code",
   "execution_count": null,
   "id": "bce0fcc5",
   "metadata": {},
   "outputs": [],
   "source": [
    "x, e, n = 3, 2 ** 1000000, 4\n",
    "pow(x, e, n)"
   ]
  },
  {
   "cell_type": "markdown",
   "id": "68755f93",
   "metadata": {},
   "source": [
    "Is `pow(x, e, n)` the same as the following code?\n",
    "\n",
    "```python\n",
    "x ** e % n\n",
    "```\n",
    "\n",
    "Try it in a new console."
   ]
  },
  {
   "cell_type": "markdown",
   "id": "10aba2bd",
   "metadata": {},
   "source": [
    "::::{exercise}\n",
    ":label: ex:rsa3\n",
    "\n",
    "Implement your own code `modular_pow` (without using the `pow` function) using [repeated squaring](https://en.wikipedia.org/wiki/Exponentiation_by_squaring) and the property that\n",
    "\n",
    "$$\n",
    "(a^c \\bmod b) = (a\\bmod b)^c \\bmod b.\n",
    "$$ (eq:rsa:modular_pow)\n",
    "\n",
    "::::"
   ]
  },
  {
   "cell_type": "code",
   "execution_count": null,
   "id": "fa2f9460",
   "metadata": {
    "deletable": false,
    "nbgrader": {
     "cell_type": "code",
     "checksum": "505162645a6331efc3adb1e5a6e7dad6",
     "grade": false,
     "grade_id": "mod_pow",
     "locked": false,
     "schema_version": 3,
     "solution": true,
     "task": false
    },
    "tags": [
     "hide-input"
    ]
   },
   "outputs": [],
   "source": [
    "def mod_pow(x, e, n):\n",
    "    \"\"\"\n",
    "    Return mod exponentiation (x ** e) % n efficiently.\n",
    "    \"\"\"\n",
    "    # YOUR CODE HERE\n",
    "    raise NotImplementedError"
   ]
  },
  {
   "cell_type": "code",
   "execution_count": null,
   "id": "a3c97194",
   "metadata": {
    "deletable": false,
    "editable": false,
    "nbgrader": {
     "cell_type": "code",
     "checksum": "d26936603a3c2dd1406e845709278bd4",
     "grade": true,
     "grade_id": "test-mod_pow",
     "locked": true,
     "points": 0,
     "schema_version": 3,
     "solution": false,
     "task": false
    }
   },
   "outputs": [],
   "source": [
    "# tests\n",
    "x, e, n = 3, 2 ** 100000, 4\n",
    "assert mod_pow(x, e, n) == pow(x, e, n)"
   ]
  },
  {
   "cell_type": "markdown",
   "id": "d7bcb8e4",
   "metadata": {},
   "source": [
    "Is that all to RSA algorithm? Not really... The question is how to choose the integers $e$, $d$, and $n$ properly so that the cipher is both decryptable and secure."
   ]
  },
  {
   "cell_type": "markdown",
   "id": "3ffbf2f4",
   "metadata": {},
   "source": [
    "### Decryptability"
   ]
  },
  {
   "cell_type": "markdown",
   "id": "596ca309",
   "metadata": {},
   "source": [
    "To ensure decryptability, we require for all $x\\in \\mathcal{X}$ that"
   ]
  },
  {
   "cell_type": "markdown",
   "id": "d8934708",
   "metadata": {},
   "source": [
    "$$\n",
    "\\begin{align}\n",
    "x^{ed} &\\equiv x  \\mod n.\n",
    "\\end{align} \n",
    "$$ (eq:rsa:decryptability)"
   ]
  },
  {
   "cell_type": "markdown",
   "id": "162cf26c",
   "metadata": {},
   "source": [
    "::::{exercise}\n",
    ":label: ex:rsa4\n",
    "\n",
    "Derive the above condition [](#eq:rsa:decryptability) using the property [](#eq:rsa:modular_pow).\n",
    "\n",
    "::::"
   ]
  },
  {
   "cell_type": "markdown",
   "id": "b7080183",
   "metadata": {
    "deletable": false,
    "editable": false,
    "nbgrader": {
     "cell_type": "markdown",
     "checksum": "3c5d79b4a37ecfd0aad447fc2ed918a5",
     "grade": false,
     "grade_id": "decryptability",
     "locked": true,
     "points": 0,
     "schema_version": 3,
     "solution": false,
     "task": true
    },
    "tags": [
     "hide-input"
    ]
   },
   "source": [
    "::::{solution} ex:rsa4\n",
    ":class: dropdown\n",
    "\n",
    ":::{prf:proof}\n",
    ":nonumber:\n",
    "\n",
    "$$\n",
    "\\begin{align}\n",
    "x &= g_l(f_k(x)) \\\\\n",
    "&= (x^{e} \\bmod n)^{d} \\bmod n \\\\\n",
    "&= x^{ed} \\bmod n. \\qquad (Q.E.D.)\n",
    "\\end{align}\n",
    "$$\n",
    "\n",
    ":::\n",
    "\n",
    "::::"
   ]
  },
  {
   "cell_type": "markdown",
   "id": "06cde78b",
   "metadata": {},
   "source": [
    "RSA makes use of the following result to choose $(e, d, n)$:"
   ]
  },
  {
   "cell_type": "markdown",
   "id": "906e32e1",
   "metadata": {},
   "source": [
    "::::{prf:proposition} Fermat's little theorem\n",
    ":label: pro:fermat\n",
    "\n",
    "For any prime $p$ and integer $x$,\n",
    "\n",
    "$$\n",
    "x^{p}\\equiv x \\mod p\n",
    "$$ (eq:fermat)\n",
    "\n",
    "::::"
   ]
  },
  {
   "cell_type": "markdown",
   "id": "ee1259ea",
   "metadata": {},
   "source": [
    "There are elegant and elementary [combinatorial proofs](https://en.wikipedia.org/wiki/Proofs_of_Fermat%27s_little_theorem#Combinatorial_proofs) of the theorem. A simply algebraic proof is as follows."
   ]
  },
  {
   "cell_type": "markdown",
   "id": "31d2f648",
   "metadata": {},
   "source": [
    "::::{prf:proof} [](#pro:fermat)\n",
    ":nonumber:\n",
    ":class: dropdown\n",
    "\n",
    "Consider the non-trivial case where $x$ is not divisible by $p$. It follows that, for $i, j \\in \\Set{1, \\dots, p-1}$,\n",
    "\n",
    "$$\n",
    "x\\cdot i \\equiv x\\cdot j \\mod p \\iff i \\equiv j \\mod p,\n",
    "$$\n",
    "\n",
    "which, in turn, implies\n",
    "\n",
    "\\begin{align}\n",
    "\\prod_{i=1}^{p-1} (x\\cdot i) &\\equiv  \\overbrace{\\prod_{i=1}^{p-1} i}^{\\alpha:=} \\mod p\\\\\n",
    "x^{p-1} \\alpha  &\\equiv \\alpha \\mod p,\n",
    "\\end{align}\n",
    "\n",
    "which implies [](#eq:fermat) as desired by canceling the non-zero value $\\alpha$ on both sides. (Q.E.D.)\n",
    "\n",
    "::::"
   ]
  },
  {
   "cell_type": "markdown",
   "id": "2ef33e54",
   "metadata": {},
   "source": [
    "Comparing [](#eq:fermat) in Fermat's little theorem to the descryptability condition [](eq:rsa:decryptability), it appears we can choose\n",
    "\n",
    "$$\n",
    "n = p = ed.\n",
    "$$"
   ]
  },
  {
   "cell_type": "markdown",
   "id": "a6a2f9fc",
   "metadata": {},
   "source": [
    "Not really... because, otherwise, either $e$ or $d$ is $1$, i.e., the private key can be easily computed from the public key. (How?)"
   ]
  },
  {
   "cell_type": "markdown",
   "id": "f6c414b6",
   "metadata": {},
   "source": [
    "Consider the following corollary, which follows from [](#eq:fermat):"
   ]
  },
  {
   "cell_type": "markdown",
   "id": "ce33d515",
   "metadata": {},
   "source": [
    "::::{prf:corollary}\n",
    ":label: cor:fermat-m\n",
    "\n",
    "For any prime $p$ and integers $m$ and $x\\in \\Set{1,\\dots, p-1}$,\n",
    "\n",
    "$$\n",
    "x^{m(p-1)} \\equiv 1 \\mod p.\n",
    "$$ (eq:fermat-m)\n",
    "\n",
    "\n",
    "::::"
   ]
  },
  {
   "cell_type": "markdown",
   "id": "8ffdc31b",
   "metadata": {},
   "source": [
    "::::{exercise}\n",
    ":label: ex:fermat-m\n",
    "\n",
    "Prove the above corollary.\n",
    "\n",
    "::::"
   ]
  },
  {
   "cell_type": "markdown",
   "id": "aa6789f8",
   "metadata": {},
   "source": [
    "::::{solution} ex:fermat-m\n",
    ":class: dropdown\n",
    "\n",
    ":::{prf:proof} [](#cor:fermat-m)\n",
    ":nonumber:\n",
    "\n",
    "Since $p$ does not divide $x$, dividing $x$ from both sides of [](#eq:fermat) gives\n",
    "\n",
    "\\begin{align}\n",
    "x^{p-1} &\\equiv 1 \\mod p.\n",
    "\\end{align}\n",
    "\n",
    "Raising both sides by a power of $m$ gives [](#eq:fermat-m) as desired.\n",
    "\n",
    "\n",
    ":::\n",
    "\n",
    "::::"
   ]
  },
  {
   "cell_type": "markdown",
   "id": "35c7489c",
   "metadata": {},
   "source": [
    "We can similarly rewrite [](eq:rsa:decryptability) as:\n",
    "\n",
    "$$\n",
    "x^{ed-1} \\equiv 1 \\mod p\n",
    "$$ (eq:rsa:decryptability2)\n",
    "\n",
    "for $x\\in \\Set{1,\\dots, p-1}$."
   ]
  },
  {
   "cell_type": "markdown",
   "id": "a3b7f091",
   "metadata": {},
   "source": [
    "Comparing with [](#eq:fermat-m) with [](#eq:rsa:decryptability2), can we have choose\n",
    "\n",
    "$$\n",
    "n = p \\kern1em \\text{ and } \\kern1em ed \\equiv 1 \\bmod p-1?\n",
    "$$"
   ]
  },
  {
   "cell_type": "markdown",
   "id": "fbd22af9",
   "metadata": {},
   "source": [
    "No because $d$ is the [modular multiplicative inverse](https://en.wikipedia.org/wiki/Modular_multiplicative_inverse) of $e$, which is easy to compute, e.g., using `pow` with an exponent of `-1`. For instance:"
   ]
  },
  {
   "cell_type": "code",
   "execution_count": null,
   "id": "ec3664de",
   "metadata": {},
   "outputs": [],
   "source": [
    "p = 7\n",
    "e, n = 5, p\n",
    "try:\n",
    "    d = pow(e, -1, n - 1)    # easy to compute\n",
    "    x = randint(1, n-1)      # plaintext\n",
    "    y = pow(x, e, n)         # encryption\n",
    "    assert x == pow(y, d, n) # decryption\n",
    "except ValueError as e:\n",
    "    print(e)"
   ]
  },
  {
   "cell_type": "markdown",
   "id": "31b01a30",
   "metadata": {},
   "source": [
    "Note also that some choice of $e$ does not have a multiplicative inverse. E.g, try setting $e$ to be $0$, $2$, $3$, $4$."
   ]
  },
  {
   "cell_type": "markdown",
   "id": "d842e939",
   "metadata": {},
   "source": [
    "::::{prf:proposition} Multiplicative inverse\n",
    ":label: pro:mod_inverse\n",
    "\n",
    "$e$ is coprime to $\\lambda$, i.e., \n",
    "\n",
    "$$\n",
    "\\operatorname{gcd}(e, \\lambda)=1,\n",
    "$$ (eq:coprime)\n",
    "\n",
    "iff it has a modular multicative inverse with respect to $\\lambda$, i.e., there exists $d$ such that\n",
    "\n",
    "$$\n",
    "ed \\equiv 1 \\mod \\lambda.\n",
    "$$ (eq:mod_inverse)\n",
    "\n",
    "::::"
   ]
  },
  {
   "cell_type": "markdown",
   "id": "8621f232",
   "metadata": {},
   "source": [
    "::::{prf:proof} [](#pro:mod_inverse)\n",
    ":nonumber:\n",
    ":class: dropdown\n",
    "\n",
    "By the [Euclidean algorithm](https://en.wikipedia.org/wiki/Euclidean_algorithm),\n",
    "\n",
    "$$\n",
    "ed = m\\lambda + \\operatorname{gcd}(e, \\lambda) \\kern1em \\text{ for some integers $m$ and $d$,}\n",
    "$$\n",
    "\n",
    "which is called [Bézout's identity](https://en.wikipedia.org/wiki/B%C3%A9zout%27s_identity). Equivalently,\n",
    "\n",
    "$$\n",
    "ed \\equiv \\operatorname{gcd}(e, \\lambda) \\mod \\lambda \\kern1em \\text{ for some integers $d$,}\n",
    "$$\n",
    "\n",
    "which implies [](#eq:coprime) is equivalent to [](#eq:mod_inverse) as desired. (Q.E.D.)\n",
    "\n",
    "::::"
   ]
  },
  {
   "cell_type": "markdown",
   "id": "17e226a0",
   "metadata": {},
   "source": [
    "::::{exercise}\n",
    ":label: ex:mod_inverse\n",
    "\n",
    "Implement your own modular inverse using the [Extended Euclidean Algorithm](https://en.wikipedia.org/wiki/Modular_multiplicative_inverse#Computation) instead of `pow`.\n",
    "\n",
    "::::"
   ]
  },
  {
   "cell_type": "code",
   "execution_count": null,
   "id": "66db00ef",
   "metadata": {
    "deletable": false,
    "nbgrader": {
     "cell_type": "code",
     "checksum": "4c45bf1598d7044fafe258d2b311f1c3",
     "grade": false,
     "grade_id": "mod_inverse",
     "locked": false,
     "schema_version": 3,
     "solution": true,
     "task": false
    }
   },
   "outputs": [],
   "source": [
    "def mod_inverse(e, n):\n",
    "    \"\"\"\n",
    "    Return the modular multiplicative inverse of e mod n, or\n",
    "    None if no inverse exists.\n",
    "    \"\"\"\n",
    "    # YOUR CODE HERE\n",
    "    raise NotImplementedError"
   ]
  },
  {
   "cell_type": "code",
   "execution_count": null,
   "id": "23054704",
   "metadata": {
    "deletable": false,
    "editable": false,
    "nbgrader": {
     "cell_type": "code",
     "checksum": "59e9badb73f1b1eb3425940d2ac16288",
     "grade": true,
     "grade_id": "test-mod_inverse",
     "locked": true,
     "points": 0,
     "schema_version": 3,
     "solution": false,
     "task": false
    }
   },
   "outputs": [],
   "source": [
    "# tests\n",
    "p = 7\n",
    "assert [mod_inverse(e, p - 1) for e in range(p - 1)] == [None, 1, None, None, None, 5]"
   ]
  },
  {
   "cell_type": "markdown",
   "id": "9430cf0c",
   "metadata": {},
   "source": [
    "**How to make it difficult to compute $d$?**"
   ]
  },
  {
   "cell_type": "markdown",
   "id": "0803369e",
   "metadata": {},
   "source": [
    "RSA makes use of the hardness of factoring a product of large primes to create the desired trapdoor function."
   ]
  },
  {
   "cell_type": "markdown",
   "id": "ae09306d",
   "metadata": {},
   "source": [
    "::::{prf:theorem} RSA\n",
    ":label: thm:rsa\n",
    "\n",
    "For the product $n:=pq$ of any prime numbers $p$ and $q$,\n",
    "\n",
    "$$\n",
    "x^{m \\lambda(n)} \\equiv 1 \\mod n\n",
    "$$ (eq:rsa)\n",
    "\n",
    "for all $x\\in \\Set{1,\\dots, n-1}$, where \n",
    "\n",
    "$$\n",
    "\\lambda(n) := \\operatorname{lcm}(p-1, q-1),\n",
    "$$ (eq:lambda)\n",
    "\n",
    "called the [Carmichael function](https://en.wikipedia.org/wiki/Carmichael_function), is the least common multiple (lcm) of $p-1$ and $q-1$. \n",
    "\n",
    "::::"
   ]
  },
  {
   "cell_type": "markdown",
   "id": "e54cedb1",
   "metadata": {},
   "source": [
    "::::{prf:proof} [](#thm:rsa)\n",
    ":nonumber:\n",
    ":class: dropdown\n",
    "\n",
    "With $m(p-1)$ in [](#eq:fermat-m) being the least common multiple $\\operatorname{lcm}(p-1,q-1)$ for another prime number $q$, we have\n",
    "\n",
    "$$\n",
    "\\begin{align}\n",
    "x^{\\operatorname{lcm}(p-1, q-1)} &\\equiv 1 \\mod p && \\text{and}\\\\\n",
    "x^{\\operatorname{lcm}(p-1, q-1)} &\\equiv 1 \\mod q && \\text{by symmetry.}\n",
    "\\end{align}\n",
    "$$\n",
    "\n",
    "This implies $x^{\\operatorname{lcm}(p-1, q-1)} - 1$ is divisible by both $p$ and $q$, and so\n",
    "\n",
    "$$\n",
    "x^{\\operatorname{lcm}(p-1, q-1)} \\equiv 1 \\mod p q.\n",
    "$$\n",
    "\n",
    "Raising both sides to the power of any positive integer $m$ gives [](#eq:rsa).\n",
    "\n",
    "::::"
   ]
  },
  {
   "cell_type": "markdown",
   "id": "b37c8d8e",
   "metadata": {},
   "source": [
    "::::{prf:definition} RSA key generation\n",
    ":label: def:rsa-key\n",
    "\n",
    "To generate the public and private keys for the RSA encryption and decryption in [](#def:rsa):\n",
    "\n",
    "1. Generate two distinct large prime numbers $p$ and $q$ and set $n := pq$.\n",
    "2. Choose $e$ from $\\mathcal{K}$ defined to be the subset of numbers from $\\Set{3,\\dots,\\lambda(n)-1}$ coprime to $\\lambda(n)$ defined in [](#eq:lambda).\n",
    "3. Compute $d$ from $\\mathcal{K}$ as the modular multiplicative inverse of $e$ with respect to $\\lambda(n)$ as in [](#eq:mod_inverse).\n",
    "\n",
    "::::"
   ]
  },
  {
   "cell_type": "markdown",
   "id": "fd8c2f75",
   "metadata": {},
   "source": [
    "The choice of $e$ guarantees a multiplicative inverse $d$ exists by [](#pro:mod_inverse). Note that $2$ is excluded from $\\mathcal{K}$ because $\\lambda(n)$ must be an even number. (Why?)"
   ]
  },
  {
   "cell_type": "markdown",
   "id": "8af06013",
   "metadata": {},
   "source": [
    "::::{exercise}\n",
    ":label: ex:rsa:decryptability\n",
    "\n",
    "Prove that RSA is decryptable [](#eq:rsa:decryptability) with the choice of the keys in [](#def:rsa-key).\n",
    "\n",
    "::::"
   ]
  },
  {
   "cell_type": "markdown",
   "id": "c0880c24",
   "metadata": {},
   "source": [
    "::::{solution} ex:rsa:decryptability\n",
    ":class: dropdown\n",
    "\n",
    ":::{prf:proof}\n",
    ":nonumber:\n",
    "\n",
    "By [](#eq:mod_inverse),\n",
    "\n",
    "\\begin{align}\n",
    "ed &\\equiv 1 \\mod \\lambda(n)\\\\\n",
    "ed - 1 &= m\\lambda(n) &&\\text{for some integer $m$}\\\\\n",
    "\\end{align}\n",
    "$$ (ed)\n",
    "\n",
    "which implies [](#eq:rsa:decryptability2) by [](#eq:rsa).\n",
    "\n",
    "Furthermore, computing $d$ is as hard as computing $\\operatorname{lcm}(p-1, q-1)$ or factoring $n$.\n",
    ":::\n",
    "::::"
   ]
  },
  {
   "cell_type": "markdown",
   "id": "c4d1b020",
   "metadata": {},
   "source": [
    "::::{seealso} Is it secure?\n",
    "\n",
    "Although $d$ can be computed as the modular multiplicative inverse of $e$, it is with respect to $\\operatorname{lcm}(p-1, q-1)$, which is not easy to compute without knowing the factors of $n$, namely $p$ and $q$. It was shown in the [original paper](https://doi.org/10.1145/359340.359342) that computing $d$ is as hard as computing $\\operatorname{lcm}(p-1, q-1)$ or factoring $n$.\n",
    "\n",
    "::::"
   ]
  },
  {
   "cell_type": "markdown",
   "id": "c179d97b",
   "metadata": {},
   "source": [
    "**How to generate the public key and private key?**"
   ]
  },
  {
   "cell_type": "markdown",
   "id": "af6fe01a",
   "metadata": {},
   "source": [
    "By {eq}`ed`, we can compute $d$ as the modular multiplicative inverse of $e$. How to choose $e$ then?"
   ]
  },
  {
   "cell_type": "markdown",
   "id": "170ae8dd",
   "metadata": {},
   "source": [
    "We can choose any $e \\in \\{1, \\dots, \\operatorname{lcm}(p-1, q-1)\\}$ such that $e$ does not divide $\\operatorname{lcm}(p-1, q-1)$."
   ]
  },
  {
   "cell_type": "markdown",
   "id": "bd5f55ed",
   "metadata": {},
   "source": [
    "::::{exercise}\n",
    ":label: ex:get_rsa_keys\n",
    "\n",
    "Complete the following function to randomly generates the `e, d, n` for some given prime numbers `p` and `q`.\n",
    "\n",
    ":::{hint}\n",
    ":class: dropdown\n",
    "\n",
    "Note that\n",
    "\n",
    "$$\n",
    "\\operatorname{lcm}(p-1, q-1) = \\frac{(p-1)(q-1)}{\\operatorname{gcd}(p-1, q-1)}.\n",
    "$$\n",
    "\n",
    ":::\n",
    "\n",
    "::::"
   ]
  },
  {
   "cell_type": "code",
   "execution_count": null,
   "id": "c923530d",
   "metadata": {
    "deletable": false,
    "nbgrader": {
     "cell_type": "code",
     "checksum": "b65c2d6ec233152afe1d564993115f3c",
     "grade": false,
     "grade_id": "get_rsa_keys",
     "locked": false,
     "schema_version": 3,
     "solution": true,
     "task": false
    }
   },
   "outputs": [],
   "source": [
    "from math import gcd\n",
    "from random import randint\n",
    "\n",
    "\n",
    "def get_rsa_keys(p, q):\n",
    "    n = p * q\n",
    "    lcm = (p - 1) * (q - 1) // gcd(p - 1, q - 1)\n",
    "    while True:\n",
    "        e = randint(2, lcm - 1)\n",
    "        # YOUR CODE HERE\n",
    "        raise NotImplementedError\n",
    "    d = pow(e, -1, lcm)\n",
    "    return e, d, n, lcm"
   ]
  },
  {
   "cell_type": "markdown",
   "id": "d9340b75",
   "metadata": {},
   "source": [
    "As an example, if we choose two prime numbers $p=17094589121$ and $q=1062873761$:"
   ]
  },
  {
   "cell_type": "code",
   "execution_count": null,
   "id": "6a69e2ae",
   "metadata": {
    "deletable": false,
    "editable": false,
    "nbgrader": {
     "cell_type": "code",
     "checksum": "ac2272a6d5455a90da30df512345d03b",
     "grade": true,
     "grade_id": "test1-get_rsa_keys",
     "locked": true,
     "points": 0,
     "schema_version": 3,
     "solution": false,
     "task": false
    }
   },
   "outputs": [],
   "source": [
    "e, d, n, lcm = get_rsa_keys(17094589121, 1062873761)\n",
    "assert e * d % lcm == 1\n",
    "print(\n",
    "    f\"\"\"Public key : k = (e, n) = ({e}, {n})\n",
    "Private key: l = (d, n) = ({d}, {n})\"\"\"\n",
    ")"
   ]
  },
  {
   "cell_type": "markdown",
   "id": "4e502451",
   "metadata": {},
   "source": [
    "The integer $1302$ can be encrypted using the public key as follows:"
   ]
  },
  {
   "cell_type": "code",
   "execution_count": null,
   "id": "3b417376",
   "metadata": {},
   "outputs": [],
   "source": [
    "x = 1302\n",
    "y = pow(x, e, n)\n",
    "print(f'The plaintext {x} gets encrypted into {y}.')"
   ]
  },
  {
   "cell_type": "markdown",
   "id": "d13301e5",
   "metadata": {},
   "source": [
    "With the private key, the ciphertext can be decrypted easily as follows:"
   ]
  },
  {
   "cell_type": "code",
   "execution_count": null,
   "id": "d7270c40",
   "metadata": {},
   "outputs": [],
   "source": [
    "output = pow(y, d, n)\n",
    "print(f'The ciphertext {y} gets decrypted into {output}.')"
   ]
  },
  {
   "cell_type": "markdown",
   "id": "89f20340",
   "metadata": {},
   "source": [
    "To complete the implementation of RSA, we need to generate large prime numbers. Computing large prime numbers or testing the primality of a large number is difficult. (See the [largest known prime number](https://docs.github.com/en/authentication/connecting-to-github-with-ssh/generating-a-new-ssh-key-and-adding-it-to-the-ssh-agent).) Fortunately, there are approximate primality test that is fast, e.g., the [Rabin-Miller test](https://en.wikipedia.org/wiki/Miller%E2%80%93Rabin_primality_test). An implementation is available from `sympy`:"
   ]
  },
  {
   "cell_type": "code",
   "execution_count": null,
   "id": "96567d12",
   "metadata": {},
   "outputs": [],
   "source": [
    "import sympy as sp\n",
    "\n",
    "x = 531137992816767098689588206552468627329593117727031923199444138200403559860852242739162502265229285668889329486246501015346579337652707239409519978766587351943831270835393219031728127\n",
    "sp.isprime(x)"
   ]
  },
  {
   "cell_type": "markdown",
   "id": "5b34a864",
   "metadata": {},
   "source": [
    "As the docstring of [`isprime`](https://docs.sympy.org/latest/modules/ntheory.html#sympy.ntheory.primetest.isprime) mentioned, there is a small chance of false positive, but this is acceptable as there is no known cases.\n",
    "\n",
    "```\n",
    "Test if n is a prime number (True) or not (False). For n < 2^64 the\n",
    "answer is definitive; larger n values have a small probability of actually\n",
    "being pseudoprimes.\n",
    "\n",
    "Negative numbers (e.g. -2) are not considered prime.\n",
    "\n",
    "The first step is looking for trivial factors, which if found enables\n",
    "a quick return.  Next, if the sieve is large enough, use bisection search\n",
    "on the sieve.  For small numbers, a set of deterministic Miller-Rabin\n",
    "tests are performed with bases that are known to have no counterexamples\n",
    "in their range.  Finally if the number is larger than 2^64, a strong\n",
    "BPSW test is performed.  While this is a probable prime test and we\n",
    "believe counterexamples exist, there are no known counterexamples.\n",
    "```"
   ]
  },
  {
   "cell_type": "markdown",
   "id": "15b505c3",
   "metadata": {},
   "source": [
    "::::{seealso} RSA package\n",
    "\n",
    "There is a module called `rsa` to [generate a RSA key pair](https://stuvel.eu/python-rsa-doc/usage.html#generating-keys). You can also use `ssh-keygen` command in a linux terminal to generate an RSA key for [secure remote access to a server such as GitHub](https://docs.github.com/en/authentication/connecting-to-github-with-ssh/generating-a-new-ssh-key-and-adding-it-to-the-ssh-agent).\n",
    "\n",
    "::::"
   ]
  }
 ],
 "metadata": {
  "kernelspec": {
   "display_name": "Python 3 (ipykernel)",
   "language": "python",
   "name": "python3"
  }
 },
 "nbformat": 4,
 "nbformat_minor": 5
}
